{
 "cells": [
  {
   "cell_type": "code",
   "execution_count": 1,
   "id": "84580ee0",
   "metadata": {},
   "outputs": [],
   "source": [
    "#main\n",
    "import pandas as pd\n",
    "import numpy as np\n",
    "import math\n",
    "import sklearn\n",
    "\n",
    "#graphic\n",
    "import matplotlib\n",
    "import matplotlib.pyplot as plt\n",
    "import seaborn as sns \n",
    "%matplotlib inline\n",
    "\n",
    "#specific\n",
    "from sklearn.preprocessing import MinMaxScaler\n",
    "from sklearn.preprocessing import StandardScaler\n",
    "from sklearn.preprocessing import OneHotEncoder\n",
    "from sklearn.preprocessing import LabelEncoder\n",
    "from sklearn.model_selection import train_test_split\n",
    "from sklearn import linear_model\n",
    "from sklearn.linear_model import LinearRegression\n",
    "from sklearn.feature_selection import SelectKBest\n",
    "from sklearn.feature_selection import chi2\n",
    "from sklearn.utils import resample\n",
    "from sklearn.ensemble import RandomForestRegressor\n",
    "from sklearn.datasets import make_regression\n",
    "from random import randint\n",
    "from sklearn.metrics import mean_absolute_error,mean_squared_error, r2_score\n",
    "\n",
    "#options\n",
    "pd.set_option('display.max_columns', None) #show all the columns\n",
    "pd.set_option('display.max_rows', None) #show all the rows\n"
   ]
  },
  {
   "cell_type": "code",
   "execution_count": 2,
   "id": "16ab1921",
   "metadata": {},
   "outputs": [],
   "source": [
    "# Load data"
   ]
  },
  {
   "cell_type": "code",
   "execution_count": 3,
   "id": "56261168",
   "metadata": {},
   "outputs": [],
   "source": [
    "m1 = pd.read_csv('cleaned_measurements.csv')\n"
   ]
  },
  {
   "cell_type": "code",
   "execution_count": 4,
   "id": "778d24cc",
   "metadata": {},
   "outputs": [
    {
     "data": {
      "text/html": [
       "<div>\n",
       "<style scoped>\n",
       "    .dataframe tbody tr th:only-of-type {\n",
       "        vertical-align: middle;\n",
       "    }\n",
       "\n",
       "    .dataframe tbody tr th {\n",
       "        vertical-align: top;\n",
       "    }\n",
       "\n",
       "    .dataframe thead th {\n",
       "        text-align: right;\n",
       "    }\n",
       "</style>\n",
       "<table border=\"1\" class=\"dataframe\">\n",
       "  <thead>\n",
       "    <tr style=\"text-align: right;\">\n",
       "      <th></th>\n",
       "      <th>Unnamed: 0</th>\n",
       "      <th>distance</th>\n",
       "      <th>consume</th>\n",
       "      <th>speed</th>\n",
       "      <th>temp_inside</th>\n",
       "      <th>temp_outside</th>\n",
       "      <th>gas_type</th>\n",
       "      <th>ac</th>\n",
       "      <th>rain</th>\n",
       "      <th>sun</th>\n",
       "      <th>temp_difference</th>\n",
       "    </tr>\n",
       "  </thead>\n",
       "  <tbody>\n",
       "    <tr>\n",
       "      <th>0</th>\n",
       "      <td>0</td>\n",
       "      <td>28.0</td>\n",
       "      <td>5.0</td>\n",
       "      <td>26</td>\n",
       "      <td>21.5</td>\n",
       "      <td>12</td>\n",
       "      <td>E10</td>\n",
       "      <td>0</td>\n",
       "      <td>0</td>\n",
       "      <td>0</td>\n",
       "      <td>9.5</td>\n",
       "    </tr>\n",
       "    <tr>\n",
       "      <th>1</th>\n",
       "      <td>1</td>\n",
       "      <td>12.0</td>\n",
       "      <td>4.2</td>\n",
       "      <td>30</td>\n",
       "      <td>21.5</td>\n",
       "      <td>13</td>\n",
       "      <td>E10</td>\n",
       "      <td>0</td>\n",
       "      <td>0</td>\n",
       "      <td>0</td>\n",
       "      <td>8.5</td>\n",
       "    </tr>\n",
       "    <tr>\n",
       "      <th>2</th>\n",
       "      <td>2</td>\n",
       "      <td>11.2</td>\n",
       "      <td>5.5</td>\n",
       "      <td>38</td>\n",
       "      <td>21.5</td>\n",
       "      <td>15</td>\n",
       "      <td>E10</td>\n",
       "      <td>0</td>\n",
       "      <td>0</td>\n",
       "      <td>0</td>\n",
       "      <td>6.5</td>\n",
       "    </tr>\n",
       "    <tr>\n",
       "      <th>3</th>\n",
       "      <td>3</td>\n",
       "      <td>12.9</td>\n",
       "      <td>3.9</td>\n",
       "      <td>36</td>\n",
       "      <td>21.5</td>\n",
       "      <td>14</td>\n",
       "      <td>E10</td>\n",
       "      <td>0</td>\n",
       "      <td>0</td>\n",
       "      <td>0</td>\n",
       "      <td>7.5</td>\n",
       "    </tr>\n",
       "    <tr>\n",
       "      <th>4</th>\n",
       "      <td>4</td>\n",
       "      <td>18.5</td>\n",
       "      <td>4.5</td>\n",
       "      <td>46</td>\n",
       "      <td>21.5</td>\n",
       "      <td>15</td>\n",
       "      <td>E10</td>\n",
       "      <td>0</td>\n",
       "      <td>0</td>\n",
       "      <td>0</td>\n",
       "      <td>6.5</td>\n",
       "    </tr>\n",
       "  </tbody>\n",
       "</table>\n",
       "</div>"
      ],
      "text/plain": [
       "   Unnamed: 0  distance  consume  speed  temp_inside  temp_outside gas_type  \\\n",
       "0           0      28.0      5.0     26         21.5            12      E10   \n",
       "1           1      12.0      4.2     30         21.5            13      E10   \n",
       "2           2      11.2      5.5     38         21.5            15      E10   \n",
       "3           3      12.9      3.9     36         21.5            14      E10   \n",
       "4           4      18.5      4.5     46         21.5            15      E10   \n",
       "\n",
       "   ac  rain  sun  temp_difference  \n",
       "0   0     0    0              9.5  \n",
       "1   0     0    0              8.5  \n",
       "2   0     0    0              6.5  \n",
       "3   0     0    0              7.5  \n",
       "4   0     0    0              6.5  "
      ]
     },
     "execution_count": 4,
     "metadata": {},
     "output_type": "execute_result"
    }
   ],
   "source": [
    "m1.head()"
   ]
  },
  {
   "cell_type": "code",
   "execution_count": 5,
   "id": "c2feaaf4",
   "metadata": {},
   "outputs": [
    {
     "data": {
      "text/plain": [
       "Unnamed: 0           int64\n",
       "distance           float64\n",
       "consume            float64\n",
       "speed                int64\n",
       "temp_inside        float64\n",
       "temp_outside         int64\n",
       "gas_type            object\n",
       "ac                   int64\n",
       "rain                 int64\n",
       "sun                  int64\n",
       "temp_difference    float64\n",
       "dtype: object"
      ]
     },
     "execution_count": 5,
     "metadata": {},
     "output_type": "execute_result"
    }
   ],
   "source": [
    "m1.dtypes"
   ]
  },
  {
   "cell_type": "code",
   "execution_count": 6,
   "id": "930e864f",
   "metadata": {},
   "outputs": [
    {
     "data": {
      "text/plain": [
       "0"
      ]
     },
     "execution_count": 6,
     "metadata": {},
     "output_type": "execute_result"
    }
   ],
   "source": [
    "m1.isna().sum().sum()"
   ]
  },
  {
   "cell_type": "markdown",
   "id": "cccfa35a",
   "metadata": {},
   "source": [
    "Note from kaggle.com: In the file, you will find the displayed distance (km); the consume (L/100km); the average speed (km/h), the temperature i had inside (°C), the temperature outside (°C), anything special that happened, if it was raining, if the air condition was on, if it was sunny enough that the car felt warm when i started it… and yes - the gas type i was using. I have also two columns saying how much and which gas type I was buying. Careful with those. The numbers don't add exactly up, because I note only the rides that occur under certain conditions: If the car was not cooling down enough to have another independent measure from the one before, i don't note it."
   ]
  },
  {
   "cell_type": "markdown",
   "id": "fec44149",
   "metadata": {},
   "source": [
    "# Pre-model steps"
   ]
  },
  {
   "cell_type": "markdown",
   "id": "b60d6ecc",
   "metadata": {},
   "source": [
    "## Check multicollinearity"
   ]
  },
  {
   "cell_type": "code",
   "execution_count": 7,
   "id": "78e92324",
   "metadata": {},
   "outputs": [],
   "source": [
    "numericals_df=m1.select_dtypes(np.number)\n",
    "categoricals_df=m1.select_dtypes(object)\n"
   ]
  },
  {
   "cell_type": "code",
   "execution_count": 8,
   "id": "6fe99344",
   "metadata": {},
   "outputs": [
    {
     "data": {
      "image/png": "[encoded data removed]",
      "text/plain": [
       "<Figure size 576x576 with 2 Axes>"
      ]
     },
     "metadata": {
      "needs_background": "light"
     },
     "output_type": "display_data"
    }
   ],
   "source": [
    "fig, ax = plt.subplots(figsize=(8,8)) #First we have to use plt.subplots to create plot environment.\n",
    "ax=sns.heatmap(round(numericals_df.corr(),2), annot=True)\n",
    "plt.show()"
   ]
  },
  {
   "cell_type": "markdown",
   "id": "795927c9",
   "metadata": {},
   "source": [
    "## X-y split"
   ]
  },
  {
   "cell_type": "code",
   "execution_count": 9,
   "id": "812d8ec0",
   "metadata": {},
   "outputs": [
    {
     "data": {
      "text/plain": [
       "(388,)"
      ]
     },
     "metadata": {},
     "output_type": "display_data"
    },
    {
     "data": {
      "text/plain": [
       "(388, 9)"
      ]
     },
     "metadata": {},
     "output_type": "display_data"
    }
   ],
   "source": [
    "X = m1.drop(['Unnamed: 0','consume'], axis=1)\n",
    "y= m1['consume']\n",
    "\n",
    "display(y.shape)\n",
    "display(X.shape)"
   ]
  },
  {
   "cell_type": "markdown",
   "id": "5578c011",
   "metadata": {},
   "source": [
    "## Train - test split"
   ]
  },
  {
   "cell_type": "code",
   "execution_count": 10,
   "id": "a841807d",
   "metadata": {},
   "outputs": [],
   "source": [
    "from sklearn.model_selection import train_test_split\n",
    "X_train, X_test, y_train, y_test = train_test_split(X, y, test_size=0.2, random_state=42)"
   ]
  },
  {
   "cell_type": "markdown",
   "id": "365b7c7f",
   "metadata": {},
   "source": [
    "## Numerical Categorical Split"
   ]
  },
  {
   "cell_type": "code",
   "execution_count": 11,
   "id": "ecb7d7bd",
   "metadata": {},
   "outputs": [],
   "source": [
    "X_train_cat = X_train.select_dtypes(include = object)\n",
    "X_test_cat = X_test.select_dtypes(include = object)\n",
    "X_train_num = X_train.select_dtypes(include = np.number)\n",
    "X_test_num = X_test.select_dtypes(include = np.number)"
   ]
  },
  {
   "cell_type": "markdown",
   "id": "da9d4ed6",
   "metadata": {},
   "source": [
    "# Modeling"
   ]
  },
  {
   "cell_type": "markdown",
   "id": "b6b726a5",
   "metadata": {},
   "source": [
    "## Scale & Encode"
   ]
  },
  {
   "cell_type": "code",
   "execution_count": 12,
   "id": "6f1131ec",
   "metadata": {},
   "outputs": [],
   "source": [
    "scaler = MinMaxScaler().fit(X_train_num)\n",
    "encoder = OneHotEncoder().fit(X_train_cat)"
   ]
  },
  {
   "cell_type": "code",
   "execution_count": 13,
   "id": "c3c573ee",
   "metadata": {},
   "outputs": [],
   "source": [
    "def transform(dataframe):\n",
    "    # This function assumes that you have initialized a scaler and an encoder, based on the training data\n",
    "    cat = dataframe.select_dtypes(include = object)\n",
    "    num = dataframe.select_dtypes(include = np.number)\n",
    "\n",
    "    if not cat.empty:\n",
    "        cat_transformed = encoder.transform(cat)\n",
    "        cat_transformed = cat_transformed.toarray()\n",
    "        cat_new = pd.DataFrame(data = cat_transformed, columns = encoder.get_feature_names_out())\n",
    "    else: \n",
    "        cat_new = cat\n",
    "    \n",
    "    if not num.empty:\n",
    "        num_transformed = scaler.transform(num)\n",
    "        num_new = pd.DataFrame(data = num_transformed, columns = num.columns)\n",
    "    else:\n",
    "        num_new = num\n",
    "    \n",
    "    return pd.concat([cat_new, num_new], axis = 1)\n"
   ]
  },
  {
   "cell_type": "code",
   "execution_count": 14,
   "id": "cfacbe9f",
   "metadata": {},
   "outputs": [],
   "source": [
    "X_train = transform(X_train)\n",
    "X_test = transform(X_test)"
   ]
  },
  {
   "cell_type": "code",
   "execution_count": 15,
   "id": "92ab3a3c",
   "metadata": {},
   "outputs": [
    {
     "data": {
      "text/plain": [
       "0"
      ]
     },
     "execution_count": 15,
     "metadata": {},
     "output_type": "execute_result"
    }
   ],
   "source": [
    "X_train.isna().sum().sum()"
   ]
  },
  {
   "cell_type": "code",
   "execution_count": 16,
   "id": "73f199a9",
   "metadata": {},
   "outputs": [
    {
     "data": {
      "text/html": [
       "<div>\n",
       "<style scoped>\n",
       "    .dataframe tbody tr th:only-of-type {\n",
       "        vertical-align: middle;\n",
       "    }\n",
       "\n",
       "    .dataframe tbody tr th {\n",
       "        vertical-align: top;\n",
       "    }\n",
       "\n",
       "    .dataframe thead th {\n",
       "        text-align: right;\n",
       "    }\n",
       "</style>\n",
       "<table border=\"1\" class=\"dataframe\">\n",
       "  <thead>\n",
       "    <tr style=\"text-align: right;\">\n",
       "      <th></th>\n",
       "      <th>gas_type_E10</th>\n",
       "      <th>gas_type_SP98</th>\n",
       "      <th>distance</th>\n",
       "      <th>speed</th>\n",
       "      <th>temp_inside</th>\n",
       "      <th>temp_outside</th>\n",
       "      <th>ac</th>\n",
       "      <th>rain</th>\n",
       "      <th>sun</th>\n",
       "      <th>temp_difference</th>\n",
       "    </tr>\n",
       "  </thead>\n",
       "  <tbody>\n",
       "    <tr>\n",
       "      <th>0</th>\n",
       "      <td>0.0</td>\n",
       "      <td>1.0</td>\n",
       "      <td>0.025605</td>\n",
       "      <td>0.157895</td>\n",
       "      <td>0.384615</td>\n",
       "      <td>0.305556</td>\n",
       "      <td>0.0</td>\n",
       "      <td>0.0</td>\n",
       "      <td>0.0</td>\n",
       "      <td>0.691176</td>\n",
       "    </tr>\n",
       "    <tr>\n",
       "      <th>1</th>\n",
       "      <td>1.0</td>\n",
       "      <td>0.0</td>\n",
       "      <td>0.048883</td>\n",
       "      <td>0.342105</td>\n",
       "      <td>0.538462</td>\n",
       "      <td>0.194444</td>\n",
       "      <td>0.0</td>\n",
       "      <td>0.0</td>\n",
       "      <td>0.0</td>\n",
       "      <td>0.838235</td>\n",
       "    </tr>\n",
       "    <tr>\n",
       "      <th>2</th>\n",
       "      <td>0.0</td>\n",
       "      <td>1.0</td>\n",
       "      <td>0.068901</td>\n",
       "      <td>0.250000</td>\n",
       "      <td>0.384615</td>\n",
       "      <td>0.305556</td>\n",
       "      <td>0.0</td>\n",
       "      <td>0.0</td>\n",
       "      <td>0.0</td>\n",
       "      <td>0.691176</td>\n",
       "    </tr>\n",
       "    <tr>\n",
       "      <th>3</th>\n",
       "      <td>0.0</td>\n",
       "      <td>1.0</td>\n",
       "      <td>0.115922</td>\n",
       "      <td>0.750000</td>\n",
       "      <td>0.307692</td>\n",
       "      <td>0.361111</td>\n",
       "      <td>1.0</td>\n",
       "      <td>1.0</td>\n",
       "      <td>0.0</td>\n",
       "      <td>0.617647</td>\n",
       "    </tr>\n",
       "    <tr>\n",
       "      <th>4</th>\n",
       "      <td>0.0</td>\n",
       "      <td>1.0</td>\n",
       "      <td>0.068436</td>\n",
       "      <td>0.421053</td>\n",
       "      <td>0.461538</td>\n",
       "      <td>0.611111</td>\n",
       "      <td>0.0</td>\n",
       "      <td>0.0</td>\n",
       "      <td>0.0</td>\n",
       "      <td>0.382353</td>\n",
       "    </tr>\n",
       "  </tbody>\n",
       "</table>\n",
       "</div>"
      ],
      "text/plain": [
       "   gas_type_E10  gas_type_SP98  distance     speed  temp_inside  temp_outside  \\\n",
       "0           0.0            1.0  0.025605  0.157895     0.384615      0.305556   \n",
       "1           1.0            0.0  0.048883  0.342105     0.538462      0.194444   \n",
       "2           0.0            1.0  0.068901  0.250000     0.384615      0.305556   \n",
       "3           0.0            1.0  0.115922  0.750000     0.307692      0.361111   \n",
       "4           0.0            1.0  0.068436  0.421053     0.461538      0.611111   \n",
       "\n",
       "    ac  rain  sun  temp_difference  \n",
       "0  0.0   0.0  0.0         0.691176  \n",
       "1  0.0   0.0  0.0         0.838235  \n",
       "2  0.0   0.0  0.0         0.691176  \n",
       "3  1.0   1.0  0.0         0.617647  \n",
       "4  0.0   0.0  0.0         0.382353  "
      ]
     },
     "execution_count": 16,
     "metadata": {},
     "output_type": "execute_result"
    }
   ],
   "source": [
    "X_train.head()"
   ]
  },
  {
   "cell_type": "markdown",
   "id": "182a558f",
   "metadata": {},
   "source": [
    "## Model selection pipeline"
   ]
  },
  {
   "cell_type": "code",
   "execution_count": 17,
   "id": "b20c2379",
   "metadata": {},
   "outputs": [],
   "source": [
    "from sklearn.tree import DecisionTreeRegressor\n",
    "from sklearn.model_selection import cross_val_score\n",
    "from sklearn.model_selection import train_test_split"
   ]
  },
  {
   "cell_type": "code",
   "execution_count": 18,
   "id": "a5f81ac1",
   "metadata": {},
   "outputs": [
    {
     "name": "stdout",
     "output_type": "stream",
     "text": [
      "{'Decision Tree Regressor': -0.17773611268851128, 'Linear Regression': 0.06820971641920556, 'KNN': 0.14206743834822586, 'Random Forest Regressor': 0.4478944875789038}\n"
     ]
    }
   ],
   "source": [
    "# building a pipeline to compare the models\n",
    "\n",
    "model1 = DecisionTreeRegressor() # does not care about the distance. Looks at similarity between the points regardless of the distance between them. We do not need scaling beforehand but it does not harm if you scale\n",
    "from sklearn.linear_model import LinearRegression # using 'distance' in the model (so the data needs to be scaled beforehand)\n",
    "model2 = LinearRegression()\n",
    "from sklearn.neighbors import KNeighborsRegressor # using 'distance' in the model (so the data needs to be scaled beforehand)\n",
    "model3 = KNeighborsRegressor()\n",
    "from sklearn.ensemble import RandomForestRegressor\n",
    "model4=RandomForestRegressor()\n",
    "\n",
    "model_pipeline = [model1, model2, model3, model4]\n",
    "model_names = ['Decision Tree Regressor', 'Linear Regression', 'KNN', 'Random Forest Regressor']\n",
    "scores = {}\n",
    "for model, model_name in zip(model_pipeline, model_names): #zip allows us to walk through the list\n",
    "    mean_score = np.mean(cross_val_score(model, X_train, y_train, cv=5)) #using the cross_val_score on (model, X_train, y_train, cv=10)\n",
    "    scores[model_name] = mean_score\n",
    "print(scores)\n",
    "\n",
    "# We can use the result to choose the best performing model"
   ]
  },
  {
   "cell_type": "code",
   "execution_count": 19,
   "id": "216bc93b",
   "metadata": {},
   "outputs": [
    {
     "name": "stdout",
     "output_type": "stream",
     "text": [
      "{'Decision Tree Regressor': -0.12198168494850559, 'Linear Regression': 0.09686276228792212, 'KNN': 0.0996507640329346, 'Random Forest Regressor': 0.5439821351636367}\n"
     ]
    }
   ],
   "source": [
    "test_scores = {}\n",
    "\n",
    "for model, model_name in zip(model_pipeline,model_names):\n",
    "    model.fit(X_train, y_train)\n",
    "    test_scores[model_name] = model.score(X_test,y_test)\n",
    "print(test_scores)"
   ]
  },
  {
   "cell_type": "code",
   "execution_count": null,
   "id": "70f8cf81",
   "metadata": {},
   "outputs": [],
   "source": [
    "# Random Forest regressor performs the best!"
   ]
  },
  {
   "cell_type": "markdown",
   "id": "4f84130f",
   "metadata": {},
   "source": [
    "## Metrics"
   ]
  },
  {
   "cell_type": "code",
   "execution_count": 20,
   "id": "547d5e98",
   "metadata": {},
   "outputs": [
    {
     "data": {
      "text/plain": [
       "0.9398626705499445"
      ]
     },
     "execution_count": 20,
     "metadata": {},
     "output_type": "execute_result"
    }
   ],
   "source": [
    "# train r2\n",
    "predictions = model4.predict(X_train)\n",
    "r2_score(y_train, predictions)"
   ]
  },
  {
   "cell_type": "code",
   "execution_count": 21,
   "id": "c07a06b4",
   "metadata": {},
   "outputs": [
    {
     "data": {
      "text/plain": [
       "0.5439821351636367"
      ]
     },
     "execution_count": 21,
     "metadata": {},
     "output_type": "execute_result"
    }
   ],
   "source": [
    "# test r2\n",
    "\n",
    "predictions_test = model4.predict(X_test)\n",
    "r2_score(y_test, predictions_test)"
   ]
  },
  {
   "cell_type": "code",
   "execution_count": 22,
   "id": "06394b7b",
   "metadata": {},
   "outputs": [
    {
     "data": {
      "text/plain": [
       "271    5.6\n",
       "46     5.1\n",
       "167    6.1\n",
       "42     4.6\n",
       "349    4.3\n",
       "181    7.1\n",
       "153    5.0\n",
       "33     4.8\n",
       "116    5.1\n",
       "148    4.7\n",
       "Name: consume, dtype: float64"
      ]
     },
     "execution_count": 22,
     "metadata": {},
     "output_type": "execute_result"
    }
   ],
   "source": [
    "y_test[:10]"
   ]
  },
  {
   "cell_type": "code",
   "execution_count": 23,
   "id": "e3862848",
   "metadata": {},
   "outputs": [
    {
     "data": {
      "text/plain": [
       "array([5.309, 5.291, 5.172, 4.532, 4.208, 5.228, 5.117, 4.704, 5.416,\n",
       "       4.555])"
      ]
     },
     "execution_count": 23,
     "metadata": {},
     "output_type": "execute_result"
    }
   ],
   "source": [
    "predictions_test[:10]\n"
   ]
  },
  {
   "cell_type": "code",
   "execution_count": 24,
   "id": "8ba784ad",
   "metadata": {},
   "outputs": [],
   "source": [
    "from sklearn.metrics import r2_score, mean_squared_error, mean_absolute_error\n",
    "from math import sqrt\n",
    "\n",
    "def scores(model, X, y):\n",
    "    predictions = model4.predict(X)\n",
    "\n",
    "    r2 = r2_score(y, predictions)\n",
    "    mse = mean_squared_error(y, predictions)\n",
    "    mae = mean_absolute_error(y, predictions)\n",
    "    rmse = sqrt(mse)\n",
    "\n",
    "    return r2, mse, mae, rmse"
   ]
  },
  {
   "cell_type": "code",
   "execution_count": 25,
   "id": "031aa194",
   "metadata": {},
   "outputs": [],
   "source": [
    "def print_metrics(r2, mse, mae, rmse):\n",
    "    print('Regression model metrics:') \n",
    "    print('Mean squared error: ', mse)\n",
    "    print('Mean absolute error:', mae)\n",
    "    print('Root mean squared error:', rmse)\n",
    "    print('r2:', r2)"
   ]
  },
  {
   "cell_type": "code",
   "execution_count": 26,
   "id": "3e5b32dc",
   "metadata": {},
   "outputs": [],
   "source": [
    "r2_train, mse_train, mae_train, rmse_train = scores(model4, X_train, y_train)"
   ]
  },
  {
   "cell_type": "code",
   "execution_count": 27,
   "id": "73218fb4",
   "metadata": {},
   "outputs": [
    {
     "name": "stdout",
     "output_type": "stream",
     "text": [
      "Regression model metrics:\n",
      "Mean squared error:  0.06640188074071005\n",
      "Mean absolute error: 0.1696999615975421\n",
      "Root mean squared error: 0.25768562385338856\n",
      "r2: 0.9398626705499445\n"
     ]
    }
   ],
   "source": [
    "print_metrics(r2_train, mse_train, mae_train, rmse_train) #train metrics"
   ]
  },
  {
   "cell_type": "code",
   "execution_count": 28,
   "id": "a06b0c67",
   "metadata": {},
   "outputs": [],
   "source": [
    "r2_test, mse_test, mae_test, rmse_test = scores(model4, X_test, y_test)"
   ]
  },
  {
   "cell_type": "code",
   "execution_count": 29,
   "id": "c1277160",
   "metadata": {},
   "outputs": [
    {
     "name": "stdout",
     "output_type": "stream",
     "text": [
      "Regression model metrics:\n",
      "Mean squared error:  0.413747767059495\n",
      "Mean absolute error: 0.42076205738705735\n",
      "Root mean squared error: 0.6432322807971433\n",
      "r2: 0.5439821351636367\n"
     ]
    }
   ],
   "source": [
    "print_metrics(r2_test, mse_test, mae_test, rmse_test) #test metrics"
   ]
  },
  {
   "cell_type": "code",
   "execution_count": 34,
   "id": "53db3248",
   "metadata": {},
   "outputs": [
    {
     "data": {
      "image/png": "[encoded data removed]",
      "text/plain": [
       "<Figure size 432x432 with 1 Axes>"
      ]
     },
     "metadata": {
      "needs_background": "light"
     },
     "output_type": "display_data"
    }
   ],
   "source": [
    "plt.figure(figsize=(6,6))\n",
    "plt.scatter(y_test, predictions_test, c='crimson')\n",
    "# plt.yscale('log')\n",
    "# plt.xscale('log')\n",
    "\n",
    "p1 = max(max(predictions_test), max(y_test))\n",
    "p2 = min(min(predictions_test), min(y_test))\n",
    "plt.plot([p1, p2], [p1, p2], 'b-')\n",
    "plt.xlabel('Actual consumption (L/100km)', fontsize=12)\n",
    "plt.ylabel('Predicted consumption (L/100km)', fontsize=12)\n",
    "plt.axis('equal')\n",
    "plt.show()"
   ]
  },
  {
   "cell_type": "code",
   "execution_count": 35,
   "id": "56ed2f20",
   "metadata": {},
   "outputs": [],
   "source": [
    "# Bar plot y_test vs predictions_test\n",
    "\n",
    "df = pd.DataFrame({'Actual consumption': y_test, 'Predicted consumption': predictions_test})\n"
   ]
  },
  {
   "cell_type": "code",
   "execution_count": 38,
   "id": "6f95c202",
   "metadata": {},
   "outputs": [
    {
     "data": {
      "text/html": [
       "<div>\n",
       "<style scoped>\n",
       "    .dataframe tbody tr th:only-of-type {\n",
       "        vertical-align: middle;\n",
       "    }\n",
       "\n",
       "    .dataframe tbody tr th {\n",
       "        vertical-align: top;\n",
       "    }\n",
       "\n",
       "    .dataframe thead th {\n",
       "        text-align: right;\n",
       "    }\n",
       "</style>\n",
       "<table border=\"1\" class=\"dataframe\">\n",
       "  <thead>\n",
       "    <tr style=\"text-align: right;\">\n",
       "      <th></th>\n",
       "      <th>Actual consumption</th>\n",
       "      <th>Predicted consumption</th>\n",
       "    </tr>\n",
       "  </thead>\n",
       "  <tbody>\n",
       "    <tr>\n",
       "      <th>180</th>\n",
       "      <td>4.9</td>\n",
       "      <td>5.165</td>\n",
       "    </tr>\n",
       "    <tr>\n",
       "      <th>168</th>\n",
       "      <td>4.6</td>\n",
       "      <td>4.774</td>\n",
       "    </tr>\n",
       "    <tr>\n",
       "      <th>265</th>\n",
       "      <td>3.9</td>\n",
       "      <td>5.318</td>\n",
       "    </tr>\n",
       "    <tr>\n",
       "      <th>155</th>\n",
       "      <td>5.2</td>\n",
       "      <td>5.187</td>\n",
       "    </tr>\n",
       "    <tr>\n",
       "      <th>335</th>\n",
       "      <td>3.8</td>\n",
       "      <td>4.143</td>\n",
       "    </tr>\n",
       "    <tr>\n",
       "      <th>237</th>\n",
       "      <td>4.8</td>\n",
       "      <td>5.299</td>\n",
       "    </tr>\n",
       "    <tr>\n",
       "      <th>376</th>\n",
       "      <td>4.3</td>\n",
       "      <td>4.145</td>\n",
       "    </tr>\n",
       "    <tr>\n",
       "      <th>317</th>\n",
       "      <td>4.7</td>\n",
       "      <td>4.657</td>\n",
       "    </tr>\n",
       "    <tr>\n",
       "      <th>45</th>\n",
       "      <td>9.9</td>\n",
       "      <td>8.742</td>\n",
       "    </tr>\n",
       "    <tr>\n",
       "      <th>46</th>\n",
       "      <td>5.1</td>\n",
       "      <td>5.291</td>\n",
       "    </tr>\n",
       "    <tr>\n",
       "      <th>30</th>\n",
       "      <td>5.3</td>\n",
       "      <td>5.055</td>\n",
       "    </tr>\n",
       "    <tr>\n",
       "      <th>173</th>\n",
       "      <td>4.9</td>\n",
       "      <td>4.609</td>\n",
       "    </tr>\n",
       "    <tr>\n",
       "      <th>322</th>\n",
       "      <td>4.1</td>\n",
       "      <td>3.935</td>\n",
       "    </tr>\n",
       "    <tr>\n",
       "      <th>280</th>\n",
       "      <td>3.9</td>\n",
       "      <td>3.940</td>\n",
       "    </tr>\n",
       "    <tr>\n",
       "      <th>18</th>\n",
       "      <td>4.9</td>\n",
       "      <td>4.809</td>\n",
       "    </tr>\n",
       "  </tbody>\n",
       "</table>\n",
       "</div>"
      ],
      "text/plain": [
       "     Actual consumption  Predicted consumption\n",
       "180                 4.9                  5.165\n",
       "168                 4.6                  4.774\n",
       "265                 3.9                  5.318\n",
       "155                 5.2                  5.187\n",
       "335                 3.8                  4.143\n",
       "237                 4.8                  5.299\n",
       "376                 4.3                  4.145\n",
       "317                 4.7                  4.657\n",
       "45                  9.9                  8.742\n",
       "46                  5.1                  5.291\n",
       "30                  5.3                  5.055\n",
       "173                 4.9                  4.609\n",
       "322                 4.1                  3.935\n",
       "280                 3.9                  3.940\n",
       "18                  4.9                  4.809"
      ]
     },
     "metadata": {},
     "output_type": "display_data"
    },
    {
     "data": {
      "image/png": "[encoded data removed]",
      "text/plain": [
       "<Figure size 720x360 with 1 Axes>"
      ]
     },
     "metadata": {
      "needs_background": "light"
     },
     "output_type": "display_data"
    }
   ],
   "source": [
    "# by taking the 15 of them\n",
    "df1 = df.sample(15)\n",
    "display (df1)\n",
    "\n",
    "#bar plot \n",
    "df1.plot(kind='bar',figsize=(10,5))\n",
    "#plt.grid(which='major', linestyle= '-', linewidth='0.5', color='green')\n",
    "#plt.grid(which='minor', linestyle=':', linewidth='0.5', color='black')\n",
    "plt.ylabel('Consumption (L/100km)', fontsize=12)\n",
    "plt.show()"
   ]
  },
  {
   "cell_type": "markdown",
   "id": "1f76a6b7",
   "metadata": {},
   "source": [
    "# Hypothesis testing"
   ]
  },
  {
   "cell_type": "code",
   "execution_count": 4,
   "id": "4cdf75e4",
   "metadata": {},
   "outputs": [],
   "source": [
    "# Hypothesis testing of the mean consumption based on SP98 and E10 (mean consumption comparison)\n"
   ]
  },
  {
   "cell_type": "code",
   "execution_count": 42,
   "id": "66c1c645",
   "metadata": {},
   "outputs": [
    {
     "data": {
      "text/plain": [
       "SP98    228\n",
       "E10     160\n",
       "Name: gas_type, dtype: int64"
      ]
     },
     "execution_count": 42,
     "metadata": {},
     "output_type": "execute_result"
    }
   ],
   "source": [
    "m1.gas_type.value_counts(dropna=False)"
   ]
  },
  {
   "cell_type": "code",
   "execution_count": 43,
   "id": "eb69d679",
   "metadata": {},
   "outputs": [],
   "source": [
    "m_sp98=m1[m1['gas_type']=='SP98']\n",
    "m_e10=m1[m1['gas_type']=='E10']"
   ]
  },
  {
   "cell_type": "code",
   "execution_count": 44,
   "id": "973942ad",
   "metadata": {},
   "outputs": [
    {
     "data": {
      "text/plain": [
       "4.899122807017543"
      ]
     },
     "execution_count": 44,
     "metadata": {},
     "output_type": "execute_result"
    }
   ],
   "source": [
    "m_sp98.consume.mean()"
   ]
  },
  {
   "cell_type": "code",
   "execution_count": 45,
   "id": "91f5934a",
   "metadata": {},
   "outputs": [
    {
     "data": {
      "text/plain": [
       "4.931250000000001"
      ]
     },
     "execution_count": 45,
     "metadata": {},
     "output_type": "execute_result"
    }
   ],
   "source": [
    "m_e10.consume.mean()"
   ]
  },
  {
   "cell_type": "code",
   "execution_count": 8,
   "id": "f4f097d5",
   "metadata": {},
   "outputs": [],
   "source": [
    "#I will test whether the mean consumption (L/100 km) significantly differs between gas type.\n",
    "\n",
    "# Two-sided test: (test for equality/inequality)\n",
    "# H0: mean consumption for SP98 = 4.931250000000001 which is = m_e10.consume.mean()\n",
    "# Alternative hyp or H1: mean age != 4.931250000000001 \n"
   ]
  },
  {
   "cell_type": "code",
   "execution_count": 41,
   "id": "d16a1c16",
   "metadata": {},
   "outputs": [
    {
     "name": "stderr",
     "output_type": "stream",
     "text": [
      "/Users/elifyildirim/opt/anaconda3/lib/python3.9/site-packages/seaborn/distributions.py:2619: FutureWarning: `distplot` is a deprecated function and will be removed in a future version. Please adapt your code to use either `displot` (a figure-level function with similar flexibility) or `histplot` (an axes-level function for histograms).\n",
      "  warnings.warn(msg, FutureWarning)\n"
     ]
    },
    {
     "data": {
      "image/png": "[encoded data removed]",
      "text/plain": [
       "<Figure size 432x288 with 1 Axes>"
      ]
     },
     "metadata": {
      "needs_background": "light"
     },
     "output_type": "display_data"
    }
   ],
   "source": [
    "sns.distplot(m1['consume'])\n",
    "plt.show()"
   ]
  },
  {
   "cell_type": "code",
   "execution_count": 46,
   "id": "9b048322",
   "metadata": {},
   "outputs": [],
   "source": [
    "from scipy.stats import ttest_1samp\n",
    "\n",
    "stat, pval = ttest_1samp(m_sp98['consume'], 4.931250000000001)"
   ]
  },
  {
   "cell_type": "code",
   "execution_count": 47,
   "id": "ed824c7f",
   "metadata": {},
   "outputs": [
    {
     "name": "stdout",
     "output_type": "stream",
     "text": [
      "stat is   -0.4337504908778175\n",
      "pvalue for the two-tailed test is  0.6648815703845685\n"
     ]
    }
   ],
   "source": [
    "print('stat is  ', stat)\n",
    "print('pvalue for the two-tailed test is ', pval)"
   ]
  },
  {
   "cell_type": "code",
   "execution_count": 13,
   "id": "bb141cfc",
   "metadata": {},
   "outputs": [],
   "source": [
    "# p value is NOT low. In this case, we fail to reject Ho. There is not enough evidence \n",
    "# suggesting that average consumption significantly varies between gas type!\n"
   ]
  },
  {
   "cell_type": "code",
   "execution_count": 48,
   "id": "fa3aa743",
   "metadata": {},
   "outputs": [
    {
     "data": {
      "text/plain": [
       "Index(['distance', 'speed', 'temp_inside', 'temp_outside', 'gas_type', 'ac',\n",
       "       'rain', 'sun', 'temp_difference'],\n",
       "      dtype='object')"
      ]
     },
     "execution_count": 48,
     "metadata": {},
     "output_type": "execute_result"
    }
   ],
   "source": [
    "X.columns"
   ]
  },
  {
   "cell_type": "code",
   "execution_count": null,
   "id": "20426c94",
   "metadata": {},
   "outputs": [],
   "source": []
  }
 ],
 "metadata": {
  "kernelspec": {
   "display_name": "Python 3 (ipykernel)",
   "language": "python",
   "name": "python3"
  },
  "language_info": {
   "codemirror_mode": {
    "name": "ipython",
    "version": 3
   },
   "file_extension": ".py",
   "mimetype": "text/x-python",
   "name": "python",
   "nbconvert_exporter": "python",
   "pygments_lexer": "ipython3",
   "version": "3.9.12"
  },
  "toc": {
   "base_numbering": 1,
   "nav_menu": {},
   "number_sections": true,
   "sideBar": true,
   "skip_h1_title": false,
   "title_cell": "Table of Contents",
   "title_sidebar": "Contents",
   "toc_cell": false,
   "toc_position": {},
   "toc_section_display": true,
   "toc_window_display": true
  }
 },
 "nbformat": 4,
 "nbformat_minor": 5
}
