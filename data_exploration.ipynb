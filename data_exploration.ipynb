{
 "cells": [
  {
   "cell_type": "markdown",
   "metadata": {},
   "source": [
    "### Business Objectives\n",
    "1. Find the best combustible & potentially try a more sustainable alternative\n",
    "2. Learn the optimal conditions for using the least combustible possible\n",
    "\n",
    "To fulfill the business objectives, we will:\n",
    "1. Analyze the consumption using different combustibles\n",
    "2. Analyze the factors that influence combustible consumption \n",
    "3. Analyze the cost advantages & disadvantages of various combustibles & conditions\n",
    "\n",
    "**Limitations** \n",
    "For this dataset, we are not controlling for the amount of fuel in the tank, which might have an impact on fuel consumption. If we were to use different datasets, we'd also have to control for car make & roads used."
   ]
  },
  {
   "cell_type": "markdown",
   "metadata": {},
   "source": [
    "### Data Exploration & Cleaning\n",
    "\n",
    "Some information about our dataset from the data owner on [Kaggle](https://www.kaggle.com/datasets/anderas/car-consume):\n",
    "\n",
    ">In the file, you will find the:\n",
    "> * displayed distance (km); \n",
    "> * the consume (L/100km); \n",
    "> * the average speed (km/h), \n",
    "> * the temperature i had inside (°C), \n",
    "> * the temperature outside (°C), \n",
    "> * anything special that happened, \n",
    "> * if it was raining, \n",
    "> * if the air condition was on, \n",
    "> * if it was sunny enough that the car felt warm when i started it… and yes - \n",
    "> * the gas type i was using. \n",
    "\n",
    ">I have also two columns saying how much and which gas type I was buying. Careful with those. The numbers don't add exactly up, because I note only the rides that occur under certain conditions: If the car was not cooling down enough to have another independent measure from the one before, i don't note it.\n",
    "\n",
    ">I started writing down the data in November, changed to SP98 in winter, and back to E10 in spring. Apart from that, the data is rather clean as i was doing my own project on it already."
   ]
  },
  {
   "cell_type": "code",
   "execution_count": 22,
   "metadata": {},
   "outputs": [],
   "source": [
    "import pandas as pd\n",
    "import numpy as np\n",
    "import matplotlib.pyplot as plt\n",
    "import seaborn as sns"
   ]
  },
  {
   "cell_type": "code",
   "execution_count": 23,
   "metadata": {},
   "outputs": [],
   "source": [
    "# Chose the Excel dataset as it already had the numbers correctly formatted as\n",
    "# floats instead of objects\n",
    "data = pd.read_excel(\"/home/sabina/Documents/2022_job_hunt/technical_tests/careerhack_challenge/technical_challenge_DA/data/measurements2.xlsx\")"
   ]
  },
  {
   "cell_type": "code",
   "execution_count": 24,
   "metadata": {},
   "outputs": [
    {
     "data": {
      "text/html": [
       "<div>\n",
       "<style scoped>\n",
       "    .dataframe tbody tr th:only-of-type {\n",
       "        vertical-align: middle;\n",
       "    }\n",
       "\n",
       "    .dataframe tbody tr th {\n",
       "        vertical-align: top;\n",
       "    }\n",
       "\n",
       "    .dataframe thead th {\n",
       "        text-align: right;\n",
       "    }\n",
       "</style>\n",
       "<table border=\"1\" class=\"dataframe\">\n",
       "  <thead>\n",
       "    <tr style=\"text-align: right;\">\n",
       "      <th></th>\n",
       "      <th>distance</th>\n",
       "      <th>consume</th>\n",
       "      <th>speed</th>\n",
       "      <th>temp_inside</th>\n",
       "      <th>temp_outside</th>\n",
       "      <th>specials</th>\n",
       "      <th>gas_type</th>\n",
       "      <th>AC</th>\n",
       "      <th>rain</th>\n",
       "      <th>sun</th>\n",
       "      <th>refill liters</th>\n",
       "      <th>refill gas</th>\n",
       "    </tr>\n",
       "  </thead>\n",
       "  <tbody>\n",
       "    <tr>\n",
       "      <th>0</th>\n",
       "      <td>28.0</td>\n",
       "      <td>5.0</td>\n",
       "      <td>26</td>\n",
       "      <td>21.5</td>\n",
       "      <td>12</td>\n",
       "      <td>NaN</td>\n",
       "      <td>E10</td>\n",
       "      <td>0</td>\n",
       "      <td>0</td>\n",
       "      <td>0</td>\n",
       "      <td>45.0</td>\n",
       "      <td>E10</td>\n",
       "    </tr>\n",
       "    <tr>\n",
       "      <th>1</th>\n",
       "      <td>12.0</td>\n",
       "      <td>4.2</td>\n",
       "      <td>30</td>\n",
       "      <td>21.5</td>\n",
       "      <td>13</td>\n",
       "      <td>NaN</td>\n",
       "      <td>E10</td>\n",
       "      <td>0</td>\n",
       "      <td>0</td>\n",
       "      <td>0</td>\n",
       "      <td>NaN</td>\n",
       "      <td>NaN</td>\n",
       "    </tr>\n",
       "    <tr>\n",
       "      <th>2</th>\n",
       "      <td>11.2</td>\n",
       "      <td>5.5</td>\n",
       "      <td>38</td>\n",
       "      <td>21.5</td>\n",
       "      <td>15</td>\n",
       "      <td>NaN</td>\n",
       "      <td>E10</td>\n",
       "      <td>0</td>\n",
       "      <td>0</td>\n",
       "      <td>0</td>\n",
       "      <td>NaN</td>\n",
       "      <td>NaN</td>\n",
       "    </tr>\n",
       "    <tr>\n",
       "      <th>3</th>\n",
       "      <td>12.9</td>\n",
       "      <td>3.9</td>\n",
       "      <td>36</td>\n",
       "      <td>21.5</td>\n",
       "      <td>14</td>\n",
       "      <td>NaN</td>\n",
       "      <td>E10</td>\n",
       "      <td>0</td>\n",
       "      <td>0</td>\n",
       "      <td>0</td>\n",
       "      <td>NaN</td>\n",
       "      <td>NaN</td>\n",
       "    </tr>\n",
       "    <tr>\n",
       "      <th>4</th>\n",
       "      <td>18.5</td>\n",
       "      <td>4.5</td>\n",
       "      <td>46</td>\n",
       "      <td>21.5</td>\n",
       "      <td>15</td>\n",
       "      <td>NaN</td>\n",
       "      <td>E10</td>\n",
       "      <td>0</td>\n",
       "      <td>0</td>\n",
       "      <td>0</td>\n",
       "      <td>NaN</td>\n",
       "      <td>NaN</td>\n",
       "    </tr>\n",
       "  </tbody>\n",
       "</table>\n",
       "</div>"
      ],
      "text/plain": [
       "   distance  consume  speed  temp_inside  temp_outside specials gas_type  AC  \\\n",
       "0      28.0      5.0     26         21.5            12      NaN      E10   0   \n",
       "1      12.0      4.2     30         21.5            13      NaN      E10   0   \n",
       "2      11.2      5.5     38         21.5            15      NaN      E10   0   \n",
       "3      12.9      3.9     36         21.5            14      NaN      E10   0   \n",
       "4      18.5      4.5     46         21.5            15      NaN      E10   0   \n",
       "\n",
       "   rain  sun  refill liters refill gas  \n",
       "0     0    0           45.0        E10  \n",
       "1     0    0            NaN        NaN  \n",
       "2     0    0            NaN        NaN  \n",
       "3     0    0            NaN        NaN  \n",
       "4     0    0            NaN        NaN  "
      ]
     },
     "execution_count": 24,
     "metadata": {},
     "output_type": "execute_result"
    }
   ],
   "source": [
    "data.head()"
   ]
  },
  {
   "cell_type": "code",
   "execution_count": 25,
   "metadata": {},
   "outputs": [
    {
     "name": "stdout",
     "output_type": "stream",
     "text": [
      "<class 'pandas.core.frame.DataFrame'>\n",
      "RangeIndex: 388 entries, 0 to 387\n",
      "Data columns (total 12 columns):\n",
      " #   Column         Non-Null Count  Dtype  \n",
      "---  ------         --------------  -----  \n",
      " 0   distance       388 non-null    float64\n",
      " 1   consume        388 non-null    float64\n",
      " 2   speed          388 non-null    int64  \n",
      " 3   temp_inside    376 non-null    float64\n",
      " 4   temp_outside   388 non-null    int64  \n",
      " 5   specials       93 non-null     object \n",
      " 6   gas_type       388 non-null    object \n",
      " 7   AC             388 non-null    int64  \n",
      " 8   rain           388 non-null    int64  \n",
      " 9   sun            388 non-null    int64  \n",
      " 10  refill liters  13 non-null     float64\n",
      " 11  refill gas     13 non-null     object \n",
      "dtypes: float64(4), int64(5), object(3)\n",
      "memory usage: 36.5+ KB\n"
     ]
    }
   ],
   "source": [
    "data.info()"
   ]
  },
  {
   "cell_type": "code",
   "execution_count": 26,
   "metadata": {},
   "outputs": [],
   "source": [
    "# Remove refill liters & gas as it's mostly null values\n",
    "data.drop([\"refill liters\", \"refill gas\"], axis=1, inplace=True)"
   ]
  },
  {
   "cell_type": "code",
   "execution_count": 27,
   "metadata": {},
   "outputs": [
    {
     "data": {
      "text/html": [
       "<div>\n",
       "<style scoped>\n",
       "    .dataframe tbody tr th:only-of-type {\n",
       "        vertical-align: middle;\n",
       "    }\n",
       "\n",
       "    .dataframe tbody tr th {\n",
       "        vertical-align: top;\n",
       "    }\n",
       "\n",
       "    .dataframe thead th {\n",
       "        text-align: right;\n",
       "    }\n",
       "</style>\n",
       "<table border=\"1\" class=\"dataframe\">\n",
       "  <thead>\n",
       "    <tr style=\"text-align: right;\">\n",
       "      <th></th>\n",
       "      <th>distance</th>\n",
       "      <th>consume</th>\n",
       "      <th>speed</th>\n",
       "      <th>temp_inside</th>\n",
       "      <th>temp_outside</th>\n",
       "      <th>AC</th>\n",
       "      <th>rain</th>\n",
       "      <th>sun</th>\n",
       "    </tr>\n",
       "  </thead>\n",
       "  <tbody>\n",
       "    <tr>\n",
       "      <th>count</th>\n",
       "      <td>388.00</td>\n",
       "      <td>388.00</td>\n",
       "      <td>388.00</td>\n",
       "      <td>376.00</td>\n",
       "      <td>388.00</td>\n",
       "      <td>388.00</td>\n",
       "      <td>388.00</td>\n",
       "      <td>388.00</td>\n",
       "    </tr>\n",
       "    <tr>\n",
       "      <th>mean</th>\n",
       "      <td>19.65</td>\n",
       "      <td>4.91</td>\n",
       "      <td>41.93</td>\n",
       "      <td>21.93</td>\n",
       "      <td>11.36</td>\n",
       "      <td>0.08</td>\n",
       "      <td>0.12</td>\n",
       "      <td>0.08</td>\n",
       "    </tr>\n",
       "    <tr>\n",
       "      <th>std</th>\n",
       "      <td>22.67</td>\n",
       "      <td>1.03</td>\n",
       "      <td>13.60</td>\n",
       "      <td>1.01</td>\n",
       "      <td>6.99</td>\n",
       "      <td>0.27</td>\n",
       "      <td>0.33</td>\n",
       "      <td>0.28</td>\n",
       "    </tr>\n",
       "    <tr>\n",
       "      <th>min</th>\n",
       "      <td>1.30</td>\n",
       "      <td>3.30</td>\n",
       "      <td>14.00</td>\n",
       "      <td>19.00</td>\n",
       "      <td>-5.00</td>\n",
       "      <td>0.00</td>\n",
       "      <td>0.00</td>\n",
       "      <td>0.00</td>\n",
       "    </tr>\n",
       "    <tr>\n",
       "      <th>25%</th>\n",
       "      <td>11.80</td>\n",
       "      <td>4.30</td>\n",
       "      <td>32.75</td>\n",
       "      <td>21.50</td>\n",
       "      <td>7.00</td>\n",
       "      <td>0.00</td>\n",
       "      <td>0.00</td>\n",
       "      <td>0.00</td>\n",
       "    </tr>\n",
       "    <tr>\n",
       "      <th>50%</th>\n",
       "      <td>14.60</td>\n",
       "      <td>4.70</td>\n",
       "      <td>40.50</td>\n",
       "      <td>22.00</td>\n",
       "      <td>10.00</td>\n",
       "      <td>0.00</td>\n",
       "      <td>0.00</td>\n",
       "      <td>0.00</td>\n",
       "    </tr>\n",
       "    <tr>\n",
       "      <th>75%</th>\n",
       "      <td>19.00</td>\n",
       "      <td>5.30</td>\n",
       "      <td>50.00</td>\n",
       "      <td>22.50</td>\n",
       "      <td>16.00</td>\n",
       "      <td>0.00</td>\n",
       "      <td>0.00</td>\n",
       "      <td>0.00</td>\n",
       "    </tr>\n",
       "    <tr>\n",
       "      <th>max</th>\n",
       "      <td>216.10</td>\n",
       "      <td>12.20</td>\n",
       "      <td>90.00</td>\n",
       "      <td>25.50</td>\n",
       "      <td>31.00</td>\n",
       "      <td>1.00</td>\n",
       "      <td>1.00</td>\n",
       "      <td>1.00</td>\n",
       "    </tr>\n",
       "  </tbody>\n",
       "</table>\n",
       "</div>"
      ],
      "text/plain": [
       "       distance  consume   speed  temp_inside  temp_outside      AC    rain  \\\n",
       "count    388.00   388.00  388.00       376.00        388.00  388.00  388.00   \n",
       "mean      19.65     4.91   41.93        21.93         11.36    0.08    0.12   \n",
       "std       22.67     1.03   13.60         1.01          6.99    0.27    0.33   \n",
       "min        1.30     3.30   14.00        19.00         -5.00    0.00    0.00   \n",
       "25%       11.80     4.30   32.75        21.50          7.00    0.00    0.00   \n",
       "50%       14.60     4.70   40.50        22.00         10.00    0.00    0.00   \n",
       "75%       19.00     5.30   50.00        22.50         16.00    0.00    0.00   \n",
       "max      216.10    12.20   90.00        25.50         31.00    1.00    1.00   \n",
       "\n",
       "          sun  \n",
       "count  388.00  \n",
       "mean     0.08  \n",
       "std      0.28  \n",
       "min      0.00  \n",
       "25%      0.00  \n",
       "50%      0.00  \n",
       "75%      0.00  \n",
       "max      1.00  "
      ]
     },
     "execution_count": 27,
     "metadata": {},
     "output_type": "execute_result"
    }
   ],
   "source": [
    "round(data.describe(), 2)"
   ]
  },
  {
   "cell_type": "code",
   "execution_count": 28,
   "metadata": {},
   "outputs": [
    {
     "data": {
      "text/plain": [
       "array([nan, 'AC rain', 'AC', 'rain', 'snow', 'AC snow',\n",
       "       'half rain half sun', 'sun', 'AC sun', 'sun ac', 'ac', 'AC Sun',\n",
       "       'ac rain'], dtype=object)"
      ]
     },
     "execution_count": 28,
     "metadata": {},
     "output_type": "execute_result"
    }
   ],
   "source": [
    "data.specials.unique()"
   ]
  },
  {
   "cell_type": "code",
   "execution_count": 29,
   "metadata": {},
   "outputs": [
    {
     "data": {
      "text/plain": [
       "nan"
      ]
     },
     "execution_count": 29,
     "metadata": {},
     "output_type": "execute_result"
    }
   ],
   "source": [
    "data[\"specials\"].loc[0]"
   ]
  },
  {
   "cell_type": "code",
   "execution_count": 30,
   "metadata": {},
   "outputs": [],
   "source": [
    "# Change the specials column to a snow column\n",
    "data[\"specials\"].fillna(\"0\", inplace=True)\n",
    "data[\"specials\"] = data[\"specials\"].apply(lambda x: 1 if \"snow\" in x.lower() else 0)"
   ]
  },
  {
   "cell_type": "code",
   "execution_count": 31,
   "metadata": {},
   "outputs": [
    {
     "data": {
      "text/html": [
       "<div>\n",
       "<style scoped>\n",
       "    .dataframe tbody tr th:only-of-type {\n",
       "        vertical-align: middle;\n",
       "    }\n",
       "\n",
       "    .dataframe tbody tr th {\n",
       "        vertical-align: top;\n",
       "    }\n",
       "\n",
       "    .dataframe thead th {\n",
       "        text-align: right;\n",
       "    }\n",
       "</style>\n",
       "<table border=\"1\" class=\"dataframe\">\n",
       "  <thead>\n",
       "    <tr style=\"text-align: right;\">\n",
       "      <th></th>\n",
       "      <th>distance</th>\n",
       "      <th>consume</th>\n",
       "      <th>speed</th>\n",
       "      <th>temp_inside</th>\n",
       "      <th>temp_outside</th>\n",
       "      <th>snow</th>\n",
       "      <th>gas_type</th>\n",
       "      <th>AC</th>\n",
       "      <th>rain</th>\n",
       "      <th>sun</th>\n",
       "    </tr>\n",
       "  </thead>\n",
       "  <tbody>\n",
       "    <tr>\n",
       "      <th>0</th>\n",
       "      <td>28.0</td>\n",
       "      <td>5.0</td>\n",
       "      <td>26</td>\n",
       "      <td>21.5</td>\n",
       "      <td>12</td>\n",
       "      <td>0</td>\n",
       "      <td>E10</td>\n",
       "      <td>0</td>\n",
       "      <td>0</td>\n",
       "      <td>0</td>\n",
       "    </tr>\n",
       "    <tr>\n",
       "      <th>1</th>\n",
       "      <td>12.0</td>\n",
       "      <td>4.2</td>\n",
       "      <td>30</td>\n",
       "      <td>21.5</td>\n",
       "      <td>13</td>\n",
       "      <td>0</td>\n",
       "      <td>E10</td>\n",
       "      <td>0</td>\n",
       "      <td>0</td>\n",
       "      <td>0</td>\n",
       "    </tr>\n",
       "    <tr>\n",
       "      <th>2</th>\n",
       "      <td>11.2</td>\n",
       "      <td>5.5</td>\n",
       "      <td>38</td>\n",
       "      <td>21.5</td>\n",
       "      <td>15</td>\n",
       "      <td>0</td>\n",
       "      <td>E10</td>\n",
       "      <td>0</td>\n",
       "      <td>0</td>\n",
       "      <td>0</td>\n",
       "    </tr>\n",
       "    <tr>\n",
       "      <th>3</th>\n",
       "      <td>12.9</td>\n",
       "      <td>3.9</td>\n",
       "      <td>36</td>\n",
       "      <td>21.5</td>\n",
       "      <td>14</td>\n",
       "      <td>0</td>\n",
       "      <td>E10</td>\n",
       "      <td>0</td>\n",
       "      <td>0</td>\n",
       "      <td>0</td>\n",
       "    </tr>\n",
       "    <tr>\n",
       "      <th>4</th>\n",
       "      <td>18.5</td>\n",
       "      <td>4.5</td>\n",
       "      <td>46</td>\n",
       "      <td>21.5</td>\n",
       "      <td>15</td>\n",
       "      <td>0</td>\n",
       "      <td>E10</td>\n",
       "      <td>0</td>\n",
       "      <td>0</td>\n",
       "      <td>0</td>\n",
       "    </tr>\n",
       "  </tbody>\n",
       "</table>\n",
       "</div>"
      ],
      "text/plain": [
       "   distance  consume  speed  temp_inside  temp_outside  snow gas_type  AC  \\\n",
       "0      28.0      5.0     26         21.5            12     0      E10   0   \n",
       "1      12.0      4.2     30         21.5            13     0      E10   0   \n",
       "2      11.2      5.5     38         21.5            15     0      E10   0   \n",
       "3      12.9      3.9     36         21.5            14     0      E10   0   \n",
       "4      18.5      4.5     46         21.5            15     0      E10   0   \n",
       "\n",
       "   rain  sun  \n",
       "0     0    0  \n",
       "1     0    0  \n",
       "2     0    0  \n",
       "3     0    0  \n",
       "4     0    0  "
      ]
     },
     "execution_count": 31,
     "metadata": {},
     "output_type": "execute_result"
    }
   ],
   "source": [
    "data.rename({\"specials\": \"snow\"}, axis=1, inplace=True)\n",
    "data.head()"
   ]
  },
  {
   "cell_type": "code",
   "execution_count": 32,
   "metadata": {},
   "outputs": [],
   "source": [
    "# Given we can't control the weather outside, we'll instead look at the \n",
    "# temperature difference between the car & the environment instead:\n",
    "data[\"temp_diff\"] = data[\"temp_inside\"] - data[\"temp_outside\"]\n",
    "data.drop([\"temp_inside\", \"temp_outside\"], axis=1, inplace=True) "
   ]
  },
  {
   "cell_type": "code",
   "execution_count": 33,
   "metadata": {},
   "outputs": [
    {
     "data": {
      "text/plain": [
       "array([0, 1])"
      ]
     },
     "execution_count": 33,
     "metadata": {},
     "output_type": "execute_result"
    }
   ],
   "source": [
    "data.rain.unique()"
   ]
  },
  {
   "cell_type": "code",
   "execution_count": 34,
   "metadata": {},
   "outputs": [
    {
     "data": {
      "text/plain": [
       "array([0, 1])"
      ]
     },
     "execution_count": 34,
     "metadata": {},
     "output_type": "execute_result"
    }
   ],
   "source": [
    "data.sun.unique()"
   ]
  },
  {
   "cell_type": "code",
   "execution_count": 35,
   "metadata": {},
   "outputs": [
    {
     "data": {
      "text/plain": [
       "array([0, 1])"
      ]
     },
     "execution_count": 35,
     "metadata": {},
     "output_type": "execute_result"
    }
   ],
   "source": [
    "data.AC.unique()"
   ]
  },
  {
   "cell_type": "code",
   "execution_count": 36,
   "metadata": {},
   "outputs": [
    {
     "data": {
      "text/plain": [
       "False    376\n",
       "True      12\n",
       "Name: temp_diff, dtype: int64"
      ]
     },
     "execution_count": 36,
     "metadata": {},
     "output_type": "execute_result"
    }
   ],
   "source": [
    "data.temp_diff.isna().value_counts()"
   ]
  },
  {
   "cell_type": "code",
   "execution_count": 37,
   "metadata": {},
   "outputs": [
    {
     "name": "stdout",
     "output_type": "stream",
     "text": [
      "<class 'pandas.core.frame.DataFrame'>\n",
      "Int64Index: 376 entries, 0 to 387\n",
      "Data columns (total 9 columns):\n",
      " #   Column     Non-Null Count  Dtype  \n",
      "---  ------     --------------  -----  \n",
      " 0   distance   376 non-null    float64\n",
      " 1   consume    376 non-null    float64\n",
      " 2   speed      376 non-null    int64  \n",
      " 3   snow       376 non-null    int64  \n",
      " 4   gas_type   376 non-null    object \n",
      " 5   AC         376 non-null    int64  \n",
      " 6   rain       376 non-null    int64  \n",
      " 7   sun        376 non-null    int64  \n",
      " 8   temp_diff  376 non-null    float64\n",
      "dtypes: float64(3), int64(5), object(1)\n",
      "memory usage: 29.4+ KB\n"
     ]
    }
   ],
   "source": [
    "# We can also drop the rows with null values, as they represent little of the \n",
    "# whole dataset\n",
    "data.dropna(inplace=True)\n",
    "data.info()"
   ]
  },
  {
   "cell_type": "markdown",
   "metadata": {},
   "source": [
    "From the information in the dataset, we would like to infer:\n",
    "\n",
    "* Which factors influence fuel consumption?\n",
    "* Which factors are dependent on each other?\n",
    "* Does the type of gas used matter in terms of fuel consumption?\n",
    "* Which fuel is the most cost effective?\n",
    "* What can we improve upon to ensure we're optimizing fuel consumption?"
   ]
  },
  {
   "cell_type": "markdown",
   "metadata": {},
   "source": [
    "### Data Visualization"
   ]
  },
  {
   "cell_type": "code",
   "execution_count": 38,
   "metadata": {},
   "outputs": [
    {
     "data": {
      "text/html": [
       "\n",
       "    <div class=\"bk-root\">\n",
       "        <a href=\"https://bokeh.org\" target=\"_blank\" class=\"bk-logo bk-logo-small bk-logo-notebook\"></a>\n",
       "        <span id=\"1828\">Loading BokehJS ...</span>\n",
       "    </div>"
      ]
     },
     "metadata": {},
     "output_type": "display_data"
    },
    {
     "data": {
      "application/javascript": "\n(function(root) {\n  function now() {\n    return new Date();\n  }\n\n  const force = true;\n\n  if (typeof root._bokeh_onload_callbacks === \"undefined\" || force === true) {\n    root._bokeh_onload_callbacks = [];\n    root._bokeh_is_loading = undefined;\n  }\n\n  const JS_MIME_TYPE = 'application/javascript';\n  const HTML_MIME_TYPE = 'text/html';\n  const EXEC_MIME_TYPE = 'application/vnd.bokehjs_exec.v0+json';\n  const CLASS_NAME = 'output_bokeh rendered_html';\n\n  /**\n   * Render data to the DOM node\n   */\n  function render(props, node) {\n    const script = document.createElement(\"script\");\n    node.appendChild(script);\n  }\n\n  /**\n   * Handle when an output is cleared or removed\n   */\n  function handleClearOutput(event, handle) {\n    const cell = handle.cell;\n\n    const id = cell.output_area._bokeh_element_id;\n    const server_id = cell.output_area._bokeh_server_id;\n    // Clean up Bokeh references\n    if (id != null && id in Bokeh.index) {\n      Bokeh.index[id].model.document.clear();\n      delete Bokeh.index[id];\n    }\n\n    if (server_id !== undefined) {\n      // Clean up Bokeh references\n      const cmd_clean = \"from bokeh.io.state import curstate; print(curstate().uuid_to_server['\" + server_id + \"'].get_sessions()[0].document.roots[0]._id)\";\n      cell.notebook.kernel.execute(cmd_clean, {\n        iopub: {\n          output: function(msg) {\n            const id = msg.content.text.trim();\n            if (id in Bokeh.index) {\n              Bokeh.index[id].model.document.clear();\n              delete Bokeh.index[id];\n            }\n          }\n        }\n      });\n      // Destroy server and session\n      const cmd_destroy = \"import bokeh.io.notebook as ion; ion.destroy_server('\" + server_id + \"')\";\n      cell.notebook.kernel.execute(cmd_destroy);\n    }\n  }\n\n  /**\n   * Handle when a new output is added\n   */\n  function handleAddOutput(event, handle) {\n    const output_area = handle.output_area;\n    const output = handle.output;\n\n    // limit handleAddOutput to display_data with EXEC_MIME_TYPE content only\n    if ((output.output_type != \"display_data\") || (!Object.prototype.hasOwnProperty.call(output.data, EXEC_MIME_TYPE))) {\n      return\n    }\n\n    const toinsert = output_area.element.find(\".\" + CLASS_NAME.split(' ')[0]);\n\n    if (output.metadata[EXEC_MIME_TYPE][\"id\"] !== undefined) {\n      toinsert[toinsert.length - 1].firstChild.textContent = output.data[JS_MIME_TYPE];\n      // store reference to embed id on output_area\n      output_area._bokeh_element_id = output.metadata[EXEC_MIME_TYPE][\"id\"];\n    }\n    if (output.metadata[EXEC_MIME_TYPE][\"server_id\"] !== undefined) {\n      const bk_div = document.createElement(\"div\");\n      bk_div.innerHTML = output.data[HTML_MIME_TYPE];\n      const script_attrs = bk_div.children[0].attributes;\n      for (let i = 0; i < script_attrs.length; i++) {\n        toinsert[toinsert.length - 1].firstChild.setAttribute(script_attrs[i].name, script_attrs[i].value);\n        toinsert[toinsert.length - 1].firstChild.textContent = bk_div.children[0].textContent\n      }\n      // store reference to server id on output_area\n      output_area._bokeh_server_id = output.metadata[EXEC_MIME_TYPE][\"server_id\"];\n    }\n  }\n\n  function register_renderer(events, OutputArea) {\n\n    function append_mime(data, metadata, element) {\n      // create a DOM node to render to\n      const toinsert = this.create_output_subarea(\n        metadata,\n        CLASS_NAME,\n        EXEC_MIME_TYPE\n      );\n      this.keyboard_manager.register_events(toinsert);\n      // Render to node\n      const props = {data: data, metadata: metadata[EXEC_MIME_TYPE]};\n      render(props, toinsert[toinsert.length - 1]);\n      element.append(toinsert);\n      return toinsert\n    }\n\n    /* Handle when an output is cleared or removed */\n    events.on('clear_output.CodeCell', handleClearOutput);\n    events.on('delete.Cell', handleClearOutput);\n\n    /* Handle when a new output is added */\n    events.on('output_added.OutputArea', handleAddOutput);\n\n    /**\n     * Register the mime type and append_mime function with output_area\n     */\n    OutputArea.prototype.register_mime_type(EXEC_MIME_TYPE, append_mime, {\n      /* Is output safe? */\n      safe: true,\n      /* Index of renderer in `output_area.display_order` */\n      index: 0\n    });\n  }\n\n  // register the mime type if in Jupyter Notebook environment and previously unregistered\n  if (root.Jupyter !== undefined) {\n    const events = require('base/js/events');\n    const OutputArea = require('notebook/js/outputarea').OutputArea;\n\n    if (OutputArea.prototype.mime_types().indexOf(EXEC_MIME_TYPE) == -1) {\n      register_renderer(events, OutputArea);\n    }\n  }\n\n  \n  if (typeof (root._bokeh_timeout) === \"undefined\" || force === true) {\n    root._bokeh_timeout = Date.now() + 5000;\n    root._bokeh_failed_load = false;\n  }\n\n  const NB_LOAD_WARNING = {'data': {'text/html':\n     \"<div style='background-color: #fdd'>\\n\"+\n     \"<p>\\n\"+\n     \"BokehJS does not appear to have successfully loaded. If loading BokehJS from CDN, this \\n\"+\n     \"may be due to a slow or bad network connection. Possible fixes:\\n\"+\n     \"</p>\\n\"+\n     \"<ul>\\n\"+\n     \"<li>re-rerun `output_notebook()` to attempt to load from CDN again, or</li>\\n\"+\n     \"<li>use INLINE resources instead, as so:</li>\\n\"+\n     \"</ul>\\n\"+\n     \"<code>\\n\"+\n     \"from bokeh.resources import INLINE\\n\"+\n     \"output_notebook(resources=INLINE)\\n\"+\n     \"</code>\\n\"+\n     \"</div>\"}};\n\n  function display_loaded() {\n    const el = document.getElementById(\"1828\");\n    if (el != null) {\n      el.textContent = \"BokehJS is loading...\";\n    }\n    if (root.Bokeh !== undefined) {\n      if (el != null) {\n        el.textContent = \"BokehJS \" + root.Bokeh.version + \" successfully loaded.\";\n      }\n    } else if (Date.now() < root._bokeh_timeout) {\n      setTimeout(display_loaded, 100)\n    }\n  }\n\n\n  function run_callbacks() {\n    try {\n      root._bokeh_onload_callbacks.forEach(function(callback) {\n        if (callback != null)\n          callback();\n      });\n    } finally {\n      delete root._bokeh_onload_callbacks\n    }\n    console.debug(\"Bokeh: all callbacks have finished\");\n  }\n\n  function load_libs(css_urls, js_urls, callback) {\n    if (css_urls == null) css_urls = [];\n    if (js_urls == null) js_urls = [];\n\n    root._bokeh_onload_callbacks.push(callback);\n    if (root._bokeh_is_loading > 0) {\n      console.debug(\"Bokeh: BokehJS is being loaded, scheduling callback at\", now());\n      return null;\n    }\n    if (js_urls == null || js_urls.length === 0) {\n      run_callbacks();\n      return null;\n    }\n    console.debug(\"Bokeh: BokehJS not loaded, scheduling load and callback at\", now());\n    root._bokeh_is_loading = css_urls.length + js_urls.length;\n\n    function on_load() {\n      root._bokeh_is_loading--;\n      if (root._bokeh_is_loading === 0) {\n        console.debug(\"Bokeh: all BokehJS libraries/stylesheets loaded\");\n        run_callbacks()\n      }\n    }\n\n    function on_error(url) {\n      console.error(\"failed to load \" + url);\n    }\n\n    for (let i = 0; i < css_urls.length; i++) {\n      const url = css_urls[i];\n      const element = document.createElement(\"link\");\n      element.onload = on_load;\n      element.onerror = on_error.bind(null, url);\n      element.rel = \"stylesheet\";\n      element.type = \"text/css\";\n      element.href = url;\n      console.debug(\"Bokeh: injecting link tag for BokehJS stylesheet: \", url);\n      document.body.appendChild(element);\n    }\n\n    for (let i = 0; i < js_urls.length; i++) {\n      const url = js_urls[i];\n      const element = document.createElement('script');\n      element.onload = on_load;\n      element.onerror = on_error.bind(null, url);\n      element.async = false;\n      element.src = url;\n      console.debug(\"Bokeh: injecting script tag for BokehJS library: \", url);\n      document.head.appendChild(element);\n    }\n  };\n\n  function inject_raw_css(css) {\n    const element = document.createElement(\"style\");\n    element.appendChild(document.createTextNode(css));\n    document.body.appendChild(element);\n  }\n\n  \n  const js_urls = [\"https://cdn.bokeh.org/bokeh/release/bokeh-2.4.2.min.js\", \"https://cdn.bokeh.org/bokeh/release/bokeh-gl-2.4.2.min.js\", \"https://cdn.bokeh.org/bokeh/release/bokeh-widgets-2.4.2.min.js\", \"https://cdn.bokeh.org/bokeh/release/bokeh-tables-2.4.2.min.js\", \"https://cdn.bokeh.org/bokeh/release/bokeh-mathjax-2.4.2.min.js\"];\n  const css_urls = [];\n  \n\n  const inline_js = [\n    function(Bokeh) {\n      Bokeh.set_log_level(\"info\");\n    },\n    function(Bokeh) {\n    \n    \n    }\n  ];\n\n  function run_inline_js() {\n    \n    if (root.Bokeh !== undefined || force === true) {\n      \n    for (let i = 0; i < inline_js.length; i++) {\n      inline_js[i].call(root, root.Bokeh);\n    }\n    if (force === true) {\n        display_loaded();\n      }} else if (Date.now() < root._bokeh_timeout) {\n      setTimeout(run_inline_js, 100);\n    } else if (!root._bokeh_failed_load) {\n      console.log(\"Bokeh: BokehJS failed to load within specified timeout.\");\n      root._bokeh_failed_load = true;\n    } else if (force !== true) {\n      const cell = $(document.getElementById(\"1828\")).parents('.cell').data().cell;\n      cell.output_area.append_execute_result(NB_LOAD_WARNING)\n    }\n\n  }\n\n  if (root._bokeh_is_loading === 0) {\n    console.debug(\"Bokeh: BokehJS loaded, going straight to plotting\");\n    run_inline_js();\n  } else {\n    load_libs(css_urls, js_urls, function() {\n      console.debug(\"Bokeh: BokehJS plotting callback run at\", now());\n      run_inline_js();\n    });\n  }\n}(window));",
      "application/vnd.bokehjs_load.v0+json": ""
     },
     "metadata": {},
     "output_type": "display_data"
    }
   ],
   "source": [
    "from bokeh.plotting import figure, show\n",
    "from bokeh.io import output_notebook\n",
    "from bokeh.transform import factor_cmap, factor_mark\n",
    "from bokeh.palettes import Spectral4\n",
    "from bokeh.layouts import row, column\n",
    "output_notebook()"
   ]
  },
  {
   "cell_type": "code",
   "execution_count": 44,
   "metadata": {},
   "outputs": [
    {
     "data": {
      "text/html": [
       "\n",
       "\n",
       "\n",
       "\n",
       "\n",
       "\n",
       "  <div class=\"bk-root\" id=\"fcdb0de1-20fd-4d34-a20e-163553582951\" data-root-id=\"3015\"></div>\n"
      ]
     },
     "metadata": {},
     "output_type": "display_data"
    },
    {
     "data": {
      "application/javascript": "(function(root) {\n  function embed_document(root) {\n    \n  const docs_json = {\"e08956c6-1201-4bb7-b8e6-973759528bb5\":{\"defs\":[],\"roots\":{\"references\":[{\"attributes\":{\"below\":[{\"id\":\"3024\"}],\"center\":[{\"id\":\"3027\"},{\"id\":\"3031\"},{\"id\":\"3066\"}],\"height\":250,\"left\":[{\"id\":\"3028\"}],\"renderers\":[{\"id\":\"3053\"},{\"id\":\"3074\"}],\"title\":{\"id\":\"3046\"},\"toolbar\":{\"id\":\"3039\"},\"width\":700,\"x_range\":{\"id\":\"3016\"},\"x_scale\":{\"id\":\"3020\"},\"y_range\":{\"id\":\"3018\"},\"y_scale\":{\"id\":\"3022\"}},\"id\":\"3015\",\"subtype\":\"Figure\",\"type\":\"Plot\"},{\"attributes\":{},\"id\":\"3087\",\"type\":\"Selection\"},{\"attributes\":{\"tools\":[{\"id\":\"3032\"},{\"id\":\"3033\"},{\"id\":\"3034\"},{\"id\":\"3035\"},{\"id\":\"3036\"},{\"id\":\"3037\"}]},\"id\":\"3039\",\"type\":\"Toolbar\"},{\"attributes\":{\"label\":{\"value\":\"SP98\"},\"renderers\":[{\"id\":\"3074\"}]},\"id\":\"3089\",\"type\":\"LegendItem\"},{\"attributes\":{\"click_policy\":\"mute\",\"coordinates\":null,\"group\":null,\"items\":[{\"id\":\"3067\"},{\"id\":\"3089\"}],\"location\":\"top_left\"},\"id\":\"3066\",\"type\":\"Legend\"},{\"attributes\":{},\"id\":\"3037\",\"type\":\"HelpTool\"},{\"attributes\":{},\"id\":\"3064\",\"type\":\"Selection\"},{\"attributes\":{},\"id\":\"3025\",\"type\":\"BasicTicker\"},{\"attributes\":{\"axis\":{\"id\":\"3028\"},\"coordinates\":null,\"dimension\":1,\"group\":null,\"ticker\":null},\"id\":\"3031\",\"type\":\"Grid\"},{\"attributes\":{\"fill_alpha\":{\"value\":0.2},\"fill_color\":{\"value\":\"#2b83ba\"},\"hatch_alpha\":{\"value\":0.2},\"hatch_color\":{\"value\":\"#2b83ba\"},\"line_alpha\":{\"value\":0.2},\"line_color\":{\"value\":\"#2b83ba\"},\"marker\":{\"field\":\"gas_type\",\"transform\":{\"id\":\"3047\"}},\"size\":{\"value\":12},\"x\":{\"field\":\"temp_diff\"},\"y\":{\"field\":\"consume\"}},\"id\":\"3052\",\"type\":\"Scatter\"},{\"attributes\":{\"data\":{\"AC\":[0,0,0,0,0,0,0,0,0,0,0,0,0,0,0,0,0,0,0,0,0,0,0,0,0,0,0,0,0,0,0,0,0,0,0,0,0,0,0,0,1,1,0,0,0,0,0,0,0,0,0,0,0,0,0,0,0,0,1,0,0,0,0,0,0,0,0,0,0,0,0,0,0,0,0,0,0,0,0,0,0,0,0,0,0,0,1,0,0,0,0,0,0,0,0,0,0,0,0,0,0,0,0,0,0,0,0,0,0,0,0,0,0,0,0,0,0,0,0,0,0,0,0,0,0,0,0,0,0,0,0,0,1,0,0,0,0,0,0,1,0,0,0,0,0,0,0,0,0,0,0,0,1,0,0,0,0],\"consume\":{\"__ndarray__\":\"AAAAAAAAFEDNzMzMzMwQQAAAAAAAABZAMzMzMzMzD0AAAAAAAAASQJqZmZmZmRlAmpmZmZmZEUAAAAAAAAAUQJqZmZmZmRlAMzMzMzMzFUBmZmZmZmYWQGZmZmZmZhJAmpmZmZmZF0BmZmZmZmYUQM3MzMzMzBJAZmZmZmZmFEBmZmZmZmYWQGZmZmZmZhRAmpmZmZmZE0DNzMzMzMwSQAAAAAAAABZAmpmZmZmZF0DNzMzMzMwWQM3MzMzMzBJAmpmZmZmZF0BmZmZmZmYQQM3MzMzMzBZAMzMzMzMzF0AAAAAAAAAWQM3MzMzMzBZAMzMzMzMzFUAAAAAAAAAUQGZmZmZmZhZAMzMzMzMzE0AzMzMzMzMRQM3MzMzMzBZAzczMzMzMFECamZmZmZkdQDMzMzMzMxNAAAAAAAAAGkAAAAAAAAAQQAAAAAAAABRAZmZmZmZmEkAzMzMzMzMRQJqZmZmZmRVAMzMzMzMzEUCamZmZmZkVQDMzMzMzMxFAzczMzMzMFEBmZmZmZmYQQJqZmZmZmRFAAAAAAAAAEkCamZmZmZklQM3MzMzMzBJAMzMzMzMzE0AAAAAAAAAQQAAAAAAAABRAZmZmZmZmEkAAAAAAAAAUQDMzMzMzMxFAzczMzMzMFEDNzMzMzMwSQM3MzMzMzBBAMzMzMzMzFUAzMzMzMzMVQDMzMzMzMyBAMzMzMzMzE0BmZmZmZmYUQJqZmZmZmRFAAAAAAAAAFEAzMzMzMzMZQDMzMzMzMxNAZmZmZmZmGEBmZmZmZmYSQDMzMzMzMxNAzczMzMzMEkAzMzMzMzMTQJqZmZmZmRFAmpmZmZmZE0CamZmZmZkTQJqZmZmZmRFAMzMzMzMzFUAzMzMzMzMVQDMzMzMzMxNAzczMzMzMFECamZmZmZkTQGZmZmZmZhxAzczMzMzMFEDNzMzMzMwSQGZmZmZmZhRAAAAAAAAAFEBmZmZmZmYSQDMzMzMzMxNAmpmZmZmZEUBmZmZmZmYSQDMzMzMzMxFAAAAAAAAAEkAzMzMzMzMTQAAAAAAAABRAMzMzMzMzE0BmZmZmZmYSQAAAAAAAABJAZmZmZmZmEkCamZmZmZkRQM3MzMzMzBZAMzMzMzMzF0CamZmZmZkXQGZmZmZmZhhAzczMzMzMFkAAAAAAAAAUQM3MzMzMzBRAMzMzMzMzEUBmZmZmZmYQQJqZmZmZmRFAAAAAAAAAEkAzMzMzMzMPQDMzMzMzMyBAmpmZmZmZEUAAAAAAAAAUQM3MzMzMzBJAAAAAAAAAGEAAAAAAAAAUQAAAAAAAABRAAAAAAAAAEkCamZmZmZkVQGZmZmZmZhZAMzMzMzMzD0AAAAAAAAAQQAAAAAAAABJAZmZmZmZmDkBmZmZmZmYWQM3MzMzMzBRAMzMzMzMzE0CamZmZmZkNQAAAAAAAABJAMzMzMzMzD0BmZmZmZmYUQM3MzMzMzBBAzczMzMzMEEAzMzMzMzMTQM3MzMzMzBJAzczMzMzMEkBmZmZmZmYSQGZmZmZmZg5AzczMzMzMEECamZmZmZkNQM3MzMzMzBBAZmZmZmZmEEAAAAAAAAAQQGZmZmZmZg5AZmZmZmZmDkBmZmZmZmYOQGZmZmZmZhRAAAAAAAAAEEAzMzMzMzMTQDMzMzMzMw9AZmZmZmZmEkA=\",\"dtype\":\"float64\",\"order\":\"little\",\"shape\":[157]},\"distance\":{\"__ndarray__\":\"AAAAAAAAPEAAAAAAAAAoQGZmZmZmZiZAzczMzMzMKUAAAAAAAIAyQJqZmZmZmSBAMzMzMzMzH0CamZmZmZkoQJqZmZmZmRNAzczMzMzMJ0DNzMzMzMwoQJqZmZmZmSdAmpmZmZmZKEAzMzMzM7M4QM3MzMzMzChAzczMzMxMMUAzMzMzM7NAQJqZmZmZmSdAZmZmZmbmOUCamZmZmZknQM3MzMzMTDlAZmZmZmZmLEBmZmZmZuYxQJqZmZmZmSdAmpmZmZmZKEDNzMzMzMwoQGZmZmZmZjJAZmZmZmZmMkDNzMzMzEwyQGZmZmZmZjJAmpmZmZmZKECamZmZmZknQJqZmZmZmShAzczMzMxMQEAAAAAAAAAzQDMzMzMzMyhAAAAAAAAANECamZmZmZkTQJqZmZmZmSdAmpmZmZmZKEDNzMzMzMwoQAAAAAAAABJAZmZmZmZmJ0BmZmZmZmYkQJqZmZmZGTBAmpmZmZmZJ0CamZmZmZkoQM3MzMzMzChAAAAAAAAAHECamZmZmZknQJqZmZmZGTRAzczMzMzMNEAzMzMzMzP7PzMzMzMz80FAMzMzMzNzQkDNzMzMzMwwQM3MzMzMzCNAZmZmZmbmNkDNzMzMzEwxQJqZmZmZmSdAzczMzMxMQkAzMzMzM3NGQJqZmZmZmSdAmpmZmZmZNUAzMzMzM7NDQGZmZmZmZhRAmpmZmZmZOkCamZmZmZlKQGZmZmZm5jJAAAAAAADARUBmZmZmZmYYQGZmZmZmZjBAmpmZmZmZKECamZmZmRk1QJqZmZmZGTVAMzMzMzOzNkAzMzMzMzNGQGZmZmZm5kFAmpmZmZmZJ0AzMzMzMzM6QM3MzMzMTERAzczMzMzMKEAzMzMzMzMsQJqZmZmZWU1AMzMzMzMzMECamZmZmZkoQJqZmZmZmShAzczMzMzMKEDNzMzMzMw/QJqZmZmZmShAzczMzMzMSUDNzMzMzExDQJqZmZmZmShAzczMzMxMVECamZmZmUlgQM3MzMzMzFBAAAAAAAAAM0DNzMzMzMwoQDMzMzMzMzlAmpmZmZmZLECamZmZmZknQGZmZmZm5jBAzczMzMzMKEBmZmZmZmYxQGZmZmZmZiJAmpmZmZmZKEAAAAAAAAAqQJqZmZmZmSdAAAAAAAAAKkCamZmZmZkoQJqZmZmZmShAAAAAAAAAKUAAAAAAAIA/QJqZmZmZmSdAZmZmZmbmOEAAAAAAAAAxQAAAAAAAAABAmpmZmZmZJ0CamZmZmZkdQM3MzMzMzChAAAAAAAAAAEAAAAAAAAAsQDMzMzMzszlAmpmZmZmZJ0BmZmZmZmYQQM3MzMzMzBBAzczMzMzMEEAAAAAAAAAwQM3MzMzMzC5AAAAAAAAAMEDNzMzMzMwQQJqZmZmZeVlAmpmZmZl5V0CamZmZmZkwQM3MzMzMzC5AAAAAAACAMEDNzMzMzMwuQGZmZmZmZjJAAAAAAADAQ0AAAAAAAIA1QDMzMzMzMxNAmpmZmZk5WUBmZmZmZjZgQJqZmZmZmTBAzczMzMzMLkAAAAAAAAAwQAAAAAAAADBAzczMzMzMLkAAAAAAAAAwQAAAAAAAADVAzczMzMzMLkAAAAAAAAAwQJqZmZmZGTBAAAAAAAAAMEDNzMzMzMwuQDMzMzMzMzFAmpmZmZmZMEA=\",\"dtype\":\"float64\",\"order\":\"little\",\"shape\":[157]},\"gas_type\":[\"E10\",\"E10\",\"E10\",\"E10\",\"E10\",\"E10\",\"E10\",\"E10\",\"E10\",\"E10\",\"E10\",\"E10\",\"E10\",\"E10\",\"E10\",\"E10\",\"E10\",\"E10\",\"E10\",\"E10\",\"E10\",\"E10\",\"E10\",\"E10\",\"E10\",\"E10\",\"E10\",\"E10\",\"E10\",\"E10\",\"E10\",\"E10\",\"E10\",\"E10\",\"E10\",\"E10\",\"E10\",\"E10\",\"E10\",\"E10\",\"E10\",\"E10\",\"E10\",\"E10\",\"E10\",\"E10\",\"E10\",\"E10\",\"E10\",\"E10\",\"E10\",\"E10\",\"E10\",\"E10\",\"E10\",\"E10\",\"E10\",\"E10\",\"E10\",\"E10\",\"E10\",\"E10\",\"E10\",\"E10\",\"E10\",\"E10\",\"E10\",\"E10\",\"E10\",\"E10\",\"E10\",\"E10\",\"E10\",\"E10\",\"E10\",\"E10\",\"E10\",\"E10\",\"E10\",\"E10\",\"E10\",\"E10\",\"E10\",\"E10\",\"E10\",\"E10\",\"E10\",\"E10\",\"E10\",\"E10\",\"E10\",\"E10\",\"E10\",\"E10\",\"E10\",\"E10\",\"E10\",\"E10\",\"E10\",\"E10\",\"E10\",\"E10\",\"E10\",\"E10\",\"E10\",\"E10\",\"E10\",\"E10\",\"E10\",\"E10\",\"E10\",\"E10\",\"E10\",\"E10\",\"E10\",\"E10\",\"E10\",\"E10\",\"E10\",\"E10\",\"E10\",\"E10\",\"E10\",\"E10\",\"E10\",\"E10\",\"E10\",\"E10\",\"E10\",\"E10\",\"E10\",\"E10\",\"E10\",\"E10\",\"E10\",\"E10\",\"E10\",\"E10\",\"E10\",\"E10\",\"E10\",\"E10\",\"E10\",\"E10\",\"E10\",\"E10\",\"E10\",\"E10\",\"E10\",\"E10\",\"E10\",\"E10\",\"E10\",\"E10\",\"E10\",\"E10\",\"E10\"],\"index\":[0,1,2,3,4,5,6,7,8,9,10,11,12,13,14,15,16,17,18,19,20,21,22,23,24,25,26,27,28,29,30,31,32,33,34,35,36,37,38,39,40,41,42,43,139,140,141,142,143,144,145,146,147,148,149,150,151,152,153,154,155,156,157,158,159,160,161,162,163,164,165,166,167,168,169,170,171,172,173,174,175,176,177,178,179,180,181,182,183,184,185,186,187,188,189,190,234,235,236,237,238,239,240,241,242,243,244,245,246,247,248,249,250,251,252,253,254,255,256,257,258,259,260,262,263,264,265,266,269,270,271,272,273,325,326,327,328,329,330,331,332,333,334,335,336,337,338,339,340,341,342,343,344,345,346,347,348],\"rain\":[0,0,0,0,0,0,0,0,0,0,0,0,0,0,0,0,0,0,0,0,0,0,0,0,0,0,0,0,0,0,0,0,0,0,0,0,0,0,0,0,1,0,0,0,1,1,0,0,0,0,0,0,1,0,0,0,0,1,1,0,1,0,1,1,1,0,0,0,0,0,0,0,0,0,0,0,0,0,0,0,0,0,0,0,0,0,1,0,0,0,0,0,0,0,0,0,0,0,0,0,0,0,0,0,1,1,0,1,1,0,0,0,0,0,0,0,0,0,0,0,0,0,0,0,0,0,0,0,0,0,0,0,0,0,0,0,0,0,0,0,0,0,0,0,0,0,0,0,0,0,0,0,1,0,0,0,0],\"snow\":[0,0,0,0,0,0,0,0,0,0,0,0,0,0,0,0,0,0,0,0,0,0,0,0,0,0,0,0,0,0,0,0,0,0,0,0,0,0,0,0,0,0,0,0,0,0,0,0,0,0,0,0,0,0,0,0,0,0,0,0,0,0,0,0,0,0,0,0,0,0,0,0,0,0,0,0,0,0,0,0,0,0,0,0,0,0,1,0,0,0,0,0,0,0,0,0,0,0,0,0,0,0,0,0,0,0,0,0,0,0,0,0,0,0,0,0,0,0,0,0,0,0,0,0,0,0,0,0,0,0,0,0,0,0,0,0,0,0,0,0,0,0,0,0,0,0,0,0,0,0,0,0,0,0,0,0,0],\"speed\":[26,30,38,36,46,50,43,40,26,30,42,38,59,58,46,24,36,32,39,40,32,38,37,36,62,57,21,28,29,35,51,29,58,40,36,36,37,26,23,58,55,29,37,44,24,40,58,49,25,37,41,45,14,45,52,46,28,61,61,37,80,62,34,44,60,39,38,71,53,80,26,49,40,36,43,55,38,51,44,42,44,38,47,75,29,50,52,51,59,55,73,44,41,69,85,67,29,38,55,36,40,48,55,36,33,54,32,16,37,42,57,57,30,42,53,46,20,33,31,55,22,41,45,28,24,29,29,40,50,41,32,75,88,49,43,43,21,59,58,47,26,87,58,43,50,45,41,45,43,37,47,42,30,42,40,35,50],\"sun\":[0,0,0,0,0,0,0,0,0,0,0,0,0,0,0,0,0,0,0,0,0,0,0,0,0,0,0,0,0,0,0,0,0,0,0,0,0,0,0,0,0,0,0,0,0,0,0,0,0,0,0,0,0,0,0,0,0,0,0,0,0,0,0,0,0,0,0,0,0,0,0,0,0,0,0,0,0,0,0,0,0,0,0,0,0,0,0,0,0,0,0,0,0,0,0,0,0,0,0,0,0,1,1,1,0,0,0,0,0,0,1,1,1,0,0,1,0,0,0,1,0,0,0,0,0,0,1,0,0,0,0,0,1,0,0,0,0,0,0,1,0,0,0,0,0,0,0,0,0,0,0,0,0,0,0,0,0],\"temp_diff\":{\"__ndarray__\":\"AAAAAAAAI0AAAAAAAAAhQAAAAAAAABpAAAAAAAAAHkAAAAAAAAAaQAAAAAAAACdAAAAAAAAAJUAAAAAAAAAvQAAAAAAAgDFAAAAAAAAAKUAAAAAAAIAxQAAAAAAAgDVAAAAAAAAAJ0AAAAAAAAAjQAAAAAAAACVAAAAAAACAMEAAAAAAAIAyQAAAAAAAgDJAAAAAAAAAK0AAAAAAAIAxQAAAAAAAgDJAAAAAAACANEAAAAAAAIA0QAAAAAAAgDRAAAAAAAAAL0AAAAAAAAApQAAAAAAAgDRAAAAAAACAMkAAAAAAAIA0QAAAAAAAgDFAAAAAAAAAJUAAAAAAAAAnQAAAAAAAACtAAAAAAAAALUAAAAAAAAAtQAAAAAAAACtAAAAAAACAMUAAAAAAAAAvQAAAAAAAAClAAAAAAAAALUAAAAAAAAAtQAAAAAAAAC1AAAAAAAAAL0AAAAAAAAAtQAAAAAAAAC1AAAAAAAAAJ0AAAAAAAAAhQAAAAAAAABJAAAAAAAAAEkAAAAAAAAAnQAAAAAAAAAxAAAAAAAAAJ0AAAAAAAAAnQAAAAAAAACNAAAAAAACAMEAAAAAAAAArQAAAAAAAAClAAAAAAAAALUAAAAAAAAAvQAAAAAAAAC1AAAAAAAAALUAAAAAAAAArQAAAAAAAAClAAAAAAAAAKUAAAAAAAAApQAAAAAAAgDFAAAAAAAAALUAAAAAAAIAzQAAAAAAAgDNAAAAAAACAMkAAAAAAAIAwQAAAAAAAgDBAAAAAAAAAL0AAAAAAAAArQAAAAAAAAC1AAAAAAAAAL0AAAAAAAAArQAAAAAAAAC9AAAAAAACANUAAAAAAAAAvQAAAAAAAADJAAAAAAAAAOkAAAAAAAAA4QAAAAAAAADVAAAAAAAAANUAAAAAAAIA2QAAAAAAAgDZAAAAAAACANUAAAAAAAIAzQAAAAAAAAC1AAAAAAAAAJUAAAAAAAAApQAAAAAAAAC9AAAAAAAAAIkAAAAAAAAAkQAAAAAAAABBAAAAAAAAAKUAAAAAAAIA1QAAAAAAAACtAAAAAAAAAKUAAAAAAAIA0QAAAAAAAACtAAAAAAAAAJ0AAAAAAAAAlQAAAAAAAAC1AAAAAAAAAKUAAAAAAAAApQAAAAAAAgDBAAAAAAAAAJ0AAAAAAAAApQAAAAAAAAB5AAAAAAAAAGkAAAAAAAAAaQAAAAAAAAC1AAAAAAAAAIUAAAAAAAAAhQAAAAAAAACFAAAAAAAAALUAAAAAAAAAlQAAAAAAAACFAAAAAAAAAIUAAAAAAAAAtQAAAAAAAAC9AAAAAAAAAJUAAAAAAAAAjQAAAAAAAABRAAAAAAAAAEEAAAAAAAAAoQAAAAAAAACBAAAAAAAAAJEAAAAAAAAAQQAAAAAAAABBAAAAAAAAAFEAAAAAAAAAUQAAAAAAAAADAAAAAAAAAFEAAAAAAAAAAwAAAAAAAAADAAAAAAAAACMAAAAAAAAAAwAAAAAAAABxAAAAAAAAA+D8AAAAAAAAIQAAAAAAAABZAAAAAAAAA4D8AAAAAAAAUQAAAAAAAABxAAAAAAAAAAMAAAAAAAAAYQAAAAAAAAPA/AAAAAAAAAMAAAAAAAAAUQAAAAAAAACJAAAAAAAAAHEAAAAAAAAAQQAAAAAAAABhAAAAAAAAACMA=\",\"dtype\":\"float64\",\"order\":\"little\",\"shape\":[157]}},\"selected\":{\"id\":\"3064\"},\"selection_policy\":{\"id\":\"3063\"}},\"id\":\"3048\",\"type\":\"ColumnDataSource\"},{\"attributes\":{},\"id\":\"3029\",\"type\":\"BasicTicker\"},{\"attributes\":{},\"id\":\"3061\",\"type\":\"BasicTickFormatter\"},{\"attributes\":{\"fill_alpha\":{\"value\":0.4},\"fill_color\":{\"value\":\"#2b83ba\"},\"hatch_alpha\":{\"value\":0.8},\"hatch_color\":{\"value\":\"#2b83ba\"},\"line_alpha\":{\"value\":0.8},\"line_color\":{\"value\":\"#2b83ba\"},\"marker\":{\"field\":\"gas_type\",\"transform\":{\"id\":\"3047\"}},\"size\":{\"value\":12},\"x\":{\"field\":\"temp_diff\"},\"y\":{\"field\":\"consume\"}},\"id\":\"3050\",\"type\":\"Scatter\"},{\"attributes\":{\"source\":{\"id\":\"3048\"}},\"id\":\"3054\",\"type\":\"CDSView\"},{\"attributes\":{},\"id\":\"3033\",\"type\":\"WheelZoomTool\"},{\"attributes\":{},\"id\":\"3032\",\"type\":\"PanTool\"},{\"attributes\":{},\"id\":\"3063\",\"type\":\"UnionRenderers\"},{\"attributes\":{\"overlay\":{\"id\":\"3038\"}},\"id\":\"3034\",\"type\":\"BoxZoomTool\"},{\"attributes\":{},\"id\":\"3036\",\"type\":\"ResetTool\"},{\"attributes\":{\"factors\":[\"E10\",\"SP98\"],\"markers\":[\"hex\",\"circle_x\",\"triangle\"]},\"id\":\"3047\",\"type\":\"CategoricalMarkerMapper\"},{\"attributes\":{\"coordinates\":null,\"group\":null,\"text\":\"Fuel consumption dependence on temperature difference \\n(Click on legend entries to mute the corresponding lines)\"},\"id\":\"3046\",\"type\":\"Title\"},{\"attributes\":{\"fill_alpha\":{\"value\":0.1},\"fill_color\":{\"value\":\"#2b83ba\"},\"hatch_alpha\":{\"value\":0.1},\"hatch_color\":{\"value\":\"#2b83ba\"},\"line_alpha\":{\"value\":0.1},\"line_color\":{\"value\":\"#2b83ba\"},\"marker\":{\"field\":\"gas_type\",\"transform\":{\"id\":\"3047\"}},\"size\":{\"value\":12},\"x\":{\"field\":\"temp_diff\"},\"y\":{\"field\":\"consume\"}},\"id\":\"3051\",\"type\":\"Scatter\"},{\"attributes\":{\"fill_alpha\":{\"value\":0.2},\"fill_color\":{\"value\":\"#abdda4\"},\"hatch_alpha\":{\"value\":0.2},\"hatch_color\":{\"value\":\"#abdda4\"},\"line_alpha\":{\"value\":0.2},\"line_color\":{\"value\":\"#abdda4\"},\"marker\":{\"field\":\"gas_type\",\"transform\":{\"id\":\"3068\"}},\"size\":{\"value\":12},\"x\":{\"field\":\"temp_diff\"},\"y\":{\"field\":\"consume\"}},\"id\":\"3073\",\"type\":\"Scatter\"},{\"attributes\":{\"fill_alpha\":{\"value\":0.4},\"fill_color\":{\"value\":\"#abdda4\"},\"hatch_alpha\":{\"value\":0.8},\"hatch_color\":{\"value\":\"#abdda4\"},\"line_alpha\":{\"value\":0.8},\"line_color\":{\"value\":\"#abdda4\"},\"marker\":{\"field\":\"gas_type\",\"transform\":{\"id\":\"3068\"}},\"size\":{\"value\":12},\"x\":{\"field\":\"temp_diff\"},\"y\":{\"field\":\"consume\"}},\"id\":\"3071\",\"type\":\"Scatter\"},{\"attributes\":{},\"id\":\"3035\",\"type\":\"SaveTool\"},{\"attributes\":{},\"id\":\"3059\",\"type\":\"AllLabels\"},{\"attributes\":{\"coordinates\":null,\"data_source\":{\"id\":\"3048\"},\"glyph\":{\"id\":\"3050\"},\"group\":null,\"hover_glyph\":null,\"muted_glyph\":{\"id\":\"3052\"},\"nonselection_glyph\":{\"id\":\"3051\"},\"view\":{\"id\":\"3054\"}},\"id\":\"3053\",\"type\":\"GlyphRenderer\"},{\"attributes\":{},\"id\":\"3062\",\"type\":\"AllLabels\"},{\"attributes\":{\"label\":{\"value\":\"E10\"},\"renderers\":[{\"id\":\"3053\"}]},\"id\":\"3067\",\"type\":\"LegendItem\"},{\"attributes\":{\"bottom_units\":\"screen\",\"coordinates\":null,\"fill_alpha\":0.5,\"fill_color\":\"lightgrey\",\"group\":null,\"left_units\":\"screen\",\"level\":\"overlay\",\"line_alpha\":1.0,\"line_color\":\"black\",\"line_dash\":[4,4],\"line_width\":2,\"right_units\":\"screen\",\"syncable\":false,\"top_units\":\"screen\"},\"id\":\"3038\",\"type\":\"BoxAnnotation\"},{\"attributes\":{},\"id\":\"3020\",\"type\":\"LinearScale\"},{\"attributes\":{\"fill_alpha\":{\"value\":0.1},\"fill_color\":{\"value\":\"#abdda4\"},\"hatch_alpha\":{\"value\":0.1},\"hatch_color\":{\"value\":\"#abdda4\"},\"line_alpha\":{\"value\":0.1},\"line_color\":{\"value\":\"#abdda4\"},\"marker\":{\"field\":\"gas_type\",\"transform\":{\"id\":\"3068\"}},\"size\":{\"value\":12},\"x\":{\"field\":\"temp_diff\"},\"y\":{\"field\":\"consume\"}},\"id\":\"3072\",\"type\":\"Scatter\"},{\"attributes\":{\"source\":{\"id\":\"3069\"}},\"id\":\"3075\",\"type\":\"CDSView\"},{\"attributes\":{\"coordinates\":null,\"data_source\":{\"id\":\"3069\"},\"glyph\":{\"id\":\"3071\"},\"group\":null,\"hover_glyph\":null,\"muted_glyph\":{\"id\":\"3073\"},\"nonselection_glyph\":{\"id\":\"3072\"},\"view\":{\"id\":\"3075\"}},\"id\":\"3074\",\"type\":\"GlyphRenderer\"},{\"attributes\":{\"coordinates\":null,\"formatter\":{\"id\":\"3058\"},\"group\":null,\"major_label_policy\":{\"id\":\"3059\"},\"ticker\":{\"id\":\"3029\"}},\"id\":\"3028\",\"type\":\"LinearAxis\"},{\"attributes\":{},\"id\":\"3058\",\"type\":\"BasicTickFormatter\"},{\"attributes\":{\"data\":{\"AC\":[0,0,0,0,0,0,0,0,0,0,0,0,0,0,0,0,1,1,0,0,0,0,0,0,0,1,0,0,0,0,0,0,0,0,0,0,0,0,0,0,0,0,0,0,0,0,0,0,0,1,0,1,0,1,0,0,0,0,0,0,0,0,0,0,0,0,0,0,0,0,0,0,0,0,0,0,0,0,0,0,0,0,0,0,0,0,0,0,0,0,0,0,0,0,0,0,0,0,0,1,1,0,0,0,0,0,0,0,0,0,0,0,0,0,0,0,0,0,0,0,0,0,0,1,0,0,0,0,0,0,0,0,1,0,0,0,0,0,0,0,0,0,0,0,0,0,0,0,0,0,0,0,0,0,1,0,1,1,1,0,0,0,0,0,0,0,0,0,0,0,0,0,0,0,0,0,0,0,0,0,0,0,0,0,0,0,0,0,0,0,0,0,0,0,0,0,0,1,1,1,0,0,0,0,1,1,0,0,0,1,0,0,0,0,0,1,0,1,1],\"consume\":{\"__ndarray__\":\"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\",\"dtype\":\"float64\",\"order\":\"little\",\"shape\":[219]},\"distance\":{\"__ndarray__\":\"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\",\"dtype\":\"float64\",\"order\":\"little\",\"shape\":[219]},\"gas_type\":[\"SP98\",\"SP98\",\"SP98\",\"SP98\",\"SP98\",\"SP98\",\"SP98\",\"SP98\",\"SP98\",\"SP98\",\"SP98\",\"SP98\",\"SP98\",\"SP98\",\"SP98\",\"SP98\",\"SP98\",\"SP98\",\"SP98\",\"SP98\",\"SP98\",\"SP98\",\"SP98\",\"SP98\",\"SP98\",\"SP98\",\"SP98\",\"SP98\",\"SP98\",\"SP98\",\"SP98\",\"SP98\",\"SP98\",\"SP98\",\"SP98\",\"SP98\",\"SP98\",\"SP98\",\"SP98\",\"SP98\",\"SP98\",\"SP98\",\"SP98\",\"SP98\",\"SP98\",\"SP98\",\"SP98\",\"SP98\",\"SP98\",\"SP98\",\"SP98\",\"SP98\",\"SP98\",\"SP98\",\"SP98\",\"SP98\",\"SP98\",\"SP98\",\"SP98\",\"SP98\",\"SP98\",\"SP98\",\"SP98\",\"SP98\",\"SP98\",\"SP98\",\"SP98\",\"SP98\",\"SP98\",\"SP98\",\"SP98\",\"SP98\",\"SP98\",\"SP98\",\"SP98\",\"SP98\",\"SP98\",\"SP98\",\"SP98\",\"SP98\",\"SP98\",\"SP98\",\"SP98\",\"SP98\",\"SP98\",\"SP98\",\"SP98\",\"SP98\",\"SP98\",\"SP98\",\"SP98\",\"SP98\",\"SP98\",\"SP98\",\"SP98\",\"SP98\",\"SP98\",\"SP98\",\"SP98\",\"SP98\",\"SP98\",\"SP98\",\"SP98\",\"SP98\",\"SP98\",\"SP98\",\"SP98\",\"SP98\",\"SP98\",\"SP98\",\"SP98\",\"SP98\",\"SP98\",\"SP98\",\"SP98\",\"SP98\",\"SP98\",\"SP98\",\"SP98\",\"SP98\",\"SP98\",\"SP98\",\"SP98\",\"SP98\",\"SP98\",\"SP98\",\"SP98\",\"SP98\",\"SP98\",\"SP98\",\"SP98\",\"SP98\",\"SP98\",\"SP98\",\"SP98\",\"SP98\",\"SP98\",\"SP98\",\"SP98\",\"SP98\",\"SP98\",\"SP98\",\"SP98\",\"SP98\",\"SP98\",\"SP98\",\"SP98\",\"SP98\",\"SP98\",\"SP98\",\"SP98\",\"SP98\",\"SP98\",\"SP98\",\"SP98\",\"SP98\",\"SP98\",\"SP98\",\"SP98\",\"SP98\",\"SP98\",\"SP98\",\"SP98\",\"SP98\",\"SP98\",\"SP98\",\"SP98\",\"SP98\",\"SP98\",\"SP98\",\"SP98\",\"SP98\",\"SP98\",\"SP98\",\"SP98\",\"SP98\",\"SP98\",\"SP98\",\"SP98\",\"SP98\",\"SP98\",\"SP98\",\"SP98\",\"SP98\",\"SP98\",\"SP98\",\"SP98\",\"SP98\",\"SP98\",\"SP98\",\"SP98\",\"SP98\",\"SP98\",\"SP98\",\"SP98\",\"SP98\",\"SP98\",\"SP98\",\"SP98\",\"SP98\",\"SP98\",\"SP98\",\"SP98\",\"SP98\",\"SP98\",\"SP98\",\"SP98\",\"SP98\",\"SP98\",\"SP98\",\"SP98\",\"SP98\",\"SP98\",\"SP98\",\"SP98\",\"SP98\",\"SP98\",\"SP98\",\"SP98\"],\"index\":[44,45,46,47,48,49,50,51,52,53,54,55,56,57,58,59,60,61,62,63,64,65,66,67,68,69,70,71,72,73,74,75,76,77,78,79,80,81,82,83,84,85,86,87,88,89,90,91,92,94,96,101,103,104,105,106,107,108,109,110,111,112,113,114,115,116,117,118,119,120,121,122,123,124,125,126,127,128,129,130,131,132,133,134,135,136,137,138,191,192,193,194,195,196,197,198,199,200,202,204,205,206,207,208,209,210,211,212,213,214,215,216,217,218,219,220,221,222,223,224,225,226,227,228,229,230,231,232,233,274,275,276,277,278,279,280,281,282,283,284,285,286,287,288,289,290,291,292,293,294,295,296,297,298,299,300,301,302,303,304,305,306,307,308,309,310,311,312,313,314,315,316,317,318,319,320,321,322,323,324,349,350,351,352,353,354,355,356,357,358,359,360,361,362,363,364,365,366,367,368,369,370,371,372,373,374,375,376,377,378,379,380,381,382,383,384,385,386,387],\"rain\":[0,0,0,0,0,0,1,0,0,1,0,1,0,0,0,1,1,1,0,0,0,0,0,0,0,0,0,0,0,0,0,0,0,0,0,0,0,0,0,0,0,1,1,1,0,0,0,0,0,1,0,1,1,1,0,0,0,0,0,0,0,0,0,0,0,1,1,1,0,0,0,0,0,1,1,0,0,0,0,0,0,0,0,0,0,1,1,1,1,0,0,0,0,0,0,0,0,0,0,1,0,0,0,0,0,0,0,0,0,0,0,0,0,0,0,0,0,0,0,1,0,0,1,1,0,0,0,0,0,1,0,0,1,0,0,0,0,0,0,0,0,0,0,0,0,0,0,0,0,0,0,0,0,0,0,0,0,0,0,0,1,0,0,0,0,0,0,0,0,0,0,0,0,0,0,0,1,0,0,0,0,1,0,0,0,0,0,0,0,0,0,0,0,0,0,0,0,0,0,0,0,0,0,0,0,0,0,0,0,0,0,0,0,0,0,0,0,0,0],\"snow\":[0,0,0,0,0,0,0,0,0,0,0,0,0,0,0,0,0,0,0,0,0,0,0,0,0,0,0,0,0,0,0,0,0,0,0,0,0,0,0,0,0,0,0,0,0,0,0,0,0,0,0,0,0,0,0,0,0,0,0,0,0,0,0,0,0,0,0,1,0,0,0,0,0,1,1,0,0,0,0,0,0,0,0,0,0,0,0,0,0,0,0,0,0,0,0,0,0,0,0,0,0,0,0,0,0,0,0,0,0,0,0,0,0,0,0,0,0,0,0,0,0,0,0,0,0,0,0,0,0,0,0,0,0,0,0,0,0,0,0,0,0,0,0,0,0,0,0,0,0,0,0,0,0,0,0,0,0,0,0,0,0,0,0,0,0,0,0,0,0,0,0,0,0,0,0,0,0,0,0,0,0,0,0,0,0,0,0,0,0,0,0,0,0,0,0,0,0,0,0,0,0,0,0,0,0,0,0,0,0,0,0,0,0,0,0,0,0,0,0],\"speed\":[32,21,32,25,25,36,29,63,61,46,28,82,24,61,57,52,18,23,24,26,24,57,41,55,40,37,55,20,29,42,25,38,39,50,56,28,36,39,42,57,25,58,51,45,32,22,37,60,51,21,57,71,25,18,45,75,26,36,56,37,25,21,66,42,27,26,42,38,40,43,58,55,24,38,57,56,46,37,44,46,39,33,43,26,30,25,38,61,44,43,82,61,41,63,54,24,24,43,44,28,31,26,26,36,39,21,22,31,33,42,33,32,26,22,58,27,32,55,56,34,39,62,53,38,42,32,43,69,38,50,40,32,40,41,26,42,43,40,50,40,44,45,35,30,25,22,43,26,33,26,39,47,38,58,65,54,35,46,32,42,33,40,34,35,33,60,48,56,38,53,51,53,53,80,90,27,52,43,48,29,46,36,46,35,44,46,23,48,35,33,36,27,45,55,39,35,52,48,48,43,42,43,33,47,16,44,33,36,49,39,44,52,33,33,39,38,45,42,25],\"sun\":[0,0,0,0,0,0,0,0,0,0,0,0,0,0,0,0,0,0,0,0,0,0,0,0,0,0,0,0,0,0,0,0,0,0,0,0,0,0,0,0,0,0,0,0,0,0,0,0,0,0,0,0,0,0,0,0,0,0,0,0,0,0,0,0,0,0,0,0,0,0,0,0,0,0,0,0,0,0,0,0,0,0,0,0,0,0,0,0,0,0,0,0,0,0,0,0,0,0,0,0,0,0,0,0,0,0,0,0,0,0,0,0,0,0,1,0,0,0,0,0,0,0,0,0,0,0,0,0,0,0,0,0,0,0,0,0,0,0,0,0,0,1,1,0,1,1,0,0,0,0,1,0,0,0,1,1,1,0,0,0,0,0,0,0,0,0,1,1,0,0,0,0,0,0,1,1,0,0,0,0,0,0,0,0,0,0,1,0,0,1,0,0,0,0,0,0,0,1,0,0,0,0,0,0,0,0,0,0,1,0,1,0,1,1,0,0,0,0,0],\"temp_diff\":{\"__ndarray__\":\"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\",\"dtype\":\"float64\",\"order\":\"little\",\"shape\":[219]}},\"selected\":{\"id\":\"3087\"},\"selection_policy\":{\"id\":\"3086\"}},\"id\":\"3069\",\"type\":\"ColumnDataSource\"},{\"attributes\":{},\"id\":\"3018\",\"type\":\"DataRange1d\"},{\"attributes\":{},\"id\":\"3016\",\"type\":\"DataRange1d\"},{\"attributes\":{},\"id\":\"3086\",\"type\":\"UnionRenderers\"},{\"attributes\":{},\"id\":\"3022\",\"type\":\"LinearScale\"},{\"attributes\":{\"factors\":[\"E10\",\"SP98\"],\"markers\":[\"hex\",\"circle_x\",\"triangle\"]},\"id\":\"3068\",\"type\":\"CategoricalMarkerMapper\"},{\"attributes\":{\"coordinates\":null,\"formatter\":{\"id\":\"3061\"},\"group\":null,\"major_label_policy\":{\"id\":\"3062\"},\"ticker\":{\"id\":\"3025\"}},\"id\":\"3024\",\"type\":\"LinearAxis\"},{\"attributes\":{\"axis\":{\"id\":\"3024\"},\"coordinates\":null,\"group\":null,\"ticker\":null},\"id\":\"3027\",\"type\":\"Grid\"}],\"root_ids\":[\"3015\"]},\"title\":\"Bokeh Application\",\"version\":\"2.4.2\"}};\n  const render_items = [{\"docid\":\"e08956c6-1201-4bb7-b8e6-973759528bb5\",\"root_ids\":[\"3015\"],\"roots\":{\"3015\":\"fcdb0de1-20fd-4d34-a20e-163553582951\"}}];\n  root.Bokeh.embed.embed_items_notebook(docs_json, render_items);\n\n  }\n  if (root.Bokeh !== undefined) {\n    embed_document(root);\n  } else {\n    let attempts = 0;\n    const timer = setInterval(function(root) {\n      if (root.Bokeh !== undefined) {\n        clearInterval(timer);\n        embed_document(root);\n      } else {\n        attempts++;\n        if (attempts > 100) {\n          clearInterval(timer);\n          console.log(\"Bokeh: ERROR: Unable to run BokehJS code because BokehJS library is missing\");\n        }\n      }\n    }, 10, root)\n  }\n})(window);",
      "application/vnd.bokehjs_exec.v0+json": ""
     },
     "metadata": {
      "application/vnd.bokehjs_exec.v0+json": {
       "id": "3015"
      }
     },
     "output_type": "display_data"
    }
   ],
   "source": [
    "MARKERS = ['hex', 'circle_x', 'triangle']\n",
    "GAS_TYPES = list(data.gas_type.unique())\n",
    "\n",
    "E10_data = data[data[\"gas_type\"] == \"E10\"]\n",
    "SP98_data = data[data[\"gas_type\"] == \"SP98\"]\n",
    "\n",
    "p = figure(width=700, height=250)\n",
    "p.title.text = \"\"\"Fuel consumption dependence on temperature difference \n",
    "(Click on legend entries to mute the corresponding lines)\"\"\"\n",
    "\n",
    "for df, name, color in zip([E10_data, SP98_data], [\"E10\", \"SP98\"], Spectral4):\n",
    "    p.scatter(\"temp_diff\", \"consume\", source=df, fill_alpha=0.4, size=12,\n",
    "          marker=factor_mark('gas_type', MARKERS, GAS_TYPES), \n",
    "          color=color, alpha=0.8, \n",
    "          muted_color=color, muted_alpha=0.2, legend_label=name)\n",
    "\n",
    "p.legend.location = \"top_left\"\n",
    "p.legend.click_policy=\"mute\"\n",
    "\n",
    "show(p)"
   ]
  },
  {
   "cell_type": "code",
   "execution_count": 45,
   "metadata": {},
   "outputs": [
    {
     "data": {
      "text/html": [
       "\n",
       "\n",
       "\n",
       "\n",
       "\n",
       "\n",
       "  <div class=\"bk-root\" id=\"af1e336c-93a9-4db1-ab09-ab4a26a06e00\" data-root-id=\"3305\"></div>\n"
      ]
     },
     "metadata": {},
     "output_type": "display_data"
    },
    {
     "data": {
      "application/javascript": "(function(root) {\n  function embed_document(root) {\n    \n  const docs_json = {\"53e87fb4-59f8-413f-a8c7-5b7644f690da\":{\"defs\":[],\"roots\":{\"references\":[{\"attributes\":{\"below\":[{\"id\":\"3314\"}],\"center\":[{\"id\":\"3317\"},{\"id\":\"3321\"},{\"id\":\"3356\"}],\"height\":250,\"left\":[{\"id\":\"3318\"}],\"renderers\":[{\"id\":\"3343\"},{\"id\":\"3364\"}],\"title\":{\"id\":\"3336\"},\"toolbar\":{\"id\":\"3329\"},\"width\":700,\"x_range\":{\"id\":\"3306\"},\"x_scale\":{\"id\":\"3310\"},\"y_range\":{\"id\":\"3308\"},\"y_scale\":{\"id\":\"3312\"}},\"id\":\"3305\",\"subtype\":\"Figure\",\"type\":\"Plot\"},{\"attributes\":{},\"id\":\"3352\",\"type\":\"AllLabels\"},{\"attributes\":{\"data\":{\"AC\":[0,0,0,0,0,0,0,0,0,0,0,0,0,0,0,0,1,1,0,0,0,0,0,0,0,1,0,0,0,0,0,0,0,0,0,0,0,0,0,0,0,0,0,0,0,0,0,0,0,1,0,1,0,1,0,0,0,0,0,0,0,0,0,0,0,0,0,0,0,0,0,0,0,0,0,0,0,0,0,0,0,0,0,0,0,0,0,0,0,0,0,0,0,0,0,0,0,0,0,1,1,0,0,0,0,0,0,0,0,0,0,0,0,0,0,0,0,0,0,0,0,0,0,1,0,0,0,0,0,0,0,0,1,0,0,0,0,0,0,0,0,0,0,0,0,0,0,0,0,0,0,0,0,0,1,0,1,1,1,0,0,0,0,0,0,0,0,0,0,0,0,0,0,0,0,0,0,0,0,0,0,0,0,0,0,0,0,0,0,0,0,0,0,0,0,0,0,1,1,1,0,0,0,0,1,1,0,0,0,1,0,0,0,0,0,1,0,1,1],\"consume\":{\"__ndarray__\":\"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\",\"dtype\":\"float64\",\"order\":\"little\",\"shape\":[219]},\"distance\":{\"__ndarray__\":\"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\",\"dtype\":\"float64\",\"order\":\"little\",\"shape\":[219]},\"gas_type\":[\"SP98\",\"SP98\",\"SP98\",\"SP98\",\"SP98\",\"SP98\",\"SP98\",\"SP98\",\"SP98\",\"SP98\",\"SP98\",\"SP98\",\"SP98\",\"SP98\",\"SP98\",\"SP98\",\"SP98\",\"SP98\",\"SP98\",\"SP98\",\"SP98\",\"SP98\",\"SP98\",\"SP98\",\"SP98\",\"SP98\",\"SP98\",\"SP98\",\"SP98\",\"SP98\",\"SP98\",\"SP98\",\"SP98\",\"SP98\",\"SP98\",\"SP98\",\"SP98\",\"SP98\",\"SP98\",\"SP98\",\"SP98\",\"SP98\",\"SP98\",\"SP98\",\"SP98\",\"SP98\",\"SP98\",\"SP98\",\"SP98\",\"SP98\",\"SP98\",\"SP98\",\"SP98\",\"SP98\",\"SP98\",\"SP98\",\"SP98\",\"SP98\",\"SP98\",\"SP98\",\"SP98\",\"SP98\",\"SP98\",\"SP98\",\"SP98\",\"SP98\",\"SP98\",\"SP98\",\"SP98\",\"SP98\",\"SP98\",\"SP98\",\"SP98\",\"SP98\",\"SP98\",\"SP98\",\"SP98\",\"SP98\",\"SP98\",\"SP98\",\"SP98\",\"SP98\",\"SP98\",\"SP98\",\"SP98\",\"SP98\",\"SP98\",\"SP98\",\"SP98\",\"SP98\",\"SP98\",\"SP98\",\"SP98\",\"SP98\",\"SP98\",\"SP98\",\"SP98\",\"SP98\",\"SP98\",\"SP98\",\"SP98\",\"SP98\",\"SP98\",\"SP98\",\"SP98\",\"SP98\",\"SP98\",\"SP98\",\"SP98\",\"SP98\",\"SP98\",\"SP98\",\"SP98\",\"SP98\",\"SP98\",\"SP98\",\"SP98\",\"SP98\",\"SP98\",\"SP98\",\"SP98\",\"SP98\",\"SP98\",\"SP98\",\"SP98\",\"SP98\",\"SP98\",\"SP98\",\"SP98\",\"SP98\",\"SP98\",\"SP98\",\"SP98\",\"SP98\",\"SP98\",\"SP98\",\"SP98\",\"SP98\",\"SP98\",\"SP98\",\"SP98\",\"SP98\",\"SP98\",\"SP98\",\"SP98\",\"SP98\",\"SP98\",\"SP98\",\"SP98\",\"SP98\",\"SP98\",\"SP98\",\"SP98\",\"SP98\",\"SP98\",\"SP98\",\"SP98\",\"SP98\",\"SP98\",\"SP98\",\"SP98\",\"SP98\",\"SP98\",\"SP98\",\"SP98\",\"SP98\",\"SP98\",\"SP98\",\"SP98\",\"SP98\",\"SP98\",\"SP98\",\"SP98\",\"SP98\",\"SP98\",\"SP98\",\"SP98\",\"SP98\",\"SP98\",\"SP98\",\"SP98\",\"SP98\",\"SP98\",\"SP98\",\"SP98\",\"SP98\",\"SP98\",\"SP98\",\"SP98\",\"SP98\",\"SP98\",\"SP98\",\"SP98\",\"SP98\",\"SP98\",\"SP98\",\"SP98\",\"SP98\",\"SP98\",\"SP98\",\"SP98\",\"SP98\",\"SP98\",\"SP98\",\"SP98\",\"SP98\",\"SP98\",\"SP98\",\"SP98\",\"SP98\",\"SP98\",\"SP98\",\"SP98\",\"SP98\",\"SP98\",\"SP98\",\"SP98\",\"SP98\",\"SP98\"],\"index\":[44,45,46,47,48,49,50,51,52,53,54,55,56,57,58,59,60,61,62,63,64,65,66,67,68,69,70,71,72,73,74,75,76,77,78,79,80,81,82,83,84,85,86,87,88,89,90,91,92,94,96,101,103,104,105,106,107,108,109,110,111,112,113,114,115,116,117,118,119,120,121,122,123,124,125,126,127,128,129,130,131,132,133,134,135,136,137,138,191,192,193,194,195,196,197,198,199,200,202,204,205,206,207,208,209,210,211,212,213,214,215,216,217,218,219,220,221,222,223,224,225,226,227,228,229,230,231,232,233,274,275,276,277,278,279,280,281,282,283,284,285,286,287,288,289,290,291,292,293,294,295,296,297,298,299,300,301,302,303,304,305,306,307,308,309,310,311,312,313,314,315,316,317,318,319,320,321,322,323,324,349,350,351,352,353,354,355,356,357,358,359,360,361,362,363,364,365,366,367,368,369,370,371,372,373,374,375,376,377,378,379,380,381,382,383,384,385,386,387],\"rain\":[0,0,0,0,0,0,1,0,0,1,0,1,0,0,0,1,1,1,0,0,0,0,0,0,0,0,0,0,0,0,0,0,0,0,0,0,0,0,0,0,0,1,1,1,0,0,0,0,0,1,0,1,1,1,0,0,0,0,0,0,0,0,0,0,0,1,1,1,0,0,0,0,0,1,1,0,0,0,0,0,0,0,0,0,0,1,1,1,1,0,0,0,0,0,0,0,0,0,0,1,0,0,0,0,0,0,0,0,0,0,0,0,0,0,0,0,0,0,0,1,0,0,1,1,0,0,0,0,0,1,0,0,1,0,0,0,0,0,0,0,0,0,0,0,0,0,0,0,0,0,0,0,0,0,0,0,0,0,0,0,1,0,0,0,0,0,0,0,0,0,0,0,0,0,0,0,1,0,0,0,0,1,0,0,0,0,0,0,0,0,0,0,0,0,0,0,0,0,0,0,0,0,0,0,0,0,0,0,0,0,0,0,0,0,0,0,0,0,0],\"snow\":[0,0,0,0,0,0,0,0,0,0,0,0,0,0,0,0,0,0,0,0,0,0,0,0,0,0,0,0,0,0,0,0,0,0,0,0,0,0,0,0,0,0,0,0,0,0,0,0,0,0,0,0,0,0,0,0,0,0,0,0,0,0,0,0,0,0,0,1,0,0,0,0,0,1,1,0,0,0,0,0,0,0,0,0,0,0,0,0,0,0,0,0,0,0,0,0,0,0,0,0,0,0,0,0,0,0,0,0,0,0,0,0,0,0,0,0,0,0,0,0,0,0,0,0,0,0,0,0,0,0,0,0,0,0,0,0,0,0,0,0,0,0,0,0,0,0,0,0,0,0,0,0,0,0,0,0,0,0,0,0,0,0,0,0,0,0,0,0,0,0,0,0,0,0,0,0,0,0,0,0,0,0,0,0,0,0,0,0,0,0,0,0,0,0,0,0,0,0,0,0,0,0,0,0,0,0,0,0,0,0,0,0,0,0,0,0,0,0,0],\"speed\":[32,21,32,25,25,36,29,63,61,46,28,82,24,61,57,52,18,23,24,26,24,57,41,55,40,37,55,20,29,42,25,38,39,50,56,28,36,39,42,57,25,58,51,45,32,22,37,60,51,21,57,71,25,18,45,75,26,36,56,37,25,21,66,42,27,26,42,38,40,43,58,55,24,38,57,56,46,37,44,46,39,33,43,26,30,25,38,61,44,43,82,61,41,63,54,24,24,43,44,28,31,26,26,36,39,21,22,31,33,42,33,32,26,22,58,27,32,55,56,34,39,62,53,38,42,32,43,69,38,50,40,32,40,41,26,42,43,40,50,40,44,45,35,30,25,22,43,26,33,26,39,47,38,58,65,54,35,46,32,42,33,40,34,35,33,60,48,56,38,53,51,53,53,80,90,27,52,43,48,29,46,36,46,35,44,46,23,48,35,33,36,27,45,55,39,35,52,48,48,43,42,43,33,47,16,44,33,36,49,39,44,52,33,33,39,38,45,42,25],\"sun\":[0,0,0,0,0,0,0,0,0,0,0,0,0,0,0,0,0,0,0,0,0,0,0,0,0,0,0,0,0,0,0,0,0,0,0,0,0,0,0,0,0,0,0,0,0,0,0,0,0,0,0,0,0,0,0,0,0,0,0,0,0,0,0,0,0,0,0,0,0,0,0,0,0,0,0,0,0,0,0,0,0,0,0,0,0,0,0,0,0,0,0,0,0,0,0,0,0,0,0,0,0,0,0,0,0,0,0,0,0,0,0,0,0,0,1,0,0,0,0,0,0,0,0,0,0,0,0,0,0,0,0,0,0,0,0,0,0,0,0,0,0,1,1,0,1,1,0,0,0,0,1,0,0,0,1,1,1,0,0,0,0,0,0,0,0,0,1,1,0,0,0,0,0,0,1,1,0,0,0,0,0,0,0,0,0,0,1,0,0,1,0,0,0,0,0,0,0,1,0,0,0,0,0,0,0,0,0,0,1,0,1,0,1,1,0,0,0,0,0],\"temp_diff\":{\"__ndarray__\":\"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\",\"dtype\":\"float64\",\"order\":\"little\",\"shape\":[219]}},\"selected\":{\"id\":\"3377\"},\"selection_policy\":{\"id\":\"3376\"}},\"id\":\"3359\",\"type\":\"ColumnDataSource\"},{\"attributes\":{},\"id\":\"3310\",\"type\":\"LinearScale\"},{\"attributes\":{\"factors\":[\"E10\",\"SP98\"],\"markers\":[\"hex\",\"circle_x\",\"triangle\"]},\"id\":\"3358\",\"type\":\"CategoricalMarkerMapper\"},{\"attributes\":{},\"id\":\"3326\",\"type\":\"ResetTool\"},{\"attributes\":{\"label\":{\"value\":\"SP98\"},\"renderers\":[{\"id\":\"3364\"}]},\"id\":\"3379\",\"type\":\"LegendItem\"},{\"attributes\":{\"fill_alpha\":{\"value\":0.1},\"fill_color\":{\"value\":\"#2b83ba\"},\"hatch_alpha\":{\"value\":0.1},\"hatch_color\":{\"value\":\"#2b83ba\"},\"line_alpha\":{\"value\":0.1},\"line_color\":{\"value\":\"#2b83ba\"},\"marker\":{\"field\":\"gas_type\",\"transform\":{\"id\":\"3337\"}},\"size\":{\"value\":12},\"x\":{\"field\":\"speed\"},\"y\":{\"field\":\"consume\"}},\"id\":\"3341\",\"type\":\"Scatter\"},{\"attributes\":{},\"id\":\"3308\",\"type\":\"DataRange1d\"},{\"attributes\":{\"fill_alpha\":{\"value\":0.2},\"fill_color\":{\"value\":\"#abdda4\"},\"hatch_alpha\":{\"value\":0.2},\"hatch_color\":{\"value\":\"#abdda4\"},\"line_alpha\":{\"value\":0.2},\"line_color\":{\"value\":\"#abdda4\"},\"marker\":{\"field\":\"gas_type\",\"transform\":{\"id\":\"3358\"}},\"size\":{\"value\":12},\"x\":{\"field\":\"speed\"},\"y\":{\"field\":\"consume\"}},\"id\":\"3363\",\"type\":\"Scatter\"},{\"attributes\":{\"coordinates\":null,\"formatter\":{\"id\":\"3348\"},\"group\":null,\"major_label_policy\":{\"id\":\"3349\"},\"ticker\":{\"id\":\"3319\"}},\"id\":\"3318\",\"type\":\"LinearAxis\"},{\"attributes\":{},\"id\":\"3354\",\"type\":\"Selection\"},{\"attributes\":{\"tools\":[{\"id\":\"3322\"},{\"id\":\"3323\"},{\"id\":\"3324\"},{\"id\":\"3325\"},{\"id\":\"3326\"},{\"id\":\"3327\"}]},\"id\":\"3329\",\"type\":\"Toolbar\"},{\"attributes\":{\"fill_alpha\":{\"value\":0.1},\"fill_color\":{\"value\":\"#abdda4\"},\"hatch_alpha\":{\"value\":0.1},\"hatch_color\":{\"value\":\"#abdda4\"},\"line_alpha\":{\"value\":0.1},\"line_color\":{\"value\":\"#abdda4\"},\"marker\":{\"field\":\"gas_type\",\"transform\":{\"id\":\"3358\"}},\"size\":{\"value\":12},\"x\":{\"field\":\"speed\"},\"y\":{\"field\":\"consume\"}},\"id\":\"3362\",\"type\":\"Scatter\"},{\"attributes\":{},\"id\":\"3353\",\"type\":\"UnionRenderers\"},{\"attributes\":{\"coordinates\":null,\"group\":null,\"text\":\"Fuel consumption dependence on speed \\n(Click on legend entries to mute the corresponding lines)\"},\"id\":\"3336\",\"type\":\"Title\"},{\"attributes\":{},\"id\":\"3349\",\"type\":\"AllLabels\"},{\"attributes\":{\"axis\":{\"id\":\"3318\"},\"coordinates\":null,\"dimension\":1,\"group\":null,\"ticker\":null},\"id\":\"3321\",\"type\":\"Grid\"},{\"attributes\":{},\"id\":\"3348\",\"type\":\"BasicTickFormatter\"},{\"attributes\":{\"factors\":[\"E10\",\"SP98\"],\"markers\":[\"hex\",\"circle_x\",\"triangle\"]},\"id\":\"3337\",\"type\":\"CategoricalMarkerMapper\"},{\"attributes\":{},\"id\":\"3322\",\"type\":\"PanTool\"},{\"attributes\":{},\"id\":\"3319\",\"type\":\"BasicTicker\"},{\"attributes\":{\"bottom_units\":\"screen\",\"coordinates\":null,\"fill_alpha\":0.5,\"fill_color\":\"lightgrey\",\"group\":null,\"left_units\":\"screen\",\"level\":\"overlay\",\"line_alpha\":1.0,\"line_color\":\"black\",\"line_dash\":[4,4],\"line_width\":2,\"right_units\":\"screen\",\"syncable\":false,\"top_units\":\"screen\"},\"id\":\"3328\",\"type\":\"BoxAnnotation\"},{\"attributes\":{\"fill_alpha\":{\"value\":0.4},\"fill_color\":{\"value\":\"#abdda4\"},\"hatch_alpha\":{\"value\":0.8},\"hatch_color\":{\"value\":\"#abdda4\"},\"line_alpha\":{\"value\":0.8},\"line_color\":{\"value\":\"#abdda4\"},\"marker\":{\"field\":\"gas_type\",\"transform\":{\"id\":\"3358\"}},\"size\":{\"value\":12},\"x\":{\"field\":\"speed\"},\"y\":{\"field\":\"consume\"}},\"id\":\"3361\",\"type\":\"Scatter\"},{\"attributes\":{\"coordinates\":null,\"data_source\":{\"id\":\"3338\"},\"glyph\":{\"id\":\"3340\"},\"group\":null,\"hover_glyph\":null,\"muted_glyph\":{\"id\":\"3342\"},\"nonselection_glyph\":{\"id\":\"3341\"},\"view\":{\"id\":\"3344\"}},\"id\":\"3343\",\"type\":\"GlyphRenderer\"},{\"attributes\":{\"coordinates\":null,\"formatter\":{\"id\":\"3351\"},\"group\":null,\"major_label_policy\":{\"id\":\"3352\"},\"ticker\":{\"id\":\"3315\"}},\"id\":\"3314\",\"type\":\"LinearAxis\"},{\"attributes\":{\"label\":{\"value\":\"E10\"},\"renderers\":[{\"id\":\"3343\"}]},\"id\":\"3357\",\"type\":\"LegendItem\"},{\"attributes\":{},\"id\":\"3376\",\"type\":\"UnionRenderers\"},{\"attributes\":{\"click_policy\":\"mute\",\"coordinates\":null,\"group\":null,\"items\":[{\"id\":\"3357\"},{\"id\":\"3379\"}],\"location\":\"top_left\"},\"id\":\"3356\",\"type\":\"Legend\"},{\"attributes\":{},\"id\":\"3323\",\"type\":\"WheelZoomTool\"},{\"attributes\":{},\"id\":\"3327\",\"type\":\"HelpTool\"},{\"attributes\":{},\"id\":\"3306\",\"type\":\"DataRange1d\"},{\"attributes\":{},\"id\":\"3377\",\"type\":\"Selection\"},{\"attributes\":{},\"id\":\"3312\",\"type\":\"LinearScale\"},{\"attributes\":{\"axis\":{\"id\":\"3314\"},\"coordinates\":null,\"group\":null,\"ticker\":null},\"id\":\"3317\",\"type\":\"Grid\"},{\"attributes\":{\"source\":{\"id\":\"3359\"}},\"id\":\"3365\",\"type\":\"CDSView\"},{\"attributes\":{},\"id\":\"3325\",\"type\":\"SaveTool\"},{\"attributes\":{\"overlay\":{\"id\":\"3328\"}},\"id\":\"3324\",\"type\":\"BoxZoomTool\"},{\"attributes\":{},\"id\":\"3351\",\"type\":\"BasicTickFormatter\"},{\"attributes\":{\"data\":{\"AC\":[0,0,0,0,0,0,0,0,0,0,0,0,0,0,0,0,0,0,0,0,0,0,0,0,0,0,0,0,0,0,0,0,0,0,0,0,0,0,0,0,1,1,0,0,0,0,0,0,0,0,0,0,0,0,0,0,0,0,1,0,0,0,0,0,0,0,0,0,0,0,0,0,0,0,0,0,0,0,0,0,0,0,0,0,0,0,1,0,0,0,0,0,0,0,0,0,0,0,0,0,0,0,0,0,0,0,0,0,0,0,0,0,0,0,0,0,0,0,0,0,0,0,0,0,0,0,0,0,0,0,0,0,1,0,0,0,0,0,0,1,0,0,0,0,0,0,0,0,0,0,0,0,1,0,0,0,0],\"consume\":{\"__ndarray__\":\"AAAAAAAAFEDNzMzMzMwQQAAAAAAAABZAMzMzMzMzD0AAAAAAAAASQJqZmZmZmRlAmpmZmZmZEUAAAAAAAAAUQJqZmZmZmRlAMzMzMzMzFUBmZmZmZmYWQGZmZmZmZhJAmpmZmZmZF0BmZmZmZmYUQM3MzMzMzBJAZmZmZmZmFEBmZmZmZmYWQGZmZmZmZhRAmpmZmZmZE0DNzMzMzMwSQAAAAAAAABZAmpmZmZmZF0DNzMzMzMwWQM3MzMzMzBJAmpmZmZmZF0BmZmZmZmYQQM3MzMzMzBZAMzMzMzMzF0AAAAAAAAAWQM3MzMzMzBZAMzMzMzMzFUAAAAAAAAAUQGZmZmZmZhZAMzMzMzMzE0AzMzMzMzMRQM3MzMzMzBZAzczMzMzMFECamZmZmZkdQDMzMzMzMxNAAAAAAAAAGkAAAAAAAAAQQAAAAAAAABRAZmZmZmZmEkAzMzMzMzMRQJqZmZmZmRVAMzMzMzMzEUCamZmZmZkVQDMzMzMzMxFAzczMzMzMFEBmZmZmZmYQQJqZmZmZmRFAAAAAAAAAEkCamZmZmZklQM3MzMzMzBJAMzMzMzMzE0AAAAAAAAAQQAAAAAAAABRAZmZmZmZmEkAAAAAAAAAUQDMzMzMzMxFAzczMzMzMFEDNzMzMzMwSQM3MzMzMzBBAMzMzMzMzFUAzMzMzMzMVQDMzMzMzMyBAMzMzMzMzE0BmZmZmZmYUQJqZmZmZmRFAAAAAAAAAFEAzMzMzMzMZQDMzMzMzMxNAZmZmZmZmGEBmZmZmZmYSQDMzMzMzMxNAzczMzMzMEkAzMzMzMzMTQJqZmZmZmRFAmpmZmZmZE0CamZmZmZkTQJqZmZmZmRFAMzMzMzMzFUAzMzMzMzMVQDMzMzMzMxNAzczMzMzMFECamZmZmZkTQGZmZmZmZhxAzczMzMzMFEDNzMzMzMwSQGZmZmZmZhRAAAAAAAAAFEBmZmZmZmYSQDMzMzMzMxNAmpmZmZmZEUBmZmZmZmYSQDMzMzMzMxFAAAAAAAAAEkAzMzMzMzMTQAAAAAAAABRAMzMzMzMzE0BmZmZmZmYSQAAAAAAAABJAZmZmZmZmEkCamZmZmZkRQM3MzMzMzBZAMzMzMzMzF0CamZmZmZkXQGZmZmZmZhhAzczMzMzMFkAAAAAAAAAUQM3MzMzMzBRAMzMzMzMzEUBmZmZmZmYQQJqZmZmZmRFAAAAAAAAAEkAzMzMzMzMPQDMzMzMzMyBAmpmZmZmZEUAAAAAAAAAUQM3MzMzMzBJAAAAAAAAAGEAAAAAAAAAUQAAAAAAAABRAAAAAAAAAEkCamZmZmZkVQGZmZmZmZhZAMzMzMzMzD0AAAAAAAAAQQAAAAAAAABJAZmZmZmZmDkBmZmZmZmYWQM3MzMzMzBRAMzMzMzMzE0CamZmZmZkNQAAAAAAAABJAMzMzMzMzD0BmZmZmZmYUQM3MzMzMzBBAzczMzMzMEEAzMzMzMzMTQM3MzMzMzBJAzczMzMzMEkBmZmZmZmYSQGZmZmZmZg5AzczMzMzMEECamZmZmZkNQM3MzMzMzBBAZmZmZmZmEEAAAAAAAAAQQGZmZmZmZg5AZmZmZmZmDkBmZmZmZmYOQGZmZmZmZhRAAAAAAAAAEEAzMzMzMzMTQDMzMzMzMw9AZmZmZmZmEkA=\",\"dtype\":\"float64\",\"order\":\"little\",\"shape\":[157]},\"distance\":{\"__ndarray__\":\"AAAAAAAAPEAAAAAAAAAoQGZmZmZmZiZAzczMzMzMKUAAAAAAAIAyQJqZmZmZmSBAMzMzMzMzH0CamZmZmZkoQJqZmZmZmRNAzczMzMzMJ0DNzMzMzMwoQJqZmZmZmSdAmpmZmZmZKEAzMzMzM7M4QM3MzMzMzChAzczMzMxMMUAzMzMzM7NAQJqZmZmZmSdAZmZmZmbmOUCamZmZmZknQM3MzMzMTDlAZmZmZmZmLEBmZmZmZuYxQJqZmZmZmSdAmpmZmZmZKEDNzMzMzMwoQGZmZmZmZjJAZmZmZmZmMkDNzMzMzEwyQGZmZmZmZjJAmpmZmZmZKECamZmZmZknQJqZmZmZmShAzczMzMxMQEAAAAAAAAAzQDMzMzMzMyhAAAAAAAAANECamZmZmZkTQJqZmZmZmSdAmpmZmZmZKEDNzMzMzMwoQAAAAAAAABJAZmZmZmZmJ0BmZmZmZmYkQJqZmZmZGTBAmpmZmZmZJ0CamZmZmZkoQM3MzMzMzChAAAAAAAAAHECamZmZmZknQJqZmZmZGTRAzczMzMzMNEAzMzMzMzP7PzMzMzMz80FAMzMzMzNzQkDNzMzMzMwwQM3MzMzMzCNAZmZmZmbmNkDNzMzMzEwxQJqZmZmZmSdAzczMzMxMQkAzMzMzM3NGQJqZmZmZmSdAmpmZmZmZNUAzMzMzM7NDQGZmZmZmZhRAmpmZmZmZOkCamZmZmZlKQGZmZmZm5jJAAAAAAADARUBmZmZmZmYYQGZmZmZmZjBAmpmZmZmZKECamZmZmRk1QJqZmZmZGTVAMzMzMzOzNkAzMzMzMzNGQGZmZmZm5kFAmpmZmZmZJ0AzMzMzMzM6QM3MzMzMTERAzczMzMzMKEAzMzMzMzMsQJqZmZmZWU1AMzMzMzMzMECamZmZmZkoQJqZmZmZmShAzczMzMzMKEDNzMzMzMw/QJqZmZmZmShAzczMzMzMSUDNzMzMzExDQJqZmZmZmShAzczMzMxMVECamZmZmUlgQM3MzMzMzFBAAAAAAAAAM0DNzMzMzMwoQDMzMzMzMzlAmpmZmZmZLECamZmZmZknQGZmZmZm5jBAzczMzMzMKEBmZmZmZmYxQGZmZmZmZiJAmpmZmZmZKEAAAAAAAAAqQJqZmZmZmSdAAAAAAAAAKkCamZmZmZkoQJqZmZmZmShAAAAAAAAAKUAAAAAAAIA/QJqZmZmZmSdAZmZmZmbmOEAAAAAAAAAxQAAAAAAAAABAmpmZmZmZJ0CamZmZmZkdQM3MzMzMzChAAAAAAAAAAEAAAAAAAAAsQDMzMzMzszlAmpmZmZmZJ0BmZmZmZmYQQM3MzMzMzBBAzczMzMzMEEAAAAAAAAAwQM3MzMzMzC5AAAAAAAAAMEDNzMzMzMwQQJqZmZmZeVlAmpmZmZl5V0CamZmZmZkwQM3MzMzMzC5AAAAAAACAMEDNzMzMzMwuQGZmZmZmZjJAAAAAAADAQ0AAAAAAAIA1QDMzMzMzMxNAmpmZmZk5WUBmZmZmZjZgQJqZmZmZmTBAzczMzMzMLkAAAAAAAAAwQAAAAAAAADBAzczMzMzMLkAAAAAAAAAwQAAAAAAAADVAzczMzMzMLkAAAAAAAAAwQJqZmZmZGTBAAAAAAAAAMEDNzMzMzMwuQDMzMzMzMzFAmpmZmZmZMEA=\",\"dtype\":\"float64\",\"order\":\"little\",\"shape\":[157]},\"gas_type\":[\"E10\",\"E10\",\"E10\",\"E10\",\"E10\",\"E10\",\"E10\",\"E10\",\"E10\",\"E10\",\"E10\",\"E10\",\"E10\",\"E10\",\"E10\",\"E10\",\"E10\",\"E10\",\"E10\",\"E10\",\"E10\",\"E10\",\"E10\",\"E10\",\"E10\",\"E10\",\"E10\",\"E10\",\"E10\",\"E10\",\"E10\",\"E10\",\"E10\",\"E10\",\"E10\",\"E10\",\"E10\",\"E10\",\"E10\",\"E10\",\"E10\",\"E10\",\"E10\",\"E10\",\"E10\",\"E10\",\"E10\",\"E10\",\"E10\",\"E10\",\"E10\",\"E10\",\"E10\",\"E10\",\"E10\",\"E10\",\"E10\",\"E10\",\"E10\",\"E10\",\"E10\",\"E10\",\"E10\",\"E10\",\"E10\",\"E10\",\"E10\",\"E10\",\"E10\",\"E10\",\"E10\",\"E10\",\"E10\",\"E10\",\"E10\",\"E10\",\"E10\",\"E10\",\"E10\",\"E10\",\"E10\",\"E10\",\"E10\",\"E10\",\"E10\",\"E10\",\"E10\",\"E10\",\"E10\",\"E10\",\"E10\",\"E10\",\"E10\",\"E10\",\"E10\",\"E10\",\"E10\",\"E10\",\"E10\",\"E10\",\"E10\",\"E10\",\"E10\",\"E10\",\"E10\",\"E10\",\"E10\",\"E10\",\"E10\",\"E10\",\"E10\",\"E10\",\"E10\",\"E10\",\"E10\",\"E10\",\"E10\",\"E10\",\"E10\",\"E10\",\"E10\",\"E10\",\"E10\",\"E10\",\"E10\",\"E10\",\"E10\",\"E10\",\"E10\",\"E10\",\"E10\",\"E10\",\"E10\",\"E10\",\"E10\",\"E10\",\"E10\",\"E10\",\"E10\",\"E10\",\"E10\",\"E10\",\"E10\",\"E10\",\"E10\",\"E10\",\"E10\",\"E10\",\"E10\",\"E10\",\"E10\",\"E10\",\"E10\",\"E10\",\"E10\",\"E10\",\"E10\"],\"index\":[0,1,2,3,4,5,6,7,8,9,10,11,12,13,14,15,16,17,18,19,20,21,22,23,24,25,26,27,28,29,30,31,32,33,34,35,36,37,38,39,40,41,42,43,139,140,141,142,143,144,145,146,147,148,149,150,151,152,153,154,155,156,157,158,159,160,161,162,163,164,165,166,167,168,169,170,171,172,173,174,175,176,177,178,179,180,181,182,183,184,185,186,187,188,189,190,234,235,236,237,238,239,240,241,242,243,244,245,246,247,248,249,250,251,252,253,254,255,256,257,258,259,260,262,263,264,265,266,269,270,271,272,273,325,326,327,328,329,330,331,332,333,334,335,336,337,338,339,340,341,342,343,344,345,346,347,348],\"rain\":[0,0,0,0,0,0,0,0,0,0,0,0,0,0,0,0,0,0,0,0,0,0,0,0,0,0,0,0,0,0,0,0,0,0,0,0,0,0,0,0,1,0,0,0,1,1,0,0,0,0,0,0,1,0,0,0,0,1,1,0,1,0,1,1,1,0,0,0,0,0,0,0,0,0,0,0,0,0,0,0,0,0,0,0,0,0,1,0,0,0,0,0,0,0,0,0,0,0,0,0,0,0,0,0,1,1,0,1,1,0,0,0,0,0,0,0,0,0,0,0,0,0,0,0,0,0,0,0,0,0,0,0,0,0,0,0,0,0,0,0,0,0,0,0,0,0,0,0,0,0,0,0,1,0,0,0,0],\"snow\":[0,0,0,0,0,0,0,0,0,0,0,0,0,0,0,0,0,0,0,0,0,0,0,0,0,0,0,0,0,0,0,0,0,0,0,0,0,0,0,0,0,0,0,0,0,0,0,0,0,0,0,0,0,0,0,0,0,0,0,0,0,0,0,0,0,0,0,0,0,0,0,0,0,0,0,0,0,0,0,0,0,0,0,0,0,0,1,0,0,0,0,0,0,0,0,0,0,0,0,0,0,0,0,0,0,0,0,0,0,0,0,0,0,0,0,0,0,0,0,0,0,0,0,0,0,0,0,0,0,0,0,0,0,0,0,0,0,0,0,0,0,0,0,0,0,0,0,0,0,0,0,0,0,0,0,0,0],\"speed\":[26,30,38,36,46,50,43,40,26,30,42,38,59,58,46,24,36,32,39,40,32,38,37,36,62,57,21,28,29,35,51,29,58,40,36,36,37,26,23,58,55,29,37,44,24,40,58,49,25,37,41,45,14,45,52,46,28,61,61,37,80,62,34,44,60,39,38,71,53,80,26,49,40,36,43,55,38,51,44,42,44,38,47,75,29,50,52,51,59,55,73,44,41,69,85,67,29,38,55,36,40,48,55,36,33,54,32,16,37,42,57,57,30,42,53,46,20,33,31,55,22,41,45,28,24,29,29,40,50,41,32,75,88,49,43,43,21,59,58,47,26,87,58,43,50,45,41,45,43,37,47,42,30,42,40,35,50],\"sun\":[0,0,0,0,0,0,0,0,0,0,0,0,0,0,0,0,0,0,0,0,0,0,0,0,0,0,0,0,0,0,0,0,0,0,0,0,0,0,0,0,0,0,0,0,0,0,0,0,0,0,0,0,0,0,0,0,0,0,0,0,0,0,0,0,0,0,0,0,0,0,0,0,0,0,0,0,0,0,0,0,0,0,0,0,0,0,0,0,0,0,0,0,0,0,0,0,0,0,0,0,0,1,1,1,0,0,0,0,0,0,1,1,1,0,0,1,0,0,0,1,0,0,0,0,0,0,1,0,0,0,0,0,1,0,0,0,0,0,0,1,0,0,0,0,0,0,0,0,0,0,0,0,0,0,0,0,0],\"temp_diff\":{\"__ndarray__\":\"AAAAAAAAI0AAAAAAAAAhQAAAAAAAABpAAAAAAAAAHkAAAAAAAAAaQAAAAAAAACdAAAAAAAAAJUAAAAAAAAAvQAAAAAAAgDFAAAAAAAAAKUAAAAAAAIAxQAAAAAAAgDVAAAAAAAAAJ0AAAAAAAAAjQAAAAAAAACVAAAAAAACAMEAAAAAAAIAyQAAAAAAAgDJAAAAAAAAAK0AAAAAAAIAxQAAAAAAAgDJAAAAAAACANEAAAAAAAIA0QAAAAAAAgDRAAAAAAAAAL0AAAAAAAAApQAAAAAAAgDRAAAAAAACAMkAAAAAAAIA0QAAAAAAAgDFAAAAAAAAAJUAAAAAAAAAnQAAAAAAAACtAAAAAAAAALUAAAAAAAAAtQAAAAAAAACtAAAAAAACAMUAAAAAAAAAvQAAAAAAAAClAAAAAAAAALUAAAAAAAAAtQAAAAAAAAC1AAAAAAAAAL0AAAAAAAAAtQAAAAAAAAC1AAAAAAAAAJ0AAAAAAAAAhQAAAAAAAABJAAAAAAAAAEkAAAAAAAAAnQAAAAAAAAAxAAAAAAAAAJ0AAAAAAAAAnQAAAAAAAACNAAAAAAACAMEAAAAAAAAArQAAAAAAAAClAAAAAAAAALUAAAAAAAAAvQAAAAAAAAC1AAAAAAAAALUAAAAAAAAArQAAAAAAAAClAAAAAAAAAKUAAAAAAAAApQAAAAAAAgDFAAAAAAAAALUAAAAAAAIAzQAAAAAAAgDNAAAAAAACAMkAAAAAAAIAwQAAAAAAAgDBAAAAAAAAAL0AAAAAAAAArQAAAAAAAAC1AAAAAAAAAL0AAAAAAAAArQAAAAAAAAC9AAAAAAACANUAAAAAAAAAvQAAAAAAAADJAAAAAAAAAOkAAAAAAAAA4QAAAAAAAADVAAAAAAAAANUAAAAAAAIA2QAAAAAAAgDZAAAAAAACANUAAAAAAAIAzQAAAAAAAAC1AAAAAAAAAJUAAAAAAAAApQAAAAAAAAC9AAAAAAAAAIkAAAAAAAAAkQAAAAAAAABBAAAAAAAAAKUAAAAAAAIA1QAAAAAAAACtAAAAAAAAAKUAAAAAAAIA0QAAAAAAAACtAAAAAAAAAJ0AAAAAAAAAlQAAAAAAAAC1AAAAAAAAAKUAAAAAAAAApQAAAAAAAgDBAAAAAAAAAJ0AAAAAAAAApQAAAAAAAAB5AAAAAAAAAGkAAAAAAAAAaQAAAAAAAAC1AAAAAAAAAIUAAAAAAAAAhQAAAAAAAACFAAAAAAAAALUAAAAAAAAAlQAAAAAAAACFAAAAAAAAAIUAAAAAAAAAtQAAAAAAAAC9AAAAAAAAAJUAAAAAAAAAjQAAAAAAAABRAAAAAAAAAEEAAAAAAAAAoQAAAAAAAACBAAAAAAAAAJEAAAAAAAAAQQAAAAAAAABBAAAAAAAAAFEAAAAAAAAAUQAAAAAAAAADAAAAAAAAAFEAAAAAAAAAAwAAAAAAAAADAAAAAAAAACMAAAAAAAAAAwAAAAAAAABxAAAAAAAAA+D8AAAAAAAAIQAAAAAAAABZAAAAAAAAA4D8AAAAAAAAUQAAAAAAAABxAAAAAAAAAAMAAAAAAAAAYQAAAAAAAAPA/AAAAAAAAAMAAAAAAAAAUQAAAAAAAACJAAAAAAAAAHEAAAAAAAAAQQAAAAAAAABhAAAAAAAAACMA=\",\"dtype\":\"float64\",\"order\":\"little\",\"shape\":[157]}},\"selected\":{\"id\":\"3354\"},\"selection_policy\":{\"id\":\"3353\"}},\"id\":\"3338\",\"type\":\"ColumnDataSource\"},{\"attributes\":{\"coordinates\":null,\"data_source\":{\"id\":\"3359\"},\"glyph\":{\"id\":\"3361\"},\"group\":null,\"hover_glyph\":null,\"muted_glyph\":{\"id\":\"3363\"},\"nonselection_glyph\":{\"id\":\"3362\"},\"view\":{\"id\":\"3365\"}},\"id\":\"3364\",\"type\":\"GlyphRenderer\"},{\"attributes\":{\"fill_alpha\":{\"value\":0.4},\"fill_color\":{\"value\":\"#2b83ba\"},\"hatch_alpha\":{\"value\":0.8},\"hatch_color\":{\"value\":\"#2b83ba\"},\"line_alpha\":{\"value\":0.8},\"line_color\":{\"value\":\"#2b83ba\"},\"marker\":{\"field\":\"gas_type\",\"transform\":{\"id\":\"3337\"}},\"size\":{\"value\":12},\"x\":{\"field\":\"speed\"},\"y\":{\"field\":\"consume\"}},\"id\":\"3340\",\"type\":\"Scatter\"},{\"attributes\":{},\"id\":\"3315\",\"type\":\"BasicTicker\"},{\"attributes\":{\"source\":{\"id\":\"3338\"}},\"id\":\"3344\",\"type\":\"CDSView\"},{\"attributes\":{\"fill_alpha\":{\"value\":0.2},\"fill_color\":{\"value\":\"#2b83ba\"},\"hatch_alpha\":{\"value\":0.2},\"hatch_color\":{\"value\":\"#2b83ba\"},\"line_alpha\":{\"value\":0.2},\"line_color\":{\"value\":\"#2b83ba\"},\"marker\":{\"field\":\"gas_type\",\"transform\":{\"id\":\"3337\"}},\"size\":{\"value\":12},\"x\":{\"field\":\"speed\"},\"y\":{\"field\":\"consume\"}},\"id\":\"3342\",\"type\":\"Scatter\"}],\"root_ids\":[\"3305\"]},\"title\":\"Bokeh Application\",\"version\":\"2.4.2\"}};\n  const render_items = [{\"docid\":\"53e87fb4-59f8-413f-a8c7-5b7644f690da\",\"root_ids\":[\"3305\"],\"roots\":{\"3305\":\"af1e336c-93a9-4db1-ab09-ab4a26a06e00\"}}];\n  root.Bokeh.embed.embed_items_notebook(docs_json, render_items);\n\n  }\n  if (root.Bokeh !== undefined) {\n    embed_document(root);\n  } else {\n    let attempts = 0;\n    const timer = setInterval(function(root) {\n      if (root.Bokeh !== undefined) {\n        clearInterval(timer);\n        embed_document(root);\n      } else {\n        attempts++;\n        if (attempts > 100) {\n          clearInterval(timer);\n          console.log(\"Bokeh: ERROR: Unable to run BokehJS code because BokehJS library is missing\");\n        }\n      }\n    }, 10, root)\n  }\n})(window);",
      "application/vnd.bokehjs_exec.v0+json": ""
     },
     "metadata": {
      "application/vnd.bokehjs_exec.v0+json": {
       "id": "3305"
      }
     },
     "output_type": "display_data"
    }
   ],
   "source": [
    "p = figure(width=700, height=250)\n",
    "p.title.text = \"\"\"Fuel consumption dependence on speed \n",
    "(Click on legend entries to mute the corresponding lines)\"\"\"\n",
    "\n",
    "for df, name, color in zip([E10_data, SP98_data], [\"E10\", \"SP98\"], Spectral4):\n",
    "    p.scatter(\"speed\", \"consume\", source=df, fill_alpha=0.4, size=12,\n",
    "          marker=factor_mark('gas_type', MARKERS, GAS_TYPES), \n",
    "          color=color, alpha=0.8, \n",
    "          muted_color=color, muted_alpha=0.2, legend_label=name)\n",
    "\n",
    "p.legend.location = \"top_left\"\n",
    "p.legend.click_policy=\"mute\"\n",
    "\n",
    "show(p)"
   ]
  },
  {
   "cell_type": "code",
   "execution_count": 46,
   "metadata": {},
   "outputs": [
    {
     "data": {
      "text/html": [
       "\n",
       "\n",
       "\n",
       "\n",
       "\n",
       "\n",
       "  <div class=\"bk-root\" id=\"d2c3472a-f02d-4e85-ac4a-b8ca51be51d1\" data-root-id=\"3608\"></div>\n"
      ]
     },
     "metadata": {},
     "output_type": "display_data"
    },
    {
     "data": {
      "application/javascript": "(function(root) {\n  function embed_document(root) {\n    \n  const docs_json = {\"22309abc-1322-40c2-bf58-0fd0b82dfd37\":{\"defs\":[],\"roots\":{\"references\":[{\"attributes\":{\"below\":[{\"id\":\"3617\"}],\"center\":[{\"id\":\"3620\"},{\"id\":\"3624\"},{\"id\":\"3659\"}],\"height\":250,\"left\":[{\"id\":\"3621\"}],\"renderers\":[{\"id\":\"3646\"},{\"id\":\"3667\"}],\"title\":{\"id\":\"3639\"},\"toolbar\":{\"id\":\"3632\"},\"width\":700,\"x_range\":{\"id\":\"3609\"},\"x_scale\":{\"id\":\"3613\"},\"y_range\":{\"id\":\"3611\"},\"y_scale\":{\"id\":\"3615\"}},\"id\":\"3608\",\"subtype\":\"Figure\",\"type\":\"Plot\"},{\"attributes\":{},\"id\":\"3611\",\"type\":\"DataRange1d\"},{\"attributes\":{},\"id\":\"3615\",\"type\":\"LinearScale\"},{\"attributes\":{\"tools\":[{\"id\":\"3625\"},{\"id\":\"3626\"},{\"id\":\"3627\"},{\"id\":\"3628\"},{\"id\":\"3629\"},{\"id\":\"3630\"}]},\"id\":\"3632\",\"type\":\"Toolbar\"},{\"attributes\":{},\"id\":\"3618\",\"type\":\"BasicTicker\"},{\"attributes\":{\"axis\":{\"id\":\"3617\"},\"coordinates\":null,\"group\":null,\"ticker\":null},\"id\":\"3620\",\"type\":\"Grid\"},{\"attributes\":{},\"id\":\"3657\",\"type\":\"Selection\"},{\"attributes\":{\"axis\":{\"id\":\"3621\"},\"coordinates\":null,\"dimension\":1,\"group\":null,\"ticker\":null},\"id\":\"3624\",\"type\":\"Grid\"},{\"attributes\":{},\"id\":\"3622\",\"type\":\"BasicTicker\"},{\"attributes\":{\"fill_alpha\":{\"value\":0.1},\"fill_color\":{\"value\":\"#2b83ba\"},\"hatch_alpha\":{\"value\":0.1},\"hatch_color\":{\"value\":\"#2b83ba\"},\"line_alpha\":{\"value\":0.1},\"line_color\":{\"value\":\"#2b83ba\"},\"marker\":{\"field\":\"gas_type\",\"transform\":{\"id\":\"3640\"}},\"size\":{\"value\":12},\"x\":{\"field\":\"distance\"},\"y\":{\"field\":\"consume\"}},\"id\":\"3644\",\"type\":\"Scatter\"},{\"attributes\":{},\"id\":\"3630\",\"type\":\"HelpTool\"},{\"attributes\":{},\"id\":\"3625\",\"type\":\"PanTool\"},{\"attributes\":{\"fill_alpha\":{\"value\":0.4},\"fill_color\":{\"value\":\"#2b83ba\"},\"hatch_alpha\":{\"value\":0.8},\"hatch_color\":{\"value\":\"#2b83ba\"},\"line_alpha\":{\"value\":0.8},\"line_color\":{\"value\":\"#2b83ba\"},\"marker\":{\"field\":\"gas_type\",\"transform\":{\"id\":\"3640\"}},\"size\":{\"value\":12},\"x\":{\"field\":\"distance\"},\"y\":{\"field\":\"consume\"}},\"id\":\"3643\",\"type\":\"Scatter\"},{\"attributes\":{\"coordinates\":null,\"data_source\":{\"id\":\"3641\"},\"glyph\":{\"id\":\"3643\"},\"group\":null,\"hover_glyph\":null,\"muted_glyph\":{\"id\":\"3645\"},\"nonselection_glyph\":{\"id\":\"3644\"},\"view\":{\"id\":\"3647\"}},\"id\":\"3646\",\"type\":\"GlyphRenderer\"},{\"attributes\":{\"fill_alpha\":{\"value\":0.4},\"fill_color\":{\"value\":\"#abdda4\"},\"hatch_alpha\":{\"value\":0.8},\"hatch_color\":{\"value\":\"#abdda4\"},\"line_alpha\":{\"value\":0.8},\"line_color\":{\"value\":\"#abdda4\"},\"marker\":{\"field\":\"gas_type\",\"transform\":{\"id\":\"3661\"}},\"size\":{\"value\":12},\"x\":{\"field\":\"distance\"},\"y\":{\"field\":\"consume\"}},\"id\":\"3664\",\"type\":\"Scatter\"},{\"attributes\":{\"bottom_units\":\"screen\",\"coordinates\":null,\"fill_alpha\":0.5,\"fill_color\":\"lightgrey\",\"group\":null,\"left_units\":\"screen\",\"level\":\"overlay\",\"line_alpha\":1.0,\"line_color\":\"black\",\"line_dash\":[4,4],\"line_width\":2,\"right_units\":\"screen\",\"syncable\":false,\"top_units\":\"screen\"},\"id\":\"3631\",\"type\":\"BoxAnnotation\"},{\"attributes\":{\"source\":{\"id\":\"3641\"}},\"id\":\"3647\",\"type\":\"CDSView\"},{\"attributes\":{\"data\":{\"AC\":[0,0,0,0,0,0,0,0,0,0,0,0,0,0,0,0,1,1,0,0,0,0,0,0,0,1,0,0,0,0,0,0,0,0,0,0,0,0,0,0,0,0,0,0,0,0,0,0,0,1,0,1,0,1,0,0,0,0,0,0,0,0,0,0,0,0,0,0,0,0,0,0,0,0,0,0,0,0,0,0,0,0,0,0,0,0,0,0,0,0,0,0,0,0,0,0,0,0,0,1,1,0,0,0,0,0,0,0,0,0,0,0,0,0,0,0,0,0,0,0,0,0,0,1,0,0,0,0,0,0,0,0,1,0,0,0,0,0,0,0,0,0,0,0,0,0,0,0,0,0,0,0,0,0,1,0,1,1,1,0,0,0,0,0,0,0,0,0,0,0,0,0,0,0,0,0,0,0,0,0,0,0,0,0,0,0,0,0,0,0,0,0,0,0,0,0,0,1,1,1,0,0,0,0,1,1,0,0,0,1,0,0,0,0,0,1,0,1,1],\"consume\":{\"__ndarray__\":\"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\",\"dtype\":\"float64\",\"order\":\"little\",\"shape\":[219]},\"distance\":{\"__ndarray__\":\"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\",\"dtype\":\"float64\",\"order\":\"little\",\"shape\":[219]},\"gas_type\":[\"SP98\",\"SP98\",\"SP98\",\"SP98\",\"SP98\",\"SP98\",\"SP98\",\"SP98\",\"SP98\",\"SP98\",\"SP98\",\"SP98\",\"SP98\",\"SP98\",\"SP98\",\"SP98\",\"SP98\",\"SP98\",\"SP98\",\"SP98\",\"SP98\",\"SP98\",\"SP98\",\"SP98\",\"SP98\",\"SP98\",\"SP98\",\"SP98\",\"SP98\",\"SP98\",\"SP98\",\"SP98\",\"SP98\",\"SP98\",\"SP98\",\"SP98\",\"SP98\",\"SP98\",\"SP98\",\"SP98\",\"SP98\",\"SP98\",\"SP98\",\"SP98\",\"SP98\",\"SP98\",\"SP98\",\"SP98\",\"SP98\",\"SP98\",\"SP98\",\"SP98\",\"SP98\",\"SP98\",\"SP98\",\"SP98\",\"SP98\",\"SP98\",\"SP98\",\"SP98\",\"SP98\",\"SP98\",\"SP98\",\"SP98\",\"SP98\",\"SP98\",\"SP98\",\"SP98\",\"SP98\",\"SP98\",\"SP98\",\"SP98\",\"SP98\",\"SP98\",\"SP98\",\"SP98\",\"SP98\",\"SP98\",\"SP98\",\"SP98\",\"SP98\",\"SP98\",\"SP98\",\"SP98\",\"SP98\",\"SP98\",\"SP98\",\"SP98\",\"SP98\",\"SP98\",\"SP98\",\"SP98\",\"SP98\",\"SP98\",\"SP98\",\"SP98\",\"SP98\",\"SP98\",\"SP98\",\"SP98\",\"SP98\",\"SP98\",\"SP98\",\"SP98\",\"SP98\",\"SP98\",\"SP98\",\"SP98\",\"SP98\",\"SP98\",\"SP98\",\"SP98\",\"SP98\",\"SP98\",\"SP98\",\"SP98\",\"SP98\",\"SP98\",\"SP98\",\"SP98\",\"SP98\",\"SP98\",\"SP98\",\"SP98\",\"SP98\",\"SP98\",\"SP98\",\"SP98\",\"SP98\",\"SP98\",\"SP98\",\"SP98\",\"SP98\",\"SP98\",\"SP98\",\"SP98\",\"SP98\",\"SP98\",\"SP98\",\"SP98\",\"SP98\",\"SP98\",\"SP98\",\"SP98\",\"SP98\",\"SP98\",\"SP98\",\"SP98\",\"SP98\",\"SP98\",\"SP98\",\"SP98\",\"SP98\",\"SP98\",\"SP98\",\"SP98\",\"SP98\",\"SP98\",\"SP98\",\"SP98\",\"SP98\",\"SP98\",\"SP98\",\"SP98\",\"SP98\",\"SP98\",\"SP98\",\"SP98\",\"SP98\",\"SP98\",\"SP98\",\"SP98\",\"SP98\",\"SP98\",\"SP98\",\"SP98\",\"SP98\",\"SP98\",\"SP98\",\"SP98\",\"SP98\",\"SP98\",\"SP98\",\"SP98\",\"SP98\",\"SP98\",\"SP98\",\"SP98\",\"SP98\",\"SP98\",\"SP98\",\"SP98\",\"SP98\",\"SP98\",\"SP98\",\"SP98\",\"SP98\",\"SP98\",\"SP98\",\"SP98\",\"SP98\",\"SP98\",\"SP98\",\"SP98\",\"SP98\",\"SP98\",\"SP98\",\"SP98\",\"SP98\",\"SP98\",\"SP98\",\"SP98\",\"SP98\",\"SP98\",\"SP98\",\"SP98\",\"SP98\",\"SP98\",\"SP98\"],\"index\":[44,45,46,47,48,49,50,51,52,53,54,55,56,57,58,59,60,61,62,63,64,65,66,67,68,69,70,71,72,73,74,75,76,77,78,79,80,81,82,83,84,85,86,87,88,89,90,91,92,94,96,101,103,104,105,106,107,108,109,110,111,112,113,114,115,116,117,118,119,120,121,122,123,124,125,126,127,128,129,130,131,132,133,134,135,136,137,138,191,192,193,194,195,196,197,198,199,200,202,204,205,206,207,208,209,210,211,212,213,214,215,216,217,218,219,220,221,222,223,224,225,226,227,228,229,230,231,232,233,274,275,276,277,278,279,280,281,282,283,284,285,286,287,288,289,290,291,292,293,294,295,296,297,298,299,300,301,302,303,304,305,306,307,308,309,310,311,312,313,314,315,316,317,318,319,320,321,322,323,324,349,350,351,352,353,354,355,356,357,358,359,360,361,362,363,364,365,366,367,368,369,370,371,372,373,374,375,376,377,378,379,380,381,382,383,384,385,386,387],\"rain\":[0,0,0,0,0,0,1,0,0,1,0,1,0,0,0,1,1,1,0,0,0,0,0,0,0,0,0,0,0,0,0,0,0,0,0,0,0,0,0,0,0,1,1,1,0,0,0,0,0,1,0,1,1,1,0,0,0,0,0,0,0,0,0,0,0,1,1,1,0,0,0,0,0,1,1,0,0,0,0,0,0,0,0,0,0,1,1,1,1,0,0,0,0,0,0,0,0,0,0,1,0,0,0,0,0,0,0,0,0,0,0,0,0,0,0,0,0,0,0,1,0,0,1,1,0,0,0,0,0,1,0,0,1,0,0,0,0,0,0,0,0,0,0,0,0,0,0,0,0,0,0,0,0,0,0,0,0,0,0,0,1,0,0,0,0,0,0,0,0,0,0,0,0,0,0,0,1,0,0,0,0,1,0,0,0,0,0,0,0,0,0,0,0,0,0,0,0,0,0,0,0,0,0,0,0,0,0,0,0,0,0,0,0,0,0,0,0,0,0],\"snow\":[0,0,0,0,0,0,0,0,0,0,0,0,0,0,0,0,0,0,0,0,0,0,0,0,0,0,0,0,0,0,0,0,0,0,0,0,0,0,0,0,0,0,0,0,0,0,0,0,0,0,0,0,0,0,0,0,0,0,0,0,0,0,0,0,0,0,0,1,0,0,0,0,0,1,1,0,0,0,0,0,0,0,0,0,0,0,0,0,0,0,0,0,0,0,0,0,0,0,0,0,0,0,0,0,0,0,0,0,0,0,0,0,0,0,0,0,0,0,0,0,0,0,0,0,0,0,0,0,0,0,0,0,0,0,0,0,0,0,0,0,0,0,0,0,0,0,0,0,0,0,0,0,0,0,0,0,0,0,0,0,0,0,0,0,0,0,0,0,0,0,0,0,0,0,0,0,0,0,0,0,0,0,0,0,0,0,0,0,0,0,0,0,0,0,0,0,0,0,0,0,0,0,0,0,0,0,0,0,0,0,0,0,0,0,0,0,0,0,0],\"speed\":[32,21,32,25,25,36,29,63,61,46,28,82,24,61,57,52,18,23,24,26,24,57,41,55,40,37,55,20,29,42,25,38,39,50,56,28,36,39,42,57,25,58,51,45,32,22,37,60,51,21,57,71,25,18,45,75,26,36,56,37,25,21,66,42,27,26,42,38,40,43,58,55,24,38,57,56,46,37,44,46,39,33,43,26,30,25,38,61,44,43,82,61,41,63,54,24,24,43,44,28,31,26,26,36,39,21,22,31,33,42,33,32,26,22,58,27,32,55,56,34,39,62,53,38,42,32,43,69,38,50,40,32,40,41,26,42,43,40,50,40,44,45,35,30,25,22,43,26,33,26,39,47,38,58,65,54,35,46,32,42,33,40,34,35,33,60,48,56,38,53,51,53,53,80,90,27,52,43,48,29,46,36,46,35,44,46,23,48,35,33,36,27,45,55,39,35,52,48,48,43,42,43,33,47,16,44,33,36,49,39,44,52,33,33,39,38,45,42,25],\"sun\":[0,0,0,0,0,0,0,0,0,0,0,0,0,0,0,0,0,0,0,0,0,0,0,0,0,0,0,0,0,0,0,0,0,0,0,0,0,0,0,0,0,0,0,0,0,0,0,0,0,0,0,0,0,0,0,0,0,0,0,0,0,0,0,0,0,0,0,0,0,0,0,0,0,0,0,0,0,0,0,0,0,0,0,0,0,0,0,0,0,0,0,0,0,0,0,0,0,0,0,0,0,0,0,0,0,0,0,0,0,0,0,0,0,0,1,0,0,0,0,0,0,0,0,0,0,0,0,0,0,0,0,0,0,0,0,0,0,0,0,0,0,1,1,0,1,1,0,0,0,0,1,0,0,0,1,1,1,0,0,0,0,0,0,0,0,0,1,1,0,0,0,0,0,0,1,1,0,0,0,0,0,0,0,0,0,0,1,0,0,1,0,0,0,0,0,0,0,1,0,0,0,0,0,0,0,0,0,0,1,0,1,0,1,1,0,0,0,0,0],\"temp_diff\":{\"__ndarray__\":\"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\",\"dtype\":\"float64\",\"order\":\"little\",\"shape\":[219]}},\"selected\":{\"id\":\"3680\"},\"selection_policy\":{\"id\":\"3679\"}},\"id\":\"3662\",\"type\":\"ColumnDataSource\"},{\"attributes\":{\"overlay\":{\"id\":\"3631\"}},\"id\":\"3627\",\"type\":\"BoxZoomTool\"},{\"attributes\":{\"factors\":[\"E10\",\"SP98\"],\"markers\":[\"hex\",\"circle_x\",\"triangle\"]},\"id\":\"3661\",\"type\":\"CategoricalMarkerMapper\"},{\"attributes\":{\"fill_alpha\":{\"value\":0.1},\"fill_color\":{\"value\":\"#abdda4\"},\"hatch_alpha\":{\"value\":0.1},\"hatch_color\":{\"value\":\"#abdda4\"},\"line_alpha\":{\"value\":0.1},\"line_color\":{\"value\":\"#abdda4\"},\"marker\":{\"field\":\"gas_type\",\"transform\":{\"id\":\"3661\"}},\"size\":{\"value\":12},\"x\":{\"field\":\"distance\"},\"y\":{\"field\":\"consume\"}},\"id\":\"3665\",\"type\":\"Scatter\"},{\"attributes\":{\"coordinates\":null,\"group\":null,\"text\":\"Fuel consumption dependence on distance \\n(Click on legend entries to mute the corresponding lines)\"},\"id\":\"3639\",\"type\":\"Title\"},{\"attributes\":{\"factors\":[\"E10\",\"SP98\"],\"markers\":[\"hex\",\"circle_x\",\"triangle\"]},\"id\":\"3640\",\"type\":\"CategoricalMarkerMapper\"},{\"attributes\":{},\"id\":\"3651\",\"type\":\"BasicTickFormatter\"},{\"attributes\":{},\"id\":\"3656\",\"type\":\"UnionRenderers\"},{\"attributes\":{},\"id\":\"3679\",\"type\":\"UnionRenderers\"},{\"attributes\":{},\"id\":\"3652\",\"type\":\"AllLabels\"},{\"attributes\":{},\"id\":\"3628\",\"type\":\"SaveTool\"},{\"attributes\":{},\"id\":\"3654\",\"type\":\"BasicTickFormatter\"},{\"attributes\":{\"fill_alpha\":{\"value\":0.2},\"fill_color\":{\"value\":\"#abdda4\"},\"hatch_alpha\":{\"value\":0.2},\"hatch_color\":{\"value\":\"#abdda4\"},\"line_alpha\":{\"value\":0.2},\"line_color\":{\"value\":\"#abdda4\"},\"marker\":{\"field\":\"gas_type\",\"transform\":{\"id\":\"3661\"}},\"size\":{\"value\":12},\"x\":{\"field\":\"distance\"},\"y\":{\"field\":\"consume\"}},\"id\":\"3666\",\"type\":\"Scatter\"},{\"attributes\":{},\"id\":\"3629\",\"type\":\"ResetTool\"},{\"attributes\":{},\"id\":\"3680\",\"type\":\"Selection\"},{\"attributes\":{},\"id\":\"3655\",\"type\":\"AllLabels\"},{\"attributes\":{\"source\":{\"id\":\"3662\"}},\"id\":\"3668\",\"type\":\"CDSView\"},{\"attributes\":{},\"id\":\"3626\",\"type\":\"WheelZoomTool\"},{\"attributes\":{},\"id\":\"3609\",\"type\":\"DataRange1d\"},{\"attributes\":{\"coordinates\":null,\"data_source\":{\"id\":\"3662\"},\"glyph\":{\"id\":\"3664\"},\"group\":null,\"hover_glyph\":null,\"muted_glyph\":{\"id\":\"3666\"},\"nonselection_glyph\":{\"id\":\"3665\"},\"view\":{\"id\":\"3668\"}},\"id\":\"3667\",\"type\":\"GlyphRenderer\"},{\"attributes\":{\"fill_alpha\":{\"value\":0.2},\"fill_color\":{\"value\":\"#2b83ba\"},\"hatch_alpha\":{\"value\":0.2},\"hatch_color\":{\"value\":\"#2b83ba\"},\"line_alpha\":{\"value\":0.2},\"line_color\":{\"value\":\"#2b83ba\"},\"marker\":{\"field\":\"gas_type\",\"transform\":{\"id\":\"3640\"}},\"size\":{\"value\":12},\"x\":{\"field\":\"distance\"},\"y\":{\"field\":\"consume\"}},\"id\":\"3645\",\"type\":\"Scatter\"},{\"attributes\":{\"data\":{\"AC\":[0,0,0,0,0,0,0,0,0,0,0,0,0,0,0,0,0,0,0,0,0,0,0,0,0,0,0,0,0,0,0,0,0,0,0,0,0,0,0,0,1,1,0,0,0,0,0,0,0,0,0,0,0,0,0,0,0,0,1,0,0,0,0,0,0,0,0,0,0,0,0,0,0,0,0,0,0,0,0,0,0,0,0,0,0,0,1,0,0,0,0,0,0,0,0,0,0,0,0,0,0,0,0,0,0,0,0,0,0,0,0,0,0,0,0,0,0,0,0,0,0,0,0,0,0,0,0,0,0,0,0,0,1,0,0,0,0,0,0,1,0,0,0,0,0,0,0,0,0,0,0,0,1,0,0,0,0],\"consume\":{\"__ndarray__\":\"AAAAAAAAFEDNzMzMzMwQQAAAAAAAABZAMzMzMzMzD0AAAAAAAAASQJqZmZmZmRlAmpmZmZmZEUAAAAAAAAAUQJqZmZmZmRlAMzMzMzMzFUBmZmZmZmYWQGZmZmZmZhJAmpmZmZmZF0BmZmZmZmYUQM3MzMzMzBJAZmZmZmZmFEBmZmZmZmYWQGZmZmZmZhRAmpmZmZmZE0DNzMzMzMwSQAAAAAAAABZAmpmZmZmZF0DNzMzMzMwWQM3MzMzMzBJAmpmZmZmZF0BmZmZmZmYQQM3MzMzMzBZAMzMzMzMzF0AAAAAAAAAWQM3MzMzMzBZAMzMzMzMzFUAAAAAAAAAUQGZmZmZmZhZAMzMzMzMzE0AzMzMzMzMRQM3MzMzMzBZAzczMzMzMFECamZmZmZkdQDMzMzMzMxNAAAAAAAAAGkAAAAAAAAAQQAAAAAAAABRAZmZmZmZmEkAzMzMzMzMRQJqZmZmZmRVAMzMzMzMzEUCamZmZmZkVQDMzMzMzMxFAzczMzMzMFEBmZmZmZmYQQJqZmZmZmRFAAAAAAAAAEkCamZmZmZklQM3MzMzMzBJAMzMzMzMzE0AAAAAAAAAQQAAAAAAAABRAZmZmZmZmEkAAAAAAAAAUQDMzMzMzMxFAzczMzMzMFEDNzMzMzMwSQM3MzMzMzBBAMzMzMzMzFUAzMzMzMzMVQDMzMzMzMyBAMzMzMzMzE0BmZmZmZmYUQJqZmZmZmRFAAAAAAAAAFEAzMzMzMzMZQDMzMzMzMxNAZmZmZmZmGEBmZmZmZmYSQDMzMzMzMxNAzczMzMzMEkAzMzMzMzMTQJqZmZmZmRFAmpmZmZmZE0CamZmZmZkTQJqZmZmZmRFAMzMzMzMzFUAzMzMzMzMVQDMzMzMzMxNAzczMzMzMFECamZmZmZkTQGZmZmZmZhxAzczMzMzMFEDNzMzMzMwSQGZmZmZmZhRAAAAAAAAAFEBmZmZmZmYSQDMzMzMzMxNAmpmZmZmZEUBmZmZmZmYSQDMzMzMzMxFAAAAAAAAAEkAzMzMzMzMTQAAAAAAAABRAMzMzMzMzE0BmZmZmZmYSQAAAAAAAABJAZmZmZmZmEkCamZmZmZkRQM3MzMzMzBZAMzMzMzMzF0CamZmZmZkXQGZmZmZmZhhAzczMzMzMFkAAAAAAAAAUQM3MzMzMzBRAMzMzMzMzEUBmZmZmZmYQQJqZmZmZmRFAAAAAAAAAEkAzMzMzMzMPQDMzMzMzMyBAmpmZmZmZEUAAAAAAAAAUQM3MzMzMzBJAAAAAAAAAGEAAAAAAAAAUQAAAAAAAABRAAAAAAAAAEkCamZmZmZkVQGZmZmZmZhZAMzMzMzMzD0AAAAAAAAAQQAAAAAAAABJAZmZmZmZmDkBmZmZmZmYWQM3MzMzMzBRAMzMzMzMzE0CamZmZmZkNQAAAAAAAABJAMzMzMzMzD0BmZmZmZmYUQM3MzMzMzBBAzczMzMzMEEAzMzMzMzMTQM3MzMzMzBJAzczMzMzMEkBmZmZmZmYSQGZmZmZmZg5AzczMzMzMEECamZmZmZkNQM3MzMzMzBBAZmZmZmZmEEAAAAAAAAAQQGZmZmZmZg5AZmZmZmZmDkBmZmZmZmYOQGZmZmZmZhRAAAAAAAAAEEAzMzMzMzMTQDMzMzMzMw9AZmZmZmZmEkA=\",\"dtype\":\"float64\",\"order\":\"little\",\"shape\":[157]},\"distance\":{\"__ndarray__\":\"AAAAAAAAPEAAAAAAAAAoQGZmZmZmZiZAzczMzMzMKUAAAAAAAIAyQJqZmZmZmSBAMzMzMzMzH0CamZmZmZkoQJqZmZmZmRNAzczMzMzMJ0DNzMzMzMwoQJqZmZmZmSdAmpmZmZmZKEAzMzMzM7M4QM3MzMzMzChAzczMzMxMMUAzMzMzM7NAQJqZmZmZmSdAZmZmZmbmOUCamZmZmZknQM3MzMzMTDlAZmZmZmZmLEBmZmZmZuYxQJqZmZmZmSdAmpmZmZmZKEDNzMzMzMwoQGZmZmZmZjJAZmZmZmZmMkDNzMzMzEwyQGZmZmZmZjJAmpmZmZmZKECamZmZmZknQJqZmZmZmShAzczMzMxMQEAAAAAAAAAzQDMzMzMzMyhAAAAAAAAANECamZmZmZkTQJqZmZmZmSdAmpmZmZmZKEDNzMzMzMwoQAAAAAAAABJAZmZmZmZmJ0BmZmZmZmYkQJqZmZmZGTBAmpmZmZmZJ0CamZmZmZkoQM3MzMzMzChAAAAAAAAAHECamZmZmZknQJqZmZmZGTRAzczMzMzMNEAzMzMzMzP7PzMzMzMz80FAMzMzMzNzQkDNzMzMzMwwQM3MzMzMzCNAZmZmZmbmNkDNzMzMzEwxQJqZmZmZmSdAzczMzMxMQkAzMzMzM3NGQJqZmZmZmSdAmpmZmZmZNUAzMzMzM7NDQGZmZmZmZhRAmpmZmZmZOkCamZmZmZlKQGZmZmZm5jJAAAAAAADARUBmZmZmZmYYQGZmZmZmZjBAmpmZmZmZKECamZmZmRk1QJqZmZmZGTVAMzMzMzOzNkAzMzMzMzNGQGZmZmZm5kFAmpmZmZmZJ0AzMzMzMzM6QM3MzMzMTERAzczMzMzMKEAzMzMzMzMsQJqZmZmZWU1AMzMzMzMzMECamZmZmZkoQJqZmZmZmShAzczMzMzMKEDNzMzMzMw/QJqZmZmZmShAzczMzMzMSUDNzMzMzExDQJqZmZmZmShAzczMzMxMVECamZmZmUlgQM3MzMzMzFBAAAAAAAAAM0DNzMzMzMwoQDMzMzMzMzlAmpmZmZmZLECamZmZmZknQGZmZmZm5jBAzczMzMzMKEBmZmZmZmYxQGZmZmZmZiJAmpmZmZmZKEAAAAAAAAAqQJqZmZmZmSdAAAAAAAAAKkCamZmZmZkoQJqZmZmZmShAAAAAAAAAKUAAAAAAAIA/QJqZmZmZmSdAZmZmZmbmOEAAAAAAAAAxQAAAAAAAAABAmpmZmZmZJ0CamZmZmZkdQM3MzMzMzChAAAAAAAAAAEAAAAAAAAAsQDMzMzMzszlAmpmZmZmZJ0BmZmZmZmYQQM3MzMzMzBBAzczMzMzMEEAAAAAAAAAwQM3MzMzMzC5AAAAAAAAAMEDNzMzMzMwQQJqZmZmZeVlAmpmZmZl5V0CamZmZmZkwQM3MzMzMzC5AAAAAAACAMEDNzMzMzMwuQGZmZmZmZjJAAAAAAADAQ0AAAAAAAIA1QDMzMzMzMxNAmpmZmZk5WUBmZmZmZjZgQJqZmZmZmTBAzczMzMzMLkAAAAAAAAAwQAAAAAAAADBAzczMzMzMLkAAAAAAAAAwQAAAAAAAADVAzczMzMzMLkAAAAAAAAAwQJqZmZmZGTBAAAAAAAAAMEDNzMzMzMwuQDMzMzMzMzFAmpmZmZmZMEA=\",\"dtype\":\"float64\",\"order\":\"little\",\"shape\":[157]},\"gas_type\":[\"E10\",\"E10\",\"E10\",\"E10\",\"E10\",\"E10\",\"E10\",\"E10\",\"E10\",\"E10\",\"E10\",\"E10\",\"E10\",\"E10\",\"E10\",\"E10\",\"E10\",\"E10\",\"E10\",\"E10\",\"E10\",\"E10\",\"E10\",\"E10\",\"E10\",\"E10\",\"E10\",\"E10\",\"E10\",\"E10\",\"E10\",\"E10\",\"E10\",\"E10\",\"E10\",\"E10\",\"E10\",\"E10\",\"E10\",\"E10\",\"E10\",\"E10\",\"E10\",\"E10\",\"E10\",\"E10\",\"E10\",\"E10\",\"E10\",\"E10\",\"E10\",\"E10\",\"E10\",\"E10\",\"E10\",\"E10\",\"E10\",\"E10\",\"E10\",\"E10\",\"E10\",\"E10\",\"E10\",\"E10\",\"E10\",\"E10\",\"E10\",\"E10\",\"E10\",\"E10\",\"E10\",\"E10\",\"E10\",\"E10\",\"E10\",\"E10\",\"E10\",\"E10\",\"E10\",\"E10\",\"E10\",\"E10\",\"E10\",\"E10\",\"E10\",\"E10\",\"E10\",\"E10\",\"E10\",\"E10\",\"E10\",\"E10\",\"E10\",\"E10\",\"E10\",\"E10\",\"E10\",\"E10\",\"E10\",\"E10\",\"E10\",\"E10\",\"E10\",\"E10\",\"E10\",\"E10\",\"E10\",\"E10\",\"E10\",\"E10\",\"E10\",\"E10\",\"E10\",\"E10\",\"E10\",\"E10\",\"E10\",\"E10\",\"E10\",\"E10\",\"E10\",\"E10\",\"E10\",\"E10\",\"E10\",\"E10\",\"E10\",\"E10\",\"E10\",\"E10\",\"E10\",\"E10\",\"E10\",\"E10\",\"E10\",\"E10\",\"E10\",\"E10\",\"E10\",\"E10\",\"E10\",\"E10\",\"E10\",\"E10\",\"E10\",\"E10\",\"E10\",\"E10\",\"E10\",\"E10\",\"E10\",\"E10\",\"E10\",\"E10\",\"E10\",\"E10\",\"E10\"],\"index\":[0,1,2,3,4,5,6,7,8,9,10,11,12,13,14,15,16,17,18,19,20,21,22,23,24,25,26,27,28,29,30,31,32,33,34,35,36,37,38,39,40,41,42,43,139,140,141,142,143,144,145,146,147,148,149,150,151,152,153,154,155,156,157,158,159,160,161,162,163,164,165,166,167,168,169,170,171,172,173,174,175,176,177,178,179,180,181,182,183,184,185,186,187,188,189,190,234,235,236,237,238,239,240,241,242,243,244,245,246,247,248,249,250,251,252,253,254,255,256,257,258,259,260,262,263,264,265,266,269,270,271,272,273,325,326,327,328,329,330,331,332,333,334,335,336,337,338,339,340,341,342,343,344,345,346,347,348],\"rain\":[0,0,0,0,0,0,0,0,0,0,0,0,0,0,0,0,0,0,0,0,0,0,0,0,0,0,0,0,0,0,0,0,0,0,0,0,0,0,0,0,1,0,0,0,1,1,0,0,0,0,0,0,1,0,0,0,0,1,1,0,1,0,1,1,1,0,0,0,0,0,0,0,0,0,0,0,0,0,0,0,0,0,0,0,0,0,1,0,0,0,0,0,0,0,0,0,0,0,0,0,0,0,0,0,1,1,0,1,1,0,0,0,0,0,0,0,0,0,0,0,0,0,0,0,0,0,0,0,0,0,0,0,0,0,0,0,0,0,0,0,0,0,0,0,0,0,0,0,0,0,0,0,1,0,0,0,0],\"snow\":[0,0,0,0,0,0,0,0,0,0,0,0,0,0,0,0,0,0,0,0,0,0,0,0,0,0,0,0,0,0,0,0,0,0,0,0,0,0,0,0,0,0,0,0,0,0,0,0,0,0,0,0,0,0,0,0,0,0,0,0,0,0,0,0,0,0,0,0,0,0,0,0,0,0,0,0,0,0,0,0,0,0,0,0,0,0,1,0,0,0,0,0,0,0,0,0,0,0,0,0,0,0,0,0,0,0,0,0,0,0,0,0,0,0,0,0,0,0,0,0,0,0,0,0,0,0,0,0,0,0,0,0,0,0,0,0,0,0,0,0,0,0,0,0,0,0,0,0,0,0,0,0,0,0,0,0,0],\"speed\":[26,30,38,36,46,50,43,40,26,30,42,38,59,58,46,24,36,32,39,40,32,38,37,36,62,57,21,28,29,35,51,29,58,40,36,36,37,26,23,58,55,29,37,44,24,40,58,49,25,37,41,45,14,45,52,46,28,61,61,37,80,62,34,44,60,39,38,71,53,80,26,49,40,36,43,55,38,51,44,42,44,38,47,75,29,50,52,51,59,55,73,44,41,69,85,67,29,38,55,36,40,48,55,36,33,54,32,16,37,42,57,57,30,42,53,46,20,33,31,55,22,41,45,28,24,29,29,40,50,41,32,75,88,49,43,43,21,59,58,47,26,87,58,43,50,45,41,45,43,37,47,42,30,42,40,35,50],\"sun\":[0,0,0,0,0,0,0,0,0,0,0,0,0,0,0,0,0,0,0,0,0,0,0,0,0,0,0,0,0,0,0,0,0,0,0,0,0,0,0,0,0,0,0,0,0,0,0,0,0,0,0,0,0,0,0,0,0,0,0,0,0,0,0,0,0,0,0,0,0,0,0,0,0,0,0,0,0,0,0,0,0,0,0,0,0,0,0,0,0,0,0,0,0,0,0,0,0,0,0,0,0,1,1,1,0,0,0,0,0,0,1,1,1,0,0,1,0,0,0,1,0,0,0,0,0,0,1,0,0,0,0,0,1,0,0,0,0,0,0,1,0,0,0,0,0,0,0,0,0,0,0,0,0,0,0,0,0],\"temp_diff\":{\"__ndarray__\":\"AAAAAAAAI0AAAAAAAAAhQAAAAAAAABpAAAAAAAAAHkAAAAAAAAAaQAAAAAAAACdAAAAAAAAAJUAAAAAAAAAvQAAAAAAAgDFAAAAAAAAAKUAAAAAAAIAxQAAAAAAAgDVAAAAAAAAAJ0AAAAAAAAAjQAAAAAAAACVAAAAAAACAMEAAAAAAAIAyQAAAAAAAgDJAAAAAAAAAK0AAAAAAAIAxQAAAAAAAgDJAAAAAAACANEAAAAAAAIA0QAAAAAAAgDRAAAAAAAAAL0AAAAAAAAApQAAAAAAAgDRAAAAAAACAMkAAAAAAAIA0QAAAAAAAgDFAAAAAAAAAJUAAAAAAAAAnQAAAAAAAACtAAAAAAAAALUAAAAAAAAAtQAAAAAAAACtAAAAAAACAMUAAAAAAAAAvQAAAAAAAAClAAAAAAAAALUAAAAAAAAAtQAAAAAAAAC1AAAAAAAAAL0AAAAAAAAAtQAAAAAAAAC1AAAAAAAAAJ0AAAAAAAAAhQAAAAAAAABJAAAAAAAAAEkAAAAAAAAAnQAAAAAAAAAxAAAAAAAAAJ0AAAAAAAAAnQAAAAAAAACNAAAAAAACAMEAAAAAAAAArQAAAAAAAAClAAAAAAAAALUAAAAAAAAAvQAAAAAAAAC1AAAAAAAAALUAAAAAAAAArQAAAAAAAAClAAAAAAAAAKUAAAAAAAAApQAAAAAAAgDFAAAAAAAAALUAAAAAAAIAzQAAAAAAAgDNAAAAAAACAMkAAAAAAAIAwQAAAAAAAgDBAAAAAAAAAL0AAAAAAAAArQAAAAAAAAC1AAAAAAAAAL0AAAAAAAAArQAAAAAAAAC9AAAAAAACANUAAAAAAAAAvQAAAAAAAADJAAAAAAAAAOkAAAAAAAAA4QAAAAAAAADVAAAAAAAAANUAAAAAAAIA2QAAAAAAAgDZAAAAAAACANUAAAAAAAIAzQAAAAAAAAC1AAAAAAAAAJUAAAAAAAAApQAAAAAAAAC9AAAAAAAAAIkAAAAAAAAAkQAAAAAAAABBAAAAAAAAAKUAAAAAAAIA1QAAAAAAAACtAAAAAAAAAKUAAAAAAAIA0QAAAAAAAACtAAAAAAAAAJ0AAAAAAAAAlQAAAAAAAAC1AAAAAAAAAKUAAAAAAAAApQAAAAAAAgDBAAAAAAAAAJ0AAAAAAAAApQAAAAAAAAB5AAAAAAAAAGkAAAAAAAAAaQAAAAAAAAC1AAAAAAAAAIUAAAAAAAAAhQAAAAAAAACFAAAAAAAAALUAAAAAAAAAlQAAAAAAAACFAAAAAAAAAIUAAAAAAAAAtQAAAAAAAAC9AAAAAAAAAJUAAAAAAAAAjQAAAAAAAABRAAAAAAAAAEEAAAAAAAAAoQAAAAAAAACBAAAAAAAAAJEAAAAAAAAAQQAAAAAAAABBAAAAAAAAAFEAAAAAAAAAUQAAAAAAAAADAAAAAAAAAFEAAAAAAAAAAwAAAAAAAAADAAAAAAAAACMAAAAAAAAAAwAAAAAAAABxAAAAAAAAA+D8AAAAAAAAIQAAAAAAAABZAAAAAAAAA4D8AAAAAAAAUQAAAAAAAABxAAAAAAAAAAMAAAAAAAAAYQAAAAAAAAPA/AAAAAAAAAMAAAAAAAAAUQAAAAAAAACJAAAAAAAAAHEAAAAAAAAAQQAAAAAAAABhAAAAAAAAACMA=\",\"dtype\":\"float64\",\"order\":\"little\",\"shape\":[157]}},\"selected\":{\"id\":\"3657\"},\"selection_policy\":{\"id\":\"3656\"}},\"id\":\"3641\",\"type\":\"ColumnDataSource\"},{\"attributes\":{\"label\":{\"value\":\"E10\"},\"renderers\":[{\"id\":\"3646\"}]},\"id\":\"3660\",\"type\":\"LegendItem\"},{\"attributes\":{\"label\":{\"value\":\"SP98\"},\"renderers\":[{\"id\":\"3667\"}]},\"id\":\"3682\",\"type\":\"LegendItem\"},{\"attributes\":{\"click_policy\":\"mute\",\"coordinates\":null,\"group\":null,\"items\":[{\"id\":\"3660\"},{\"id\":\"3682\"}],\"location\":\"top_left\"},\"id\":\"3659\",\"type\":\"Legend\"},{\"attributes\":{\"coordinates\":null,\"formatter\":{\"id\":\"3654\"},\"group\":null,\"major_label_policy\":{\"id\":\"3655\"},\"ticker\":{\"id\":\"3618\"}},\"id\":\"3617\",\"type\":\"LinearAxis\"},{\"attributes\":{},\"id\":\"3613\",\"type\":\"LinearScale\"},{\"attributes\":{\"coordinates\":null,\"formatter\":{\"id\":\"3651\"},\"group\":null,\"major_label_policy\":{\"id\":\"3652\"},\"ticker\":{\"id\":\"3622\"}},\"id\":\"3621\",\"type\":\"LinearAxis\"}],\"root_ids\":[\"3608\"]},\"title\":\"Bokeh Application\",\"version\":\"2.4.2\"}};\n  const render_items = [{\"docid\":\"22309abc-1322-40c2-bf58-0fd0b82dfd37\",\"root_ids\":[\"3608\"],\"roots\":{\"3608\":\"d2c3472a-f02d-4e85-ac4a-b8ca51be51d1\"}}];\n  root.Bokeh.embed.embed_items_notebook(docs_json, render_items);\n\n  }\n  if (root.Bokeh !== undefined) {\n    embed_document(root);\n  } else {\n    let attempts = 0;\n    const timer = setInterval(function(root) {\n      if (root.Bokeh !== undefined) {\n        clearInterval(timer);\n        embed_document(root);\n      } else {\n        attempts++;\n        if (attempts > 100) {\n          clearInterval(timer);\n          console.log(\"Bokeh: ERROR: Unable to run BokehJS code because BokehJS library is missing\");\n        }\n      }\n    }, 10, root)\n  }\n})(window);",
      "application/vnd.bokehjs_exec.v0+json": ""
     },
     "metadata": {
      "application/vnd.bokehjs_exec.v0+json": {
       "id": "3608"
      }
     },
     "output_type": "display_data"
    }
   ],
   "source": [
    "p = figure(width=700, height=250)\n",
    "p.title.text = \"\"\"Fuel consumption dependence on distance \n",
    "(Click on legend entries to mute the corresponding lines)\"\"\"\n",
    "\n",
    "for df, name, color in zip([E10_data, SP98_data], [\"E10\", \"SP98\"], Spectral4):\n",
    "    p.scatter(\"distance\", \"consume\", source=df, fill_alpha=0.4, size=12,\n",
    "          marker=factor_mark('gas_type', MARKERS, GAS_TYPES), \n",
    "          color=color, alpha=0.8, \n",
    "          muted_color=color, muted_alpha=0.2, legend_label=name)\n",
    "\n",
    "p.legend.location = \"top_left\"\n",
    "p.legend.click_policy=\"mute\"\n",
    "\n",
    "show(p)"
   ]
  },
  {
   "cell_type": "markdown",
   "metadata": {},
   "source": [
    "We can notice a somewhat linear dependence of fuel consumption and speed / temperature difference, but not with the distance."
   ]
  },
  {
   "cell_type": "code",
   "execution_count": 41,
   "metadata": {},
   "outputs": [
    {
     "data": {
      "image/png": "[encoded data removed]",
      "text/plain": [
       "<Figure size 720x720 with 2 Axes>"
      ]
     },
     "metadata": {
      "needs_background": "light"
     },
     "output_type": "display_data"
    }
   ],
   "source": [
    "# Calculate correlation matrix\n",
    "data.corr()\n",
    "\n",
    "# Create heatmap\n",
    "mask = np.zeros_like(data.corr())\n",
    "mask[np.triu_indices_from(mask)] = True \n",
    "fig, ax = plt.subplots(figsize=(10, 10))\n",
    "ax = sns.heatmap(data.corr(), mask=mask, annot=True)\n",
    "plt.show()"
   ]
  },
  {
   "cell_type": "markdown",
   "metadata": {},
   "source": [
    "There is little colinearity amongst our variables, so we can use them to predict fuel consumption based on weather conditions and speed used. We also notice that there is very little variation among the type of fuel used, suggesting that Cobify should look into different alternatives."
   ]
  },
  {
   "cell_type": "markdown",
   "metadata": {},
   "source": [
    "### Conclusions\n",
    "\n",
    "From visualizing the data we can notice that consumption is lower at higher speeds and lower temperature differences, suggesting that:\n",
    "* during winter season, Cobify should increase its prices in order to maintain its margins\n",
    "* drivers should use the highest speed they can as long as it is safe to do so"
   ]
  },
  {
   "cell_type": "markdown",
   "metadata": {},
   "source": [
    "### Next steps\n",
    "\n",
    "Cobify should try out more fuel types and record data for car, engine types, and types of road taken to see which type of ride would be better for its margins."
   ]
  }
 ],
 "metadata": {
  "kernelspec": {
   "display_name": "Python 3.8.10 64-bit",
   "language": "python",
   "name": "python3"
  },
  "language_info": {
   "codemirror_mode": {
    "name": "ipython",
    "version": 3
   },
   "file_extension": ".py",
   "mimetype": "text/x-python",
   "name": "python",
   "nbconvert_exporter": "python",
   "pygments_lexer": "ipython3",
   "version": "3.8.10"
  },
  "orig_nbformat": 4,
  "vscode": {
   "interpreter": {
    "hash": "916dbcbb3f70747c44a77c7bcd40155683ae19c65e1c03b4aa3499c5328201f1"
   }
  }
 },
 "nbformat": 4,
 "nbformat_minor": 2
}
