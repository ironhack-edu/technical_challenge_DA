{
 "cells": [
  {
   "cell_type": "code",
   "execution_count": 50,
   "id": "767ed2c0",
   "metadata": {},
   "outputs": [],
   "source": [
    "#importing necessary libraries\n",
    "import pandas as pd\n",
    "import matplotlib.pyplot as plt\n",
    "import seaborn as sns"
   ]
  },
  {
   "cell_type": "code",
   "execution_count": 2,
   "id": "7474344f",
   "metadata": {},
   "outputs": [],
   "source": [
    "#getting the data\n",
    "data= pd.read_csv('../data/measurements.csv')"
   ]
  },
  {
   "cell_type": "code",
   "execution_count": 3,
   "id": "a973d890",
   "metadata": {},
   "outputs": [
    {
     "data": {
      "text/html": [
       "<div>\n",
       "<style scoped>\n",
       "    .dataframe tbody tr th:only-of-type {\n",
       "        vertical-align: middle;\n",
       "    }\n",
       "\n",
       "    .dataframe tbody tr th {\n",
       "        vertical-align: top;\n",
       "    }\n",
       "\n",
       "    .dataframe thead th {\n",
       "        text-align: right;\n",
       "    }\n",
       "</style>\n",
       "<table border=\"1\" class=\"dataframe\">\n",
       "  <thead>\n",
       "    <tr style=\"text-align: right;\">\n",
       "      <th></th>\n",
       "      <th>distance</th>\n",
       "      <th>consume</th>\n",
       "      <th>speed</th>\n",
       "      <th>temp_inside</th>\n",
       "      <th>temp_outside</th>\n",
       "      <th>specials</th>\n",
       "      <th>gas_type</th>\n",
       "      <th>AC</th>\n",
       "      <th>rain</th>\n",
       "      <th>sun</th>\n",
       "      <th>refill liters</th>\n",
       "      <th>refill gas</th>\n",
       "    </tr>\n",
       "  </thead>\n",
       "  <tbody>\n",
       "    <tr>\n",
       "      <th>0</th>\n",
       "      <td>28</td>\n",
       "      <td>5</td>\n",
       "      <td>26</td>\n",
       "      <td>21,5</td>\n",
       "      <td>12</td>\n",
       "      <td>NaN</td>\n",
       "      <td>E10</td>\n",
       "      <td>0</td>\n",
       "      <td>0</td>\n",
       "      <td>0</td>\n",
       "      <td>45</td>\n",
       "      <td>E10</td>\n",
       "    </tr>\n",
       "    <tr>\n",
       "      <th>1</th>\n",
       "      <td>12</td>\n",
       "      <td>4,2</td>\n",
       "      <td>30</td>\n",
       "      <td>21,5</td>\n",
       "      <td>13</td>\n",
       "      <td>NaN</td>\n",
       "      <td>E10</td>\n",
       "      <td>0</td>\n",
       "      <td>0</td>\n",
       "      <td>0</td>\n",
       "      <td>NaN</td>\n",
       "      <td>NaN</td>\n",
       "    </tr>\n",
       "    <tr>\n",
       "      <th>2</th>\n",
       "      <td>11,2</td>\n",
       "      <td>5,5</td>\n",
       "      <td>38</td>\n",
       "      <td>21,5</td>\n",
       "      <td>15</td>\n",
       "      <td>NaN</td>\n",
       "      <td>E10</td>\n",
       "      <td>0</td>\n",
       "      <td>0</td>\n",
       "      <td>0</td>\n",
       "      <td>NaN</td>\n",
       "      <td>NaN</td>\n",
       "    </tr>\n",
       "    <tr>\n",
       "      <th>3</th>\n",
       "      <td>12,9</td>\n",
       "      <td>3,9</td>\n",
       "      <td>36</td>\n",
       "      <td>21,5</td>\n",
       "      <td>14</td>\n",
       "      <td>NaN</td>\n",
       "      <td>E10</td>\n",
       "      <td>0</td>\n",
       "      <td>0</td>\n",
       "      <td>0</td>\n",
       "      <td>NaN</td>\n",
       "      <td>NaN</td>\n",
       "    </tr>\n",
       "    <tr>\n",
       "      <th>4</th>\n",
       "      <td>18,5</td>\n",
       "      <td>4,5</td>\n",
       "      <td>46</td>\n",
       "      <td>21,5</td>\n",
       "      <td>15</td>\n",
       "      <td>NaN</td>\n",
       "      <td>E10</td>\n",
       "      <td>0</td>\n",
       "      <td>0</td>\n",
       "      <td>0</td>\n",
       "      <td>NaN</td>\n",
       "      <td>NaN</td>\n",
       "    </tr>\n",
       "  </tbody>\n",
       "</table>\n",
       "</div>"
      ],
      "text/plain": [
       "  distance consume  speed temp_inside  temp_outside specials gas_type  AC  \\\n",
       "0       28       5     26        21,5            12      NaN      E10   0   \n",
       "1       12     4,2     30        21,5            13      NaN      E10   0   \n",
       "2     11,2     5,5     38        21,5            15      NaN      E10   0   \n",
       "3     12,9     3,9     36        21,5            14      NaN      E10   0   \n",
       "4     18,5     4,5     46        21,5            15      NaN      E10   0   \n",
       "\n",
       "   rain  sun refill liters refill gas  \n",
       "0     0    0            45        E10  \n",
       "1     0    0           NaN        NaN  \n",
       "2     0    0           NaN        NaN  \n",
       "3     0    0           NaN        NaN  \n",
       "4     0    0           NaN        NaN  "
      ]
     },
     "execution_count": 3,
     "metadata": {},
     "output_type": "execute_result"
    }
   ],
   "source": [
    "#seeing the data\n",
    "data.head()"
   ]
  },
  {
   "cell_type": "code",
   "execution_count": 4,
   "id": "48e0a3e3",
   "metadata": {},
   "outputs": [],
   "source": [
    "#getting the second document\n",
    "data_2=pd.read_excel('../data/measurements2.xlsx')"
   ]
  },
  {
   "cell_type": "code",
   "execution_count": 5,
   "id": "0d1d1a2b",
   "metadata": {},
   "outputs": [
    {
     "data": {
      "text/html": [
       "<div>\n",
       "<style scoped>\n",
       "    .dataframe tbody tr th:only-of-type {\n",
       "        vertical-align: middle;\n",
       "    }\n",
       "\n",
       "    .dataframe tbody tr th {\n",
       "        vertical-align: top;\n",
       "    }\n",
       "\n",
       "    .dataframe thead th {\n",
       "        text-align: right;\n",
       "    }\n",
       "</style>\n",
       "<table border=\"1\" class=\"dataframe\">\n",
       "  <thead>\n",
       "    <tr style=\"text-align: right;\">\n",
       "      <th></th>\n",
       "      <th>distance</th>\n",
       "      <th>consume</th>\n",
       "      <th>speed</th>\n",
       "      <th>temp_inside</th>\n",
       "      <th>temp_outside</th>\n",
       "      <th>specials</th>\n",
       "      <th>gas_type</th>\n",
       "      <th>AC</th>\n",
       "      <th>rain</th>\n",
       "      <th>sun</th>\n",
       "      <th>refill liters</th>\n",
       "      <th>refill gas</th>\n",
       "    </tr>\n",
       "  </thead>\n",
       "  <tbody>\n",
       "    <tr>\n",
       "      <th>0</th>\n",
       "      <td>28.0</td>\n",
       "      <td>5.0</td>\n",
       "      <td>26</td>\n",
       "      <td>21.5</td>\n",
       "      <td>12</td>\n",
       "      <td>NaN</td>\n",
       "      <td>E10</td>\n",
       "      <td>0</td>\n",
       "      <td>0</td>\n",
       "      <td>0</td>\n",
       "      <td>45.0</td>\n",
       "      <td>E10</td>\n",
       "    </tr>\n",
       "    <tr>\n",
       "      <th>1</th>\n",
       "      <td>12.0</td>\n",
       "      <td>4.2</td>\n",
       "      <td>30</td>\n",
       "      <td>21.5</td>\n",
       "      <td>13</td>\n",
       "      <td>NaN</td>\n",
       "      <td>E10</td>\n",
       "      <td>0</td>\n",
       "      <td>0</td>\n",
       "      <td>0</td>\n",
       "      <td>NaN</td>\n",
       "      <td>NaN</td>\n",
       "    </tr>\n",
       "    <tr>\n",
       "      <th>2</th>\n",
       "      <td>11.2</td>\n",
       "      <td>5.5</td>\n",
       "      <td>38</td>\n",
       "      <td>21.5</td>\n",
       "      <td>15</td>\n",
       "      <td>NaN</td>\n",
       "      <td>E10</td>\n",
       "      <td>0</td>\n",
       "      <td>0</td>\n",
       "      <td>0</td>\n",
       "      <td>NaN</td>\n",
       "      <td>NaN</td>\n",
       "    </tr>\n",
       "    <tr>\n",
       "      <th>3</th>\n",
       "      <td>12.9</td>\n",
       "      <td>3.9</td>\n",
       "      <td>36</td>\n",
       "      <td>21.5</td>\n",
       "      <td>14</td>\n",
       "      <td>NaN</td>\n",
       "      <td>E10</td>\n",
       "      <td>0</td>\n",
       "      <td>0</td>\n",
       "      <td>0</td>\n",
       "      <td>NaN</td>\n",
       "      <td>NaN</td>\n",
       "    </tr>\n",
       "    <tr>\n",
       "      <th>4</th>\n",
       "      <td>18.5</td>\n",
       "      <td>4.5</td>\n",
       "      <td>46</td>\n",
       "      <td>21.5</td>\n",
       "      <td>15</td>\n",
       "      <td>NaN</td>\n",
       "      <td>E10</td>\n",
       "      <td>0</td>\n",
       "      <td>0</td>\n",
       "      <td>0</td>\n",
       "      <td>NaN</td>\n",
       "      <td>NaN</td>\n",
       "    </tr>\n",
       "  </tbody>\n",
       "</table>\n",
       "</div>"
      ],
      "text/plain": [
       "   distance  consume  speed  temp_inside  temp_outside specials gas_type  AC  \\\n",
       "0      28.0      5.0     26         21.5            12      NaN      E10   0   \n",
       "1      12.0      4.2     30         21.5            13      NaN      E10   0   \n",
       "2      11.2      5.5     38         21.5            15      NaN      E10   0   \n",
       "3      12.9      3.9     36         21.5            14      NaN      E10   0   \n",
       "4      18.5      4.5     46         21.5            15      NaN      E10   0   \n",
       "\n",
       "   rain  sun  refill liters refill gas  \n",
       "0     0    0           45.0        E10  \n",
       "1     0    0            NaN        NaN  \n",
       "2     0    0            NaN        NaN  \n",
       "3     0    0            NaN        NaN  \n",
       "4     0    0            NaN        NaN  "
      ]
     },
     "execution_count": 5,
     "metadata": {},
     "output_type": "execute_result"
    }
   ],
   "source": [
    "#it looks like both documents are the same\n",
    "data_2.head()"
   ]
  },
  {
   "cell_type": "code",
   "execution_count": 6,
   "id": "76a6ea48",
   "metadata": {},
   "outputs": [
    {
     "data": {
      "text/plain": [
       "((388, 12), (388, 12))"
      ]
     },
     "execution_count": 6,
     "metadata": {},
     "output_type": "execute_result"
    }
   ],
   "source": [
    "data.shape, data_2.shape "
   ]
  },
  {
   "cell_type": "code",
   "execution_count": 7,
   "id": "c3afc38b",
   "metadata": {},
   "outputs": [
    {
     "name": "stdout",
     "output_type": "stream",
     "text": [
      "<class 'pandas.core.frame.DataFrame'>\n",
      "RangeIndex: 388 entries, 0 to 387\n",
      "Data columns (total 12 columns):\n",
      " #   Column         Non-Null Count  Dtype \n",
      "---  ------         --------------  ----- \n",
      " 0   distance       388 non-null    object\n",
      " 1   consume        388 non-null    object\n",
      " 2   speed          388 non-null    int64 \n",
      " 3   temp_inside    376 non-null    object\n",
      " 4   temp_outside   388 non-null    int64 \n",
      " 5   specials       93 non-null     object\n",
      " 6   gas_type       388 non-null    object\n",
      " 7   AC             388 non-null    int64 \n",
      " 8   rain           388 non-null    int64 \n",
      " 9   sun            388 non-null    int64 \n",
      " 10  refill liters  13 non-null     object\n",
      " 11  refill gas     13 non-null     object\n",
      "dtypes: int64(5), object(7)\n",
      "memory usage: 36.5+ KB\n"
     ]
    }
   ],
   "source": [
    "data.info()"
   ]
  },
  {
   "cell_type": "code",
   "execution_count": 8,
   "id": "10554a03",
   "metadata": {},
   "outputs": [
    {
     "name": "stdout",
     "output_type": "stream",
     "text": [
      "<class 'pandas.core.frame.DataFrame'>\n",
      "RangeIndex: 388 entries, 0 to 387\n",
      "Data columns (total 12 columns):\n",
      " #   Column         Non-Null Count  Dtype  \n",
      "---  ------         --------------  -----  \n",
      " 0   distance       388 non-null    float64\n",
      " 1   consume        388 non-null    float64\n",
      " 2   speed          388 non-null    int64  \n",
      " 3   temp_inside    376 non-null    float64\n",
      " 4   temp_outside   388 non-null    int64  \n",
      " 5   specials       93 non-null     object \n",
      " 6   gas_type       388 non-null    object \n",
      " 7   AC             388 non-null    int64  \n",
      " 8   rain           388 non-null    int64  \n",
      " 9   sun            388 non-null    int64  \n",
      " 10  refill liters  13 non-null     float64\n",
      " 11  refill gas     13 non-null     object \n",
      "dtypes: float64(4), int64(5), object(3)\n",
      "memory usage: 36.5+ KB\n"
     ]
    }
   ],
   "source": [
    "data_2.info() #indeed both are the same I will continue with data. The only difference is the types. "
   ]
  },
  {
   "cell_type": "markdown",
   "id": "27afd352",
   "metadata": {},
   "source": [
    "## Cleaning the data"
   ]
  },
  {
   "cell_type": "code",
   "execution_count": 64,
   "id": "82694ba4",
   "metadata": {},
   "outputs": [
    {
     "data": {
      "text/plain": [
       "False"
      ]
     },
     "execution_count": 64,
     "metadata": {},
     "output_type": "execute_result"
    }
   ],
   "source": [
    "data.duplicated().any() # no duplicates I can continue"
   ]
  },
  {
   "cell_type": "code",
   "execution_count": 9,
   "id": "4a1cf8fe",
   "metadata": {},
   "outputs": [
    {
     "data": {
      "text/plain": [
       "11,8    37\n",
       "16      24\n",
       "12,3    23\n",
       "12,4    18\n",
       "15,4    14\n",
       "        ..\n",
       "44,9     1\n",
       "36,6     1\n",
       "9,9      1\n",
       "16,8     1\n",
       "14,7     1\n",
       "Name: distance, Length: 174, dtype: int64"
      ]
     },
     "execution_count": 9,
     "metadata": {},
     "output_type": "execute_result"
    }
   ],
   "source": [
    "#I wills start by exploring each column \n",
    "data['distance'].value_counts()"
   ]
  },
  {
   "cell_type": "code",
   "execution_count": 10,
   "id": "f8ba6d44",
   "metadata": {},
   "outputs": [],
   "source": [
    "#these are floats but they have a comma instead of a fullstop. I will change that and change the type \n",
    "data['distance'] = [x.replace(',', '.') for x in data['distance']]"
   ]
  },
  {
   "cell_type": "code",
   "execution_count": 11,
   "id": "e049b4bd",
   "metadata": {},
   "outputs": [
    {
     "data": {
      "text/plain": [
       "11.8    37\n",
       "16      24\n",
       "12.3    23\n",
       "12.4    18\n",
       "15.4    14\n",
       "        ..\n",
       "44.9     1\n",
       "36.6     1\n",
       "9.9      1\n",
       "16.8     1\n",
       "14.7     1\n",
       "Name: distance, Length: 174, dtype: int64"
      ]
     },
     "execution_count": 11,
     "metadata": {},
     "output_type": "execute_result"
    }
   ],
   "source": [
    "data['distance'].value_counts()"
   ]
  },
  {
   "cell_type": "code",
   "execution_count": 12,
   "id": "b7040d53",
   "metadata": {},
   "outputs": [],
   "source": [
    "data['distance']=data['distance'].astype(float)"
   ]
  },
  {
   "cell_type": "code",
   "execution_count": 13,
   "id": "d8afdd74",
   "metadata": {},
   "outputs": [
    {
     "name": "stdout",
     "output_type": "stream",
     "text": [
      "<class 'pandas.core.frame.DataFrame'>\n",
      "RangeIndex: 388 entries, 0 to 387\n",
      "Data columns (total 12 columns):\n",
      " #   Column         Non-Null Count  Dtype  \n",
      "---  ------         --------------  -----  \n",
      " 0   distance       388 non-null    float64\n",
      " 1   consume        388 non-null    object \n",
      " 2   speed          388 non-null    int64  \n",
      " 3   temp_inside    376 non-null    object \n",
      " 4   temp_outside   388 non-null    int64  \n",
      " 5   specials       93 non-null     object \n",
      " 6   gas_type       388 non-null    object \n",
      " 7   AC             388 non-null    int64  \n",
      " 8   rain           388 non-null    int64  \n",
      " 9   sun            388 non-null    int64  \n",
      " 10  refill liters  13 non-null     object \n",
      " 11  refill gas     13 non-null     object \n",
      "dtypes: float64(1), int64(5), object(6)\n",
      "memory usage: 36.5+ KB\n"
     ]
    }
   ],
   "source": [
    "data.info()"
   ]
  },
  {
   "cell_type": "code",
   "execution_count": 14,
   "id": "58e07a78",
   "metadata": {},
   "outputs": [
    {
     "data": {
      "text/plain": [
       "0        5\n",
       "1      4,2\n",
       "2      5,5\n",
       "3      3,9\n",
       "4      4,5\n",
       "      ... \n",
       "383    3,7\n",
       "384    4,3\n",
       "385    3,8\n",
       "386    4,6\n",
       "387      5\n",
       "Name: consume, Length: 388, dtype: object"
      ]
     },
     "execution_count": 14,
     "metadata": {},
     "output_type": "execute_result"
    }
   ],
   "source": [
    "data['consume']  #same here"
   ]
  },
  {
   "cell_type": "code",
   "execution_count": 15,
   "id": "c7b99a61",
   "metadata": {},
   "outputs": [],
   "source": [
    "data['consume'] = [x.replace(',', '.') for x in data['consume']]\n",
    "data['consume']=data['consume'].astype(float)"
   ]
  },
  {
   "cell_type": "code",
   "execution_count": 16,
   "id": "6315aecf",
   "metadata": {},
   "outputs": [
    {
     "data": {
      "text/plain": [
       "42    18\n",
       "43    17\n",
       "38    16\n",
       "26    15\n",
       "36    15\n",
       "33    15\n",
       "40    15\n",
       "32    12\n",
       "44    12\n",
       "37    12\n",
       "29    11\n",
       "39    11\n",
       "55    11\n",
       "46    11\n",
       "45    10\n",
       "58    10\n",
       "25    10\n",
       "24     9\n",
       "50     9\n",
       "35     9\n",
       "57     8\n",
       "41     8\n",
       "52     7\n",
       "53     6\n",
       "48     6\n",
       "28     6\n",
       "30     6\n",
       "21     6\n",
       "61     6\n",
       "51     6\n",
       "47     5\n",
       "56     5\n",
       "22     5\n",
       "34     4\n",
       "49     4\n",
       "27     4\n",
       "62     4\n",
       "59     3\n",
       "60     3\n",
       "54     3\n",
       "75     3\n",
       "23     3\n",
       "31     3\n",
       "80     3\n",
       "69     2\n",
       "16     2\n",
       "18     2\n",
       "71     2\n",
       "20     2\n",
       "82     2\n",
       "63     2\n",
       "14     1\n",
       "73     1\n",
       "66     1\n",
       "85     1\n",
       "67     1\n",
       "88     1\n",
       "65     1\n",
       "90     1\n",
       "87     1\n",
       "Name: speed, dtype: int64"
      ]
     },
     "execution_count": 16,
     "metadata": {},
     "output_type": "execute_result"
    }
   ],
   "source": [
    "data['speed'].value_counts()"
   ]
  },
  {
   "cell_type": "code",
   "execution_count": 17,
   "id": "697baab4",
   "metadata": {},
   "outputs": [
    {
     "data": {
      "text/plain": [
       "21,5    133\n",
       "22      102\n",
       "22,5     59\n",
       "20       25\n",
       "21       13\n",
       "23       13\n",
       "25       12\n",
       "24,5      7\n",
       "20,5      4\n",
       "24        3\n",
       "23,5      2\n",
       "25,5      2\n",
       "19        1\n",
       "Name: temp_inside, dtype: int64"
      ]
     },
     "execution_count": 17,
     "metadata": {},
     "output_type": "execute_result"
    }
   ],
   "source": [
    "data['temp_inside'].value_counts()   "
   ]
  },
  {
   "cell_type": "code",
   "execution_count": 18,
   "id": "c0e5214c",
   "metadata": {},
   "outputs": [
    {
     "data": {
      "text/plain": [
       "distance           0\n",
       "consume            0\n",
       "speed              0\n",
       "temp_inside       12\n",
       "temp_outside       0\n",
       "specials         295\n",
       "gas_type           0\n",
       "AC                 0\n",
       "rain               0\n",
       "sun                0\n",
       "refill liters    375\n",
       "refill gas       375\n",
       "dtype: int64"
      ]
     },
     "execution_count": 18,
     "metadata": {},
     "output_type": "execute_result"
    }
   ],
   "source": [
    "data.isnull().sum()  \n",
    "#12 nulls here. As we can see above, temp_inside values range from 19 to 25,5. I will fill the nulls with the mean here"
   ]
  },
  {
   "cell_type": "code",
   "execution_count": 19,
   "id": "761a9db8",
   "metadata": {},
   "outputs": [],
   "source": [
    "data['temp_inside'] = [str(x).replace(',', '.') if isinstance(x, (str, float)) else x for x in data['temp_inside']]"
   ]
  },
  {
   "cell_type": "code",
   "execution_count": 20,
   "id": "a0027015",
   "metadata": {},
   "outputs": [
    {
     "data": {
      "text/plain": [
       "21.5    133\n",
       "22      102\n",
       "22.5     59\n",
       "20       25\n",
       "21       13\n",
       "23       13\n",
       "nan      12\n",
       "25       12\n",
       "24.5      7\n",
       "20.5      4\n",
       "24        3\n",
       "23.5      2\n",
       "25.5      2\n",
       "19        1\n",
       "Name: temp_inside, dtype: int64"
      ]
     },
     "execution_count": 20,
     "metadata": {},
     "output_type": "execute_result"
    }
   ],
   "source": [
    "data['temp_inside'].value_counts()"
   ]
  },
  {
   "cell_type": "code",
   "execution_count": 21,
   "id": "65de6516",
   "metadata": {},
   "outputs": [],
   "source": [
    "data['temp_inside']=data['temp_inside'].astype(float)"
   ]
  },
  {
   "cell_type": "code",
   "execution_count": 22,
   "id": "12bfab15",
   "metadata": {},
   "outputs": [],
   "source": [
    "to_fill=data['temp_inside'].mean()"
   ]
  },
  {
   "cell_type": "code",
   "execution_count": 23,
   "id": "97f5e5c3",
   "metadata": {},
   "outputs": [],
   "source": [
    "data['temp_inside']=data['temp_inside'].fillna(to_fill)"
   ]
  },
  {
   "cell_type": "code",
   "execution_count": 24,
   "id": "8d162d23",
   "metadata": {},
   "outputs": [
    {
     "data": {
      "text/plain": [
       "0"
      ]
     },
     "execution_count": 24,
     "metadata": {},
     "output_type": "execute_result"
    }
   ],
   "source": [
    "data['temp_inside'].isnull().sum() # correct type and no nulls now"
   ]
  },
  {
   "cell_type": "code",
   "execution_count": 25,
   "id": "77b5120f",
   "metadata": {},
   "outputs": [
    {
     "data": {
      "text/plain": [
       " 8     31\n",
       " 10    31\n",
       " 7     28\n",
       " 6     21\n",
       " 9     20\n",
       " 11    20\n",
       " 18    19\n",
       " 12    17\n",
       " 4     17\n",
       " 17    16\n",
       " 16    16\n",
       " 15    14\n",
       " 13    14\n",
       " 14    13\n",
       " 3     13\n",
       " 5     13\n",
       " 1     12\n",
       " 0      9\n",
       " 21     9\n",
       " 2      7\n",
       " 23     7\n",
       " 24     7\n",
       " 19     5\n",
       " 27     5\n",
       " 26     4\n",
       " 31     3\n",
       " 25     3\n",
       " 20     3\n",
       " 30     3\n",
       " 22     3\n",
       "-3      2\n",
       " 28     2\n",
       "-5      1\n",
       "Name: temp_outside, dtype: int64"
      ]
     },
     "execution_count": 25,
     "metadata": {},
     "output_type": "execute_result"
    }
   ],
   "source": [
    "data['temp_outside'].value_counts() #type is correct, no nulls, moving on "
   ]
  },
  {
   "cell_type": "code",
   "execution_count": 26,
   "id": "70181a47",
   "metadata": {},
   "outputs": [
    {
     "data": {
      "text/plain": [
       "rain                  32\n",
       "sun                   27\n",
       "AC rain                9\n",
       "ac                     8\n",
       "AC                     6\n",
       "snow                   3\n",
       "sun ac                 3\n",
       "AC snow                1\n",
       "half rain half sun     1\n",
       "AC sun                 1\n",
       "AC Sun                 1\n",
       "ac rain                1\n",
       "Name: specials, dtype: int64"
      ]
     },
     "execution_count": 26,
     "metadata": {},
     "output_type": "execute_result"
    }
   ],
   "source": [
    "data['specials'].value_counts()   #I will change all this to lower case. "
   ]
  },
  {
   "cell_type": "code",
   "execution_count": 27,
   "id": "12d6c8ee",
   "metadata": {},
   "outputs": [],
   "source": [
    "data['specials']=data['specials'].fillna('unknown')"
   ]
  },
  {
   "cell_type": "code",
   "execution_count": 28,
   "id": "866784be",
   "metadata": {},
   "outputs": [],
   "source": [
    "data['specials'] = [str(x).lower() if isinstance(x, (str, float)) else x for x in data['specials']]"
   ]
  },
  {
   "cell_type": "code",
   "execution_count": 29,
   "id": "34a20626",
   "metadata": {},
   "outputs": [
    {
     "data": {
      "text/plain": [
       "unknown               295\n",
       "rain                   32\n",
       "sun                    27\n",
       "ac                     14\n",
       "ac rain                10\n",
       "snow                    3\n",
       "sun ac                  3\n",
       "ac sun                  2\n",
       "ac snow                 1\n",
       "half rain half sun      1\n",
       "Name: specials, dtype: int64"
      ]
     },
     "execution_count": 29,
     "metadata": {},
     "output_type": "execute_result"
    }
   ],
   "source": [
    "data['specials'].value_counts()"
   ]
  },
  {
   "cell_type": "code",
   "execution_count": 30,
   "id": "7aaba30a",
   "metadata": {},
   "outputs": [
    {
     "data": {
      "text/plain": [
       "SP98    228\n",
       "E10     160\n",
       "Name: gas_type, dtype: int64"
      ]
     },
     "execution_count": 30,
     "metadata": {},
     "output_type": "execute_result"
    }
   ],
   "source": [
    "data['gas_type'].value_counts()"
   ]
  },
  {
   "cell_type": "code",
   "execution_count": 31,
   "id": "ed956c2a",
   "metadata": {},
   "outputs": [],
   "source": [
    "data['gas_type']=data['gas_type'].astype('category')"
   ]
  },
  {
   "cell_type": "code",
   "execution_count": 32,
   "id": "47fa0475",
   "metadata": {},
   "outputs": [
    {
     "name": "stdout",
     "output_type": "stream",
     "text": [
      "<class 'pandas.core.frame.DataFrame'>\n",
      "RangeIndex: 388 entries, 0 to 387\n",
      "Data columns (total 12 columns):\n",
      " #   Column         Non-Null Count  Dtype   \n",
      "---  ------         --------------  -----   \n",
      " 0   distance       388 non-null    float64 \n",
      " 1   consume        388 non-null    float64 \n",
      " 2   speed          388 non-null    int64   \n",
      " 3   temp_inside    388 non-null    float64 \n",
      " 4   temp_outside   388 non-null    int64   \n",
      " 5   specials       388 non-null    object  \n",
      " 6   gas_type       388 non-null    category\n",
      " 7   AC             388 non-null    int64   \n",
      " 8   rain           388 non-null    int64   \n",
      " 9   sun            388 non-null    int64   \n",
      " 10  refill liters  13 non-null     object  \n",
      " 11  refill gas     13 non-null     object  \n",
      "dtypes: category(1), float64(3), int64(5), object(3)\n",
      "memory usage: 34.0+ KB\n"
     ]
    }
   ],
   "source": [
    "data.info()"
   ]
  },
  {
   "cell_type": "code",
   "execution_count": 33,
   "id": "e3fb5387",
   "metadata": {},
   "outputs": [
    {
     "data": {
      "text/plain": [
       "0    358\n",
       "1     30\n",
       "Name: AC, dtype: int64"
      ]
     },
     "execution_count": 33,
     "metadata": {},
     "output_type": "execute_result"
    }
   ],
   "source": [
    "data['AC'].value_counts()"
   ]
  },
  {
   "cell_type": "code",
   "execution_count": 34,
   "id": "c3f73617",
   "metadata": {},
   "outputs": [
    {
     "data": {
      "text/plain": [
       "0    340\n",
       "1     48\n",
       "Name: rain, dtype: int64"
      ]
     },
     "execution_count": 34,
     "metadata": {},
     "output_type": "execute_result"
    }
   ],
   "source": [
    "data['rain'].value_counts()"
   ]
  },
  {
   "cell_type": "code",
   "execution_count": 35,
   "id": "4c35a6fc",
   "metadata": {},
   "outputs": [
    {
     "data": {
      "text/plain": [
       "0    356\n",
       "1     32\n",
       "Name: sun, dtype: int64"
      ]
     },
     "execution_count": 35,
     "metadata": {},
     "output_type": "execute_result"
    }
   ],
   "source": [
    "data['sun'].value_counts()"
   ]
  },
  {
   "cell_type": "code",
   "execution_count": 36,
   "id": "607bcc99",
   "metadata": {},
   "outputs": [
    {
     "data": {
      "text/plain": [
       "45      2\n",
       "37,7    2\n",
       "39      2\n",
       "37,6    1\n",
       "38      1\n",
       "38,3    1\n",
       "10      1\n",
       "41      1\n",
       "37      1\n",
       "37,2    1\n",
       "Name: refill liters, dtype: int64"
      ]
     },
     "execution_count": 36,
     "metadata": {},
     "output_type": "execute_result"
    }
   ],
   "source": [
    "data['refill liters'].value_counts() \n",
    "# for this column I only have 13 out of 388 values so I will drop it. same for refill gas"
   ]
  },
  {
   "cell_type": "code",
   "execution_count": 37,
   "id": "9280c884",
   "metadata": {},
   "outputs": [],
   "source": [
    "data.drop(['refill liters', 'refill gas'], axis=1, inplace=True)"
   ]
  },
  {
   "cell_type": "code",
   "execution_count": 38,
   "id": "7069964f",
   "metadata": {},
   "outputs": [
    {
     "data": {
      "text/html": [
       "<div>\n",
       "<style scoped>\n",
       "    .dataframe tbody tr th:only-of-type {\n",
       "        vertical-align: middle;\n",
       "    }\n",
       "\n",
       "    .dataframe tbody tr th {\n",
       "        vertical-align: top;\n",
       "    }\n",
       "\n",
       "    .dataframe thead th {\n",
       "        text-align: right;\n",
       "    }\n",
       "</style>\n",
       "<table border=\"1\" class=\"dataframe\">\n",
       "  <thead>\n",
       "    <tr style=\"text-align: right;\">\n",
       "      <th></th>\n",
       "      <th>distance</th>\n",
       "      <th>consume</th>\n",
       "      <th>speed</th>\n",
       "      <th>temp_inside</th>\n",
       "      <th>temp_outside</th>\n",
       "      <th>specials</th>\n",
       "      <th>gas_type</th>\n",
       "      <th>AC</th>\n",
       "      <th>rain</th>\n",
       "      <th>sun</th>\n",
       "    </tr>\n",
       "  </thead>\n",
       "  <tbody>\n",
       "    <tr>\n",
       "      <th>0</th>\n",
       "      <td>28.0</td>\n",
       "      <td>5.0</td>\n",
       "      <td>26</td>\n",
       "      <td>21.5</td>\n",
       "      <td>12</td>\n",
       "      <td>unknown</td>\n",
       "      <td>E10</td>\n",
       "      <td>0</td>\n",
       "      <td>0</td>\n",
       "      <td>0</td>\n",
       "    </tr>\n",
       "    <tr>\n",
       "      <th>1</th>\n",
       "      <td>12.0</td>\n",
       "      <td>4.2</td>\n",
       "      <td>30</td>\n",
       "      <td>21.5</td>\n",
       "      <td>13</td>\n",
       "      <td>unknown</td>\n",
       "      <td>E10</td>\n",
       "      <td>0</td>\n",
       "      <td>0</td>\n",
       "      <td>0</td>\n",
       "    </tr>\n",
       "    <tr>\n",
       "      <th>2</th>\n",
       "      <td>11.2</td>\n",
       "      <td>5.5</td>\n",
       "      <td>38</td>\n",
       "      <td>21.5</td>\n",
       "      <td>15</td>\n",
       "      <td>unknown</td>\n",
       "      <td>E10</td>\n",
       "      <td>0</td>\n",
       "      <td>0</td>\n",
       "      <td>0</td>\n",
       "    </tr>\n",
       "    <tr>\n",
       "      <th>3</th>\n",
       "      <td>12.9</td>\n",
       "      <td>3.9</td>\n",
       "      <td>36</td>\n",
       "      <td>21.5</td>\n",
       "      <td>14</td>\n",
       "      <td>unknown</td>\n",
       "      <td>E10</td>\n",
       "      <td>0</td>\n",
       "      <td>0</td>\n",
       "      <td>0</td>\n",
       "    </tr>\n",
       "    <tr>\n",
       "      <th>4</th>\n",
       "      <td>18.5</td>\n",
       "      <td>4.5</td>\n",
       "      <td>46</td>\n",
       "      <td>21.5</td>\n",
       "      <td>15</td>\n",
       "      <td>unknown</td>\n",
       "      <td>E10</td>\n",
       "      <td>0</td>\n",
       "      <td>0</td>\n",
       "      <td>0</td>\n",
       "    </tr>\n",
       "    <tr>\n",
       "      <th>...</th>\n",
       "      <td>...</td>\n",
       "      <td>...</td>\n",
       "      <td>...</td>\n",
       "      <td>...</td>\n",
       "      <td>...</td>\n",
       "      <td>...</td>\n",
       "      <td>...</td>\n",
       "      <td>...</td>\n",
       "      <td>...</td>\n",
       "      <td>...</td>\n",
       "    </tr>\n",
       "    <tr>\n",
       "      <th>383</th>\n",
       "      <td>16.0</td>\n",
       "      <td>3.7</td>\n",
       "      <td>39</td>\n",
       "      <td>24.5</td>\n",
       "      <td>18</td>\n",
       "      <td>unknown</td>\n",
       "      <td>SP98</td>\n",
       "      <td>0</td>\n",
       "      <td>0</td>\n",
       "      <td>0</td>\n",
       "    </tr>\n",
       "    <tr>\n",
       "      <th>384</th>\n",
       "      <td>16.1</td>\n",
       "      <td>4.3</td>\n",
       "      <td>38</td>\n",
       "      <td>25.0</td>\n",
       "      <td>31</td>\n",
       "      <td>ac</td>\n",
       "      <td>SP98</td>\n",
       "      <td>1</td>\n",
       "      <td>0</td>\n",
       "      <td>0</td>\n",
       "    </tr>\n",
       "    <tr>\n",
       "      <th>385</th>\n",
       "      <td>16.0</td>\n",
       "      <td>3.8</td>\n",
       "      <td>45</td>\n",
       "      <td>25.0</td>\n",
       "      <td>19</td>\n",
       "      <td>unknown</td>\n",
       "      <td>SP98</td>\n",
       "      <td>0</td>\n",
       "      <td>0</td>\n",
       "      <td>0</td>\n",
       "    </tr>\n",
       "    <tr>\n",
       "      <th>386</th>\n",
       "      <td>15.4</td>\n",
       "      <td>4.6</td>\n",
       "      <td>42</td>\n",
       "      <td>25.0</td>\n",
       "      <td>31</td>\n",
       "      <td>ac</td>\n",
       "      <td>SP98</td>\n",
       "      <td>1</td>\n",
       "      <td>0</td>\n",
       "      <td>0</td>\n",
       "    </tr>\n",
       "    <tr>\n",
       "      <th>387</th>\n",
       "      <td>14.7</td>\n",
       "      <td>5.0</td>\n",
       "      <td>25</td>\n",
       "      <td>25.0</td>\n",
       "      <td>30</td>\n",
       "      <td>ac</td>\n",
       "      <td>SP98</td>\n",
       "      <td>1</td>\n",
       "      <td>0</td>\n",
       "      <td>0</td>\n",
       "    </tr>\n",
       "  </tbody>\n",
       "</table>\n",
       "<p>388 rows × 10 columns</p>\n",
       "</div>"
      ],
      "text/plain": [
       "     distance  consume  speed  temp_inside  temp_outside specials gas_type  \\\n",
       "0        28.0      5.0     26         21.5            12  unknown      E10   \n",
       "1        12.0      4.2     30         21.5            13  unknown      E10   \n",
       "2        11.2      5.5     38         21.5            15  unknown      E10   \n",
       "3        12.9      3.9     36         21.5            14  unknown      E10   \n",
       "4        18.5      4.5     46         21.5            15  unknown      E10   \n",
       "..        ...      ...    ...          ...           ...      ...      ...   \n",
       "383      16.0      3.7     39         24.5            18  unknown     SP98   \n",
       "384      16.1      4.3     38         25.0            31       ac     SP98   \n",
       "385      16.0      3.8     45         25.0            19  unknown     SP98   \n",
       "386      15.4      4.6     42         25.0            31       ac     SP98   \n",
       "387      14.7      5.0     25         25.0            30       ac     SP98   \n",
       "\n",
       "     AC  rain  sun  \n",
       "0     0     0    0  \n",
       "1     0     0    0  \n",
       "2     0     0    0  \n",
       "3     0     0    0  \n",
       "4     0     0    0  \n",
       "..   ..   ...  ...  \n",
       "383   0     0    0  \n",
       "384   1     0    0  \n",
       "385   0     0    0  \n",
       "386   1     0    0  \n",
       "387   1     0    0  \n",
       "\n",
       "[388 rows x 10 columns]"
      ]
     },
     "execution_count": 38,
     "metadata": {},
     "output_type": "execute_result"
    }
   ],
   "source": [
    "data"
   ]
  },
  {
   "cell_type": "code",
   "execution_count": 39,
   "id": "9bfca68a",
   "metadata": {},
   "outputs": [
    {
     "data": {
      "text/html": [
       "<div>\n",
       "<style scoped>\n",
       "    .dataframe tbody tr th:only-of-type {\n",
       "        vertical-align: middle;\n",
       "    }\n",
       "\n",
       "    .dataframe tbody tr th {\n",
       "        vertical-align: top;\n",
       "    }\n",
       "\n",
       "    .dataframe thead th {\n",
       "        text-align: right;\n",
       "    }\n",
       "</style>\n",
       "<table border=\"1\" class=\"dataframe\">\n",
       "  <thead>\n",
       "    <tr style=\"text-align: right;\">\n",
       "      <th></th>\n",
       "      <th>distance</th>\n",
       "      <th>consume</th>\n",
       "      <th>speed</th>\n",
       "      <th>temp_inside</th>\n",
       "      <th>temp_outside</th>\n",
       "      <th>specials</th>\n",
       "      <th>gas_type</th>\n",
       "      <th>AC</th>\n",
       "      <th>rain</th>\n",
       "      <th>sun</th>\n",
       "    </tr>\n",
       "  </thead>\n",
       "  <tbody>\n",
       "    <tr>\n",
       "      <th>0</th>\n",
       "      <td>28.0</td>\n",
       "      <td>5.0</td>\n",
       "      <td>26</td>\n",
       "      <td>21.5</td>\n",
       "      <td>12</td>\n",
       "      <td>unknown</td>\n",
       "      <td>E10</td>\n",
       "      <td>0</td>\n",
       "      <td>0</td>\n",
       "      <td>0</td>\n",
       "    </tr>\n",
       "    <tr>\n",
       "      <th>1</th>\n",
       "      <td>12.0</td>\n",
       "      <td>4.2</td>\n",
       "      <td>30</td>\n",
       "      <td>21.5</td>\n",
       "      <td>13</td>\n",
       "      <td>unknown</td>\n",
       "      <td>E10</td>\n",
       "      <td>0</td>\n",
       "      <td>0</td>\n",
       "      <td>0</td>\n",
       "    </tr>\n",
       "    <tr>\n",
       "      <th>2</th>\n",
       "      <td>11.2</td>\n",
       "      <td>5.5</td>\n",
       "      <td>38</td>\n",
       "      <td>21.5</td>\n",
       "      <td>15</td>\n",
       "      <td>unknown</td>\n",
       "      <td>E10</td>\n",
       "      <td>0</td>\n",
       "      <td>0</td>\n",
       "      <td>0</td>\n",
       "    </tr>\n",
       "    <tr>\n",
       "      <th>3</th>\n",
       "      <td>12.9</td>\n",
       "      <td>3.9</td>\n",
       "      <td>36</td>\n",
       "      <td>21.5</td>\n",
       "      <td>14</td>\n",
       "      <td>unknown</td>\n",
       "      <td>E10</td>\n",
       "      <td>0</td>\n",
       "      <td>0</td>\n",
       "      <td>0</td>\n",
       "    </tr>\n",
       "    <tr>\n",
       "      <th>4</th>\n",
       "      <td>18.5</td>\n",
       "      <td>4.5</td>\n",
       "      <td>46</td>\n",
       "      <td>21.5</td>\n",
       "      <td>15</td>\n",
       "      <td>unknown</td>\n",
       "      <td>E10</td>\n",
       "      <td>0</td>\n",
       "      <td>0</td>\n",
       "      <td>0</td>\n",
       "    </tr>\n",
       "    <tr>\n",
       "      <th>...</th>\n",
       "      <td>...</td>\n",
       "      <td>...</td>\n",
       "      <td>...</td>\n",
       "      <td>...</td>\n",
       "      <td>...</td>\n",
       "      <td>...</td>\n",
       "      <td>...</td>\n",
       "      <td>...</td>\n",
       "      <td>...</td>\n",
       "      <td>...</td>\n",
       "    </tr>\n",
       "    <tr>\n",
       "      <th>375</th>\n",
       "      <td>11.9</td>\n",
       "      <td>3.7</td>\n",
       "      <td>33</td>\n",
       "      <td>25.0</td>\n",
       "      <td>19</td>\n",
       "      <td>unknown</td>\n",
       "      <td>SP98</td>\n",
       "      <td>0</td>\n",
       "      <td>0</td>\n",
       "      <td>0</td>\n",
       "    </tr>\n",
       "    <tr>\n",
       "      <th>376</th>\n",
       "      <td>14.5</td>\n",
       "      <td>4.3</td>\n",
       "      <td>36</td>\n",
       "      <td>25.0</td>\n",
       "      <td>22</td>\n",
       "      <td>unknown</td>\n",
       "      <td>SP98</td>\n",
       "      <td>0</td>\n",
       "      <td>0</td>\n",
       "      <td>0</td>\n",
       "    </tr>\n",
       "    <tr>\n",
       "      <th>380</th>\n",
       "      <td>8.3</td>\n",
       "      <td>5.0</td>\n",
       "      <td>52</td>\n",
       "      <td>24.5</td>\n",
       "      <td>27</td>\n",
       "      <td>unknown</td>\n",
       "      <td>SP98</td>\n",
       "      <td>0</td>\n",
       "      <td>0</td>\n",
       "      <td>0</td>\n",
       "    </tr>\n",
       "    <tr>\n",
       "      <th>383</th>\n",
       "      <td>16.0</td>\n",
       "      <td>3.7</td>\n",
       "      <td>39</td>\n",
       "      <td>24.5</td>\n",
       "      <td>18</td>\n",
       "      <td>unknown</td>\n",
       "      <td>SP98</td>\n",
       "      <td>0</td>\n",
       "      <td>0</td>\n",
       "      <td>0</td>\n",
       "    </tr>\n",
       "    <tr>\n",
       "      <th>385</th>\n",
       "      <td>16.0</td>\n",
       "      <td>3.8</td>\n",
       "      <td>45</td>\n",
       "      <td>25.0</td>\n",
       "      <td>19</td>\n",
       "      <td>unknown</td>\n",
       "      <td>SP98</td>\n",
       "      <td>0</td>\n",
       "      <td>0</td>\n",
       "      <td>0</td>\n",
       "    </tr>\n",
       "  </tbody>\n",
       "</table>\n",
       "<p>295 rows × 10 columns</p>\n",
       "</div>"
      ],
      "text/plain": [
       "     distance  consume  speed  temp_inside  temp_outside specials gas_type  \\\n",
       "0        28.0      5.0     26         21.5            12  unknown      E10   \n",
       "1        12.0      4.2     30         21.5            13  unknown      E10   \n",
       "2        11.2      5.5     38         21.5            15  unknown      E10   \n",
       "3        12.9      3.9     36         21.5            14  unknown      E10   \n",
       "4        18.5      4.5     46         21.5            15  unknown      E10   \n",
       "..        ...      ...    ...          ...           ...      ...      ...   \n",
       "375      11.9      3.7     33         25.0            19  unknown     SP98   \n",
       "376      14.5      4.3     36         25.0            22  unknown     SP98   \n",
       "380       8.3      5.0     52         24.5            27  unknown     SP98   \n",
       "383      16.0      3.7     39         24.5            18  unknown     SP98   \n",
       "385      16.0      3.8     45         25.0            19  unknown     SP98   \n",
       "\n",
       "     AC  rain  sun  \n",
       "0     0     0    0  \n",
       "1     0     0    0  \n",
       "2     0     0    0  \n",
       "3     0     0    0  \n",
       "4     0     0    0  \n",
       "..   ..   ...  ...  \n",
       "375   0     0    0  \n",
       "376   0     0    0  \n",
       "380   0     0    0  \n",
       "383   0     0    0  \n",
       "385   0     0    0  \n",
       "\n",
       "[295 rows x 10 columns]"
      ]
     },
     "execution_count": 39,
     "metadata": {},
     "output_type": "execute_result"
    }
   ],
   "source": [
    "#I will now investigate the unknown category in specials since it looks like it could be just that there are no specials\n",
    "data[data['specials']=='unknown']"
   ]
  },
  {
   "cell_type": "code",
   "execution_count": 40,
   "id": "0715549c",
   "metadata": {},
   "outputs": [],
   "source": [
    "#indeed it means there are no specials. I will change it to none. \n",
    "def cleaning(x):\n",
    "    if x=='unknown':\n",
    "        return 'none'\n",
    "    else:\n",
    "        return x"
   ]
  },
  {
   "cell_type": "code",
   "execution_count": 41,
   "id": "65b6956d",
   "metadata": {},
   "outputs": [],
   "source": [
    "data['specials']=data['specials'].apply(cleaning)"
   ]
  },
  {
   "cell_type": "code",
   "execution_count": 42,
   "id": "32f724fa",
   "metadata": {},
   "outputs": [
    {
     "data": {
      "text/html": [
       "<div>\n",
       "<style scoped>\n",
       "    .dataframe tbody tr th:only-of-type {\n",
       "        vertical-align: middle;\n",
       "    }\n",
       "\n",
       "    .dataframe tbody tr th {\n",
       "        vertical-align: top;\n",
       "    }\n",
       "\n",
       "    .dataframe thead th {\n",
       "        text-align: right;\n",
       "    }\n",
       "</style>\n",
       "<table border=\"1\" class=\"dataframe\">\n",
       "  <thead>\n",
       "    <tr style=\"text-align: right;\">\n",
       "      <th></th>\n",
       "      <th>distance</th>\n",
       "      <th>consume</th>\n",
       "      <th>speed</th>\n",
       "      <th>temp_inside</th>\n",
       "      <th>temp_outside</th>\n",
       "      <th>specials</th>\n",
       "      <th>gas_type</th>\n",
       "      <th>AC</th>\n",
       "      <th>rain</th>\n",
       "      <th>sun</th>\n",
       "    </tr>\n",
       "  </thead>\n",
       "  <tbody>\n",
       "    <tr>\n",
       "      <th>0</th>\n",
       "      <td>28.0</td>\n",
       "      <td>5.0</td>\n",
       "      <td>26</td>\n",
       "      <td>21.5</td>\n",
       "      <td>12</td>\n",
       "      <td>none</td>\n",
       "      <td>E10</td>\n",
       "      <td>0</td>\n",
       "      <td>0</td>\n",
       "      <td>0</td>\n",
       "    </tr>\n",
       "    <tr>\n",
       "      <th>1</th>\n",
       "      <td>12.0</td>\n",
       "      <td>4.2</td>\n",
       "      <td>30</td>\n",
       "      <td>21.5</td>\n",
       "      <td>13</td>\n",
       "      <td>none</td>\n",
       "      <td>E10</td>\n",
       "      <td>0</td>\n",
       "      <td>0</td>\n",
       "      <td>0</td>\n",
       "    </tr>\n",
       "    <tr>\n",
       "      <th>2</th>\n",
       "      <td>11.2</td>\n",
       "      <td>5.5</td>\n",
       "      <td>38</td>\n",
       "      <td>21.5</td>\n",
       "      <td>15</td>\n",
       "      <td>none</td>\n",
       "      <td>E10</td>\n",
       "      <td>0</td>\n",
       "      <td>0</td>\n",
       "      <td>0</td>\n",
       "    </tr>\n",
       "    <tr>\n",
       "      <th>3</th>\n",
       "      <td>12.9</td>\n",
       "      <td>3.9</td>\n",
       "      <td>36</td>\n",
       "      <td>21.5</td>\n",
       "      <td>14</td>\n",
       "      <td>none</td>\n",
       "      <td>E10</td>\n",
       "      <td>0</td>\n",
       "      <td>0</td>\n",
       "      <td>0</td>\n",
       "    </tr>\n",
       "    <tr>\n",
       "      <th>4</th>\n",
       "      <td>18.5</td>\n",
       "      <td>4.5</td>\n",
       "      <td>46</td>\n",
       "      <td>21.5</td>\n",
       "      <td>15</td>\n",
       "      <td>none</td>\n",
       "      <td>E10</td>\n",
       "      <td>0</td>\n",
       "      <td>0</td>\n",
       "      <td>0</td>\n",
       "    </tr>\n",
       "    <tr>\n",
       "      <th>...</th>\n",
       "      <td>...</td>\n",
       "      <td>...</td>\n",
       "      <td>...</td>\n",
       "      <td>...</td>\n",
       "      <td>...</td>\n",
       "      <td>...</td>\n",
       "      <td>...</td>\n",
       "      <td>...</td>\n",
       "      <td>...</td>\n",
       "      <td>...</td>\n",
       "    </tr>\n",
       "    <tr>\n",
       "      <th>383</th>\n",
       "      <td>16.0</td>\n",
       "      <td>3.7</td>\n",
       "      <td>39</td>\n",
       "      <td>24.5</td>\n",
       "      <td>18</td>\n",
       "      <td>none</td>\n",
       "      <td>SP98</td>\n",
       "      <td>0</td>\n",
       "      <td>0</td>\n",
       "      <td>0</td>\n",
       "    </tr>\n",
       "    <tr>\n",
       "      <th>384</th>\n",
       "      <td>16.1</td>\n",
       "      <td>4.3</td>\n",
       "      <td>38</td>\n",
       "      <td>25.0</td>\n",
       "      <td>31</td>\n",
       "      <td>ac</td>\n",
       "      <td>SP98</td>\n",
       "      <td>1</td>\n",
       "      <td>0</td>\n",
       "      <td>0</td>\n",
       "    </tr>\n",
       "    <tr>\n",
       "      <th>385</th>\n",
       "      <td>16.0</td>\n",
       "      <td>3.8</td>\n",
       "      <td>45</td>\n",
       "      <td>25.0</td>\n",
       "      <td>19</td>\n",
       "      <td>none</td>\n",
       "      <td>SP98</td>\n",
       "      <td>0</td>\n",
       "      <td>0</td>\n",
       "      <td>0</td>\n",
       "    </tr>\n",
       "    <tr>\n",
       "      <th>386</th>\n",
       "      <td>15.4</td>\n",
       "      <td>4.6</td>\n",
       "      <td>42</td>\n",
       "      <td>25.0</td>\n",
       "      <td>31</td>\n",
       "      <td>ac</td>\n",
       "      <td>SP98</td>\n",
       "      <td>1</td>\n",
       "      <td>0</td>\n",
       "      <td>0</td>\n",
       "    </tr>\n",
       "    <tr>\n",
       "      <th>387</th>\n",
       "      <td>14.7</td>\n",
       "      <td>5.0</td>\n",
       "      <td>25</td>\n",
       "      <td>25.0</td>\n",
       "      <td>30</td>\n",
       "      <td>ac</td>\n",
       "      <td>SP98</td>\n",
       "      <td>1</td>\n",
       "      <td>0</td>\n",
       "      <td>0</td>\n",
       "    </tr>\n",
       "  </tbody>\n",
       "</table>\n",
       "<p>388 rows × 10 columns</p>\n",
       "</div>"
      ],
      "text/plain": [
       "     distance  consume  speed  temp_inside  temp_outside specials gas_type  \\\n",
       "0        28.0      5.0     26         21.5            12     none      E10   \n",
       "1        12.0      4.2     30         21.5            13     none      E10   \n",
       "2        11.2      5.5     38         21.5            15     none      E10   \n",
       "3        12.9      3.9     36         21.5            14     none      E10   \n",
       "4        18.5      4.5     46         21.5            15     none      E10   \n",
       "..        ...      ...    ...          ...           ...      ...      ...   \n",
       "383      16.0      3.7     39         24.5            18     none     SP98   \n",
       "384      16.1      4.3     38         25.0            31       ac     SP98   \n",
       "385      16.0      3.8     45         25.0            19     none     SP98   \n",
       "386      15.4      4.6     42         25.0            31       ac     SP98   \n",
       "387      14.7      5.0     25         25.0            30       ac     SP98   \n",
       "\n",
       "     AC  rain  sun  \n",
       "0     0     0    0  \n",
       "1     0     0    0  \n",
       "2     0     0    0  \n",
       "3     0     0    0  \n",
       "4     0     0    0  \n",
       "..   ..   ...  ...  \n",
       "383   0     0    0  \n",
       "384   1     0    0  \n",
       "385   0     0    0  \n",
       "386   1     0    0  \n",
       "387   1     0    0  \n",
       "\n",
       "[388 rows x 10 columns]"
      ]
     },
     "execution_count": 42,
     "metadata": {},
     "output_type": "execute_result"
    }
   ],
   "source": [
    "data"
   ]
  },
  {
   "cell_type": "code",
   "execution_count": 47,
   "id": "3ddc027b",
   "metadata": {},
   "outputs": [],
   "source": [
    "data.to_csv('../data/data_clean.csv') #saving the clean data"
   ]
  },
  {
   "cell_type": "markdown",
   "id": "dca8cb98",
   "metadata": {},
   "source": [
    "## EDA"
   ]
  },
  {
   "cell_type": "code",
   "execution_count": 61,
   "id": "233ae5b9",
   "metadata": {},
   "outputs": [
    {
     "data": {
      "text/plain": [
       "SP98    228\n",
       "E10     160\n",
       "Name: gas_type, dtype: int64"
      ]
     },
     "execution_count": 61,
     "metadata": {},
     "output_type": "execute_result"
    }
   ],
   "source": [
    "data['gas_type'].value_counts()"
   ]
  },
  {
   "cell_type": "code",
   "execution_count": 62,
   "id": "f72eea4b",
   "metadata": {},
   "outputs": [
    {
     "data": {
      "image/png": "[encoded data removed]",
      "text/plain": [
       "<Figure size 800x600 with 1 Axes>"
      ]
     },
     "metadata": {},
     "output_type": "display_data"
    }
   ],
   "source": [
    "gas_type_counts = data['gas_type'].value_counts()\n",
    "\n",
    "plt.figure(figsize=(8, 6))\n",
    "sns.barplot(x=gas_type_counts.index, y=gas_type_counts.values, palette=['blue', 'orange'])\n",
    "plt.xlabel('Gas Type')\n",
    "plt.ylabel('Count')\n",
    "plt.title('Count of Each Gas Type')\n",
    "plt.show()\n"
   ]
  },
  {
   "cell_type": "markdown",
   "id": "8cb42b34",
   "metadata": {},
   "source": [
    "As we see above there are more SP98 types than there are E10 in the data"
   ]
  },
  {
   "cell_type": "code",
   "execution_count": 58,
   "id": "5c02a866",
   "metadata": {},
   "outputs": [
    {
     "data": {
      "image/png": "[encoded data removed]",
      "text/plain": [
       "<Figure size 1400x500 with 3 Axes>"
      ]
     },
     "metadata": {},
     "output_type": "display_data"
    }
   ],
   "source": [
    "sns.set(style=\"whitegrid\")\n",
    "\n",
    "fig, axes = plt.subplots(nrows=1, ncols=3, figsize=(14, 5))  # Change the figsize if needed\n",
    "\n",
    "# Plot for 'distance'\n",
    "sns.histplot(data, x='distance', hue='gas_type', kde=False, bins=10, ax=axes[0])\n",
    "axes[0].set_title('Histogram of Distance')\n",
    "\n",
    "# Plot for 'speed'\n",
    "sns.histplot(data, x='speed', hue='gas_type', kde=False, bins=10, ax=axes[1])\n",
    "axes[1].set_title('Histogram of Speed')\n",
    "\n",
    "# Plot for 'consume'\n",
    "sns.histplot(data, x='consume', hue='gas_type', kde=False, bins=10, ax=axes[2])\n",
    "axes[2].set_title('Histogram of Consumption')\n",
    "\n",
    "plt.tight_layout()\n",
    "plt.show()"
   ]
  },
  {
   "cell_type": "markdown",
   "id": "9786788a",
   "metadata": {},
   "source": [
    "As you can see above the SP98 has higher values in all 3 histograms but that could be because there are more instances of SP98 in the data than there are of type E10. Let´s explore further"
   ]
  },
  {
   "cell_type": "code",
   "execution_count": 45,
   "id": "13ce6054",
   "metadata": {},
   "outputs": [
    {
     "data": {
      "text/html": [
       "<div>\n",
       "<style scoped>\n",
       "    .dataframe tbody tr th:only-of-type {\n",
       "        vertical-align: middle;\n",
       "    }\n",
       "\n",
       "    .dataframe tbody tr th {\n",
       "        vertical-align: top;\n",
       "    }\n",
       "\n",
       "    .dataframe thead th {\n",
       "        text-align: right;\n",
       "    }\n",
       "</style>\n",
       "<table border=\"1\" class=\"dataframe\">\n",
       "  <thead>\n",
       "    <tr style=\"text-align: right;\">\n",
       "      <th></th>\n",
       "      <th>count</th>\n",
       "      <th>mean</th>\n",
       "      <th>std</th>\n",
       "      <th>min</th>\n",
       "      <th>25%</th>\n",
       "      <th>50%</th>\n",
       "      <th>75%</th>\n",
       "      <th>max</th>\n",
       "    </tr>\n",
       "  </thead>\n",
       "  <tbody>\n",
       "    <tr>\n",
       "      <th>distance</th>\n",
       "      <td>160.0</td>\n",
       "      <td>21.096250</td>\n",
       "      <td>20.307234</td>\n",
       "      <td>1.7</td>\n",
       "      <td>12.075</td>\n",
       "      <td>15.4</td>\n",
       "      <td>21.20</td>\n",
       "      <td>130.3</td>\n",
       "    </tr>\n",
       "    <tr>\n",
       "      <th>consume</th>\n",
       "      <td>160.0</td>\n",
       "      <td>4.931250</td>\n",
       "      <td>0.900956</td>\n",
       "      <td>3.7</td>\n",
       "      <td>4.400</td>\n",
       "      <td>4.8</td>\n",
       "      <td>5.30</td>\n",
       "      <td>10.8</td>\n",
       "    </tr>\n",
       "    <tr>\n",
       "      <th>speed</th>\n",
       "      <td>160.0</td>\n",
       "      <td>43.506250</td>\n",
       "      <td>14.077949</td>\n",
       "      <td>14.0</td>\n",
       "      <td>35.000</td>\n",
       "      <td>42.0</td>\n",
       "      <td>51.00</td>\n",
       "      <td>88.0</td>\n",
       "    </tr>\n",
       "    <tr>\n",
       "      <th>temp_inside</th>\n",
       "      <td>160.0</td>\n",
       "      <td>21.917429</td>\n",
       "      <td>0.653602</td>\n",
       "      <td>21.0</td>\n",
       "      <td>21.500</td>\n",
       "      <td>21.5</td>\n",
       "      <td>22.50</td>\n",
       "      <td>25.0</td>\n",
       "    </tr>\n",
       "    <tr>\n",
       "      <th>temp_outside</th>\n",
       "      <td>160.0</td>\n",
       "      <td>10.118750</td>\n",
       "      <td>6.392185</td>\n",
       "      <td>-5.0</td>\n",
       "      <td>6.000</td>\n",
       "      <td>9.0</td>\n",
       "      <td>14.25</td>\n",
       "      <td>27.0</td>\n",
       "    </tr>\n",
       "    <tr>\n",
       "      <th>AC</th>\n",
       "      <td>160.0</td>\n",
       "      <td>0.043750</td>\n",
       "      <td>0.205181</td>\n",
       "      <td>0.0</td>\n",
       "      <td>0.000</td>\n",
       "      <td>0.0</td>\n",
       "      <td>0.00</td>\n",
       "      <td>1.0</td>\n",
       "    </tr>\n",
       "    <tr>\n",
       "      <th>rain</th>\n",
       "      <td>160.0</td>\n",
       "      <td>0.100000</td>\n",
       "      <td>0.300942</td>\n",
       "      <td>0.0</td>\n",
       "      <td>0.000</td>\n",
       "      <td>0.0</td>\n",
       "      <td>0.00</td>\n",
       "      <td>1.0</td>\n",
       "    </tr>\n",
       "    <tr>\n",
       "      <th>sun</th>\n",
       "      <td>160.0</td>\n",
       "      <td>0.075000</td>\n",
       "      <td>0.264218</td>\n",
       "      <td>0.0</td>\n",
       "      <td>0.000</td>\n",
       "      <td>0.0</td>\n",
       "      <td>0.00</td>\n",
       "      <td>1.0</td>\n",
       "    </tr>\n",
       "  </tbody>\n",
       "</table>\n",
       "</div>"
      ],
      "text/plain": [
       "              count       mean        std   min     25%   50%    75%    max\n",
       "distance      160.0  21.096250  20.307234   1.7  12.075  15.4  21.20  130.3\n",
       "consume       160.0   4.931250   0.900956   3.7   4.400   4.8   5.30   10.8\n",
       "speed         160.0  43.506250  14.077949  14.0  35.000  42.0  51.00   88.0\n",
       "temp_inside   160.0  21.917429   0.653602  21.0  21.500  21.5  22.50   25.0\n",
       "temp_outside  160.0  10.118750   6.392185  -5.0   6.000   9.0  14.25   27.0\n",
       "AC            160.0   0.043750   0.205181   0.0   0.000   0.0   0.00    1.0\n",
       "rain          160.0   0.100000   0.300942   0.0   0.000   0.0   0.00    1.0\n",
       "sun           160.0   0.075000   0.264218   0.0   0.000   0.0   0.00    1.0"
      ]
     },
     "execution_count": 45,
     "metadata": {},
     "output_type": "execute_result"
    }
   ],
   "source": [
    "data[data['gas_type']=='E10'].describe().T  # details for E10 gas"
   ]
  },
  {
   "cell_type": "code",
   "execution_count": 46,
   "id": "b2427e1d",
   "metadata": {},
   "outputs": [
    {
     "data": {
      "text/html": [
       "<div>\n",
       "<style scoped>\n",
       "    .dataframe tbody tr th:only-of-type {\n",
       "        vertical-align: middle;\n",
       "    }\n",
       "\n",
       "    .dataframe tbody tr th {\n",
       "        vertical-align: top;\n",
       "    }\n",
       "\n",
       "    .dataframe thead th {\n",
       "        text-align: right;\n",
       "    }\n",
       "</style>\n",
       "<table border=\"1\" class=\"dataframe\">\n",
       "  <thead>\n",
       "    <tr style=\"text-align: right;\">\n",
       "      <th></th>\n",
       "      <th>count</th>\n",
       "      <th>mean</th>\n",
       "      <th>std</th>\n",
       "      <th>min</th>\n",
       "      <th>25%</th>\n",
       "      <th>50%</th>\n",
       "      <th>75%</th>\n",
       "      <th>max</th>\n",
       "    </tr>\n",
       "  </thead>\n",
       "  <tbody>\n",
       "    <tr>\n",
       "      <th>distance</th>\n",
       "      <td>228.0</td>\n",
       "      <td>18.639912</td>\n",
       "      <td>24.179598</td>\n",
       "      <td>1.3</td>\n",
       "      <td>11.8</td>\n",
       "      <td>14.15</td>\n",
       "      <td>18.150</td>\n",
       "      <td>216.1</td>\n",
       "    </tr>\n",
       "    <tr>\n",
       "      <th>consume</th>\n",
       "      <td>228.0</td>\n",
       "      <td>4.899123</td>\n",
       "      <td>1.118408</td>\n",
       "      <td>3.3</td>\n",
       "      <td>4.2</td>\n",
       "      <td>4.70</td>\n",
       "      <td>5.225</td>\n",
       "      <td>12.2</td>\n",
       "    </tr>\n",
       "    <tr>\n",
       "      <th>speed</th>\n",
       "      <td>228.0</td>\n",
       "      <td>40.820175</td>\n",
       "      <td>13.170122</td>\n",
       "      <td>16.0</td>\n",
       "      <td>32.0</td>\n",
       "      <td>39.50</td>\n",
       "      <td>48.000</td>\n",
       "      <td>90.0</td>\n",
       "    </tr>\n",
       "    <tr>\n",
       "      <th>temp_inside</th>\n",
       "      <td>228.0</td>\n",
       "      <td>21.938007</td>\n",
       "      <td>1.177840</td>\n",
       "      <td>19.0</td>\n",
       "      <td>21.5</td>\n",
       "      <td>22.00</td>\n",
       "      <td>22.000</td>\n",
       "      <td>25.5</td>\n",
       "    </tr>\n",
       "    <tr>\n",
       "      <th>temp_outside</th>\n",
       "      <td>228.0</td>\n",
       "      <td>12.228070</td>\n",
       "      <td>7.271373</td>\n",
       "      <td>-3.0</td>\n",
       "      <td>7.0</td>\n",
       "      <td>11.00</td>\n",
       "      <td>17.000</td>\n",
       "      <td>31.0</td>\n",
       "    </tr>\n",
       "    <tr>\n",
       "      <th>AC</th>\n",
       "      <td>228.0</td>\n",
       "      <td>0.100877</td>\n",
       "      <td>0.301829</td>\n",
       "      <td>0.0</td>\n",
       "      <td>0.0</td>\n",
       "      <td>0.00</td>\n",
       "      <td>0.000</td>\n",
       "      <td>1.0</td>\n",
       "    </tr>\n",
       "    <tr>\n",
       "      <th>rain</th>\n",
       "      <td>228.0</td>\n",
       "      <td>0.140351</td>\n",
       "      <td>0.348115</td>\n",
       "      <td>0.0</td>\n",
       "      <td>0.0</td>\n",
       "      <td>0.00</td>\n",
       "      <td>0.000</td>\n",
       "      <td>1.0</td>\n",
       "    </tr>\n",
       "    <tr>\n",
       "      <th>sun</th>\n",
       "      <td>228.0</td>\n",
       "      <td>0.087719</td>\n",
       "      <td>0.283509</td>\n",
       "      <td>0.0</td>\n",
       "      <td>0.0</td>\n",
       "      <td>0.00</td>\n",
       "      <td>0.000</td>\n",
       "      <td>1.0</td>\n",
       "    </tr>\n",
       "  </tbody>\n",
       "</table>\n",
       "</div>"
      ],
      "text/plain": [
       "              count       mean        std   min   25%    50%     75%    max\n",
       "distance      228.0  18.639912  24.179598   1.3  11.8  14.15  18.150  216.1\n",
       "consume       228.0   4.899123   1.118408   3.3   4.2   4.70   5.225   12.2\n",
       "speed         228.0  40.820175  13.170122  16.0  32.0  39.50  48.000   90.0\n",
       "temp_inside   228.0  21.938007   1.177840  19.0  21.5  22.00  22.000   25.5\n",
       "temp_outside  228.0  12.228070   7.271373  -3.0   7.0  11.00  17.000   31.0\n",
       "AC            228.0   0.100877   0.301829   0.0   0.0   0.00   0.000    1.0\n",
       "rain          228.0   0.140351   0.348115   0.0   0.0   0.00   0.000    1.0\n",
       "sun           228.0   0.087719   0.283509   0.0   0.0   0.00   0.000    1.0"
      ]
     },
     "execution_count": 46,
     "metadata": {},
     "output_type": "execute_result"
    }
   ],
   "source": [
    "data[data['gas_type']=='SP98'].describe().T #details for SP98 gas"
   ]
  },
  {
   "cell_type": "markdown",
   "id": "b7e9edbc",
   "metadata": {},
   "source": [
    "Conclusions from the above:\n",
    "* E10 gas runs more distance with a mean of 21.1 while SP98 has a mean of 18.6\n",
    "\n",
    "* E10 gas consumes slightly more on average with an average of 4.93 while SP98 has an average of 4.90\n",
    "\n",
    "* E10 gas facilitates more speed with an average of 43.5 while SP98 has an average of 40.8"
   ]
  },
  {
   "cell_type": "code",
   "execution_count": 54,
   "id": "56090edc",
   "metadata": {},
   "outputs": [
    {
     "data": {
      "image/png": "[encoded data removed]",
      "text/plain": [
       "<Figure size 1800x600 with 3 Axes>"
      ]
     },
     "metadata": {},
     "output_type": "display_data"
    }
   ],
   "source": [
    "#let´s see the above conclusions in bar charts\n",
    "sns.set(style=\"whitegrid\")\n",
    "\n",
    "fig, axes = plt.subplots(nrows=1, ncols=3, figsize=(18, 6))\n",
    "\n",
    "# Bar chart for average 'distance' by gas type\n",
    "sns.barplot(x='gas_type', y='distance', data=data, ax=axes[0])\n",
    "axes[0].set_title('Average Distance by Gas Type')\n",
    "\n",
    "# Bar chart for average 'consume' by gas type\n",
    "sns.barplot(x='gas_type', y='consume', data=data, ax=axes[2])\n",
    "axes[1].set_title('Average Consumption by Gas Type')\n",
    "\n",
    "# Bar chart for average 'speed' by gas type\n",
    "sns.barplot(x='gas_type', y='speed', data=data, ax=axes[1])\n",
    "axes[2].set_title('Average Speed by Gas Type')\n",
    "\n",
    "\n",
    "plt.tight_layout()\n",
    "plt.show()"
   ]
  }
 ],
 "metadata": {
  "kernelspec": {
   "display_name": "Python 3 (ipykernel)",
   "language": "python",
   "name": "python3"
  },
  "language_info": {
   "codemirror_mode": {
    "name": "ipython",
    "version": 3
   },
   "file_extension": ".py",
   "mimetype": "text/x-python",
   "name": "python",
   "nbconvert_exporter": "python",
   "pygments_lexer": "ipython3",
   "version": "3.11.4"
  }
 },
 "nbformat": 4,
 "nbformat_minor": 5
}
