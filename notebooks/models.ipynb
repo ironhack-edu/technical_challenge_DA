{
 "cells": [
  {
   "cell_type": "code",
   "execution_count": 1,
   "id": "86ea8a71-08f2-493f-be03-4de50f64a560",
   "metadata": {
    "tags": []
   },
   "outputs": [],
   "source": [
    "import numpy as np\n",
    "import pandas as pd\n",
    "import seaborn as sns\n",
    "import matplotlib.pyplot as plt\n",
    "import yaml\n",
    "from sklearn.preprocessing import MinMaxScaler, StandardScaler\n",
    "from sklearn.model_selection import train_test_split\n",
    "from sklearn.linear_model import LinearRegression\n",
    "from sklearn.ensemble import RandomForestRegressor\n",
    "import sklearn.metrics as metrics\n",
    "from sklearn.metrics import r2_score, mean_squared_error, mean_absolute_error, make_scorer\n",
    "from sklearn.model_selection import cross_val_score\n",
    "from sklearn.model_selection import GridSearchCV\n",
    "import pickle"
   ]
  },
  {
   "cell_type": "code",
   "execution_count": 2,
   "id": "87bb2ec1-daea-4119-9285-965d5924dc04",
   "metadata": {
    "tags": []
   },
   "outputs": [],
   "source": [
    "try:\n",
    "    with open (\"../config.yaml\", 'r') as file:\n",
    "        config = yaml.safe_load(file)\n",
    "except Exception as e:\n",
    "    print('Error reading the config file')"
   ]
  },
  {
   "cell_type": "code",
   "execution_count": 3,
   "id": "da3ce497-9df7-40cb-9c41-04b4b697d4b4",
   "metadata": {
    "tags": []
   },
   "outputs": [
    {
     "data": {
      "text/html": [
       "<div>\n",
       "<style scoped>\n",
       "    .dataframe tbody tr th:only-of-type {\n",
       "        vertical-align: middle;\n",
       "    }\n",
       "\n",
       "    .dataframe tbody tr th {\n",
       "        vertical-align: top;\n",
       "    }\n",
       "\n",
       "    .dataframe thead th {\n",
       "        text-align: right;\n",
       "    }\n",
       "</style>\n",
       "<table border=\"1\" class=\"dataframe\">\n",
       "  <thead>\n",
       "    <tr style=\"text-align: right;\">\n",
       "      <th></th>\n",
       "      <th>distance</th>\n",
       "      <th>consume</th>\n",
       "      <th>speed</th>\n",
       "      <th>temp_inside</th>\n",
       "      <th>temp_outside</th>\n",
       "      <th>AC</th>\n",
       "      <th>rain</th>\n",
       "      <th>sun</th>\n",
       "      <th>refill_liters</th>\n",
       "      <th>specials_AC rain</th>\n",
       "      <th>specials_AC snow</th>\n",
       "      <th>specials_AC sun</th>\n",
       "      <th>specials_other</th>\n",
       "      <th>specials_rain</th>\n",
       "      <th>specials_rain+sun</th>\n",
       "      <th>specials_snow</th>\n",
       "      <th>specials_sun</th>\n",
       "      <th>gas_type_SP98</th>\n",
       "      <th>refill_gas_SP98</th>\n",
       "      <th>refill_gas_no</th>\n",
       "    </tr>\n",
       "  </thead>\n",
       "  <tbody>\n",
       "    <tr>\n",
       "      <th>0</th>\n",
       "      <td>28.0</td>\n",
       "      <td>5.0</td>\n",
       "      <td>26</td>\n",
       "      <td>21.5</td>\n",
       "      <td>12</td>\n",
       "      <td>0</td>\n",
       "      <td>0</td>\n",
       "      <td>0</td>\n",
       "      <td>45.0</td>\n",
       "      <td>0</td>\n",
       "      <td>0</td>\n",
       "      <td>0</td>\n",
       "      <td>1</td>\n",
       "      <td>0</td>\n",
       "      <td>0</td>\n",
       "      <td>0</td>\n",
       "      <td>0</td>\n",
       "      <td>0</td>\n",
       "      <td>0</td>\n",
       "      <td>0</td>\n",
       "    </tr>\n",
       "    <tr>\n",
       "      <th>1</th>\n",
       "      <td>12.0</td>\n",
       "      <td>4.2</td>\n",
       "      <td>30</td>\n",
       "      <td>21.5</td>\n",
       "      <td>13</td>\n",
       "      <td>0</td>\n",
       "      <td>0</td>\n",
       "      <td>0</td>\n",
       "      <td>0.0</td>\n",
       "      <td>0</td>\n",
       "      <td>0</td>\n",
       "      <td>0</td>\n",
       "      <td>1</td>\n",
       "      <td>0</td>\n",
       "      <td>0</td>\n",
       "      <td>0</td>\n",
       "      <td>0</td>\n",
       "      <td>0</td>\n",
       "      <td>0</td>\n",
       "      <td>1</td>\n",
       "    </tr>\n",
       "    <tr>\n",
       "      <th>2</th>\n",
       "      <td>11.2</td>\n",
       "      <td>5.5</td>\n",
       "      <td>38</td>\n",
       "      <td>21.5</td>\n",
       "      <td>15</td>\n",
       "      <td>0</td>\n",
       "      <td>0</td>\n",
       "      <td>0</td>\n",
       "      <td>0.0</td>\n",
       "      <td>0</td>\n",
       "      <td>0</td>\n",
       "      <td>0</td>\n",
       "      <td>1</td>\n",
       "      <td>0</td>\n",
       "      <td>0</td>\n",
       "      <td>0</td>\n",
       "      <td>0</td>\n",
       "      <td>0</td>\n",
       "      <td>0</td>\n",
       "      <td>1</td>\n",
       "    </tr>\n",
       "    <tr>\n",
       "      <th>3</th>\n",
       "      <td>12.9</td>\n",
       "      <td>3.9</td>\n",
       "      <td>36</td>\n",
       "      <td>21.5</td>\n",
       "      <td>14</td>\n",
       "      <td>0</td>\n",
       "      <td>0</td>\n",
       "      <td>0</td>\n",
       "      <td>0.0</td>\n",
       "      <td>0</td>\n",
       "      <td>0</td>\n",
       "      <td>0</td>\n",
       "      <td>1</td>\n",
       "      <td>0</td>\n",
       "      <td>0</td>\n",
       "      <td>0</td>\n",
       "      <td>0</td>\n",
       "      <td>0</td>\n",
       "      <td>0</td>\n",
       "      <td>1</td>\n",
       "    </tr>\n",
       "    <tr>\n",
       "      <th>4</th>\n",
       "      <td>18.5</td>\n",
       "      <td>4.5</td>\n",
       "      <td>46</td>\n",
       "      <td>21.5</td>\n",
       "      <td>15</td>\n",
       "      <td>0</td>\n",
       "      <td>0</td>\n",
       "      <td>0</td>\n",
       "      <td>0.0</td>\n",
       "      <td>0</td>\n",
       "      <td>0</td>\n",
       "      <td>0</td>\n",
       "      <td>1</td>\n",
       "      <td>0</td>\n",
       "      <td>0</td>\n",
       "      <td>0</td>\n",
       "      <td>0</td>\n",
       "      <td>0</td>\n",
       "      <td>0</td>\n",
       "      <td>1</td>\n",
       "    </tr>\n",
       "  </tbody>\n",
       "</table>\n",
       "</div>"
      ],
      "text/plain": [
       "   distance  consume  speed  temp_inside  temp_outside  AC  rain  sun  \\\n",
       "0      28.0      5.0     26         21.5            12   0     0    0   \n",
       "1      12.0      4.2     30         21.5            13   0     0    0   \n",
       "2      11.2      5.5     38         21.5            15   0     0    0   \n",
       "3      12.9      3.9     36         21.5            14   0     0    0   \n",
       "4      18.5      4.5     46         21.5            15   0     0    0   \n",
       "\n",
       "   refill_liters  specials_AC rain  specials_AC snow  specials_AC sun  \\\n",
       "0           45.0                 0                 0                0   \n",
       "1            0.0                 0                 0                0   \n",
       "2            0.0                 0                 0                0   \n",
       "3            0.0                 0                 0                0   \n",
       "4            0.0                 0                 0                0   \n",
       "\n",
       "   specials_other  specials_rain  specials_rain+sun  specials_snow  \\\n",
       "0               1              0                  0              0   \n",
       "1               1              0                  0              0   \n",
       "2               1              0                  0              0   \n",
       "3               1              0                  0              0   \n",
       "4               1              0                  0              0   \n",
       "\n",
       "   specials_sun  gas_type_SP98  refill_gas_SP98  refill_gas_no  \n",
       "0             0              0                0              0  \n",
       "1             0              0                0              1  \n",
       "2             0              0                0              1  \n",
       "3             0              0                0              1  \n",
       "4             0              0                0              1  "
      ]
     },
     "execution_count": 3,
     "metadata": {},
     "output_type": "execute_result"
    }
   ],
   "source": [
    "df = pd.read_csv(config['data']+'data_models.csv')\n",
    "df.head()"
   ]
  },
  {
   "cell_type": "code",
   "execution_count": 4,
   "id": "1009cc8c-69ec-4a5b-8038-cde73aa2e7f2",
   "metadata": {
    "tags": []
   },
   "outputs": [],
   "source": [
    "X = df.drop(['consume'], axis = 1)\n",
    "y = df['consume']"
   ]
  },
  {
   "cell_type": "markdown",
   "id": "1d7a07cb-2219-42e5-88b5-178a54063495",
   "metadata": {},
   "source": [
    "## We need to scale the dataset. We will use Min Max Scaler and save the scaler with pickle in order to be able to make future predictions."
   ]
  },
  {
   "cell_type": "code",
   "execution_count": 5,
   "id": "fabb6e33-8c09-447c-b1af-1c7ff6b4ef2c",
   "metadata": {
    "tags": []
   },
   "outputs": [],
   "source": [
    "transformer = MinMaxScaler()\n",
    "X = transformer.fit_transform(X,y)\n",
    "pickle.dump(transformer, open(config['scalers']+'scaler.pkl', 'wb'))"
   ]
  },
  {
   "cell_type": "markdown",
   "id": "84a85ed9-b299-47d4-868f-5a62990d73d7",
   "metadata": {},
   "source": [
    "## Train/Test split for the regression models. We will focus on a simple linear regression model and a Random Forest Regressor."
   ]
  },
  {
   "cell_type": "code",
   "execution_count": 6,
   "id": "2a010d4a-84b2-4561-98a7-f0fc72e84e6a",
   "metadata": {
    "tags": []
   },
   "outputs": [
    {
     "name": "stdout",
     "output_type": "stream",
     "text": [
      "(310, 19) (78, 19) (310,) (78,)\n"
     ]
    }
   ],
   "source": [
    "X_train, X_test, y_train, y_test = train_test_split(X, y, test_size = 0.2, random_state = 13)\n",
    "print(X_train.shape, X_test.shape, y_train.shape, y_test.shape)"
   ]
  },
  {
   "cell_type": "code",
   "execution_count": 7,
   "id": "733b0755-bf07-411b-b16d-7678d96a118a",
   "metadata": {
    "tags": []
   },
   "outputs": [],
   "source": [
    "lm = LinearRegression()\n",
    "lm.fit(X_train, y_train)\n",
    "\n",
    "y_pred_train = lm.predict(X_train)\n",
    "y_pred_test = lm.predict(X_test)"
   ]
  },
  {
   "cell_type": "code",
   "execution_count": 8,
   "id": "1b75d7b8-2382-4459-ab83-e105e04e2646",
   "metadata": {
    "tags": []
   },
   "outputs": [
    {
     "name": "stdout",
     "output_type": "stream",
     "text": [
      "\n",
      "Error tests\n",
      "\n",
      "R2 train = 0.2620\n",
      "R2 test = 0.0448\n",
      "\n",
      "RMSE train = 0.7692\n",
      "RMSE test = 1.4115\n",
      "\n",
      "MAE train = 0.5307\n",
      "MAE test = 0.8219\n",
      "\n",
      "MSE train = 0.5917\n",
      "MAE test = 1.9924\n",
      "\n"
     ]
    }
   ],
   "source": [
    "print('\\nError tests\\n')\n",
    "print(f'R2 train = {r2_score(y_train, y_pred_train):.4f}')\n",
    "print(f'R2 test = {r2_score(y_test, y_pred_test):.4f}')\n",
    "print()\n",
    "print(f'RMSE train = {(np.sqrt(mean_squared_error(y_train,y_pred_train))):.4f}')\n",
    "print(f'RMSE test = {(np.sqrt(mean_squared_error(y_test,y_pred_test))):.4f}')\n",
    "print()\n",
    "print (f'MAE train = {(metrics.mean_absolute_error(y_train, y_pred_train)):.4f}')\n",
    "print (f'MAE test = {(metrics.mean_absolute_error(y_test, y_pred_test)):.4f}')\n",
    "print()\n",
    "print (f'MSE train = {(metrics.mean_squared_error(y_train, y_pred_train)):.4f}')\n",
    "print (f'MAE test = {(metrics.mean_squared_error(y_test, y_pred_test)):.4f}')\n",
    "print()"
   ]
  },
  {
   "cell_type": "markdown",
   "id": "5f928e9c-4986-4434-8a26-4bb53fa023f8",
   "metadata": {},
   "source": [
    "## Not good results. We will try with the Random Forests Regressor model and feed some parameters to tune it to the best option:"
   ]
  },
  {
   "cell_type": "code",
   "execution_count": 9,
   "id": "aaf54175-0c35-46f2-8aa0-b35b3d28de03",
   "metadata": {
    "tags": []
   },
   "outputs": [],
   "source": [
    "min_samples_leaf = [2,4,5,7,9]\n",
    "min_samples_split = [2,4,5,7,9]\n"
   ]
  },
  {
   "cell_type": "code",
   "execution_count": 10,
   "id": "bcad7188-b2a5-4573-8939-e711fb3dae73",
   "metadata": {
    "tags": []
   },
   "outputs": [
    {
     "name": "stdout",
     "output_type": "stream",
     "text": [
      "CV error for min_samples_leaf = 2 and min_samples_split = 2 : 0.45336743975430444\n",
      "CV error for min_samples_leaf = 2 and min_samples_split = 4 : 0.436503797623808\n",
      "CV error for min_samples_leaf = 2 and min_samples_split = 5 : 0.44616894786724304\n",
      "CV error for min_samples_leaf = 2 and min_samples_split = 7 : 0.45302488114475603\n",
      "CV error for min_samples_leaf = 2 and min_samples_split = 9 : 0.4532801049430364\n",
      "CV error for min_samples_leaf = 4 and min_samples_split = 2 : 0.5022446492463953\n",
      "CV error for min_samples_leaf = 4 and min_samples_split = 4 : 0.4949131899105019\n",
      "CV error for min_samples_leaf = 4 and min_samples_split = 5 : 0.492717135265455\n",
      "CV error for min_samples_leaf = 4 and min_samples_split = 7 : 0.49290056099203133\n",
      "CV error for min_samples_leaf = 4 and min_samples_split = 9 : 0.4972889822200818\n",
      "CV error for min_samples_leaf = 5 and min_samples_split = 2 : 0.48612544045780215\n",
      "CV error for min_samples_leaf = 5 and min_samples_split = 4 : 0.48496475155027596\n",
      "CV error for min_samples_leaf = 5 and min_samples_split = 5 : 0.48974876530745115\n",
      "CV error for min_samples_leaf = 5 and min_samples_split = 7 : 0.48209678855840704\n",
      "CV error for min_samples_leaf = 5 and min_samples_split = 9 : 0.4919818587677013\n",
      "CV error for min_samples_leaf = 7 and min_samples_split = 2 : 0.44488395418890014\n",
      "CV error for min_samples_leaf = 7 and min_samples_split = 4 : 0.4411485628215484\n",
      "CV error for min_samples_leaf = 7 and min_samples_split = 5 : 0.42955698328079733\n",
      "CV error for min_samples_leaf = 7 and min_samples_split = 7 : 0.42635569234215714\n",
      "CV error for min_samples_leaf = 7 and min_samples_split = 9 : 0.44037963477719017\n",
      "CV error for min_samples_leaf = 9 and min_samples_split = 2 : 0.43595559259347694\n",
      "CV error for min_samples_leaf = 9 and min_samples_split = 4 : 0.43294132996879753\n",
      "CV error for min_samples_leaf = 9 and min_samples_split = 5 : 0.42499349432005384\n",
      "CV error for min_samples_leaf = 9 and min_samples_split = 7 : 0.42109237498232915\n",
      "CV error for min_samples_leaf = 9 and min_samples_split = 9 : 0.42351070730116114\n"
     ]
    }
   ],
   "source": [
    "cv_err_lst = []\n",
    "for i in min_samples_leaf:\n",
    "    for j in min_samples_split:\n",
    "        rfr = RandomForestRegressor(n_estimators = 100,  criterion = 'squared_error', min_samples_leaf= i, min_samples_split= i)\n",
    "        cv_err = cross_val_score(rfr, X_train, y_train, cv=10)\n",
    "        print('CV error for min_samples_leaf =', i, 'and min_samples_split =', j, ':', cv_err.mean())\n",
    "        cv_err_lst.append(cv_err.mean())"
   ]
  },
  {
   "cell_type": "code",
   "execution_count": 11,
   "id": "d0dcbcbb-52dc-40fd-9c69-3c4b46be6d40",
   "metadata": {
    "tags": []
   },
   "outputs": [
    {
     "name": "stdout",
     "output_type": "stream",
     "text": [
      "Best CV error value is 0.5 for configuration 6\n"
     ]
    }
   ],
   "source": [
    "max_value = max(cv_err_lst)\n",
    "max_index = cv_err_lst.index(max_value)\n",
    "\n",
    "print('Best CV error value is', round(max_value,2), 'for configuration', max_index+1)"
   ]
  },
  {
   "cell_type": "code",
   "execution_count": 12,
   "id": "8ec04ca6-73c9-42af-a2dc-52fa26995b02",
   "metadata": {
    "tags": []
   },
   "outputs": [
    {
     "name": "stdout",
     "output_type": "stream",
     "text": [
      "0.4986604739387695\n"
     ]
    }
   ],
   "source": [
    "rfr = RandomForestRegressor(n_estimators = 100,  criterion = 'squared_error', min_samples_leaf= 4, min_samples_split= 2)\n",
    "cv_err = cross_val_score(rfr, X_train, y_train, cv=10)\n",
    "print(cv_err.mean())\n",
    "\n"
   ]
  },
  {
   "cell_type": "code",
   "execution_count": 13,
   "id": "b3653a63-bb74-4fe5-afd7-93f1b28c894b",
   "metadata": {
    "tags": []
   },
   "outputs": [],
   "source": [
    "rfr.fit(X_train, y_train)\n",
    "y_pred_train = rfr.predict(X_train)\n",
    "y_pred_test = rfr.predict(X_test)"
   ]
  },
  {
   "cell_type": "code",
   "execution_count": 14,
   "id": "a0f902f4-e96c-4fce-ad86-1c7550d829cc",
   "metadata": {
    "tags": []
   },
   "outputs": [
    {
     "data": {
      "text/plain": [
       "0.7749059386370067"
      ]
     },
     "execution_count": 14,
     "metadata": {},
     "output_type": "execute_result"
    }
   ],
   "source": [
    "r2_score(y_train, y_pred_train)"
   ]
  },
  {
   "cell_type": "markdown",
   "id": "28e0488f-6f70-4b70-ac27-23e90ff320e2",
   "metadata": {},
   "source": [
    "We got a very acceptable R2 for this dataset."
   ]
  },
  {
   "cell_type": "code",
   "execution_count": 15,
   "id": "f5fd59ff-4e97-46ae-9d63-9dce6073781f",
   "metadata": {
    "tags": []
   },
   "outputs": [],
   "source": [
    "pickle.dump(rfr, open(config['models']+'model.pkl', 'wb'))"
   ]
  },
  {
   "cell_type": "markdown",
   "id": "e9c12777-6be8-49ff-a5e6-5b04aea6932b",
   "metadata": {},
   "source": [
    "# We have successfully exported the model to make future predictions."
   ]
  },
  {
   "cell_type": "code",
   "execution_count": null,
   "id": "f7620bb7-210c-4674-922e-9a78b7d8d1ed",
   "metadata": {},
   "outputs": [],
   "source": []
  }
 ],
 "metadata": {
  "kernelspec": {
   "display_name": "venv",
   "language": "python",
   "name": "venv"
  },
  "language_info": {
   "codemirror_mode": {
    "name": "ipython",
    "version": 3
   },
   "file_extension": ".py",
   "mimetype": "text/x-python",
   "name": "python",
   "nbconvert_exporter": "python",
   "pygments_lexer": "ipython3",
   "version": "3.10.9"
  }
 },
 "nbformat": 4,
 "nbformat_minor": 5
}
