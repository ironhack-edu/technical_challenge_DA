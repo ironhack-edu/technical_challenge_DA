{
 "cells": [
  {
   "cell_type": "markdown",
   "id": "b5a23122",
   "metadata": {},
   "source": [
    "# Notebook"
   ]
  },
  {
   "cell_type": "markdown",
   "id": "44674746",
   "metadata": {},
   "source": [
    "importing libraries"
   ]
  },
  {
   "cell_type": "code",
   "execution_count": 1,
   "id": "b12a6519",
   "metadata": {},
   "outputs": [],
   "source": [
    "import numpy as np\n",
    "import pandas as pd\n",
    "import math\n",
    "\n",
    "import matplotlib.pyplot as plt\n",
    "import seaborn as sns"
   ]
  },
  {
   "cell_type": "markdown",
   "id": "0a883983",
   "metadata": {},
   "source": [
    "reading file"
   ]
  },
  {
   "cell_type": "code",
   "execution_count": 2,
   "id": "e20b4bc9",
   "metadata": {},
   "outputs": [],
   "source": [
    "data = pd.read_csv('data/measurements.csv')"
   ]
  },
  {
   "cell_type": "code",
   "execution_count": 3,
   "id": "afd32827",
   "metadata": {},
   "outputs": [
    {
     "data": {
      "text/html": [
       "<div>\n",
       "<style scoped>\n",
       "    .dataframe tbody tr th:only-of-type {\n",
       "        vertical-align: middle;\n",
       "    }\n",
       "\n",
       "    .dataframe tbody tr th {\n",
       "        vertical-align: top;\n",
       "    }\n",
       "\n",
       "    .dataframe thead th {\n",
       "        text-align: right;\n",
       "    }\n",
       "</style>\n",
       "<table border=\"1\" class=\"dataframe\">\n",
       "  <thead>\n",
       "    <tr style=\"text-align: right;\">\n",
       "      <th></th>\n",
       "      <th>distance</th>\n",
       "      <th>consume</th>\n",
       "      <th>speed</th>\n",
       "      <th>temp_inside</th>\n",
       "      <th>temp_outside</th>\n",
       "      <th>specials</th>\n",
       "      <th>gas_type</th>\n",
       "      <th>AC</th>\n",
       "      <th>rain</th>\n",
       "      <th>sun</th>\n",
       "      <th>refill liters</th>\n",
       "      <th>refill gas</th>\n",
       "    </tr>\n",
       "  </thead>\n",
       "  <tbody>\n",
       "    <tr>\n",
       "      <th>0</th>\n",
       "      <td>28</td>\n",
       "      <td>5</td>\n",
       "      <td>26</td>\n",
       "      <td>21,5</td>\n",
       "      <td>12</td>\n",
       "      <td>NaN</td>\n",
       "      <td>E10</td>\n",
       "      <td>0</td>\n",
       "      <td>0</td>\n",
       "      <td>0</td>\n",
       "      <td>45</td>\n",
       "      <td>E10</td>\n",
       "    </tr>\n",
       "    <tr>\n",
       "      <th>1</th>\n",
       "      <td>12</td>\n",
       "      <td>4,2</td>\n",
       "      <td>30</td>\n",
       "      <td>21,5</td>\n",
       "      <td>13</td>\n",
       "      <td>NaN</td>\n",
       "      <td>E10</td>\n",
       "      <td>0</td>\n",
       "      <td>0</td>\n",
       "      <td>0</td>\n",
       "      <td>NaN</td>\n",
       "      <td>NaN</td>\n",
       "    </tr>\n",
       "    <tr>\n",
       "      <th>2</th>\n",
       "      <td>11,2</td>\n",
       "      <td>5,5</td>\n",
       "      <td>38</td>\n",
       "      <td>21,5</td>\n",
       "      <td>15</td>\n",
       "      <td>NaN</td>\n",
       "      <td>E10</td>\n",
       "      <td>0</td>\n",
       "      <td>0</td>\n",
       "      <td>0</td>\n",
       "      <td>NaN</td>\n",
       "      <td>NaN</td>\n",
       "    </tr>\n",
       "    <tr>\n",
       "      <th>3</th>\n",
       "      <td>12,9</td>\n",
       "      <td>3,9</td>\n",
       "      <td>36</td>\n",
       "      <td>21,5</td>\n",
       "      <td>14</td>\n",
       "      <td>NaN</td>\n",
       "      <td>E10</td>\n",
       "      <td>0</td>\n",
       "      <td>0</td>\n",
       "      <td>0</td>\n",
       "      <td>NaN</td>\n",
       "      <td>NaN</td>\n",
       "    </tr>\n",
       "    <tr>\n",
       "      <th>4</th>\n",
       "      <td>18,5</td>\n",
       "      <td>4,5</td>\n",
       "      <td>46</td>\n",
       "      <td>21,5</td>\n",
       "      <td>15</td>\n",
       "      <td>NaN</td>\n",
       "      <td>E10</td>\n",
       "      <td>0</td>\n",
       "      <td>0</td>\n",
       "      <td>0</td>\n",
       "      <td>NaN</td>\n",
       "      <td>NaN</td>\n",
       "    </tr>\n",
       "  </tbody>\n",
       "</table>\n",
       "</div>"
      ],
      "text/plain": [
       "  distance consume  speed temp_inside  temp_outside specials gas_type  AC  \\\n",
       "0       28       5     26        21,5            12      NaN      E10   0   \n",
       "1       12     4,2     30        21,5            13      NaN      E10   0   \n",
       "2     11,2     5,5     38        21,5            15      NaN      E10   0   \n",
       "3     12,9     3,9     36        21,5            14      NaN      E10   0   \n",
       "4     18,5     4,5     46        21,5            15      NaN      E10   0   \n",
       "\n",
       "   rain  sun refill liters refill gas  \n",
       "0     0    0            45        E10  \n",
       "1     0    0           NaN        NaN  \n",
       "2     0    0           NaN        NaN  \n",
       "3     0    0           NaN        NaN  \n",
       "4     0    0           NaN        NaN  "
      ]
     },
     "execution_count": 3,
     "metadata": {},
     "output_type": "execute_result"
    }
   ],
   "source": [
    "data.head()"
   ]
  },
  {
   "cell_type": "code",
   "execution_count": 4,
   "id": "b97aecbc",
   "metadata": {},
   "outputs": [
    {
     "data": {
      "text/plain": [
       "(388, 12)"
      ]
     },
     "execution_count": 4,
     "metadata": {},
     "output_type": "execute_result"
    }
   ],
   "source": [
    "data.shape"
   ]
  },
  {
   "cell_type": "markdown",
   "id": "b0c537fe",
   "metadata": {},
   "source": [
    "## Data Exploration and Cleaning"
   ]
  },
  {
   "cell_type": "markdown",
   "id": "fee4d965",
   "metadata": {},
   "source": [
    "Checking for missing values"
   ]
  },
  {
   "cell_type": "code",
   "execution_count": 5,
   "id": "a1a47f51",
   "metadata": {},
   "outputs": [
    {
     "name": "stdout",
     "output_type": "stream",
     "text": [
      "11,8    37\n",
      "16      24\n",
      "12,3    23\n",
      "12,4    18\n",
      "15,4    14\n",
      "        ..\n",
      "44,9     1\n",
      "36,6     1\n",
      "9,9      1\n",
      "16,8     1\n",
      "14,7     1\n",
      "Name: distance, Length: 174, dtype: int64\n",
      "5       27\n",
      "4,5     27\n",
      "4,6     22\n",
      "4,7     21\n",
      "4,3     20\n",
      "4,1     20\n",
      "5,1     19\n",
      "4,8     19\n",
      "4,4     17\n",
      "4       17\n",
      "4,9     16\n",
      "4,2     15\n",
      "5,3     14\n",
      "3,9     14\n",
      "5,2     12\n",
      "3,8     11\n",
      "5,7     11\n",
      "5,6     10\n",
      "5,4      9\n",
      "3,7      8\n",
      "5,8      7\n",
      "5,5      6\n",
      "5,9      5\n",
      "3,6      4\n",
      "6,4      4\n",
      "6,1      4\n",
      "6,2      4\n",
      "6        4\n",
      "6,3      4\n",
      "8,1      2\n",
      "6,5      2\n",
      "7,4      2\n",
      "6,9      1\n",
      "8,7      1\n",
      "12,2     1\n",
      "7,9      1\n",
      "10,8     1\n",
      "9,9      1\n",
      "7,1      1\n",
      "3,3      1\n",
      "9        1\n",
      "11,5     1\n",
      "6,6      1\n",
      "Name: consume, dtype: int64\n",
      "42    18\n",
      "43    17\n",
      "38    16\n",
      "26    15\n",
      "36    15\n",
      "33    15\n",
      "40    15\n",
      "32    12\n",
      "44    12\n",
      "37    12\n",
      "29    11\n",
      "39    11\n",
      "55    11\n",
      "46    11\n",
      "45    10\n",
      "58    10\n",
      "25    10\n",
      "24     9\n",
      "50     9\n",
      "35     9\n",
      "57     8\n",
      "41     8\n",
      "52     7\n",
      "53     6\n",
      "48     6\n",
      "28     6\n",
      "30     6\n",
      "21     6\n",
      "61     6\n",
      "51     6\n",
      "47     5\n",
      "56     5\n",
      "22     5\n",
      "34     4\n",
      "49     4\n",
      "27     4\n",
      "62     4\n",
      "59     3\n",
      "60     3\n",
      "54     3\n",
      "75     3\n",
      "23     3\n",
      "31     3\n",
      "80     3\n",
      "69     2\n",
      "16     2\n",
      "18     2\n",
      "71     2\n",
      "20     2\n",
      "82     2\n",
      "63     2\n",
      "14     1\n",
      "73     1\n",
      "66     1\n",
      "85     1\n",
      "67     1\n",
      "88     1\n",
      "65     1\n",
      "90     1\n",
      "87     1\n",
      "Name: speed, dtype: int64\n",
      "21,5    133\n",
      "22      102\n",
      "22,5     59\n",
      "20       25\n",
      "21       13\n",
      "23       13\n",
      "NaN      12\n",
      "25       12\n",
      "24,5      7\n",
      "20,5      4\n",
      "24        3\n",
      "23,5      2\n",
      "25,5      2\n",
      "19        1\n",
      "Name: temp_inside, dtype: int64\n",
      " 8     31\n",
      " 10    31\n",
      " 7     28\n",
      " 6     21\n",
      " 9     20\n",
      " 11    20\n",
      " 18    19\n",
      " 12    17\n",
      " 4     17\n",
      " 17    16\n",
      " 16    16\n",
      " 15    14\n",
      " 13    14\n",
      " 14    13\n",
      " 3     13\n",
      " 5     13\n",
      " 1     12\n",
      " 0      9\n",
      " 21     9\n",
      " 2      7\n",
      " 23     7\n",
      " 24     7\n",
      " 19     5\n",
      " 27     5\n",
      " 26     4\n",
      " 31     3\n",
      " 25     3\n",
      " 20     3\n",
      " 30     3\n",
      " 22     3\n",
      "-3      2\n",
      " 28     2\n",
      "-5      1\n",
      "Name: temp_outside, dtype: int64\n",
      "NaN                   295\n",
      "rain                   32\n",
      "sun                    27\n",
      "AC rain                 9\n",
      "ac                      8\n",
      "AC                      6\n",
      "snow                    3\n",
      "sun ac                  3\n",
      "AC snow                 1\n",
      "half rain half sun      1\n",
      "AC sun                  1\n",
      "AC Sun                  1\n",
      "ac rain                 1\n",
      "Name: specials, dtype: int64\n",
      "SP98    228\n",
      "E10     160\n",
      "Name: gas_type, dtype: int64\n",
      "0    358\n",
      "1     30\n",
      "Name: AC, dtype: int64\n",
      "0    340\n",
      "1     48\n",
      "Name: rain, dtype: int64\n",
      "0    356\n",
      "1     32\n",
      "Name: sun, dtype: int64\n",
      "NaN     375\n",
      "45        2\n",
      "37,7      2\n",
      "39        2\n",
      "37,6      1\n",
      "38        1\n",
      "38,3      1\n",
      "10        1\n",
      "41        1\n",
      "37        1\n",
      "37,2      1\n",
      "Name: refill liters, dtype: int64\n",
      "NaN     375\n",
      "SP98      8\n",
      "E10       5\n",
      "Name: refill gas, dtype: int64\n"
     ]
    }
   ],
   "source": [
    "for col in data.columns:\n",
    "    print(data[col].value_counts(dropna=False))"
   ]
  },
  {
   "cell_type": "markdown",
   "id": "72e9541f",
   "metadata": {},
   "source": [
    "4 columns: temp_inside, specials, refill liters and refill gas"
   ]
  },
  {
   "cell_type": "markdown",
   "id": "60c98fdb",
   "metadata": {},
   "source": [
    "Percentage of missing values"
   ]
  },
  {
   "cell_type": "code",
   "execution_count": 6,
   "id": "1c9cd878",
   "metadata": {},
   "outputs": [
    {
     "data": {
      "text/plain": [
       "0.030927835051546393"
      ]
     },
     "execution_count": 6,
     "metadata": {},
     "output_type": "execute_result"
    }
   ],
   "source": [
    "data['temp_inside'].isna().sum()/len(data)"
   ]
  },
  {
   "cell_type": "code",
   "execution_count": 7,
   "id": "9cdbdd3f",
   "metadata": {},
   "outputs": [
    {
     "data": {
      "text/plain": [
       "0.7603092783505154"
      ]
     },
     "execution_count": 7,
     "metadata": {},
     "output_type": "execute_result"
    }
   ],
   "source": [
    "data['specials'].isna().sum()/len(data)"
   ]
  },
  {
   "cell_type": "code",
   "execution_count": 8,
   "id": "71bca859",
   "metadata": {},
   "outputs": [
    {
     "data": {
      "text/plain": [
       "0.9664948453608248"
      ]
     },
     "execution_count": 8,
     "metadata": {},
     "output_type": "execute_result"
    }
   ],
   "source": [
    "data['refill liters'].isna().sum()/len(data)"
   ]
  },
  {
   "cell_type": "code",
   "execution_count": 9,
   "id": "6dd5483a",
   "metadata": {},
   "outputs": [
    {
     "data": {
      "text/plain": [
       "0.9664948453608248"
      ]
     },
     "execution_count": 9,
     "metadata": {},
     "output_type": "execute_result"
    }
   ],
   "source": [
    "data['refill gas'].isna().sum()/len(data)"
   ]
  },
  {
   "cell_type": "markdown",
   "id": "24c81798",
   "metadata": {},
   "source": [
    "3% is low, so I will apply KNN after data transformation to fill the NaN \\\n",
    "above 50%, columns will be dropped"
   ]
  },
  {
   "cell_type": "code",
   "execution_count": 10,
   "id": "88183f56",
   "metadata": {},
   "outputs": [
    {
     "data": {
      "text/html": [
       "<div>\n",
       "<style scoped>\n",
       "    .dataframe tbody tr th:only-of-type {\n",
       "        vertical-align: middle;\n",
       "    }\n",
       "\n",
       "    .dataframe tbody tr th {\n",
       "        vertical-align: top;\n",
       "    }\n",
       "\n",
       "    .dataframe thead th {\n",
       "        text-align: right;\n",
       "    }\n",
       "</style>\n",
       "<table border=\"1\" class=\"dataframe\">\n",
       "  <thead>\n",
       "    <tr style=\"text-align: right;\">\n",
       "      <th></th>\n",
       "      <th>distance</th>\n",
       "      <th>consume</th>\n",
       "      <th>speed</th>\n",
       "      <th>temp_inside</th>\n",
       "      <th>temp_outside</th>\n",
       "      <th>specials</th>\n",
       "      <th>gas_type</th>\n",
       "      <th>AC</th>\n",
       "      <th>rain</th>\n",
       "      <th>sun</th>\n",
       "      <th>refill liters</th>\n",
       "      <th>refill gas</th>\n",
       "    </tr>\n",
       "  </thead>\n",
       "  <tbody>\n",
       "    <tr>\n",
       "      <th>0</th>\n",
       "      <td>28</td>\n",
       "      <td>5</td>\n",
       "      <td>26</td>\n",
       "      <td>21,5</td>\n",
       "      <td>12</td>\n",
       "      <td>NaN</td>\n",
       "      <td>E10</td>\n",
       "      <td>0</td>\n",
       "      <td>0</td>\n",
       "      <td>0</td>\n",
       "      <td>45</td>\n",
       "      <td>E10</td>\n",
       "    </tr>\n",
       "    <tr>\n",
       "      <th>1</th>\n",
       "      <td>12</td>\n",
       "      <td>4,2</td>\n",
       "      <td>30</td>\n",
       "      <td>21,5</td>\n",
       "      <td>13</td>\n",
       "      <td>NaN</td>\n",
       "      <td>E10</td>\n",
       "      <td>0</td>\n",
       "      <td>0</td>\n",
       "      <td>0</td>\n",
       "      <td>NaN</td>\n",
       "      <td>NaN</td>\n",
       "    </tr>\n",
       "    <tr>\n",
       "      <th>2</th>\n",
       "      <td>11,2</td>\n",
       "      <td>5,5</td>\n",
       "      <td>38</td>\n",
       "      <td>21,5</td>\n",
       "      <td>15</td>\n",
       "      <td>NaN</td>\n",
       "      <td>E10</td>\n",
       "      <td>0</td>\n",
       "      <td>0</td>\n",
       "      <td>0</td>\n",
       "      <td>NaN</td>\n",
       "      <td>NaN</td>\n",
       "    </tr>\n",
       "    <tr>\n",
       "      <th>3</th>\n",
       "      <td>12,9</td>\n",
       "      <td>3,9</td>\n",
       "      <td>36</td>\n",
       "      <td>21,5</td>\n",
       "      <td>14</td>\n",
       "      <td>NaN</td>\n",
       "      <td>E10</td>\n",
       "      <td>0</td>\n",
       "      <td>0</td>\n",
       "      <td>0</td>\n",
       "      <td>NaN</td>\n",
       "      <td>NaN</td>\n",
       "    </tr>\n",
       "    <tr>\n",
       "      <th>4</th>\n",
       "      <td>18,5</td>\n",
       "      <td>4,5</td>\n",
       "      <td>46</td>\n",
       "      <td>21,5</td>\n",
       "      <td>15</td>\n",
       "      <td>NaN</td>\n",
       "      <td>E10</td>\n",
       "      <td>0</td>\n",
       "      <td>0</td>\n",
       "      <td>0</td>\n",
       "      <td>NaN</td>\n",
       "      <td>NaN</td>\n",
       "    </tr>\n",
       "  </tbody>\n",
       "</table>\n",
       "</div>"
      ],
      "text/plain": [
       "  distance consume  speed temp_inside  temp_outside specials gas_type  AC  \\\n",
       "0       28       5     26        21,5            12      NaN      E10   0   \n",
       "1       12     4,2     30        21,5            13      NaN      E10   0   \n",
       "2     11,2     5,5     38        21,5            15      NaN      E10   0   \n",
       "3     12,9     3,9     36        21,5            14      NaN      E10   0   \n",
       "4     18,5     4,5     46        21,5            15      NaN      E10   0   \n",
       "\n",
       "   rain  sun refill liters refill gas  \n",
       "0     0    0            45        E10  \n",
       "1     0    0           NaN        NaN  \n",
       "2     0    0           NaN        NaN  \n",
       "3     0    0           NaN        NaN  \n",
       "4     0    0           NaN        NaN  "
      ]
     },
     "execution_count": 10,
     "metadata": {},
     "output_type": "execute_result"
    }
   ],
   "source": [
    "data.head()"
   ]
  },
  {
   "cell_type": "code",
   "execution_count": 11,
   "id": "aa73e82e",
   "metadata": {},
   "outputs": [
    {
     "data": {
      "text/plain": [
       "Index(['distance', 'consume', 'speed', 'temp_inside', 'temp_outside',\n",
       "       'specials', 'gas_type', 'ac', 'rain', 'sun', 'refill liters',\n",
       "       'refill gas'],\n",
       "      dtype='object')"
      ]
     },
     "execution_count": 11,
     "metadata": {},
     "output_type": "execute_result"
    }
   ],
   "source": [
    "data.columns = [x.lower() for x in data.columns]\n",
    "data.columns"
   ]
  },
  {
   "cell_type": "code",
   "execution_count": 12,
   "id": "06f383ad",
   "metadata": {},
   "outputs": [
    {
     "data": {
      "text/plain": [
       "distance         object\n",
       "consume          object\n",
       "speed             int64\n",
       "temp_inside      object\n",
       "temp_outside      int64\n",
       "specials         object\n",
       "gas_type         object\n",
       "ac                int64\n",
       "rain              int64\n",
       "sun               int64\n",
       "refill liters    object\n",
       "refill gas       object\n",
       "dtype: object"
      ]
     },
     "execution_count": 12,
     "metadata": {},
     "output_type": "execute_result"
    }
   ],
   "source": [
    "data.dtypes"
   ]
  },
  {
   "cell_type": "markdown",
   "id": "b4275408",
   "metadata": {},
   "source": [
    "There are numbers with object-type so I will convert them to floats"
   ]
  },
  {
   "cell_type": "code",
   "execution_count": 13,
   "id": "4de1f400",
   "metadata": {},
   "outputs": [],
   "source": [
    "def clean_columns(df, df_columns):\n",
    "    '''function to convert numbers that are object-type to float-type'''\n",
    "    \n",
    "    df_copy = df.copy()\n",
    "    \n",
    "    for col in df_columns:\n",
    "        df_copy[col] = [float(str(row).replace(',','.')) for row in df_copy[col]]\n",
    "    \n",
    "    return df_copy"
   ]
  },
  {
   "cell_type": "code",
   "execution_count": 14,
   "id": "88955647",
   "metadata": {},
   "outputs": [],
   "source": [
    "data.drop(['specials', 'refill liters', 'refill gas'], axis=1, inplace=True)"
   ]
  },
  {
   "cell_type": "code",
   "execution_count": 15,
   "id": "373c1dbb",
   "metadata": {},
   "outputs": [
    {
     "data": {
      "text/html": [
       "<div>\n",
       "<style scoped>\n",
       "    .dataframe tbody tr th:only-of-type {\n",
       "        vertical-align: middle;\n",
       "    }\n",
       "\n",
       "    .dataframe tbody tr th {\n",
       "        vertical-align: top;\n",
       "    }\n",
       "\n",
       "    .dataframe thead th {\n",
       "        text-align: right;\n",
       "    }\n",
       "</style>\n",
       "<table border=\"1\" class=\"dataframe\">\n",
       "  <thead>\n",
       "    <tr style=\"text-align: right;\">\n",
       "      <th></th>\n",
       "      <th>distance</th>\n",
       "      <th>consume</th>\n",
       "      <th>speed</th>\n",
       "      <th>temp_inside</th>\n",
       "      <th>temp_outside</th>\n",
       "      <th>gas_type</th>\n",
       "      <th>ac</th>\n",
       "      <th>rain</th>\n",
       "      <th>sun</th>\n",
       "    </tr>\n",
       "  </thead>\n",
       "  <tbody>\n",
       "    <tr>\n",
       "      <th>0</th>\n",
       "      <td>28.0</td>\n",
       "      <td>5.0</td>\n",
       "      <td>26</td>\n",
       "      <td>21.5</td>\n",
       "      <td>12</td>\n",
       "      <td>E10</td>\n",
       "      <td>0</td>\n",
       "      <td>0</td>\n",
       "      <td>0</td>\n",
       "    </tr>\n",
       "    <tr>\n",
       "      <th>1</th>\n",
       "      <td>12.0</td>\n",
       "      <td>4.2</td>\n",
       "      <td>30</td>\n",
       "      <td>21.5</td>\n",
       "      <td>13</td>\n",
       "      <td>E10</td>\n",
       "      <td>0</td>\n",
       "      <td>0</td>\n",
       "      <td>0</td>\n",
       "    </tr>\n",
       "    <tr>\n",
       "      <th>2</th>\n",
       "      <td>11.2</td>\n",
       "      <td>5.5</td>\n",
       "      <td>38</td>\n",
       "      <td>21.5</td>\n",
       "      <td>15</td>\n",
       "      <td>E10</td>\n",
       "      <td>0</td>\n",
       "      <td>0</td>\n",
       "      <td>0</td>\n",
       "    </tr>\n",
       "    <tr>\n",
       "      <th>3</th>\n",
       "      <td>12.9</td>\n",
       "      <td>3.9</td>\n",
       "      <td>36</td>\n",
       "      <td>21.5</td>\n",
       "      <td>14</td>\n",
       "      <td>E10</td>\n",
       "      <td>0</td>\n",
       "      <td>0</td>\n",
       "      <td>0</td>\n",
       "    </tr>\n",
       "    <tr>\n",
       "      <th>4</th>\n",
       "      <td>18.5</td>\n",
       "      <td>4.5</td>\n",
       "      <td>46</td>\n",
       "      <td>21.5</td>\n",
       "      <td>15</td>\n",
       "      <td>E10</td>\n",
       "      <td>0</td>\n",
       "      <td>0</td>\n",
       "      <td>0</td>\n",
       "    </tr>\n",
       "  </tbody>\n",
       "</table>\n",
       "</div>"
      ],
      "text/plain": [
       "   distance  consume  speed  temp_inside  temp_outside gas_type  ac  rain  sun\n",
       "0      28.0      5.0     26         21.5            12      E10   0     0    0\n",
       "1      12.0      4.2     30         21.5            13      E10   0     0    0\n",
       "2      11.2      5.5     38         21.5            15      E10   0     0    0\n",
       "3      12.9      3.9     36         21.5            14      E10   0     0    0\n",
       "4      18.5      4.5     46         21.5            15      E10   0     0    0"
      ]
     },
     "execution_count": 15,
     "metadata": {},
     "output_type": "execute_result"
    }
   ],
   "source": [
    "clean_data = clean_columns(data, ['distance', 'consume', 'temp_inside'])\n",
    "clean_data.head()"
   ]
  },
  {
   "cell_type": "code",
   "execution_count": 16,
   "id": "a230ca49",
   "metadata": {},
   "outputs": [
    {
     "data": {
      "text/plain": [
       "distance        float64\n",
       "consume         float64\n",
       "speed             int64\n",
       "temp_inside     float64\n",
       "temp_outside      int64\n",
       "gas_type         object\n",
       "ac                int64\n",
       "rain              int64\n",
       "sun               int64\n",
       "dtype: object"
      ]
     },
     "execution_count": 16,
     "metadata": {},
     "output_type": "execute_result"
    }
   ],
   "source": [
    "clean_data.dtypes"
   ]
  },
  {
   "cell_type": "markdown",
   "id": "873548a6",
   "metadata": {},
   "source": [
    "Encoding gas_type"
   ]
  },
  {
   "cell_type": "code",
   "execution_count": 17,
   "id": "7ddeccd6",
   "metadata": {},
   "outputs": [],
   "source": [
    "y_color = clean_data['gas_type']"
   ]
  },
  {
   "cell_type": "code",
   "execution_count": 18,
   "id": "9d40e561",
   "metadata": {},
   "outputs": [],
   "source": [
    "x = clean_data.drop(['consume'], axis=1)"
   ]
  },
  {
   "cell_type": "code",
   "execution_count": 19,
   "id": "c4479eff",
   "metadata": {},
   "outputs": [],
   "source": [
    "x['gas_type'] = [0 if x=='SP98' else 1 for x in x['gas_type']]"
   ]
  },
  {
   "cell_type": "markdown",
   "id": "4b0dd98d",
   "metadata": {},
   "source": [
    "## Data Transformation"
   ]
  },
  {
   "cell_type": "code",
   "execution_count": 20,
   "id": "c05c9147",
   "metadata": {},
   "outputs": [],
   "source": [
    "from sklearn.preprocessing import PowerTransformer, MinMaxScaler\n",
    "\n",
    "def transform(x):\n",
    "    \n",
    "    transformer = PowerTransformer()\n",
    "    transformer.fit(x)\n",
    "\n",
    "    x_tr = transformer.transform(x)\n",
    "    x_tr = pd.DataFrame(x_tr, columns = x.columns)\n",
    "\n",
    "    x_tr_mm = MinMaxScaler().fit(x_tr).transform(x_tr)\n",
    "    x_tr_mm = pd.DataFrame(x_tr_mm, columns=x.columns) #convert np.array to pd.DataFrame\n",
    "    \n",
    "    return(x_tr_mm)"
   ]
  },
  {
   "cell_type": "code",
   "execution_count": 21,
   "id": "3682923a",
   "metadata": {},
   "outputs": [],
   "source": [
    "x_tr = transform(x)"
   ]
  },
  {
   "cell_type": "markdown",
   "id": "12c7d56b",
   "metadata": {},
   "source": [
    "### KNN to replace missing values"
   ]
  },
  {
   "cell_type": "code",
   "execution_count": 22,
   "id": "531cf82c",
   "metadata": {},
   "outputs": [],
   "source": [
    "from sklearn.impute import KNNImputer\n",
    "\n",
    "imputer = KNNImputer() #default = 5 neighbours\n",
    "\n",
    "imputer = KNNImputer(n_neighbors=5)\n",
    "\n",
    "x_knn = pd.DataFrame(imputer.fit_transform(x_tr), columns = x.columns)"
   ]
  },
  {
   "cell_type": "code",
   "execution_count": 23,
   "id": "74d8d395",
   "metadata": {},
   "outputs": [
    {
     "data": {
      "text/html": [
       "<div>\n",
       "<style scoped>\n",
       "    .dataframe tbody tr th:only-of-type {\n",
       "        vertical-align: middle;\n",
       "    }\n",
       "\n",
       "    .dataframe tbody tr th {\n",
       "        vertical-align: top;\n",
       "    }\n",
       "\n",
       "    .dataframe thead th {\n",
       "        text-align: right;\n",
       "    }\n",
       "</style>\n",
       "<table border=\"1\" class=\"dataframe\">\n",
       "  <thead>\n",
       "    <tr style=\"text-align: right;\">\n",
       "      <th></th>\n",
       "      <th>distance</th>\n",
       "      <th>speed</th>\n",
       "      <th>temp_inside</th>\n",
       "      <th>temp_outside</th>\n",
       "      <th>gas_type</th>\n",
       "      <th>ac</th>\n",
       "      <th>rain</th>\n",
       "      <th>sun</th>\n",
       "    </tr>\n",
       "  </thead>\n",
       "  <tbody>\n",
       "    <tr>\n",
       "      <th>0</th>\n",
       "      <td>0.637550</td>\n",
       "      <td>0.290453</td>\n",
       "      <td>0.531791</td>\n",
       "      <td>0.627545</td>\n",
       "      <td>1.0</td>\n",
       "      <td>0.0</td>\n",
       "      <td>0.0</td>\n",
       "      <td>0.0</td>\n",
       "    </tr>\n",
       "    <tr>\n",
       "      <th>1</th>\n",
       "      <td>0.460622</td>\n",
       "      <td>0.363389</td>\n",
       "      <td>0.531791</td>\n",
       "      <td>0.649687</td>\n",
       "      <td>1.0</td>\n",
       "      <td>0.0</td>\n",
       "      <td>0.0</td>\n",
       "      <td>0.0</td>\n",
       "    </tr>\n",
       "    <tr>\n",
       "      <th>2</th>\n",
       "      <td>0.445710</td>\n",
       "      <td>0.488758</td>\n",
       "      <td>0.531791</td>\n",
       "      <td>0.692787</td>\n",
       "      <td>1.0</td>\n",
       "      <td>0.0</td>\n",
       "      <td>0.0</td>\n",
       "      <td>0.0</td>\n",
       "    </tr>\n",
       "    <tr>\n",
       "      <th>3</th>\n",
       "      <td>0.476189</td>\n",
       "      <td>0.459541</td>\n",
       "      <td>0.531791</td>\n",
       "      <td>0.671423</td>\n",
       "      <td>1.0</td>\n",
       "      <td>0.0</td>\n",
       "      <td>0.0</td>\n",
       "      <td>0.0</td>\n",
       "    </tr>\n",
       "    <tr>\n",
       "      <th>4</th>\n",
       "      <td>0.552624</td>\n",
       "      <td>0.594615</td>\n",
       "      <td>0.531791</td>\n",
       "      <td>0.692787</td>\n",
       "      <td>1.0</td>\n",
       "      <td>0.0</td>\n",
       "      <td>0.0</td>\n",
       "      <td>0.0</td>\n",
       "    </tr>\n",
       "  </tbody>\n",
       "</table>\n",
       "</div>"
      ],
      "text/plain": [
       "   distance     speed  temp_inside  temp_outside  gas_type   ac  rain  sun\n",
       "0  0.637550  0.290453     0.531791      0.627545       1.0  0.0   0.0  0.0\n",
       "1  0.460622  0.363389     0.531791      0.649687       1.0  0.0   0.0  0.0\n",
       "2  0.445710  0.488758     0.531791      0.692787       1.0  0.0   0.0  0.0\n",
       "3  0.476189  0.459541     0.531791      0.671423       1.0  0.0   0.0  0.0\n",
       "4  0.552624  0.594615     0.531791      0.692787       1.0  0.0   0.0  0.0"
      ]
     },
     "execution_count": 23,
     "metadata": {},
     "output_type": "execute_result"
    }
   ],
   "source": [
    "x_knn.head()"
   ]
  },
  {
   "cell_type": "code",
   "execution_count": 24,
   "id": "4887a9e4",
   "metadata": {},
   "outputs": [
    {
     "data": {
      "text/html": [
       "<div>\n",
       "<style scoped>\n",
       "    .dataframe tbody tr th:only-of-type {\n",
       "        vertical-align: middle;\n",
       "    }\n",
       "\n",
       "    .dataframe tbody tr th {\n",
       "        vertical-align: top;\n",
       "    }\n",
       "\n",
       "    .dataframe thead th {\n",
       "        text-align: right;\n",
       "    }\n",
       "</style>\n",
       "<table border=\"1\" class=\"dataframe\">\n",
       "  <thead>\n",
       "    <tr style=\"text-align: right;\">\n",
       "      <th></th>\n",
       "      <th>distance</th>\n",
       "      <th>speed</th>\n",
       "      <th>temp_inside</th>\n",
       "      <th>temp_outside</th>\n",
       "      <th>gas_type</th>\n",
       "      <th>ac</th>\n",
       "      <th>rain</th>\n",
       "      <th>sun</th>\n",
       "      <th>consume</th>\n",
       "    </tr>\n",
       "  </thead>\n",
       "  <tbody>\n",
       "    <tr>\n",
       "      <th>0</th>\n",
       "      <td>0.637550</td>\n",
       "      <td>0.290453</td>\n",
       "      <td>0.531791</td>\n",
       "      <td>0.627545</td>\n",
       "      <td>1.0</td>\n",
       "      <td>0.0</td>\n",
       "      <td>0.0</td>\n",
       "      <td>0.0</td>\n",
       "      <td>5.0</td>\n",
       "    </tr>\n",
       "    <tr>\n",
       "      <th>1</th>\n",
       "      <td>0.460622</td>\n",
       "      <td>0.363389</td>\n",
       "      <td>0.531791</td>\n",
       "      <td>0.649687</td>\n",
       "      <td>1.0</td>\n",
       "      <td>0.0</td>\n",
       "      <td>0.0</td>\n",
       "      <td>0.0</td>\n",
       "      <td>4.2</td>\n",
       "    </tr>\n",
       "    <tr>\n",
       "      <th>2</th>\n",
       "      <td>0.445710</td>\n",
       "      <td>0.488758</td>\n",
       "      <td>0.531791</td>\n",
       "      <td>0.692787</td>\n",
       "      <td>1.0</td>\n",
       "      <td>0.0</td>\n",
       "      <td>0.0</td>\n",
       "      <td>0.0</td>\n",
       "      <td>5.5</td>\n",
       "    </tr>\n",
       "    <tr>\n",
       "      <th>3</th>\n",
       "      <td>0.476189</td>\n",
       "      <td>0.459541</td>\n",
       "      <td>0.531791</td>\n",
       "      <td>0.671423</td>\n",
       "      <td>1.0</td>\n",
       "      <td>0.0</td>\n",
       "      <td>0.0</td>\n",
       "      <td>0.0</td>\n",
       "      <td>3.9</td>\n",
       "    </tr>\n",
       "    <tr>\n",
       "      <th>4</th>\n",
       "      <td>0.552624</td>\n",
       "      <td>0.594615</td>\n",
       "      <td>0.531791</td>\n",
       "      <td>0.692787</td>\n",
       "      <td>1.0</td>\n",
       "      <td>0.0</td>\n",
       "      <td>0.0</td>\n",
       "      <td>0.0</td>\n",
       "      <td>4.5</td>\n",
       "    </tr>\n",
       "  </tbody>\n",
       "</table>\n",
       "</div>"
      ],
      "text/plain": [
       "   distance     speed  temp_inside  temp_outside  gas_type   ac  rain  sun  \\\n",
       "0  0.637550  0.290453     0.531791      0.627545       1.0  0.0   0.0  0.0   \n",
       "1  0.460622  0.363389     0.531791      0.649687       1.0  0.0   0.0  0.0   \n",
       "2  0.445710  0.488758     0.531791      0.692787       1.0  0.0   0.0  0.0   \n",
       "3  0.476189  0.459541     0.531791      0.671423       1.0  0.0   0.0  0.0   \n",
       "4  0.552624  0.594615     0.531791      0.692787       1.0  0.0   0.0  0.0   \n",
       "\n",
       "   consume  \n",
       "0      5.0  \n",
       "1      4.2  \n",
       "2      5.5  \n",
       "3      3.9  \n",
       "4      4.5  "
      ]
     },
     "execution_count": 24,
     "metadata": {},
     "output_type": "execute_result"
    }
   ],
   "source": [
    "xy = pd.concat([x_knn,clean_data['consume']], axis=1)\n",
    "xy.head()"
   ]
  },
  {
   "cell_type": "markdown",
   "id": "dc68c966",
   "metadata": {},
   "source": [
    "## Data Visualization"
   ]
  },
  {
   "cell_type": "code",
   "execution_count": 25,
   "id": "431f2d45",
   "metadata": {},
   "outputs": [],
   "source": [
    "def plot_countplot(df, column_list):\n",
    "    '''Function to plot countplots for categorical dataframe:\n",
    "    2 columns, n rows (number of columns of dataframe) '''\n",
    "    \n",
    "    plt_size = math.ceil(len(column_list)/2)  #define rows in subplot\n",
    "    n = 0 #counter to attribute position for plot\n",
    "    \n",
    "    col_num = []\n",
    "    row_num = []\n",
    "    for i1 in [0,1]:\n",
    "        for i2 in list(range(0,plt_size)):\n",
    "            col_num.append(i1)\n",
    "            row_num.append(i2)\n",
    "    \n",
    "    fig, ax = plt.subplots(plt_size,2, figsize=(20,40))\n",
    "    \n",
    "    #orient = orientation\n",
    "    \n",
    "    for i in column_list:\n",
    "        sns.histplot(data = df, x = i, ax = ax[row_num[n],col_num[n]], color='#a1c9f4')    \n",
    "        n += 1\n",
    "                      \n",
    "    plt.show()\n"
   ]
  },
  {
   "cell_type": "code",
   "execution_count": 26,
   "id": "7922d1be",
   "metadata": {},
   "outputs": [
    {
     "data": {
      "image/png": "[encoded data removed]",
      "text/plain": [
       "<Figure size 2000x4000 with 8 Axes>"
      ]
     },
     "metadata": {},
     "output_type": "display_data"
    }
   ],
   "source": [
    "plot_countplot(x_knn, x_knn.columns)"
   ]
  },
  {
   "cell_type": "code",
   "execution_count": 27,
   "id": "590f7407",
   "metadata": {},
   "outputs": [
    {
     "data": {
      "image/png": "[encoded data removed]",
      "text/plain": [
       "<Figure size 1000x800 with 2 Axes>"
      ]
     },
     "metadata": {},
     "output_type": "display_data"
    }
   ],
   "source": [
    "data_corr = xy.corr()\n",
    "\n",
    "fig, ax = plt.subplots(figsize=(10,8))\n",
    "sns.heatmap(data_corr, annot=False, ax=ax)  #annot = False, no values in the heatmap\n",
    "plt.show()"
   ]
  },
  {
   "cell_type": "markdown",
   "id": "b778e809",
   "metadata": {},
   "source": [
    "This correlation map show us that there is not a lot of correlation between gas type and the x-features that we have\\\n",
    " \\\n",
    "There is a correlation between distance, consume and speed (a fact known to every consumer trying to save fuel :) )\\\n",
    " \\\n",
    "Also temperature outside, temperature inside and sun have some correlation"
   ]
  },
  {
   "cell_type": "markdown",
   "id": "5ab54dc0",
   "metadata": {},
   "source": [
    "Let's check for outliers"
   ]
  },
  {
   "cell_type": "code",
   "execution_count": 28,
   "id": "07b36e7e",
   "metadata": {},
   "outputs": [],
   "source": [
    "def plot_boxplot(df):\n",
    "    '''Function to plot boxplots for dataframe:\n",
    "    2 columns, n rows (number of columns of dataframe) '''\n",
    "     \n",
    "    col_names = list(df)\n",
    "    \n",
    "    plt_size = math.ceil(len(col_names)/2)  #define rows in subplot\n",
    "    n = 0 #counter to attribute position for plot\n",
    "    \n",
    "    #loop to attribute positions in rows and columns\n",
    "    col_num = [] \n",
    "    row_num = []\n",
    "    for i1 in [0,1]:\n",
    "        for i2 in list(range(0,plt_size)):\n",
    "            col_num.append(i1)\n",
    "            row_num.append(i2)\n",
    "       \n",
    "    fig, ax = plt.subplots(plt_size,2, figsize=(10,10))\n",
    "    \n",
    "    #loop to plot boxplots\n",
    "    for i in col_names:\n",
    "        sns.boxplot(data = df[i], orient = 'h', color='#a1c9f4', ax = ax[row_num[n],col_num[n]])\n",
    "        ax[row_num[n],col_num[n]].set_ylabel(i)\n",
    "        n += 1\n",
    "                                                        \n",
    "    plt.show()"
   ]
  },
  {
   "cell_type": "code",
   "execution_count": 29,
   "id": "73a7ba2a",
   "metadata": {},
   "outputs": [
    {
     "data": {
      "image/png": "[encoded data removed]",
      "text/plain": [
       "<Figure size 1000x1000 with 8 Axes>"
      ]
     },
     "metadata": {},
     "output_type": "display_data"
    }
   ],
   "source": [
    "plot_boxplot(x_knn)"
   ]
  },
  {
   "cell_type": "markdown",
   "id": "50ca3d6b",
   "metadata": {},
   "source": [
    "## Data Prediction"
   ]
  },
  {
   "cell_type": "markdown",
   "id": "acabec60",
   "metadata": {},
   "source": [
    "p-value will be defined as 0.05 to differentiate between null and alternative hypothesis"
   ]
  },
  {
   "cell_type": "code",
   "execution_count": 30,
   "id": "7a93c251",
   "metadata": {},
   "outputs": [],
   "source": [
    "import scipy.stats as stats"
   ]
  },
  {
   "cell_type": "code",
   "execution_count": 31,
   "id": "3f55a12d",
   "metadata": {},
   "outputs": [
    {
     "data": {
      "text/html": [
       "<div>\n",
       "<style scoped>\n",
       "    .dataframe tbody tr th:only-of-type {\n",
       "        vertical-align: middle;\n",
       "    }\n",
       "\n",
       "    .dataframe tbody tr th {\n",
       "        vertical-align: top;\n",
       "    }\n",
       "\n",
       "    .dataframe thead th {\n",
       "        text-align: right;\n",
       "    }\n",
       "</style>\n",
       "<table border=\"1\" class=\"dataframe\">\n",
       "  <thead>\n",
       "    <tr style=\"text-align: right;\">\n",
       "      <th></th>\n",
       "      <th>distance</th>\n",
       "      <th>consume</th>\n",
       "      <th>speed</th>\n",
       "      <th>temp_inside</th>\n",
       "      <th>temp_outside</th>\n",
       "      <th>gas_type</th>\n",
       "      <th>ac</th>\n",
       "      <th>rain</th>\n",
       "      <th>sun</th>\n",
       "    </tr>\n",
       "  </thead>\n",
       "  <tbody>\n",
       "    <tr>\n",
       "      <th>0</th>\n",
       "      <td>28.0</td>\n",
       "      <td>5.0</td>\n",
       "      <td>26</td>\n",
       "      <td>21.5</td>\n",
       "      <td>12</td>\n",
       "      <td>E10</td>\n",
       "      <td>0</td>\n",
       "      <td>0</td>\n",
       "      <td>0</td>\n",
       "    </tr>\n",
       "    <tr>\n",
       "      <th>1</th>\n",
       "      <td>12.0</td>\n",
       "      <td>4.2</td>\n",
       "      <td>30</td>\n",
       "      <td>21.5</td>\n",
       "      <td>13</td>\n",
       "      <td>E10</td>\n",
       "      <td>0</td>\n",
       "      <td>0</td>\n",
       "      <td>0</td>\n",
       "    </tr>\n",
       "    <tr>\n",
       "      <th>2</th>\n",
       "      <td>11.2</td>\n",
       "      <td>5.5</td>\n",
       "      <td>38</td>\n",
       "      <td>21.5</td>\n",
       "      <td>15</td>\n",
       "      <td>E10</td>\n",
       "      <td>0</td>\n",
       "      <td>0</td>\n",
       "      <td>0</td>\n",
       "    </tr>\n",
       "    <tr>\n",
       "      <th>3</th>\n",
       "      <td>12.9</td>\n",
       "      <td>3.9</td>\n",
       "      <td>36</td>\n",
       "      <td>21.5</td>\n",
       "      <td>14</td>\n",
       "      <td>E10</td>\n",
       "      <td>0</td>\n",
       "      <td>0</td>\n",
       "      <td>0</td>\n",
       "    </tr>\n",
       "    <tr>\n",
       "      <th>4</th>\n",
       "      <td>18.5</td>\n",
       "      <td>4.5</td>\n",
       "      <td>46</td>\n",
       "      <td>21.5</td>\n",
       "      <td>15</td>\n",
       "      <td>E10</td>\n",
       "      <td>0</td>\n",
       "      <td>0</td>\n",
       "      <td>0</td>\n",
       "    </tr>\n",
       "  </tbody>\n",
       "</table>\n",
       "</div>"
      ],
      "text/plain": [
       "   distance  consume  speed  temp_inside  temp_outside gas_type  ac  rain  sun\n",
       "0      28.0      5.0     26         21.5            12      E10   0     0    0\n",
       "1      12.0      4.2     30         21.5            13      E10   0     0    0\n",
       "2      11.2      5.5     38         21.5            15      E10   0     0    0\n",
       "3      12.9      3.9     36         21.5            14      E10   0     0    0\n",
       "4      18.5      4.5     46         21.5            15      E10   0     0    0"
      ]
     },
     "execution_count": 31,
     "metadata": {},
     "output_type": "execute_result"
    }
   ],
   "source": [
    "clean_data.head()"
   ]
  },
  {
   "cell_type": "code",
   "execution_count": 32,
   "id": "422cc19a",
   "metadata": {},
   "outputs": [
    {
     "data": {
      "text/html": [
       "<div>\n",
       "<style scoped>\n",
       "    .dataframe tbody tr th:only-of-type {\n",
       "        vertical-align: middle;\n",
       "    }\n",
       "\n",
       "    .dataframe tbody tr th {\n",
       "        vertical-align: top;\n",
       "    }\n",
       "\n",
       "    .dataframe thead th {\n",
       "        text-align: right;\n",
       "    }\n",
       "</style>\n",
       "<table border=\"1\" class=\"dataframe\">\n",
       "  <thead>\n",
       "    <tr style=\"text-align: right;\">\n",
       "      <th></th>\n",
       "      <th>speed</th>\n",
       "    </tr>\n",
       "    <tr>\n",
       "      <th>gas_type</th>\n",
       "      <th></th>\n",
       "    </tr>\n",
       "  </thead>\n",
       "  <tbody>\n",
       "    <tr>\n",
       "      <th>E10</th>\n",
       "      <td>43.506250</td>\n",
       "    </tr>\n",
       "    <tr>\n",
       "      <th>SP98</th>\n",
       "      <td>40.820175</td>\n",
       "    </tr>\n",
       "  </tbody>\n",
       "</table>\n",
       "</div>"
      ],
      "text/plain": [
       "              speed\n",
       "gas_type           \n",
       "E10       43.506250\n",
       "SP98      40.820175"
      ]
     },
     "execution_count": 32,
     "metadata": {},
     "output_type": "execute_result"
    }
   ],
   "source": [
    "clean_data.groupby('gas_type').agg({'speed':'mean'})"
   ]
  },
  {
   "cell_type": "code",
   "execution_count": 33,
   "id": "fd2ad18b",
   "metadata": {},
   "outputs": [
    {
     "data": {
      "text/plain": [
       "Index(['distance', 'speed', 'temp_inside', 'temp_outside', 'gas_type', 'ac',\n",
       "       'rain', 'sun'],\n",
       "      dtype='object')"
      ]
     },
     "execution_count": 33,
     "metadata": {},
     "output_type": "execute_result"
    }
   ],
   "source": [
    "x.columns"
   ]
  },
  {
   "cell_type": "code",
   "execution_count": 34,
   "id": "51c21d06",
   "metadata": {},
   "outputs": [
    {
     "data": {
      "text/html": [
       "<div>\n",
       "<style scoped>\n",
       "    .dataframe tbody tr th:only-of-type {\n",
       "        vertical-align: middle;\n",
       "    }\n",
       "\n",
       "    .dataframe tbody tr th {\n",
       "        vertical-align: top;\n",
       "    }\n",
       "\n",
       "    .dataframe thead th {\n",
       "        text-align: right;\n",
       "    }\n",
       "</style>\n",
       "<table border=\"1\" class=\"dataframe\">\n",
       "  <thead>\n",
       "    <tr style=\"text-align: right;\">\n",
       "      <th>gas_type</th>\n",
       "      <th>E10</th>\n",
       "      <th>SP98</th>\n",
       "    </tr>\n",
       "  </thead>\n",
       "  <tbody>\n",
       "    <tr>\n",
       "      <th>ac</th>\n",
       "      <td>0.043750</td>\n",
       "      <td>0.100877</td>\n",
       "    </tr>\n",
       "    <tr>\n",
       "      <th>consume</th>\n",
       "      <td>4.931250</td>\n",
       "      <td>4.899123</td>\n",
       "    </tr>\n",
       "    <tr>\n",
       "      <th>distance</th>\n",
       "      <td>21.096250</td>\n",
       "      <td>18.639912</td>\n",
       "    </tr>\n",
       "    <tr>\n",
       "      <th>rain</th>\n",
       "      <td>0.100000</td>\n",
       "      <td>0.140351</td>\n",
       "    </tr>\n",
       "    <tr>\n",
       "      <th>speed</th>\n",
       "      <td>43.506250</td>\n",
       "      <td>40.820175</td>\n",
       "    </tr>\n",
       "    <tr>\n",
       "      <th>sun</th>\n",
       "      <td>0.075000</td>\n",
       "      <td>0.087719</td>\n",
       "    </tr>\n",
       "    <tr>\n",
       "      <th>temp_inside</th>\n",
       "      <td>21.917197</td>\n",
       "      <td>21.938356</td>\n",
       "    </tr>\n",
       "    <tr>\n",
       "      <th>temp_outside</th>\n",
       "      <td>10.118750</td>\n",
       "      <td>12.228070</td>\n",
       "    </tr>\n",
       "  </tbody>\n",
       "</table>\n",
       "</div>"
      ],
      "text/plain": [
       "gas_type            E10       SP98\n",
       "ac             0.043750   0.100877\n",
       "consume        4.931250   4.899123\n",
       "distance      21.096250  18.639912\n",
       "rain           0.100000   0.140351\n",
       "speed         43.506250  40.820175\n",
       "sun            0.075000   0.087719\n",
       "temp_inside   21.917197  21.938356\n",
       "temp_outside  10.118750  12.228070"
      ]
     },
     "execution_count": 34,
     "metadata": {},
     "output_type": "execute_result"
    }
   ],
   "source": [
    "clean_data.pivot_table(columns = 'gas_type', values = ['distance', 'consume', 'speed', 'temp_inside', 'temp_outside', 'ac',\n",
    "       'rain', 'sun'], aggfunc='mean')"
   ]
  },
  {
   "cell_type": "markdown",
   "id": "70e96d5d",
   "metadata": {},
   "source": [
    "### Is speed significantly different from 43 in E10?"
   ]
  },
  {
   "cell_type": "code",
   "execution_count": 35,
   "id": "53691560",
   "metadata": {},
   "outputs": [
    {
     "data": {
      "text/plain": [
       "<AxesSubplot:xlabel='speed'>"
      ]
     },
     "execution_count": 35,
     "metadata": {},
     "output_type": "execute_result"
    },
    {
     "data": {
      "image/png": "[encoded data removed]",
      "text/plain": [
       "<Figure size 640x480 with 1 Axes>"
      ]
     },
     "metadata": {},
     "output_type": "display_data"
    }
   ],
   "source": [
    "sns.boxplot(data = clean_data[clean_data['gas_type']=='E10'], x ='speed')"
   ]
  },
  {
   "cell_type": "code",
   "execution_count": 36,
   "id": "880c7ac2",
   "metadata": {},
   "outputs": [
    {
     "data": {
      "text/plain": [
       "Ttest_1sampResult(statistic=0.45486827611413216, pvalue=0.6498244533551667)"
      ]
     },
     "execution_count": 36,
     "metadata": {},
     "output_type": "execute_result"
    }
   ],
   "source": [
    "stats.ttest_1samp(clean_data[clean_data['gas_type']=='E10']['speed'], popmean = 43, alternative = \"two-sided\")"
   ]
  },
  {
   "cell_type": "markdown",
   "id": "40cdeb85",
   "metadata": {},
   "source": [
    "p-value > 0.5, so null hypothesis is accepted, speed is significantly different from 43 using E10 fuel"
   ]
  },
  {
   "cell_type": "markdown",
   "id": "a45a2e91",
   "metadata": {},
   "source": [
    "### Is distance in average lower than 18 in SP98?"
   ]
  },
  {
   "cell_type": "code",
   "execution_count": 37,
   "id": "2b862758",
   "metadata": {},
   "outputs": [
    {
     "data": {
      "text/plain": [
       "<AxesSubplot:xlabel='distance'>"
      ]
     },
     "execution_count": 37,
     "metadata": {},
     "output_type": "execute_result"
    },
    {
     "data": {
      "image/png": "[encoded data removed]",
      "text/plain": [
       "<Figure size 1000x400 with 1 Axes>"
      ]
     },
     "metadata": {},
     "output_type": "display_data"
    }
   ],
   "source": [
    "fig,ax = plt.subplots(figsize=(10,4))\n",
    "sns.boxplot(data = clean_data[clean_data['gas_type']=='SP98'], x = 'distance', ax=ax)"
   ]
  },
  {
   "cell_type": "code",
   "execution_count": 38,
   "id": "474c134c",
   "metadata": {},
   "outputs": [
    {
     "data": {
      "text/plain": [
       "Ttest_1sampResult(statistic=0.3996122417996286, pvalue=0.34490893812553125)"
      ]
     },
     "execution_count": 38,
     "metadata": {},
     "output_type": "execute_result"
    }
   ],
   "source": [
    "stats.ttest_1samp(clean_data[clean_data['gas_type']=='SP98']['distance'], popmean = 18, alternative = \"greater\")"
   ]
  },
  {
   "cell_type": "markdown",
   "id": "e0788bc2",
   "metadata": {},
   "source": [
    "p-value is > 0.05, as such, hypothesis of average being over 18 is rejected. As such,average is lower in average than 18"
   ]
  },
  {
   "cell_type": "markdown",
   "id": "e9fb7854",
   "metadata": {},
   "source": [
    "### In consume similar between the two fuels?"
   ]
  },
  {
   "cell_type": "code",
   "execution_count": 39,
   "id": "1093d722",
   "metadata": {},
   "outputs": [
    {
     "data": {
      "text/plain": [
       "<AxesSubplot:xlabel='consume'>"
      ]
     },
     "execution_count": 39,
     "metadata": {},
     "output_type": "execute_result"
    },
    {
     "data": {
      "image/png": "[encoded data removed]",
      "text/plain": [
       "<Figure size 1000x400 with 2 Axes>"
      ]
     },
     "metadata": {},
     "output_type": "display_data"
    }
   ],
   "source": [
    "fig,ax = plt.subplots(2,1,figsize=(10,4))\n",
    "sns.boxplot(data = xy[xy['gas_type']==0], x = 'consume', ax=ax[0])\n",
    "sns.boxplot(data = xy[xy['gas_type']==1], x = 'consume', ax=ax[1])"
   ]
  },
  {
   "cell_type": "code",
   "execution_count": 40,
   "id": "f621d556",
   "metadata": {},
   "outputs": [
    {
     "data": {
      "text/plain": [
       "Ttest_indResult(statistic=0.3011626300254617, pvalue=0.7634526478628367)"
      ]
     },
     "execution_count": 40,
     "metadata": {},
     "output_type": "execute_result"
    }
   ],
   "source": [
    "stats.ttest_ind(xy[xy['gas_type']==1]['consume'], xy[xy['gas_type']==0]['consume'])"
   ]
  },
  {
   "cell_type": "markdown",
   "id": "d2e83fe5",
   "metadata": {},
   "source": [
    "Null hypothesis is accepted, samples have similar consumes, as p-value > 0.5"
   ]
  },
  {
   "cell_type": "markdown",
   "id": "10cc0661",
   "metadata": {},
   "source": [
    "## Which Fuel is Best?"
   ]
  },
  {
   "cell_type": "markdown",
   "id": "870c1a17",
   "metadata": {},
   "source": [
    "### Linear model to predict consume when using E10"
   ]
  },
  {
   "cell_type": "code",
   "execution_count": 41,
   "id": "8bfdd0ff",
   "metadata": {},
   "outputs": [
    {
     "data": {
      "text/html": [
       "<div>\n",
       "<style scoped>\n",
       "    .dataframe tbody tr th:only-of-type {\n",
       "        vertical-align: middle;\n",
       "    }\n",
       "\n",
       "    .dataframe tbody tr th {\n",
       "        vertical-align: top;\n",
       "    }\n",
       "\n",
       "    .dataframe thead th {\n",
       "        text-align: right;\n",
       "    }\n",
       "</style>\n",
       "<table border=\"1\" class=\"dataframe\">\n",
       "  <thead>\n",
       "    <tr style=\"text-align: right;\">\n",
       "      <th></th>\n",
       "      <th>distance</th>\n",
       "      <th>speed</th>\n",
       "      <th>temp_inside</th>\n",
       "      <th>temp_outside</th>\n",
       "      <th>gas_type</th>\n",
       "      <th>ac</th>\n",
       "      <th>rain</th>\n",
       "      <th>sun</th>\n",
       "      <th>consume</th>\n",
       "    </tr>\n",
       "  </thead>\n",
       "  <tbody>\n",
       "    <tr>\n",
       "      <th>0</th>\n",
       "      <td>0.637550</td>\n",
       "      <td>0.290453</td>\n",
       "      <td>0.531791</td>\n",
       "      <td>0.627545</td>\n",
       "      <td>1.0</td>\n",
       "      <td>0.0</td>\n",
       "      <td>0.0</td>\n",
       "      <td>0.0</td>\n",
       "      <td>5.0</td>\n",
       "    </tr>\n",
       "    <tr>\n",
       "      <th>1</th>\n",
       "      <td>0.460622</td>\n",
       "      <td>0.363389</td>\n",
       "      <td>0.531791</td>\n",
       "      <td>0.649687</td>\n",
       "      <td>1.0</td>\n",
       "      <td>0.0</td>\n",
       "      <td>0.0</td>\n",
       "      <td>0.0</td>\n",
       "      <td>4.2</td>\n",
       "    </tr>\n",
       "    <tr>\n",
       "      <th>2</th>\n",
       "      <td>0.445710</td>\n",
       "      <td>0.488758</td>\n",
       "      <td>0.531791</td>\n",
       "      <td>0.692787</td>\n",
       "      <td>1.0</td>\n",
       "      <td>0.0</td>\n",
       "      <td>0.0</td>\n",
       "      <td>0.0</td>\n",
       "      <td>5.5</td>\n",
       "    </tr>\n",
       "    <tr>\n",
       "      <th>3</th>\n",
       "      <td>0.476189</td>\n",
       "      <td>0.459541</td>\n",
       "      <td>0.531791</td>\n",
       "      <td>0.671423</td>\n",
       "      <td>1.0</td>\n",
       "      <td>0.0</td>\n",
       "      <td>0.0</td>\n",
       "      <td>0.0</td>\n",
       "      <td>3.9</td>\n",
       "    </tr>\n",
       "    <tr>\n",
       "      <th>4</th>\n",
       "      <td>0.552624</td>\n",
       "      <td>0.594615</td>\n",
       "      <td>0.531791</td>\n",
       "      <td>0.692787</td>\n",
       "      <td>1.0</td>\n",
       "      <td>0.0</td>\n",
       "      <td>0.0</td>\n",
       "      <td>0.0</td>\n",
       "      <td>4.5</td>\n",
       "    </tr>\n",
       "    <tr>\n",
       "      <th>...</th>\n",
       "      <td>...</td>\n",
       "      <td>...</td>\n",
       "      <td>...</td>\n",
       "      <td>...</td>\n",
       "      <td>...</td>\n",
       "      <td>...</td>\n",
       "      <td>...</td>\n",
       "      <td>...</td>\n",
       "      <td>...</td>\n",
       "    </tr>\n",
       "    <tr>\n",
       "      <th>344</th>\n",
       "      <td>0.523418</td>\n",
       "      <td>0.363389</td>\n",
       "      <td>0.957514</td>\n",
       "      <td>0.713809</td>\n",
       "      <td>1.0</td>\n",
       "      <td>1.0</td>\n",
       "      <td>1.0</td>\n",
       "      <td>0.0</td>\n",
       "      <td>5.1</td>\n",
       "    </tr>\n",
       "    <tr>\n",
       "      <th>345</th>\n",
       "      <td>0.522101</td>\n",
       "      <td>0.543700</td>\n",
       "      <td>0.610212</td>\n",
       "      <td>0.692787</td>\n",
       "      <td>1.0</td>\n",
       "      <td>0.0</td>\n",
       "      <td>0.0</td>\n",
       "      <td>0.0</td>\n",
       "      <td>4.0</td>\n",
       "    </tr>\n",
       "    <tr>\n",
       "      <th>346</th>\n",
       "      <td>0.514005</td>\n",
       "      <td>0.516776</td>\n",
       "      <td>0.610212</td>\n",
       "      <td>0.754923</td>\n",
       "      <td>1.0</td>\n",
       "      <td>0.0</td>\n",
       "      <td>0.0</td>\n",
       "      <td>0.0</td>\n",
       "      <td>4.8</td>\n",
       "    </tr>\n",
       "    <tr>\n",
       "      <th>347</th>\n",
       "      <td>0.537352</td>\n",
       "      <td>0.444447</td>\n",
       "      <td>0.610212</td>\n",
       "      <td>0.713809</td>\n",
       "      <td>1.0</td>\n",
       "      <td>0.0</td>\n",
       "      <td>0.0</td>\n",
       "      <td>0.0</td>\n",
       "      <td>3.9</td>\n",
       "    </tr>\n",
       "    <tr>\n",
       "      <th>348</th>\n",
       "      <td>0.529875</td>\n",
       "      <td>0.642108</td>\n",
       "      <td>0.610212</td>\n",
       "      <td>0.890915</td>\n",
       "      <td>1.0</td>\n",
       "      <td>0.0</td>\n",
       "      <td>0.0</td>\n",
       "      <td>0.0</td>\n",
       "      <td>4.6</td>\n",
       "    </tr>\n",
       "  </tbody>\n",
       "</table>\n",
       "<p>160 rows × 9 columns</p>\n",
       "</div>"
      ],
      "text/plain": [
       "     distance     speed  temp_inside  temp_outside  gas_type   ac  rain  sun  \\\n",
       "0    0.637550  0.290453     0.531791      0.627545       1.0  0.0   0.0  0.0   \n",
       "1    0.460622  0.363389     0.531791      0.649687       1.0  0.0   0.0  0.0   \n",
       "2    0.445710  0.488758     0.531791      0.692787       1.0  0.0   0.0  0.0   \n",
       "3    0.476189  0.459541     0.531791      0.671423       1.0  0.0   0.0  0.0   \n",
       "4    0.552624  0.594615     0.531791      0.692787       1.0  0.0   0.0  0.0   \n",
       "..        ...       ...          ...           ...       ...  ...   ...  ...   \n",
       "344  0.523418  0.363389     0.957514      0.713809       1.0  1.0   1.0  0.0   \n",
       "345  0.522101  0.543700     0.610212      0.692787       1.0  0.0   0.0  0.0   \n",
       "346  0.514005  0.516776     0.610212      0.754923       1.0  0.0   0.0  0.0   \n",
       "347  0.537352  0.444447     0.610212      0.713809       1.0  0.0   0.0  0.0   \n",
       "348  0.529875  0.642108     0.610212      0.890915       1.0  0.0   0.0  0.0   \n",
       "\n",
       "     consume  \n",
       "0        5.0  \n",
       "1        4.2  \n",
       "2        5.5  \n",
       "3        3.9  \n",
       "4        4.5  \n",
       "..       ...  \n",
       "344      5.1  \n",
       "345      4.0  \n",
       "346      4.8  \n",
       "347      3.9  \n",
       "348      4.6  \n",
       "\n",
       "[160 rows x 9 columns]"
      ]
     },
     "execution_count": 41,
     "metadata": {},
     "output_type": "execute_result"
    }
   ],
   "source": [
    "xy_E10 = xy[xy['gas_type']==1]\n",
    "xy_E10"
   ]
  },
  {
   "cell_type": "code",
   "execution_count": 42,
   "id": "357f8fba",
   "metadata": {},
   "outputs": [],
   "source": [
    "x_10 = xy_E10.drop(['consume','gas_type'],axis=1)\n",
    "y_10 = xy_E10['consume']"
   ]
  },
  {
   "cell_type": "code",
   "execution_count": 43,
   "id": "c7491e99",
   "metadata": {},
   "outputs": [
    {
     "data": {
      "text/plain": [
       "(160,)"
      ]
     },
     "execution_count": 43,
     "metadata": {},
     "output_type": "execute_result"
    }
   ],
   "source": [
    "y_10.shape"
   ]
  },
  {
   "cell_type": "markdown",
   "id": "81acb9bc",
   "metadata": {},
   "source": [
    "As data is a little imbalaced and small, I am doing data upscaling"
   ]
  },
  {
   "cell_type": "code",
   "execution_count": 44,
   "id": "2734ba5c",
   "metadata": {},
   "outputs": [],
   "source": [
    "from sklearn.model_selection import train_test_split\n",
    "\n",
    "np.random.seed(10)      #fix the random number generator, useful if you are including different columns\n",
    "x_tr, x_te, y_tr, y_te = train_test_split(x_10,y_10, test_size=0.3, random_state=100) "
   ]
  },
  {
   "cell_type": "code",
   "execution_count": 45,
   "id": "e6b675e4",
   "metadata": {},
   "outputs": [
    {
     "name": "stdout",
     "output_type": "stream",
     "text": [
      "consume = [-2.49050519 -0.24056705  0.29163442 -1.54262577  0.00374174  0.97008871\n",
      " -0.29735524]*x + 7.0066755827056895\n",
      "r2 -1.168644384318577\n",
      "mse 0.7045945533140608\n",
      "rmse 0.8394013064762652\n",
      "mae 0.6383819653499815\n",
      "5.024751046208968\n"
     ]
    }
   ],
   "source": [
    "from sklearn.linear_model import LinearRegression\n",
    "\n",
    "    #all functions from sklearn result in np.arrays\n",
    "\n",
    "lm = LinearRegression() #fit_intercept - if False, b = 0\n",
    "\n",
    "model = lm.fit(x_tr,y_tr) #train the model (values to make prediction, values to predict)\n",
    "\n",
    "y_pred_te = lm.predict(x_te)\n",
    "\n",
    "b = lm.intercept_       #know intercept on y-axis\n",
    "m = lm.coef_            #know slope\n",
    "\n",
    "print('consume = {}*x + {}'.format(m,b))\n",
    "#scoring\n",
    "from sklearn.metrics import r2_score, mean_squared_error, mean_absolute_error\n",
    "\n",
    "print('r2', r2_score(y_pred_te, y_te))\n",
    "print('mse',  mean_squared_error(y_pred_te, y_te))\n",
    "print('rmse', math.sqrt(mean_squared_error(y_pred_te, y_te)))\n",
    "print('mae',  mean_absolute_error(y_pred_te, y_te))\n",
    "\n",
    "print(np.mean(y_pred_te))"
   ]
  },
  {
   "cell_type": "markdown",
   "id": "156d5f20",
   "metadata": {},
   "source": [
    "### Linear model to predict consume when using SP98"
   ]
  },
  {
   "cell_type": "code",
   "execution_count": 46,
   "id": "0f5819fb",
   "metadata": {},
   "outputs": [],
   "source": [
    "xy_SP98 = xy[xy['gas_type']==0]"
   ]
  },
  {
   "cell_type": "code",
   "execution_count": 47,
   "id": "bdcb7982",
   "metadata": {},
   "outputs": [],
   "source": [
    "x_98 = xy_SP98.drop(['consume','gas_type'],axis=1)\n",
    "y_98 = xy_SP98['consume']"
   ]
  },
  {
   "cell_type": "code",
   "execution_count": 48,
   "id": "b8f304d4",
   "metadata": {},
   "outputs": [],
   "source": [
    "np.random.seed(10)      #fix the random number generator, useful if you are including different columns\n",
    "x_tr, x_te, y_tr, y_te = train_test_split(x_98,y_98, test_size=0.3, random_state=100) "
   ]
  },
  {
   "cell_type": "code",
   "execution_count": 49,
   "id": "5cac8a3b",
   "metadata": {},
   "outputs": [
    {
     "name": "stdout",
     "output_type": "stream",
     "text": [
      "consume = [-4.55647013 -0.24045282 -0.81051046 -1.34174294  0.47345817  0.49886664\n",
      "  0.02210601]*x + 8.511514827525353\n",
      "r2 -0.27166760066144313\n",
      "mse 0.678460399282619\n",
      "rmse 0.823687076068709\n",
      "mae 0.6573186568360087\n",
      "4.937642388925561\n"
     ]
    }
   ],
   "source": [
    "lm = LinearRegression() #fit_intercept - if False, b = 0\n",
    "\n",
    "model98 = lm.fit(x_tr,y_tr) #train the model (values to make prediction, values to predict)\n",
    "\n",
    "y_pred_te = lm.predict(x_te)\n",
    "\n",
    "b = lm.intercept_       #know intercept on y-axis\n",
    "m = lm.coef_            #know slope\n",
    "\n",
    "print('consume = {}*x + {}'.format(m,b))\n",
    "#scoring\n",
    "\n",
    "print('r2', r2_score(y_pred_te, y_te))\n",
    "print('mse',  mean_squared_error(y_pred_te, y_te))\n",
    "print('rmse', math.sqrt(mean_squared_error(y_pred_te, y_te)))\n",
    "print('mae',  mean_absolute_error(y_pred_te, y_te))\n",
    "\n",
    "print(np.mean(y_pred_te))"
   ]
  },
  {
   "cell_type": "markdown",
   "id": "e3605716",
   "metadata": {},
   "source": [
    "Car is consuming more when using E10 than SP98"
   ]
  },
  {
   "cell_type": "code",
   "execution_count": 50,
   "id": "8272e78f",
   "metadata": {},
   "outputs": [
    {
     "data": {
      "text/html": [
       "\n",
       "<div id=\"altair-viz-ddb59c2cb17e43f9a8e38257860679b6\"></div>\n",
       "<script type=\"text/javascript\">\n",
       "  var VEGA_DEBUG = (typeof VEGA_DEBUG == \"undefined\") ? {} : VEGA_DEBUG;\n",
       "  (function(spec, embedOpt){\n",
       "    let outputDiv = document.currentScript.previousElementSibling;\n",
       "    if (outputDiv.id !== \"altair-viz-ddb59c2cb17e43f9a8e38257860679b6\") {\n",
       "      outputDiv = document.getElementById(\"altair-viz-ddb59c2cb17e43f9a8e38257860679b6\");\n",
       "    }\n",
       "    const paths = {\n",
       "      \"vega\": \"https://cdn.jsdelivr.net/npm//vega@5?noext\",\n",
       "      \"vega-lib\": \"https://cdn.jsdelivr.net/npm//vega-lib?noext\",\n",
       "      \"vega-lite\": \"https://cdn.jsdelivr.net/npm//vega-lite@4.17.0?noext\",\n",
       "      \"vega-embed\": \"https://cdn.jsdelivr.net/npm//vega-embed@6?noext\",\n",
       "    };\n",
       "\n",
       "    function maybeLoadScript(lib, version) {\n",
       "      var key = `${lib.replace(\"-\", \"\")}_version`;\n",
       "      return (VEGA_DEBUG[key] == version) ?\n",
       "        Promise.resolve(paths[lib]) :\n",
       "        new Promise(function(resolve, reject) {\n",
       "          var s = document.createElement('script');\n",
       "          document.getElementsByTagName(\"head\")[0].appendChild(s);\n",
       "          s.async = true;\n",
       "          s.onload = () => {\n",
       "            VEGA_DEBUG[key] = version;\n",
       "            return resolve(paths[lib]);\n",
       "          };\n",
       "          s.onerror = () => reject(`Error loading script: ${paths[lib]}`);\n",
       "          s.src = paths[lib];\n",
       "        });\n",
       "    }\n",
       "\n",
       "    function showError(err) {\n",
       "      outputDiv.innerHTML = `<div class=\"error\" style=\"color:red;\">${err}</div>`;\n",
       "      throw err;\n",
       "    }\n",
       "\n",
       "    function displayChart(vegaEmbed) {\n",
       "      vegaEmbed(outputDiv, spec, embedOpt)\n",
       "        .catch(err => showError(`Javascript Error: ${err.message}<br>This usually means there's a typo in your chart specification. See the javascript console for the full traceback.`));\n",
       "    }\n",
       "\n",
       "    if(typeof define === \"function\" && define.amd) {\n",
       "      requirejs.config({paths});\n",
       "      require([\"vega-embed\"], displayChart, err => showError(`Error loading script: ${err.message}`));\n",
       "    } else {\n",
       "      maybeLoadScript(\"vega\", \"5\")\n",
       "        .then(() => maybeLoadScript(\"vega-lite\", \"4.17.0\"))\n",
       "        .then(() => maybeLoadScript(\"vega-embed\", \"6\"))\n",
       "        .catch(showError)\n",
       "        .then(() => displayChart(vegaEmbed));\n",
       "    }\n",
       "  })({\"config\": {\"view\": {\"continuousWidth\": 400, \"continuousHeight\": 300}}, \"data\": {\"name\": \"data-45a64c4533a0455ea96c1caea5302820\"}, \"mark\": \"point\", \"encoding\": {\"color\": {\"field\": \"gas_type\", \"type\": \"nominal\"}, \"x\": {\"field\": \"consume\", \"type\": \"quantitative\"}, \"y\": {\"field\": \"consume\", \"type\": \"quantitative\"}}, \"selection\": {\"selector001\": {\"type\": \"interval\", \"bind\": \"scales\", \"encodings\": [\"x\", \"y\"]}}, \"$schema\": \"https://vega.github.io/schema/vega-lite/v4.17.0.json\", \"datasets\": {\"data-45a64c4533a0455ea96c1caea5302820\": [{\"distance\": 28.0, \"consume\": 5.0, \"speed\": 26, \"temp_inside\": 21.5, \"temp_outside\": 12, \"gas_type\": \"E10\", \"ac\": 0, \"rain\": 0, \"sun\": 0}, {\"distance\": 12.0, \"consume\": 4.2, \"speed\": 30, \"temp_inside\": 21.5, \"temp_outside\": 13, \"gas_type\": \"E10\", \"ac\": 0, \"rain\": 0, \"sun\": 0}, {\"distance\": 11.2, \"consume\": 5.5, \"speed\": 38, \"temp_inside\": 21.5, \"temp_outside\": 15, \"gas_type\": \"E10\", \"ac\": 0, \"rain\": 0, \"sun\": 0}, {\"distance\": 12.9, \"consume\": 3.9, \"speed\": 36, \"temp_inside\": 21.5, \"temp_outside\": 14, \"gas_type\": \"E10\", \"ac\": 0, \"rain\": 0, \"sun\": 0}, {\"distance\": 18.5, \"consume\": 4.5, \"speed\": 46, \"temp_inside\": 21.5, \"temp_outside\": 15, \"gas_type\": \"E10\", \"ac\": 0, \"rain\": 0, \"sun\": 0}, {\"distance\": 8.3, \"consume\": 6.4, \"speed\": 50, \"temp_inside\": 21.5, \"temp_outside\": 10, \"gas_type\": \"E10\", \"ac\": 0, \"rain\": 0, \"sun\": 0}, {\"distance\": 7.8, \"consume\": 4.4, \"speed\": 43, \"temp_inside\": 21.5, \"temp_outside\": 11, \"gas_type\": \"E10\", \"ac\": 0, \"rain\": 0, \"sun\": 0}, {\"distance\": 12.3, \"consume\": 5.0, \"speed\": 40, \"temp_inside\": 21.5, \"temp_outside\": 6, \"gas_type\": \"E10\", \"ac\": 0, \"rain\": 0, \"sun\": 0}, {\"distance\": 4.9, \"consume\": 6.4, \"speed\": 26, \"temp_inside\": 21.5, \"temp_outside\": 4, \"gas_type\": \"E10\", \"ac\": 0, \"rain\": 0, \"sun\": 0}, {\"distance\": 11.9, \"consume\": 5.3, \"speed\": 30, \"temp_inside\": 21.5, \"temp_outside\": 9, \"gas_type\": \"E10\", \"ac\": 0, \"rain\": 0, \"sun\": 0}, {\"distance\": 12.4, \"consume\": 5.6, \"speed\": 42, \"temp_inside\": 21.5, \"temp_outside\": 4, \"gas_type\": \"E10\", \"ac\": 0, \"rain\": 0, \"sun\": 0}, {\"distance\": 11.8, \"consume\": 4.6, \"speed\": 38, \"temp_inside\": 21.5, \"temp_outside\": 0, \"gas_type\": \"E10\", \"ac\": 0, \"rain\": 0, \"sun\": 0}, {\"distance\": 12.3, \"consume\": 5.9, \"speed\": 59, \"temp_inside\": 21.5, \"temp_outside\": 10, \"gas_type\": \"E10\", \"ac\": 0, \"rain\": 0, \"sun\": 0}, {\"distance\": 24.7, \"consume\": 5.1, \"speed\": 58, \"temp_inside\": 21.5, \"temp_outside\": 12, \"gas_type\": \"E10\", \"ac\": 0, \"rain\": 0, \"sun\": 0}, {\"distance\": 12.4, \"consume\": 4.7, \"speed\": 46, \"temp_inside\": 21.5, \"temp_outside\": 11, \"gas_type\": \"E10\", \"ac\": 0, \"rain\": 0, \"sun\": 0}, {\"distance\": 17.3, \"consume\": 5.1, \"speed\": 24, \"temp_inside\": 21.5, \"temp_outside\": 5, \"gas_type\": \"E10\", \"ac\": 0, \"rain\": 0, \"sun\": 0}, {\"distance\": 33.4, \"consume\": 5.6, \"speed\": 36, \"temp_inside\": 21.5, \"temp_outside\": 3, \"gas_type\": \"E10\", \"ac\": 0, \"rain\": 0, \"sun\": 0}, {\"distance\": 11.8, \"consume\": 5.1, \"speed\": 32, \"temp_inside\": 21.5, \"temp_outside\": 3, \"gas_type\": \"E10\", \"ac\": 0, \"rain\": 0, \"sun\": 0}, {\"distance\": 25.9, \"consume\": 4.9, \"speed\": 39, \"temp_inside\": 21.5, \"temp_outside\": 8, \"gas_type\": \"E10\", \"ac\": 0, \"rain\": 0, \"sun\": 0}, {\"distance\": 11.8, \"consume\": 4.7, \"speed\": 40, \"temp_inside\": 21.5, \"temp_outside\": 4, \"gas_type\": \"E10\", \"ac\": 0, \"rain\": 0, \"sun\": 0}, {\"distance\": 25.3, \"consume\": 5.5, \"speed\": 32, \"temp_inside\": 21.5, \"temp_outside\": 3, \"gas_type\": \"E10\", \"ac\": 0, \"rain\": 0, \"sun\": 0}, {\"distance\": 14.2, \"consume\": 5.9, \"speed\": 38, \"temp_inside\": 21.5, \"temp_outside\": 1, \"gas_type\": \"E10\", \"ac\": 0, \"rain\": 0, \"sun\": 0}, {\"distance\": 17.9, \"consume\": 5.7, \"speed\": 37, \"temp_inside\": 21.5, \"temp_outside\": 1, \"gas_type\": \"E10\", \"ac\": 0, \"rain\": 0, \"sun\": 0}, {\"distance\": 11.8, \"consume\": 4.7, \"speed\": 36, \"temp_inside\": 21.5, \"temp_outside\": 1, \"gas_type\": \"E10\", \"ac\": 0, \"rain\": 0, \"sun\": 0}, {\"distance\": 12.3, \"consume\": 5.9, \"speed\": 62, \"temp_inside\": 21.5, \"temp_outside\": 6, \"gas_type\": \"E10\", \"ac\": 0, \"rain\": 0, \"sun\": 0}, {\"distance\": 12.4, \"consume\": 4.1, \"speed\": 57, \"temp_inside\": 21.5, \"temp_outside\": 9, \"gas_type\": \"E10\", \"ac\": 0, \"rain\": 0, \"sun\": 0}, {\"distance\": 18.4, \"consume\": 5.7, \"speed\": 21, \"temp_inside\": 22.5, \"temp_outside\": 2, \"gas_type\": \"E10\", \"ac\": 0, \"rain\": 0, \"sun\": 0}, {\"distance\": 18.4, \"consume\": 5.8, \"speed\": 28, \"temp_inside\": 21.5, \"temp_outside\": 3, \"gas_type\": \"E10\", \"ac\": 0, \"rain\": 0, \"sun\": 0}, {\"distance\": 18.3, \"consume\": 5.5, \"speed\": 29, \"temp_inside\": 21.5, \"temp_outside\": 1, \"gas_type\": \"E10\", \"ac\": 0, \"rain\": 0, \"sun\": 0}, {\"distance\": 18.4, \"consume\": 5.7, \"speed\": 35, \"temp_inside\": 21.5, \"temp_outside\": 4, \"gas_type\": \"E10\", \"ac\": 0, \"rain\": 0, \"sun\": 0}, {\"distance\": 12.3, \"consume\": 5.3, \"speed\": 51, \"temp_inside\": 21.5, \"temp_outside\": 11, \"gas_type\": \"E10\", \"ac\": 0, \"rain\": 0, \"sun\": 0}, {\"distance\": 11.8, \"consume\": 5.0, \"speed\": 29, \"temp_inside\": 21.5, \"temp_outside\": 10, \"gas_type\": \"E10\", \"ac\": 0, \"rain\": 0, \"sun\": 0}, {\"distance\": 12.3, \"consume\": 5.6, \"speed\": 58, \"temp_inside\": 21.5, \"temp_outside\": 8, \"gas_type\": \"E10\", \"ac\": 0, \"rain\": 0, \"sun\": 0}, {\"distance\": 32.6, \"consume\": 4.8, \"speed\": 40, \"temp_inside\": 21.5, \"temp_outside\": 7, \"gas_type\": \"E10\", \"ac\": 0, \"rain\": 0, \"sun\": 0}, {\"distance\": 19.0, \"consume\": 4.3, \"speed\": 36, \"temp_inside\": 21.5, \"temp_outside\": 7, \"gas_type\": \"E10\", \"ac\": 0, \"rain\": 0, \"sun\": 0}, {\"distance\": 12.1, \"consume\": 5.7, \"speed\": 36, \"temp_inside\": 21.5, \"temp_outside\": 8, \"gas_type\": \"E10\", \"ac\": 0, \"rain\": 0, \"sun\": 0}, {\"distance\": 20.0, \"consume\": 5.2, \"speed\": 37, \"temp_inside\": 21.5, \"temp_outside\": 4, \"gas_type\": \"E10\", \"ac\": 0, \"rain\": 0, \"sun\": 0}, {\"distance\": 4.9, \"consume\": 7.4, \"speed\": 26, \"temp_inside\": 21.5, \"temp_outside\": 6, \"gas_type\": \"E10\", \"ac\": 0, \"rain\": 0, \"sun\": 0}, {\"distance\": 11.8, \"consume\": 4.8, \"speed\": 23, \"temp_inside\": 21.5, \"temp_outside\": 9, \"gas_type\": \"E10\", \"ac\": 0, \"rain\": 0, \"sun\": 0}, {\"distance\": 12.3, \"consume\": 6.5, \"speed\": 58, \"temp_inside\": 21.5, \"temp_outside\": 7, \"gas_type\": \"E10\", \"ac\": 0, \"rain\": 0, \"sun\": 0}, {\"distance\": 12.4, \"consume\": 4.0, \"speed\": 55, \"temp_inside\": 21.5, \"temp_outside\": 7, \"gas_type\": \"E10\", \"ac\": 1, \"rain\": 1, \"sun\": 0}, {\"distance\": 4.5, \"consume\": 5.0, \"speed\": 29, \"temp_inside\": 21.5, \"temp_outside\": 7, \"gas_type\": \"E10\", \"ac\": 1, \"rain\": 0, \"sun\": 0}, {\"distance\": 11.7, \"consume\": 4.6, \"speed\": 37, \"temp_inside\": 21.5, \"temp_outside\": 6, \"gas_type\": \"E10\", \"ac\": 0, \"rain\": 0, \"sun\": 0}, {\"distance\": 10.2, \"consume\": 4.3, \"speed\": 44, \"temp_inside\": 21.5, \"temp_outside\": 7, \"gas_type\": \"E10\", \"ac\": 0, \"rain\": 0, \"sun\": 0}, {\"distance\": 5.4, \"consume\": 3.3, \"speed\": 32, \"temp_inside\": 21.5, \"temp_outside\": 7, \"gas_type\": \"SP98\", \"ac\": 0, \"rain\": 0, \"sun\": 0}, {\"distance\": 2.0, \"consume\": 9.9, \"speed\": 21, \"temp_inside\": 21.5, \"temp_outside\": 4, \"gas_type\": \"SP98\", \"ac\": 0, \"rain\": 0, \"sun\": 0}, {\"distance\": 14.2, \"consume\": 5.1, \"speed\": 32, \"temp_inside\": 21.5, \"temp_outside\": 7, \"gas_type\": \"SP98\", \"ac\": 0, \"rain\": 0, \"sun\": 0}, {\"distance\": 16.0, \"consume\": 4.9, \"speed\": 25, \"temp_inside\": 21.5, \"temp_outside\": 8, \"gas_type\": \"SP98\", \"ac\": 0, \"rain\": 0, \"sun\": 0}, {\"distance\": 11.8, \"consume\": 4.9, \"speed\": 25, \"temp_inside\": 21.5, \"temp_outside\": 11, \"gas_type\": \"SP98\", \"ac\": 0, \"rain\": 0, \"sun\": 0}, {\"distance\": 27.3, \"consume\": 4.7, \"speed\": 36, \"temp_inside\": 21.5, \"temp_outside\": 10, \"gas_type\": \"SP98\", \"ac\": 0, \"rain\": 0, \"sun\": 0}, {\"distance\": 11.8, \"consume\": 5.1, \"speed\": 29, \"temp_inside\": 21.5, \"temp_outside\": 5, \"gas_type\": \"SP98\", \"ac\": 0, \"rain\": 1, \"sun\": 0}, {\"distance\": 10.6, \"consume\": 4.9, \"speed\": 63, \"temp_inside\": 21.5, \"temp_outside\": 6, \"gas_type\": \"SP98\", \"ac\": 0, \"rain\": 0, \"sun\": 0}, {\"distance\": 11.6, \"consume\": 4.2, \"speed\": 61, \"temp_inside\": 21.5, \"temp_outside\": 7, \"gas_type\": \"SP98\", \"ac\": 0, \"rain\": 0, \"sun\": 0}, {\"distance\": 13.1, \"consume\": 6.1, \"speed\": 46, \"temp_inside\": 21.5, \"temp_outside\": 6, \"gas_type\": \"SP98\", \"ac\": 0, \"rain\": 1, \"sun\": 0}, {\"distance\": 6.1, \"consume\": 6.4, \"speed\": 28, \"temp_inside\": 21.5, \"temp_outside\": 8, \"gas_type\": \"SP98\", \"ac\": 0, \"rain\": 0, \"sun\": 0}, {\"distance\": 153.5, \"consume\": 4.9, \"speed\": 82, \"temp_inside\": 21.5, \"temp_outside\": 3, \"gas_type\": \"SP98\", \"ac\": 0, \"rain\": 1, \"sun\": 0}, {\"distance\": 11.8, \"consume\": 4.9, \"speed\": 24, \"temp_inside\": 21.5, \"temp_outside\": 7, \"gas_type\": \"SP98\", \"ac\": 0, \"rain\": 0, \"sun\": 0}, {\"distance\": 12.3, \"consume\": 6.2, \"speed\": 61, \"temp_inside\": 21.5, \"temp_outside\": 8, \"gas_type\": \"SP98\", \"ac\": 0, \"rain\": 0, \"sun\": 0}, {\"distance\": 12.4, \"consume\": 4.2, \"speed\": 57, \"temp_inside\": 21.5, \"temp_outside\": 8, \"gas_type\": \"SP98\", \"ac\": 0, \"rain\": 0, \"sun\": 0}, {\"distance\": 12.3, \"consume\": 5.7, \"speed\": 52, \"temp_inside\": 21.5, \"temp_outside\": 8, \"gas_type\": \"SP98\", \"ac\": 0, \"rain\": 1, \"sun\": 0}, {\"distance\": 2.9, \"consume\": 7.9, \"speed\": 18, \"temp_inside\": 21.5, \"temp_outside\": 9, \"gas_type\": \"SP98\", \"ac\": 1, \"rain\": 1, \"sun\": 0}, {\"distance\": 2.1, \"consume\": 12.2, \"speed\": 23, \"temp_inside\": 21.5, \"temp_outside\": 9, \"gas_type\": \"SP98\", \"ac\": 1, \"rain\": 1, \"sun\": 0}, {\"distance\": 9.8, \"consume\": 5.8, \"speed\": 24, \"temp_inside\": 21.5, \"temp_outside\": 6, \"gas_type\": \"SP98\", \"ac\": 0, \"rain\": 0, \"sun\": 0}, {\"distance\": 6.8, \"consume\": 5.3, \"speed\": 26, \"temp_inside\": 21.5, \"temp_outside\": 6, \"gas_type\": \"SP98\", \"ac\": 0, \"rain\": 0, \"sun\": 0}, {\"distance\": 12.4, \"consume\": 5.4, \"speed\": 24, \"temp_inside\": 21.5, \"temp_outside\": 7, \"gas_type\": \"SP98\", \"ac\": 0, \"rain\": 0, \"sun\": 0}, {\"distance\": 12.4, \"consume\": 4.7, \"speed\": 57, \"temp_inside\": 21.5, \"temp_outside\": 8, \"gas_type\": \"SP98\", \"ac\": 0, \"rain\": 0, \"sun\": 0}, {\"distance\": 11.8, \"consume\": 4.6, \"speed\": 41, \"temp_inside\": 21.5, \"temp_outside\": 6, \"gas_type\": \"SP98\", \"ac\": 0, \"rain\": 0, \"sun\": 0}, {\"distance\": 12.3, \"consume\": 5.4, \"speed\": 55, \"temp_inside\": 21.5, \"temp_outside\": 8, \"gas_type\": \"SP98\", \"ac\": 0, \"rain\": 0, \"sun\": 0}, {\"distance\": 14.0, \"consume\": 4.3, \"speed\": 40, \"temp_inside\": 21.5, \"temp_outside\": 8, \"gas_type\": \"SP98\", \"ac\": 0, \"rain\": 0, \"sun\": 0}, {\"distance\": 11.8, \"consume\": 4.5, \"speed\": 37, \"temp_inside\": 21.5, \"temp_outside\": 4, \"gas_type\": \"SP98\", \"ac\": 1, \"rain\": 0, \"sun\": 0}, {\"distance\": 12.3, \"consume\": 5.2, \"speed\": 55, \"temp_inside\": 21.5, \"temp_outside\": 12, \"gas_type\": \"SP98\", \"ac\": 0, \"rain\": 0, \"sun\": 0}, {\"distance\": 2.0, \"consume\": 6.2, \"speed\": 20, \"temp_inside\": 21.5, \"temp_outside\": 10, \"gas_type\": \"SP98\", \"ac\": 0, \"rain\": 0, \"sun\": 0}, {\"distance\": 13.9, \"consume\": 5.1, \"speed\": 29, \"temp_inside\": 21.5, \"temp_outside\": 6, \"gas_type\": \"SP98\", \"ac\": 0, \"rain\": 0, \"sun\": 0}, {\"distance\": 9.7, \"consume\": 3.9, \"speed\": 42, \"temp_inside\": 21.5, \"temp_outside\": 8, \"gas_type\": \"SP98\", \"ac\": 0, \"rain\": 0, \"sun\": 0}, {\"distance\": 11.6, \"consume\": 5.0, \"speed\": 25, \"temp_inside\": 21.5, \"temp_outside\": 6, \"gas_type\": \"SP98\", \"ac\": 0, \"rain\": 0, \"sun\": 0}, {\"distance\": 14.2, \"consume\": 5.4, \"speed\": 38, \"temp_inside\": 21.5, \"temp_outside\": 7, \"gas_type\": \"SP98\", \"ac\": 0, \"rain\": 0, \"sun\": 0}, {\"distance\": 11.8, \"consume\": 4.5, \"speed\": 39, \"temp_inside\": 21.5, \"temp_outside\": 6, \"gas_type\": \"SP98\", \"ac\": 0, \"rain\": 0, \"sun\": 0}, {\"distance\": 24.8, \"consume\": 5.1, \"speed\": 50, \"temp_inside\": 21.5, \"temp_outside\": 9, \"gas_type\": \"SP98\", \"ac\": 0, \"rain\": 0, \"sun\": 0}, {\"distance\": 12.4, \"consume\": 4.7, \"speed\": 56, \"temp_inside\": 21.5, \"temp_outside\": 7, \"gas_type\": \"SP98\", \"ac\": 0, \"rain\": 0, \"sun\": 0}, {\"distance\": 34.8, \"consume\": 4.0, \"speed\": 28, \"temp_inside\": 20.0, \"temp_outside\": 4, \"gas_type\": \"SP98\", \"ac\": 0, \"rain\": 0, \"sun\": 0}, {\"distance\": 14.2, \"consume\": 5.4, \"speed\": 36, \"temp_inside\": 20.0, \"temp_outside\": 6, \"gas_type\": \"SP98\", \"ac\": 0, \"rain\": 0, \"sun\": 0}, {\"distance\": 5.2, \"consume\": 4.5, \"speed\": 39, \"temp_inside\": 20.0, \"temp_outside\": 10, \"gas_type\": \"SP98\", \"ac\": 0, \"rain\": 0, \"sun\": 0}, {\"distance\": 10.5, \"consume\": 3.6, \"speed\": 42, \"temp_inside\": 20.0, \"temp_outside\": 10, \"gas_type\": \"SP98\", \"ac\": 0, \"rain\": 0, \"sun\": 0}, {\"distance\": 12.3, \"consume\": 5.2, \"speed\": 57, \"temp_inside\": 20.0, \"temp_outside\": 10, \"gas_type\": \"SP98\", \"ac\": 0, \"rain\": 0, \"sun\": 0}, {\"distance\": 11.8, \"consume\": 4.9, \"speed\": 25, \"temp_inside\": 20.0, \"temp_outside\": 11, \"gas_type\": \"SP98\", \"ac\": 0, \"rain\": 0, \"sun\": 0}, {\"distance\": 12.3, \"consume\": 6.2, \"speed\": 58, \"temp_inside\": 20.0, \"temp_outside\": 11, \"gas_type\": \"SP98\", \"ac\": 0, \"rain\": 1, \"sun\": 0}, {\"distance\": 13.2, \"consume\": 4.3, \"speed\": 51, \"temp_inside\": 20.0, \"temp_outside\": 11, \"gas_type\": \"SP98\", \"ac\": 0, \"rain\": 1, \"sun\": 0}, {\"distance\": 13.0, \"consume\": 5.0, \"speed\": 45, \"temp_inside\": 20.0, \"temp_outside\": 11, \"gas_type\": \"SP98\", \"ac\": 0, \"rain\": 1, \"sun\": 0}, {\"distance\": 12.9, \"consume\": 5.1, \"speed\": 32, \"temp_inside\": 20.0, \"temp_outside\": 11, \"gas_type\": \"SP98\", \"ac\": 0, \"rain\": 0, \"sun\": 0}, {\"distance\": 13.9, \"consume\": 5.6, \"speed\": 22, \"temp_inside\": 20.0, \"temp_outside\": 8, \"gas_type\": \"SP98\", \"ac\": 0, \"rain\": 0, \"sun\": 0}, {\"distance\": 11.8, \"consume\": 4.3, \"speed\": 37, \"temp_inside\": 20.0, \"temp_outside\": 6, \"gas_type\": \"SP98\", \"ac\": 0, \"rain\": 0, \"sun\": 0}, {\"distance\": 12.2, \"consume\": 5.8, \"speed\": 60, \"temp_inside\": 20.0, \"temp_outside\": 11, \"gas_type\": \"SP98\", \"ac\": 0, \"rain\": 0, \"sun\": 0}, {\"distance\": 12.5, \"consume\": 4.0, \"speed\": 51, \"temp_inside\": 20.0, \"temp_outside\": 13, \"gas_type\": \"SP98\", \"ac\": 0, \"rain\": 0, \"sun\": 0}, {\"distance\": 12.4, \"consume\": 4.7, \"speed\": 43, \"temp_inside\": null, \"temp_outside\": 10, \"gas_type\": \"SP98\", \"ac\": 0, \"rain\": 0, \"sun\": 0}, {\"distance\": 11.8, \"consume\": 5.9, \"speed\": 21, \"temp_inside\": 20.0, \"temp_outside\": 9, \"gas_type\": \"SP98\", \"ac\": 1, \"rain\": 1, \"sun\": 0}, {\"distance\": 11.8, \"consume\": 5.3, \"speed\": 52, \"temp_inside\": null, \"temp_outside\": 11, \"gas_type\": \"SP98\", \"ac\": 0, \"rain\": 0, \"sun\": 0}, {\"distance\": 12.5, \"consume\": 4.2, \"speed\": 57, \"temp_inside\": 20.0, \"temp_outside\": 11, \"gas_type\": \"SP98\", \"ac\": 0, \"rain\": 0, \"sun\": 0}, {\"distance\": 15.7, \"consume\": 5.3, \"speed\": 33, \"temp_inside\": null, \"temp_outside\": 9, \"gas_type\": \"SP98\", \"ac\": 0, \"rain\": 0, \"sun\": 0}, {\"distance\": 12.9, \"consume\": 5.7, \"speed\": 35, \"temp_inside\": null, \"temp_outside\": 9, \"gas_type\": \"SP98\", \"ac\": 0, \"rain\": 0, \"sun\": 0}, {\"distance\": 6.4, \"consume\": 4.4, \"speed\": 37, \"temp_inside\": null, \"temp_outside\": 10, \"gas_type\": \"SP98\", \"ac\": 0, \"rain\": 0, \"sun\": 0}, {\"distance\": 5.3, \"consume\": 4.1, \"speed\": 34, \"temp_inside\": null, \"temp_outside\": 9, \"gas_type\": \"SP98\", \"ac\": 0, \"rain\": 0, \"sun\": 0}, {\"distance\": 26.2, \"consume\": 5.8, \"speed\": 71, \"temp_inside\": 21.0, \"temp_outside\": 8, \"gas_type\": \"SP98\", \"ac\": 1, \"rain\": 1, \"sun\": 0}, {\"distance\": 18.8, \"consume\": 5.0, \"speed\": 62, \"temp_inside\": null, \"temp_outside\": 9, \"gas_type\": \"SP98\", \"ac\": 0, \"rain\": 1, \"sun\": 0}, {\"distance\": 4.9, \"consume\": 6.9, \"speed\": 25, \"temp_inside\": 21.0, \"temp_outside\": 12, \"gas_type\": \"SP98\", \"ac\": 0, \"rain\": 1, \"sun\": 0}, {\"distance\": 12.4, \"consume\": 5.4, \"speed\": 18, \"temp_inside\": 21.0, \"temp_outside\": 11, \"gas_type\": \"SP98\", \"ac\": 1, \"rain\": 1, \"sun\": 0}, {\"distance\": 22.9, \"consume\": 5.3, \"speed\": 45, \"temp_inside\": 20.5, \"temp_outside\": 7, \"gas_type\": \"SP98\", \"ac\": 0, \"rain\": 0, \"sun\": 0}, {\"distance\": 162.7, \"consume\": 5.5, \"speed\": 75, \"temp_inside\": 23.0, \"temp_outside\": 1, \"gas_type\": \"SP98\", \"ac\": 0, \"rain\": 0, \"sun\": 0}, {\"distance\": 4.9, \"consume\": 6.5, \"speed\": 26, \"temp_inside\": 21.0, \"temp_outside\": 1, \"gas_type\": \"SP98\", \"ac\": 0, \"rain\": 0, \"sun\": 0}, {\"distance\": 11.8, \"consume\": 4.7, \"speed\": 36, \"temp_inside\": 21.0, \"temp_outside\": 4, \"gas_type\": \"SP98\", \"ac\": 0, \"rain\": 0, \"sun\": 0}, {\"distance\": 16.6, \"consume\": 5.1, \"speed\": 56, \"temp_inside\": 21.0, \"temp_outside\": 7, \"gas_type\": \"SP98\", \"ac\": 0, \"rain\": 0, \"sun\": 0}, {\"distance\": 12.4, \"consume\": 5.7, \"speed\": 37, \"temp_inside\": 21.0, \"temp_outside\": 7, \"gas_type\": \"SP98\", \"ac\": 0, \"rain\": 0, \"sun\": 0}, {\"distance\": 15.9, \"consume\": 5.4, \"speed\": 25, \"temp_inside\": 21.0, \"temp_outside\": 7, \"gas_type\": \"SP98\", \"ac\": 0, \"rain\": 0, \"sun\": 0}, {\"distance\": 5.1, \"consume\": 8.7, \"speed\": 21, \"temp_inside\": 23.5, \"temp_outside\": 5, \"gas_type\": \"SP98\", \"ac\": 0, \"rain\": 0, \"sun\": 0}, {\"distance\": 22.4, \"consume\": 4.9, \"speed\": 66, \"temp_inside\": 20.5, \"temp_outside\": 7, \"gas_type\": \"SP98\", \"ac\": 0, \"rain\": 0, \"sun\": 0}, {\"distance\": 31.1, \"consume\": 4.7, \"speed\": 42, \"temp_inside\": 20.5, \"temp_outside\": 7, \"gas_type\": \"SP98\", \"ac\": 0, \"rain\": 0, \"sun\": 0}, {\"distance\": 4.9, \"consume\": 6.3, \"speed\": 27, \"temp_inside\": 20.5, \"temp_outside\": 3, \"gas_type\": \"SP98\", \"ac\": 0, \"rain\": 0, \"sun\": 0}, {\"distance\": 11.8, \"consume\": 5.1, \"speed\": 26, \"temp_inside\": 23.0, \"temp_outside\": 4, \"gas_type\": \"SP98\", \"ac\": 0, \"rain\": 1, \"sun\": 0}, {\"distance\": 22.9, \"consume\": 6.0, \"speed\": 42, \"temp_inside\": 23.0, \"temp_outside\": 4, \"gas_type\": \"SP98\", \"ac\": 0, \"rain\": 1, \"sun\": 0}, {\"distance\": 12.4, \"consume\": 4.6, \"speed\": 38, \"temp_inside\": 23.0, \"temp_outside\": 1, \"gas_type\": \"SP98\", \"ac\": 0, \"rain\": 1, \"sun\": 0}, {\"distance\": 12.9, \"consume\": 5.8, \"speed\": 40, \"temp_inside\": 23.0, \"temp_outside\": 4, \"gas_type\": \"SP98\", \"ac\": 0, \"rain\": 0, \"sun\": 0}, {\"distance\": 11.8, \"consume\": 5.1, \"speed\": 43, \"temp_inside\": 23.0, \"temp_outside\": 0, \"gas_type\": \"SP98\", \"ac\": 0, \"rain\": 0, \"sun\": 0}, {\"distance\": 12.2, \"consume\": 5.8, \"speed\": 58, \"temp_inside\": 23.0, \"temp_outside\": 2, \"gas_type\": \"SP98\", \"ac\": 0, \"rain\": 0, \"sun\": 0}, {\"distance\": 24.8, \"consume\": 4.6, \"speed\": 55, \"temp_inside\": 23.0, \"temp_outside\": 3, \"gas_type\": \"SP98\", \"ac\": 0, \"rain\": 0, \"sun\": 0}, {\"distance\": 14.2, \"consume\": 5.6, \"speed\": 24, \"temp_inside\": 23.0, \"temp_outside\": 8, \"gas_type\": \"SP98\", \"ac\": 0, \"rain\": 0, \"sun\": 0}, {\"distance\": 11.8, \"consume\": 4.6, \"speed\": 38, \"temp_inside\": 23.0, \"temp_outside\": 0, \"gas_type\": \"SP98\", \"ac\": 0, \"rain\": 1, \"sun\": 0}, {\"distance\": 12.2, \"consume\": 6.3, \"speed\": 57, \"temp_inside\": 23.0, \"temp_outside\": 0, \"gas_type\": \"SP98\", \"ac\": 0, \"rain\": 1, \"sun\": 0}, {\"distance\": 24.7, \"consume\": 5.5, \"speed\": 56, \"temp_inside\": 25.0, \"temp_outside\": 1, \"gas_type\": \"SP98\", \"ac\": 0, \"rain\": 0, \"sun\": 0}, {\"distance\": 6.8, \"consume\": 4.3, \"speed\": 46, \"temp_inside\": 24.0, \"temp_outside\": 2, \"gas_type\": \"SP98\", \"ac\": 0, \"rain\": 0, \"sun\": 0}, {\"distance\": 17.3, \"consume\": 5.6, \"speed\": 37, \"temp_inside\": 21.5, \"temp_outside\": 1, \"gas_type\": \"SP98\", \"ac\": 0, \"rain\": 0, \"sun\": 0}, {\"distance\": 11.8, \"consume\": 4.3, \"speed\": 44, \"temp_inside\": 21.5, \"temp_outside\": -3, \"gas_type\": \"SP98\", \"ac\": 0, \"rain\": 0, \"sun\": 0}, {\"distance\": 15.9, \"consume\": 5.7, \"speed\": 46, \"temp_inside\": 21.5, \"temp_outside\": 5, \"gas_type\": \"SP98\", \"ac\": 0, \"rain\": 0, \"sun\": 0}, {\"distance\": 5.1, \"consume\": 6.4, \"speed\": 39, \"temp_inside\": 21.5, \"temp_outside\": 4, \"gas_type\": \"SP98\", \"ac\": 0, \"rain\": 0, \"sun\": 0}, {\"distance\": 16.1, \"consume\": 4.5, \"speed\": 33, \"temp_inside\": 21.5, \"temp_outside\": 6, \"gas_type\": \"SP98\", \"ac\": 0, \"rain\": 0, \"sun\": 0}, {\"distance\": 11.8, \"consume\": 4.5, \"speed\": 43, \"temp_inside\": 21.5, \"temp_outside\": 3, \"gas_type\": \"SP98\", \"ac\": 0, \"rain\": 0, \"sun\": 0}, {\"distance\": 4.2, \"consume\": 6.0, \"speed\": 26, \"temp_inside\": 21.5, \"temp_outside\": 5, \"gas_type\": \"SP98\", \"ac\": 0, \"rain\": 0, \"sun\": 0}, {\"distance\": 17.4, \"consume\": 5.1, \"speed\": 30, \"temp_inside\": 21.5, \"temp_outside\": 5, \"gas_type\": \"SP98\", \"ac\": 0, \"rain\": 0, \"sun\": 0}, {\"distance\": 23.5, \"consume\": 6.0, \"speed\": 25, \"temp_inside\": 21.5, \"temp_outside\": 5, \"gas_type\": \"SP98\", \"ac\": 0, \"rain\": 1, \"sun\": 0}, {\"distance\": 11.8, \"consume\": 4.5, \"speed\": 38, \"temp_inside\": 21.5, \"temp_outside\": 5, \"gas_type\": \"SP98\", \"ac\": 0, \"rain\": 1, \"sun\": 0}, {\"distance\": 12.3, \"consume\": 6.1, \"speed\": 61, \"temp_inside\": 21.5, \"temp_outside\": 10, \"gas_type\": \"SP98\", \"ac\": 0, \"rain\": 1, \"sun\": 0}, {\"distance\": 16.1, \"consume\": 5.4, \"speed\": 24, \"temp_inside\": 21.5, \"temp_outside\": 7, \"gas_type\": \"E10\", \"ac\": 0, \"rain\": 1, \"sun\": 0}, {\"distance\": 11.8, \"consume\": 4.3, \"speed\": 40, \"temp_inside\": 21.5, \"temp_outside\": 10, \"gas_type\": \"E10\", \"ac\": 0, \"rain\": 1, \"sun\": 0}, {\"distance\": 12.3, \"consume\": 5.4, \"speed\": 58, \"temp_inside\": 21.5, \"temp_outside\": 13, \"gas_type\": \"E10\", \"ac\": 0, \"rain\": 0, \"sun\": 0}, {\"distance\": 12.4, \"consume\": 4.3, \"speed\": 49, \"temp_inside\": 21.5, \"temp_outside\": 17, \"gas_type\": \"E10\", \"ac\": 0, \"rain\": 0, \"sun\": 0}, {\"distance\": 7.0, \"consume\": 5.2, \"speed\": 25, \"temp_inside\": 21.5, \"temp_outside\": 17, \"gas_type\": \"E10\", \"ac\": 0, \"rain\": 0, \"sun\": 0}, {\"distance\": 11.8, \"consume\": 4.1, \"speed\": 37, \"temp_inside\": 21.5, \"temp_outside\": 10, \"gas_type\": \"E10\", \"ac\": 0, \"rain\": 0, \"sun\": 0}, {\"distance\": 20.1, \"consume\": 4.4, \"speed\": 41, \"temp_inside\": 21.5, \"temp_outside\": 18, \"gas_type\": \"E10\", \"ac\": 0, \"rain\": 0, \"sun\": 0}, {\"distance\": 20.8, \"consume\": 4.5, \"speed\": 45, \"temp_inside\": 21.5, \"temp_outside\": 10, \"gas_type\": \"E10\", \"ac\": 0, \"rain\": 0, \"sun\": 0}, {\"distance\": 1.7, \"consume\": 10.8, \"speed\": 14, \"temp_inside\": 21.5, \"temp_outside\": 10, \"gas_type\": \"E10\", \"ac\": 0, \"rain\": 1, \"sun\": 0}, {\"distance\": 35.9, \"consume\": 4.7, \"speed\": 45, \"temp_inside\": 21.5, \"temp_outside\": 12, \"gas_type\": \"E10\", \"ac\": 0, \"rain\": 0, \"sun\": 0}, {\"distance\": 36.9, \"consume\": 4.8, \"speed\": 52, \"temp_inside\": 21.5, \"temp_outside\": 5, \"gas_type\": \"E10\", \"ac\": 0, \"rain\": 0, \"sun\": 0}, {\"distance\": 16.8, \"consume\": 4.0, \"speed\": 46, \"temp_inside\": 21.5, \"temp_outside\": 8, \"gas_type\": \"E10\", \"ac\": 0, \"rain\": 0, \"sun\": 0}, {\"distance\": 9.9, \"consume\": 5.0, \"speed\": 28, \"temp_inside\": 21.5, \"temp_outside\": 9, \"gas_type\": \"E10\", \"ac\": 0, \"rain\": 0, \"sun\": 0}, {\"distance\": 22.9, \"consume\": 4.6, \"speed\": 61, \"temp_inside\": 21.5, \"temp_outside\": 7, \"gas_type\": \"E10\", \"ac\": 0, \"rain\": 1, \"sun\": 0}, {\"distance\": 17.3, \"consume\": 5.0, \"speed\": 61, \"temp_inside\": 21.5, \"temp_outside\": 6, \"gas_type\": \"E10\", \"ac\": 1, \"rain\": 1, \"sun\": 0}, {\"distance\": 11.8, \"consume\": 4.3, \"speed\": 37, \"temp_inside\": 21.5, \"temp_outside\": 7, \"gas_type\": \"E10\", \"ac\": 0, \"rain\": 0, \"sun\": 0}, {\"distance\": 36.6, \"consume\": 5.2, \"speed\": 80, \"temp_inside\": 21.5, \"temp_outside\": 7, \"gas_type\": \"E10\", \"ac\": 0, \"rain\": 1, \"sun\": 0}, {\"distance\": 44.9, \"consume\": 4.7, \"speed\": 62, \"temp_inside\": 21.5, \"temp_outside\": 8, \"gas_type\": \"E10\", \"ac\": 0, \"rain\": 0, \"sun\": 0}, {\"distance\": 11.8, \"consume\": 4.2, \"speed\": 34, \"temp_inside\": 21.5, \"temp_outside\": 9, \"gas_type\": \"E10\", \"ac\": 0, \"rain\": 1, \"sun\": 0}, {\"distance\": 21.6, \"consume\": 5.3, \"speed\": 44, \"temp_inside\": 21.5, \"temp_outside\": 9, \"gas_type\": \"E10\", \"ac\": 0, \"rain\": 1, \"sun\": 0}, {\"distance\": 39.4, \"consume\": 5.3, \"speed\": 60, \"temp_inside\": 21.5, \"temp_outside\": 9, \"gas_type\": \"E10\", \"ac\": 0, \"rain\": 1, \"sun\": 0}, {\"distance\": 5.1, \"consume\": 8.1, \"speed\": 39, \"temp_inside\": 21.5, \"temp_outside\": 4, \"gas_type\": \"E10\", \"ac\": 0, \"rain\": 0, \"sun\": 0}, {\"distance\": 26.6, \"consume\": 4.8, \"speed\": 38, \"temp_inside\": 21.5, \"temp_outside\": 7, \"gas_type\": \"E10\", \"ac\": 0, \"rain\": 0, \"sun\": 0}, {\"distance\": 53.2, \"consume\": 5.1, \"speed\": 71, \"temp_inside\": 21.5, \"temp_outside\": 2, \"gas_type\": \"E10\", \"ac\": 0, \"rain\": 0, \"sun\": 0}, {\"distance\": 18.9, \"consume\": 4.4, \"speed\": 53, \"temp_inside\": 21.5, \"temp_outside\": 2, \"gas_type\": \"E10\", \"ac\": 0, \"rain\": 0, \"sun\": 0}, {\"distance\": 43.5, \"consume\": 5.0, \"speed\": 80, \"temp_inside\": 21.5, \"temp_outside\": 3, \"gas_type\": \"E10\", \"ac\": 0, \"rain\": 0, \"sun\": 0}, {\"distance\": 6.1, \"consume\": 6.3, \"speed\": 26, \"temp_inside\": 21.5, \"temp_outside\": 5, \"gas_type\": \"E10\", \"ac\": 0, \"rain\": 0, \"sun\": 0}, {\"distance\": 16.4, \"consume\": 4.8, \"speed\": 49, \"temp_inside\": 21.5, \"temp_outside\": 5, \"gas_type\": \"E10\", \"ac\": 0, \"rain\": 0, \"sun\": 0}, {\"distance\": 12.3, \"consume\": 6.1, \"speed\": 40, \"temp_inside\": 21.5, \"temp_outside\": 6, \"gas_type\": \"E10\", \"ac\": 0, \"rain\": 0, \"sun\": 0}, {\"distance\": 21.1, \"consume\": 4.6, \"speed\": 36, \"temp_inside\": 21.5, \"temp_outside\": 8, \"gas_type\": \"E10\", \"ac\": 0, \"rain\": 0, \"sun\": 0}, {\"distance\": 21.1, \"consume\": 4.8, \"speed\": 43, \"temp_inside\": 21.5, \"temp_outside\": 7, \"gas_type\": \"E10\", \"ac\": 0, \"rain\": 0, \"sun\": 0}, {\"distance\": 22.7, \"consume\": 4.7, \"speed\": 55, \"temp_inside\": 21.5, \"temp_outside\": 6, \"gas_type\": \"E10\", \"ac\": 0, \"rain\": 0, \"sun\": 0}, {\"distance\": 44.4, \"consume\": 4.8, \"speed\": 38, \"temp_inside\": 21.5, \"temp_outside\": 8, \"gas_type\": \"E10\", \"ac\": 0, \"rain\": 0, \"sun\": 0}, {\"distance\": 35.8, \"consume\": 4.4, \"speed\": 51, \"temp_inside\": 21.5, \"temp_outside\": 6, \"gas_type\": \"E10\", \"ac\": 0, \"rain\": 0, \"sun\": 0}, {\"distance\": 11.8, \"consume\": 4.9, \"speed\": 44, \"temp_inside\": 21.5, \"temp_outside\": 0, \"gas_type\": \"E10\", \"ac\": 0, \"rain\": 0, \"sun\": 0}, {\"distance\": 26.2, \"consume\": 4.9, \"speed\": 42, \"temp_inside\": 21.5, \"temp_outside\": 6, \"gas_type\": \"E10\", \"ac\": 0, \"rain\": 0, \"sun\": 0}, {\"distance\": 40.6, \"consume\": 4.4, \"speed\": 44, \"temp_inside\": 21.0, \"temp_outside\": 3, \"gas_type\": \"E10\", \"ac\": 0, \"rain\": 0, \"sun\": 0}, {\"distance\": 12.4, \"consume\": 5.3, \"speed\": 38, \"temp_inside\": 21.0, \"temp_outside\": -5, \"gas_type\": \"E10\", \"ac\": 0, \"rain\": 0, \"sun\": 0}, {\"distance\": 14.1, \"consume\": 5.3, \"speed\": 47, \"temp_inside\": 21.0, \"temp_outside\": -3, \"gas_type\": \"E10\", \"ac\": 0, \"rain\": 0, \"sun\": 0}, {\"distance\": 58.7, \"consume\": 4.8, \"speed\": 75, \"temp_inside\": 21.0, \"temp_outside\": 0, \"gas_type\": \"E10\", \"ac\": 0, \"rain\": 0, \"sun\": 0}, {\"distance\": 16.2, \"consume\": 5.2, \"speed\": 29, \"temp_inside\": 21.0, \"temp_outside\": 0, \"gas_type\": \"E10\", \"ac\": 0, \"rain\": 0, \"sun\": 0}, {\"distance\": 12.3, \"consume\": 4.9, \"speed\": 50, \"temp_inside\": 22.5, \"temp_outside\": 0, \"gas_type\": \"E10\", \"ac\": 0, \"rain\": 0, \"sun\": 0}, {\"distance\": 12.3, \"consume\": 7.1, \"speed\": 52, \"temp_inside\": 22.5, \"temp_outside\": 0, \"gas_type\": \"E10\", \"ac\": 1, \"rain\": 1, \"sun\": 0}, {\"distance\": 12.4, \"consume\": 5.2, \"speed\": 51, \"temp_inside\": 22.5, \"temp_outside\": 1, \"gas_type\": \"E10\", \"ac\": 0, \"rain\": 0, \"sun\": 0}, {\"distance\": 31.8, \"consume\": 4.7, \"speed\": 59, \"temp_inside\": 22.5, \"temp_outside\": 3, \"gas_type\": \"E10\", \"ac\": 0, \"rain\": 0, \"sun\": 0}, {\"distance\": 12.3, \"consume\": 5.1, \"speed\": 55, \"temp_inside\": 22.5, \"temp_outside\": 8, \"gas_type\": \"E10\", \"ac\": 0, \"rain\": 0, \"sun\": 0}, {\"distance\": 51.6, \"consume\": 5.0, \"speed\": 73, \"temp_inside\": 22.5, \"temp_outside\": 12, \"gas_type\": \"E10\", \"ac\": 0, \"rain\": 0, \"sun\": 0}, {\"distance\": 38.6, \"consume\": 4.6, \"speed\": 44, \"temp_inside\": 22.5, \"temp_outside\": 10, \"gas_type\": \"E10\", \"ac\": 0, \"rain\": 0, \"sun\": 0}, {\"distance\": 12.3, \"consume\": 4.8, \"speed\": 41, \"temp_inside\": 22.5, \"temp_outside\": 7, \"gas_type\": \"E10\", \"ac\": 0, \"rain\": 0, \"sun\": 0}, {\"distance\": 81.2, \"consume\": 4.4, \"speed\": 69, \"temp_inside\": 22.0, \"temp_outside\": 13, \"gas_type\": \"E10\", \"ac\": 0, \"rain\": 0, \"sun\": 0}, {\"distance\": 130.3, \"consume\": 4.6, \"speed\": 85, \"temp_inside\": 22.0, \"temp_outside\": 12, \"gas_type\": \"E10\", \"ac\": 0, \"rain\": 0, \"sun\": 0}, {\"distance\": 67.2, \"consume\": 4.3, \"speed\": 67, \"temp_inside\": 22.0, \"temp_outside\": 18, \"gas_type\": \"E10\", \"ac\": 0, \"rain\": 0, \"sun\": 0}, {\"distance\": 43.7, \"consume\": 4.7, \"speed\": 44, \"temp_inside\": 22.0, \"temp_outside\": 9, \"gas_type\": \"SP98\", \"ac\": 0, \"rain\": 1, \"sun\": 0}, {\"distance\": 12.1, \"consume\": 4.2, \"speed\": 43, \"temp_inside\": 22.0, \"temp_outside\": 4, \"gas_type\": \"SP98\", \"ac\": 0, \"rain\": 0, \"sun\": 0}, {\"distance\": 56.1, \"consume\": 4.8, \"speed\": 82, \"temp_inside\": 22.0, \"temp_outside\": 13, \"gas_type\": \"SP98\", \"ac\": 0, \"rain\": 0, \"sun\": 0}, {\"distance\": 39.0, \"consume\": 4.1, \"speed\": 61, \"temp_inside\": 22.0, \"temp_outside\": 16, \"gas_type\": \"SP98\", \"ac\": 0, \"rain\": 0, \"sun\": 0}, {\"distance\": 11.8, \"consume\": 4.5, \"speed\": 41, \"temp_inside\": 21.5, \"temp_outside\": 13, \"gas_type\": \"SP98\", \"ac\": 0, \"rain\": 0, \"sun\": 0}, {\"distance\": 38.5, \"consume\": 4.8, \"speed\": 63, \"temp_inside\": 21.5, \"temp_outside\": 14, \"gas_type\": \"SP98\", \"ac\": 0, \"rain\": 0, \"sun\": 0}, {\"distance\": 28.2, \"consume\": 4.6, \"speed\": 54, \"temp_inside\": 21.5, \"temp_outside\": 14, \"gas_type\": \"SP98\", \"ac\": 0, \"rain\": 0, \"sun\": 0}, {\"distance\": 2.9, \"consume\": 7.4, \"speed\": 24, \"temp_inside\": 21.5, \"temp_outside\": 14, \"gas_type\": \"SP98\", \"ac\": 0, \"rain\": 0, \"sun\": 0}, {\"distance\": 6.1, \"consume\": 5.6, \"speed\": 24, \"temp_inside\": 21.5, \"temp_outside\": 13, \"gas_type\": \"SP98\", \"ac\": 0, \"rain\": 0, \"sun\": 0}, {\"distance\": 19.6, \"consume\": 4.9, \"speed\": 43, \"temp_inside\": 21.5, \"temp_outside\": 13, \"gas_type\": \"SP98\", \"ac\": 0, \"rain\": 0, \"sun\": 0}, {\"distance\": 22.2, \"consume\": 3.8, \"speed\": 42, \"temp_inside\": null, \"temp_outside\": 15, \"gas_type\": \"SP98\", \"ac\": 0, \"rain\": 0, \"sun\": 0}, {\"distance\": 13.6, \"consume\": 4.5, \"speed\": 44, \"temp_inside\": 19.0, \"temp_outside\": 18, \"gas_type\": \"SP98\", \"ac\": 0, \"rain\": 0, \"sun\": 0}, {\"distance\": 12.6, \"consume\": 4.1, \"speed\": 33, \"temp_inside\": null, \"temp_outside\": 17, \"gas_type\": \"SP98\", \"ac\": 0, \"rain\": 0, \"sun\": 0}, {\"distance\": 8.7, \"consume\": 5.3, \"speed\": 28, \"temp_inside\": 22.5, \"temp_outside\": 12, \"gas_type\": \"SP98\", \"ac\": 1, \"rain\": 1, \"sun\": 0}, {\"distance\": 7.9, \"consume\": 4.7, \"speed\": 31, \"temp_inside\": 22.5, \"temp_outside\": 12, \"gas_type\": \"SP98\", \"ac\": 1, \"rain\": 0, \"sun\": 0}, {\"distance\": 2.4, \"consume\": 9.0, \"speed\": 26, \"temp_inside\": 20.0, \"temp_outside\": 10, \"gas_type\": \"SP98\", \"ac\": 0, \"rain\": 0, \"sun\": 0}, {\"distance\": 4.9, \"consume\": 6.3, \"speed\": 26, \"temp_inside\": 20.0, \"temp_outside\": 10, \"gas_type\": \"SP98\", \"ac\": 0, \"rain\": 0, \"sun\": 0}, {\"distance\": 18.1, \"consume\": 3.6, \"speed\": 36, \"temp_inside\": 20.0, \"temp_outside\": 19, \"gas_type\": \"SP98\", \"ac\": 0, \"rain\": 0, \"sun\": 0}, {\"distance\": 25.9, \"consume\": 3.7, \"speed\": 39, \"temp_inside\": 20.0, \"temp_outside\": 21, \"gas_type\": \"SP98\", \"ac\": 0, \"rain\": 0, \"sun\": 0}, {\"distance\": 1.3, \"consume\": 11.5, \"speed\": 21, \"temp_inside\": 20.0, \"temp_outside\": 10, \"gas_type\": \"SP98\", \"ac\": 0, \"rain\": 0, \"sun\": 0}, {\"distance\": 14.1, \"consume\": 5.0, \"speed\": 22, \"temp_inside\": 20.0, \"temp_outside\": 12, \"gas_type\": \"SP98\", \"ac\": 0, \"rain\": 0, \"sun\": 0}, {\"distance\": 13.4, \"consume\": 5.5, \"speed\": 31, \"temp_inside\": 20.0, \"temp_outside\": 9, \"gas_type\": \"SP98\", \"ac\": 0, \"rain\": 0, \"sun\": 0}, {\"distance\": 6.4, \"consume\": 4.7, \"speed\": 33, \"temp_inside\": 20.0, \"temp_outside\": 8, \"gas_type\": \"SP98\", \"ac\": 0, \"rain\": 0, \"sun\": 0}, {\"distance\": 12.9, \"consume\": 4.5, \"speed\": 42, \"temp_inside\": 20.0, \"temp_outside\": 13, \"gas_type\": \"SP98\", \"ac\": 0, \"rain\": 0, \"sun\": 0}, {\"distance\": 12.1, \"consume\": 4.4, \"speed\": 33, \"temp_inside\": 22.5, \"temp_outside\": 5, \"gas_type\": \"SP98\", \"ac\": 0, \"rain\": 0, \"sun\": 0}, {\"distance\": 15.7, \"consume\": 4.1, \"speed\": 32, \"temp_inside\": 22.5, \"temp_outside\": 13, \"gas_type\": \"SP98\", \"ac\": 0, \"rain\": 0, \"sun\": 0}, {\"distance\": 16.2, \"consume\": 4.4, \"speed\": 26, \"temp_inside\": 22.5, \"temp_outside\": 11, \"gas_type\": \"SP98\", \"ac\": 0, \"rain\": 0, \"sun\": 0}, {\"distance\": 12.8, \"consume\": 4.6, \"speed\": 22, \"temp_inside\": 22.5, \"temp_outside\": 12, \"gas_type\": \"SP98\", \"ac\": 0, \"rain\": 0, \"sun\": 0}, {\"distance\": 19.0, \"consume\": 4.4, \"speed\": 58, \"temp_inside\": 22.5, \"temp_outside\": 17, \"gas_type\": \"SP98\", \"ac\": 0, \"rain\": 0, \"sun\": 1}, {\"distance\": 29.0, \"consume\": 4.0, \"speed\": 27, \"temp_inside\": 22.5, \"temp_outside\": 12, \"gas_type\": \"SP98\", \"ac\": 0, \"rain\": 0, \"sun\": 0}, {\"distance\": 12.1, \"consume\": 5.0, \"speed\": 32, \"temp_inside\": 22.5, \"temp_outside\": 9, \"gas_type\": \"SP98\", \"ac\": 0, \"rain\": 0, \"sun\": 0}, {\"distance\": 12.3, \"consume\": 5.2, \"speed\": 55, \"temp_inside\": 22.5, \"temp_outside\": 10, \"gas_type\": \"SP98\", \"ac\": 0, \"rain\": 0, \"sun\": 0}, {\"distance\": 24.8, \"consume\": 4.0, \"speed\": 56, \"temp_inside\": 22.5, \"temp_outside\": 11, \"gas_type\": \"SP98\", \"ac\": 0, \"rain\": 0, \"sun\": 0}, {\"distance\": 12.9, \"consume\": 5.1, \"speed\": 34, \"temp_inside\": 22.5, \"temp_outside\": 8, \"gas_type\": \"SP98\", \"ac\": 0, \"rain\": 1, \"sun\": 0}, {\"distance\": 11.8, \"consume\": 4.5, \"speed\": 39, \"temp_inside\": 22.5, \"temp_outside\": 3, \"gas_type\": \"SP98\", \"ac\": 0, \"rain\": 0, \"sun\": 0}, {\"distance\": 31.4, \"consume\": 4.6, \"speed\": 62, \"temp_inside\": 22.5, \"temp_outside\": 11, \"gas_type\": \"SP98\", \"ac\": 0, \"rain\": 0, \"sun\": 0}, {\"distance\": 19.0, \"consume\": 5.1, \"speed\": 53, \"temp_inside\": 22.5, \"temp_outside\": 4, \"gas_type\": \"SP98\", \"ac\": 0, \"rain\": 1, \"sun\": 0}, {\"distance\": 13.0, \"consume\": 5.7, \"speed\": 38, \"temp_inside\": 22.5, \"temp_outside\": 3, \"gas_type\": \"SP98\", \"ac\": 1, \"rain\": 1, \"sun\": 0}, {\"distance\": 11.8, \"consume\": 4.8, \"speed\": 42, \"temp_inside\": 22.5, \"temp_outside\": 2, \"gas_type\": \"SP98\", \"ac\": 0, \"rain\": 0, \"sun\": 0}, {\"distance\": 13.0, \"consume\": 6.2, \"speed\": 32, \"temp_inside\": 22.5, \"temp_outside\": 4, \"gas_type\": \"SP98\", \"ac\": 0, \"rain\": 0, \"sun\": 0}, {\"distance\": 11.8, \"consume\": 5.0, \"speed\": 43, \"temp_inside\": 22.5, \"temp_outside\": 1, \"gas_type\": \"SP98\", \"ac\": 0, \"rain\": 0, \"sun\": 0}, {\"distance\": 27.1, \"consume\": 5.0, \"speed\": 69, \"temp_inside\": 22.5, \"temp_outside\": 8, \"gas_type\": \"SP98\", \"ac\": 0, \"rain\": 0, \"sun\": 0}, {\"distance\": 5.2, \"consume\": 4.6, \"speed\": 38, \"temp_inside\": 22.5, \"temp_outside\": 8, \"gas_type\": \"SP98\", \"ac\": 0, \"rain\": 0, \"sun\": 0}, {\"distance\": 19.0, \"consume\": 4.5, \"speed\": 29, \"temp_inside\": 22.5, \"temp_outside\": 10, \"gas_type\": \"E10\", \"ac\": 0, \"rain\": 0, \"sun\": 0}, {\"distance\": 12.4, \"consume\": 4.8, \"speed\": 38, \"temp_inside\": 22.5, \"temp_outside\": 1, \"gas_type\": \"E10\", \"ac\": 0, \"rain\": 0, \"sun\": 0}, {\"distance\": 25.2, \"consume\": 5.0, \"speed\": 55, \"temp_inside\": 22.5, \"temp_outside\": 9, \"gas_type\": \"E10\", \"ac\": 0, \"rain\": 0, \"sun\": 0}, {\"distance\": 14.3, \"consume\": 4.8, \"speed\": 36, \"temp_inside\": 22.5, \"temp_outside\": 10, \"gas_type\": \"E10\", \"ac\": 0, \"rain\": 0, \"sun\": 0}, {\"distance\": 11.8, \"consume\": 4.6, \"speed\": 40, \"temp_inside\": 22.5, \"temp_outside\": 2, \"gas_type\": \"E10\", \"ac\": 0, \"rain\": 0, \"sun\": 0}, {\"distance\": 16.9, \"consume\": 4.5, \"speed\": 48, \"temp_inside\": 22.5, \"temp_outside\": 9, \"gas_type\": \"E10\", \"ac\": 0, \"rain\": 0, \"sun\": 1}, {\"distance\": 12.4, \"consume\": 4.6, \"speed\": 55, \"temp_inside\": 22.5, \"temp_outside\": 11, \"gas_type\": \"E10\", \"ac\": 0, \"rain\": 0, \"sun\": 1}, {\"distance\": 17.4, \"consume\": 4.4, \"speed\": 36, \"temp_inside\": 22.5, \"temp_outside\": 12, \"gas_type\": \"E10\", \"ac\": 0, \"rain\": 0, \"sun\": 1}, {\"distance\": 9.2, \"consume\": 5.7, \"speed\": 33, \"temp_inside\": 22.5, \"temp_outside\": 8, \"gas_type\": \"E10\", \"ac\": 0, \"rain\": 1, \"sun\": 0}, {\"distance\": 12.3, \"consume\": 5.8, \"speed\": 54, \"temp_inside\": 22.5, \"temp_outside\": 10, \"gas_type\": \"E10\", \"ac\": 0, \"rain\": 1, \"sun\": 0}, {\"distance\": 13.0, \"consume\": 5.9, \"speed\": 32, \"temp_inside\": 22.5, \"temp_outside\": 10, \"gas_type\": \"E10\", \"ac\": 0, \"rain\": 0, \"sun\": 0}, {\"distance\": 11.8, \"consume\": 6.1, \"speed\": 16, \"temp_inside\": 22.5, \"temp_outside\": 6, \"gas_type\": \"E10\", \"ac\": 0, \"rain\": 1, \"sun\": 0}, {\"distance\": 13.0, \"consume\": 5.7, \"speed\": 37, \"temp_inside\": 22.5, \"temp_outside\": 11, \"gas_type\": \"E10\", \"ac\": 0, \"rain\": 1, \"sun\": 0}, {\"distance\": 12.3, \"consume\": 5.0, \"speed\": 42, \"temp_inside\": 22.5, \"temp_outside\": 10, \"gas_type\": \"E10\", \"ac\": 0, \"rain\": 0, \"sun\": 0}, {\"distance\": 12.3, \"consume\": 5.2, \"speed\": 57, \"temp_inside\": 22.5, \"temp_outside\": 15, \"gas_type\": \"E10\", \"ac\": 0, \"rain\": 0, \"sun\": 1}, {\"distance\": 12.5, \"consume\": 4.3, \"speed\": 57, \"temp_inside\": 22.5, \"temp_outside\": 16, \"gas_type\": \"E10\", \"ac\": 0, \"rain\": 0, \"sun\": 1}, {\"distance\": 31.5, \"consume\": 4.1, \"speed\": 30, \"temp_inside\": 22.5, \"temp_outside\": 16, \"gas_type\": \"E10\", \"ac\": 0, \"rain\": 0, \"sun\": 1}, {\"distance\": 11.8, \"consume\": 4.4, \"speed\": 42, \"temp_inside\": 22.5, \"temp_outside\": 8, \"gas_type\": \"E10\", \"ac\": 0, \"rain\": 0, \"sun\": 0}, {\"distance\": 24.9, \"consume\": 4.5, \"speed\": 53, \"temp_inside\": 22.5, \"temp_outside\": 14, \"gas_type\": \"E10\", \"ac\": 0, \"rain\": 0, \"sun\": 0}, {\"distance\": 17.0, \"consume\": 3.9, \"speed\": 46, \"temp_inside\": 22.5, \"temp_outside\": 14, \"gas_type\": \"E10\", \"ac\": 0, \"rain\": 0, \"sun\": 1}, {\"distance\": 2.0, \"consume\": 8.1, \"speed\": 20, \"temp_inside\": 22.5, \"temp_outside\": 14, \"gas_type\": \"E10\", \"ac\": 0, \"rain\": 0, \"sun\": 0}, {\"distance\": 11.8, \"consume\": 4.4, \"speed\": 33, \"temp_inside\": 22.5, \"temp_outside\": 8, \"gas_type\": \"E10\", \"ac\": 0, \"rain\": 0, \"sun\": 0}, {\"distance\": 7.4, \"consume\": 5.0, \"speed\": 31, \"temp_inside\": 22.5, \"temp_outside\": 12, \"gas_type\": \"E10\", \"ac\": 0, \"rain\": 0, \"sun\": 0}, {\"distance\": 12.4, \"consume\": 4.7, \"speed\": 55, \"temp_inside\": 22.5, \"temp_outside\": 14, \"gas_type\": \"E10\", \"ac\": 0, \"rain\": 0, \"sun\": 1}, {\"distance\": 2.0, \"consume\": 6.0, \"speed\": 22, \"temp_inside\": 22.5, \"temp_outside\": 14, \"gas_type\": \"E10\", \"ac\": 0, \"rain\": 0, \"sun\": 0}, {\"distance\": 14.0, \"consume\": 5.0, \"speed\": 41, \"temp_inside\": 22.5, \"temp_outside\": 8, \"gas_type\": \"E10\", \"ac\": 0, \"rain\": 0, \"sun\": 0}, {\"distance\": 25.7, \"consume\": 5.0, \"speed\": 45, \"temp_inside\": 22.5, \"temp_outside\": 7, \"gas_type\": \"E10\", \"ac\": 0, \"rain\": 0, \"sun\": 0}, {\"distance\": 24.5, \"consume\": 3.9, \"speed\": 50, \"temp_inside\": null, \"temp_outside\": 15, \"gas_type\": \"E10\", \"ac\": 0, \"rain\": 0, \"sun\": 1}, {\"distance\": 11.8, \"consume\": 4.5, \"speed\": 28, \"temp_inside\": 22.5, \"temp_outside\": 12, \"gas_type\": \"E10\", \"ac\": 0, \"rain\": 0, \"sun\": 0}, {\"distance\": 4.1, \"consume\": 5.4, \"speed\": 24, \"temp_inside\": 22.5, \"temp_outside\": 13, \"gas_type\": \"E10\", \"ac\": 0, \"rain\": 0, \"sun\": 0}, {\"distance\": 4.2, \"consume\": 5.6, \"speed\": 29, \"temp_inside\": 22.0, \"temp_outside\": 17, \"gas_type\": \"E10\", \"ac\": 0, \"rain\": 0, \"sun\": 0}, {\"distance\": 4.2, \"consume\": 3.9, \"speed\": 29, \"temp_inside\": 22.0, \"temp_outside\": 18, \"gas_type\": \"E10\", \"ac\": 0, \"rain\": 0, \"sun\": 1}, {\"distance\": 16.0, \"consume\": 4.0, \"speed\": 40, \"temp_inside\": 22.0, \"temp_outside\": 10, \"gas_type\": \"E10\", \"ac\": 0, \"rain\": 0, \"sun\": 0}, {\"distance\": 22.9, \"consume\": 4.0, \"speed\": 29, \"temp_inside\": null, \"temp_outside\": 21, \"gas_type\": \"E10\", \"ac\": 0, \"rain\": 0, \"sun\": 0}, {\"distance\": 16.0, \"consume\": 3.8, \"speed\": 42, \"temp_inside\": null, \"temp_outside\": 8, \"gas_type\": \"E10\", \"ac\": 0, \"rain\": 0, \"sun\": 0}, {\"distance\": 15.4, \"consume\": 4.5, \"speed\": 50, \"temp_inside\": 22.0, \"temp_outside\": 14, \"gas_type\": \"E10\", \"ac\": 0, \"rain\": 0, \"sun\": 0}, {\"distance\": 16.0, \"consume\": 3.8, \"speed\": 41, \"temp_inside\": 22.0, \"temp_outside\": 12, \"gas_type\": \"E10\", \"ac\": 0, \"rain\": 0, \"sun\": 0}, {\"distance\": 4.2, \"consume\": 5.6, \"speed\": 32, \"temp_inside\": 22.0, \"temp_outside\": 18, \"gas_type\": \"E10\", \"ac\": 0, \"rain\": 0, \"sun\": 0}, {\"distance\": 101.9, \"consume\": 5.2, \"speed\": 75, \"temp_inside\": 22.0, \"temp_outside\": 18, \"gas_type\": \"E10\", \"ac\": 0, \"rain\": 0, \"sun\": 0}, {\"distance\": 93.9, \"consume\": 4.8, \"speed\": 88, \"temp_inside\": 23.0, \"temp_outside\": 18, \"gas_type\": \"E10\", \"ac\": 1, \"rain\": 0, \"sun\": 1}, {\"distance\": 25.7, \"consume\": 4.9, \"speed\": 50, \"temp_inside\": 22.0, \"temp_outside\": 10, \"gas_type\": \"SP98\", \"ac\": 0, \"rain\": 1, \"sun\": 0}, {\"distance\": 16.0, \"consume\": 4.1, \"speed\": 40, \"temp_inside\": 22.0, \"temp_outside\": 10, \"gas_type\": \"SP98\", \"ac\": 0, \"rain\": 0, \"sun\": 0}, {\"distance\": 16.1, \"consume\": 4.5, \"speed\": 32, \"temp_inside\": 22.0, \"temp_outside\": 19, \"gas_type\": \"SP98\", \"ac\": 0, \"rain\": 0, \"sun\": 0}, {\"distance\": 16.0, \"consume\": 4.4, \"speed\": 40, \"temp_inside\": 22.0, \"temp_outside\": 7, \"gas_type\": \"SP98\", \"ac\": 1, \"rain\": 1, \"sun\": 0}, {\"distance\": 16.0, \"consume\": 4.5, \"speed\": 41, \"temp_inside\": 22.0, \"temp_outside\": 11, \"gas_type\": \"SP98\", \"ac\": 0, \"rain\": 0, \"sun\": 0}, {\"distance\": 24.7, \"consume\": 4.5, \"speed\": 26, \"temp_inside\": 22.0, \"temp_outside\": 10, \"gas_type\": \"SP98\", \"ac\": 0, \"rain\": 0, \"sun\": 0}, {\"distance\": 16.0, \"consume\": 3.9, \"speed\": 42, \"temp_inside\": 22.0, \"temp_outside\": 8, \"gas_type\": \"SP98\", \"ac\": 0, \"rain\": 0, \"sun\": 0}, {\"distance\": 15.4, \"consume\": 4.6, \"speed\": 43, \"temp_inside\": 22.0, \"temp_outside\": 16, \"gas_type\": \"SP98\", \"ac\": 0, \"rain\": 0, \"sun\": 0}, {\"distance\": 16.0, \"consume\": 3.8, \"speed\": 40, \"temp_inside\": 22.0, \"temp_outside\": 8, \"gas_type\": \"SP98\", \"ac\": 0, \"rain\": 0, \"sun\": 0}, {\"distance\": 32.1, \"consume\": 4.5, \"speed\": 50, \"temp_inside\": 22.0, \"temp_outside\": 16, \"gas_type\": \"SP98\", \"ac\": 0, \"rain\": 0, \"sun\": 0}, {\"distance\": 25.9, \"consume\": 4.4, \"speed\": 40, \"temp_inside\": 22.0, \"temp_outside\": 14, \"gas_type\": \"SP98\", \"ac\": 0, \"rain\": 0, \"sun\": 0}, {\"distance\": 48.6, \"consume\": 4.3, \"speed\": 44, \"temp_inside\": 22.0, \"temp_outside\": 12, \"gas_type\": \"SP98\", \"ac\": 0, \"rain\": 0, \"sun\": 0}, {\"distance\": 37.2, \"consume\": 4.0, \"speed\": 45, \"temp_inside\": 22.0, \"temp_outside\": 20, \"gas_type\": \"SP98\", \"ac\": 0, \"rain\": 0, \"sun\": 1}, {\"distance\": 28.8, \"consume\": 3.9, \"speed\": 35, \"temp_inside\": 22.0, \"temp_outside\": 15, \"gas_type\": \"SP98\", \"ac\": 0, \"rain\": 0, \"sun\": 1}, {\"distance\": 6.7, \"consume\": 5.0, \"speed\": 30, \"temp_inside\": 22.0, \"temp_outside\": 17, \"gas_type\": \"SP98\", \"ac\": 0, \"rain\": 0, \"sun\": 0}, {\"distance\": 7.4, \"consume\": 4.1, \"speed\": 25, \"temp_inside\": 22.0, \"temp_outside\": 18, \"gas_type\": \"SP98\", \"ac\": 0, \"rain\": 0, \"sun\": 1}, {\"distance\": 17.3, \"consume\": 4.1, \"speed\": 22, \"temp_inside\": 22.0, \"temp_outside\": 25, \"gas_type\": \"SP98\", \"ac\": 0, \"rain\": 0, \"sun\": 1}, {\"distance\": 6.6, \"consume\": 5.6, \"speed\": 43, \"temp_inside\": 22.0, \"temp_outside\": 16, \"gas_type\": \"SP98\", \"ac\": 0, \"rain\": 0, \"sun\": 0}, {\"distance\": 14.3, \"consume\": 4.1, \"speed\": 26, \"temp_inside\": 22.0, \"temp_outside\": 20, \"gas_type\": \"SP98\", \"ac\": 0, \"rain\": 0, \"sun\": 0}, {\"distance\": 13.3, \"consume\": 4.6, \"speed\": 33, \"temp_inside\": 22.0, \"temp_outside\": 18, \"gas_type\": \"SP98\", \"ac\": 0, \"rain\": 0, \"sun\": 0}, {\"distance\": 8.3, \"consume\": 4.9, \"speed\": 26, \"temp_inside\": 22.0, \"temp_outside\": 23, \"gas_type\": \"SP98\", \"ac\": 0, \"rain\": 0, \"sun\": 0}, {\"distance\": 12.7, \"consume\": 4.5, \"speed\": 39, \"temp_inside\": 22.0, \"temp_outside\": 27, \"gas_type\": \"SP98\", \"ac\": 0, \"rain\": 0, \"sun\": 1}, {\"distance\": 16.5, \"consume\": 4.1, \"speed\": 47, \"temp_inside\": 22.0, \"temp_outside\": 14, \"gas_type\": \"SP98\", \"ac\": 0, \"rain\": 0, \"sun\": 0}, {\"distance\": 20.6, \"consume\": 4.1, \"speed\": 38, \"temp_inside\": 22.0, \"temp_outside\": 21, \"gas_type\": \"SP98\", \"ac\": 0, \"rain\": 0, \"sun\": 0}, {\"distance\": 16.3, \"consume\": 4.5, \"speed\": 58, \"temp_inside\": 22.0, \"temp_outside\": 16, \"gas_type\": \"SP98\", \"ac\": 0, \"rain\": 0, \"sun\": 0}, {\"distance\": 18.7, \"consume\": 4.2, \"speed\": 65, \"temp_inside\": 25.0, \"temp_outside\": 18, \"gas_type\": \"SP98\", \"ac\": 1, \"rain\": 0, \"sun\": 1}, {\"distance\": 36.5, \"consume\": 3.9, \"speed\": 54, \"temp_inside\": 23.0, \"temp_outside\": 18, \"gas_type\": \"SP98\", \"ac\": 0, \"rain\": 0, \"sun\": 1}, {\"distance\": 19.0, \"consume\": 5.0, \"speed\": 35, \"temp_inside\": 22.0, \"temp_outside\": 15, \"gas_type\": \"SP98\", \"ac\": 1, \"rain\": 0, \"sun\": 1}, {\"distance\": 16.6, \"consume\": 4.4, \"speed\": 46, \"temp_inside\": 22.0, \"temp_outside\": 5, \"gas_type\": \"SP98\", \"ac\": 1, \"rain\": 0, \"sun\": 0}, {\"distance\": 29.9, \"consume\": 4.5, \"speed\": 32, \"temp_inside\": 22.0, \"temp_outside\": 18, \"gas_type\": \"SP98\", \"ac\": 1, \"rain\": 0, \"sun\": 0}, {\"distance\": 16.0, \"consume\": 3.8, \"speed\": 42, \"temp_inside\": 22.0, \"temp_outside\": 11, \"gas_type\": \"SP98\", \"ac\": 0, \"rain\": 0, \"sun\": 0}, {\"distance\": 21.1, \"consume\": 5.1, \"speed\": 33, \"temp_inside\": 22.0, \"temp_outside\": 10, \"gas_type\": \"SP98\", \"ac\": 0, \"rain\": 1, \"sun\": 0}, {\"distance\": 16.0, \"consume\": 3.9, \"speed\": 40, \"temp_inside\": 22.0, \"temp_outside\": 10, \"gas_type\": \"SP98\", \"ac\": 0, \"rain\": 0, \"sun\": 0}, {\"distance\": 11.9, \"consume\": 5.3, \"speed\": 34, \"temp_inside\": 22.0, \"temp_outside\": 13, \"gas_type\": \"SP98\", \"ac\": 0, \"rain\": 0, \"sun\": 0}, {\"distance\": 10.1, \"consume\": 4.2, \"speed\": 35, \"temp_inside\": 22.0, \"temp_outside\": 16, \"gas_type\": \"SP98\", \"ac\": 0, \"rain\": 0, \"sun\": 0}, {\"distance\": 31.9, \"consume\": 4.3, \"speed\": 33, \"temp_inside\": 22.0, \"temp_outside\": 16, \"gas_type\": \"SP98\", \"ac\": 0, \"rain\": 0, \"sun\": 0}, {\"distance\": 18.7, \"consume\": 4.0, \"speed\": 60, \"temp_inside\": 22.0, \"temp_outside\": 13, \"gas_type\": \"SP98\", \"ac\": 0, \"rain\": 0, \"sun\": 0}, {\"distance\": 10.8, \"consume\": 4.7, \"speed\": 48, \"temp_inside\": 22.0, \"temp_outside\": 17, \"gas_type\": \"SP98\", \"ac\": 0, \"rain\": 0, \"sun\": 1}, {\"distance\": 19.8, \"consume\": 4.0, \"speed\": 56, \"temp_inside\": 22.0, \"temp_outside\": 17, \"gas_type\": \"SP98\", \"ac\": 0, \"rain\": 0, \"sun\": 1}, {\"distance\": 11.3, \"consume\": 4.3, \"speed\": 38, \"temp_inside\": 22.0, \"temp_outside\": 17, \"gas_type\": \"SP98\", \"ac\": 0, \"rain\": 0, \"sun\": 0}, {\"distance\": 11.5, \"consume\": 5.3, \"speed\": 53, \"temp_inside\": 22.0, \"temp_outside\": 15, \"gas_type\": \"SP98\", \"ac\": 0, \"rain\": 0, \"sun\": 0}, {\"distance\": 21.4, \"consume\": 5.2, \"speed\": 51, \"temp_inside\": 22.0, \"temp_outside\": 13, \"gas_type\": \"SP98\", \"ac\": 0, \"rain\": 0, \"sun\": 0}, {\"distance\": 32.0, \"consume\": 4.9, \"speed\": 53, \"temp_inside\": 22.0, \"temp_outside\": 15, \"gas_type\": \"SP98\", \"ac\": 0, \"rain\": 0, \"sun\": 0}, {\"distance\": 41.9, \"consume\": 4.7, \"speed\": 53, \"temp_inside\": 22.0, \"temp_outside\": 14, \"gas_type\": \"SP98\", \"ac\": 0, \"rain\": 0, \"sun\": 0}, {\"distance\": 211.0, \"consume\": 4.6, \"speed\": 80, \"temp_inside\": 22.0, \"temp_outside\": 20, \"gas_type\": \"SP98\", \"ac\": 0, \"rain\": 0, \"sun\": 0}, {\"distance\": 216.1, \"consume\": 5.3, \"speed\": 90, \"temp_inside\": 22.0, \"temp_outside\": 21, \"gas_type\": \"SP98\", \"ac\": 0, \"rain\": 0, \"sun\": 1}, {\"distance\": 25.5, \"consume\": 3.6, \"speed\": 27, \"temp_inside\": 22.0, \"temp_outside\": 27, \"gas_type\": \"SP98\", \"ac\": 0, \"rain\": 0, \"sun\": 1}, {\"distance\": 16.6, \"consume\": 4.2, \"speed\": 52, \"temp_inside\": 22.0, \"temp_outside\": 15, \"gas_type\": \"SP98\", \"ac\": 0, \"rain\": 1, \"sun\": 0}, {\"distance\": 25.9, \"consume\": 4.1, \"speed\": 43, \"temp_inside\": 22.0, \"temp_outside\": 24, \"gas_type\": \"SP98\", \"ac\": 0, \"rain\": 0, \"sun\": 0}, {\"distance\": 16.5, \"consume\": 4.0, \"speed\": 48, \"temp_inside\": 22.0, \"temp_outside\": 15, \"gas_type\": \"SP98\", \"ac\": 0, \"rain\": 0, \"sun\": 0}, {\"distance\": 22.1, \"consume\": 3.9, \"speed\": 29, \"temp_inside\": 22.0, \"temp_outside\": 26, \"gas_type\": \"SP98\", \"ac\": 0, \"rain\": 0, \"sun\": 0}, {\"distance\": 16.6, \"consume\": 3.7, \"speed\": 49, \"temp_inside\": 22.0, \"temp_outside\": 17, \"gas_type\": \"E10\", \"ac\": 0, \"rain\": 0, \"sun\": 0}, {\"distance\": 15.4, \"consume\": 4.5, \"speed\": 43, \"temp_inside\": 22.0, \"temp_outside\": 24, \"gas_type\": \"E10\", \"ac\": 0, \"rain\": 0, \"sun\": 0}, {\"distance\": 16.5, \"consume\": 3.9, \"speed\": 43, \"temp_inside\": 22.0, \"temp_outside\": 17, \"gas_type\": \"E10\", \"ac\": 0, \"rain\": 0, \"sun\": 0}, {\"distance\": 15.4, \"consume\": 5.1, \"speed\": 21, \"temp_inside\": 22.0, \"temp_outside\": 24, \"gas_type\": \"E10\", \"ac\": 0, \"rain\": 0, \"sun\": 0}, {\"distance\": 18.4, \"consume\": 4.2, \"speed\": 59, \"temp_inside\": 22.0, \"temp_outside\": 24, \"gas_type\": \"E10\", \"ac\": 0, \"rain\": 0, \"sun\": 0}, {\"distance\": 39.5, \"consume\": 4.2, \"speed\": 58, \"temp_inside\": 22.0, \"temp_outside\": 25, \"gas_type\": \"E10\", \"ac\": 0, \"rain\": 0, \"sun\": 0}, {\"distance\": 21.5, \"consume\": 4.8, \"speed\": 47, \"temp_inside\": 25.0, \"temp_outside\": 27, \"gas_type\": \"E10\", \"ac\": 1, \"rain\": 0, \"sun\": 1}, {\"distance\": 4.8, \"consume\": 4.7, \"speed\": 26, \"temp_inside\": 25.0, \"temp_outside\": 18, \"gas_type\": \"E10\", \"ac\": 0, \"rain\": 0, \"sun\": 0}, {\"distance\": 100.9, \"consume\": 4.7, \"speed\": 87, \"temp_inside\": 23.5, \"temp_outside\": 22, \"gas_type\": \"E10\", \"ac\": 0, \"rain\": 0, \"sun\": 0}, {\"distance\": 129.7, \"consume\": 4.6, \"speed\": 58, \"temp_inside\": 24.0, \"temp_outside\": 21, \"gas_type\": \"E10\", \"ac\": 0, \"rain\": 0, \"sun\": 0}, {\"distance\": 16.6, \"consume\": 3.8, \"speed\": 43, \"temp_inside\": 21.5, \"temp_outside\": 16, \"gas_type\": \"E10\", \"ac\": 0, \"rain\": 0, \"sun\": 0}, {\"distance\": 15.4, \"consume\": 4.2, \"speed\": 50, \"temp_inside\": 21.5, \"temp_outside\": 21, \"gas_type\": \"E10\", \"ac\": 0, \"rain\": 0, \"sun\": 0}, {\"distance\": 16.0, \"consume\": 3.7, \"speed\": 45, \"temp_inside\": 22.0, \"temp_outside\": 17, \"gas_type\": \"E10\", \"ac\": 0, \"rain\": 0, \"sun\": 0}, {\"distance\": 16.0, \"consume\": 4.2, \"speed\": 41, \"temp_inside\": 22.0, \"temp_outside\": 15, \"gas_type\": \"E10\", \"ac\": 0, \"rain\": 0, \"sun\": 0}, {\"distance\": 15.4, \"consume\": 4.1, \"speed\": 45, \"temp_inside\": 22.0, \"temp_outside\": 24, \"gas_type\": \"E10\", \"ac\": 0, \"rain\": 0, \"sun\": 0}, {\"distance\": 16.0, \"consume\": 4.0, \"speed\": 43, \"temp_inside\": 22.0, \"temp_outside\": 16, \"gas_type\": \"E10\", \"ac\": 0, \"rain\": 0, \"sun\": 0}, {\"distance\": 21.0, \"consume\": 3.8, \"speed\": 37, \"temp_inside\": 22.0, \"temp_outside\": 21, \"gas_type\": \"E10\", \"ac\": 0, \"rain\": 0, \"sun\": 0}, {\"distance\": 15.4, \"consume\": 3.8, \"speed\": 47, \"temp_inside\": 22.0, \"temp_outside\": 24, \"gas_type\": \"E10\", \"ac\": 0, \"rain\": 0, \"sun\": 0}, {\"distance\": 16.0, \"consume\": 3.8, \"speed\": 42, \"temp_inside\": 22.0, \"temp_outside\": 17, \"gas_type\": \"E10\", \"ac\": 0, \"rain\": 0, \"sun\": 0}, {\"distance\": 16.1, \"consume\": 5.1, \"speed\": 30, \"temp_inside\": 25.0, \"temp_outside\": 16, \"gas_type\": \"E10\", \"ac\": 1, \"rain\": 1, \"sun\": 0}, {\"distance\": 16.0, \"consume\": 4.0, \"speed\": 42, \"temp_inside\": 22.0, \"temp_outside\": 15, \"gas_type\": \"E10\", \"ac\": 0, \"rain\": 0, \"sun\": 0}, {\"distance\": 15.4, \"consume\": 4.8, \"speed\": 40, \"temp_inside\": 22.0, \"temp_outside\": 18, \"gas_type\": \"E10\", \"ac\": 0, \"rain\": 0, \"sun\": 0}, {\"distance\": 17.2, \"consume\": 3.9, \"speed\": 35, \"temp_inside\": 22.0, \"temp_outside\": 16, \"gas_type\": \"E10\", \"ac\": 0, \"rain\": 0, \"sun\": 0}, {\"distance\": 16.6, \"consume\": 4.6, \"speed\": 50, \"temp_inside\": 22.0, \"temp_outside\": 25, \"gas_type\": \"E10\", \"ac\": 0, \"rain\": 0, \"sun\": 0}, {\"distance\": 18.3, \"consume\": 4.3, \"speed\": 46, \"temp_inside\": 22.0, \"temp_outside\": 16, \"gas_type\": \"SP98\", \"ac\": 0, \"rain\": 0, \"sun\": 0}, {\"distance\": 16.1, \"consume\": 4.8, \"speed\": 36, \"temp_inside\": 22.0, \"temp_outside\": 18, \"gas_type\": \"SP98\", \"ac\": 0, \"rain\": 1, \"sun\": 0}, {\"distance\": 16.0, \"consume\": 4.1, \"speed\": 46, \"temp_inside\": 22.0, \"temp_outside\": 17, \"gas_type\": \"SP98\", \"ac\": 0, \"rain\": 0, \"sun\": 0}, {\"distance\": 16.3, \"consume\": 4.0, \"speed\": 35, \"temp_inside\": 22.0, \"temp_outside\": 23, \"gas_type\": \"SP98\", \"ac\": 0, \"rain\": 0, \"sun\": 0}, {\"distance\": 16.0, \"consume\": 3.7, \"speed\": 44, \"temp_inside\": 22.0, \"temp_outside\": 16, \"gas_type\": \"SP98\", \"ac\": 0, \"rain\": 0, \"sun\": 0}, {\"distance\": 18.3, \"consume\": 4.3, \"speed\": 46, \"temp_inside\": 22.0, \"temp_outside\": 23, \"gas_type\": \"SP98\", \"ac\": 0, \"rain\": 0, \"sun\": 0}, {\"distance\": 4.5, \"consume\": 5.2, \"speed\": 23, \"temp_inside\": 22.0, \"temp_outside\": 23, \"gas_type\": \"SP98\", \"ac\": 0, \"rain\": 0, \"sun\": 1}, {\"distance\": 17.0, \"consume\": 4.2, \"speed\": 48, \"temp_inside\": 22.0, \"temp_outside\": 16, \"gas_type\": \"SP98\", \"ac\": 0, \"rain\": 0, \"sun\": 0}, {\"distance\": 6.1, \"consume\": 5.0, \"speed\": 35, \"temp_inside\": 24.5, \"temp_outside\": 18, \"gas_type\": \"SP98\", \"ac\": 0, \"rain\": 0, \"sun\": 0}, {\"distance\": 6.1, \"consume\": 5.0, \"speed\": 33, \"temp_inside\": 22.0, \"temp_outside\": 24, \"gas_type\": \"SP98\", \"ac\": 0, \"rain\": 0, \"sun\": 1}, {\"distance\": 17.3, \"consume\": 4.2, \"speed\": 36, \"temp_inside\": 22.0, \"temp_outside\": 22, \"gas_type\": \"SP98\", \"ac\": 0, \"rain\": 0, \"sun\": 0}, {\"distance\": 6.0, \"consume\": 4.8, \"speed\": 27, \"temp_inside\": 22.0, \"temp_outside\": 17, \"gas_type\": \"SP98\", \"ac\": 0, \"rain\": 0, \"sun\": 0}, {\"distance\": 16.0, \"consume\": 4.1, \"speed\": 45, \"temp_inside\": 22.0, \"temp_outside\": 15, \"gas_type\": \"SP98\", \"ac\": 0, \"rain\": 0, \"sun\": 0}, {\"distance\": 15.4, \"consume\": 4.9, \"speed\": 55, \"temp_inside\": 22.0, \"temp_outside\": 18, \"gas_type\": \"SP98\", \"ac\": 0, \"rain\": 0, \"sun\": 0}, {\"distance\": 15.4, \"consume\": 4.3, \"speed\": 39, \"temp_inside\": 22.0, \"temp_outside\": 23, \"gas_type\": \"SP98\", \"ac\": 0, \"rain\": 0, \"sun\": 0}, {\"distance\": 16.0, \"consume\": 3.9, \"speed\": 35, \"temp_inside\": 22.0, \"temp_outside\": 18, \"gas_type\": \"SP98\", \"ac\": 0, \"rain\": 0, \"sun\": 0}, {\"distance\": 15.4, \"consume\": 4.5, \"speed\": 52, \"temp_inside\": 22.0, \"temp_outside\": 26, \"gas_type\": \"SP98\", \"ac\": 0, \"rain\": 0, \"sun\": 0}, {\"distance\": 16.6, \"consume\": 4.1, \"speed\": 48, \"temp_inside\": 25.5, \"temp_outside\": 30, \"gas_type\": \"SP98\", \"ac\": 1, \"rain\": 0, \"sun\": 1}, {\"distance\": 15.4, \"consume\": 5.0, \"speed\": 48, \"temp_inside\": 25.5, \"temp_outside\": 31, \"gas_type\": \"SP98\", \"ac\": 1, \"rain\": 0, \"sun\": 0}, {\"distance\": 16.0, \"consume\": 4.0, \"speed\": 43, \"temp_inside\": 22.0, \"temp_outside\": 21, \"gas_type\": \"SP98\", \"ac\": 1, \"rain\": 0, \"sun\": 0}, {\"distance\": 15.4, \"consume\": 4.5, \"speed\": 42, \"temp_inside\": 22.0, \"temp_outside\": 30, \"gas_type\": \"SP98\", \"ac\": 0, \"rain\": 0, \"sun\": 0}, {\"distance\": 16.0, \"consume\": 3.6, \"speed\": 43, \"temp_inside\": 22.0, \"temp_outside\": 19, \"gas_type\": \"SP98\", \"ac\": 0, \"rain\": 0, \"sun\": 0}, {\"distance\": 20.9, \"consume\": 4.1, \"speed\": 33, \"temp_inside\": 22.0, \"temp_outside\": 21, \"gas_type\": \"SP98\", \"ac\": 0, \"rain\": 0, \"sun\": 0}, {\"distance\": 32.1, \"consume\": 3.9, \"speed\": 47, \"temp_inside\": 22.0, \"temp_outside\": 26, \"gas_type\": \"SP98\", \"ac\": 0, \"rain\": 0, \"sun\": 0}, {\"distance\": 15.3, \"consume\": 6.6, \"speed\": 16, \"temp_inside\": 24.0, \"temp_outside\": 27, \"gas_type\": \"SP98\", \"ac\": 1, \"rain\": 0, \"sun\": 0}, {\"distance\": 28.5, \"consume\": 4.0, \"speed\": 44, \"temp_inside\": 25.0, \"temp_outside\": 23, \"gas_type\": \"SP98\", \"ac\": 1, \"rain\": 0, \"sun\": 0}, {\"distance\": 11.9, \"consume\": 3.7, \"speed\": 33, \"temp_inside\": 25.0, \"temp_outside\": 19, \"gas_type\": \"SP98\", \"ac\": 0, \"rain\": 0, \"sun\": 0}, {\"distance\": 14.5, \"consume\": 4.3, \"speed\": 36, \"temp_inside\": 25.0, \"temp_outside\": 22, \"gas_type\": \"SP98\", \"ac\": 0, \"rain\": 0, \"sun\": 0}, {\"distance\": 16.6, \"consume\": 4.1, \"speed\": 49, \"temp_inside\": 22.0, \"temp_outside\": 26, \"gas_type\": \"SP98\", \"ac\": 0, \"rain\": 0, \"sun\": 1}, {\"distance\": 16.2, \"consume\": 4.4, \"speed\": 39, \"temp_inside\": 24.5, \"temp_outside\": 17, \"gas_type\": \"SP98\", \"ac\": 1, \"rain\": 0, \"sun\": 0}, {\"distance\": 16.7, \"consume\": 3.8, \"speed\": 44, \"temp_inside\": 24.5, \"temp_outside\": 23, \"gas_type\": \"SP98\", \"ac\": 0, \"rain\": 0, \"sun\": 1}, {\"distance\": 8.3, \"consume\": 5.0, \"speed\": 52, \"temp_inside\": 24.5, \"temp_outside\": 27, \"gas_type\": \"SP98\", \"ac\": 0, \"rain\": 0, \"sun\": 0}, {\"distance\": 5.5, \"consume\": 3.7, \"speed\": 33, \"temp_inside\": 24.5, \"temp_outside\": 28, \"gas_type\": \"SP98\", \"ac\": 0, \"rain\": 0, \"sun\": 1}, {\"distance\": 13.6, \"consume\": 3.7, \"speed\": 33, \"temp_inside\": 24.5, \"temp_outside\": 28, \"gas_type\": \"SP98\", \"ac\": 0, \"rain\": 0, \"sun\": 1}, {\"distance\": 16.0, \"consume\": 3.7, \"speed\": 39, \"temp_inside\": 24.5, \"temp_outside\": 18, \"gas_type\": \"SP98\", \"ac\": 0, \"rain\": 0, \"sun\": 0}, {\"distance\": 16.1, \"consume\": 4.3, \"speed\": 38, \"temp_inside\": 25.0, \"temp_outside\": 31, \"gas_type\": \"SP98\", \"ac\": 1, \"rain\": 0, \"sun\": 0}, {\"distance\": 16.0, \"consume\": 3.8, \"speed\": 45, \"temp_inside\": 25.0, \"temp_outside\": 19, \"gas_type\": \"SP98\", \"ac\": 0, \"rain\": 0, \"sun\": 0}, {\"distance\": 15.4, \"consume\": 4.6, \"speed\": 42, \"temp_inside\": 25.0, \"temp_outside\": 31, \"gas_type\": \"SP98\", \"ac\": 1, \"rain\": 0, \"sun\": 0}, {\"distance\": 14.7, \"consume\": 5.0, \"speed\": 25, \"temp_inside\": 25.0, \"temp_outside\": 30, \"gas_type\": \"SP98\", \"ac\": 1, \"rain\": 0, \"sun\": 0}]}}, {\"mode\": \"vega-lite\"});\n",
       "</script>"
      ],
      "text/plain": [
       "alt.Chart(...)"
      ]
     },
     "execution_count": 50,
     "metadata": {},
     "output_type": "execute_result"
    }
   ],
   "source": [
    "import altair as alt\n",
    "\n",
    "alt.Chart(clean_data).mark_point().encode(x='consume', y='consume', color='gas_type').interactive()"
   ]
  },
  {
   "cell_type": "code",
   "execution_count": 51,
   "id": "462b4871",
   "metadata": {},
   "outputs": [
    {
     "data": {
      "text/html": [
       "\n",
       "<div id=\"altair-viz-a1d384e7900e471fb2ce03d6fe57bad3\"></div>\n",
       "<script type=\"text/javascript\">\n",
       "  var VEGA_DEBUG = (typeof VEGA_DEBUG == \"undefined\") ? {} : VEGA_DEBUG;\n",
       "  (function(spec, embedOpt){\n",
       "    let outputDiv = document.currentScript.previousElementSibling;\n",
       "    if (outputDiv.id !== \"altair-viz-a1d384e7900e471fb2ce03d6fe57bad3\") {\n",
       "      outputDiv = document.getElementById(\"altair-viz-a1d384e7900e471fb2ce03d6fe57bad3\");\n",
       "    }\n",
       "    const paths = {\n",
       "      \"vega\": \"https://cdn.jsdelivr.net/npm//vega@5?noext\",\n",
       "      \"vega-lib\": \"https://cdn.jsdelivr.net/npm//vega-lib?noext\",\n",
       "      \"vega-lite\": \"https://cdn.jsdelivr.net/npm//vega-lite@4.17.0?noext\",\n",
       "      \"vega-embed\": \"https://cdn.jsdelivr.net/npm//vega-embed@6?noext\",\n",
       "    };\n",
       "\n",
       "    function maybeLoadScript(lib, version) {\n",
       "      var key = `${lib.replace(\"-\", \"\")}_version`;\n",
       "      return (VEGA_DEBUG[key] == version) ?\n",
       "        Promise.resolve(paths[lib]) :\n",
       "        new Promise(function(resolve, reject) {\n",
       "          var s = document.createElement('script');\n",
       "          document.getElementsByTagName(\"head\")[0].appendChild(s);\n",
       "          s.async = true;\n",
       "          s.onload = () => {\n",
       "            VEGA_DEBUG[key] = version;\n",
       "            return resolve(paths[lib]);\n",
       "          };\n",
       "          s.onerror = () => reject(`Error loading script: ${paths[lib]}`);\n",
       "          s.src = paths[lib];\n",
       "        });\n",
       "    }\n",
       "\n",
       "    function showError(err) {\n",
       "      outputDiv.innerHTML = `<div class=\"error\" style=\"color:red;\">${err}</div>`;\n",
       "      throw err;\n",
       "    }\n",
       "\n",
       "    function displayChart(vegaEmbed) {\n",
       "      vegaEmbed(outputDiv, spec, embedOpt)\n",
       "        .catch(err => showError(`Javascript Error: ${err.message}<br>This usually means there's a typo in your chart specification. See the javascript console for the full traceback.`));\n",
       "    }\n",
       "\n",
       "    if(typeof define === \"function\" && define.amd) {\n",
       "      requirejs.config({paths});\n",
       "      require([\"vega-embed\"], displayChart, err => showError(`Error loading script: ${err.message}`));\n",
       "    } else {\n",
       "      maybeLoadScript(\"vega\", \"5\")\n",
       "        .then(() => maybeLoadScript(\"vega-lite\", \"4.17.0\"))\n",
       "        .then(() => maybeLoadScript(\"vega-embed\", \"6\"))\n",
       "        .catch(showError)\n",
       "        .then(() => displayChart(vegaEmbed));\n",
       "    }\n",
       "  })({\"config\": {\"view\": {\"continuousWidth\": 400, \"continuousHeight\": 300}}, \"hconcat\": [{\"mark\": \"point\", \"encoding\": {\"color\": {\"field\": \"gas_type\", \"type\": \"nominal\"}, \"x\": {\"field\": \"distance\", \"type\": \"quantitative\"}, \"y\": {\"field\": \"consume\", \"type\": \"quantitative\"}}, \"selection\": {\"selector002\": {\"type\": \"interval\", \"bind\": \"scales\", \"encodings\": [\"x\", \"y\"]}}}, {\"mark\": \"point\", \"encoding\": {\"color\": {\"field\": \"gas_type\", \"type\": \"nominal\"}, \"x\": {\"field\": \"speed\", \"type\": \"quantitative\"}, \"y\": {\"field\": \"consume\", \"type\": \"quantitative\"}}, \"selection\": {\"selector003\": {\"type\": \"interval\", \"bind\": \"scales\", \"encodings\": [\"x\", \"y\"]}}}], \"data\": {\"name\": \"data-45a64c4533a0455ea96c1caea5302820\"}, \"$schema\": \"https://vega.github.io/schema/vega-lite/v4.17.0.json\", \"datasets\": {\"data-45a64c4533a0455ea96c1caea5302820\": [{\"distance\": 28.0, \"consume\": 5.0, \"speed\": 26, \"temp_inside\": 21.5, \"temp_outside\": 12, \"gas_type\": \"E10\", \"ac\": 0, \"rain\": 0, \"sun\": 0}, {\"distance\": 12.0, \"consume\": 4.2, \"speed\": 30, \"temp_inside\": 21.5, \"temp_outside\": 13, \"gas_type\": \"E10\", \"ac\": 0, \"rain\": 0, \"sun\": 0}, {\"distance\": 11.2, \"consume\": 5.5, \"speed\": 38, \"temp_inside\": 21.5, \"temp_outside\": 15, \"gas_type\": \"E10\", \"ac\": 0, \"rain\": 0, \"sun\": 0}, {\"distance\": 12.9, \"consume\": 3.9, \"speed\": 36, \"temp_inside\": 21.5, \"temp_outside\": 14, \"gas_type\": \"E10\", \"ac\": 0, \"rain\": 0, \"sun\": 0}, {\"distance\": 18.5, \"consume\": 4.5, \"speed\": 46, \"temp_inside\": 21.5, \"temp_outside\": 15, \"gas_type\": \"E10\", \"ac\": 0, \"rain\": 0, \"sun\": 0}, {\"distance\": 8.3, \"consume\": 6.4, \"speed\": 50, \"temp_inside\": 21.5, \"temp_outside\": 10, \"gas_type\": \"E10\", \"ac\": 0, \"rain\": 0, \"sun\": 0}, {\"distance\": 7.8, \"consume\": 4.4, \"speed\": 43, \"temp_inside\": 21.5, \"temp_outside\": 11, \"gas_type\": \"E10\", \"ac\": 0, \"rain\": 0, \"sun\": 0}, {\"distance\": 12.3, \"consume\": 5.0, \"speed\": 40, \"temp_inside\": 21.5, \"temp_outside\": 6, \"gas_type\": \"E10\", \"ac\": 0, \"rain\": 0, \"sun\": 0}, {\"distance\": 4.9, \"consume\": 6.4, \"speed\": 26, \"temp_inside\": 21.5, \"temp_outside\": 4, \"gas_type\": \"E10\", \"ac\": 0, \"rain\": 0, \"sun\": 0}, {\"distance\": 11.9, \"consume\": 5.3, \"speed\": 30, \"temp_inside\": 21.5, \"temp_outside\": 9, \"gas_type\": \"E10\", \"ac\": 0, \"rain\": 0, \"sun\": 0}, {\"distance\": 12.4, \"consume\": 5.6, \"speed\": 42, \"temp_inside\": 21.5, \"temp_outside\": 4, \"gas_type\": \"E10\", \"ac\": 0, \"rain\": 0, \"sun\": 0}, {\"distance\": 11.8, \"consume\": 4.6, \"speed\": 38, \"temp_inside\": 21.5, \"temp_outside\": 0, \"gas_type\": \"E10\", \"ac\": 0, \"rain\": 0, \"sun\": 0}, {\"distance\": 12.3, \"consume\": 5.9, \"speed\": 59, \"temp_inside\": 21.5, \"temp_outside\": 10, \"gas_type\": \"E10\", \"ac\": 0, \"rain\": 0, \"sun\": 0}, {\"distance\": 24.7, \"consume\": 5.1, \"speed\": 58, \"temp_inside\": 21.5, \"temp_outside\": 12, \"gas_type\": \"E10\", \"ac\": 0, \"rain\": 0, \"sun\": 0}, {\"distance\": 12.4, \"consume\": 4.7, \"speed\": 46, \"temp_inside\": 21.5, \"temp_outside\": 11, \"gas_type\": \"E10\", \"ac\": 0, \"rain\": 0, \"sun\": 0}, {\"distance\": 17.3, \"consume\": 5.1, \"speed\": 24, \"temp_inside\": 21.5, \"temp_outside\": 5, \"gas_type\": \"E10\", \"ac\": 0, \"rain\": 0, \"sun\": 0}, {\"distance\": 33.4, \"consume\": 5.6, \"speed\": 36, \"temp_inside\": 21.5, \"temp_outside\": 3, \"gas_type\": \"E10\", \"ac\": 0, \"rain\": 0, \"sun\": 0}, {\"distance\": 11.8, \"consume\": 5.1, \"speed\": 32, \"temp_inside\": 21.5, \"temp_outside\": 3, \"gas_type\": \"E10\", \"ac\": 0, \"rain\": 0, \"sun\": 0}, {\"distance\": 25.9, \"consume\": 4.9, \"speed\": 39, \"temp_inside\": 21.5, \"temp_outside\": 8, \"gas_type\": \"E10\", \"ac\": 0, \"rain\": 0, \"sun\": 0}, {\"distance\": 11.8, \"consume\": 4.7, \"speed\": 40, \"temp_inside\": 21.5, \"temp_outside\": 4, \"gas_type\": \"E10\", \"ac\": 0, \"rain\": 0, \"sun\": 0}, {\"distance\": 25.3, \"consume\": 5.5, \"speed\": 32, \"temp_inside\": 21.5, \"temp_outside\": 3, \"gas_type\": \"E10\", \"ac\": 0, \"rain\": 0, \"sun\": 0}, {\"distance\": 14.2, \"consume\": 5.9, \"speed\": 38, \"temp_inside\": 21.5, \"temp_outside\": 1, \"gas_type\": \"E10\", \"ac\": 0, \"rain\": 0, \"sun\": 0}, {\"distance\": 17.9, \"consume\": 5.7, \"speed\": 37, \"temp_inside\": 21.5, \"temp_outside\": 1, \"gas_type\": \"E10\", \"ac\": 0, \"rain\": 0, \"sun\": 0}, {\"distance\": 11.8, \"consume\": 4.7, \"speed\": 36, \"temp_inside\": 21.5, \"temp_outside\": 1, \"gas_type\": \"E10\", \"ac\": 0, \"rain\": 0, \"sun\": 0}, {\"distance\": 12.3, \"consume\": 5.9, \"speed\": 62, \"temp_inside\": 21.5, \"temp_outside\": 6, \"gas_type\": \"E10\", \"ac\": 0, \"rain\": 0, \"sun\": 0}, {\"distance\": 12.4, \"consume\": 4.1, \"speed\": 57, \"temp_inside\": 21.5, \"temp_outside\": 9, \"gas_type\": \"E10\", \"ac\": 0, \"rain\": 0, \"sun\": 0}, {\"distance\": 18.4, \"consume\": 5.7, \"speed\": 21, \"temp_inside\": 22.5, \"temp_outside\": 2, \"gas_type\": \"E10\", \"ac\": 0, \"rain\": 0, \"sun\": 0}, {\"distance\": 18.4, \"consume\": 5.8, \"speed\": 28, \"temp_inside\": 21.5, \"temp_outside\": 3, \"gas_type\": \"E10\", \"ac\": 0, \"rain\": 0, \"sun\": 0}, {\"distance\": 18.3, \"consume\": 5.5, \"speed\": 29, \"temp_inside\": 21.5, \"temp_outside\": 1, \"gas_type\": \"E10\", \"ac\": 0, \"rain\": 0, \"sun\": 0}, {\"distance\": 18.4, \"consume\": 5.7, \"speed\": 35, \"temp_inside\": 21.5, \"temp_outside\": 4, \"gas_type\": \"E10\", \"ac\": 0, \"rain\": 0, \"sun\": 0}, {\"distance\": 12.3, \"consume\": 5.3, \"speed\": 51, \"temp_inside\": 21.5, \"temp_outside\": 11, \"gas_type\": \"E10\", \"ac\": 0, \"rain\": 0, \"sun\": 0}, {\"distance\": 11.8, \"consume\": 5.0, \"speed\": 29, \"temp_inside\": 21.5, \"temp_outside\": 10, \"gas_type\": \"E10\", \"ac\": 0, \"rain\": 0, \"sun\": 0}, {\"distance\": 12.3, \"consume\": 5.6, \"speed\": 58, \"temp_inside\": 21.5, \"temp_outside\": 8, \"gas_type\": \"E10\", \"ac\": 0, \"rain\": 0, \"sun\": 0}, {\"distance\": 32.6, \"consume\": 4.8, \"speed\": 40, \"temp_inside\": 21.5, \"temp_outside\": 7, \"gas_type\": \"E10\", \"ac\": 0, \"rain\": 0, \"sun\": 0}, {\"distance\": 19.0, \"consume\": 4.3, \"speed\": 36, \"temp_inside\": 21.5, \"temp_outside\": 7, \"gas_type\": \"E10\", \"ac\": 0, \"rain\": 0, \"sun\": 0}, {\"distance\": 12.1, \"consume\": 5.7, \"speed\": 36, \"temp_inside\": 21.5, \"temp_outside\": 8, \"gas_type\": \"E10\", \"ac\": 0, \"rain\": 0, \"sun\": 0}, {\"distance\": 20.0, \"consume\": 5.2, \"speed\": 37, \"temp_inside\": 21.5, \"temp_outside\": 4, \"gas_type\": \"E10\", \"ac\": 0, \"rain\": 0, \"sun\": 0}, {\"distance\": 4.9, \"consume\": 7.4, \"speed\": 26, \"temp_inside\": 21.5, \"temp_outside\": 6, \"gas_type\": \"E10\", \"ac\": 0, \"rain\": 0, \"sun\": 0}, {\"distance\": 11.8, \"consume\": 4.8, \"speed\": 23, \"temp_inside\": 21.5, \"temp_outside\": 9, \"gas_type\": \"E10\", \"ac\": 0, \"rain\": 0, \"sun\": 0}, {\"distance\": 12.3, \"consume\": 6.5, \"speed\": 58, \"temp_inside\": 21.5, \"temp_outside\": 7, \"gas_type\": \"E10\", \"ac\": 0, \"rain\": 0, \"sun\": 0}, {\"distance\": 12.4, \"consume\": 4.0, \"speed\": 55, \"temp_inside\": 21.5, \"temp_outside\": 7, \"gas_type\": \"E10\", \"ac\": 1, \"rain\": 1, \"sun\": 0}, {\"distance\": 4.5, \"consume\": 5.0, \"speed\": 29, \"temp_inside\": 21.5, \"temp_outside\": 7, \"gas_type\": \"E10\", \"ac\": 1, \"rain\": 0, \"sun\": 0}, {\"distance\": 11.7, \"consume\": 4.6, \"speed\": 37, \"temp_inside\": 21.5, \"temp_outside\": 6, \"gas_type\": \"E10\", \"ac\": 0, \"rain\": 0, \"sun\": 0}, {\"distance\": 10.2, \"consume\": 4.3, \"speed\": 44, \"temp_inside\": 21.5, \"temp_outside\": 7, \"gas_type\": \"E10\", \"ac\": 0, \"rain\": 0, \"sun\": 0}, {\"distance\": 5.4, \"consume\": 3.3, \"speed\": 32, \"temp_inside\": 21.5, \"temp_outside\": 7, \"gas_type\": \"SP98\", \"ac\": 0, \"rain\": 0, \"sun\": 0}, {\"distance\": 2.0, \"consume\": 9.9, \"speed\": 21, \"temp_inside\": 21.5, \"temp_outside\": 4, \"gas_type\": \"SP98\", \"ac\": 0, \"rain\": 0, \"sun\": 0}, {\"distance\": 14.2, \"consume\": 5.1, \"speed\": 32, \"temp_inside\": 21.5, \"temp_outside\": 7, \"gas_type\": \"SP98\", \"ac\": 0, \"rain\": 0, \"sun\": 0}, {\"distance\": 16.0, \"consume\": 4.9, \"speed\": 25, \"temp_inside\": 21.5, \"temp_outside\": 8, \"gas_type\": \"SP98\", \"ac\": 0, \"rain\": 0, \"sun\": 0}, {\"distance\": 11.8, \"consume\": 4.9, \"speed\": 25, \"temp_inside\": 21.5, \"temp_outside\": 11, \"gas_type\": \"SP98\", \"ac\": 0, \"rain\": 0, \"sun\": 0}, {\"distance\": 27.3, \"consume\": 4.7, \"speed\": 36, \"temp_inside\": 21.5, \"temp_outside\": 10, \"gas_type\": \"SP98\", \"ac\": 0, \"rain\": 0, \"sun\": 0}, {\"distance\": 11.8, \"consume\": 5.1, \"speed\": 29, \"temp_inside\": 21.5, \"temp_outside\": 5, \"gas_type\": \"SP98\", \"ac\": 0, \"rain\": 1, \"sun\": 0}, {\"distance\": 10.6, \"consume\": 4.9, \"speed\": 63, \"temp_inside\": 21.5, \"temp_outside\": 6, \"gas_type\": \"SP98\", \"ac\": 0, \"rain\": 0, \"sun\": 0}, {\"distance\": 11.6, \"consume\": 4.2, \"speed\": 61, \"temp_inside\": 21.5, \"temp_outside\": 7, \"gas_type\": \"SP98\", \"ac\": 0, \"rain\": 0, \"sun\": 0}, {\"distance\": 13.1, \"consume\": 6.1, \"speed\": 46, \"temp_inside\": 21.5, \"temp_outside\": 6, \"gas_type\": \"SP98\", \"ac\": 0, \"rain\": 1, \"sun\": 0}, {\"distance\": 6.1, \"consume\": 6.4, \"speed\": 28, \"temp_inside\": 21.5, \"temp_outside\": 8, \"gas_type\": \"SP98\", \"ac\": 0, \"rain\": 0, \"sun\": 0}, {\"distance\": 153.5, \"consume\": 4.9, \"speed\": 82, \"temp_inside\": 21.5, \"temp_outside\": 3, \"gas_type\": \"SP98\", \"ac\": 0, \"rain\": 1, \"sun\": 0}, {\"distance\": 11.8, \"consume\": 4.9, \"speed\": 24, \"temp_inside\": 21.5, \"temp_outside\": 7, \"gas_type\": \"SP98\", \"ac\": 0, \"rain\": 0, \"sun\": 0}, {\"distance\": 12.3, \"consume\": 6.2, \"speed\": 61, \"temp_inside\": 21.5, \"temp_outside\": 8, \"gas_type\": \"SP98\", \"ac\": 0, \"rain\": 0, \"sun\": 0}, {\"distance\": 12.4, \"consume\": 4.2, \"speed\": 57, \"temp_inside\": 21.5, \"temp_outside\": 8, \"gas_type\": \"SP98\", \"ac\": 0, \"rain\": 0, \"sun\": 0}, {\"distance\": 12.3, \"consume\": 5.7, \"speed\": 52, \"temp_inside\": 21.5, \"temp_outside\": 8, \"gas_type\": \"SP98\", \"ac\": 0, \"rain\": 1, \"sun\": 0}, {\"distance\": 2.9, \"consume\": 7.9, \"speed\": 18, \"temp_inside\": 21.5, \"temp_outside\": 9, \"gas_type\": \"SP98\", \"ac\": 1, \"rain\": 1, \"sun\": 0}, {\"distance\": 2.1, \"consume\": 12.2, \"speed\": 23, \"temp_inside\": 21.5, \"temp_outside\": 9, \"gas_type\": \"SP98\", \"ac\": 1, \"rain\": 1, \"sun\": 0}, {\"distance\": 9.8, \"consume\": 5.8, \"speed\": 24, \"temp_inside\": 21.5, \"temp_outside\": 6, \"gas_type\": \"SP98\", \"ac\": 0, \"rain\": 0, \"sun\": 0}, {\"distance\": 6.8, \"consume\": 5.3, \"speed\": 26, \"temp_inside\": 21.5, \"temp_outside\": 6, \"gas_type\": \"SP98\", \"ac\": 0, \"rain\": 0, \"sun\": 0}, {\"distance\": 12.4, \"consume\": 5.4, \"speed\": 24, \"temp_inside\": 21.5, \"temp_outside\": 7, \"gas_type\": \"SP98\", \"ac\": 0, \"rain\": 0, \"sun\": 0}, {\"distance\": 12.4, \"consume\": 4.7, \"speed\": 57, \"temp_inside\": 21.5, \"temp_outside\": 8, \"gas_type\": \"SP98\", \"ac\": 0, \"rain\": 0, \"sun\": 0}, {\"distance\": 11.8, \"consume\": 4.6, \"speed\": 41, \"temp_inside\": 21.5, \"temp_outside\": 6, \"gas_type\": \"SP98\", \"ac\": 0, \"rain\": 0, \"sun\": 0}, {\"distance\": 12.3, \"consume\": 5.4, \"speed\": 55, \"temp_inside\": 21.5, \"temp_outside\": 8, \"gas_type\": \"SP98\", \"ac\": 0, \"rain\": 0, \"sun\": 0}, {\"distance\": 14.0, \"consume\": 4.3, \"speed\": 40, \"temp_inside\": 21.5, \"temp_outside\": 8, \"gas_type\": \"SP98\", \"ac\": 0, \"rain\": 0, \"sun\": 0}, {\"distance\": 11.8, \"consume\": 4.5, \"speed\": 37, \"temp_inside\": 21.5, \"temp_outside\": 4, \"gas_type\": \"SP98\", \"ac\": 1, \"rain\": 0, \"sun\": 0}, {\"distance\": 12.3, \"consume\": 5.2, \"speed\": 55, \"temp_inside\": 21.5, \"temp_outside\": 12, \"gas_type\": \"SP98\", \"ac\": 0, \"rain\": 0, \"sun\": 0}, {\"distance\": 2.0, \"consume\": 6.2, \"speed\": 20, \"temp_inside\": 21.5, \"temp_outside\": 10, \"gas_type\": \"SP98\", \"ac\": 0, \"rain\": 0, \"sun\": 0}, {\"distance\": 13.9, \"consume\": 5.1, \"speed\": 29, \"temp_inside\": 21.5, \"temp_outside\": 6, \"gas_type\": \"SP98\", \"ac\": 0, \"rain\": 0, \"sun\": 0}, {\"distance\": 9.7, \"consume\": 3.9, \"speed\": 42, \"temp_inside\": 21.5, \"temp_outside\": 8, \"gas_type\": \"SP98\", \"ac\": 0, \"rain\": 0, \"sun\": 0}, {\"distance\": 11.6, \"consume\": 5.0, \"speed\": 25, \"temp_inside\": 21.5, \"temp_outside\": 6, \"gas_type\": \"SP98\", \"ac\": 0, \"rain\": 0, \"sun\": 0}, {\"distance\": 14.2, \"consume\": 5.4, \"speed\": 38, \"temp_inside\": 21.5, \"temp_outside\": 7, \"gas_type\": \"SP98\", \"ac\": 0, \"rain\": 0, \"sun\": 0}, {\"distance\": 11.8, \"consume\": 4.5, \"speed\": 39, \"temp_inside\": 21.5, \"temp_outside\": 6, \"gas_type\": \"SP98\", \"ac\": 0, \"rain\": 0, \"sun\": 0}, {\"distance\": 24.8, \"consume\": 5.1, \"speed\": 50, \"temp_inside\": 21.5, \"temp_outside\": 9, \"gas_type\": \"SP98\", \"ac\": 0, \"rain\": 0, \"sun\": 0}, {\"distance\": 12.4, \"consume\": 4.7, \"speed\": 56, \"temp_inside\": 21.5, \"temp_outside\": 7, \"gas_type\": \"SP98\", \"ac\": 0, \"rain\": 0, \"sun\": 0}, {\"distance\": 34.8, \"consume\": 4.0, \"speed\": 28, \"temp_inside\": 20.0, \"temp_outside\": 4, \"gas_type\": \"SP98\", \"ac\": 0, \"rain\": 0, \"sun\": 0}, {\"distance\": 14.2, \"consume\": 5.4, \"speed\": 36, \"temp_inside\": 20.0, \"temp_outside\": 6, \"gas_type\": \"SP98\", \"ac\": 0, \"rain\": 0, \"sun\": 0}, {\"distance\": 5.2, \"consume\": 4.5, \"speed\": 39, \"temp_inside\": 20.0, \"temp_outside\": 10, \"gas_type\": \"SP98\", \"ac\": 0, \"rain\": 0, \"sun\": 0}, {\"distance\": 10.5, \"consume\": 3.6, \"speed\": 42, \"temp_inside\": 20.0, \"temp_outside\": 10, \"gas_type\": \"SP98\", \"ac\": 0, \"rain\": 0, \"sun\": 0}, {\"distance\": 12.3, \"consume\": 5.2, \"speed\": 57, \"temp_inside\": 20.0, \"temp_outside\": 10, \"gas_type\": \"SP98\", \"ac\": 0, \"rain\": 0, \"sun\": 0}, {\"distance\": 11.8, \"consume\": 4.9, \"speed\": 25, \"temp_inside\": 20.0, \"temp_outside\": 11, \"gas_type\": \"SP98\", \"ac\": 0, \"rain\": 0, \"sun\": 0}, {\"distance\": 12.3, \"consume\": 6.2, \"speed\": 58, \"temp_inside\": 20.0, \"temp_outside\": 11, \"gas_type\": \"SP98\", \"ac\": 0, \"rain\": 1, \"sun\": 0}, {\"distance\": 13.2, \"consume\": 4.3, \"speed\": 51, \"temp_inside\": 20.0, \"temp_outside\": 11, \"gas_type\": \"SP98\", \"ac\": 0, \"rain\": 1, \"sun\": 0}, {\"distance\": 13.0, \"consume\": 5.0, \"speed\": 45, \"temp_inside\": 20.0, \"temp_outside\": 11, \"gas_type\": \"SP98\", \"ac\": 0, \"rain\": 1, \"sun\": 0}, {\"distance\": 12.9, \"consume\": 5.1, \"speed\": 32, \"temp_inside\": 20.0, \"temp_outside\": 11, \"gas_type\": \"SP98\", \"ac\": 0, \"rain\": 0, \"sun\": 0}, {\"distance\": 13.9, \"consume\": 5.6, \"speed\": 22, \"temp_inside\": 20.0, \"temp_outside\": 8, \"gas_type\": \"SP98\", \"ac\": 0, \"rain\": 0, \"sun\": 0}, {\"distance\": 11.8, \"consume\": 4.3, \"speed\": 37, \"temp_inside\": 20.0, \"temp_outside\": 6, \"gas_type\": \"SP98\", \"ac\": 0, \"rain\": 0, \"sun\": 0}, {\"distance\": 12.2, \"consume\": 5.8, \"speed\": 60, \"temp_inside\": 20.0, \"temp_outside\": 11, \"gas_type\": \"SP98\", \"ac\": 0, \"rain\": 0, \"sun\": 0}, {\"distance\": 12.5, \"consume\": 4.0, \"speed\": 51, \"temp_inside\": 20.0, \"temp_outside\": 13, \"gas_type\": \"SP98\", \"ac\": 0, \"rain\": 0, \"sun\": 0}, {\"distance\": 12.4, \"consume\": 4.7, \"speed\": 43, \"temp_inside\": null, \"temp_outside\": 10, \"gas_type\": \"SP98\", \"ac\": 0, \"rain\": 0, \"sun\": 0}, {\"distance\": 11.8, \"consume\": 5.9, \"speed\": 21, \"temp_inside\": 20.0, \"temp_outside\": 9, \"gas_type\": \"SP98\", \"ac\": 1, \"rain\": 1, \"sun\": 0}, {\"distance\": 11.8, \"consume\": 5.3, \"speed\": 52, \"temp_inside\": null, \"temp_outside\": 11, \"gas_type\": \"SP98\", \"ac\": 0, \"rain\": 0, \"sun\": 0}, {\"distance\": 12.5, \"consume\": 4.2, \"speed\": 57, \"temp_inside\": 20.0, \"temp_outside\": 11, \"gas_type\": \"SP98\", \"ac\": 0, \"rain\": 0, \"sun\": 0}, {\"distance\": 15.7, \"consume\": 5.3, \"speed\": 33, \"temp_inside\": null, \"temp_outside\": 9, \"gas_type\": \"SP98\", \"ac\": 0, \"rain\": 0, \"sun\": 0}, {\"distance\": 12.9, \"consume\": 5.7, \"speed\": 35, \"temp_inside\": null, \"temp_outside\": 9, \"gas_type\": \"SP98\", \"ac\": 0, \"rain\": 0, \"sun\": 0}, {\"distance\": 6.4, \"consume\": 4.4, \"speed\": 37, \"temp_inside\": null, \"temp_outside\": 10, \"gas_type\": \"SP98\", \"ac\": 0, \"rain\": 0, \"sun\": 0}, {\"distance\": 5.3, \"consume\": 4.1, \"speed\": 34, \"temp_inside\": null, \"temp_outside\": 9, \"gas_type\": \"SP98\", \"ac\": 0, \"rain\": 0, \"sun\": 0}, {\"distance\": 26.2, \"consume\": 5.8, \"speed\": 71, \"temp_inside\": 21.0, \"temp_outside\": 8, \"gas_type\": \"SP98\", \"ac\": 1, \"rain\": 1, \"sun\": 0}, {\"distance\": 18.8, \"consume\": 5.0, \"speed\": 62, \"temp_inside\": null, \"temp_outside\": 9, \"gas_type\": \"SP98\", \"ac\": 0, \"rain\": 1, \"sun\": 0}, {\"distance\": 4.9, \"consume\": 6.9, \"speed\": 25, \"temp_inside\": 21.0, \"temp_outside\": 12, \"gas_type\": \"SP98\", \"ac\": 0, \"rain\": 1, \"sun\": 0}, {\"distance\": 12.4, \"consume\": 5.4, \"speed\": 18, \"temp_inside\": 21.0, \"temp_outside\": 11, \"gas_type\": \"SP98\", \"ac\": 1, \"rain\": 1, \"sun\": 0}, {\"distance\": 22.9, \"consume\": 5.3, \"speed\": 45, \"temp_inside\": 20.5, \"temp_outside\": 7, \"gas_type\": \"SP98\", \"ac\": 0, \"rain\": 0, \"sun\": 0}, {\"distance\": 162.7, \"consume\": 5.5, \"speed\": 75, \"temp_inside\": 23.0, \"temp_outside\": 1, \"gas_type\": \"SP98\", \"ac\": 0, \"rain\": 0, \"sun\": 0}, {\"distance\": 4.9, \"consume\": 6.5, \"speed\": 26, \"temp_inside\": 21.0, \"temp_outside\": 1, \"gas_type\": \"SP98\", \"ac\": 0, \"rain\": 0, \"sun\": 0}, {\"distance\": 11.8, \"consume\": 4.7, \"speed\": 36, \"temp_inside\": 21.0, \"temp_outside\": 4, \"gas_type\": \"SP98\", \"ac\": 0, \"rain\": 0, \"sun\": 0}, {\"distance\": 16.6, \"consume\": 5.1, \"speed\": 56, \"temp_inside\": 21.0, \"temp_outside\": 7, \"gas_type\": \"SP98\", \"ac\": 0, \"rain\": 0, \"sun\": 0}, {\"distance\": 12.4, \"consume\": 5.7, \"speed\": 37, \"temp_inside\": 21.0, \"temp_outside\": 7, \"gas_type\": \"SP98\", \"ac\": 0, \"rain\": 0, \"sun\": 0}, {\"distance\": 15.9, \"consume\": 5.4, \"speed\": 25, \"temp_inside\": 21.0, \"temp_outside\": 7, \"gas_type\": \"SP98\", \"ac\": 0, \"rain\": 0, \"sun\": 0}, {\"distance\": 5.1, \"consume\": 8.7, \"speed\": 21, \"temp_inside\": 23.5, \"temp_outside\": 5, \"gas_type\": \"SP98\", \"ac\": 0, \"rain\": 0, \"sun\": 0}, {\"distance\": 22.4, \"consume\": 4.9, \"speed\": 66, \"temp_inside\": 20.5, \"temp_outside\": 7, \"gas_type\": \"SP98\", \"ac\": 0, \"rain\": 0, \"sun\": 0}, {\"distance\": 31.1, \"consume\": 4.7, \"speed\": 42, \"temp_inside\": 20.5, \"temp_outside\": 7, \"gas_type\": \"SP98\", \"ac\": 0, \"rain\": 0, \"sun\": 0}, {\"distance\": 4.9, \"consume\": 6.3, \"speed\": 27, \"temp_inside\": 20.5, \"temp_outside\": 3, \"gas_type\": \"SP98\", \"ac\": 0, \"rain\": 0, \"sun\": 0}, {\"distance\": 11.8, \"consume\": 5.1, \"speed\": 26, \"temp_inside\": 23.0, \"temp_outside\": 4, \"gas_type\": \"SP98\", \"ac\": 0, \"rain\": 1, \"sun\": 0}, {\"distance\": 22.9, \"consume\": 6.0, \"speed\": 42, \"temp_inside\": 23.0, \"temp_outside\": 4, \"gas_type\": \"SP98\", \"ac\": 0, \"rain\": 1, \"sun\": 0}, {\"distance\": 12.4, \"consume\": 4.6, \"speed\": 38, \"temp_inside\": 23.0, \"temp_outside\": 1, \"gas_type\": \"SP98\", \"ac\": 0, \"rain\": 1, \"sun\": 0}, {\"distance\": 12.9, \"consume\": 5.8, \"speed\": 40, \"temp_inside\": 23.0, \"temp_outside\": 4, \"gas_type\": \"SP98\", \"ac\": 0, \"rain\": 0, \"sun\": 0}, {\"distance\": 11.8, \"consume\": 5.1, \"speed\": 43, \"temp_inside\": 23.0, \"temp_outside\": 0, \"gas_type\": \"SP98\", \"ac\": 0, \"rain\": 0, \"sun\": 0}, {\"distance\": 12.2, \"consume\": 5.8, \"speed\": 58, \"temp_inside\": 23.0, \"temp_outside\": 2, \"gas_type\": \"SP98\", \"ac\": 0, \"rain\": 0, \"sun\": 0}, {\"distance\": 24.8, \"consume\": 4.6, \"speed\": 55, \"temp_inside\": 23.0, \"temp_outside\": 3, \"gas_type\": \"SP98\", \"ac\": 0, \"rain\": 0, \"sun\": 0}, {\"distance\": 14.2, \"consume\": 5.6, \"speed\": 24, \"temp_inside\": 23.0, \"temp_outside\": 8, \"gas_type\": \"SP98\", \"ac\": 0, \"rain\": 0, \"sun\": 0}, {\"distance\": 11.8, \"consume\": 4.6, \"speed\": 38, \"temp_inside\": 23.0, \"temp_outside\": 0, \"gas_type\": \"SP98\", \"ac\": 0, \"rain\": 1, \"sun\": 0}, {\"distance\": 12.2, \"consume\": 6.3, \"speed\": 57, \"temp_inside\": 23.0, \"temp_outside\": 0, \"gas_type\": \"SP98\", \"ac\": 0, \"rain\": 1, \"sun\": 0}, {\"distance\": 24.7, \"consume\": 5.5, \"speed\": 56, \"temp_inside\": 25.0, \"temp_outside\": 1, \"gas_type\": \"SP98\", \"ac\": 0, \"rain\": 0, \"sun\": 0}, {\"distance\": 6.8, \"consume\": 4.3, \"speed\": 46, \"temp_inside\": 24.0, \"temp_outside\": 2, \"gas_type\": \"SP98\", \"ac\": 0, \"rain\": 0, \"sun\": 0}, {\"distance\": 17.3, \"consume\": 5.6, \"speed\": 37, \"temp_inside\": 21.5, \"temp_outside\": 1, \"gas_type\": \"SP98\", \"ac\": 0, \"rain\": 0, \"sun\": 0}, {\"distance\": 11.8, \"consume\": 4.3, \"speed\": 44, \"temp_inside\": 21.5, \"temp_outside\": -3, \"gas_type\": \"SP98\", \"ac\": 0, \"rain\": 0, \"sun\": 0}, {\"distance\": 15.9, \"consume\": 5.7, \"speed\": 46, \"temp_inside\": 21.5, \"temp_outside\": 5, \"gas_type\": \"SP98\", \"ac\": 0, \"rain\": 0, \"sun\": 0}, {\"distance\": 5.1, \"consume\": 6.4, \"speed\": 39, \"temp_inside\": 21.5, \"temp_outside\": 4, \"gas_type\": \"SP98\", \"ac\": 0, \"rain\": 0, \"sun\": 0}, {\"distance\": 16.1, \"consume\": 4.5, \"speed\": 33, \"temp_inside\": 21.5, \"temp_outside\": 6, \"gas_type\": \"SP98\", \"ac\": 0, \"rain\": 0, \"sun\": 0}, {\"distance\": 11.8, \"consume\": 4.5, \"speed\": 43, \"temp_inside\": 21.5, \"temp_outside\": 3, \"gas_type\": \"SP98\", \"ac\": 0, \"rain\": 0, \"sun\": 0}, {\"distance\": 4.2, \"consume\": 6.0, \"speed\": 26, \"temp_inside\": 21.5, \"temp_outside\": 5, \"gas_type\": \"SP98\", \"ac\": 0, \"rain\": 0, \"sun\": 0}, {\"distance\": 17.4, \"consume\": 5.1, \"speed\": 30, \"temp_inside\": 21.5, \"temp_outside\": 5, \"gas_type\": \"SP98\", \"ac\": 0, \"rain\": 0, \"sun\": 0}, {\"distance\": 23.5, \"consume\": 6.0, \"speed\": 25, \"temp_inside\": 21.5, \"temp_outside\": 5, \"gas_type\": \"SP98\", \"ac\": 0, \"rain\": 1, \"sun\": 0}, {\"distance\": 11.8, \"consume\": 4.5, \"speed\": 38, \"temp_inside\": 21.5, \"temp_outside\": 5, \"gas_type\": \"SP98\", \"ac\": 0, \"rain\": 1, \"sun\": 0}, {\"distance\": 12.3, \"consume\": 6.1, \"speed\": 61, \"temp_inside\": 21.5, \"temp_outside\": 10, \"gas_type\": \"SP98\", \"ac\": 0, \"rain\": 1, \"sun\": 0}, {\"distance\": 16.1, \"consume\": 5.4, \"speed\": 24, \"temp_inside\": 21.5, \"temp_outside\": 7, \"gas_type\": \"E10\", \"ac\": 0, \"rain\": 1, \"sun\": 0}, {\"distance\": 11.8, \"consume\": 4.3, \"speed\": 40, \"temp_inside\": 21.5, \"temp_outside\": 10, \"gas_type\": \"E10\", \"ac\": 0, \"rain\": 1, \"sun\": 0}, {\"distance\": 12.3, \"consume\": 5.4, \"speed\": 58, \"temp_inside\": 21.5, \"temp_outside\": 13, \"gas_type\": \"E10\", \"ac\": 0, \"rain\": 0, \"sun\": 0}, {\"distance\": 12.4, \"consume\": 4.3, \"speed\": 49, \"temp_inside\": 21.5, \"temp_outside\": 17, \"gas_type\": \"E10\", \"ac\": 0, \"rain\": 0, \"sun\": 0}, {\"distance\": 7.0, \"consume\": 5.2, \"speed\": 25, \"temp_inside\": 21.5, \"temp_outside\": 17, \"gas_type\": \"E10\", \"ac\": 0, \"rain\": 0, \"sun\": 0}, {\"distance\": 11.8, \"consume\": 4.1, \"speed\": 37, \"temp_inside\": 21.5, \"temp_outside\": 10, \"gas_type\": \"E10\", \"ac\": 0, \"rain\": 0, \"sun\": 0}, {\"distance\": 20.1, \"consume\": 4.4, \"speed\": 41, \"temp_inside\": 21.5, \"temp_outside\": 18, \"gas_type\": \"E10\", \"ac\": 0, \"rain\": 0, \"sun\": 0}, {\"distance\": 20.8, \"consume\": 4.5, \"speed\": 45, \"temp_inside\": 21.5, \"temp_outside\": 10, \"gas_type\": \"E10\", \"ac\": 0, \"rain\": 0, \"sun\": 0}, {\"distance\": 1.7, \"consume\": 10.8, \"speed\": 14, \"temp_inside\": 21.5, \"temp_outside\": 10, \"gas_type\": \"E10\", \"ac\": 0, \"rain\": 1, \"sun\": 0}, {\"distance\": 35.9, \"consume\": 4.7, \"speed\": 45, \"temp_inside\": 21.5, \"temp_outside\": 12, \"gas_type\": \"E10\", \"ac\": 0, \"rain\": 0, \"sun\": 0}, {\"distance\": 36.9, \"consume\": 4.8, \"speed\": 52, \"temp_inside\": 21.5, \"temp_outside\": 5, \"gas_type\": \"E10\", \"ac\": 0, \"rain\": 0, \"sun\": 0}, {\"distance\": 16.8, \"consume\": 4.0, \"speed\": 46, \"temp_inside\": 21.5, \"temp_outside\": 8, \"gas_type\": \"E10\", \"ac\": 0, \"rain\": 0, \"sun\": 0}, {\"distance\": 9.9, \"consume\": 5.0, \"speed\": 28, \"temp_inside\": 21.5, \"temp_outside\": 9, \"gas_type\": \"E10\", \"ac\": 0, \"rain\": 0, \"sun\": 0}, {\"distance\": 22.9, \"consume\": 4.6, \"speed\": 61, \"temp_inside\": 21.5, \"temp_outside\": 7, \"gas_type\": \"E10\", \"ac\": 0, \"rain\": 1, \"sun\": 0}, {\"distance\": 17.3, \"consume\": 5.0, \"speed\": 61, \"temp_inside\": 21.5, \"temp_outside\": 6, \"gas_type\": \"E10\", \"ac\": 1, \"rain\": 1, \"sun\": 0}, {\"distance\": 11.8, \"consume\": 4.3, \"speed\": 37, \"temp_inside\": 21.5, \"temp_outside\": 7, \"gas_type\": \"E10\", \"ac\": 0, \"rain\": 0, \"sun\": 0}, {\"distance\": 36.6, \"consume\": 5.2, \"speed\": 80, \"temp_inside\": 21.5, \"temp_outside\": 7, \"gas_type\": \"E10\", \"ac\": 0, \"rain\": 1, \"sun\": 0}, {\"distance\": 44.9, \"consume\": 4.7, \"speed\": 62, \"temp_inside\": 21.5, \"temp_outside\": 8, \"gas_type\": \"E10\", \"ac\": 0, \"rain\": 0, \"sun\": 0}, {\"distance\": 11.8, \"consume\": 4.2, \"speed\": 34, \"temp_inside\": 21.5, \"temp_outside\": 9, \"gas_type\": \"E10\", \"ac\": 0, \"rain\": 1, \"sun\": 0}, {\"distance\": 21.6, \"consume\": 5.3, \"speed\": 44, \"temp_inside\": 21.5, \"temp_outside\": 9, \"gas_type\": \"E10\", \"ac\": 0, \"rain\": 1, \"sun\": 0}, {\"distance\": 39.4, \"consume\": 5.3, \"speed\": 60, \"temp_inside\": 21.5, \"temp_outside\": 9, \"gas_type\": \"E10\", \"ac\": 0, \"rain\": 1, \"sun\": 0}, {\"distance\": 5.1, \"consume\": 8.1, \"speed\": 39, \"temp_inside\": 21.5, \"temp_outside\": 4, \"gas_type\": \"E10\", \"ac\": 0, \"rain\": 0, \"sun\": 0}, {\"distance\": 26.6, \"consume\": 4.8, \"speed\": 38, \"temp_inside\": 21.5, \"temp_outside\": 7, \"gas_type\": \"E10\", \"ac\": 0, \"rain\": 0, \"sun\": 0}, {\"distance\": 53.2, \"consume\": 5.1, \"speed\": 71, \"temp_inside\": 21.5, \"temp_outside\": 2, \"gas_type\": \"E10\", \"ac\": 0, \"rain\": 0, \"sun\": 0}, {\"distance\": 18.9, \"consume\": 4.4, \"speed\": 53, \"temp_inside\": 21.5, \"temp_outside\": 2, \"gas_type\": \"E10\", \"ac\": 0, \"rain\": 0, \"sun\": 0}, {\"distance\": 43.5, \"consume\": 5.0, \"speed\": 80, \"temp_inside\": 21.5, \"temp_outside\": 3, \"gas_type\": \"E10\", \"ac\": 0, \"rain\": 0, \"sun\": 0}, {\"distance\": 6.1, \"consume\": 6.3, \"speed\": 26, \"temp_inside\": 21.5, \"temp_outside\": 5, \"gas_type\": \"E10\", \"ac\": 0, \"rain\": 0, \"sun\": 0}, {\"distance\": 16.4, \"consume\": 4.8, \"speed\": 49, \"temp_inside\": 21.5, \"temp_outside\": 5, \"gas_type\": \"E10\", \"ac\": 0, \"rain\": 0, \"sun\": 0}, {\"distance\": 12.3, \"consume\": 6.1, \"speed\": 40, \"temp_inside\": 21.5, \"temp_outside\": 6, \"gas_type\": \"E10\", \"ac\": 0, \"rain\": 0, \"sun\": 0}, {\"distance\": 21.1, \"consume\": 4.6, \"speed\": 36, \"temp_inside\": 21.5, \"temp_outside\": 8, \"gas_type\": \"E10\", \"ac\": 0, \"rain\": 0, \"sun\": 0}, {\"distance\": 21.1, \"consume\": 4.8, \"speed\": 43, \"temp_inside\": 21.5, \"temp_outside\": 7, \"gas_type\": \"E10\", \"ac\": 0, \"rain\": 0, \"sun\": 0}, {\"distance\": 22.7, \"consume\": 4.7, \"speed\": 55, \"temp_inside\": 21.5, \"temp_outside\": 6, \"gas_type\": \"E10\", \"ac\": 0, \"rain\": 0, \"sun\": 0}, {\"distance\": 44.4, \"consume\": 4.8, \"speed\": 38, \"temp_inside\": 21.5, \"temp_outside\": 8, \"gas_type\": \"E10\", \"ac\": 0, \"rain\": 0, \"sun\": 0}, {\"distance\": 35.8, \"consume\": 4.4, \"speed\": 51, \"temp_inside\": 21.5, \"temp_outside\": 6, \"gas_type\": \"E10\", \"ac\": 0, \"rain\": 0, \"sun\": 0}, {\"distance\": 11.8, \"consume\": 4.9, \"speed\": 44, \"temp_inside\": 21.5, \"temp_outside\": 0, \"gas_type\": \"E10\", \"ac\": 0, \"rain\": 0, \"sun\": 0}, {\"distance\": 26.2, \"consume\": 4.9, \"speed\": 42, \"temp_inside\": 21.5, \"temp_outside\": 6, \"gas_type\": \"E10\", \"ac\": 0, \"rain\": 0, \"sun\": 0}, {\"distance\": 40.6, \"consume\": 4.4, \"speed\": 44, \"temp_inside\": 21.0, \"temp_outside\": 3, \"gas_type\": \"E10\", \"ac\": 0, \"rain\": 0, \"sun\": 0}, {\"distance\": 12.4, \"consume\": 5.3, \"speed\": 38, \"temp_inside\": 21.0, \"temp_outside\": -5, \"gas_type\": \"E10\", \"ac\": 0, \"rain\": 0, \"sun\": 0}, {\"distance\": 14.1, \"consume\": 5.3, \"speed\": 47, \"temp_inside\": 21.0, \"temp_outside\": -3, \"gas_type\": \"E10\", \"ac\": 0, \"rain\": 0, \"sun\": 0}, {\"distance\": 58.7, \"consume\": 4.8, \"speed\": 75, \"temp_inside\": 21.0, \"temp_outside\": 0, \"gas_type\": \"E10\", \"ac\": 0, \"rain\": 0, \"sun\": 0}, {\"distance\": 16.2, \"consume\": 5.2, \"speed\": 29, \"temp_inside\": 21.0, \"temp_outside\": 0, \"gas_type\": \"E10\", \"ac\": 0, \"rain\": 0, \"sun\": 0}, {\"distance\": 12.3, \"consume\": 4.9, \"speed\": 50, \"temp_inside\": 22.5, \"temp_outside\": 0, \"gas_type\": \"E10\", \"ac\": 0, \"rain\": 0, \"sun\": 0}, {\"distance\": 12.3, \"consume\": 7.1, \"speed\": 52, \"temp_inside\": 22.5, \"temp_outside\": 0, \"gas_type\": \"E10\", \"ac\": 1, \"rain\": 1, \"sun\": 0}, {\"distance\": 12.4, \"consume\": 5.2, \"speed\": 51, \"temp_inside\": 22.5, \"temp_outside\": 1, \"gas_type\": \"E10\", \"ac\": 0, \"rain\": 0, \"sun\": 0}, {\"distance\": 31.8, \"consume\": 4.7, \"speed\": 59, \"temp_inside\": 22.5, \"temp_outside\": 3, \"gas_type\": \"E10\", \"ac\": 0, \"rain\": 0, \"sun\": 0}, {\"distance\": 12.3, \"consume\": 5.1, \"speed\": 55, \"temp_inside\": 22.5, \"temp_outside\": 8, \"gas_type\": \"E10\", \"ac\": 0, \"rain\": 0, \"sun\": 0}, {\"distance\": 51.6, \"consume\": 5.0, \"speed\": 73, \"temp_inside\": 22.5, \"temp_outside\": 12, \"gas_type\": \"E10\", \"ac\": 0, \"rain\": 0, \"sun\": 0}, {\"distance\": 38.6, \"consume\": 4.6, \"speed\": 44, \"temp_inside\": 22.5, \"temp_outside\": 10, \"gas_type\": \"E10\", \"ac\": 0, \"rain\": 0, \"sun\": 0}, {\"distance\": 12.3, \"consume\": 4.8, \"speed\": 41, \"temp_inside\": 22.5, \"temp_outside\": 7, \"gas_type\": \"E10\", \"ac\": 0, \"rain\": 0, \"sun\": 0}, {\"distance\": 81.2, \"consume\": 4.4, \"speed\": 69, \"temp_inside\": 22.0, \"temp_outside\": 13, \"gas_type\": \"E10\", \"ac\": 0, \"rain\": 0, \"sun\": 0}, {\"distance\": 130.3, \"consume\": 4.6, \"speed\": 85, \"temp_inside\": 22.0, \"temp_outside\": 12, \"gas_type\": \"E10\", \"ac\": 0, \"rain\": 0, \"sun\": 0}, {\"distance\": 67.2, \"consume\": 4.3, \"speed\": 67, \"temp_inside\": 22.0, \"temp_outside\": 18, \"gas_type\": \"E10\", \"ac\": 0, \"rain\": 0, \"sun\": 0}, {\"distance\": 43.7, \"consume\": 4.7, \"speed\": 44, \"temp_inside\": 22.0, \"temp_outside\": 9, \"gas_type\": \"SP98\", \"ac\": 0, \"rain\": 1, \"sun\": 0}, {\"distance\": 12.1, \"consume\": 4.2, \"speed\": 43, \"temp_inside\": 22.0, \"temp_outside\": 4, \"gas_type\": \"SP98\", \"ac\": 0, \"rain\": 0, \"sun\": 0}, {\"distance\": 56.1, \"consume\": 4.8, \"speed\": 82, \"temp_inside\": 22.0, \"temp_outside\": 13, \"gas_type\": \"SP98\", \"ac\": 0, \"rain\": 0, \"sun\": 0}, {\"distance\": 39.0, \"consume\": 4.1, \"speed\": 61, \"temp_inside\": 22.0, \"temp_outside\": 16, \"gas_type\": \"SP98\", \"ac\": 0, \"rain\": 0, \"sun\": 0}, {\"distance\": 11.8, \"consume\": 4.5, \"speed\": 41, \"temp_inside\": 21.5, \"temp_outside\": 13, \"gas_type\": \"SP98\", \"ac\": 0, \"rain\": 0, \"sun\": 0}, {\"distance\": 38.5, \"consume\": 4.8, \"speed\": 63, \"temp_inside\": 21.5, \"temp_outside\": 14, \"gas_type\": \"SP98\", \"ac\": 0, \"rain\": 0, \"sun\": 0}, {\"distance\": 28.2, \"consume\": 4.6, \"speed\": 54, \"temp_inside\": 21.5, \"temp_outside\": 14, \"gas_type\": \"SP98\", \"ac\": 0, \"rain\": 0, \"sun\": 0}, {\"distance\": 2.9, \"consume\": 7.4, \"speed\": 24, \"temp_inside\": 21.5, \"temp_outside\": 14, \"gas_type\": \"SP98\", \"ac\": 0, \"rain\": 0, \"sun\": 0}, {\"distance\": 6.1, \"consume\": 5.6, \"speed\": 24, \"temp_inside\": 21.5, \"temp_outside\": 13, \"gas_type\": \"SP98\", \"ac\": 0, \"rain\": 0, \"sun\": 0}, {\"distance\": 19.6, \"consume\": 4.9, \"speed\": 43, \"temp_inside\": 21.5, \"temp_outside\": 13, \"gas_type\": \"SP98\", \"ac\": 0, \"rain\": 0, \"sun\": 0}, {\"distance\": 22.2, \"consume\": 3.8, \"speed\": 42, \"temp_inside\": null, \"temp_outside\": 15, \"gas_type\": \"SP98\", \"ac\": 0, \"rain\": 0, \"sun\": 0}, {\"distance\": 13.6, \"consume\": 4.5, \"speed\": 44, \"temp_inside\": 19.0, \"temp_outside\": 18, \"gas_type\": \"SP98\", \"ac\": 0, \"rain\": 0, \"sun\": 0}, {\"distance\": 12.6, \"consume\": 4.1, \"speed\": 33, \"temp_inside\": null, \"temp_outside\": 17, \"gas_type\": \"SP98\", \"ac\": 0, \"rain\": 0, \"sun\": 0}, {\"distance\": 8.7, \"consume\": 5.3, \"speed\": 28, \"temp_inside\": 22.5, \"temp_outside\": 12, \"gas_type\": \"SP98\", \"ac\": 1, \"rain\": 1, \"sun\": 0}, {\"distance\": 7.9, \"consume\": 4.7, \"speed\": 31, \"temp_inside\": 22.5, \"temp_outside\": 12, \"gas_type\": \"SP98\", \"ac\": 1, \"rain\": 0, \"sun\": 0}, {\"distance\": 2.4, \"consume\": 9.0, \"speed\": 26, \"temp_inside\": 20.0, \"temp_outside\": 10, \"gas_type\": \"SP98\", \"ac\": 0, \"rain\": 0, \"sun\": 0}, {\"distance\": 4.9, \"consume\": 6.3, \"speed\": 26, \"temp_inside\": 20.0, \"temp_outside\": 10, \"gas_type\": \"SP98\", \"ac\": 0, \"rain\": 0, \"sun\": 0}, {\"distance\": 18.1, \"consume\": 3.6, \"speed\": 36, \"temp_inside\": 20.0, \"temp_outside\": 19, \"gas_type\": \"SP98\", \"ac\": 0, \"rain\": 0, \"sun\": 0}, {\"distance\": 25.9, \"consume\": 3.7, \"speed\": 39, \"temp_inside\": 20.0, \"temp_outside\": 21, \"gas_type\": \"SP98\", \"ac\": 0, \"rain\": 0, \"sun\": 0}, {\"distance\": 1.3, \"consume\": 11.5, \"speed\": 21, \"temp_inside\": 20.0, \"temp_outside\": 10, \"gas_type\": \"SP98\", \"ac\": 0, \"rain\": 0, \"sun\": 0}, {\"distance\": 14.1, \"consume\": 5.0, \"speed\": 22, \"temp_inside\": 20.0, \"temp_outside\": 12, \"gas_type\": \"SP98\", \"ac\": 0, \"rain\": 0, \"sun\": 0}, {\"distance\": 13.4, \"consume\": 5.5, \"speed\": 31, \"temp_inside\": 20.0, \"temp_outside\": 9, \"gas_type\": \"SP98\", \"ac\": 0, \"rain\": 0, \"sun\": 0}, {\"distance\": 6.4, \"consume\": 4.7, \"speed\": 33, \"temp_inside\": 20.0, \"temp_outside\": 8, \"gas_type\": \"SP98\", \"ac\": 0, \"rain\": 0, \"sun\": 0}, {\"distance\": 12.9, \"consume\": 4.5, \"speed\": 42, \"temp_inside\": 20.0, \"temp_outside\": 13, \"gas_type\": \"SP98\", \"ac\": 0, \"rain\": 0, \"sun\": 0}, {\"distance\": 12.1, \"consume\": 4.4, \"speed\": 33, \"temp_inside\": 22.5, \"temp_outside\": 5, \"gas_type\": \"SP98\", \"ac\": 0, \"rain\": 0, \"sun\": 0}, {\"distance\": 15.7, \"consume\": 4.1, \"speed\": 32, \"temp_inside\": 22.5, \"temp_outside\": 13, \"gas_type\": \"SP98\", \"ac\": 0, \"rain\": 0, \"sun\": 0}, {\"distance\": 16.2, \"consume\": 4.4, \"speed\": 26, \"temp_inside\": 22.5, \"temp_outside\": 11, \"gas_type\": \"SP98\", \"ac\": 0, \"rain\": 0, \"sun\": 0}, {\"distance\": 12.8, \"consume\": 4.6, \"speed\": 22, \"temp_inside\": 22.5, \"temp_outside\": 12, \"gas_type\": \"SP98\", \"ac\": 0, \"rain\": 0, \"sun\": 0}, {\"distance\": 19.0, \"consume\": 4.4, \"speed\": 58, \"temp_inside\": 22.5, \"temp_outside\": 17, \"gas_type\": \"SP98\", \"ac\": 0, \"rain\": 0, \"sun\": 1}, {\"distance\": 29.0, \"consume\": 4.0, \"speed\": 27, \"temp_inside\": 22.5, \"temp_outside\": 12, \"gas_type\": \"SP98\", \"ac\": 0, \"rain\": 0, \"sun\": 0}, {\"distance\": 12.1, \"consume\": 5.0, \"speed\": 32, \"temp_inside\": 22.5, \"temp_outside\": 9, \"gas_type\": \"SP98\", \"ac\": 0, \"rain\": 0, \"sun\": 0}, {\"distance\": 12.3, \"consume\": 5.2, \"speed\": 55, \"temp_inside\": 22.5, \"temp_outside\": 10, \"gas_type\": \"SP98\", \"ac\": 0, \"rain\": 0, \"sun\": 0}, {\"distance\": 24.8, \"consume\": 4.0, \"speed\": 56, \"temp_inside\": 22.5, \"temp_outside\": 11, \"gas_type\": \"SP98\", \"ac\": 0, \"rain\": 0, \"sun\": 0}, {\"distance\": 12.9, \"consume\": 5.1, \"speed\": 34, \"temp_inside\": 22.5, \"temp_outside\": 8, \"gas_type\": \"SP98\", \"ac\": 0, \"rain\": 1, \"sun\": 0}, {\"distance\": 11.8, \"consume\": 4.5, \"speed\": 39, \"temp_inside\": 22.5, \"temp_outside\": 3, \"gas_type\": \"SP98\", \"ac\": 0, \"rain\": 0, \"sun\": 0}, {\"distance\": 31.4, \"consume\": 4.6, \"speed\": 62, \"temp_inside\": 22.5, \"temp_outside\": 11, \"gas_type\": \"SP98\", \"ac\": 0, \"rain\": 0, \"sun\": 0}, {\"distance\": 19.0, \"consume\": 5.1, \"speed\": 53, \"temp_inside\": 22.5, \"temp_outside\": 4, \"gas_type\": \"SP98\", \"ac\": 0, \"rain\": 1, \"sun\": 0}, {\"distance\": 13.0, \"consume\": 5.7, \"speed\": 38, \"temp_inside\": 22.5, \"temp_outside\": 3, \"gas_type\": \"SP98\", \"ac\": 1, \"rain\": 1, \"sun\": 0}, {\"distance\": 11.8, \"consume\": 4.8, \"speed\": 42, \"temp_inside\": 22.5, \"temp_outside\": 2, \"gas_type\": \"SP98\", \"ac\": 0, \"rain\": 0, \"sun\": 0}, {\"distance\": 13.0, \"consume\": 6.2, \"speed\": 32, \"temp_inside\": 22.5, \"temp_outside\": 4, \"gas_type\": \"SP98\", \"ac\": 0, \"rain\": 0, \"sun\": 0}, {\"distance\": 11.8, \"consume\": 5.0, \"speed\": 43, \"temp_inside\": 22.5, \"temp_outside\": 1, \"gas_type\": \"SP98\", \"ac\": 0, \"rain\": 0, \"sun\": 0}, {\"distance\": 27.1, \"consume\": 5.0, \"speed\": 69, \"temp_inside\": 22.5, \"temp_outside\": 8, \"gas_type\": \"SP98\", \"ac\": 0, \"rain\": 0, \"sun\": 0}, {\"distance\": 5.2, \"consume\": 4.6, \"speed\": 38, \"temp_inside\": 22.5, \"temp_outside\": 8, \"gas_type\": \"SP98\", \"ac\": 0, \"rain\": 0, \"sun\": 0}, {\"distance\": 19.0, \"consume\": 4.5, \"speed\": 29, \"temp_inside\": 22.5, \"temp_outside\": 10, \"gas_type\": \"E10\", \"ac\": 0, \"rain\": 0, \"sun\": 0}, {\"distance\": 12.4, \"consume\": 4.8, \"speed\": 38, \"temp_inside\": 22.5, \"temp_outside\": 1, \"gas_type\": \"E10\", \"ac\": 0, \"rain\": 0, \"sun\": 0}, {\"distance\": 25.2, \"consume\": 5.0, \"speed\": 55, \"temp_inside\": 22.5, \"temp_outside\": 9, \"gas_type\": \"E10\", \"ac\": 0, \"rain\": 0, \"sun\": 0}, {\"distance\": 14.3, \"consume\": 4.8, \"speed\": 36, \"temp_inside\": 22.5, \"temp_outside\": 10, \"gas_type\": \"E10\", \"ac\": 0, \"rain\": 0, \"sun\": 0}, {\"distance\": 11.8, \"consume\": 4.6, \"speed\": 40, \"temp_inside\": 22.5, \"temp_outside\": 2, \"gas_type\": \"E10\", \"ac\": 0, \"rain\": 0, \"sun\": 0}, {\"distance\": 16.9, \"consume\": 4.5, \"speed\": 48, \"temp_inside\": 22.5, \"temp_outside\": 9, \"gas_type\": \"E10\", \"ac\": 0, \"rain\": 0, \"sun\": 1}, {\"distance\": 12.4, \"consume\": 4.6, \"speed\": 55, \"temp_inside\": 22.5, \"temp_outside\": 11, \"gas_type\": \"E10\", \"ac\": 0, \"rain\": 0, \"sun\": 1}, {\"distance\": 17.4, \"consume\": 4.4, \"speed\": 36, \"temp_inside\": 22.5, \"temp_outside\": 12, \"gas_type\": \"E10\", \"ac\": 0, \"rain\": 0, \"sun\": 1}, {\"distance\": 9.2, \"consume\": 5.7, \"speed\": 33, \"temp_inside\": 22.5, \"temp_outside\": 8, \"gas_type\": \"E10\", \"ac\": 0, \"rain\": 1, \"sun\": 0}, {\"distance\": 12.3, \"consume\": 5.8, \"speed\": 54, \"temp_inside\": 22.5, \"temp_outside\": 10, \"gas_type\": \"E10\", \"ac\": 0, \"rain\": 1, \"sun\": 0}, {\"distance\": 13.0, \"consume\": 5.9, \"speed\": 32, \"temp_inside\": 22.5, \"temp_outside\": 10, \"gas_type\": \"E10\", \"ac\": 0, \"rain\": 0, \"sun\": 0}, {\"distance\": 11.8, \"consume\": 6.1, \"speed\": 16, \"temp_inside\": 22.5, \"temp_outside\": 6, \"gas_type\": \"E10\", \"ac\": 0, \"rain\": 1, \"sun\": 0}, {\"distance\": 13.0, \"consume\": 5.7, \"speed\": 37, \"temp_inside\": 22.5, \"temp_outside\": 11, \"gas_type\": \"E10\", \"ac\": 0, \"rain\": 1, \"sun\": 0}, {\"distance\": 12.3, \"consume\": 5.0, \"speed\": 42, \"temp_inside\": 22.5, \"temp_outside\": 10, \"gas_type\": \"E10\", \"ac\": 0, \"rain\": 0, \"sun\": 0}, {\"distance\": 12.3, \"consume\": 5.2, \"speed\": 57, \"temp_inside\": 22.5, \"temp_outside\": 15, \"gas_type\": \"E10\", \"ac\": 0, \"rain\": 0, \"sun\": 1}, {\"distance\": 12.5, \"consume\": 4.3, \"speed\": 57, \"temp_inside\": 22.5, \"temp_outside\": 16, \"gas_type\": \"E10\", \"ac\": 0, \"rain\": 0, \"sun\": 1}, {\"distance\": 31.5, \"consume\": 4.1, \"speed\": 30, \"temp_inside\": 22.5, \"temp_outside\": 16, \"gas_type\": \"E10\", \"ac\": 0, \"rain\": 0, \"sun\": 1}, {\"distance\": 11.8, \"consume\": 4.4, \"speed\": 42, \"temp_inside\": 22.5, \"temp_outside\": 8, \"gas_type\": \"E10\", \"ac\": 0, \"rain\": 0, \"sun\": 0}, {\"distance\": 24.9, \"consume\": 4.5, \"speed\": 53, \"temp_inside\": 22.5, \"temp_outside\": 14, \"gas_type\": \"E10\", \"ac\": 0, \"rain\": 0, \"sun\": 0}, {\"distance\": 17.0, \"consume\": 3.9, \"speed\": 46, \"temp_inside\": 22.5, \"temp_outside\": 14, \"gas_type\": \"E10\", \"ac\": 0, \"rain\": 0, \"sun\": 1}, {\"distance\": 2.0, \"consume\": 8.1, \"speed\": 20, \"temp_inside\": 22.5, \"temp_outside\": 14, \"gas_type\": \"E10\", \"ac\": 0, \"rain\": 0, \"sun\": 0}, {\"distance\": 11.8, \"consume\": 4.4, \"speed\": 33, \"temp_inside\": 22.5, \"temp_outside\": 8, \"gas_type\": \"E10\", \"ac\": 0, \"rain\": 0, \"sun\": 0}, {\"distance\": 7.4, \"consume\": 5.0, \"speed\": 31, \"temp_inside\": 22.5, \"temp_outside\": 12, \"gas_type\": \"E10\", \"ac\": 0, \"rain\": 0, \"sun\": 0}, {\"distance\": 12.4, \"consume\": 4.7, \"speed\": 55, \"temp_inside\": 22.5, \"temp_outside\": 14, \"gas_type\": \"E10\", \"ac\": 0, \"rain\": 0, \"sun\": 1}, {\"distance\": 2.0, \"consume\": 6.0, \"speed\": 22, \"temp_inside\": 22.5, \"temp_outside\": 14, \"gas_type\": \"E10\", \"ac\": 0, \"rain\": 0, \"sun\": 0}, {\"distance\": 14.0, \"consume\": 5.0, \"speed\": 41, \"temp_inside\": 22.5, \"temp_outside\": 8, \"gas_type\": \"E10\", \"ac\": 0, \"rain\": 0, \"sun\": 0}, {\"distance\": 25.7, \"consume\": 5.0, \"speed\": 45, \"temp_inside\": 22.5, \"temp_outside\": 7, \"gas_type\": \"E10\", \"ac\": 0, \"rain\": 0, \"sun\": 0}, {\"distance\": 24.5, \"consume\": 3.9, \"speed\": 50, \"temp_inside\": null, \"temp_outside\": 15, \"gas_type\": \"E10\", \"ac\": 0, \"rain\": 0, \"sun\": 1}, {\"distance\": 11.8, \"consume\": 4.5, \"speed\": 28, \"temp_inside\": 22.5, \"temp_outside\": 12, \"gas_type\": \"E10\", \"ac\": 0, \"rain\": 0, \"sun\": 0}, {\"distance\": 4.1, \"consume\": 5.4, \"speed\": 24, \"temp_inside\": 22.5, \"temp_outside\": 13, \"gas_type\": \"E10\", \"ac\": 0, \"rain\": 0, \"sun\": 0}, {\"distance\": 4.2, \"consume\": 5.6, \"speed\": 29, \"temp_inside\": 22.0, \"temp_outside\": 17, \"gas_type\": \"E10\", \"ac\": 0, \"rain\": 0, \"sun\": 0}, {\"distance\": 4.2, \"consume\": 3.9, \"speed\": 29, \"temp_inside\": 22.0, \"temp_outside\": 18, \"gas_type\": \"E10\", \"ac\": 0, \"rain\": 0, \"sun\": 1}, {\"distance\": 16.0, \"consume\": 4.0, \"speed\": 40, \"temp_inside\": 22.0, \"temp_outside\": 10, \"gas_type\": \"E10\", \"ac\": 0, \"rain\": 0, \"sun\": 0}, {\"distance\": 22.9, \"consume\": 4.0, \"speed\": 29, \"temp_inside\": null, \"temp_outside\": 21, \"gas_type\": \"E10\", \"ac\": 0, \"rain\": 0, \"sun\": 0}, {\"distance\": 16.0, \"consume\": 3.8, \"speed\": 42, \"temp_inside\": null, \"temp_outside\": 8, \"gas_type\": \"E10\", \"ac\": 0, \"rain\": 0, \"sun\": 0}, {\"distance\": 15.4, \"consume\": 4.5, \"speed\": 50, \"temp_inside\": 22.0, \"temp_outside\": 14, \"gas_type\": \"E10\", \"ac\": 0, \"rain\": 0, \"sun\": 0}, {\"distance\": 16.0, \"consume\": 3.8, \"speed\": 41, \"temp_inside\": 22.0, \"temp_outside\": 12, \"gas_type\": \"E10\", \"ac\": 0, \"rain\": 0, \"sun\": 0}, {\"distance\": 4.2, \"consume\": 5.6, \"speed\": 32, \"temp_inside\": 22.0, \"temp_outside\": 18, \"gas_type\": \"E10\", \"ac\": 0, \"rain\": 0, \"sun\": 0}, {\"distance\": 101.9, \"consume\": 5.2, \"speed\": 75, \"temp_inside\": 22.0, \"temp_outside\": 18, \"gas_type\": \"E10\", \"ac\": 0, \"rain\": 0, \"sun\": 0}, {\"distance\": 93.9, \"consume\": 4.8, \"speed\": 88, \"temp_inside\": 23.0, \"temp_outside\": 18, \"gas_type\": \"E10\", \"ac\": 1, \"rain\": 0, \"sun\": 1}, {\"distance\": 25.7, \"consume\": 4.9, \"speed\": 50, \"temp_inside\": 22.0, \"temp_outside\": 10, \"gas_type\": \"SP98\", \"ac\": 0, \"rain\": 1, \"sun\": 0}, {\"distance\": 16.0, \"consume\": 4.1, \"speed\": 40, \"temp_inside\": 22.0, \"temp_outside\": 10, \"gas_type\": \"SP98\", \"ac\": 0, \"rain\": 0, \"sun\": 0}, {\"distance\": 16.1, \"consume\": 4.5, \"speed\": 32, \"temp_inside\": 22.0, \"temp_outside\": 19, \"gas_type\": \"SP98\", \"ac\": 0, \"rain\": 0, \"sun\": 0}, {\"distance\": 16.0, \"consume\": 4.4, \"speed\": 40, \"temp_inside\": 22.0, \"temp_outside\": 7, \"gas_type\": \"SP98\", \"ac\": 1, \"rain\": 1, \"sun\": 0}, {\"distance\": 16.0, \"consume\": 4.5, \"speed\": 41, \"temp_inside\": 22.0, \"temp_outside\": 11, \"gas_type\": \"SP98\", \"ac\": 0, \"rain\": 0, \"sun\": 0}, {\"distance\": 24.7, \"consume\": 4.5, \"speed\": 26, \"temp_inside\": 22.0, \"temp_outside\": 10, \"gas_type\": \"SP98\", \"ac\": 0, \"rain\": 0, \"sun\": 0}, {\"distance\": 16.0, \"consume\": 3.9, \"speed\": 42, \"temp_inside\": 22.0, \"temp_outside\": 8, \"gas_type\": \"SP98\", \"ac\": 0, \"rain\": 0, \"sun\": 0}, {\"distance\": 15.4, \"consume\": 4.6, \"speed\": 43, \"temp_inside\": 22.0, \"temp_outside\": 16, \"gas_type\": \"SP98\", \"ac\": 0, \"rain\": 0, \"sun\": 0}, {\"distance\": 16.0, \"consume\": 3.8, \"speed\": 40, \"temp_inside\": 22.0, \"temp_outside\": 8, \"gas_type\": \"SP98\", \"ac\": 0, \"rain\": 0, \"sun\": 0}, {\"distance\": 32.1, \"consume\": 4.5, \"speed\": 50, \"temp_inside\": 22.0, \"temp_outside\": 16, \"gas_type\": \"SP98\", \"ac\": 0, \"rain\": 0, \"sun\": 0}, {\"distance\": 25.9, \"consume\": 4.4, \"speed\": 40, \"temp_inside\": 22.0, \"temp_outside\": 14, \"gas_type\": \"SP98\", \"ac\": 0, \"rain\": 0, \"sun\": 0}, {\"distance\": 48.6, \"consume\": 4.3, \"speed\": 44, \"temp_inside\": 22.0, \"temp_outside\": 12, \"gas_type\": \"SP98\", \"ac\": 0, \"rain\": 0, \"sun\": 0}, {\"distance\": 37.2, \"consume\": 4.0, \"speed\": 45, \"temp_inside\": 22.0, \"temp_outside\": 20, \"gas_type\": \"SP98\", \"ac\": 0, \"rain\": 0, \"sun\": 1}, {\"distance\": 28.8, \"consume\": 3.9, \"speed\": 35, \"temp_inside\": 22.0, \"temp_outside\": 15, \"gas_type\": \"SP98\", \"ac\": 0, \"rain\": 0, \"sun\": 1}, {\"distance\": 6.7, \"consume\": 5.0, \"speed\": 30, \"temp_inside\": 22.0, \"temp_outside\": 17, \"gas_type\": \"SP98\", \"ac\": 0, \"rain\": 0, \"sun\": 0}, {\"distance\": 7.4, \"consume\": 4.1, \"speed\": 25, \"temp_inside\": 22.0, \"temp_outside\": 18, \"gas_type\": \"SP98\", \"ac\": 0, \"rain\": 0, \"sun\": 1}, {\"distance\": 17.3, \"consume\": 4.1, \"speed\": 22, \"temp_inside\": 22.0, \"temp_outside\": 25, \"gas_type\": \"SP98\", \"ac\": 0, \"rain\": 0, \"sun\": 1}, {\"distance\": 6.6, \"consume\": 5.6, \"speed\": 43, \"temp_inside\": 22.0, \"temp_outside\": 16, \"gas_type\": \"SP98\", \"ac\": 0, \"rain\": 0, \"sun\": 0}, {\"distance\": 14.3, \"consume\": 4.1, \"speed\": 26, \"temp_inside\": 22.0, \"temp_outside\": 20, \"gas_type\": \"SP98\", \"ac\": 0, \"rain\": 0, \"sun\": 0}, {\"distance\": 13.3, \"consume\": 4.6, \"speed\": 33, \"temp_inside\": 22.0, \"temp_outside\": 18, \"gas_type\": \"SP98\", \"ac\": 0, \"rain\": 0, \"sun\": 0}, {\"distance\": 8.3, \"consume\": 4.9, \"speed\": 26, \"temp_inside\": 22.0, \"temp_outside\": 23, \"gas_type\": \"SP98\", \"ac\": 0, \"rain\": 0, \"sun\": 0}, {\"distance\": 12.7, \"consume\": 4.5, \"speed\": 39, \"temp_inside\": 22.0, \"temp_outside\": 27, \"gas_type\": \"SP98\", \"ac\": 0, \"rain\": 0, \"sun\": 1}, {\"distance\": 16.5, \"consume\": 4.1, \"speed\": 47, \"temp_inside\": 22.0, \"temp_outside\": 14, \"gas_type\": \"SP98\", \"ac\": 0, \"rain\": 0, \"sun\": 0}, {\"distance\": 20.6, \"consume\": 4.1, \"speed\": 38, \"temp_inside\": 22.0, \"temp_outside\": 21, \"gas_type\": \"SP98\", \"ac\": 0, \"rain\": 0, \"sun\": 0}, {\"distance\": 16.3, \"consume\": 4.5, \"speed\": 58, \"temp_inside\": 22.0, \"temp_outside\": 16, \"gas_type\": \"SP98\", \"ac\": 0, \"rain\": 0, \"sun\": 0}, {\"distance\": 18.7, \"consume\": 4.2, \"speed\": 65, \"temp_inside\": 25.0, \"temp_outside\": 18, \"gas_type\": \"SP98\", \"ac\": 1, \"rain\": 0, \"sun\": 1}, {\"distance\": 36.5, \"consume\": 3.9, \"speed\": 54, \"temp_inside\": 23.0, \"temp_outside\": 18, \"gas_type\": \"SP98\", \"ac\": 0, \"rain\": 0, \"sun\": 1}, {\"distance\": 19.0, \"consume\": 5.0, \"speed\": 35, \"temp_inside\": 22.0, \"temp_outside\": 15, \"gas_type\": \"SP98\", \"ac\": 1, \"rain\": 0, \"sun\": 1}, {\"distance\": 16.6, \"consume\": 4.4, \"speed\": 46, \"temp_inside\": 22.0, \"temp_outside\": 5, \"gas_type\": \"SP98\", \"ac\": 1, \"rain\": 0, \"sun\": 0}, {\"distance\": 29.9, \"consume\": 4.5, \"speed\": 32, \"temp_inside\": 22.0, \"temp_outside\": 18, \"gas_type\": \"SP98\", \"ac\": 1, \"rain\": 0, \"sun\": 0}, {\"distance\": 16.0, \"consume\": 3.8, \"speed\": 42, \"temp_inside\": 22.0, \"temp_outside\": 11, \"gas_type\": \"SP98\", \"ac\": 0, \"rain\": 0, \"sun\": 0}, {\"distance\": 21.1, \"consume\": 5.1, \"speed\": 33, \"temp_inside\": 22.0, \"temp_outside\": 10, \"gas_type\": \"SP98\", \"ac\": 0, \"rain\": 1, \"sun\": 0}, {\"distance\": 16.0, \"consume\": 3.9, \"speed\": 40, \"temp_inside\": 22.0, \"temp_outside\": 10, \"gas_type\": \"SP98\", \"ac\": 0, \"rain\": 0, \"sun\": 0}, {\"distance\": 11.9, \"consume\": 5.3, \"speed\": 34, \"temp_inside\": 22.0, \"temp_outside\": 13, \"gas_type\": \"SP98\", \"ac\": 0, \"rain\": 0, \"sun\": 0}, {\"distance\": 10.1, \"consume\": 4.2, \"speed\": 35, \"temp_inside\": 22.0, \"temp_outside\": 16, \"gas_type\": \"SP98\", \"ac\": 0, \"rain\": 0, \"sun\": 0}, {\"distance\": 31.9, \"consume\": 4.3, \"speed\": 33, \"temp_inside\": 22.0, \"temp_outside\": 16, \"gas_type\": \"SP98\", \"ac\": 0, \"rain\": 0, \"sun\": 0}, {\"distance\": 18.7, \"consume\": 4.0, \"speed\": 60, \"temp_inside\": 22.0, \"temp_outside\": 13, \"gas_type\": \"SP98\", \"ac\": 0, \"rain\": 0, \"sun\": 0}, {\"distance\": 10.8, \"consume\": 4.7, \"speed\": 48, \"temp_inside\": 22.0, \"temp_outside\": 17, \"gas_type\": \"SP98\", \"ac\": 0, \"rain\": 0, \"sun\": 1}, {\"distance\": 19.8, \"consume\": 4.0, \"speed\": 56, \"temp_inside\": 22.0, \"temp_outside\": 17, \"gas_type\": \"SP98\", \"ac\": 0, \"rain\": 0, \"sun\": 1}, {\"distance\": 11.3, \"consume\": 4.3, \"speed\": 38, \"temp_inside\": 22.0, \"temp_outside\": 17, \"gas_type\": \"SP98\", \"ac\": 0, \"rain\": 0, \"sun\": 0}, {\"distance\": 11.5, \"consume\": 5.3, \"speed\": 53, \"temp_inside\": 22.0, \"temp_outside\": 15, \"gas_type\": \"SP98\", \"ac\": 0, \"rain\": 0, \"sun\": 0}, {\"distance\": 21.4, \"consume\": 5.2, \"speed\": 51, \"temp_inside\": 22.0, \"temp_outside\": 13, \"gas_type\": \"SP98\", \"ac\": 0, \"rain\": 0, \"sun\": 0}, {\"distance\": 32.0, \"consume\": 4.9, \"speed\": 53, \"temp_inside\": 22.0, \"temp_outside\": 15, \"gas_type\": \"SP98\", \"ac\": 0, \"rain\": 0, \"sun\": 0}, {\"distance\": 41.9, \"consume\": 4.7, \"speed\": 53, \"temp_inside\": 22.0, \"temp_outside\": 14, \"gas_type\": \"SP98\", \"ac\": 0, \"rain\": 0, \"sun\": 0}, {\"distance\": 211.0, \"consume\": 4.6, \"speed\": 80, \"temp_inside\": 22.0, \"temp_outside\": 20, \"gas_type\": \"SP98\", \"ac\": 0, \"rain\": 0, \"sun\": 0}, {\"distance\": 216.1, \"consume\": 5.3, \"speed\": 90, \"temp_inside\": 22.0, \"temp_outside\": 21, \"gas_type\": \"SP98\", \"ac\": 0, \"rain\": 0, \"sun\": 1}, {\"distance\": 25.5, \"consume\": 3.6, \"speed\": 27, \"temp_inside\": 22.0, \"temp_outside\": 27, \"gas_type\": \"SP98\", \"ac\": 0, \"rain\": 0, \"sun\": 1}, {\"distance\": 16.6, \"consume\": 4.2, \"speed\": 52, \"temp_inside\": 22.0, \"temp_outside\": 15, \"gas_type\": \"SP98\", \"ac\": 0, \"rain\": 1, \"sun\": 0}, {\"distance\": 25.9, \"consume\": 4.1, \"speed\": 43, \"temp_inside\": 22.0, \"temp_outside\": 24, \"gas_type\": \"SP98\", \"ac\": 0, \"rain\": 0, \"sun\": 0}, {\"distance\": 16.5, \"consume\": 4.0, \"speed\": 48, \"temp_inside\": 22.0, \"temp_outside\": 15, \"gas_type\": \"SP98\", \"ac\": 0, \"rain\": 0, \"sun\": 0}, {\"distance\": 22.1, \"consume\": 3.9, \"speed\": 29, \"temp_inside\": 22.0, \"temp_outside\": 26, \"gas_type\": \"SP98\", \"ac\": 0, \"rain\": 0, \"sun\": 0}, {\"distance\": 16.6, \"consume\": 3.7, \"speed\": 49, \"temp_inside\": 22.0, \"temp_outside\": 17, \"gas_type\": \"E10\", \"ac\": 0, \"rain\": 0, \"sun\": 0}, {\"distance\": 15.4, \"consume\": 4.5, \"speed\": 43, \"temp_inside\": 22.0, \"temp_outside\": 24, \"gas_type\": \"E10\", \"ac\": 0, \"rain\": 0, \"sun\": 0}, {\"distance\": 16.5, \"consume\": 3.9, \"speed\": 43, \"temp_inside\": 22.0, \"temp_outside\": 17, \"gas_type\": \"E10\", \"ac\": 0, \"rain\": 0, \"sun\": 0}, {\"distance\": 15.4, \"consume\": 5.1, \"speed\": 21, \"temp_inside\": 22.0, \"temp_outside\": 24, \"gas_type\": \"E10\", \"ac\": 0, \"rain\": 0, \"sun\": 0}, {\"distance\": 18.4, \"consume\": 4.2, \"speed\": 59, \"temp_inside\": 22.0, \"temp_outside\": 24, \"gas_type\": \"E10\", \"ac\": 0, \"rain\": 0, \"sun\": 0}, {\"distance\": 39.5, \"consume\": 4.2, \"speed\": 58, \"temp_inside\": 22.0, \"temp_outside\": 25, \"gas_type\": \"E10\", \"ac\": 0, \"rain\": 0, \"sun\": 0}, {\"distance\": 21.5, \"consume\": 4.8, \"speed\": 47, \"temp_inside\": 25.0, \"temp_outside\": 27, \"gas_type\": \"E10\", \"ac\": 1, \"rain\": 0, \"sun\": 1}, {\"distance\": 4.8, \"consume\": 4.7, \"speed\": 26, \"temp_inside\": 25.0, \"temp_outside\": 18, \"gas_type\": \"E10\", \"ac\": 0, \"rain\": 0, \"sun\": 0}, {\"distance\": 100.9, \"consume\": 4.7, \"speed\": 87, \"temp_inside\": 23.5, \"temp_outside\": 22, \"gas_type\": \"E10\", \"ac\": 0, \"rain\": 0, \"sun\": 0}, {\"distance\": 129.7, \"consume\": 4.6, \"speed\": 58, \"temp_inside\": 24.0, \"temp_outside\": 21, \"gas_type\": \"E10\", \"ac\": 0, \"rain\": 0, \"sun\": 0}, {\"distance\": 16.6, \"consume\": 3.8, \"speed\": 43, \"temp_inside\": 21.5, \"temp_outside\": 16, \"gas_type\": \"E10\", \"ac\": 0, \"rain\": 0, \"sun\": 0}, {\"distance\": 15.4, \"consume\": 4.2, \"speed\": 50, \"temp_inside\": 21.5, \"temp_outside\": 21, \"gas_type\": \"E10\", \"ac\": 0, \"rain\": 0, \"sun\": 0}, {\"distance\": 16.0, \"consume\": 3.7, \"speed\": 45, \"temp_inside\": 22.0, \"temp_outside\": 17, \"gas_type\": \"E10\", \"ac\": 0, \"rain\": 0, \"sun\": 0}, {\"distance\": 16.0, \"consume\": 4.2, \"speed\": 41, \"temp_inside\": 22.0, \"temp_outside\": 15, \"gas_type\": \"E10\", \"ac\": 0, \"rain\": 0, \"sun\": 0}, {\"distance\": 15.4, \"consume\": 4.1, \"speed\": 45, \"temp_inside\": 22.0, \"temp_outside\": 24, \"gas_type\": \"E10\", \"ac\": 0, \"rain\": 0, \"sun\": 0}, {\"distance\": 16.0, \"consume\": 4.0, \"speed\": 43, \"temp_inside\": 22.0, \"temp_outside\": 16, \"gas_type\": \"E10\", \"ac\": 0, \"rain\": 0, \"sun\": 0}, {\"distance\": 21.0, \"consume\": 3.8, \"speed\": 37, \"temp_inside\": 22.0, \"temp_outside\": 21, \"gas_type\": \"E10\", \"ac\": 0, \"rain\": 0, \"sun\": 0}, {\"distance\": 15.4, \"consume\": 3.8, \"speed\": 47, \"temp_inside\": 22.0, \"temp_outside\": 24, \"gas_type\": \"E10\", \"ac\": 0, \"rain\": 0, \"sun\": 0}, {\"distance\": 16.0, \"consume\": 3.8, \"speed\": 42, \"temp_inside\": 22.0, \"temp_outside\": 17, \"gas_type\": \"E10\", \"ac\": 0, \"rain\": 0, \"sun\": 0}, {\"distance\": 16.1, \"consume\": 5.1, \"speed\": 30, \"temp_inside\": 25.0, \"temp_outside\": 16, \"gas_type\": \"E10\", \"ac\": 1, \"rain\": 1, \"sun\": 0}, {\"distance\": 16.0, \"consume\": 4.0, \"speed\": 42, \"temp_inside\": 22.0, \"temp_outside\": 15, \"gas_type\": \"E10\", \"ac\": 0, \"rain\": 0, \"sun\": 0}, {\"distance\": 15.4, \"consume\": 4.8, \"speed\": 40, \"temp_inside\": 22.0, \"temp_outside\": 18, \"gas_type\": \"E10\", \"ac\": 0, \"rain\": 0, \"sun\": 0}, {\"distance\": 17.2, \"consume\": 3.9, \"speed\": 35, \"temp_inside\": 22.0, \"temp_outside\": 16, \"gas_type\": \"E10\", \"ac\": 0, \"rain\": 0, \"sun\": 0}, {\"distance\": 16.6, \"consume\": 4.6, \"speed\": 50, \"temp_inside\": 22.0, \"temp_outside\": 25, \"gas_type\": \"E10\", \"ac\": 0, \"rain\": 0, \"sun\": 0}, {\"distance\": 18.3, \"consume\": 4.3, \"speed\": 46, \"temp_inside\": 22.0, \"temp_outside\": 16, \"gas_type\": \"SP98\", \"ac\": 0, \"rain\": 0, \"sun\": 0}, {\"distance\": 16.1, \"consume\": 4.8, \"speed\": 36, \"temp_inside\": 22.0, \"temp_outside\": 18, \"gas_type\": \"SP98\", \"ac\": 0, \"rain\": 1, \"sun\": 0}, {\"distance\": 16.0, \"consume\": 4.1, \"speed\": 46, \"temp_inside\": 22.0, \"temp_outside\": 17, \"gas_type\": \"SP98\", \"ac\": 0, \"rain\": 0, \"sun\": 0}, {\"distance\": 16.3, \"consume\": 4.0, \"speed\": 35, \"temp_inside\": 22.0, \"temp_outside\": 23, \"gas_type\": \"SP98\", \"ac\": 0, \"rain\": 0, \"sun\": 0}, {\"distance\": 16.0, \"consume\": 3.7, \"speed\": 44, \"temp_inside\": 22.0, \"temp_outside\": 16, \"gas_type\": \"SP98\", \"ac\": 0, \"rain\": 0, \"sun\": 0}, {\"distance\": 18.3, \"consume\": 4.3, \"speed\": 46, \"temp_inside\": 22.0, \"temp_outside\": 23, \"gas_type\": \"SP98\", \"ac\": 0, \"rain\": 0, \"sun\": 0}, {\"distance\": 4.5, \"consume\": 5.2, \"speed\": 23, \"temp_inside\": 22.0, \"temp_outside\": 23, \"gas_type\": \"SP98\", \"ac\": 0, \"rain\": 0, \"sun\": 1}, {\"distance\": 17.0, \"consume\": 4.2, \"speed\": 48, \"temp_inside\": 22.0, \"temp_outside\": 16, \"gas_type\": \"SP98\", \"ac\": 0, \"rain\": 0, \"sun\": 0}, {\"distance\": 6.1, \"consume\": 5.0, \"speed\": 35, \"temp_inside\": 24.5, \"temp_outside\": 18, \"gas_type\": \"SP98\", \"ac\": 0, \"rain\": 0, \"sun\": 0}, {\"distance\": 6.1, \"consume\": 5.0, \"speed\": 33, \"temp_inside\": 22.0, \"temp_outside\": 24, \"gas_type\": \"SP98\", \"ac\": 0, \"rain\": 0, \"sun\": 1}, {\"distance\": 17.3, \"consume\": 4.2, \"speed\": 36, \"temp_inside\": 22.0, \"temp_outside\": 22, \"gas_type\": \"SP98\", \"ac\": 0, \"rain\": 0, \"sun\": 0}, {\"distance\": 6.0, \"consume\": 4.8, \"speed\": 27, \"temp_inside\": 22.0, \"temp_outside\": 17, \"gas_type\": \"SP98\", \"ac\": 0, \"rain\": 0, \"sun\": 0}, {\"distance\": 16.0, \"consume\": 4.1, \"speed\": 45, \"temp_inside\": 22.0, \"temp_outside\": 15, \"gas_type\": \"SP98\", \"ac\": 0, \"rain\": 0, \"sun\": 0}, {\"distance\": 15.4, \"consume\": 4.9, \"speed\": 55, \"temp_inside\": 22.0, \"temp_outside\": 18, \"gas_type\": \"SP98\", \"ac\": 0, \"rain\": 0, \"sun\": 0}, {\"distance\": 15.4, \"consume\": 4.3, \"speed\": 39, \"temp_inside\": 22.0, \"temp_outside\": 23, \"gas_type\": \"SP98\", \"ac\": 0, \"rain\": 0, \"sun\": 0}, {\"distance\": 16.0, \"consume\": 3.9, \"speed\": 35, \"temp_inside\": 22.0, \"temp_outside\": 18, \"gas_type\": \"SP98\", \"ac\": 0, \"rain\": 0, \"sun\": 0}, {\"distance\": 15.4, \"consume\": 4.5, \"speed\": 52, \"temp_inside\": 22.0, \"temp_outside\": 26, \"gas_type\": \"SP98\", \"ac\": 0, \"rain\": 0, \"sun\": 0}, {\"distance\": 16.6, \"consume\": 4.1, \"speed\": 48, \"temp_inside\": 25.5, \"temp_outside\": 30, \"gas_type\": \"SP98\", \"ac\": 1, \"rain\": 0, \"sun\": 1}, {\"distance\": 15.4, \"consume\": 5.0, \"speed\": 48, \"temp_inside\": 25.5, \"temp_outside\": 31, \"gas_type\": \"SP98\", \"ac\": 1, \"rain\": 0, \"sun\": 0}, {\"distance\": 16.0, \"consume\": 4.0, \"speed\": 43, \"temp_inside\": 22.0, \"temp_outside\": 21, \"gas_type\": \"SP98\", \"ac\": 1, \"rain\": 0, \"sun\": 0}, {\"distance\": 15.4, \"consume\": 4.5, \"speed\": 42, \"temp_inside\": 22.0, \"temp_outside\": 30, \"gas_type\": \"SP98\", \"ac\": 0, \"rain\": 0, \"sun\": 0}, {\"distance\": 16.0, \"consume\": 3.6, \"speed\": 43, \"temp_inside\": 22.0, \"temp_outside\": 19, \"gas_type\": \"SP98\", \"ac\": 0, \"rain\": 0, \"sun\": 0}, {\"distance\": 20.9, \"consume\": 4.1, \"speed\": 33, \"temp_inside\": 22.0, \"temp_outside\": 21, \"gas_type\": \"SP98\", \"ac\": 0, \"rain\": 0, \"sun\": 0}, {\"distance\": 32.1, \"consume\": 3.9, \"speed\": 47, \"temp_inside\": 22.0, \"temp_outside\": 26, \"gas_type\": \"SP98\", \"ac\": 0, \"rain\": 0, \"sun\": 0}, {\"distance\": 15.3, \"consume\": 6.6, \"speed\": 16, \"temp_inside\": 24.0, \"temp_outside\": 27, \"gas_type\": \"SP98\", \"ac\": 1, \"rain\": 0, \"sun\": 0}, {\"distance\": 28.5, \"consume\": 4.0, \"speed\": 44, \"temp_inside\": 25.0, \"temp_outside\": 23, \"gas_type\": \"SP98\", \"ac\": 1, \"rain\": 0, \"sun\": 0}, {\"distance\": 11.9, \"consume\": 3.7, \"speed\": 33, \"temp_inside\": 25.0, \"temp_outside\": 19, \"gas_type\": \"SP98\", \"ac\": 0, \"rain\": 0, \"sun\": 0}, {\"distance\": 14.5, \"consume\": 4.3, \"speed\": 36, \"temp_inside\": 25.0, \"temp_outside\": 22, \"gas_type\": \"SP98\", \"ac\": 0, \"rain\": 0, \"sun\": 0}, {\"distance\": 16.6, \"consume\": 4.1, \"speed\": 49, \"temp_inside\": 22.0, \"temp_outside\": 26, \"gas_type\": \"SP98\", \"ac\": 0, \"rain\": 0, \"sun\": 1}, {\"distance\": 16.2, \"consume\": 4.4, \"speed\": 39, \"temp_inside\": 24.5, \"temp_outside\": 17, \"gas_type\": \"SP98\", \"ac\": 1, \"rain\": 0, \"sun\": 0}, {\"distance\": 16.7, \"consume\": 3.8, \"speed\": 44, \"temp_inside\": 24.5, \"temp_outside\": 23, \"gas_type\": \"SP98\", \"ac\": 0, \"rain\": 0, \"sun\": 1}, {\"distance\": 8.3, \"consume\": 5.0, \"speed\": 52, \"temp_inside\": 24.5, \"temp_outside\": 27, \"gas_type\": \"SP98\", \"ac\": 0, \"rain\": 0, \"sun\": 0}, {\"distance\": 5.5, \"consume\": 3.7, \"speed\": 33, \"temp_inside\": 24.5, \"temp_outside\": 28, \"gas_type\": \"SP98\", \"ac\": 0, \"rain\": 0, \"sun\": 1}, {\"distance\": 13.6, \"consume\": 3.7, \"speed\": 33, \"temp_inside\": 24.5, \"temp_outside\": 28, \"gas_type\": \"SP98\", \"ac\": 0, \"rain\": 0, \"sun\": 1}, {\"distance\": 16.0, \"consume\": 3.7, \"speed\": 39, \"temp_inside\": 24.5, \"temp_outside\": 18, \"gas_type\": \"SP98\", \"ac\": 0, \"rain\": 0, \"sun\": 0}, {\"distance\": 16.1, \"consume\": 4.3, \"speed\": 38, \"temp_inside\": 25.0, \"temp_outside\": 31, \"gas_type\": \"SP98\", \"ac\": 1, \"rain\": 0, \"sun\": 0}, {\"distance\": 16.0, \"consume\": 3.8, \"speed\": 45, \"temp_inside\": 25.0, \"temp_outside\": 19, \"gas_type\": \"SP98\", \"ac\": 0, \"rain\": 0, \"sun\": 0}, {\"distance\": 15.4, \"consume\": 4.6, \"speed\": 42, \"temp_inside\": 25.0, \"temp_outside\": 31, \"gas_type\": \"SP98\", \"ac\": 1, \"rain\": 0, \"sun\": 0}, {\"distance\": 14.7, \"consume\": 5.0, \"speed\": 25, \"temp_inside\": 25.0, \"temp_outside\": 30, \"gas_type\": \"SP98\", \"ac\": 1, \"rain\": 0, \"sun\": 0}]}}, {\"mode\": \"vega-lite\"});\n",
       "</script>"
      ],
      "text/plain": [
       "alt.HConcatChart(...)"
      ]
     },
     "execution_count": 51,
     "metadata": {},
     "output_type": "execute_result"
    }
   ],
   "source": [
    "chart1 = alt.Chart(clean_data).mark_point().encode(x='distance', y='consume', color='gas_type').interactive()\n",
    "chart2 = alt.Chart(clean_data).mark_point().encode(x='speed', y='consume', color='gas_type').interactive()\n",
    "\n",
    "chart1 | chart2"
   ]
  },
  {
   "cell_type": "markdown",
   "id": "7f6fd2c3",
   "metadata": {},
   "source": [
    "There is a higher consume when speed is low in SP98."
   ]
  },
  {
   "cell_type": "markdown",
   "id": "98dd6cfe",
   "metadata": {},
   "source": [
    "### Variance"
   ]
  },
  {
   "cell_type": "code",
   "execution_count": 52,
   "id": "74570b96",
   "metadata": {},
   "outputs": [
    {
     "data": {
      "text/plain": [
       "distance        0.020784\n",
       "speed           0.032373\n",
       "temp_inside     0.007967\n",
       "temp_outside    0.024569\n",
       "gas_type        0.000000\n",
       "ac              0.042099\n",
       "rain            0.090566\n",
       "sun             0.069811\n",
       "consume         0.811722\n",
       "dtype: float64"
      ]
     },
     "execution_count": 52,
     "metadata": {},
     "output_type": "execute_result"
    }
   ],
   "source": [
    "xy[xy['gas_type']==1].var()"
   ]
  },
  {
   "cell_type": "code",
   "execution_count": 53,
   "id": "76206002",
   "metadata": {},
   "outputs": [
    {
     "data": {
      "text/plain": [
       "distance        0.019000\n",
       "speed           0.031132\n",
       "temp_inside     0.030786\n",
       "temp_outside    0.026697\n",
       "gas_type        0.000000\n",
       "ac              0.091101\n",
       "rain            0.121184\n",
       "sun             0.080377\n",
       "consume         1.250836\n",
       "dtype: float64"
      ]
     },
     "execution_count": 53,
     "metadata": {},
     "output_type": "execute_result"
    }
   ],
   "source": [
    "xy[xy['gas_type']==0].var()"
   ]
  },
  {
   "cell_type": "markdown",
   "id": "87743ec6",
   "metadata": {},
   "source": [
    "SP98 has lower variance in distance, speed (small difference), temperature inside-temperature outside, ac, rain and sun but more variance in consume"
   ]
  },
  {
   "cell_type": "markdown",
   "id": "849ae09a",
   "metadata": {},
   "source": [
    "### Consume when AC is on"
   ]
  },
  {
   "cell_type": "code",
   "execution_count": 54,
   "id": "bd969418",
   "metadata": {},
   "outputs": [
    {
     "data": {
      "text/html": [
       "\n",
       "<div id=\"altair-viz-206edcf09eff493685567b0860fd1954\"></div>\n",
       "<script type=\"text/javascript\">\n",
       "  var VEGA_DEBUG = (typeof VEGA_DEBUG == \"undefined\") ? {} : VEGA_DEBUG;\n",
       "  (function(spec, embedOpt){\n",
       "    let outputDiv = document.currentScript.previousElementSibling;\n",
       "    if (outputDiv.id !== \"altair-viz-206edcf09eff493685567b0860fd1954\") {\n",
       "      outputDiv = document.getElementById(\"altair-viz-206edcf09eff493685567b0860fd1954\");\n",
       "    }\n",
       "    const paths = {\n",
       "      \"vega\": \"https://cdn.jsdelivr.net/npm//vega@5?noext\",\n",
       "      \"vega-lib\": \"https://cdn.jsdelivr.net/npm//vega-lib?noext\",\n",
       "      \"vega-lite\": \"https://cdn.jsdelivr.net/npm//vega-lite@4.17.0?noext\",\n",
       "      \"vega-embed\": \"https://cdn.jsdelivr.net/npm//vega-embed@6?noext\",\n",
       "    };\n",
       "\n",
       "    function maybeLoadScript(lib, version) {\n",
       "      var key = `${lib.replace(\"-\", \"\")}_version`;\n",
       "      return (VEGA_DEBUG[key] == version) ?\n",
       "        Promise.resolve(paths[lib]) :\n",
       "        new Promise(function(resolve, reject) {\n",
       "          var s = document.createElement('script');\n",
       "          document.getElementsByTagName(\"head\")[0].appendChild(s);\n",
       "          s.async = true;\n",
       "          s.onload = () => {\n",
       "            VEGA_DEBUG[key] = version;\n",
       "            return resolve(paths[lib]);\n",
       "          };\n",
       "          s.onerror = () => reject(`Error loading script: ${paths[lib]}`);\n",
       "          s.src = paths[lib];\n",
       "        });\n",
       "    }\n",
       "\n",
       "    function showError(err) {\n",
       "      outputDiv.innerHTML = `<div class=\"error\" style=\"color:red;\">${err}</div>`;\n",
       "      throw err;\n",
       "    }\n",
       "\n",
       "    function displayChart(vegaEmbed) {\n",
       "      vegaEmbed(outputDiv, spec, embedOpt)\n",
       "        .catch(err => showError(`Javascript Error: ${err.message}<br>This usually means there's a typo in your chart specification. See the javascript console for the full traceback.`));\n",
       "    }\n",
       "\n",
       "    if(typeof define === \"function\" && define.amd) {\n",
       "      requirejs.config({paths});\n",
       "      require([\"vega-embed\"], displayChart, err => showError(`Error loading script: ${err.message}`));\n",
       "    } else {\n",
       "      maybeLoadScript(\"vega\", \"5\")\n",
       "        .then(() => maybeLoadScript(\"vega-lite\", \"4.17.0\"))\n",
       "        .then(() => maybeLoadScript(\"vega-embed\", \"6\"))\n",
       "        .catch(showError)\n",
       "        .then(() => displayChart(vegaEmbed));\n",
       "    }\n",
       "  })({\"config\": {\"view\": {\"continuousWidth\": 400, \"continuousHeight\": 300}}, \"data\": {\"name\": \"data-45a64c4533a0455ea96c1caea5302820\"}, \"mark\": \"point\", \"encoding\": {\"color\": {\"field\": \"gas_type\", \"type\": \"nominal\"}, \"x\": {\"field\": \"ac\", \"type\": \"quantitative\"}, \"y\": {\"field\": \"consume\", \"type\": \"quantitative\"}}, \"selection\": {\"selector004\": {\"type\": \"interval\", \"bind\": \"scales\", \"encodings\": [\"x\", \"y\"]}}, \"$schema\": \"https://vega.github.io/schema/vega-lite/v4.17.0.json\", \"datasets\": {\"data-45a64c4533a0455ea96c1caea5302820\": [{\"distance\": 28.0, \"consume\": 5.0, \"speed\": 26, \"temp_inside\": 21.5, \"temp_outside\": 12, \"gas_type\": \"E10\", \"ac\": 0, \"rain\": 0, \"sun\": 0}, {\"distance\": 12.0, \"consume\": 4.2, \"speed\": 30, \"temp_inside\": 21.5, \"temp_outside\": 13, \"gas_type\": \"E10\", \"ac\": 0, \"rain\": 0, \"sun\": 0}, {\"distance\": 11.2, \"consume\": 5.5, \"speed\": 38, \"temp_inside\": 21.5, \"temp_outside\": 15, \"gas_type\": \"E10\", \"ac\": 0, \"rain\": 0, \"sun\": 0}, {\"distance\": 12.9, \"consume\": 3.9, \"speed\": 36, \"temp_inside\": 21.5, \"temp_outside\": 14, \"gas_type\": \"E10\", \"ac\": 0, \"rain\": 0, \"sun\": 0}, {\"distance\": 18.5, \"consume\": 4.5, \"speed\": 46, \"temp_inside\": 21.5, \"temp_outside\": 15, \"gas_type\": \"E10\", \"ac\": 0, \"rain\": 0, \"sun\": 0}, {\"distance\": 8.3, \"consume\": 6.4, \"speed\": 50, \"temp_inside\": 21.5, \"temp_outside\": 10, \"gas_type\": \"E10\", \"ac\": 0, \"rain\": 0, \"sun\": 0}, {\"distance\": 7.8, \"consume\": 4.4, \"speed\": 43, \"temp_inside\": 21.5, \"temp_outside\": 11, \"gas_type\": \"E10\", \"ac\": 0, \"rain\": 0, \"sun\": 0}, {\"distance\": 12.3, \"consume\": 5.0, \"speed\": 40, \"temp_inside\": 21.5, \"temp_outside\": 6, \"gas_type\": \"E10\", \"ac\": 0, \"rain\": 0, \"sun\": 0}, {\"distance\": 4.9, \"consume\": 6.4, \"speed\": 26, \"temp_inside\": 21.5, \"temp_outside\": 4, \"gas_type\": \"E10\", \"ac\": 0, \"rain\": 0, \"sun\": 0}, {\"distance\": 11.9, \"consume\": 5.3, \"speed\": 30, \"temp_inside\": 21.5, \"temp_outside\": 9, \"gas_type\": \"E10\", \"ac\": 0, \"rain\": 0, \"sun\": 0}, {\"distance\": 12.4, \"consume\": 5.6, \"speed\": 42, \"temp_inside\": 21.5, \"temp_outside\": 4, \"gas_type\": \"E10\", \"ac\": 0, \"rain\": 0, \"sun\": 0}, {\"distance\": 11.8, \"consume\": 4.6, \"speed\": 38, \"temp_inside\": 21.5, \"temp_outside\": 0, \"gas_type\": \"E10\", \"ac\": 0, \"rain\": 0, \"sun\": 0}, {\"distance\": 12.3, \"consume\": 5.9, \"speed\": 59, \"temp_inside\": 21.5, \"temp_outside\": 10, \"gas_type\": \"E10\", \"ac\": 0, \"rain\": 0, \"sun\": 0}, {\"distance\": 24.7, \"consume\": 5.1, \"speed\": 58, \"temp_inside\": 21.5, \"temp_outside\": 12, \"gas_type\": \"E10\", \"ac\": 0, \"rain\": 0, \"sun\": 0}, {\"distance\": 12.4, \"consume\": 4.7, \"speed\": 46, \"temp_inside\": 21.5, \"temp_outside\": 11, \"gas_type\": \"E10\", \"ac\": 0, \"rain\": 0, \"sun\": 0}, {\"distance\": 17.3, \"consume\": 5.1, \"speed\": 24, \"temp_inside\": 21.5, \"temp_outside\": 5, \"gas_type\": \"E10\", \"ac\": 0, \"rain\": 0, \"sun\": 0}, {\"distance\": 33.4, \"consume\": 5.6, \"speed\": 36, \"temp_inside\": 21.5, \"temp_outside\": 3, \"gas_type\": \"E10\", \"ac\": 0, \"rain\": 0, \"sun\": 0}, {\"distance\": 11.8, \"consume\": 5.1, \"speed\": 32, \"temp_inside\": 21.5, \"temp_outside\": 3, \"gas_type\": \"E10\", \"ac\": 0, \"rain\": 0, \"sun\": 0}, {\"distance\": 25.9, \"consume\": 4.9, \"speed\": 39, \"temp_inside\": 21.5, \"temp_outside\": 8, \"gas_type\": \"E10\", \"ac\": 0, \"rain\": 0, \"sun\": 0}, {\"distance\": 11.8, \"consume\": 4.7, \"speed\": 40, \"temp_inside\": 21.5, \"temp_outside\": 4, \"gas_type\": \"E10\", \"ac\": 0, \"rain\": 0, \"sun\": 0}, {\"distance\": 25.3, \"consume\": 5.5, \"speed\": 32, \"temp_inside\": 21.5, \"temp_outside\": 3, \"gas_type\": \"E10\", \"ac\": 0, \"rain\": 0, \"sun\": 0}, {\"distance\": 14.2, \"consume\": 5.9, \"speed\": 38, \"temp_inside\": 21.5, \"temp_outside\": 1, \"gas_type\": \"E10\", \"ac\": 0, \"rain\": 0, \"sun\": 0}, {\"distance\": 17.9, \"consume\": 5.7, \"speed\": 37, \"temp_inside\": 21.5, \"temp_outside\": 1, \"gas_type\": \"E10\", \"ac\": 0, \"rain\": 0, \"sun\": 0}, {\"distance\": 11.8, \"consume\": 4.7, \"speed\": 36, \"temp_inside\": 21.5, \"temp_outside\": 1, \"gas_type\": \"E10\", \"ac\": 0, \"rain\": 0, \"sun\": 0}, {\"distance\": 12.3, \"consume\": 5.9, \"speed\": 62, \"temp_inside\": 21.5, \"temp_outside\": 6, \"gas_type\": \"E10\", \"ac\": 0, \"rain\": 0, \"sun\": 0}, {\"distance\": 12.4, \"consume\": 4.1, \"speed\": 57, \"temp_inside\": 21.5, \"temp_outside\": 9, \"gas_type\": \"E10\", \"ac\": 0, \"rain\": 0, \"sun\": 0}, {\"distance\": 18.4, \"consume\": 5.7, \"speed\": 21, \"temp_inside\": 22.5, \"temp_outside\": 2, \"gas_type\": \"E10\", \"ac\": 0, \"rain\": 0, \"sun\": 0}, {\"distance\": 18.4, \"consume\": 5.8, \"speed\": 28, \"temp_inside\": 21.5, \"temp_outside\": 3, \"gas_type\": \"E10\", \"ac\": 0, \"rain\": 0, \"sun\": 0}, {\"distance\": 18.3, \"consume\": 5.5, \"speed\": 29, \"temp_inside\": 21.5, \"temp_outside\": 1, \"gas_type\": \"E10\", \"ac\": 0, \"rain\": 0, \"sun\": 0}, {\"distance\": 18.4, \"consume\": 5.7, \"speed\": 35, \"temp_inside\": 21.5, \"temp_outside\": 4, \"gas_type\": \"E10\", \"ac\": 0, \"rain\": 0, \"sun\": 0}, {\"distance\": 12.3, \"consume\": 5.3, \"speed\": 51, \"temp_inside\": 21.5, \"temp_outside\": 11, \"gas_type\": \"E10\", \"ac\": 0, \"rain\": 0, \"sun\": 0}, {\"distance\": 11.8, \"consume\": 5.0, \"speed\": 29, \"temp_inside\": 21.5, \"temp_outside\": 10, \"gas_type\": \"E10\", \"ac\": 0, \"rain\": 0, \"sun\": 0}, {\"distance\": 12.3, \"consume\": 5.6, \"speed\": 58, \"temp_inside\": 21.5, \"temp_outside\": 8, \"gas_type\": \"E10\", \"ac\": 0, \"rain\": 0, \"sun\": 0}, {\"distance\": 32.6, \"consume\": 4.8, \"speed\": 40, \"temp_inside\": 21.5, \"temp_outside\": 7, \"gas_type\": \"E10\", \"ac\": 0, \"rain\": 0, \"sun\": 0}, {\"distance\": 19.0, \"consume\": 4.3, \"speed\": 36, \"temp_inside\": 21.5, \"temp_outside\": 7, \"gas_type\": \"E10\", \"ac\": 0, \"rain\": 0, \"sun\": 0}, {\"distance\": 12.1, \"consume\": 5.7, \"speed\": 36, \"temp_inside\": 21.5, \"temp_outside\": 8, \"gas_type\": \"E10\", \"ac\": 0, \"rain\": 0, \"sun\": 0}, {\"distance\": 20.0, \"consume\": 5.2, \"speed\": 37, \"temp_inside\": 21.5, \"temp_outside\": 4, \"gas_type\": \"E10\", \"ac\": 0, \"rain\": 0, \"sun\": 0}, {\"distance\": 4.9, \"consume\": 7.4, \"speed\": 26, \"temp_inside\": 21.5, \"temp_outside\": 6, \"gas_type\": \"E10\", \"ac\": 0, \"rain\": 0, \"sun\": 0}, {\"distance\": 11.8, \"consume\": 4.8, \"speed\": 23, \"temp_inside\": 21.5, \"temp_outside\": 9, \"gas_type\": \"E10\", \"ac\": 0, \"rain\": 0, \"sun\": 0}, {\"distance\": 12.3, \"consume\": 6.5, \"speed\": 58, \"temp_inside\": 21.5, \"temp_outside\": 7, \"gas_type\": \"E10\", \"ac\": 0, \"rain\": 0, \"sun\": 0}, {\"distance\": 12.4, \"consume\": 4.0, \"speed\": 55, \"temp_inside\": 21.5, \"temp_outside\": 7, \"gas_type\": \"E10\", \"ac\": 1, \"rain\": 1, \"sun\": 0}, {\"distance\": 4.5, \"consume\": 5.0, \"speed\": 29, \"temp_inside\": 21.5, \"temp_outside\": 7, \"gas_type\": \"E10\", \"ac\": 1, \"rain\": 0, \"sun\": 0}, {\"distance\": 11.7, \"consume\": 4.6, \"speed\": 37, \"temp_inside\": 21.5, \"temp_outside\": 6, \"gas_type\": \"E10\", \"ac\": 0, \"rain\": 0, \"sun\": 0}, {\"distance\": 10.2, \"consume\": 4.3, \"speed\": 44, \"temp_inside\": 21.5, \"temp_outside\": 7, \"gas_type\": \"E10\", \"ac\": 0, \"rain\": 0, \"sun\": 0}, {\"distance\": 5.4, \"consume\": 3.3, \"speed\": 32, \"temp_inside\": 21.5, \"temp_outside\": 7, \"gas_type\": \"SP98\", \"ac\": 0, \"rain\": 0, \"sun\": 0}, {\"distance\": 2.0, \"consume\": 9.9, \"speed\": 21, \"temp_inside\": 21.5, \"temp_outside\": 4, \"gas_type\": \"SP98\", \"ac\": 0, \"rain\": 0, \"sun\": 0}, {\"distance\": 14.2, \"consume\": 5.1, \"speed\": 32, \"temp_inside\": 21.5, \"temp_outside\": 7, \"gas_type\": \"SP98\", \"ac\": 0, \"rain\": 0, \"sun\": 0}, {\"distance\": 16.0, \"consume\": 4.9, \"speed\": 25, \"temp_inside\": 21.5, \"temp_outside\": 8, \"gas_type\": \"SP98\", \"ac\": 0, \"rain\": 0, \"sun\": 0}, {\"distance\": 11.8, \"consume\": 4.9, \"speed\": 25, \"temp_inside\": 21.5, \"temp_outside\": 11, \"gas_type\": \"SP98\", \"ac\": 0, \"rain\": 0, \"sun\": 0}, {\"distance\": 27.3, \"consume\": 4.7, \"speed\": 36, \"temp_inside\": 21.5, \"temp_outside\": 10, \"gas_type\": \"SP98\", \"ac\": 0, \"rain\": 0, \"sun\": 0}, {\"distance\": 11.8, \"consume\": 5.1, \"speed\": 29, \"temp_inside\": 21.5, \"temp_outside\": 5, \"gas_type\": \"SP98\", \"ac\": 0, \"rain\": 1, \"sun\": 0}, {\"distance\": 10.6, \"consume\": 4.9, \"speed\": 63, \"temp_inside\": 21.5, \"temp_outside\": 6, \"gas_type\": \"SP98\", \"ac\": 0, \"rain\": 0, \"sun\": 0}, {\"distance\": 11.6, \"consume\": 4.2, \"speed\": 61, \"temp_inside\": 21.5, \"temp_outside\": 7, \"gas_type\": \"SP98\", \"ac\": 0, \"rain\": 0, \"sun\": 0}, {\"distance\": 13.1, \"consume\": 6.1, \"speed\": 46, \"temp_inside\": 21.5, \"temp_outside\": 6, \"gas_type\": \"SP98\", \"ac\": 0, \"rain\": 1, \"sun\": 0}, {\"distance\": 6.1, \"consume\": 6.4, \"speed\": 28, \"temp_inside\": 21.5, \"temp_outside\": 8, \"gas_type\": \"SP98\", \"ac\": 0, \"rain\": 0, \"sun\": 0}, {\"distance\": 153.5, \"consume\": 4.9, \"speed\": 82, \"temp_inside\": 21.5, \"temp_outside\": 3, \"gas_type\": \"SP98\", \"ac\": 0, \"rain\": 1, \"sun\": 0}, {\"distance\": 11.8, \"consume\": 4.9, \"speed\": 24, \"temp_inside\": 21.5, \"temp_outside\": 7, \"gas_type\": \"SP98\", \"ac\": 0, \"rain\": 0, \"sun\": 0}, {\"distance\": 12.3, \"consume\": 6.2, \"speed\": 61, \"temp_inside\": 21.5, \"temp_outside\": 8, \"gas_type\": \"SP98\", \"ac\": 0, \"rain\": 0, \"sun\": 0}, {\"distance\": 12.4, \"consume\": 4.2, \"speed\": 57, \"temp_inside\": 21.5, \"temp_outside\": 8, \"gas_type\": \"SP98\", \"ac\": 0, \"rain\": 0, \"sun\": 0}, {\"distance\": 12.3, \"consume\": 5.7, \"speed\": 52, \"temp_inside\": 21.5, \"temp_outside\": 8, \"gas_type\": \"SP98\", \"ac\": 0, \"rain\": 1, \"sun\": 0}, {\"distance\": 2.9, \"consume\": 7.9, \"speed\": 18, \"temp_inside\": 21.5, \"temp_outside\": 9, \"gas_type\": \"SP98\", \"ac\": 1, \"rain\": 1, \"sun\": 0}, {\"distance\": 2.1, \"consume\": 12.2, \"speed\": 23, \"temp_inside\": 21.5, \"temp_outside\": 9, \"gas_type\": \"SP98\", \"ac\": 1, \"rain\": 1, \"sun\": 0}, {\"distance\": 9.8, \"consume\": 5.8, \"speed\": 24, \"temp_inside\": 21.5, \"temp_outside\": 6, \"gas_type\": \"SP98\", \"ac\": 0, \"rain\": 0, \"sun\": 0}, {\"distance\": 6.8, \"consume\": 5.3, \"speed\": 26, \"temp_inside\": 21.5, \"temp_outside\": 6, \"gas_type\": \"SP98\", \"ac\": 0, \"rain\": 0, \"sun\": 0}, {\"distance\": 12.4, \"consume\": 5.4, \"speed\": 24, \"temp_inside\": 21.5, \"temp_outside\": 7, \"gas_type\": \"SP98\", \"ac\": 0, \"rain\": 0, \"sun\": 0}, {\"distance\": 12.4, \"consume\": 4.7, \"speed\": 57, \"temp_inside\": 21.5, \"temp_outside\": 8, \"gas_type\": \"SP98\", \"ac\": 0, \"rain\": 0, \"sun\": 0}, {\"distance\": 11.8, \"consume\": 4.6, \"speed\": 41, \"temp_inside\": 21.5, \"temp_outside\": 6, \"gas_type\": \"SP98\", \"ac\": 0, \"rain\": 0, \"sun\": 0}, {\"distance\": 12.3, \"consume\": 5.4, \"speed\": 55, \"temp_inside\": 21.5, \"temp_outside\": 8, \"gas_type\": \"SP98\", \"ac\": 0, \"rain\": 0, \"sun\": 0}, {\"distance\": 14.0, \"consume\": 4.3, \"speed\": 40, \"temp_inside\": 21.5, \"temp_outside\": 8, \"gas_type\": \"SP98\", \"ac\": 0, \"rain\": 0, \"sun\": 0}, {\"distance\": 11.8, \"consume\": 4.5, \"speed\": 37, \"temp_inside\": 21.5, \"temp_outside\": 4, \"gas_type\": \"SP98\", \"ac\": 1, \"rain\": 0, \"sun\": 0}, {\"distance\": 12.3, \"consume\": 5.2, \"speed\": 55, \"temp_inside\": 21.5, \"temp_outside\": 12, \"gas_type\": \"SP98\", \"ac\": 0, \"rain\": 0, \"sun\": 0}, {\"distance\": 2.0, \"consume\": 6.2, \"speed\": 20, \"temp_inside\": 21.5, \"temp_outside\": 10, \"gas_type\": \"SP98\", \"ac\": 0, \"rain\": 0, \"sun\": 0}, {\"distance\": 13.9, \"consume\": 5.1, \"speed\": 29, \"temp_inside\": 21.5, \"temp_outside\": 6, \"gas_type\": \"SP98\", \"ac\": 0, \"rain\": 0, \"sun\": 0}, {\"distance\": 9.7, \"consume\": 3.9, \"speed\": 42, \"temp_inside\": 21.5, \"temp_outside\": 8, \"gas_type\": \"SP98\", \"ac\": 0, \"rain\": 0, \"sun\": 0}, {\"distance\": 11.6, \"consume\": 5.0, \"speed\": 25, \"temp_inside\": 21.5, \"temp_outside\": 6, \"gas_type\": \"SP98\", \"ac\": 0, \"rain\": 0, \"sun\": 0}, {\"distance\": 14.2, \"consume\": 5.4, \"speed\": 38, \"temp_inside\": 21.5, \"temp_outside\": 7, \"gas_type\": \"SP98\", \"ac\": 0, \"rain\": 0, \"sun\": 0}, {\"distance\": 11.8, \"consume\": 4.5, \"speed\": 39, \"temp_inside\": 21.5, \"temp_outside\": 6, \"gas_type\": \"SP98\", \"ac\": 0, \"rain\": 0, \"sun\": 0}, {\"distance\": 24.8, \"consume\": 5.1, \"speed\": 50, \"temp_inside\": 21.5, \"temp_outside\": 9, \"gas_type\": \"SP98\", \"ac\": 0, \"rain\": 0, \"sun\": 0}, {\"distance\": 12.4, \"consume\": 4.7, \"speed\": 56, \"temp_inside\": 21.5, \"temp_outside\": 7, \"gas_type\": \"SP98\", \"ac\": 0, \"rain\": 0, \"sun\": 0}, {\"distance\": 34.8, \"consume\": 4.0, \"speed\": 28, \"temp_inside\": 20.0, \"temp_outside\": 4, \"gas_type\": \"SP98\", \"ac\": 0, \"rain\": 0, \"sun\": 0}, {\"distance\": 14.2, \"consume\": 5.4, \"speed\": 36, \"temp_inside\": 20.0, \"temp_outside\": 6, \"gas_type\": \"SP98\", \"ac\": 0, \"rain\": 0, \"sun\": 0}, {\"distance\": 5.2, \"consume\": 4.5, \"speed\": 39, \"temp_inside\": 20.0, \"temp_outside\": 10, \"gas_type\": \"SP98\", \"ac\": 0, \"rain\": 0, \"sun\": 0}, {\"distance\": 10.5, \"consume\": 3.6, \"speed\": 42, \"temp_inside\": 20.0, \"temp_outside\": 10, \"gas_type\": \"SP98\", \"ac\": 0, \"rain\": 0, \"sun\": 0}, {\"distance\": 12.3, \"consume\": 5.2, \"speed\": 57, \"temp_inside\": 20.0, \"temp_outside\": 10, \"gas_type\": \"SP98\", \"ac\": 0, \"rain\": 0, \"sun\": 0}, {\"distance\": 11.8, \"consume\": 4.9, \"speed\": 25, \"temp_inside\": 20.0, \"temp_outside\": 11, \"gas_type\": \"SP98\", \"ac\": 0, \"rain\": 0, \"sun\": 0}, {\"distance\": 12.3, \"consume\": 6.2, \"speed\": 58, \"temp_inside\": 20.0, \"temp_outside\": 11, \"gas_type\": \"SP98\", \"ac\": 0, \"rain\": 1, \"sun\": 0}, {\"distance\": 13.2, \"consume\": 4.3, \"speed\": 51, \"temp_inside\": 20.0, \"temp_outside\": 11, \"gas_type\": \"SP98\", \"ac\": 0, \"rain\": 1, \"sun\": 0}, {\"distance\": 13.0, \"consume\": 5.0, \"speed\": 45, \"temp_inside\": 20.0, \"temp_outside\": 11, \"gas_type\": \"SP98\", \"ac\": 0, \"rain\": 1, \"sun\": 0}, {\"distance\": 12.9, \"consume\": 5.1, \"speed\": 32, \"temp_inside\": 20.0, \"temp_outside\": 11, \"gas_type\": \"SP98\", \"ac\": 0, \"rain\": 0, \"sun\": 0}, {\"distance\": 13.9, \"consume\": 5.6, \"speed\": 22, \"temp_inside\": 20.0, \"temp_outside\": 8, \"gas_type\": \"SP98\", \"ac\": 0, \"rain\": 0, \"sun\": 0}, {\"distance\": 11.8, \"consume\": 4.3, \"speed\": 37, \"temp_inside\": 20.0, \"temp_outside\": 6, \"gas_type\": \"SP98\", \"ac\": 0, \"rain\": 0, \"sun\": 0}, {\"distance\": 12.2, \"consume\": 5.8, \"speed\": 60, \"temp_inside\": 20.0, \"temp_outside\": 11, \"gas_type\": \"SP98\", \"ac\": 0, \"rain\": 0, \"sun\": 0}, {\"distance\": 12.5, \"consume\": 4.0, \"speed\": 51, \"temp_inside\": 20.0, \"temp_outside\": 13, \"gas_type\": \"SP98\", \"ac\": 0, \"rain\": 0, \"sun\": 0}, {\"distance\": 12.4, \"consume\": 4.7, \"speed\": 43, \"temp_inside\": null, \"temp_outside\": 10, \"gas_type\": \"SP98\", \"ac\": 0, \"rain\": 0, \"sun\": 0}, {\"distance\": 11.8, \"consume\": 5.9, \"speed\": 21, \"temp_inside\": 20.0, \"temp_outside\": 9, \"gas_type\": \"SP98\", \"ac\": 1, \"rain\": 1, \"sun\": 0}, {\"distance\": 11.8, \"consume\": 5.3, \"speed\": 52, \"temp_inside\": null, \"temp_outside\": 11, \"gas_type\": \"SP98\", \"ac\": 0, \"rain\": 0, \"sun\": 0}, {\"distance\": 12.5, \"consume\": 4.2, \"speed\": 57, \"temp_inside\": 20.0, \"temp_outside\": 11, \"gas_type\": \"SP98\", \"ac\": 0, \"rain\": 0, \"sun\": 0}, {\"distance\": 15.7, \"consume\": 5.3, \"speed\": 33, \"temp_inside\": null, \"temp_outside\": 9, \"gas_type\": \"SP98\", \"ac\": 0, \"rain\": 0, \"sun\": 0}, {\"distance\": 12.9, \"consume\": 5.7, \"speed\": 35, \"temp_inside\": null, \"temp_outside\": 9, \"gas_type\": \"SP98\", \"ac\": 0, \"rain\": 0, \"sun\": 0}, {\"distance\": 6.4, \"consume\": 4.4, \"speed\": 37, \"temp_inside\": null, \"temp_outside\": 10, \"gas_type\": \"SP98\", \"ac\": 0, \"rain\": 0, \"sun\": 0}, {\"distance\": 5.3, \"consume\": 4.1, \"speed\": 34, \"temp_inside\": null, \"temp_outside\": 9, \"gas_type\": \"SP98\", \"ac\": 0, \"rain\": 0, \"sun\": 0}, {\"distance\": 26.2, \"consume\": 5.8, \"speed\": 71, \"temp_inside\": 21.0, \"temp_outside\": 8, \"gas_type\": \"SP98\", \"ac\": 1, \"rain\": 1, \"sun\": 0}, {\"distance\": 18.8, \"consume\": 5.0, \"speed\": 62, \"temp_inside\": null, \"temp_outside\": 9, \"gas_type\": \"SP98\", \"ac\": 0, \"rain\": 1, \"sun\": 0}, {\"distance\": 4.9, \"consume\": 6.9, \"speed\": 25, \"temp_inside\": 21.0, \"temp_outside\": 12, \"gas_type\": \"SP98\", \"ac\": 0, \"rain\": 1, \"sun\": 0}, {\"distance\": 12.4, \"consume\": 5.4, \"speed\": 18, \"temp_inside\": 21.0, \"temp_outside\": 11, \"gas_type\": \"SP98\", \"ac\": 1, \"rain\": 1, \"sun\": 0}, {\"distance\": 22.9, \"consume\": 5.3, \"speed\": 45, \"temp_inside\": 20.5, \"temp_outside\": 7, \"gas_type\": \"SP98\", \"ac\": 0, \"rain\": 0, \"sun\": 0}, {\"distance\": 162.7, \"consume\": 5.5, \"speed\": 75, \"temp_inside\": 23.0, \"temp_outside\": 1, \"gas_type\": \"SP98\", \"ac\": 0, \"rain\": 0, \"sun\": 0}, {\"distance\": 4.9, \"consume\": 6.5, \"speed\": 26, \"temp_inside\": 21.0, \"temp_outside\": 1, \"gas_type\": \"SP98\", \"ac\": 0, \"rain\": 0, \"sun\": 0}, {\"distance\": 11.8, \"consume\": 4.7, \"speed\": 36, \"temp_inside\": 21.0, \"temp_outside\": 4, \"gas_type\": \"SP98\", \"ac\": 0, \"rain\": 0, \"sun\": 0}, {\"distance\": 16.6, \"consume\": 5.1, \"speed\": 56, \"temp_inside\": 21.0, \"temp_outside\": 7, \"gas_type\": \"SP98\", \"ac\": 0, \"rain\": 0, \"sun\": 0}, {\"distance\": 12.4, \"consume\": 5.7, \"speed\": 37, \"temp_inside\": 21.0, \"temp_outside\": 7, \"gas_type\": \"SP98\", \"ac\": 0, \"rain\": 0, \"sun\": 0}, {\"distance\": 15.9, \"consume\": 5.4, \"speed\": 25, \"temp_inside\": 21.0, \"temp_outside\": 7, \"gas_type\": \"SP98\", \"ac\": 0, \"rain\": 0, \"sun\": 0}, {\"distance\": 5.1, \"consume\": 8.7, \"speed\": 21, \"temp_inside\": 23.5, \"temp_outside\": 5, \"gas_type\": \"SP98\", \"ac\": 0, \"rain\": 0, \"sun\": 0}, {\"distance\": 22.4, \"consume\": 4.9, \"speed\": 66, \"temp_inside\": 20.5, \"temp_outside\": 7, \"gas_type\": \"SP98\", \"ac\": 0, \"rain\": 0, \"sun\": 0}, {\"distance\": 31.1, \"consume\": 4.7, \"speed\": 42, \"temp_inside\": 20.5, \"temp_outside\": 7, \"gas_type\": \"SP98\", \"ac\": 0, \"rain\": 0, \"sun\": 0}, {\"distance\": 4.9, \"consume\": 6.3, \"speed\": 27, \"temp_inside\": 20.5, \"temp_outside\": 3, \"gas_type\": \"SP98\", \"ac\": 0, \"rain\": 0, \"sun\": 0}, {\"distance\": 11.8, \"consume\": 5.1, \"speed\": 26, \"temp_inside\": 23.0, \"temp_outside\": 4, \"gas_type\": \"SP98\", \"ac\": 0, \"rain\": 1, \"sun\": 0}, {\"distance\": 22.9, \"consume\": 6.0, \"speed\": 42, \"temp_inside\": 23.0, \"temp_outside\": 4, \"gas_type\": \"SP98\", \"ac\": 0, \"rain\": 1, \"sun\": 0}, {\"distance\": 12.4, \"consume\": 4.6, \"speed\": 38, \"temp_inside\": 23.0, \"temp_outside\": 1, \"gas_type\": \"SP98\", \"ac\": 0, \"rain\": 1, \"sun\": 0}, {\"distance\": 12.9, \"consume\": 5.8, \"speed\": 40, \"temp_inside\": 23.0, \"temp_outside\": 4, \"gas_type\": \"SP98\", \"ac\": 0, \"rain\": 0, \"sun\": 0}, {\"distance\": 11.8, \"consume\": 5.1, \"speed\": 43, \"temp_inside\": 23.0, \"temp_outside\": 0, \"gas_type\": \"SP98\", \"ac\": 0, \"rain\": 0, \"sun\": 0}, {\"distance\": 12.2, \"consume\": 5.8, \"speed\": 58, \"temp_inside\": 23.0, \"temp_outside\": 2, \"gas_type\": \"SP98\", \"ac\": 0, \"rain\": 0, \"sun\": 0}, {\"distance\": 24.8, \"consume\": 4.6, \"speed\": 55, \"temp_inside\": 23.0, \"temp_outside\": 3, \"gas_type\": \"SP98\", \"ac\": 0, \"rain\": 0, \"sun\": 0}, {\"distance\": 14.2, \"consume\": 5.6, \"speed\": 24, \"temp_inside\": 23.0, \"temp_outside\": 8, \"gas_type\": \"SP98\", \"ac\": 0, \"rain\": 0, \"sun\": 0}, {\"distance\": 11.8, \"consume\": 4.6, \"speed\": 38, \"temp_inside\": 23.0, \"temp_outside\": 0, \"gas_type\": \"SP98\", \"ac\": 0, \"rain\": 1, \"sun\": 0}, {\"distance\": 12.2, \"consume\": 6.3, \"speed\": 57, \"temp_inside\": 23.0, \"temp_outside\": 0, \"gas_type\": \"SP98\", \"ac\": 0, \"rain\": 1, \"sun\": 0}, {\"distance\": 24.7, \"consume\": 5.5, \"speed\": 56, \"temp_inside\": 25.0, \"temp_outside\": 1, \"gas_type\": \"SP98\", \"ac\": 0, \"rain\": 0, \"sun\": 0}, {\"distance\": 6.8, \"consume\": 4.3, \"speed\": 46, \"temp_inside\": 24.0, \"temp_outside\": 2, \"gas_type\": \"SP98\", \"ac\": 0, \"rain\": 0, \"sun\": 0}, {\"distance\": 17.3, \"consume\": 5.6, \"speed\": 37, \"temp_inside\": 21.5, \"temp_outside\": 1, \"gas_type\": \"SP98\", \"ac\": 0, \"rain\": 0, \"sun\": 0}, {\"distance\": 11.8, \"consume\": 4.3, \"speed\": 44, \"temp_inside\": 21.5, \"temp_outside\": -3, \"gas_type\": \"SP98\", \"ac\": 0, \"rain\": 0, \"sun\": 0}, {\"distance\": 15.9, \"consume\": 5.7, \"speed\": 46, \"temp_inside\": 21.5, \"temp_outside\": 5, \"gas_type\": \"SP98\", \"ac\": 0, \"rain\": 0, \"sun\": 0}, {\"distance\": 5.1, \"consume\": 6.4, \"speed\": 39, \"temp_inside\": 21.5, \"temp_outside\": 4, \"gas_type\": \"SP98\", \"ac\": 0, \"rain\": 0, \"sun\": 0}, {\"distance\": 16.1, \"consume\": 4.5, \"speed\": 33, \"temp_inside\": 21.5, \"temp_outside\": 6, \"gas_type\": \"SP98\", \"ac\": 0, \"rain\": 0, \"sun\": 0}, {\"distance\": 11.8, \"consume\": 4.5, \"speed\": 43, \"temp_inside\": 21.5, \"temp_outside\": 3, \"gas_type\": \"SP98\", \"ac\": 0, \"rain\": 0, \"sun\": 0}, {\"distance\": 4.2, \"consume\": 6.0, \"speed\": 26, \"temp_inside\": 21.5, \"temp_outside\": 5, \"gas_type\": \"SP98\", \"ac\": 0, \"rain\": 0, \"sun\": 0}, {\"distance\": 17.4, \"consume\": 5.1, \"speed\": 30, \"temp_inside\": 21.5, \"temp_outside\": 5, \"gas_type\": \"SP98\", \"ac\": 0, \"rain\": 0, \"sun\": 0}, {\"distance\": 23.5, \"consume\": 6.0, \"speed\": 25, \"temp_inside\": 21.5, \"temp_outside\": 5, \"gas_type\": \"SP98\", \"ac\": 0, \"rain\": 1, \"sun\": 0}, {\"distance\": 11.8, \"consume\": 4.5, \"speed\": 38, \"temp_inside\": 21.5, \"temp_outside\": 5, \"gas_type\": \"SP98\", \"ac\": 0, \"rain\": 1, \"sun\": 0}, {\"distance\": 12.3, \"consume\": 6.1, \"speed\": 61, \"temp_inside\": 21.5, \"temp_outside\": 10, \"gas_type\": \"SP98\", \"ac\": 0, \"rain\": 1, \"sun\": 0}, {\"distance\": 16.1, \"consume\": 5.4, \"speed\": 24, \"temp_inside\": 21.5, \"temp_outside\": 7, \"gas_type\": \"E10\", \"ac\": 0, \"rain\": 1, \"sun\": 0}, {\"distance\": 11.8, \"consume\": 4.3, \"speed\": 40, \"temp_inside\": 21.5, \"temp_outside\": 10, \"gas_type\": \"E10\", \"ac\": 0, \"rain\": 1, \"sun\": 0}, {\"distance\": 12.3, \"consume\": 5.4, \"speed\": 58, \"temp_inside\": 21.5, \"temp_outside\": 13, \"gas_type\": \"E10\", \"ac\": 0, \"rain\": 0, \"sun\": 0}, {\"distance\": 12.4, \"consume\": 4.3, \"speed\": 49, \"temp_inside\": 21.5, \"temp_outside\": 17, \"gas_type\": \"E10\", \"ac\": 0, \"rain\": 0, \"sun\": 0}, {\"distance\": 7.0, \"consume\": 5.2, \"speed\": 25, \"temp_inside\": 21.5, \"temp_outside\": 17, \"gas_type\": \"E10\", \"ac\": 0, \"rain\": 0, \"sun\": 0}, {\"distance\": 11.8, \"consume\": 4.1, \"speed\": 37, \"temp_inside\": 21.5, \"temp_outside\": 10, \"gas_type\": \"E10\", \"ac\": 0, \"rain\": 0, \"sun\": 0}, {\"distance\": 20.1, \"consume\": 4.4, \"speed\": 41, \"temp_inside\": 21.5, \"temp_outside\": 18, \"gas_type\": \"E10\", \"ac\": 0, \"rain\": 0, \"sun\": 0}, {\"distance\": 20.8, \"consume\": 4.5, \"speed\": 45, \"temp_inside\": 21.5, \"temp_outside\": 10, \"gas_type\": \"E10\", \"ac\": 0, \"rain\": 0, \"sun\": 0}, {\"distance\": 1.7, \"consume\": 10.8, \"speed\": 14, \"temp_inside\": 21.5, \"temp_outside\": 10, \"gas_type\": \"E10\", \"ac\": 0, \"rain\": 1, \"sun\": 0}, {\"distance\": 35.9, \"consume\": 4.7, \"speed\": 45, \"temp_inside\": 21.5, \"temp_outside\": 12, \"gas_type\": \"E10\", \"ac\": 0, \"rain\": 0, \"sun\": 0}, {\"distance\": 36.9, \"consume\": 4.8, \"speed\": 52, \"temp_inside\": 21.5, \"temp_outside\": 5, \"gas_type\": \"E10\", \"ac\": 0, \"rain\": 0, \"sun\": 0}, {\"distance\": 16.8, \"consume\": 4.0, \"speed\": 46, \"temp_inside\": 21.5, \"temp_outside\": 8, \"gas_type\": \"E10\", \"ac\": 0, \"rain\": 0, \"sun\": 0}, {\"distance\": 9.9, \"consume\": 5.0, \"speed\": 28, \"temp_inside\": 21.5, \"temp_outside\": 9, \"gas_type\": \"E10\", \"ac\": 0, \"rain\": 0, \"sun\": 0}, {\"distance\": 22.9, \"consume\": 4.6, \"speed\": 61, \"temp_inside\": 21.5, \"temp_outside\": 7, \"gas_type\": \"E10\", \"ac\": 0, \"rain\": 1, \"sun\": 0}, {\"distance\": 17.3, \"consume\": 5.0, \"speed\": 61, \"temp_inside\": 21.5, \"temp_outside\": 6, \"gas_type\": \"E10\", \"ac\": 1, \"rain\": 1, \"sun\": 0}, {\"distance\": 11.8, \"consume\": 4.3, \"speed\": 37, \"temp_inside\": 21.5, \"temp_outside\": 7, \"gas_type\": \"E10\", \"ac\": 0, \"rain\": 0, \"sun\": 0}, {\"distance\": 36.6, \"consume\": 5.2, \"speed\": 80, \"temp_inside\": 21.5, \"temp_outside\": 7, \"gas_type\": \"E10\", \"ac\": 0, \"rain\": 1, \"sun\": 0}, {\"distance\": 44.9, \"consume\": 4.7, \"speed\": 62, \"temp_inside\": 21.5, \"temp_outside\": 8, \"gas_type\": \"E10\", \"ac\": 0, \"rain\": 0, \"sun\": 0}, {\"distance\": 11.8, \"consume\": 4.2, \"speed\": 34, \"temp_inside\": 21.5, \"temp_outside\": 9, \"gas_type\": \"E10\", \"ac\": 0, \"rain\": 1, \"sun\": 0}, {\"distance\": 21.6, \"consume\": 5.3, \"speed\": 44, \"temp_inside\": 21.5, \"temp_outside\": 9, \"gas_type\": \"E10\", \"ac\": 0, \"rain\": 1, \"sun\": 0}, {\"distance\": 39.4, \"consume\": 5.3, \"speed\": 60, \"temp_inside\": 21.5, \"temp_outside\": 9, \"gas_type\": \"E10\", \"ac\": 0, \"rain\": 1, \"sun\": 0}, {\"distance\": 5.1, \"consume\": 8.1, \"speed\": 39, \"temp_inside\": 21.5, \"temp_outside\": 4, \"gas_type\": \"E10\", \"ac\": 0, \"rain\": 0, \"sun\": 0}, {\"distance\": 26.6, \"consume\": 4.8, \"speed\": 38, \"temp_inside\": 21.5, \"temp_outside\": 7, \"gas_type\": \"E10\", \"ac\": 0, \"rain\": 0, \"sun\": 0}, {\"distance\": 53.2, \"consume\": 5.1, \"speed\": 71, \"temp_inside\": 21.5, \"temp_outside\": 2, \"gas_type\": \"E10\", \"ac\": 0, \"rain\": 0, \"sun\": 0}, {\"distance\": 18.9, \"consume\": 4.4, \"speed\": 53, \"temp_inside\": 21.5, \"temp_outside\": 2, \"gas_type\": \"E10\", \"ac\": 0, \"rain\": 0, \"sun\": 0}, {\"distance\": 43.5, \"consume\": 5.0, \"speed\": 80, \"temp_inside\": 21.5, \"temp_outside\": 3, \"gas_type\": \"E10\", \"ac\": 0, \"rain\": 0, \"sun\": 0}, {\"distance\": 6.1, \"consume\": 6.3, \"speed\": 26, \"temp_inside\": 21.5, \"temp_outside\": 5, \"gas_type\": \"E10\", \"ac\": 0, \"rain\": 0, \"sun\": 0}, {\"distance\": 16.4, \"consume\": 4.8, \"speed\": 49, \"temp_inside\": 21.5, \"temp_outside\": 5, \"gas_type\": \"E10\", \"ac\": 0, \"rain\": 0, \"sun\": 0}, {\"distance\": 12.3, \"consume\": 6.1, \"speed\": 40, \"temp_inside\": 21.5, \"temp_outside\": 6, \"gas_type\": \"E10\", \"ac\": 0, \"rain\": 0, \"sun\": 0}, {\"distance\": 21.1, \"consume\": 4.6, \"speed\": 36, \"temp_inside\": 21.5, \"temp_outside\": 8, \"gas_type\": \"E10\", \"ac\": 0, \"rain\": 0, \"sun\": 0}, {\"distance\": 21.1, \"consume\": 4.8, \"speed\": 43, \"temp_inside\": 21.5, \"temp_outside\": 7, \"gas_type\": \"E10\", \"ac\": 0, \"rain\": 0, \"sun\": 0}, {\"distance\": 22.7, \"consume\": 4.7, \"speed\": 55, \"temp_inside\": 21.5, \"temp_outside\": 6, \"gas_type\": \"E10\", \"ac\": 0, \"rain\": 0, \"sun\": 0}, {\"distance\": 44.4, \"consume\": 4.8, \"speed\": 38, \"temp_inside\": 21.5, \"temp_outside\": 8, \"gas_type\": \"E10\", \"ac\": 0, \"rain\": 0, \"sun\": 0}, {\"distance\": 35.8, \"consume\": 4.4, \"speed\": 51, \"temp_inside\": 21.5, \"temp_outside\": 6, \"gas_type\": \"E10\", \"ac\": 0, \"rain\": 0, \"sun\": 0}, {\"distance\": 11.8, \"consume\": 4.9, \"speed\": 44, \"temp_inside\": 21.5, \"temp_outside\": 0, \"gas_type\": \"E10\", \"ac\": 0, \"rain\": 0, \"sun\": 0}, {\"distance\": 26.2, \"consume\": 4.9, \"speed\": 42, \"temp_inside\": 21.5, \"temp_outside\": 6, \"gas_type\": \"E10\", \"ac\": 0, \"rain\": 0, \"sun\": 0}, {\"distance\": 40.6, \"consume\": 4.4, \"speed\": 44, \"temp_inside\": 21.0, \"temp_outside\": 3, \"gas_type\": \"E10\", \"ac\": 0, \"rain\": 0, \"sun\": 0}, {\"distance\": 12.4, \"consume\": 5.3, \"speed\": 38, \"temp_inside\": 21.0, \"temp_outside\": -5, \"gas_type\": \"E10\", \"ac\": 0, \"rain\": 0, \"sun\": 0}, {\"distance\": 14.1, \"consume\": 5.3, \"speed\": 47, \"temp_inside\": 21.0, \"temp_outside\": -3, \"gas_type\": \"E10\", \"ac\": 0, \"rain\": 0, \"sun\": 0}, {\"distance\": 58.7, \"consume\": 4.8, \"speed\": 75, \"temp_inside\": 21.0, \"temp_outside\": 0, \"gas_type\": \"E10\", \"ac\": 0, \"rain\": 0, \"sun\": 0}, {\"distance\": 16.2, \"consume\": 5.2, \"speed\": 29, \"temp_inside\": 21.0, \"temp_outside\": 0, \"gas_type\": \"E10\", \"ac\": 0, \"rain\": 0, \"sun\": 0}, {\"distance\": 12.3, \"consume\": 4.9, \"speed\": 50, \"temp_inside\": 22.5, \"temp_outside\": 0, \"gas_type\": \"E10\", \"ac\": 0, \"rain\": 0, \"sun\": 0}, {\"distance\": 12.3, \"consume\": 7.1, \"speed\": 52, \"temp_inside\": 22.5, \"temp_outside\": 0, \"gas_type\": \"E10\", \"ac\": 1, \"rain\": 1, \"sun\": 0}, {\"distance\": 12.4, \"consume\": 5.2, \"speed\": 51, \"temp_inside\": 22.5, \"temp_outside\": 1, \"gas_type\": \"E10\", \"ac\": 0, \"rain\": 0, \"sun\": 0}, {\"distance\": 31.8, \"consume\": 4.7, \"speed\": 59, \"temp_inside\": 22.5, \"temp_outside\": 3, \"gas_type\": \"E10\", \"ac\": 0, \"rain\": 0, \"sun\": 0}, {\"distance\": 12.3, \"consume\": 5.1, \"speed\": 55, \"temp_inside\": 22.5, \"temp_outside\": 8, \"gas_type\": \"E10\", \"ac\": 0, \"rain\": 0, \"sun\": 0}, {\"distance\": 51.6, \"consume\": 5.0, \"speed\": 73, \"temp_inside\": 22.5, \"temp_outside\": 12, \"gas_type\": \"E10\", \"ac\": 0, \"rain\": 0, \"sun\": 0}, {\"distance\": 38.6, \"consume\": 4.6, \"speed\": 44, \"temp_inside\": 22.5, \"temp_outside\": 10, \"gas_type\": \"E10\", \"ac\": 0, \"rain\": 0, \"sun\": 0}, {\"distance\": 12.3, \"consume\": 4.8, \"speed\": 41, \"temp_inside\": 22.5, \"temp_outside\": 7, \"gas_type\": \"E10\", \"ac\": 0, \"rain\": 0, \"sun\": 0}, {\"distance\": 81.2, \"consume\": 4.4, \"speed\": 69, \"temp_inside\": 22.0, \"temp_outside\": 13, \"gas_type\": \"E10\", \"ac\": 0, \"rain\": 0, \"sun\": 0}, {\"distance\": 130.3, \"consume\": 4.6, \"speed\": 85, \"temp_inside\": 22.0, \"temp_outside\": 12, \"gas_type\": \"E10\", \"ac\": 0, \"rain\": 0, \"sun\": 0}, {\"distance\": 67.2, \"consume\": 4.3, \"speed\": 67, \"temp_inside\": 22.0, \"temp_outside\": 18, \"gas_type\": \"E10\", \"ac\": 0, \"rain\": 0, \"sun\": 0}, {\"distance\": 43.7, \"consume\": 4.7, \"speed\": 44, \"temp_inside\": 22.0, \"temp_outside\": 9, \"gas_type\": \"SP98\", \"ac\": 0, \"rain\": 1, \"sun\": 0}, {\"distance\": 12.1, \"consume\": 4.2, \"speed\": 43, \"temp_inside\": 22.0, \"temp_outside\": 4, \"gas_type\": \"SP98\", \"ac\": 0, \"rain\": 0, \"sun\": 0}, {\"distance\": 56.1, \"consume\": 4.8, \"speed\": 82, \"temp_inside\": 22.0, \"temp_outside\": 13, \"gas_type\": \"SP98\", \"ac\": 0, \"rain\": 0, \"sun\": 0}, {\"distance\": 39.0, \"consume\": 4.1, \"speed\": 61, \"temp_inside\": 22.0, \"temp_outside\": 16, \"gas_type\": \"SP98\", \"ac\": 0, \"rain\": 0, \"sun\": 0}, {\"distance\": 11.8, \"consume\": 4.5, \"speed\": 41, \"temp_inside\": 21.5, \"temp_outside\": 13, \"gas_type\": \"SP98\", \"ac\": 0, \"rain\": 0, \"sun\": 0}, {\"distance\": 38.5, \"consume\": 4.8, \"speed\": 63, \"temp_inside\": 21.5, \"temp_outside\": 14, \"gas_type\": \"SP98\", \"ac\": 0, \"rain\": 0, \"sun\": 0}, {\"distance\": 28.2, \"consume\": 4.6, \"speed\": 54, \"temp_inside\": 21.5, \"temp_outside\": 14, \"gas_type\": \"SP98\", \"ac\": 0, \"rain\": 0, \"sun\": 0}, {\"distance\": 2.9, \"consume\": 7.4, \"speed\": 24, \"temp_inside\": 21.5, \"temp_outside\": 14, \"gas_type\": \"SP98\", \"ac\": 0, \"rain\": 0, \"sun\": 0}, {\"distance\": 6.1, \"consume\": 5.6, \"speed\": 24, \"temp_inside\": 21.5, \"temp_outside\": 13, \"gas_type\": \"SP98\", \"ac\": 0, \"rain\": 0, \"sun\": 0}, {\"distance\": 19.6, \"consume\": 4.9, \"speed\": 43, \"temp_inside\": 21.5, \"temp_outside\": 13, \"gas_type\": \"SP98\", \"ac\": 0, \"rain\": 0, \"sun\": 0}, {\"distance\": 22.2, \"consume\": 3.8, \"speed\": 42, \"temp_inside\": null, \"temp_outside\": 15, \"gas_type\": \"SP98\", \"ac\": 0, \"rain\": 0, \"sun\": 0}, {\"distance\": 13.6, \"consume\": 4.5, \"speed\": 44, \"temp_inside\": 19.0, \"temp_outside\": 18, \"gas_type\": \"SP98\", \"ac\": 0, \"rain\": 0, \"sun\": 0}, {\"distance\": 12.6, \"consume\": 4.1, \"speed\": 33, \"temp_inside\": null, \"temp_outside\": 17, \"gas_type\": \"SP98\", \"ac\": 0, \"rain\": 0, \"sun\": 0}, {\"distance\": 8.7, \"consume\": 5.3, \"speed\": 28, \"temp_inside\": 22.5, \"temp_outside\": 12, \"gas_type\": \"SP98\", \"ac\": 1, \"rain\": 1, \"sun\": 0}, {\"distance\": 7.9, \"consume\": 4.7, \"speed\": 31, \"temp_inside\": 22.5, \"temp_outside\": 12, \"gas_type\": \"SP98\", \"ac\": 1, \"rain\": 0, \"sun\": 0}, {\"distance\": 2.4, \"consume\": 9.0, \"speed\": 26, \"temp_inside\": 20.0, \"temp_outside\": 10, \"gas_type\": \"SP98\", \"ac\": 0, \"rain\": 0, \"sun\": 0}, {\"distance\": 4.9, \"consume\": 6.3, \"speed\": 26, \"temp_inside\": 20.0, \"temp_outside\": 10, \"gas_type\": \"SP98\", \"ac\": 0, \"rain\": 0, \"sun\": 0}, {\"distance\": 18.1, \"consume\": 3.6, \"speed\": 36, \"temp_inside\": 20.0, \"temp_outside\": 19, \"gas_type\": \"SP98\", \"ac\": 0, \"rain\": 0, \"sun\": 0}, {\"distance\": 25.9, \"consume\": 3.7, \"speed\": 39, \"temp_inside\": 20.0, \"temp_outside\": 21, \"gas_type\": \"SP98\", \"ac\": 0, \"rain\": 0, \"sun\": 0}, {\"distance\": 1.3, \"consume\": 11.5, \"speed\": 21, \"temp_inside\": 20.0, \"temp_outside\": 10, \"gas_type\": \"SP98\", \"ac\": 0, \"rain\": 0, \"sun\": 0}, {\"distance\": 14.1, \"consume\": 5.0, \"speed\": 22, \"temp_inside\": 20.0, \"temp_outside\": 12, \"gas_type\": \"SP98\", \"ac\": 0, \"rain\": 0, \"sun\": 0}, {\"distance\": 13.4, \"consume\": 5.5, \"speed\": 31, \"temp_inside\": 20.0, \"temp_outside\": 9, \"gas_type\": \"SP98\", \"ac\": 0, \"rain\": 0, \"sun\": 0}, {\"distance\": 6.4, \"consume\": 4.7, \"speed\": 33, \"temp_inside\": 20.0, \"temp_outside\": 8, \"gas_type\": \"SP98\", \"ac\": 0, \"rain\": 0, \"sun\": 0}, {\"distance\": 12.9, \"consume\": 4.5, \"speed\": 42, \"temp_inside\": 20.0, \"temp_outside\": 13, \"gas_type\": \"SP98\", \"ac\": 0, \"rain\": 0, \"sun\": 0}, {\"distance\": 12.1, \"consume\": 4.4, \"speed\": 33, \"temp_inside\": 22.5, \"temp_outside\": 5, \"gas_type\": \"SP98\", \"ac\": 0, \"rain\": 0, \"sun\": 0}, {\"distance\": 15.7, \"consume\": 4.1, \"speed\": 32, \"temp_inside\": 22.5, \"temp_outside\": 13, \"gas_type\": \"SP98\", \"ac\": 0, \"rain\": 0, \"sun\": 0}, {\"distance\": 16.2, \"consume\": 4.4, \"speed\": 26, \"temp_inside\": 22.5, \"temp_outside\": 11, \"gas_type\": \"SP98\", \"ac\": 0, \"rain\": 0, \"sun\": 0}, {\"distance\": 12.8, \"consume\": 4.6, \"speed\": 22, \"temp_inside\": 22.5, \"temp_outside\": 12, \"gas_type\": \"SP98\", \"ac\": 0, \"rain\": 0, \"sun\": 0}, {\"distance\": 19.0, \"consume\": 4.4, \"speed\": 58, \"temp_inside\": 22.5, \"temp_outside\": 17, \"gas_type\": \"SP98\", \"ac\": 0, \"rain\": 0, \"sun\": 1}, {\"distance\": 29.0, \"consume\": 4.0, \"speed\": 27, \"temp_inside\": 22.5, \"temp_outside\": 12, \"gas_type\": \"SP98\", \"ac\": 0, \"rain\": 0, \"sun\": 0}, {\"distance\": 12.1, \"consume\": 5.0, \"speed\": 32, \"temp_inside\": 22.5, \"temp_outside\": 9, \"gas_type\": \"SP98\", \"ac\": 0, \"rain\": 0, \"sun\": 0}, {\"distance\": 12.3, \"consume\": 5.2, \"speed\": 55, \"temp_inside\": 22.5, \"temp_outside\": 10, \"gas_type\": \"SP98\", \"ac\": 0, \"rain\": 0, \"sun\": 0}, {\"distance\": 24.8, \"consume\": 4.0, \"speed\": 56, \"temp_inside\": 22.5, \"temp_outside\": 11, \"gas_type\": \"SP98\", \"ac\": 0, \"rain\": 0, \"sun\": 0}, {\"distance\": 12.9, \"consume\": 5.1, \"speed\": 34, \"temp_inside\": 22.5, \"temp_outside\": 8, \"gas_type\": \"SP98\", \"ac\": 0, \"rain\": 1, \"sun\": 0}, {\"distance\": 11.8, \"consume\": 4.5, \"speed\": 39, \"temp_inside\": 22.5, \"temp_outside\": 3, \"gas_type\": \"SP98\", \"ac\": 0, \"rain\": 0, \"sun\": 0}, {\"distance\": 31.4, \"consume\": 4.6, \"speed\": 62, \"temp_inside\": 22.5, \"temp_outside\": 11, \"gas_type\": \"SP98\", \"ac\": 0, \"rain\": 0, \"sun\": 0}, {\"distance\": 19.0, \"consume\": 5.1, \"speed\": 53, \"temp_inside\": 22.5, \"temp_outside\": 4, \"gas_type\": \"SP98\", \"ac\": 0, \"rain\": 1, \"sun\": 0}, {\"distance\": 13.0, \"consume\": 5.7, \"speed\": 38, \"temp_inside\": 22.5, \"temp_outside\": 3, \"gas_type\": \"SP98\", \"ac\": 1, \"rain\": 1, \"sun\": 0}, {\"distance\": 11.8, \"consume\": 4.8, \"speed\": 42, \"temp_inside\": 22.5, \"temp_outside\": 2, \"gas_type\": \"SP98\", \"ac\": 0, \"rain\": 0, \"sun\": 0}, {\"distance\": 13.0, \"consume\": 6.2, \"speed\": 32, \"temp_inside\": 22.5, \"temp_outside\": 4, \"gas_type\": \"SP98\", \"ac\": 0, \"rain\": 0, \"sun\": 0}, {\"distance\": 11.8, \"consume\": 5.0, \"speed\": 43, \"temp_inside\": 22.5, \"temp_outside\": 1, \"gas_type\": \"SP98\", \"ac\": 0, \"rain\": 0, \"sun\": 0}, {\"distance\": 27.1, \"consume\": 5.0, \"speed\": 69, \"temp_inside\": 22.5, \"temp_outside\": 8, \"gas_type\": \"SP98\", \"ac\": 0, \"rain\": 0, \"sun\": 0}, {\"distance\": 5.2, \"consume\": 4.6, \"speed\": 38, \"temp_inside\": 22.5, \"temp_outside\": 8, \"gas_type\": \"SP98\", \"ac\": 0, \"rain\": 0, \"sun\": 0}, {\"distance\": 19.0, \"consume\": 4.5, \"speed\": 29, \"temp_inside\": 22.5, \"temp_outside\": 10, \"gas_type\": \"E10\", \"ac\": 0, \"rain\": 0, \"sun\": 0}, {\"distance\": 12.4, \"consume\": 4.8, \"speed\": 38, \"temp_inside\": 22.5, \"temp_outside\": 1, \"gas_type\": \"E10\", \"ac\": 0, \"rain\": 0, \"sun\": 0}, {\"distance\": 25.2, \"consume\": 5.0, \"speed\": 55, \"temp_inside\": 22.5, \"temp_outside\": 9, \"gas_type\": \"E10\", \"ac\": 0, \"rain\": 0, \"sun\": 0}, {\"distance\": 14.3, \"consume\": 4.8, \"speed\": 36, \"temp_inside\": 22.5, \"temp_outside\": 10, \"gas_type\": \"E10\", \"ac\": 0, \"rain\": 0, \"sun\": 0}, {\"distance\": 11.8, \"consume\": 4.6, \"speed\": 40, \"temp_inside\": 22.5, \"temp_outside\": 2, \"gas_type\": \"E10\", \"ac\": 0, \"rain\": 0, \"sun\": 0}, {\"distance\": 16.9, \"consume\": 4.5, \"speed\": 48, \"temp_inside\": 22.5, \"temp_outside\": 9, \"gas_type\": \"E10\", \"ac\": 0, \"rain\": 0, \"sun\": 1}, {\"distance\": 12.4, \"consume\": 4.6, \"speed\": 55, \"temp_inside\": 22.5, \"temp_outside\": 11, \"gas_type\": \"E10\", \"ac\": 0, \"rain\": 0, \"sun\": 1}, {\"distance\": 17.4, \"consume\": 4.4, \"speed\": 36, \"temp_inside\": 22.5, \"temp_outside\": 12, \"gas_type\": \"E10\", \"ac\": 0, \"rain\": 0, \"sun\": 1}, {\"distance\": 9.2, \"consume\": 5.7, \"speed\": 33, \"temp_inside\": 22.5, \"temp_outside\": 8, \"gas_type\": \"E10\", \"ac\": 0, \"rain\": 1, \"sun\": 0}, {\"distance\": 12.3, \"consume\": 5.8, \"speed\": 54, \"temp_inside\": 22.5, \"temp_outside\": 10, \"gas_type\": \"E10\", \"ac\": 0, \"rain\": 1, \"sun\": 0}, {\"distance\": 13.0, \"consume\": 5.9, \"speed\": 32, \"temp_inside\": 22.5, \"temp_outside\": 10, \"gas_type\": \"E10\", \"ac\": 0, \"rain\": 0, \"sun\": 0}, {\"distance\": 11.8, \"consume\": 6.1, \"speed\": 16, \"temp_inside\": 22.5, \"temp_outside\": 6, \"gas_type\": \"E10\", \"ac\": 0, \"rain\": 1, \"sun\": 0}, {\"distance\": 13.0, \"consume\": 5.7, \"speed\": 37, \"temp_inside\": 22.5, \"temp_outside\": 11, \"gas_type\": \"E10\", \"ac\": 0, \"rain\": 1, \"sun\": 0}, {\"distance\": 12.3, \"consume\": 5.0, \"speed\": 42, \"temp_inside\": 22.5, \"temp_outside\": 10, \"gas_type\": \"E10\", \"ac\": 0, \"rain\": 0, \"sun\": 0}, {\"distance\": 12.3, \"consume\": 5.2, \"speed\": 57, \"temp_inside\": 22.5, \"temp_outside\": 15, \"gas_type\": \"E10\", \"ac\": 0, \"rain\": 0, \"sun\": 1}, {\"distance\": 12.5, \"consume\": 4.3, \"speed\": 57, \"temp_inside\": 22.5, \"temp_outside\": 16, \"gas_type\": \"E10\", \"ac\": 0, \"rain\": 0, \"sun\": 1}, {\"distance\": 31.5, \"consume\": 4.1, \"speed\": 30, \"temp_inside\": 22.5, \"temp_outside\": 16, \"gas_type\": \"E10\", \"ac\": 0, \"rain\": 0, \"sun\": 1}, {\"distance\": 11.8, \"consume\": 4.4, \"speed\": 42, \"temp_inside\": 22.5, \"temp_outside\": 8, \"gas_type\": \"E10\", \"ac\": 0, \"rain\": 0, \"sun\": 0}, {\"distance\": 24.9, \"consume\": 4.5, \"speed\": 53, \"temp_inside\": 22.5, \"temp_outside\": 14, \"gas_type\": \"E10\", \"ac\": 0, \"rain\": 0, \"sun\": 0}, {\"distance\": 17.0, \"consume\": 3.9, \"speed\": 46, \"temp_inside\": 22.5, \"temp_outside\": 14, \"gas_type\": \"E10\", \"ac\": 0, \"rain\": 0, \"sun\": 1}, {\"distance\": 2.0, \"consume\": 8.1, \"speed\": 20, \"temp_inside\": 22.5, \"temp_outside\": 14, \"gas_type\": \"E10\", \"ac\": 0, \"rain\": 0, \"sun\": 0}, {\"distance\": 11.8, \"consume\": 4.4, \"speed\": 33, \"temp_inside\": 22.5, \"temp_outside\": 8, \"gas_type\": \"E10\", \"ac\": 0, \"rain\": 0, \"sun\": 0}, {\"distance\": 7.4, \"consume\": 5.0, \"speed\": 31, \"temp_inside\": 22.5, \"temp_outside\": 12, \"gas_type\": \"E10\", \"ac\": 0, \"rain\": 0, \"sun\": 0}, {\"distance\": 12.4, \"consume\": 4.7, \"speed\": 55, \"temp_inside\": 22.5, \"temp_outside\": 14, \"gas_type\": \"E10\", \"ac\": 0, \"rain\": 0, \"sun\": 1}, {\"distance\": 2.0, \"consume\": 6.0, \"speed\": 22, \"temp_inside\": 22.5, \"temp_outside\": 14, \"gas_type\": \"E10\", \"ac\": 0, \"rain\": 0, \"sun\": 0}, {\"distance\": 14.0, \"consume\": 5.0, \"speed\": 41, \"temp_inside\": 22.5, \"temp_outside\": 8, \"gas_type\": \"E10\", \"ac\": 0, \"rain\": 0, \"sun\": 0}, {\"distance\": 25.7, \"consume\": 5.0, \"speed\": 45, \"temp_inside\": 22.5, \"temp_outside\": 7, \"gas_type\": \"E10\", \"ac\": 0, \"rain\": 0, \"sun\": 0}, {\"distance\": 24.5, \"consume\": 3.9, \"speed\": 50, \"temp_inside\": null, \"temp_outside\": 15, \"gas_type\": \"E10\", \"ac\": 0, \"rain\": 0, \"sun\": 1}, {\"distance\": 11.8, \"consume\": 4.5, \"speed\": 28, \"temp_inside\": 22.5, \"temp_outside\": 12, \"gas_type\": \"E10\", \"ac\": 0, \"rain\": 0, \"sun\": 0}, {\"distance\": 4.1, \"consume\": 5.4, \"speed\": 24, \"temp_inside\": 22.5, \"temp_outside\": 13, \"gas_type\": \"E10\", \"ac\": 0, \"rain\": 0, \"sun\": 0}, {\"distance\": 4.2, \"consume\": 5.6, \"speed\": 29, \"temp_inside\": 22.0, \"temp_outside\": 17, \"gas_type\": \"E10\", \"ac\": 0, \"rain\": 0, \"sun\": 0}, {\"distance\": 4.2, \"consume\": 3.9, \"speed\": 29, \"temp_inside\": 22.0, \"temp_outside\": 18, \"gas_type\": \"E10\", \"ac\": 0, \"rain\": 0, \"sun\": 1}, {\"distance\": 16.0, \"consume\": 4.0, \"speed\": 40, \"temp_inside\": 22.0, \"temp_outside\": 10, \"gas_type\": \"E10\", \"ac\": 0, \"rain\": 0, \"sun\": 0}, {\"distance\": 22.9, \"consume\": 4.0, \"speed\": 29, \"temp_inside\": null, \"temp_outside\": 21, \"gas_type\": \"E10\", \"ac\": 0, \"rain\": 0, \"sun\": 0}, {\"distance\": 16.0, \"consume\": 3.8, \"speed\": 42, \"temp_inside\": null, \"temp_outside\": 8, \"gas_type\": \"E10\", \"ac\": 0, \"rain\": 0, \"sun\": 0}, {\"distance\": 15.4, \"consume\": 4.5, \"speed\": 50, \"temp_inside\": 22.0, \"temp_outside\": 14, \"gas_type\": \"E10\", \"ac\": 0, \"rain\": 0, \"sun\": 0}, {\"distance\": 16.0, \"consume\": 3.8, \"speed\": 41, \"temp_inside\": 22.0, \"temp_outside\": 12, \"gas_type\": \"E10\", \"ac\": 0, \"rain\": 0, \"sun\": 0}, {\"distance\": 4.2, \"consume\": 5.6, \"speed\": 32, \"temp_inside\": 22.0, \"temp_outside\": 18, \"gas_type\": \"E10\", \"ac\": 0, \"rain\": 0, \"sun\": 0}, {\"distance\": 101.9, \"consume\": 5.2, \"speed\": 75, \"temp_inside\": 22.0, \"temp_outside\": 18, \"gas_type\": \"E10\", \"ac\": 0, \"rain\": 0, \"sun\": 0}, {\"distance\": 93.9, \"consume\": 4.8, \"speed\": 88, \"temp_inside\": 23.0, \"temp_outside\": 18, \"gas_type\": \"E10\", \"ac\": 1, \"rain\": 0, \"sun\": 1}, {\"distance\": 25.7, \"consume\": 4.9, \"speed\": 50, \"temp_inside\": 22.0, \"temp_outside\": 10, \"gas_type\": \"SP98\", \"ac\": 0, \"rain\": 1, \"sun\": 0}, {\"distance\": 16.0, \"consume\": 4.1, \"speed\": 40, \"temp_inside\": 22.0, \"temp_outside\": 10, \"gas_type\": \"SP98\", \"ac\": 0, \"rain\": 0, \"sun\": 0}, {\"distance\": 16.1, \"consume\": 4.5, \"speed\": 32, \"temp_inside\": 22.0, \"temp_outside\": 19, \"gas_type\": \"SP98\", \"ac\": 0, \"rain\": 0, \"sun\": 0}, {\"distance\": 16.0, \"consume\": 4.4, \"speed\": 40, \"temp_inside\": 22.0, \"temp_outside\": 7, \"gas_type\": \"SP98\", \"ac\": 1, \"rain\": 1, \"sun\": 0}, {\"distance\": 16.0, \"consume\": 4.5, \"speed\": 41, \"temp_inside\": 22.0, \"temp_outside\": 11, \"gas_type\": \"SP98\", \"ac\": 0, \"rain\": 0, \"sun\": 0}, {\"distance\": 24.7, \"consume\": 4.5, \"speed\": 26, \"temp_inside\": 22.0, \"temp_outside\": 10, \"gas_type\": \"SP98\", \"ac\": 0, \"rain\": 0, \"sun\": 0}, {\"distance\": 16.0, \"consume\": 3.9, \"speed\": 42, \"temp_inside\": 22.0, \"temp_outside\": 8, \"gas_type\": \"SP98\", \"ac\": 0, \"rain\": 0, \"sun\": 0}, {\"distance\": 15.4, \"consume\": 4.6, \"speed\": 43, \"temp_inside\": 22.0, \"temp_outside\": 16, \"gas_type\": \"SP98\", \"ac\": 0, \"rain\": 0, \"sun\": 0}, {\"distance\": 16.0, \"consume\": 3.8, \"speed\": 40, \"temp_inside\": 22.0, \"temp_outside\": 8, \"gas_type\": \"SP98\", \"ac\": 0, \"rain\": 0, \"sun\": 0}, {\"distance\": 32.1, \"consume\": 4.5, \"speed\": 50, \"temp_inside\": 22.0, \"temp_outside\": 16, \"gas_type\": \"SP98\", \"ac\": 0, \"rain\": 0, \"sun\": 0}, {\"distance\": 25.9, \"consume\": 4.4, \"speed\": 40, \"temp_inside\": 22.0, \"temp_outside\": 14, \"gas_type\": \"SP98\", \"ac\": 0, \"rain\": 0, \"sun\": 0}, {\"distance\": 48.6, \"consume\": 4.3, \"speed\": 44, \"temp_inside\": 22.0, \"temp_outside\": 12, \"gas_type\": \"SP98\", \"ac\": 0, \"rain\": 0, \"sun\": 0}, {\"distance\": 37.2, \"consume\": 4.0, \"speed\": 45, \"temp_inside\": 22.0, \"temp_outside\": 20, \"gas_type\": \"SP98\", \"ac\": 0, \"rain\": 0, \"sun\": 1}, {\"distance\": 28.8, \"consume\": 3.9, \"speed\": 35, \"temp_inside\": 22.0, \"temp_outside\": 15, \"gas_type\": \"SP98\", \"ac\": 0, \"rain\": 0, \"sun\": 1}, {\"distance\": 6.7, \"consume\": 5.0, \"speed\": 30, \"temp_inside\": 22.0, \"temp_outside\": 17, \"gas_type\": \"SP98\", \"ac\": 0, \"rain\": 0, \"sun\": 0}, {\"distance\": 7.4, \"consume\": 4.1, \"speed\": 25, \"temp_inside\": 22.0, \"temp_outside\": 18, \"gas_type\": \"SP98\", \"ac\": 0, \"rain\": 0, \"sun\": 1}, {\"distance\": 17.3, \"consume\": 4.1, \"speed\": 22, \"temp_inside\": 22.0, \"temp_outside\": 25, \"gas_type\": \"SP98\", \"ac\": 0, \"rain\": 0, \"sun\": 1}, {\"distance\": 6.6, \"consume\": 5.6, \"speed\": 43, \"temp_inside\": 22.0, \"temp_outside\": 16, \"gas_type\": \"SP98\", \"ac\": 0, \"rain\": 0, \"sun\": 0}, {\"distance\": 14.3, \"consume\": 4.1, \"speed\": 26, \"temp_inside\": 22.0, \"temp_outside\": 20, \"gas_type\": \"SP98\", \"ac\": 0, \"rain\": 0, \"sun\": 0}, {\"distance\": 13.3, \"consume\": 4.6, \"speed\": 33, \"temp_inside\": 22.0, \"temp_outside\": 18, \"gas_type\": \"SP98\", \"ac\": 0, \"rain\": 0, \"sun\": 0}, {\"distance\": 8.3, \"consume\": 4.9, \"speed\": 26, \"temp_inside\": 22.0, \"temp_outside\": 23, \"gas_type\": \"SP98\", \"ac\": 0, \"rain\": 0, \"sun\": 0}, {\"distance\": 12.7, \"consume\": 4.5, \"speed\": 39, \"temp_inside\": 22.0, \"temp_outside\": 27, \"gas_type\": \"SP98\", \"ac\": 0, \"rain\": 0, \"sun\": 1}, {\"distance\": 16.5, \"consume\": 4.1, \"speed\": 47, \"temp_inside\": 22.0, \"temp_outside\": 14, \"gas_type\": \"SP98\", \"ac\": 0, \"rain\": 0, \"sun\": 0}, {\"distance\": 20.6, \"consume\": 4.1, \"speed\": 38, \"temp_inside\": 22.0, \"temp_outside\": 21, \"gas_type\": \"SP98\", \"ac\": 0, \"rain\": 0, \"sun\": 0}, {\"distance\": 16.3, \"consume\": 4.5, \"speed\": 58, \"temp_inside\": 22.0, \"temp_outside\": 16, \"gas_type\": \"SP98\", \"ac\": 0, \"rain\": 0, \"sun\": 0}, {\"distance\": 18.7, \"consume\": 4.2, \"speed\": 65, \"temp_inside\": 25.0, \"temp_outside\": 18, \"gas_type\": \"SP98\", \"ac\": 1, \"rain\": 0, \"sun\": 1}, {\"distance\": 36.5, \"consume\": 3.9, \"speed\": 54, \"temp_inside\": 23.0, \"temp_outside\": 18, \"gas_type\": \"SP98\", \"ac\": 0, \"rain\": 0, \"sun\": 1}, {\"distance\": 19.0, \"consume\": 5.0, \"speed\": 35, \"temp_inside\": 22.0, \"temp_outside\": 15, \"gas_type\": \"SP98\", \"ac\": 1, \"rain\": 0, \"sun\": 1}, {\"distance\": 16.6, \"consume\": 4.4, \"speed\": 46, \"temp_inside\": 22.0, \"temp_outside\": 5, \"gas_type\": \"SP98\", \"ac\": 1, \"rain\": 0, \"sun\": 0}, {\"distance\": 29.9, \"consume\": 4.5, \"speed\": 32, \"temp_inside\": 22.0, \"temp_outside\": 18, \"gas_type\": \"SP98\", \"ac\": 1, \"rain\": 0, \"sun\": 0}, {\"distance\": 16.0, \"consume\": 3.8, \"speed\": 42, \"temp_inside\": 22.0, \"temp_outside\": 11, \"gas_type\": \"SP98\", \"ac\": 0, \"rain\": 0, \"sun\": 0}, {\"distance\": 21.1, \"consume\": 5.1, \"speed\": 33, \"temp_inside\": 22.0, \"temp_outside\": 10, \"gas_type\": \"SP98\", \"ac\": 0, \"rain\": 1, \"sun\": 0}, {\"distance\": 16.0, \"consume\": 3.9, \"speed\": 40, \"temp_inside\": 22.0, \"temp_outside\": 10, \"gas_type\": \"SP98\", \"ac\": 0, \"rain\": 0, \"sun\": 0}, {\"distance\": 11.9, \"consume\": 5.3, \"speed\": 34, \"temp_inside\": 22.0, \"temp_outside\": 13, \"gas_type\": \"SP98\", \"ac\": 0, \"rain\": 0, \"sun\": 0}, {\"distance\": 10.1, \"consume\": 4.2, \"speed\": 35, \"temp_inside\": 22.0, \"temp_outside\": 16, \"gas_type\": \"SP98\", \"ac\": 0, \"rain\": 0, \"sun\": 0}, {\"distance\": 31.9, \"consume\": 4.3, \"speed\": 33, \"temp_inside\": 22.0, \"temp_outside\": 16, \"gas_type\": \"SP98\", \"ac\": 0, \"rain\": 0, \"sun\": 0}, {\"distance\": 18.7, \"consume\": 4.0, \"speed\": 60, \"temp_inside\": 22.0, \"temp_outside\": 13, \"gas_type\": \"SP98\", \"ac\": 0, \"rain\": 0, \"sun\": 0}, {\"distance\": 10.8, \"consume\": 4.7, \"speed\": 48, \"temp_inside\": 22.0, \"temp_outside\": 17, \"gas_type\": \"SP98\", \"ac\": 0, \"rain\": 0, \"sun\": 1}, {\"distance\": 19.8, \"consume\": 4.0, \"speed\": 56, \"temp_inside\": 22.0, \"temp_outside\": 17, \"gas_type\": \"SP98\", \"ac\": 0, \"rain\": 0, \"sun\": 1}, {\"distance\": 11.3, \"consume\": 4.3, \"speed\": 38, \"temp_inside\": 22.0, \"temp_outside\": 17, \"gas_type\": \"SP98\", \"ac\": 0, \"rain\": 0, \"sun\": 0}, {\"distance\": 11.5, \"consume\": 5.3, \"speed\": 53, \"temp_inside\": 22.0, \"temp_outside\": 15, \"gas_type\": \"SP98\", \"ac\": 0, \"rain\": 0, \"sun\": 0}, {\"distance\": 21.4, \"consume\": 5.2, \"speed\": 51, \"temp_inside\": 22.0, \"temp_outside\": 13, \"gas_type\": \"SP98\", \"ac\": 0, \"rain\": 0, \"sun\": 0}, {\"distance\": 32.0, \"consume\": 4.9, \"speed\": 53, \"temp_inside\": 22.0, \"temp_outside\": 15, \"gas_type\": \"SP98\", \"ac\": 0, \"rain\": 0, \"sun\": 0}, {\"distance\": 41.9, \"consume\": 4.7, \"speed\": 53, \"temp_inside\": 22.0, \"temp_outside\": 14, \"gas_type\": \"SP98\", \"ac\": 0, \"rain\": 0, \"sun\": 0}, {\"distance\": 211.0, \"consume\": 4.6, \"speed\": 80, \"temp_inside\": 22.0, \"temp_outside\": 20, \"gas_type\": \"SP98\", \"ac\": 0, \"rain\": 0, \"sun\": 0}, {\"distance\": 216.1, \"consume\": 5.3, \"speed\": 90, \"temp_inside\": 22.0, \"temp_outside\": 21, \"gas_type\": \"SP98\", \"ac\": 0, \"rain\": 0, \"sun\": 1}, {\"distance\": 25.5, \"consume\": 3.6, \"speed\": 27, \"temp_inside\": 22.0, \"temp_outside\": 27, \"gas_type\": \"SP98\", \"ac\": 0, \"rain\": 0, \"sun\": 1}, {\"distance\": 16.6, \"consume\": 4.2, \"speed\": 52, \"temp_inside\": 22.0, \"temp_outside\": 15, \"gas_type\": \"SP98\", \"ac\": 0, \"rain\": 1, \"sun\": 0}, {\"distance\": 25.9, \"consume\": 4.1, \"speed\": 43, \"temp_inside\": 22.0, \"temp_outside\": 24, \"gas_type\": \"SP98\", \"ac\": 0, \"rain\": 0, \"sun\": 0}, {\"distance\": 16.5, \"consume\": 4.0, \"speed\": 48, \"temp_inside\": 22.0, \"temp_outside\": 15, \"gas_type\": \"SP98\", \"ac\": 0, \"rain\": 0, \"sun\": 0}, {\"distance\": 22.1, \"consume\": 3.9, \"speed\": 29, \"temp_inside\": 22.0, \"temp_outside\": 26, \"gas_type\": \"SP98\", \"ac\": 0, \"rain\": 0, \"sun\": 0}, {\"distance\": 16.6, \"consume\": 3.7, \"speed\": 49, \"temp_inside\": 22.0, \"temp_outside\": 17, \"gas_type\": \"E10\", \"ac\": 0, \"rain\": 0, \"sun\": 0}, {\"distance\": 15.4, \"consume\": 4.5, \"speed\": 43, \"temp_inside\": 22.0, \"temp_outside\": 24, \"gas_type\": \"E10\", \"ac\": 0, \"rain\": 0, \"sun\": 0}, {\"distance\": 16.5, \"consume\": 3.9, \"speed\": 43, \"temp_inside\": 22.0, \"temp_outside\": 17, \"gas_type\": \"E10\", \"ac\": 0, \"rain\": 0, \"sun\": 0}, {\"distance\": 15.4, \"consume\": 5.1, \"speed\": 21, \"temp_inside\": 22.0, \"temp_outside\": 24, \"gas_type\": \"E10\", \"ac\": 0, \"rain\": 0, \"sun\": 0}, {\"distance\": 18.4, \"consume\": 4.2, \"speed\": 59, \"temp_inside\": 22.0, \"temp_outside\": 24, \"gas_type\": \"E10\", \"ac\": 0, \"rain\": 0, \"sun\": 0}, {\"distance\": 39.5, \"consume\": 4.2, \"speed\": 58, \"temp_inside\": 22.0, \"temp_outside\": 25, \"gas_type\": \"E10\", \"ac\": 0, \"rain\": 0, \"sun\": 0}, {\"distance\": 21.5, \"consume\": 4.8, \"speed\": 47, \"temp_inside\": 25.0, \"temp_outside\": 27, \"gas_type\": \"E10\", \"ac\": 1, \"rain\": 0, \"sun\": 1}, {\"distance\": 4.8, \"consume\": 4.7, \"speed\": 26, \"temp_inside\": 25.0, \"temp_outside\": 18, \"gas_type\": \"E10\", \"ac\": 0, \"rain\": 0, \"sun\": 0}, {\"distance\": 100.9, \"consume\": 4.7, \"speed\": 87, \"temp_inside\": 23.5, \"temp_outside\": 22, \"gas_type\": \"E10\", \"ac\": 0, \"rain\": 0, \"sun\": 0}, {\"distance\": 129.7, \"consume\": 4.6, \"speed\": 58, \"temp_inside\": 24.0, \"temp_outside\": 21, \"gas_type\": \"E10\", \"ac\": 0, \"rain\": 0, \"sun\": 0}, {\"distance\": 16.6, \"consume\": 3.8, \"speed\": 43, \"temp_inside\": 21.5, \"temp_outside\": 16, \"gas_type\": \"E10\", \"ac\": 0, \"rain\": 0, \"sun\": 0}, {\"distance\": 15.4, \"consume\": 4.2, \"speed\": 50, \"temp_inside\": 21.5, \"temp_outside\": 21, \"gas_type\": \"E10\", \"ac\": 0, \"rain\": 0, \"sun\": 0}, {\"distance\": 16.0, \"consume\": 3.7, \"speed\": 45, \"temp_inside\": 22.0, \"temp_outside\": 17, \"gas_type\": \"E10\", \"ac\": 0, \"rain\": 0, \"sun\": 0}, {\"distance\": 16.0, \"consume\": 4.2, \"speed\": 41, \"temp_inside\": 22.0, \"temp_outside\": 15, \"gas_type\": \"E10\", \"ac\": 0, \"rain\": 0, \"sun\": 0}, {\"distance\": 15.4, \"consume\": 4.1, \"speed\": 45, \"temp_inside\": 22.0, \"temp_outside\": 24, \"gas_type\": \"E10\", \"ac\": 0, \"rain\": 0, \"sun\": 0}, {\"distance\": 16.0, \"consume\": 4.0, \"speed\": 43, \"temp_inside\": 22.0, \"temp_outside\": 16, \"gas_type\": \"E10\", \"ac\": 0, \"rain\": 0, \"sun\": 0}, {\"distance\": 21.0, \"consume\": 3.8, \"speed\": 37, \"temp_inside\": 22.0, \"temp_outside\": 21, \"gas_type\": \"E10\", \"ac\": 0, \"rain\": 0, \"sun\": 0}, {\"distance\": 15.4, \"consume\": 3.8, \"speed\": 47, \"temp_inside\": 22.0, \"temp_outside\": 24, \"gas_type\": \"E10\", \"ac\": 0, \"rain\": 0, \"sun\": 0}, {\"distance\": 16.0, \"consume\": 3.8, \"speed\": 42, \"temp_inside\": 22.0, \"temp_outside\": 17, \"gas_type\": \"E10\", \"ac\": 0, \"rain\": 0, \"sun\": 0}, {\"distance\": 16.1, \"consume\": 5.1, \"speed\": 30, \"temp_inside\": 25.0, \"temp_outside\": 16, \"gas_type\": \"E10\", \"ac\": 1, \"rain\": 1, \"sun\": 0}, {\"distance\": 16.0, \"consume\": 4.0, \"speed\": 42, \"temp_inside\": 22.0, \"temp_outside\": 15, \"gas_type\": \"E10\", \"ac\": 0, \"rain\": 0, \"sun\": 0}, {\"distance\": 15.4, \"consume\": 4.8, \"speed\": 40, \"temp_inside\": 22.0, \"temp_outside\": 18, \"gas_type\": \"E10\", \"ac\": 0, \"rain\": 0, \"sun\": 0}, {\"distance\": 17.2, \"consume\": 3.9, \"speed\": 35, \"temp_inside\": 22.0, \"temp_outside\": 16, \"gas_type\": \"E10\", \"ac\": 0, \"rain\": 0, \"sun\": 0}, {\"distance\": 16.6, \"consume\": 4.6, \"speed\": 50, \"temp_inside\": 22.0, \"temp_outside\": 25, \"gas_type\": \"E10\", \"ac\": 0, \"rain\": 0, \"sun\": 0}, {\"distance\": 18.3, \"consume\": 4.3, \"speed\": 46, \"temp_inside\": 22.0, \"temp_outside\": 16, \"gas_type\": \"SP98\", \"ac\": 0, \"rain\": 0, \"sun\": 0}, {\"distance\": 16.1, \"consume\": 4.8, \"speed\": 36, \"temp_inside\": 22.0, \"temp_outside\": 18, \"gas_type\": \"SP98\", \"ac\": 0, \"rain\": 1, \"sun\": 0}, {\"distance\": 16.0, \"consume\": 4.1, \"speed\": 46, \"temp_inside\": 22.0, \"temp_outside\": 17, \"gas_type\": \"SP98\", \"ac\": 0, \"rain\": 0, \"sun\": 0}, {\"distance\": 16.3, \"consume\": 4.0, \"speed\": 35, \"temp_inside\": 22.0, \"temp_outside\": 23, \"gas_type\": \"SP98\", \"ac\": 0, \"rain\": 0, \"sun\": 0}, {\"distance\": 16.0, \"consume\": 3.7, \"speed\": 44, \"temp_inside\": 22.0, \"temp_outside\": 16, \"gas_type\": \"SP98\", \"ac\": 0, \"rain\": 0, \"sun\": 0}, {\"distance\": 18.3, \"consume\": 4.3, \"speed\": 46, \"temp_inside\": 22.0, \"temp_outside\": 23, \"gas_type\": \"SP98\", \"ac\": 0, \"rain\": 0, \"sun\": 0}, {\"distance\": 4.5, \"consume\": 5.2, \"speed\": 23, \"temp_inside\": 22.0, \"temp_outside\": 23, \"gas_type\": \"SP98\", \"ac\": 0, \"rain\": 0, \"sun\": 1}, {\"distance\": 17.0, \"consume\": 4.2, \"speed\": 48, \"temp_inside\": 22.0, \"temp_outside\": 16, \"gas_type\": \"SP98\", \"ac\": 0, \"rain\": 0, \"sun\": 0}, {\"distance\": 6.1, \"consume\": 5.0, \"speed\": 35, \"temp_inside\": 24.5, \"temp_outside\": 18, \"gas_type\": \"SP98\", \"ac\": 0, \"rain\": 0, \"sun\": 0}, {\"distance\": 6.1, \"consume\": 5.0, \"speed\": 33, \"temp_inside\": 22.0, \"temp_outside\": 24, \"gas_type\": \"SP98\", \"ac\": 0, \"rain\": 0, \"sun\": 1}, {\"distance\": 17.3, \"consume\": 4.2, \"speed\": 36, \"temp_inside\": 22.0, \"temp_outside\": 22, \"gas_type\": \"SP98\", \"ac\": 0, \"rain\": 0, \"sun\": 0}, {\"distance\": 6.0, \"consume\": 4.8, \"speed\": 27, \"temp_inside\": 22.0, \"temp_outside\": 17, \"gas_type\": \"SP98\", \"ac\": 0, \"rain\": 0, \"sun\": 0}, {\"distance\": 16.0, \"consume\": 4.1, \"speed\": 45, \"temp_inside\": 22.0, \"temp_outside\": 15, \"gas_type\": \"SP98\", \"ac\": 0, \"rain\": 0, \"sun\": 0}, {\"distance\": 15.4, \"consume\": 4.9, \"speed\": 55, \"temp_inside\": 22.0, \"temp_outside\": 18, \"gas_type\": \"SP98\", \"ac\": 0, \"rain\": 0, \"sun\": 0}, {\"distance\": 15.4, \"consume\": 4.3, \"speed\": 39, \"temp_inside\": 22.0, \"temp_outside\": 23, \"gas_type\": \"SP98\", \"ac\": 0, \"rain\": 0, \"sun\": 0}, {\"distance\": 16.0, \"consume\": 3.9, \"speed\": 35, \"temp_inside\": 22.0, \"temp_outside\": 18, \"gas_type\": \"SP98\", \"ac\": 0, \"rain\": 0, \"sun\": 0}, {\"distance\": 15.4, \"consume\": 4.5, \"speed\": 52, \"temp_inside\": 22.0, \"temp_outside\": 26, \"gas_type\": \"SP98\", \"ac\": 0, \"rain\": 0, \"sun\": 0}, {\"distance\": 16.6, \"consume\": 4.1, \"speed\": 48, \"temp_inside\": 25.5, \"temp_outside\": 30, \"gas_type\": \"SP98\", \"ac\": 1, \"rain\": 0, \"sun\": 1}, {\"distance\": 15.4, \"consume\": 5.0, \"speed\": 48, \"temp_inside\": 25.5, \"temp_outside\": 31, \"gas_type\": \"SP98\", \"ac\": 1, \"rain\": 0, \"sun\": 0}, {\"distance\": 16.0, \"consume\": 4.0, \"speed\": 43, \"temp_inside\": 22.0, \"temp_outside\": 21, \"gas_type\": \"SP98\", \"ac\": 1, \"rain\": 0, \"sun\": 0}, {\"distance\": 15.4, \"consume\": 4.5, \"speed\": 42, \"temp_inside\": 22.0, \"temp_outside\": 30, \"gas_type\": \"SP98\", \"ac\": 0, \"rain\": 0, \"sun\": 0}, {\"distance\": 16.0, \"consume\": 3.6, \"speed\": 43, \"temp_inside\": 22.0, \"temp_outside\": 19, \"gas_type\": \"SP98\", \"ac\": 0, \"rain\": 0, \"sun\": 0}, {\"distance\": 20.9, \"consume\": 4.1, \"speed\": 33, \"temp_inside\": 22.0, \"temp_outside\": 21, \"gas_type\": \"SP98\", \"ac\": 0, \"rain\": 0, \"sun\": 0}, {\"distance\": 32.1, \"consume\": 3.9, \"speed\": 47, \"temp_inside\": 22.0, \"temp_outside\": 26, \"gas_type\": \"SP98\", \"ac\": 0, \"rain\": 0, \"sun\": 0}, {\"distance\": 15.3, \"consume\": 6.6, \"speed\": 16, \"temp_inside\": 24.0, \"temp_outside\": 27, \"gas_type\": \"SP98\", \"ac\": 1, \"rain\": 0, \"sun\": 0}, {\"distance\": 28.5, \"consume\": 4.0, \"speed\": 44, \"temp_inside\": 25.0, \"temp_outside\": 23, \"gas_type\": \"SP98\", \"ac\": 1, \"rain\": 0, \"sun\": 0}, {\"distance\": 11.9, \"consume\": 3.7, \"speed\": 33, \"temp_inside\": 25.0, \"temp_outside\": 19, \"gas_type\": \"SP98\", \"ac\": 0, \"rain\": 0, \"sun\": 0}, {\"distance\": 14.5, \"consume\": 4.3, \"speed\": 36, \"temp_inside\": 25.0, \"temp_outside\": 22, \"gas_type\": \"SP98\", \"ac\": 0, \"rain\": 0, \"sun\": 0}, {\"distance\": 16.6, \"consume\": 4.1, \"speed\": 49, \"temp_inside\": 22.0, \"temp_outside\": 26, \"gas_type\": \"SP98\", \"ac\": 0, \"rain\": 0, \"sun\": 1}, {\"distance\": 16.2, \"consume\": 4.4, \"speed\": 39, \"temp_inside\": 24.5, \"temp_outside\": 17, \"gas_type\": \"SP98\", \"ac\": 1, \"rain\": 0, \"sun\": 0}, {\"distance\": 16.7, \"consume\": 3.8, \"speed\": 44, \"temp_inside\": 24.5, \"temp_outside\": 23, \"gas_type\": \"SP98\", \"ac\": 0, \"rain\": 0, \"sun\": 1}, {\"distance\": 8.3, \"consume\": 5.0, \"speed\": 52, \"temp_inside\": 24.5, \"temp_outside\": 27, \"gas_type\": \"SP98\", \"ac\": 0, \"rain\": 0, \"sun\": 0}, {\"distance\": 5.5, \"consume\": 3.7, \"speed\": 33, \"temp_inside\": 24.5, \"temp_outside\": 28, \"gas_type\": \"SP98\", \"ac\": 0, \"rain\": 0, \"sun\": 1}, {\"distance\": 13.6, \"consume\": 3.7, \"speed\": 33, \"temp_inside\": 24.5, \"temp_outside\": 28, \"gas_type\": \"SP98\", \"ac\": 0, \"rain\": 0, \"sun\": 1}, {\"distance\": 16.0, \"consume\": 3.7, \"speed\": 39, \"temp_inside\": 24.5, \"temp_outside\": 18, \"gas_type\": \"SP98\", \"ac\": 0, \"rain\": 0, \"sun\": 0}, {\"distance\": 16.1, \"consume\": 4.3, \"speed\": 38, \"temp_inside\": 25.0, \"temp_outside\": 31, \"gas_type\": \"SP98\", \"ac\": 1, \"rain\": 0, \"sun\": 0}, {\"distance\": 16.0, \"consume\": 3.8, \"speed\": 45, \"temp_inside\": 25.0, \"temp_outside\": 19, \"gas_type\": \"SP98\", \"ac\": 0, \"rain\": 0, \"sun\": 0}, {\"distance\": 15.4, \"consume\": 4.6, \"speed\": 42, \"temp_inside\": 25.0, \"temp_outside\": 31, \"gas_type\": \"SP98\", \"ac\": 1, \"rain\": 0, \"sun\": 0}, {\"distance\": 14.7, \"consume\": 5.0, \"speed\": 25, \"temp_inside\": 25.0, \"temp_outside\": 30, \"gas_type\": \"SP98\", \"ac\": 1, \"rain\": 0, \"sun\": 0}]}}, {\"mode\": \"vega-lite\"});\n",
       "</script>"
      ],
      "text/plain": [
       "alt.Chart(...)"
      ]
     },
     "execution_count": 54,
     "metadata": {},
     "output_type": "execute_result"
    }
   ],
   "source": [
    "alt.Chart(clean_data).mark_point().encode(x='ac', y='consume', color='gas_type').interactive()"
   ]
  },
  {
   "cell_type": "markdown",
   "id": "da7743dc",
   "metadata": {},
   "source": [
    "### Consume when is raining"
   ]
  },
  {
   "cell_type": "code",
   "execution_count": 55,
   "id": "15545fab",
   "metadata": {},
   "outputs": [
    {
     "data": {
      "text/html": [
       "\n",
       "<div id=\"altair-viz-0fd115c6a5c94d6eb094ea9b722b6d80\"></div>\n",
       "<script type=\"text/javascript\">\n",
       "  var VEGA_DEBUG = (typeof VEGA_DEBUG == \"undefined\") ? {} : VEGA_DEBUG;\n",
       "  (function(spec, embedOpt){\n",
       "    let outputDiv = document.currentScript.previousElementSibling;\n",
       "    if (outputDiv.id !== \"altair-viz-0fd115c6a5c94d6eb094ea9b722b6d80\") {\n",
       "      outputDiv = document.getElementById(\"altair-viz-0fd115c6a5c94d6eb094ea9b722b6d80\");\n",
       "    }\n",
       "    const paths = {\n",
       "      \"vega\": \"https://cdn.jsdelivr.net/npm//vega@5?noext\",\n",
       "      \"vega-lib\": \"https://cdn.jsdelivr.net/npm//vega-lib?noext\",\n",
       "      \"vega-lite\": \"https://cdn.jsdelivr.net/npm//vega-lite@4.17.0?noext\",\n",
       "      \"vega-embed\": \"https://cdn.jsdelivr.net/npm//vega-embed@6?noext\",\n",
       "    };\n",
       "\n",
       "    function maybeLoadScript(lib, version) {\n",
       "      var key = `${lib.replace(\"-\", \"\")}_version`;\n",
       "      return (VEGA_DEBUG[key] == version) ?\n",
       "        Promise.resolve(paths[lib]) :\n",
       "        new Promise(function(resolve, reject) {\n",
       "          var s = document.createElement('script');\n",
       "          document.getElementsByTagName(\"head\")[0].appendChild(s);\n",
       "          s.async = true;\n",
       "          s.onload = () => {\n",
       "            VEGA_DEBUG[key] = version;\n",
       "            return resolve(paths[lib]);\n",
       "          };\n",
       "          s.onerror = () => reject(`Error loading script: ${paths[lib]}`);\n",
       "          s.src = paths[lib];\n",
       "        });\n",
       "    }\n",
       "\n",
       "    function showError(err) {\n",
       "      outputDiv.innerHTML = `<div class=\"error\" style=\"color:red;\">${err}</div>`;\n",
       "      throw err;\n",
       "    }\n",
       "\n",
       "    function displayChart(vegaEmbed) {\n",
       "      vegaEmbed(outputDiv, spec, embedOpt)\n",
       "        .catch(err => showError(`Javascript Error: ${err.message}<br>This usually means there's a typo in your chart specification. See the javascript console for the full traceback.`));\n",
       "    }\n",
       "\n",
       "    if(typeof define === \"function\" && define.amd) {\n",
       "      requirejs.config({paths});\n",
       "      require([\"vega-embed\"], displayChart, err => showError(`Error loading script: ${err.message}`));\n",
       "    } else {\n",
       "      maybeLoadScript(\"vega\", \"5\")\n",
       "        .then(() => maybeLoadScript(\"vega-lite\", \"4.17.0\"))\n",
       "        .then(() => maybeLoadScript(\"vega-embed\", \"6\"))\n",
       "        .catch(showError)\n",
       "        .then(() => displayChart(vegaEmbed));\n",
       "    }\n",
       "  })({\"config\": {\"view\": {\"continuousWidth\": 400, \"continuousHeight\": 300}}, \"data\": {\"name\": \"data-45a64c4533a0455ea96c1caea5302820\"}, \"mark\": \"point\", \"encoding\": {\"color\": {\"field\": \"gas_type\", \"type\": \"nominal\"}, \"x\": {\"field\": \"rain\", \"type\": \"quantitative\"}, \"y\": {\"field\": \"consume\", \"type\": \"quantitative\"}}, \"selection\": {\"selector005\": {\"type\": \"interval\", \"bind\": \"scales\", \"encodings\": [\"x\", \"y\"]}}, \"$schema\": \"https://vega.github.io/schema/vega-lite/v4.17.0.json\", \"datasets\": {\"data-45a64c4533a0455ea96c1caea5302820\": [{\"distance\": 28.0, \"consume\": 5.0, \"speed\": 26, \"temp_inside\": 21.5, \"temp_outside\": 12, \"gas_type\": \"E10\", \"ac\": 0, \"rain\": 0, \"sun\": 0}, {\"distance\": 12.0, \"consume\": 4.2, \"speed\": 30, \"temp_inside\": 21.5, \"temp_outside\": 13, \"gas_type\": \"E10\", \"ac\": 0, \"rain\": 0, \"sun\": 0}, {\"distance\": 11.2, \"consume\": 5.5, \"speed\": 38, \"temp_inside\": 21.5, \"temp_outside\": 15, \"gas_type\": \"E10\", \"ac\": 0, \"rain\": 0, \"sun\": 0}, {\"distance\": 12.9, \"consume\": 3.9, \"speed\": 36, \"temp_inside\": 21.5, \"temp_outside\": 14, \"gas_type\": \"E10\", \"ac\": 0, \"rain\": 0, \"sun\": 0}, {\"distance\": 18.5, \"consume\": 4.5, \"speed\": 46, \"temp_inside\": 21.5, \"temp_outside\": 15, \"gas_type\": \"E10\", \"ac\": 0, \"rain\": 0, \"sun\": 0}, {\"distance\": 8.3, \"consume\": 6.4, \"speed\": 50, \"temp_inside\": 21.5, \"temp_outside\": 10, \"gas_type\": \"E10\", \"ac\": 0, \"rain\": 0, \"sun\": 0}, {\"distance\": 7.8, \"consume\": 4.4, \"speed\": 43, \"temp_inside\": 21.5, \"temp_outside\": 11, \"gas_type\": \"E10\", \"ac\": 0, \"rain\": 0, \"sun\": 0}, {\"distance\": 12.3, \"consume\": 5.0, \"speed\": 40, \"temp_inside\": 21.5, \"temp_outside\": 6, \"gas_type\": \"E10\", \"ac\": 0, \"rain\": 0, \"sun\": 0}, {\"distance\": 4.9, \"consume\": 6.4, \"speed\": 26, \"temp_inside\": 21.5, \"temp_outside\": 4, \"gas_type\": \"E10\", \"ac\": 0, \"rain\": 0, \"sun\": 0}, {\"distance\": 11.9, \"consume\": 5.3, \"speed\": 30, \"temp_inside\": 21.5, \"temp_outside\": 9, \"gas_type\": \"E10\", \"ac\": 0, \"rain\": 0, \"sun\": 0}, {\"distance\": 12.4, \"consume\": 5.6, \"speed\": 42, \"temp_inside\": 21.5, \"temp_outside\": 4, \"gas_type\": \"E10\", \"ac\": 0, \"rain\": 0, \"sun\": 0}, {\"distance\": 11.8, \"consume\": 4.6, \"speed\": 38, \"temp_inside\": 21.5, \"temp_outside\": 0, \"gas_type\": \"E10\", \"ac\": 0, \"rain\": 0, \"sun\": 0}, {\"distance\": 12.3, \"consume\": 5.9, \"speed\": 59, \"temp_inside\": 21.5, \"temp_outside\": 10, \"gas_type\": \"E10\", \"ac\": 0, \"rain\": 0, \"sun\": 0}, {\"distance\": 24.7, \"consume\": 5.1, \"speed\": 58, \"temp_inside\": 21.5, \"temp_outside\": 12, \"gas_type\": \"E10\", \"ac\": 0, \"rain\": 0, \"sun\": 0}, {\"distance\": 12.4, \"consume\": 4.7, \"speed\": 46, \"temp_inside\": 21.5, \"temp_outside\": 11, \"gas_type\": \"E10\", \"ac\": 0, \"rain\": 0, \"sun\": 0}, {\"distance\": 17.3, \"consume\": 5.1, \"speed\": 24, \"temp_inside\": 21.5, \"temp_outside\": 5, \"gas_type\": \"E10\", \"ac\": 0, \"rain\": 0, \"sun\": 0}, {\"distance\": 33.4, \"consume\": 5.6, \"speed\": 36, \"temp_inside\": 21.5, \"temp_outside\": 3, \"gas_type\": \"E10\", \"ac\": 0, \"rain\": 0, \"sun\": 0}, {\"distance\": 11.8, \"consume\": 5.1, \"speed\": 32, \"temp_inside\": 21.5, \"temp_outside\": 3, \"gas_type\": \"E10\", \"ac\": 0, \"rain\": 0, \"sun\": 0}, {\"distance\": 25.9, \"consume\": 4.9, \"speed\": 39, \"temp_inside\": 21.5, \"temp_outside\": 8, \"gas_type\": \"E10\", \"ac\": 0, \"rain\": 0, \"sun\": 0}, {\"distance\": 11.8, \"consume\": 4.7, \"speed\": 40, \"temp_inside\": 21.5, \"temp_outside\": 4, \"gas_type\": \"E10\", \"ac\": 0, \"rain\": 0, \"sun\": 0}, {\"distance\": 25.3, \"consume\": 5.5, \"speed\": 32, \"temp_inside\": 21.5, \"temp_outside\": 3, \"gas_type\": \"E10\", \"ac\": 0, \"rain\": 0, \"sun\": 0}, {\"distance\": 14.2, \"consume\": 5.9, \"speed\": 38, \"temp_inside\": 21.5, \"temp_outside\": 1, \"gas_type\": \"E10\", \"ac\": 0, \"rain\": 0, \"sun\": 0}, {\"distance\": 17.9, \"consume\": 5.7, \"speed\": 37, \"temp_inside\": 21.5, \"temp_outside\": 1, \"gas_type\": \"E10\", \"ac\": 0, \"rain\": 0, \"sun\": 0}, {\"distance\": 11.8, \"consume\": 4.7, \"speed\": 36, \"temp_inside\": 21.5, \"temp_outside\": 1, \"gas_type\": \"E10\", \"ac\": 0, \"rain\": 0, \"sun\": 0}, {\"distance\": 12.3, \"consume\": 5.9, \"speed\": 62, \"temp_inside\": 21.5, \"temp_outside\": 6, \"gas_type\": \"E10\", \"ac\": 0, \"rain\": 0, \"sun\": 0}, {\"distance\": 12.4, \"consume\": 4.1, \"speed\": 57, \"temp_inside\": 21.5, \"temp_outside\": 9, \"gas_type\": \"E10\", \"ac\": 0, \"rain\": 0, \"sun\": 0}, {\"distance\": 18.4, \"consume\": 5.7, \"speed\": 21, \"temp_inside\": 22.5, \"temp_outside\": 2, \"gas_type\": \"E10\", \"ac\": 0, \"rain\": 0, \"sun\": 0}, {\"distance\": 18.4, \"consume\": 5.8, \"speed\": 28, \"temp_inside\": 21.5, \"temp_outside\": 3, \"gas_type\": \"E10\", \"ac\": 0, \"rain\": 0, \"sun\": 0}, {\"distance\": 18.3, \"consume\": 5.5, \"speed\": 29, \"temp_inside\": 21.5, \"temp_outside\": 1, \"gas_type\": \"E10\", \"ac\": 0, \"rain\": 0, \"sun\": 0}, {\"distance\": 18.4, \"consume\": 5.7, \"speed\": 35, \"temp_inside\": 21.5, \"temp_outside\": 4, \"gas_type\": \"E10\", \"ac\": 0, \"rain\": 0, \"sun\": 0}, {\"distance\": 12.3, \"consume\": 5.3, \"speed\": 51, \"temp_inside\": 21.5, \"temp_outside\": 11, \"gas_type\": \"E10\", \"ac\": 0, \"rain\": 0, \"sun\": 0}, {\"distance\": 11.8, \"consume\": 5.0, \"speed\": 29, \"temp_inside\": 21.5, \"temp_outside\": 10, \"gas_type\": \"E10\", \"ac\": 0, \"rain\": 0, \"sun\": 0}, {\"distance\": 12.3, \"consume\": 5.6, \"speed\": 58, \"temp_inside\": 21.5, \"temp_outside\": 8, \"gas_type\": \"E10\", \"ac\": 0, \"rain\": 0, \"sun\": 0}, {\"distance\": 32.6, \"consume\": 4.8, \"speed\": 40, \"temp_inside\": 21.5, \"temp_outside\": 7, \"gas_type\": \"E10\", \"ac\": 0, \"rain\": 0, \"sun\": 0}, {\"distance\": 19.0, \"consume\": 4.3, \"speed\": 36, \"temp_inside\": 21.5, \"temp_outside\": 7, \"gas_type\": \"E10\", \"ac\": 0, \"rain\": 0, \"sun\": 0}, {\"distance\": 12.1, \"consume\": 5.7, \"speed\": 36, \"temp_inside\": 21.5, \"temp_outside\": 8, \"gas_type\": \"E10\", \"ac\": 0, \"rain\": 0, \"sun\": 0}, {\"distance\": 20.0, \"consume\": 5.2, \"speed\": 37, \"temp_inside\": 21.5, \"temp_outside\": 4, \"gas_type\": \"E10\", \"ac\": 0, \"rain\": 0, \"sun\": 0}, {\"distance\": 4.9, \"consume\": 7.4, \"speed\": 26, \"temp_inside\": 21.5, \"temp_outside\": 6, \"gas_type\": \"E10\", \"ac\": 0, \"rain\": 0, \"sun\": 0}, {\"distance\": 11.8, \"consume\": 4.8, \"speed\": 23, \"temp_inside\": 21.5, \"temp_outside\": 9, \"gas_type\": \"E10\", \"ac\": 0, \"rain\": 0, \"sun\": 0}, {\"distance\": 12.3, \"consume\": 6.5, \"speed\": 58, \"temp_inside\": 21.5, \"temp_outside\": 7, \"gas_type\": \"E10\", \"ac\": 0, \"rain\": 0, \"sun\": 0}, {\"distance\": 12.4, \"consume\": 4.0, \"speed\": 55, \"temp_inside\": 21.5, \"temp_outside\": 7, \"gas_type\": \"E10\", \"ac\": 1, \"rain\": 1, \"sun\": 0}, {\"distance\": 4.5, \"consume\": 5.0, \"speed\": 29, \"temp_inside\": 21.5, \"temp_outside\": 7, \"gas_type\": \"E10\", \"ac\": 1, \"rain\": 0, \"sun\": 0}, {\"distance\": 11.7, \"consume\": 4.6, \"speed\": 37, \"temp_inside\": 21.5, \"temp_outside\": 6, \"gas_type\": \"E10\", \"ac\": 0, \"rain\": 0, \"sun\": 0}, {\"distance\": 10.2, \"consume\": 4.3, \"speed\": 44, \"temp_inside\": 21.5, \"temp_outside\": 7, \"gas_type\": \"E10\", \"ac\": 0, \"rain\": 0, \"sun\": 0}, {\"distance\": 5.4, \"consume\": 3.3, \"speed\": 32, \"temp_inside\": 21.5, \"temp_outside\": 7, \"gas_type\": \"SP98\", \"ac\": 0, \"rain\": 0, \"sun\": 0}, {\"distance\": 2.0, \"consume\": 9.9, \"speed\": 21, \"temp_inside\": 21.5, \"temp_outside\": 4, \"gas_type\": \"SP98\", \"ac\": 0, \"rain\": 0, \"sun\": 0}, {\"distance\": 14.2, \"consume\": 5.1, \"speed\": 32, \"temp_inside\": 21.5, \"temp_outside\": 7, \"gas_type\": \"SP98\", \"ac\": 0, \"rain\": 0, \"sun\": 0}, {\"distance\": 16.0, \"consume\": 4.9, \"speed\": 25, \"temp_inside\": 21.5, \"temp_outside\": 8, \"gas_type\": \"SP98\", \"ac\": 0, \"rain\": 0, \"sun\": 0}, {\"distance\": 11.8, \"consume\": 4.9, \"speed\": 25, \"temp_inside\": 21.5, \"temp_outside\": 11, \"gas_type\": \"SP98\", \"ac\": 0, \"rain\": 0, \"sun\": 0}, {\"distance\": 27.3, \"consume\": 4.7, \"speed\": 36, \"temp_inside\": 21.5, \"temp_outside\": 10, \"gas_type\": \"SP98\", \"ac\": 0, \"rain\": 0, \"sun\": 0}, {\"distance\": 11.8, \"consume\": 5.1, \"speed\": 29, \"temp_inside\": 21.5, \"temp_outside\": 5, \"gas_type\": \"SP98\", \"ac\": 0, \"rain\": 1, \"sun\": 0}, {\"distance\": 10.6, \"consume\": 4.9, \"speed\": 63, \"temp_inside\": 21.5, \"temp_outside\": 6, \"gas_type\": \"SP98\", \"ac\": 0, \"rain\": 0, \"sun\": 0}, {\"distance\": 11.6, \"consume\": 4.2, \"speed\": 61, \"temp_inside\": 21.5, \"temp_outside\": 7, \"gas_type\": \"SP98\", \"ac\": 0, \"rain\": 0, \"sun\": 0}, {\"distance\": 13.1, \"consume\": 6.1, \"speed\": 46, \"temp_inside\": 21.5, \"temp_outside\": 6, \"gas_type\": \"SP98\", \"ac\": 0, \"rain\": 1, \"sun\": 0}, {\"distance\": 6.1, \"consume\": 6.4, \"speed\": 28, \"temp_inside\": 21.5, \"temp_outside\": 8, \"gas_type\": \"SP98\", \"ac\": 0, \"rain\": 0, \"sun\": 0}, {\"distance\": 153.5, \"consume\": 4.9, \"speed\": 82, \"temp_inside\": 21.5, \"temp_outside\": 3, \"gas_type\": \"SP98\", \"ac\": 0, \"rain\": 1, \"sun\": 0}, {\"distance\": 11.8, \"consume\": 4.9, \"speed\": 24, \"temp_inside\": 21.5, \"temp_outside\": 7, \"gas_type\": \"SP98\", \"ac\": 0, \"rain\": 0, \"sun\": 0}, {\"distance\": 12.3, \"consume\": 6.2, \"speed\": 61, \"temp_inside\": 21.5, \"temp_outside\": 8, \"gas_type\": \"SP98\", \"ac\": 0, \"rain\": 0, \"sun\": 0}, {\"distance\": 12.4, \"consume\": 4.2, \"speed\": 57, \"temp_inside\": 21.5, \"temp_outside\": 8, \"gas_type\": \"SP98\", \"ac\": 0, \"rain\": 0, \"sun\": 0}, {\"distance\": 12.3, \"consume\": 5.7, \"speed\": 52, \"temp_inside\": 21.5, \"temp_outside\": 8, \"gas_type\": \"SP98\", \"ac\": 0, \"rain\": 1, \"sun\": 0}, {\"distance\": 2.9, \"consume\": 7.9, \"speed\": 18, \"temp_inside\": 21.5, \"temp_outside\": 9, \"gas_type\": \"SP98\", \"ac\": 1, \"rain\": 1, \"sun\": 0}, {\"distance\": 2.1, \"consume\": 12.2, \"speed\": 23, \"temp_inside\": 21.5, \"temp_outside\": 9, \"gas_type\": \"SP98\", \"ac\": 1, \"rain\": 1, \"sun\": 0}, {\"distance\": 9.8, \"consume\": 5.8, \"speed\": 24, \"temp_inside\": 21.5, \"temp_outside\": 6, \"gas_type\": \"SP98\", \"ac\": 0, \"rain\": 0, \"sun\": 0}, {\"distance\": 6.8, \"consume\": 5.3, \"speed\": 26, \"temp_inside\": 21.5, \"temp_outside\": 6, \"gas_type\": \"SP98\", \"ac\": 0, \"rain\": 0, \"sun\": 0}, {\"distance\": 12.4, \"consume\": 5.4, \"speed\": 24, \"temp_inside\": 21.5, \"temp_outside\": 7, \"gas_type\": \"SP98\", \"ac\": 0, \"rain\": 0, \"sun\": 0}, {\"distance\": 12.4, \"consume\": 4.7, \"speed\": 57, \"temp_inside\": 21.5, \"temp_outside\": 8, \"gas_type\": \"SP98\", \"ac\": 0, \"rain\": 0, \"sun\": 0}, {\"distance\": 11.8, \"consume\": 4.6, \"speed\": 41, \"temp_inside\": 21.5, \"temp_outside\": 6, \"gas_type\": \"SP98\", \"ac\": 0, \"rain\": 0, \"sun\": 0}, {\"distance\": 12.3, \"consume\": 5.4, \"speed\": 55, \"temp_inside\": 21.5, \"temp_outside\": 8, \"gas_type\": \"SP98\", \"ac\": 0, \"rain\": 0, \"sun\": 0}, {\"distance\": 14.0, \"consume\": 4.3, \"speed\": 40, \"temp_inside\": 21.5, \"temp_outside\": 8, \"gas_type\": \"SP98\", \"ac\": 0, \"rain\": 0, \"sun\": 0}, {\"distance\": 11.8, \"consume\": 4.5, \"speed\": 37, \"temp_inside\": 21.5, \"temp_outside\": 4, \"gas_type\": \"SP98\", \"ac\": 1, \"rain\": 0, \"sun\": 0}, {\"distance\": 12.3, \"consume\": 5.2, \"speed\": 55, \"temp_inside\": 21.5, \"temp_outside\": 12, \"gas_type\": \"SP98\", \"ac\": 0, \"rain\": 0, \"sun\": 0}, {\"distance\": 2.0, \"consume\": 6.2, \"speed\": 20, \"temp_inside\": 21.5, \"temp_outside\": 10, \"gas_type\": \"SP98\", \"ac\": 0, \"rain\": 0, \"sun\": 0}, {\"distance\": 13.9, \"consume\": 5.1, \"speed\": 29, \"temp_inside\": 21.5, \"temp_outside\": 6, \"gas_type\": \"SP98\", \"ac\": 0, \"rain\": 0, \"sun\": 0}, {\"distance\": 9.7, \"consume\": 3.9, \"speed\": 42, \"temp_inside\": 21.5, \"temp_outside\": 8, \"gas_type\": \"SP98\", \"ac\": 0, \"rain\": 0, \"sun\": 0}, {\"distance\": 11.6, \"consume\": 5.0, \"speed\": 25, \"temp_inside\": 21.5, \"temp_outside\": 6, \"gas_type\": \"SP98\", \"ac\": 0, \"rain\": 0, \"sun\": 0}, {\"distance\": 14.2, \"consume\": 5.4, \"speed\": 38, \"temp_inside\": 21.5, \"temp_outside\": 7, \"gas_type\": \"SP98\", \"ac\": 0, \"rain\": 0, \"sun\": 0}, {\"distance\": 11.8, \"consume\": 4.5, \"speed\": 39, \"temp_inside\": 21.5, \"temp_outside\": 6, \"gas_type\": \"SP98\", \"ac\": 0, \"rain\": 0, \"sun\": 0}, {\"distance\": 24.8, \"consume\": 5.1, \"speed\": 50, \"temp_inside\": 21.5, \"temp_outside\": 9, \"gas_type\": \"SP98\", \"ac\": 0, \"rain\": 0, \"sun\": 0}, {\"distance\": 12.4, \"consume\": 4.7, \"speed\": 56, \"temp_inside\": 21.5, \"temp_outside\": 7, \"gas_type\": \"SP98\", \"ac\": 0, \"rain\": 0, \"sun\": 0}, {\"distance\": 34.8, \"consume\": 4.0, \"speed\": 28, \"temp_inside\": 20.0, \"temp_outside\": 4, \"gas_type\": \"SP98\", \"ac\": 0, \"rain\": 0, \"sun\": 0}, {\"distance\": 14.2, \"consume\": 5.4, \"speed\": 36, \"temp_inside\": 20.0, \"temp_outside\": 6, \"gas_type\": \"SP98\", \"ac\": 0, \"rain\": 0, \"sun\": 0}, {\"distance\": 5.2, \"consume\": 4.5, \"speed\": 39, \"temp_inside\": 20.0, \"temp_outside\": 10, \"gas_type\": \"SP98\", \"ac\": 0, \"rain\": 0, \"sun\": 0}, {\"distance\": 10.5, \"consume\": 3.6, \"speed\": 42, \"temp_inside\": 20.0, \"temp_outside\": 10, \"gas_type\": \"SP98\", \"ac\": 0, \"rain\": 0, \"sun\": 0}, {\"distance\": 12.3, \"consume\": 5.2, \"speed\": 57, \"temp_inside\": 20.0, \"temp_outside\": 10, \"gas_type\": \"SP98\", \"ac\": 0, \"rain\": 0, \"sun\": 0}, {\"distance\": 11.8, \"consume\": 4.9, \"speed\": 25, \"temp_inside\": 20.0, \"temp_outside\": 11, \"gas_type\": \"SP98\", \"ac\": 0, \"rain\": 0, \"sun\": 0}, {\"distance\": 12.3, \"consume\": 6.2, \"speed\": 58, \"temp_inside\": 20.0, \"temp_outside\": 11, \"gas_type\": \"SP98\", \"ac\": 0, \"rain\": 1, \"sun\": 0}, {\"distance\": 13.2, \"consume\": 4.3, \"speed\": 51, \"temp_inside\": 20.0, \"temp_outside\": 11, \"gas_type\": \"SP98\", \"ac\": 0, \"rain\": 1, \"sun\": 0}, {\"distance\": 13.0, \"consume\": 5.0, \"speed\": 45, \"temp_inside\": 20.0, \"temp_outside\": 11, \"gas_type\": \"SP98\", \"ac\": 0, \"rain\": 1, \"sun\": 0}, {\"distance\": 12.9, \"consume\": 5.1, \"speed\": 32, \"temp_inside\": 20.0, \"temp_outside\": 11, \"gas_type\": \"SP98\", \"ac\": 0, \"rain\": 0, \"sun\": 0}, {\"distance\": 13.9, \"consume\": 5.6, \"speed\": 22, \"temp_inside\": 20.0, \"temp_outside\": 8, \"gas_type\": \"SP98\", \"ac\": 0, \"rain\": 0, \"sun\": 0}, {\"distance\": 11.8, \"consume\": 4.3, \"speed\": 37, \"temp_inside\": 20.0, \"temp_outside\": 6, \"gas_type\": \"SP98\", \"ac\": 0, \"rain\": 0, \"sun\": 0}, {\"distance\": 12.2, \"consume\": 5.8, \"speed\": 60, \"temp_inside\": 20.0, \"temp_outside\": 11, \"gas_type\": \"SP98\", \"ac\": 0, \"rain\": 0, \"sun\": 0}, {\"distance\": 12.5, \"consume\": 4.0, \"speed\": 51, \"temp_inside\": 20.0, \"temp_outside\": 13, \"gas_type\": \"SP98\", \"ac\": 0, \"rain\": 0, \"sun\": 0}, {\"distance\": 12.4, \"consume\": 4.7, \"speed\": 43, \"temp_inside\": null, \"temp_outside\": 10, \"gas_type\": \"SP98\", \"ac\": 0, \"rain\": 0, \"sun\": 0}, {\"distance\": 11.8, \"consume\": 5.9, \"speed\": 21, \"temp_inside\": 20.0, \"temp_outside\": 9, \"gas_type\": \"SP98\", \"ac\": 1, \"rain\": 1, \"sun\": 0}, {\"distance\": 11.8, \"consume\": 5.3, \"speed\": 52, \"temp_inside\": null, \"temp_outside\": 11, \"gas_type\": \"SP98\", \"ac\": 0, \"rain\": 0, \"sun\": 0}, {\"distance\": 12.5, \"consume\": 4.2, \"speed\": 57, \"temp_inside\": 20.0, \"temp_outside\": 11, \"gas_type\": \"SP98\", \"ac\": 0, \"rain\": 0, \"sun\": 0}, {\"distance\": 15.7, \"consume\": 5.3, \"speed\": 33, \"temp_inside\": null, \"temp_outside\": 9, \"gas_type\": \"SP98\", \"ac\": 0, \"rain\": 0, \"sun\": 0}, {\"distance\": 12.9, \"consume\": 5.7, \"speed\": 35, \"temp_inside\": null, \"temp_outside\": 9, \"gas_type\": \"SP98\", \"ac\": 0, \"rain\": 0, \"sun\": 0}, {\"distance\": 6.4, \"consume\": 4.4, \"speed\": 37, \"temp_inside\": null, \"temp_outside\": 10, \"gas_type\": \"SP98\", \"ac\": 0, \"rain\": 0, \"sun\": 0}, {\"distance\": 5.3, \"consume\": 4.1, \"speed\": 34, \"temp_inside\": null, \"temp_outside\": 9, \"gas_type\": \"SP98\", \"ac\": 0, \"rain\": 0, \"sun\": 0}, {\"distance\": 26.2, \"consume\": 5.8, \"speed\": 71, \"temp_inside\": 21.0, \"temp_outside\": 8, \"gas_type\": \"SP98\", \"ac\": 1, \"rain\": 1, \"sun\": 0}, {\"distance\": 18.8, \"consume\": 5.0, \"speed\": 62, \"temp_inside\": null, \"temp_outside\": 9, \"gas_type\": \"SP98\", \"ac\": 0, \"rain\": 1, \"sun\": 0}, {\"distance\": 4.9, \"consume\": 6.9, \"speed\": 25, \"temp_inside\": 21.0, \"temp_outside\": 12, \"gas_type\": \"SP98\", \"ac\": 0, \"rain\": 1, \"sun\": 0}, {\"distance\": 12.4, \"consume\": 5.4, \"speed\": 18, \"temp_inside\": 21.0, \"temp_outside\": 11, \"gas_type\": \"SP98\", \"ac\": 1, \"rain\": 1, \"sun\": 0}, {\"distance\": 22.9, \"consume\": 5.3, \"speed\": 45, \"temp_inside\": 20.5, \"temp_outside\": 7, \"gas_type\": \"SP98\", \"ac\": 0, \"rain\": 0, \"sun\": 0}, {\"distance\": 162.7, \"consume\": 5.5, \"speed\": 75, \"temp_inside\": 23.0, \"temp_outside\": 1, \"gas_type\": \"SP98\", \"ac\": 0, \"rain\": 0, \"sun\": 0}, {\"distance\": 4.9, \"consume\": 6.5, \"speed\": 26, \"temp_inside\": 21.0, \"temp_outside\": 1, \"gas_type\": \"SP98\", \"ac\": 0, \"rain\": 0, \"sun\": 0}, {\"distance\": 11.8, \"consume\": 4.7, \"speed\": 36, \"temp_inside\": 21.0, \"temp_outside\": 4, \"gas_type\": \"SP98\", \"ac\": 0, \"rain\": 0, \"sun\": 0}, {\"distance\": 16.6, \"consume\": 5.1, \"speed\": 56, \"temp_inside\": 21.0, \"temp_outside\": 7, \"gas_type\": \"SP98\", \"ac\": 0, \"rain\": 0, \"sun\": 0}, {\"distance\": 12.4, \"consume\": 5.7, \"speed\": 37, \"temp_inside\": 21.0, \"temp_outside\": 7, \"gas_type\": \"SP98\", \"ac\": 0, \"rain\": 0, \"sun\": 0}, {\"distance\": 15.9, \"consume\": 5.4, \"speed\": 25, \"temp_inside\": 21.0, \"temp_outside\": 7, \"gas_type\": \"SP98\", \"ac\": 0, \"rain\": 0, \"sun\": 0}, {\"distance\": 5.1, \"consume\": 8.7, \"speed\": 21, \"temp_inside\": 23.5, \"temp_outside\": 5, \"gas_type\": \"SP98\", \"ac\": 0, \"rain\": 0, \"sun\": 0}, {\"distance\": 22.4, \"consume\": 4.9, \"speed\": 66, \"temp_inside\": 20.5, \"temp_outside\": 7, \"gas_type\": \"SP98\", \"ac\": 0, \"rain\": 0, \"sun\": 0}, {\"distance\": 31.1, \"consume\": 4.7, \"speed\": 42, \"temp_inside\": 20.5, \"temp_outside\": 7, \"gas_type\": \"SP98\", \"ac\": 0, \"rain\": 0, \"sun\": 0}, {\"distance\": 4.9, \"consume\": 6.3, \"speed\": 27, \"temp_inside\": 20.5, \"temp_outside\": 3, \"gas_type\": \"SP98\", \"ac\": 0, \"rain\": 0, \"sun\": 0}, {\"distance\": 11.8, \"consume\": 5.1, \"speed\": 26, \"temp_inside\": 23.0, \"temp_outside\": 4, \"gas_type\": \"SP98\", \"ac\": 0, \"rain\": 1, \"sun\": 0}, {\"distance\": 22.9, \"consume\": 6.0, \"speed\": 42, \"temp_inside\": 23.0, \"temp_outside\": 4, \"gas_type\": \"SP98\", \"ac\": 0, \"rain\": 1, \"sun\": 0}, {\"distance\": 12.4, \"consume\": 4.6, \"speed\": 38, \"temp_inside\": 23.0, \"temp_outside\": 1, \"gas_type\": \"SP98\", \"ac\": 0, \"rain\": 1, \"sun\": 0}, {\"distance\": 12.9, \"consume\": 5.8, \"speed\": 40, \"temp_inside\": 23.0, \"temp_outside\": 4, \"gas_type\": \"SP98\", \"ac\": 0, \"rain\": 0, \"sun\": 0}, {\"distance\": 11.8, \"consume\": 5.1, \"speed\": 43, \"temp_inside\": 23.0, \"temp_outside\": 0, \"gas_type\": \"SP98\", \"ac\": 0, \"rain\": 0, \"sun\": 0}, {\"distance\": 12.2, \"consume\": 5.8, \"speed\": 58, \"temp_inside\": 23.0, \"temp_outside\": 2, \"gas_type\": \"SP98\", \"ac\": 0, \"rain\": 0, \"sun\": 0}, {\"distance\": 24.8, \"consume\": 4.6, \"speed\": 55, \"temp_inside\": 23.0, \"temp_outside\": 3, \"gas_type\": \"SP98\", \"ac\": 0, \"rain\": 0, \"sun\": 0}, {\"distance\": 14.2, \"consume\": 5.6, \"speed\": 24, \"temp_inside\": 23.0, \"temp_outside\": 8, \"gas_type\": \"SP98\", \"ac\": 0, \"rain\": 0, \"sun\": 0}, {\"distance\": 11.8, \"consume\": 4.6, \"speed\": 38, \"temp_inside\": 23.0, \"temp_outside\": 0, \"gas_type\": \"SP98\", \"ac\": 0, \"rain\": 1, \"sun\": 0}, {\"distance\": 12.2, \"consume\": 6.3, \"speed\": 57, \"temp_inside\": 23.0, \"temp_outside\": 0, \"gas_type\": \"SP98\", \"ac\": 0, \"rain\": 1, \"sun\": 0}, {\"distance\": 24.7, \"consume\": 5.5, \"speed\": 56, \"temp_inside\": 25.0, \"temp_outside\": 1, \"gas_type\": \"SP98\", \"ac\": 0, \"rain\": 0, \"sun\": 0}, {\"distance\": 6.8, \"consume\": 4.3, \"speed\": 46, \"temp_inside\": 24.0, \"temp_outside\": 2, \"gas_type\": \"SP98\", \"ac\": 0, \"rain\": 0, \"sun\": 0}, {\"distance\": 17.3, \"consume\": 5.6, \"speed\": 37, \"temp_inside\": 21.5, \"temp_outside\": 1, \"gas_type\": \"SP98\", \"ac\": 0, \"rain\": 0, \"sun\": 0}, {\"distance\": 11.8, \"consume\": 4.3, \"speed\": 44, \"temp_inside\": 21.5, \"temp_outside\": -3, \"gas_type\": \"SP98\", \"ac\": 0, \"rain\": 0, \"sun\": 0}, {\"distance\": 15.9, \"consume\": 5.7, \"speed\": 46, \"temp_inside\": 21.5, \"temp_outside\": 5, \"gas_type\": \"SP98\", \"ac\": 0, \"rain\": 0, \"sun\": 0}, {\"distance\": 5.1, \"consume\": 6.4, \"speed\": 39, \"temp_inside\": 21.5, \"temp_outside\": 4, \"gas_type\": \"SP98\", \"ac\": 0, \"rain\": 0, \"sun\": 0}, {\"distance\": 16.1, \"consume\": 4.5, \"speed\": 33, \"temp_inside\": 21.5, \"temp_outside\": 6, \"gas_type\": \"SP98\", \"ac\": 0, \"rain\": 0, \"sun\": 0}, {\"distance\": 11.8, \"consume\": 4.5, \"speed\": 43, \"temp_inside\": 21.5, \"temp_outside\": 3, \"gas_type\": \"SP98\", \"ac\": 0, \"rain\": 0, \"sun\": 0}, {\"distance\": 4.2, \"consume\": 6.0, \"speed\": 26, \"temp_inside\": 21.5, \"temp_outside\": 5, \"gas_type\": \"SP98\", \"ac\": 0, \"rain\": 0, \"sun\": 0}, {\"distance\": 17.4, \"consume\": 5.1, \"speed\": 30, \"temp_inside\": 21.5, \"temp_outside\": 5, \"gas_type\": \"SP98\", \"ac\": 0, \"rain\": 0, \"sun\": 0}, {\"distance\": 23.5, \"consume\": 6.0, \"speed\": 25, \"temp_inside\": 21.5, \"temp_outside\": 5, \"gas_type\": \"SP98\", \"ac\": 0, \"rain\": 1, \"sun\": 0}, {\"distance\": 11.8, \"consume\": 4.5, \"speed\": 38, \"temp_inside\": 21.5, \"temp_outside\": 5, \"gas_type\": \"SP98\", \"ac\": 0, \"rain\": 1, \"sun\": 0}, {\"distance\": 12.3, \"consume\": 6.1, \"speed\": 61, \"temp_inside\": 21.5, \"temp_outside\": 10, \"gas_type\": \"SP98\", \"ac\": 0, \"rain\": 1, \"sun\": 0}, {\"distance\": 16.1, \"consume\": 5.4, \"speed\": 24, \"temp_inside\": 21.5, \"temp_outside\": 7, \"gas_type\": \"E10\", \"ac\": 0, \"rain\": 1, \"sun\": 0}, {\"distance\": 11.8, \"consume\": 4.3, \"speed\": 40, \"temp_inside\": 21.5, \"temp_outside\": 10, \"gas_type\": \"E10\", \"ac\": 0, \"rain\": 1, \"sun\": 0}, {\"distance\": 12.3, \"consume\": 5.4, \"speed\": 58, \"temp_inside\": 21.5, \"temp_outside\": 13, \"gas_type\": \"E10\", \"ac\": 0, \"rain\": 0, \"sun\": 0}, {\"distance\": 12.4, \"consume\": 4.3, \"speed\": 49, \"temp_inside\": 21.5, \"temp_outside\": 17, \"gas_type\": \"E10\", \"ac\": 0, \"rain\": 0, \"sun\": 0}, {\"distance\": 7.0, \"consume\": 5.2, \"speed\": 25, \"temp_inside\": 21.5, \"temp_outside\": 17, \"gas_type\": \"E10\", \"ac\": 0, \"rain\": 0, \"sun\": 0}, {\"distance\": 11.8, \"consume\": 4.1, \"speed\": 37, \"temp_inside\": 21.5, \"temp_outside\": 10, \"gas_type\": \"E10\", \"ac\": 0, \"rain\": 0, \"sun\": 0}, {\"distance\": 20.1, \"consume\": 4.4, \"speed\": 41, \"temp_inside\": 21.5, \"temp_outside\": 18, \"gas_type\": \"E10\", \"ac\": 0, \"rain\": 0, \"sun\": 0}, {\"distance\": 20.8, \"consume\": 4.5, \"speed\": 45, \"temp_inside\": 21.5, \"temp_outside\": 10, \"gas_type\": \"E10\", \"ac\": 0, \"rain\": 0, \"sun\": 0}, {\"distance\": 1.7, \"consume\": 10.8, \"speed\": 14, \"temp_inside\": 21.5, \"temp_outside\": 10, \"gas_type\": \"E10\", \"ac\": 0, \"rain\": 1, \"sun\": 0}, {\"distance\": 35.9, \"consume\": 4.7, \"speed\": 45, \"temp_inside\": 21.5, \"temp_outside\": 12, \"gas_type\": \"E10\", \"ac\": 0, \"rain\": 0, \"sun\": 0}, {\"distance\": 36.9, \"consume\": 4.8, \"speed\": 52, \"temp_inside\": 21.5, \"temp_outside\": 5, \"gas_type\": \"E10\", \"ac\": 0, \"rain\": 0, \"sun\": 0}, {\"distance\": 16.8, \"consume\": 4.0, \"speed\": 46, \"temp_inside\": 21.5, \"temp_outside\": 8, \"gas_type\": \"E10\", \"ac\": 0, \"rain\": 0, \"sun\": 0}, {\"distance\": 9.9, \"consume\": 5.0, \"speed\": 28, \"temp_inside\": 21.5, \"temp_outside\": 9, \"gas_type\": \"E10\", \"ac\": 0, \"rain\": 0, \"sun\": 0}, {\"distance\": 22.9, \"consume\": 4.6, \"speed\": 61, \"temp_inside\": 21.5, \"temp_outside\": 7, \"gas_type\": \"E10\", \"ac\": 0, \"rain\": 1, \"sun\": 0}, {\"distance\": 17.3, \"consume\": 5.0, \"speed\": 61, \"temp_inside\": 21.5, \"temp_outside\": 6, \"gas_type\": \"E10\", \"ac\": 1, \"rain\": 1, \"sun\": 0}, {\"distance\": 11.8, \"consume\": 4.3, \"speed\": 37, \"temp_inside\": 21.5, \"temp_outside\": 7, \"gas_type\": \"E10\", \"ac\": 0, \"rain\": 0, \"sun\": 0}, {\"distance\": 36.6, \"consume\": 5.2, \"speed\": 80, \"temp_inside\": 21.5, \"temp_outside\": 7, \"gas_type\": \"E10\", \"ac\": 0, \"rain\": 1, \"sun\": 0}, {\"distance\": 44.9, \"consume\": 4.7, \"speed\": 62, \"temp_inside\": 21.5, \"temp_outside\": 8, \"gas_type\": \"E10\", \"ac\": 0, \"rain\": 0, \"sun\": 0}, {\"distance\": 11.8, \"consume\": 4.2, \"speed\": 34, \"temp_inside\": 21.5, \"temp_outside\": 9, \"gas_type\": \"E10\", \"ac\": 0, \"rain\": 1, \"sun\": 0}, {\"distance\": 21.6, \"consume\": 5.3, \"speed\": 44, \"temp_inside\": 21.5, \"temp_outside\": 9, \"gas_type\": \"E10\", \"ac\": 0, \"rain\": 1, \"sun\": 0}, {\"distance\": 39.4, \"consume\": 5.3, \"speed\": 60, \"temp_inside\": 21.5, \"temp_outside\": 9, \"gas_type\": \"E10\", \"ac\": 0, \"rain\": 1, \"sun\": 0}, {\"distance\": 5.1, \"consume\": 8.1, \"speed\": 39, \"temp_inside\": 21.5, \"temp_outside\": 4, \"gas_type\": \"E10\", \"ac\": 0, \"rain\": 0, \"sun\": 0}, {\"distance\": 26.6, \"consume\": 4.8, \"speed\": 38, \"temp_inside\": 21.5, \"temp_outside\": 7, \"gas_type\": \"E10\", \"ac\": 0, \"rain\": 0, \"sun\": 0}, {\"distance\": 53.2, \"consume\": 5.1, \"speed\": 71, \"temp_inside\": 21.5, \"temp_outside\": 2, \"gas_type\": \"E10\", \"ac\": 0, \"rain\": 0, \"sun\": 0}, {\"distance\": 18.9, \"consume\": 4.4, \"speed\": 53, \"temp_inside\": 21.5, \"temp_outside\": 2, \"gas_type\": \"E10\", \"ac\": 0, \"rain\": 0, \"sun\": 0}, {\"distance\": 43.5, \"consume\": 5.0, \"speed\": 80, \"temp_inside\": 21.5, \"temp_outside\": 3, \"gas_type\": \"E10\", \"ac\": 0, \"rain\": 0, \"sun\": 0}, {\"distance\": 6.1, \"consume\": 6.3, \"speed\": 26, \"temp_inside\": 21.5, \"temp_outside\": 5, \"gas_type\": \"E10\", \"ac\": 0, \"rain\": 0, \"sun\": 0}, {\"distance\": 16.4, \"consume\": 4.8, \"speed\": 49, \"temp_inside\": 21.5, \"temp_outside\": 5, \"gas_type\": \"E10\", \"ac\": 0, \"rain\": 0, \"sun\": 0}, {\"distance\": 12.3, \"consume\": 6.1, \"speed\": 40, \"temp_inside\": 21.5, \"temp_outside\": 6, \"gas_type\": \"E10\", \"ac\": 0, \"rain\": 0, \"sun\": 0}, {\"distance\": 21.1, \"consume\": 4.6, \"speed\": 36, \"temp_inside\": 21.5, \"temp_outside\": 8, \"gas_type\": \"E10\", \"ac\": 0, \"rain\": 0, \"sun\": 0}, {\"distance\": 21.1, \"consume\": 4.8, \"speed\": 43, \"temp_inside\": 21.5, \"temp_outside\": 7, \"gas_type\": \"E10\", \"ac\": 0, \"rain\": 0, \"sun\": 0}, {\"distance\": 22.7, \"consume\": 4.7, \"speed\": 55, \"temp_inside\": 21.5, \"temp_outside\": 6, \"gas_type\": \"E10\", \"ac\": 0, \"rain\": 0, \"sun\": 0}, {\"distance\": 44.4, \"consume\": 4.8, \"speed\": 38, \"temp_inside\": 21.5, \"temp_outside\": 8, \"gas_type\": \"E10\", \"ac\": 0, \"rain\": 0, \"sun\": 0}, {\"distance\": 35.8, \"consume\": 4.4, \"speed\": 51, \"temp_inside\": 21.5, \"temp_outside\": 6, \"gas_type\": \"E10\", \"ac\": 0, \"rain\": 0, \"sun\": 0}, {\"distance\": 11.8, \"consume\": 4.9, \"speed\": 44, \"temp_inside\": 21.5, \"temp_outside\": 0, \"gas_type\": \"E10\", \"ac\": 0, \"rain\": 0, \"sun\": 0}, {\"distance\": 26.2, \"consume\": 4.9, \"speed\": 42, \"temp_inside\": 21.5, \"temp_outside\": 6, \"gas_type\": \"E10\", \"ac\": 0, \"rain\": 0, \"sun\": 0}, {\"distance\": 40.6, \"consume\": 4.4, \"speed\": 44, \"temp_inside\": 21.0, \"temp_outside\": 3, \"gas_type\": \"E10\", \"ac\": 0, \"rain\": 0, \"sun\": 0}, {\"distance\": 12.4, \"consume\": 5.3, \"speed\": 38, \"temp_inside\": 21.0, \"temp_outside\": -5, \"gas_type\": \"E10\", \"ac\": 0, \"rain\": 0, \"sun\": 0}, {\"distance\": 14.1, \"consume\": 5.3, \"speed\": 47, \"temp_inside\": 21.0, \"temp_outside\": -3, \"gas_type\": \"E10\", \"ac\": 0, \"rain\": 0, \"sun\": 0}, {\"distance\": 58.7, \"consume\": 4.8, \"speed\": 75, \"temp_inside\": 21.0, \"temp_outside\": 0, \"gas_type\": \"E10\", \"ac\": 0, \"rain\": 0, \"sun\": 0}, {\"distance\": 16.2, \"consume\": 5.2, \"speed\": 29, \"temp_inside\": 21.0, \"temp_outside\": 0, \"gas_type\": \"E10\", \"ac\": 0, \"rain\": 0, \"sun\": 0}, {\"distance\": 12.3, \"consume\": 4.9, \"speed\": 50, \"temp_inside\": 22.5, \"temp_outside\": 0, \"gas_type\": \"E10\", \"ac\": 0, \"rain\": 0, \"sun\": 0}, {\"distance\": 12.3, \"consume\": 7.1, \"speed\": 52, \"temp_inside\": 22.5, \"temp_outside\": 0, \"gas_type\": \"E10\", \"ac\": 1, \"rain\": 1, \"sun\": 0}, {\"distance\": 12.4, \"consume\": 5.2, \"speed\": 51, \"temp_inside\": 22.5, \"temp_outside\": 1, \"gas_type\": \"E10\", \"ac\": 0, \"rain\": 0, \"sun\": 0}, {\"distance\": 31.8, \"consume\": 4.7, \"speed\": 59, \"temp_inside\": 22.5, \"temp_outside\": 3, \"gas_type\": \"E10\", \"ac\": 0, \"rain\": 0, \"sun\": 0}, {\"distance\": 12.3, \"consume\": 5.1, \"speed\": 55, \"temp_inside\": 22.5, \"temp_outside\": 8, \"gas_type\": \"E10\", \"ac\": 0, \"rain\": 0, \"sun\": 0}, {\"distance\": 51.6, \"consume\": 5.0, \"speed\": 73, \"temp_inside\": 22.5, \"temp_outside\": 12, \"gas_type\": \"E10\", \"ac\": 0, \"rain\": 0, \"sun\": 0}, {\"distance\": 38.6, \"consume\": 4.6, \"speed\": 44, \"temp_inside\": 22.5, \"temp_outside\": 10, \"gas_type\": \"E10\", \"ac\": 0, \"rain\": 0, \"sun\": 0}, {\"distance\": 12.3, \"consume\": 4.8, \"speed\": 41, \"temp_inside\": 22.5, \"temp_outside\": 7, \"gas_type\": \"E10\", \"ac\": 0, \"rain\": 0, \"sun\": 0}, {\"distance\": 81.2, \"consume\": 4.4, \"speed\": 69, \"temp_inside\": 22.0, \"temp_outside\": 13, \"gas_type\": \"E10\", \"ac\": 0, \"rain\": 0, \"sun\": 0}, {\"distance\": 130.3, \"consume\": 4.6, \"speed\": 85, \"temp_inside\": 22.0, \"temp_outside\": 12, \"gas_type\": \"E10\", \"ac\": 0, \"rain\": 0, \"sun\": 0}, {\"distance\": 67.2, \"consume\": 4.3, \"speed\": 67, \"temp_inside\": 22.0, \"temp_outside\": 18, \"gas_type\": \"E10\", \"ac\": 0, \"rain\": 0, \"sun\": 0}, {\"distance\": 43.7, \"consume\": 4.7, \"speed\": 44, \"temp_inside\": 22.0, \"temp_outside\": 9, \"gas_type\": \"SP98\", \"ac\": 0, \"rain\": 1, \"sun\": 0}, {\"distance\": 12.1, \"consume\": 4.2, \"speed\": 43, \"temp_inside\": 22.0, \"temp_outside\": 4, \"gas_type\": \"SP98\", \"ac\": 0, \"rain\": 0, \"sun\": 0}, {\"distance\": 56.1, \"consume\": 4.8, \"speed\": 82, \"temp_inside\": 22.0, \"temp_outside\": 13, \"gas_type\": \"SP98\", \"ac\": 0, \"rain\": 0, \"sun\": 0}, {\"distance\": 39.0, \"consume\": 4.1, \"speed\": 61, \"temp_inside\": 22.0, \"temp_outside\": 16, \"gas_type\": \"SP98\", \"ac\": 0, \"rain\": 0, \"sun\": 0}, {\"distance\": 11.8, \"consume\": 4.5, \"speed\": 41, \"temp_inside\": 21.5, \"temp_outside\": 13, \"gas_type\": \"SP98\", \"ac\": 0, \"rain\": 0, \"sun\": 0}, {\"distance\": 38.5, \"consume\": 4.8, \"speed\": 63, \"temp_inside\": 21.5, \"temp_outside\": 14, \"gas_type\": \"SP98\", \"ac\": 0, \"rain\": 0, \"sun\": 0}, {\"distance\": 28.2, \"consume\": 4.6, \"speed\": 54, \"temp_inside\": 21.5, \"temp_outside\": 14, \"gas_type\": \"SP98\", \"ac\": 0, \"rain\": 0, \"sun\": 0}, {\"distance\": 2.9, \"consume\": 7.4, \"speed\": 24, \"temp_inside\": 21.5, \"temp_outside\": 14, \"gas_type\": \"SP98\", \"ac\": 0, \"rain\": 0, \"sun\": 0}, {\"distance\": 6.1, \"consume\": 5.6, \"speed\": 24, \"temp_inside\": 21.5, \"temp_outside\": 13, \"gas_type\": \"SP98\", \"ac\": 0, \"rain\": 0, \"sun\": 0}, {\"distance\": 19.6, \"consume\": 4.9, \"speed\": 43, \"temp_inside\": 21.5, \"temp_outside\": 13, \"gas_type\": \"SP98\", \"ac\": 0, \"rain\": 0, \"sun\": 0}, {\"distance\": 22.2, \"consume\": 3.8, \"speed\": 42, \"temp_inside\": null, \"temp_outside\": 15, \"gas_type\": \"SP98\", \"ac\": 0, \"rain\": 0, \"sun\": 0}, {\"distance\": 13.6, \"consume\": 4.5, \"speed\": 44, \"temp_inside\": 19.0, \"temp_outside\": 18, \"gas_type\": \"SP98\", \"ac\": 0, \"rain\": 0, \"sun\": 0}, {\"distance\": 12.6, \"consume\": 4.1, \"speed\": 33, \"temp_inside\": null, \"temp_outside\": 17, \"gas_type\": \"SP98\", \"ac\": 0, \"rain\": 0, \"sun\": 0}, {\"distance\": 8.7, \"consume\": 5.3, \"speed\": 28, \"temp_inside\": 22.5, \"temp_outside\": 12, \"gas_type\": \"SP98\", \"ac\": 1, \"rain\": 1, \"sun\": 0}, {\"distance\": 7.9, \"consume\": 4.7, \"speed\": 31, \"temp_inside\": 22.5, \"temp_outside\": 12, \"gas_type\": \"SP98\", \"ac\": 1, \"rain\": 0, \"sun\": 0}, {\"distance\": 2.4, \"consume\": 9.0, \"speed\": 26, \"temp_inside\": 20.0, \"temp_outside\": 10, \"gas_type\": \"SP98\", \"ac\": 0, \"rain\": 0, \"sun\": 0}, {\"distance\": 4.9, \"consume\": 6.3, \"speed\": 26, \"temp_inside\": 20.0, \"temp_outside\": 10, \"gas_type\": \"SP98\", \"ac\": 0, \"rain\": 0, \"sun\": 0}, {\"distance\": 18.1, \"consume\": 3.6, \"speed\": 36, \"temp_inside\": 20.0, \"temp_outside\": 19, \"gas_type\": \"SP98\", \"ac\": 0, \"rain\": 0, \"sun\": 0}, {\"distance\": 25.9, \"consume\": 3.7, \"speed\": 39, \"temp_inside\": 20.0, \"temp_outside\": 21, \"gas_type\": \"SP98\", \"ac\": 0, \"rain\": 0, \"sun\": 0}, {\"distance\": 1.3, \"consume\": 11.5, \"speed\": 21, \"temp_inside\": 20.0, \"temp_outside\": 10, \"gas_type\": \"SP98\", \"ac\": 0, \"rain\": 0, \"sun\": 0}, {\"distance\": 14.1, \"consume\": 5.0, \"speed\": 22, \"temp_inside\": 20.0, \"temp_outside\": 12, \"gas_type\": \"SP98\", \"ac\": 0, \"rain\": 0, \"sun\": 0}, {\"distance\": 13.4, \"consume\": 5.5, \"speed\": 31, \"temp_inside\": 20.0, \"temp_outside\": 9, \"gas_type\": \"SP98\", \"ac\": 0, \"rain\": 0, \"sun\": 0}, {\"distance\": 6.4, \"consume\": 4.7, \"speed\": 33, \"temp_inside\": 20.0, \"temp_outside\": 8, \"gas_type\": \"SP98\", \"ac\": 0, \"rain\": 0, \"sun\": 0}, {\"distance\": 12.9, \"consume\": 4.5, \"speed\": 42, \"temp_inside\": 20.0, \"temp_outside\": 13, \"gas_type\": \"SP98\", \"ac\": 0, \"rain\": 0, \"sun\": 0}, {\"distance\": 12.1, \"consume\": 4.4, \"speed\": 33, \"temp_inside\": 22.5, \"temp_outside\": 5, \"gas_type\": \"SP98\", \"ac\": 0, \"rain\": 0, \"sun\": 0}, {\"distance\": 15.7, \"consume\": 4.1, \"speed\": 32, \"temp_inside\": 22.5, \"temp_outside\": 13, \"gas_type\": \"SP98\", \"ac\": 0, \"rain\": 0, \"sun\": 0}, {\"distance\": 16.2, \"consume\": 4.4, \"speed\": 26, \"temp_inside\": 22.5, \"temp_outside\": 11, \"gas_type\": \"SP98\", \"ac\": 0, \"rain\": 0, \"sun\": 0}, {\"distance\": 12.8, \"consume\": 4.6, \"speed\": 22, \"temp_inside\": 22.5, \"temp_outside\": 12, \"gas_type\": \"SP98\", \"ac\": 0, \"rain\": 0, \"sun\": 0}, {\"distance\": 19.0, \"consume\": 4.4, \"speed\": 58, \"temp_inside\": 22.5, \"temp_outside\": 17, \"gas_type\": \"SP98\", \"ac\": 0, \"rain\": 0, \"sun\": 1}, {\"distance\": 29.0, \"consume\": 4.0, \"speed\": 27, \"temp_inside\": 22.5, \"temp_outside\": 12, \"gas_type\": \"SP98\", \"ac\": 0, \"rain\": 0, \"sun\": 0}, {\"distance\": 12.1, \"consume\": 5.0, \"speed\": 32, \"temp_inside\": 22.5, \"temp_outside\": 9, \"gas_type\": \"SP98\", \"ac\": 0, \"rain\": 0, \"sun\": 0}, {\"distance\": 12.3, \"consume\": 5.2, \"speed\": 55, \"temp_inside\": 22.5, \"temp_outside\": 10, \"gas_type\": \"SP98\", \"ac\": 0, \"rain\": 0, \"sun\": 0}, {\"distance\": 24.8, \"consume\": 4.0, \"speed\": 56, \"temp_inside\": 22.5, \"temp_outside\": 11, \"gas_type\": \"SP98\", \"ac\": 0, \"rain\": 0, \"sun\": 0}, {\"distance\": 12.9, \"consume\": 5.1, \"speed\": 34, \"temp_inside\": 22.5, \"temp_outside\": 8, \"gas_type\": \"SP98\", \"ac\": 0, \"rain\": 1, \"sun\": 0}, {\"distance\": 11.8, \"consume\": 4.5, \"speed\": 39, \"temp_inside\": 22.5, \"temp_outside\": 3, \"gas_type\": \"SP98\", \"ac\": 0, \"rain\": 0, \"sun\": 0}, {\"distance\": 31.4, \"consume\": 4.6, \"speed\": 62, \"temp_inside\": 22.5, \"temp_outside\": 11, \"gas_type\": \"SP98\", \"ac\": 0, \"rain\": 0, \"sun\": 0}, {\"distance\": 19.0, \"consume\": 5.1, \"speed\": 53, \"temp_inside\": 22.5, \"temp_outside\": 4, \"gas_type\": \"SP98\", \"ac\": 0, \"rain\": 1, \"sun\": 0}, {\"distance\": 13.0, \"consume\": 5.7, \"speed\": 38, \"temp_inside\": 22.5, \"temp_outside\": 3, \"gas_type\": \"SP98\", \"ac\": 1, \"rain\": 1, \"sun\": 0}, {\"distance\": 11.8, \"consume\": 4.8, \"speed\": 42, \"temp_inside\": 22.5, \"temp_outside\": 2, \"gas_type\": \"SP98\", \"ac\": 0, \"rain\": 0, \"sun\": 0}, {\"distance\": 13.0, \"consume\": 6.2, \"speed\": 32, \"temp_inside\": 22.5, \"temp_outside\": 4, \"gas_type\": \"SP98\", \"ac\": 0, \"rain\": 0, \"sun\": 0}, {\"distance\": 11.8, \"consume\": 5.0, \"speed\": 43, \"temp_inside\": 22.5, \"temp_outside\": 1, \"gas_type\": \"SP98\", \"ac\": 0, \"rain\": 0, \"sun\": 0}, {\"distance\": 27.1, \"consume\": 5.0, \"speed\": 69, \"temp_inside\": 22.5, \"temp_outside\": 8, \"gas_type\": \"SP98\", \"ac\": 0, \"rain\": 0, \"sun\": 0}, {\"distance\": 5.2, \"consume\": 4.6, \"speed\": 38, \"temp_inside\": 22.5, \"temp_outside\": 8, \"gas_type\": \"SP98\", \"ac\": 0, \"rain\": 0, \"sun\": 0}, {\"distance\": 19.0, \"consume\": 4.5, \"speed\": 29, \"temp_inside\": 22.5, \"temp_outside\": 10, \"gas_type\": \"E10\", \"ac\": 0, \"rain\": 0, \"sun\": 0}, {\"distance\": 12.4, \"consume\": 4.8, \"speed\": 38, \"temp_inside\": 22.5, \"temp_outside\": 1, \"gas_type\": \"E10\", \"ac\": 0, \"rain\": 0, \"sun\": 0}, {\"distance\": 25.2, \"consume\": 5.0, \"speed\": 55, \"temp_inside\": 22.5, \"temp_outside\": 9, \"gas_type\": \"E10\", \"ac\": 0, \"rain\": 0, \"sun\": 0}, {\"distance\": 14.3, \"consume\": 4.8, \"speed\": 36, \"temp_inside\": 22.5, \"temp_outside\": 10, \"gas_type\": \"E10\", \"ac\": 0, \"rain\": 0, \"sun\": 0}, {\"distance\": 11.8, \"consume\": 4.6, \"speed\": 40, \"temp_inside\": 22.5, \"temp_outside\": 2, \"gas_type\": \"E10\", \"ac\": 0, \"rain\": 0, \"sun\": 0}, {\"distance\": 16.9, \"consume\": 4.5, \"speed\": 48, \"temp_inside\": 22.5, \"temp_outside\": 9, \"gas_type\": \"E10\", \"ac\": 0, \"rain\": 0, \"sun\": 1}, {\"distance\": 12.4, \"consume\": 4.6, \"speed\": 55, \"temp_inside\": 22.5, \"temp_outside\": 11, \"gas_type\": \"E10\", \"ac\": 0, \"rain\": 0, \"sun\": 1}, {\"distance\": 17.4, \"consume\": 4.4, \"speed\": 36, \"temp_inside\": 22.5, \"temp_outside\": 12, \"gas_type\": \"E10\", \"ac\": 0, \"rain\": 0, \"sun\": 1}, {\"distance\": 9.2, \"consume\": 5.7, \"speed\": 33, \"temp_inside\": 22.5, \"temp_outside\": 8, \"gas_type\": \"E10\", \"ac\": 0, \"rain\": 1, \"sun\": 0}, {\"distance\": 12.3, \"consume\": 5.8, \"speed\": 54, \"temp_inside\": 22.5, \"temp_outside\": 10, \"gas_type\": \"E10\", \"ac\": 0, \"rain\": 1, \"sun\": 0}, {\"distance\": 13.0, \"consume\": 5.9, \"speed\": 32, \"temp_inside\": 22.5, \"temp_outside\": 10, \"gas_type\": \"E10\", \"ac\": 0, \"rain\": 0, \"sun\": 0}, {\"distance\": 11.8, \"consume\": 6.1, \"speed\": 16, \"temp_inside\": 22.5, \"temp_outside\": 6, \"gas_type\": \"E10\", \"ac\": 0, \"rain\": 1, \"sun\": 0}, {\"distance\": 13.0, \"consume\": 5.7, \"speed\": 37, \"temp_inside\": 22.5, \"temp_outside\": 11, \"gas_type\": \"E10\", \"ac\": 0, \"rain\": 1, \"sun\": 0}, {\"distance\": 12.3, \"consume\": 5.0, \"speed\": 42, \"temp_inside\": 22.5, \"temp_outside\": 10, \"gas_type\": \"E10\", \"ac\": 0, \"rain\": 0, \"sun\": 0}, {\"distance\": 12.3, \"consume\": 5.2, \"speed\": 57, \"temp_inside\": 22.5, \"temp_outside\": 15, \"gas_type\": \"E10\", \"ac\": 0, \"rain\": 0, \"sun\": 1}, {\"distance\": 12.5, \"consume\": 4.3, \"speed\": 57, \"temp_inside\": 22.5, \"temp_outside\": 16, \"gas_type\": \"E10\", \"ac\": 0, \"rain\": 0, \"sun\": 1}, {\"distance\": 31.5, \"consume\": 4.1, \"speed\": 30, \"temp_inside\": 22.5, \"temp_outside\": 16, \"gas_type\": \"E10\", \"ac\": 0, \"rain\": 0, \"sun\": 1}, {\"distance\": 11.8, \"consume\": 4.4, \"speed\": 42, \"temp_inside\": 22.5, \"temp_outside\": 8, \"gas_type\": \"E10\", \"ac\": 0, \"rain\": 0, \"sun\": 0}, {\"distance\": 24.9, \"consume\": 4.5, \"speed\": 53, \"temp_inside\": 22.5, \"temp_outside\": 14, \"gas_type\": \"E10\", \"ac\": 0, \"rain\": 0, \"sun\": 0}, {\"distance\": 17.0, \"consume\": 3.9, \"speed\": 46, \"temp_inside\": 22.5, \"temp_outside\": 14, \"gas_type\": \"E10\", \"ac\": 0, \"rain\": 0, \"sun\": 1}, {\"distance\": 2.0, \"consume\": 8.1, \"speed\": 20, \"temp_inside\": 22.5, \"temp_outside\": 14, \"gas_type\": \"E10\", \"ac\": 0, \"rain\": 0, \"sun\": 0}, {\"distance\": 11.8, \"consume\": 4.4, \"speed\": 33, \"temp_inside\": 22.5, \"temp_outside\": 8, \"gas_type\": \"E10\", \"ac\": 0, \"rain\": 0, \"sun\": 0}, {\"distance\": 7.4, \"consume\": 5.0, \"speed\": 31, \"temp_inside\": 22.5, \"temp_outside\": 12, \"gas_type\": \"E10\", \"ac\": 0, \"rain\": 0, \"sun\": 0}, {\"distance\": 12.4, \"consume\": 4.7, \"speed\": 55, \"temp_inside\": 22.5, \"temp_outside\": 14, \"gas_type\": \"E10\", \"ac\": 0, \"rain\": 0, \"sun\": 1}, {\"distance\": 2.0, \"consume\": 6.0, \"speed\": 22, \"temp_inside\": 22.5, \"temp_outside\": 14, \"gas_type\": \"E10\", \"ac\": 0, \"rain\": 0, \"sun\": 0}, {\"distance\": 14.0, \"consume\": 5.0, \"speed\": 41, \"temp_inside\": 22.5, \"temp_outside\": 8, \"gas_type\": \"E10\", \"ac\": 0, \"rain\": 0, \"sun\": 0}, {\"distance\": 25.7, \"consume\": 5.0, \"speed\": 45, \"temp_inside\": 22.5, \"temp_outside\": 7, \"gas_type\": \"E10\", \"ac\": 0, \"rain\": 0, \"sun\": 0}, {\"distance\": 24.5, \"consume\": 3.9, \"speed\": 50, \"temp_inside\": null, \"temp_outside\": 15, \"gas_type\": \"E10\", \"ac\": 0, \"rain\": 0, \"sun\": 1}, {\"distance\": 11.8, \"consume\": 4.5, \"speed\": 28, \"temp_inside\": 22.5, \"temp_outside\": 12, \"gas_type\": \"E10\", \"ac\": 0, \"rain\": 0, \"sun\": 0}, {\"distance\": 4.1, \"consume\": 5.4, \"speed\": 24, \"temp_inside\": 22.5, \"temp_outside\": 13, \"gas_type\": \"E10\", \"ac\": 0, \"rain\": 0, \"sun\": 0}, {\"distance\": 4.2, \"consume\": 5.6, \"speed\": 29, \"temp_inside\": 22.0, \"temp_outside\": 17, \"gas_type\": \"E10\", \"ac\": 0, \"rain\": 0, \"sun\": 0}, {\"distance\": 4.2, \"consume\": 3.9, \"speed\": 29, \"temp_inside\": 22.0, \"temp_outside\": 18, \"gas_type\": \"E10\", \"ac\": 0, \"rain\": 0, \"sun\": 1}, {\"distance\": 16.0, \"consume\": 4.0, \"speed\": 40, \"temp_inside\": 22.0, \"temp_outside\": 10, \"gas_type\": \"E10\", \"ac\": 0, \"rain\": 0, \"sun\": 0}, {\"distance\": 22.9, \"consume\": 4.0, \"speed\": 29, \"temp_inside\": null, \"temp_outside\": 21, \"gas_type\": \"E10\", \"ac\": 0, \"rain\": 0, \"sun\": 0}, {\"distance\": 16.0, \"consume\": 3.8, \"speed\": 42, \"temp_inside\": null, \"temp_outside\": 8, \"gas_type\": \"E10\", \"ac\": 0, \"rain\": 0, \"sun\": 0}, {\"distance\": 15.4, \"consume\": 4.5, \"speed\": 50, \"temp_inside\": 22.0, \"temp_outside\": 14, \"gas_type\": \"E10\", \"ac\": 0, \"rain\": 0, \"sun\": 0}, {\"distance\": 16.0, \"consume\": 3.8, \"speed\": 41, \"temp_inside\": 22.0, \"temp_outside\": 12, \"gas_type\": \"E10\", \"ac\": 0, \"rain\": 0, \"sun\": 0}, {\"distance\": 4.2, \"consume\": 5.6, \"speed\": 32, \"temp_inside\": 22.0, \"temp_outside\": 18, \"gas_type\": \"E10\", \"ac\": 0, \"rain\": 0, \"sun\": 0}, {\"distance\": 101.9, \"consume\": 5.2, \"speed\": 75, \"temp_inside\": 22.0, \"temp_outside\": 18, \"gas_type\": \"E10\", \"ac\": 0, \"rain\": 0, \"sun\": 0}, {\"distance\": 93.9, \"consume\": 4.8, \"speed\": 88, \"temp_inside\": 23.0, \"temp_outside\": 18, \"gas_type\": \"E10\", \"ac\": 1, \"rain\": 0, \"sun\": 1}, {\"distance\": 25.7, \"consume\": 4.9, \"speed\": 50, \"temp_inside\": 22.0, \"temp_outside\": 10, \"gas_type\": \"SP98\", \"ac\": 0, \"rain\": 1, \"sun\": 0}, {\"distance\": 16.0, \"consume\": 4.1, \"speed\": 40, \"temp_inside\": 22.0, \"temp_outside\": 10, \"gas_type\": \"SP98\", \"ac\": 0, \"rain\": 0, \"sun\": 0}, {\"distance\": 16.1, \"consume\": 4.5, \"speed\": 32, \"temp_inside\": 22.0, \"temp_outside\": 19, \"gas_type\": \"SP98\", \"ac\": 0, \"rain\": 0, \"sun\": 0}, {\"distance\": 16.0, \"consume\": 4.4, \"speed\": 40, \"temp_inside\": 22.0, \"temp_outside\": 7, \"gas_type\": \"SP98\", \"ac\": 1, \"rain\": 1, \"sun\": 0}, {\"distance\": 16.0, \"consume\": 4.5, \"speed\": 41, \"temp_inside\": 22.0, \"temp_outside\": 11, \"gas_type\": \"SP98\", \"ac\": 0, \"rain\": 0, \"sun\": 0}, {\"distance\": 24.7, \"consume\": 4.5, \"speed\": 26, \"temp_inside\": 22.0, \"temp_outside\": 10, \"gas_type\": \"SP98\", \"ac\": 0, \"rain\": 0, \"sun\": 0}, {\"distance\": 16.0, \"consume\": 3.9, \"speed\": 42, \"temp_inside\": 22.0, \"temp_outside\": 8, \"gas_type\": \"SP98\", \"ac\": 0, \"rain\": 0, \"sun\": 0}, {\"distance\": 15.4, \"consume\": 4.6, \"speed\": 43, \"temp_inside\": 22.0, \"temp_outside\": 16, \"gas_type\": \"SP98\", \"ac\": 0, \"rain\": 0, \"sun\": 0}, {\"distance\": 16.0, \"consume\": 3.8, \"speed\": 40, \"temp_inside\": 22.0, \"temp_outside\": 8, \"gas_type\": \"SP98\", \"ac\": 0, \"rain\": 0, \"sun\": 0}, {\"distance\": 32.1, \"consume\": 4.5, \"speed\": 50, \"temp_inside\": 22.0, \"temp_outside\": 16, \"gas_type\": \"SP98\", \"ac\": 0, \"rain\": 0, \"sun\": 0}, {\"distance\": 25.9, \"consume\": 4.4, \"speed\": 40, \"temp_inside\": 22.0, \"temp_outside\": 14, \"gas_type\": \"SP98\", \"ac\": 0, \"rain\": 0, \"sun\": 0}, {\"distance\": 48.6, \"consume\": 4.3, \"speed\": 44, \"temp_inside\": 22.0, \"temp_outside\": 12, \"gas_type\": \"SP98\", \"ac\": 0, \"rain\": 0, \"sun\": 0}, {\"distance\": 37.2, \"consume\": 4.0, \"speed\": 45, \"temp_inside\": 22.0, \"temp_outside\": 20, \"gas_type\": \"SP98\", \"ac\": 0, \"rain\": 0, \"sun\": 1}, {\"distance\": 28.8, \"consume\": 3.9, \"speed\": 35, \"temp_inside\": 22.0, \"temp_outside\": 15, \"gas_type\": \"SP98\", \"ac\": 0, \"rain\": 0, \"sun\": 1}, {\"distance\": 6.7, \"consume\": 5.0, \"speed\": 30, \"temp_inside\": 22.0, \"temp_outside\": 17, \"gas_type\": \"SP98\", \"ac\": 0, \"rain\": 0, \"sun\": 0}, {\"distance\": 7.4, \"consume\": 4.1, \"speed\": 25, \"temp_inside\": 22.0, \"temp_outside\": 18, \"gas_type\": \"SP98\", \"ac\": 0, \"rain\": 0, \"sun\": 1}, {\"distance\": 17.3, \"consume\": 4.1, \"speed\": 22, \"temp_inside\": 22.0, \"temp_outside\": 25, \"gas_type\": \"SP98\", \"ac\": 0, \"rain\": 0, \"sun\": 1}, {\"distance\": 6.6, \"consume\": 5.6, \"speed\": 43, \"temp_inside\": 22.0, \"temp_outside\": 16, \"gas_type\": \"SP98\", \"ac\": 0, \"rain\": 0, \"sun\": 0}, {\"distance\": 14.3, \"consume\": 4.1, \"speed\": 26, \"temp_inside\": 22.0, \"temp_outside\": 20, \"gas_type\": \"SP98\", \"ac\": 0, \"rain\": 0, \"sun\": 0}, {\"distance\": 13.3, \"consume\": 4.6, \"speed\": 33, \"temp_inside\": 22.0, \"temp_outside\": 18, \"gas_type\": \"SP98\", \"ac\": 0, \"rain\": 0, \"sun\": 0}, {\"distance\": 8.3, \"consume\": 4.9, \"speed\": 26, \"temp_inside\": 22.0, \"temp_outside\": 23, \"gas_type\": \"SP98\", \"ac\": 0, \"rain\": 0, \"sun\": 0}, {\"distance\": 12.7, \"consume\": 4.5, \"speed\": 39, \"temp_inside\": 22.0, \"temp_outside\": 27, \"gas_type\": \"SP98\", \"ac\": 0, \"rain\": 0, \"sun\": 1}, {\"distance\": 16.5, \"consume\": 4.1, \"speed\": 47, \"temp_inside\": 22.0, \"temp_outside\": 14, \"gas_type\": \"SP98\", \"ac\": 0, \"rain\": 0, \"sun\": 0}, {\"distance\": 20.6, \"consume\": 4.1, \"speed\": 38, \"temp_inside\": 22.0, \"temp_outside\": 21, \"gas_type\": \"SP98\", \"ac\": 0, \"rain\": 0, \"sun\": 0}, {\"distance\": 16.3, \"consume\": 4.5, \"speed\": 58, \"temp_inside\": 22.0, \"temp_outside\": 16, \"gas_type\": \"SP98\", \"ac\": 0, \"rain\": 0, \"sun\": 0}, {\"distance\": 18.7, \"consume\": 4.2, \"speed\": 65, \"temp_inside\": 25.0, \"temp_outside\": 18, \"gas_type\": \"SP98\", \"ac\": 1, \"rain\": 0, \"sun\": 1}, {\"distance\": 36.5, \"consume\": 3.9, \"speed\": 54, \"temp_inside\": 23.0, \"temp_outside\": 18, \"gas_type\": \"SP98\", \"ac\": 0, \"rain\": 0, \"sun\": 1}, {\"distance\": 19.0, \"consume\": 5.0, \"speed\": 35, \"temp_inside\": 22.0, \"temp_outside\": 15, \"gas_type\": \"SP98\", \"ac\": 1, \"rain\": 0, \"sun\": 1}, {\"distance\": 16.6, \"consume\": 4.4, \"speed\": 46, \"temp_inside\": 22.0, \"temp_outside\": 5, \"gas_type\": \"SP98\", \"ac\": 1, \"rain\": 0, \"sun\": 0}, {\"distance\": 29.9, \"consume\": 4.5, \"speed\": 32, \"temp_inside\": 22.0, \"temp_outside\": 18, \"gas_type\": \"SP98\", \"ac\": 1, \"rain\": 0, \"sun\": 0}, {\"distance\": 16.0, \"consume\": 3.8, \"speed\": 42, \"temp_inside\": 22.0, \"temp_outside\": 11, \"gas_type\": \"SP98\", \"ac\": 0, \"rain\": 0, \"sun\": 0}, {\"distance\": 21.1, \"consume\": 5.1, \"speed\": 33, \"temp_inside\": 22.0, \"temp_outside\": 10, \"gas_type\": \"SP98\", \"ac\": 0, \"rain\": 1, \"sun\": 0}, {\"distance\": 16.0, \"consume\": 3.9, \"speed\": 40, \"temp_inside\": 22.0, \"temp_outside\": 10, \"gas_type\": \"SP98\", \"ac\": 0, \"rain\": 0, \"sun\": 0}, {\"distance\": 11.9, \"consume\": 5.3, \"speed\": 34, \"temp_inside\": 22.0, \"temp_outside\": 13, \"gas_type\": \"SP98\", \"ac\": 0, \"rain\": 0, \"sun\": 0}, {\"distance\": 10.1, \"consume\": 4.2, \"speed\": 35, \"temp_inside\": 22.0, \"temp_outside\": 16, \"gas_type\": \"SP98\", \"ac\": 0, \"rain\": 0, \"sun\": 0}, {\"distance\": 31.9, \"consume\": 4.3, \"speed\": 33, \"temp_inside\": 22.0, \"temp_outside\": 16, \"gas_type\": \"SP98\", \"ac\": 0, \"rain\": 0, \"sun\": 0}, {\"distance\": 18.7, \"consume\": 4.0, \"speed\": 60, \"temp_inside\": 22.0, \"temp_outside\": 13, \"gas_type\": \"SP98\", \"ac\": 0, \"rain\": 0, \"sun\": 0}, {\"distance\": 10.8, \"consume\": 4.7, \"speed\": 48, \"temp_inside\": 22.0, \"temp_outside\": 17, \"gas_type\": \"SP98\", \"ac\": 0, \"rain\": 0, \"sun\": 1}, {\"distance\": 19.8, \"consume\": 4.0, \"speed\": 56, \"temp_inside\": 22.0, \"temp_outside\": 17, \"gas_type\": \"SP98\", \"ac\": 0, \"rain\": 0, \"sun\": 1}, {\"distance\": 11.3, \"consume\": 4.3, \"speed\": 38, \"temp_inside\": 22.0, \"temp_outside\": 17, \"gas_type\": \"SP98\", \"ac\": 0, \"rain\": 0, \"sun\": 0}, {\"distance\": 11.5, \"consume\": 5.3, \"speed\": 53, \"temp_inside\": 22.0, \"temp_outside\": 15, \"gas_type\": \"SP98\", \"ac\": 0, \"rain\": 0, \"sun\": 0}, {\"distance\": 21.4, \"consume\": 5.2, \"speed\": 51, \"temp_inside\": 22.0, \"temp_outside\": 13, \"gas_type\": \"SP98\", \"ac\": 0, \"rain\": 0, \"sun\": 0}, {\"distance\": 32.0, \"consume\": 4.9, \"speed\": 53, \"temp_inside\": 22.0, \"temp_outside\": 15, \"gas_type\": \"SP98\", \"ac\": 0, \"rain\": 0, \"sun\": 0}, {\"distance\": 41.9, \"consume\": 4.7, \"speed\": 53, \"temp_inside\": 22.0, \"temp_outside\": 14, \"gas_type\": \"SP98\", \"ac\": 0, \"rain\": 0, \"sun\": 0}, {\"distance\": 211.0, \"consume\": 4.6, \"speed\": 80, \"temp_inside\": 22.0, \"temp_outside\": 20, \"gas_type\": \"SP98\", \"ac\": 0, \"rain\": 0, \"sun\": 0}, {\"distance\": 216.1, \"consume\": 5.3, \"speed\": 90, \"temp_inside\": 22.0, \"temp_outside\": 21, \"gas_type\": \"SP98\", \"ac\": 0, \"rain\": 0, \"sun\": 1}, {\"distance\": 25.5, \"consume\": 3.6, \"speed\": 27, \"temp_inside\": 22.0, \"temp_outside\": 27, \"gas_type\": \"SP98\", \"ac\": 0, \"rain\": 0, \"sun\": 1}, {\"distance\": 16.6, \"consume\": 4.2, \"speed\": 52, \"temp_inside\": 22.0, \"temp_outside\": 15, \"gas_type\": \"SP98\", \"ac\": 0, \"rain\": 1, \"sun\": 0}, {\"distance\": 25.9, \"consume\": 4.1, \"speed\": 43, \"temp_inside\": 22.0, \"temp_outside\": 24, \"gas_type\": \"SP98\", \"ac\": 0, \"rain\": 0, \"sun\": 0}, {\"distance\": 16.5, \"consume\": 4.0, \"speed\": 48, \"temp_inside\": 22.0, \"temp_outside\": 15, \"gas_type\": \"SP98\", \"ac\": 0, \"rain\": 0, \"sun\": 0}, {\"distance\": 22.1, \"consume\": 3.9, \"speed\": 29, \"temp_inside\": 22.0, \"temp_outside\": 26, \"gas_type\": \"SP98\", \"ac\": 0, \"rain\": 0, \"sun\": 0}, {\"distance\": 16.6, \"consume\": 3.7, \"speed\": 49, \"temp_inside\": 22.0, \"temp_outside\": 17, \"gas_type\": \"E10\", \"ac\": 0, \"rain\": 0, \"sun\": 0}, {\"distance\": 15.4, \"consume\": 4.5, \"speed\": 43, \"temp_inside\": 22.0, \"temp_outside\": 24, \"gas_type\": \"E10\", \"ac\": 0, \"rain\": 0, \"sun\": 0}, {\"distance\": 16.5, \"consume\": 3.9, \"speed\": 43, \"temp_inside\": 22.0, \"temp_outside\": 17, \"gas_type\": \"E10\", \"ac\": 0, \"rain\": 0, \"sun\": 0}, {\"distance\": 15.4, \"consume\": 5.1, \"speed\": 21, \"temp_inside\": 22.0, \"temp_outside\": 24, \"gas_type\": \"E10\", \"ac\": 0, \"rain\": 0, \"sun\": 0}, {\"distance\": 18.4, \"consume\": 4.2, \"speed\": 59, \"temp_inside\": 22.0, \"temp_outside\": 24, \"gas_type\": \"E10\", \"ac\": 0, \"rain\": 0, \"sun\": 0}, {\"distance\": 39.5, \"consume\": 4.2, \"speed\": 58, \"temp_inside\": 22.0, \"temp_outside\": 25, \"gas_type\": \"E10\", \"ac\": 0, \"rain\": 0, \"sun\": 0}, {\"distance\": 21.5, \"consume\": 4.8, \"speed\": 47, \"temp_inside\": 25.0, \"temp_outside\": 27, \"gas_type\": \"E10\", \"ac\": 1, \"rain\": 0, \"sun\": 1}, {\"distance\": 4.8, \"consume\": 4.7, \"speed\": 26, \"temp_inside\": 25.0, \"temp_outside\": 18, \"gas_type\": \"E10\", \"ac\": 0, \"rain\": 0, \"sun\": 0}, {\"distance\": 100.9, \"consume\": 4.7, \"speed\": 87, \"temp_inside\": 23.5, \"temp_outside\": 22, \"gas_type\": \"E10\", \"ac\": 0, \"rain\": 0, \"sun\": 0}, {\"distance\": 129.7, \"consume\": 4.6, \"speed\": 58, \"temp_inside\": 24.0, \"temp_outside\": 21, \"gas_type\": \"E10\", \"ac\": 0, \"rain\": 0, \"sun\": 0}, {\"distance\": 16.6, \"consume\": 3.8, \"speed\": 43, \"temp_inside\": 21.5, \"temp_outside\": 16, \"gas_type\": \"E10\", \"ac\": 0, \"rain\": 0, \"sun\": 0}, {\"distance\": 15.4, \"consume\": 4.2, \"speed\": 50, \"temp_inside\": 21.5, \"temp_outside\": 21, \"gas_type\": \"E10\", \"ac\": 0, \"rain\": 0, \"sun\": 0}, {\"distance\": 16.0, \"consume\": 3.7, \"speed\": 45, \"temp_inside\": 22.0, \"temp_outside\": 17, \"gas_type\": \"E10\", \"ac\": 0, \"rain\": 0, \"sun\": 0}, {\"distance\": 16.0, \"consume\": 4.2, \"speed\": 41, \"temp_inside\": 22.0, \"temp_outside\": 15, \"gas_type\": \"E10\", \"ac\": 0, \"rain\": 0, \"sun\": 0}, {\"distance\": 15.4, \"consume\": 4.1, \"speed\": 45, \"temp_inside\": 22.0, \"temp_outside\": 24, \"gas_type\": \"E10\", \"ac\": 0, \"rain\": 0, \"sun\": 0}, {\"distance\": 16.0, \"consume\": 4.0, \"speed\": 43, \"temp_inside\": 22.0, \"temp_outside\": 16, \"gas_type\": \"E10\", \"ac\": 0, \"rain\": 0, \"sun\": 0}, {\"distance\": 21.0, \"consume\": 3.8, \"speed\": 37, \"temp_inside\": 22.0, \"temp_outside\": 21, \"gas_type\": \"E10\", \"ac\": 0, \"rain\": 0, \"sun\": 0}, {\"distance\": 15.4, \"consume\": 3.8, \"speed\": 47, \"temp_inside\": 22.0, \"temp_outside\": 24, \"gas_type\": \"E10\", \"ac\": 0, \"rain\": 0, \"sun\": 0}, {\"distance\": 16.0, \"consume\": 3.8, \"speed\": 42, \"temp_inside\": 22.0, \"temp_outside\": 17, \"gas_type\": \"E10\", \"ac\": 0, \"rain\": 0, \"sun\": 0}, {\"distance\": 16.1, \"consume\": 5.1, \"speed\": 30, \"temp_inside\": 25.0, \"temp_outside\": 16, \"gas_type\": \"E10\", \"ac\": 1, \"rain\": 1, \"sun\": 0}, {\"distance\": 16.0, \"consume\": 4.0, \"speed\": 42, \"temp_inside\": 22.0, \"temp_outside\": 15, \"gas_type\": \"E10\", \"ac\": 0, \"rain\": 0, \"sun\": 0}, {\"distance\": 15.4, \"consume\": 4.8, \"speed\": 40, \"temp_inside\": 22.0, \"temp_outside\": 18, \"gas_type\": \"E10\", \"ac\": 0, \"rain\": 0, \"sun\": 0}, {\"distance\": 17.2, \"consume\": 3.9, \"speed\": 35, \"temp_inside\": 22.0, \"temp_outside\": 16, \"gas_type\": \"E10\", \"ac\": 0, \"rain\": 0, \"sun\": 0}, {\"distance\": 16.6, \"consume\": 4.6, \"speed\": 50, \"temp_inside\": 22.0, \"temp_outside\": 25, \"gas_type\": \"E10\", \"ac\": 0, \"rain\": 0, \"sun\": 0}, {\"distance\": 18.3, \"consume\": 4.3, \"speed\": 46, \"temp_inside\": 22.0, \"temp_outside\": 16, \"gas_type\": \"SP98\", \"ac\": 0, \"rain\": 0, \"sun\": 0}, {\"distance\": 16.1, \"consume\": 4.8, \"speed\": 36, \"temp_inside\": 22.0, \"temp_outside\": 18, \"gas_type\": \"SP98\", \"ac\": 0, \"rain\": 1, \"sun\": 0}, {\"distance\": 16.0, \"consume\": 4.1, \"speed\": 46, \"temp_inside\": 22.0, \"temp_outside\": 17, \"gas_type\": \"SP98\", \"ac\": 0, \"rain\": 0, \"sun\": 0}, {\"distance\": 16.3, \"consume\": 4.0, \"speed\": 35, \"temp_inside\": 22.0, \"temp_outside\": 23, \"gas_type\": \"SP98\", \"ac\": 0, \"rain\": 0, \"sun\": 0}, {\"distance\": 16.0, \"consume\": 3.7, \"speed\": 44, \"temp_inside\": 22.0, \"temp_outside\": 16, \"gas_type\": \"SP98\", \"ac\": 0, \"rain\": 0, \"sun\": 0}, {\"distance\": 18.3, \"consume\": 4.3, \"speed\": 46, \"temp_inside\": 22.0, \"temp_outside\": 23, \"gas_type\": \"SP98\", \"ac\": 0, \"rain\": 0, \"sun\": 0}, {\"distance\": 4.5, \"consume\": 5.2, \"speed\": 23, \"temp_inside\": 22.0, \"temp_outside\": 23, \"gas_type\": \"SP98\", \"ac\": 0, \"rain\": 0, \"sun\": 1}, {\"distance\": 17.0, \"consume\": 4.2, \"speed\": 48, \"temp_inside\": 22.0, \"temp_outside\": 16, \"gas_type\": \"SP98\", \"ac\": 0, \"rain\": 0, \"sun\": 0}, {\"distance\": 6.1, \"consume\": 5.0, \"speed\": 35, \"temp_inside\": 24.5, \"temp_outside\": 18, \"gas_type\": \"SP98\", \"ac\": 0, \"rain\": 0, \"sun\": 0}, {\"distance\": 6.1, \"consume\": 5.0, \"speed\": 33, \"temp_inside\": 22.0, \"temp_outside\": 24, \"gas_type\": \"SP98\", \"ac\": 0, \"rain\": 0, \"sun\": 1}, {\"distance\": 17.3, \"consume\": 4.2, \"speed\": 36, \"temp_inside\": 22.0, \"temp_outside\": 22, \"gas_type\": \"SP98\", \"ac\": 0, \"rain\": 0, \"sun\": 0}, {\"distance\": 6.0, \"consume\": 4.8, \"speed\": 27, \"temp_inside\": 22.0, \"temp_outside\": 17, \"gas_type\": \"SP98\", \"ac\": 0, \"rain\": 0, \"sun\": 0}, {\"distance\": 16.0, \"consume\": 4.1, \"speed\": 45, \"temp_inside\": 22.0, \"temp_outside\": 15, \"gas_type\": \"SP98\", \"ac\": 0, \"rain\": 0, \"sun\": 0}, {\"distance\": 15.4, \"consume\": 4.9, \"speed\": 55, \"temp_inside\": 22.0, \"temp_outside\": 18, \"gas_type\": \"SP98\", \"ac\": 0, \"rain\": 0, \"sun\": 0}, {\"distance\": 15.4, \"consume\": 4.3, \"speed\": 39, \"temp_inside\": 22.0, \"temp_outside\": 23, \"gas_type\": \"SP98\", \"ac\": 0, \"rain\": 0, \"sun\": 0}, {\"distance\": 16.0, \"consume\": 3.9, \"speed\": 35, \"temp_inside\": 22.0, \"temp_outside\": 18, \"gas_type\": \"SP98\", \"ac\": 0, \"rain\": 0, \"sun\": 0}, {\"distance\": 15.4, \"consume\": 4.5, \"speed\": 52, \"temp_inside\": 22.0, \"temp_outside\": 26, \"gas_type\": \"SP98\", \"ac\": 0, \"rain\": 0, \"sun\": 0}, {\"distance\": 16.6, \"consume\": 4.1, \"speed\": 48, \"temp_inside\": 25.5, \"temp_outside\": 30, \"gas_type\": \"SP98\", \"ac\": 1, \"rain\": 0, \"sun\": 1}, {\"distance\": 15.4, \"consume\": 5.0, \"speed\": 48, \"temp_inside\": 25.5, \"temp_outside\": 31, \"gas_type\": \"SP98\", \"ac\": 1, \"rain\": 0, \"sun\": 0}, {\"distance\": 16.0, \"consume\": 4.0, \"speed\": 43, \"temp_inside\": 22.0, \"temp_outside\": 21, \"gas_type\": \"SP98\", \"ac\": 1, \"rain\": 0, \"sun\": 0}, {\"distance\": 15.4, \"consume\": 4.5, \"speed\": 42, \"temp_inside\": 22.0, \"temp_outside\": 30, \"gas_type\": \"SP98\", \"ac\": 0, \"rain\": 0, \"sun\": 0}, {\"distance\": 16.0, \"consume\": 3.6, \"speed\": 43, \"temp_inside\": 22.0, \"temp_outside\": 19, \"gas_type\": \"SP98\", \"ac\": 0, \"rain\": 0, \"sun\": 0}, {\"distance\": 20.9, \"consume\": 4.1, \"speed\": 33, \"temp_inside\": 22.0, \"temp_outside\": 21, \"gas_type\": \"SP98\", \"ac\": 0, \"rain\": 0, \"sun\": 0}, {\"distance\": 32.1, \"consume\": 3.9, \"speed\": 47, \"temp_inside\": 22.0, \"temp_outside\": 26, \"gas_type\": \"SP98\", \"ac\": 0, \"rain\": 0, \"sun\": 0}, {\"distance\": 15.3, \"consume\": 6.6, \"speed\": 16, \"temp_inside\": 24.0, \"temp_outside\": 27, \"gas_type\": \"SP98\", \"ac\": 1, \"rain\": 0, \"sun\": 0}, {\"distance\": 28.5, \"consume\": 4.0, \"speed\": 44, \"temp_inside\": 25.0, \"temp_outside\": 23, \"gas_type\": \"SP98\", \"ac\": 1, \"rain\": 0, \"sun\": 0}, {\"distance\": 11.9, \"consume\": 3.7, \"speed\": 33, \"temp_inside\": 25.0, \"temp_outside\": 19, \"gas_type\": \"SP98\", \"ac\": 0, \"rain\": 0, \"sun\": 0}, {\"distance\": 14.5, \"consume\": 4.3, \"speed\": 36, \"temp_inside\": 25.0, \"temp_outside\": 22, \"gas_type\": \"SP98\", \"ac\": 0, \"rain\": 0, \"sun\": 0}, {\"distance\": 16.6, \"consume\": 4.1, \"speed\": 49, \"temp_inside\": 22.0, \"temp_outside\": 26, \"gas_type\": \"SP98\", \"ac\": 0, \"rain\": 0, \"sun\": 1}, {\"distance\": 16.2, \"consume\": 4.4, \"speed\": 39, \"temp_inside\": 24.5, \"temp_outside\": 17, \"gas_type\": \"SP98\", \"ac\": 1, \"rain\": 0, \"sun\": 0}, {\"distance\": 16.7, \"consume\": 3.8, \"speed\": 44, \"temp_inside\": 24.5, \"temp_outside\": 23, \"gas_type\": \"SP98\", \"ac\": 0, \"rain\": 0, \"sun\": 1}, {\"distance\": 8.3, \"consume\": 5.0, \"speed\": 52, \"temp_inside\": 24.5, \"temp_outside\": 27, \"gas_type\": \"SP98\", \"ac\": 0, \"rain\": 0, \"sun\": 0}, {\"distance\": 5.5, \"consume\": 3.7, \"speed\": 33, \"temp_inside\": 24.5, \"temp_outside\": 28, \"gas_type\": \"SP98\", \"ac\": 0, \"rain\": 0, \"sun\": 1}, {\"distance\": 13.6, \"consume\": 3.7, \"speed\": 33, \"temp_inside\": 24.5, \"temp_outside\": 28, \"gas_type\": \"SP98\", \"ac\": 0, \"rain\": 0, \"sun\": 1}, {\"distance\": 16.0, \"consume\": 3.7, \"speed\": 39, \"temp_inside\": 24.5, \"temp_outside\": 18, \"gas_type\": \"SP98\", \"ac\": 0, \"rain\": 0, \"sun\": 0}, {\"distance\": 16.1, \"consume\": 4.3, \"speed\": 38, \"temp_inside\": 25.0, \"temp_outside\": 31, \"gas_type\": \"SP98\", \"ac\": 1, \"rain\": 0, \"sun\": 0}, {\"distance\": 16.0, \"consume\": 3.8, \"speed\": 45, \"temp_inside\": 25.0, \"temp_outside\": 19, \"gas_type\": \"SP98\", \"ac\": 0, \"rain\": 0, \"sun\": 0}, {\"distance\": 15.4, \"consume\": 4.6, \"speed\": 42, \"temp_inside\": 25.0, \"temp_outside\": 31, \"gas_type\": \"SP98\", \"ac\": 1, \"rain\": 0, \"sun\": 0}, {\"distance\": 14.7, \"consume\": 5.0, \"speed\": 25, \"temp_inside\": 25.0, \"temp_outside\": 30, \"gas_type\": \"SP98\", \"ac\": 1, \"rain\": 0, \"sun\": 0}]}}, {\"mode\": \"vega-lite\"});\n",
       "</script>"
      ],
      "text/plain": [
       "alt.Chart(...)"
      ]
     },
     "execution_count": 55,
     "metadata": {},
     "output_type": "execute_result"
    }
   ],
   "source": [
    "alt.Chart(clean_data).mark_point().encode(x='rain', y='consume', color='gas_type').interactive()"
   ]
  },
  {
   "cell_type": "markdown",
   "id": "9851cd71",
   "metadata": {},
   "source": [
    "## Remarks:\n",
    "E10 consumes more than SP98 however E10 suffered from more variance in distance, ac, and weather conditions. As such, I believe more data should be gathered as to compare both fuels within the same conditions. SP98 shows more variance in consume, therefore, driving has to be done more carefully in order to not influence consume too much."
   ]
  },
  {
   "cell_type": "code",
   "execution_count": null,
   "id": "0207e2b1",
   "metadata": {},
   "outputs": [],
   "source": []
  }
 ],
 "metadata": {
  "kernelspec": {
   "display_name": "Python 3 (ipykernel)",
   "language": "python",
   "name": "python3"
  },
  "language_info": {
   "codemirror_mode": {
    "name": "ipython",
    "version": 3
   },
   "file_extension": ".py",
   "mimetype": "text/x-python",
   "name": "python",
   "nbconvert_exporter": "python",
   "pygments_lexer": "ipython3",
   "version": "3.9.13"
  }
 },
 "nbformat": 4,
 "nbformat_minor": 5
}
