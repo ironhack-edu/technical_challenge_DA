{
 "cells": [
  {
   "cell_type": "markdown",
   "id": "2a6c3c8c",
   "metadata": {},
   "source": [
    "# Car Fuel Consumption "
   ]
  },
  {
   "cell_type": "markdown",
   "id": "33709d9c",
   "metadata": {},
   "source": [
    "By Meysour Omezzine"
   ]
  },
  {
   "cell_type": "code",
   "execution_count": 1,
   "id": "5e593c8b",
   "metadata": {},
   "outputs": [
    {
     "name": "stdout",
     "output_type": "stream",
     "text": [
      "Requirement already satisfied: xgboost in /Users/meysouromezzine/opt/anaconda3/lib/python3.9/site-packages (1.7.5)\n",
      "Requirement already satisfied: scipy in /Users/meysouromezzine/opt/anaconda3/lib/python3.9/site-packages (from xgboost) (1.9.1)\n",
      "Requirement already satisfied: numpy in /Users/meysouromezzine/.local/lib/python3.9/site-packages (from xgboost) (1.23.5)\n",
      "Requirement already satisfied: wordcloud in /Users/meysouromezzine/opt/anaconda3/lib/python3.9/site-packages (1.8.2.2)\n",
      "Requirement already satisfied: matplotlib in /Users/meysouromezzine/opt/anaconda3/lib/python3.9/site-packages (from wordcloud) (3.5.2)\n",
      "Requirement already satisfied: pillow in /Users/meysouromezzine/opt/anaconda3/lib/python3.9/site-packages (from wordcloud) (9.2.0)\n",
      "Requirement already satisfied: numpy>=1.6.1 in /Users/meysouromezzine/.local/lib/python3.9/site-packages (from wordcloud) (1.23.5)\n",
      "Requirement already satisfied: kiwisolver>=1.0.1 in /Users/meysouromezzine/opt/anaconda3/lib/python3.9/site-packages (from matplotlib->wordcloud) (1.4.2)\n",
      "Requirement already satisfied: packaging>=20.0 in /Users/meysouromezzine/opt/anaconda3/lib/python3.9/site-packages (from matplotlib->wordcloud) (21.3)\n",
      "Requirement already satisfied: cycler>=0.10 in /Users/meysouromezzine/opt/anaconda3/lib/python3.9/site-packages (from matplotlib->wordcloud) (0.11.0)\n",
      "Requirement already satisfied: pyparsing>=2.2.1 in /Users/meysouromezzine/opt/anaconda3/lib/python3.9/site-packages (from matplotlib->wordcloud) (3.0.9)\n",
      "Requirement already satisfied: python-dateutil>=2.7 in /Users/meysouromezzine/opt/anaconda3/lib/python3.9/site-packages (from matplotlib->wordcloud) (2.8.2)\n",
      "Requirement already satisfied: fonttools>=4.22.0 in /Users/meysouromezzine/opt/anaconda3/lib/python3.9/site-packages (from matplotlib->wordcloud) (4.25.0)\n",
      "Requirement already satisfied: six>=1.5 in /Users/meysouromezzine/opt/anaconda3/lib/python3.9/site-packages (from python-dateutil>=2.7->matplotlib->wordcloud) (1.16.0)\n"
     ]
    }
   ],
   "source": [
    "import pandas as pd\n",
    "import numpy as np\n",
    "from numpy import loadtxt\n",
    "from numpy import sort\n",
    "import matplotlib.pyplot as plt\n",
    "%matplotlib inline\n",
    "from matplotlib.ticker import PercentFormatter\n",
    "import matplotlib.ticker as mtick\n",
    "from random import sample\n",
    "import seaborn as sns\n",
    "from sklearn import svm\n",
    "from sklearn.metrics import classification_report\n",
    "from sklearn import metrics\n",
    "from sklearn import preprocessing\n",
    "from sklearn.metrics import accuracy_score\n",
    "from sklearn.datasets import make_classification\n",
    "from sklearn.ensemble import GradientBoostingClassifier\n",
    "from sklearn.model_selection import train_test_split\n",
    "from sklearn.neural_network import MLPClassifier\n",
    "from sklearn.ensemble import RandomForestClassifier\n",
    "from sklearn.discriminant_analysis import LinearDiscriminantAnalysis\n",
    "from sklearn.discriminant_analysis import QuadraticDiscriminantAnalysis\n",
    "from sklearn.utils import resample\n",
    "from sklearn.model_selection import StratifiedShuffleSplit\n",
    "from sklearn.metrics import confusion_matrix\n",
    "from sklearn.preprocessing import StandardScaler\n",
    "from sklearn.decomposition import PCA\n",
    "from sklearn.naive_bayes import GaussianNB\n",
    "from sklearn.neighbors import KNeighborsClassifier\n",
    "from sklearn.linear_model import LogisticRegression\n",
    "from sklearn.model_selection import GridSearchCV\n",
    "from sklearn.model_selection import StratifiedKFold\n",
    "from sklearn.preprocessing import LabelEncoder\n",
    "from sklearn.model_selection import train_test_split\n",
    "from sklearn.metrics import accuracy_score\n",
    "from sklearn.feature_selection import SelectFromModel\n",
    "!pip install xgboost\n",
    "import xgboost as xgb\n",
    "from xgboost import XGBClassifier\n",
    "from imblearn.over_sampling import SMOTE\n",
    "import pickle\n",
    "! pip install wordcloud\n",
    "from wordcloud import WordCloud"
   ]
  },
  {
   "cell_type": "markdown",
   "id": "45eed91e",
   "metadata": {},
   "source": [
    "### Data preparation "
   ]
  },
  {
   "cell_type": "raw",
   "id": "574b99ba",
   "metadata": {},
   "source": [
    "1. exploring the data "
   ]
  },
  {
   "cell_type": "code",
   "execution_count": 2,
   "id": "c7cbd181",
   "metadata": {},
   "outputs": [],
   "source": [
    "# Data import \n",
    "\n",
    "df = pd.read_csv('measurements.csv')"
   ]
  },
  {
   "cell_type": "code",
   "execution_count": 3,
   "id": "6d9c1bb8",
   "metadata": {},
   "outputs": [
    {
     "data": {
      "text/html": [
       "<div>\n",
       "<style scoped>\n",
       "    .dataframe tbody tr th:only-of-type {\n",
       "        vertical-align: middle;\n",
       "    }\n",
       "\n",
       "    .dataframe tbody tr th {\n",
       "        vertical-align: top;\n",
       "    }\n",
       "\n",
       "    .dataframe thead th {\n",
       "        text-align: right;\n",
       "    }\n",
       "</style>\n",
       "<table border=\"1\" class=\"dataframe\">\n",
       "  <thead>\n",
       "    <tr style=\"text-align: right;\">\n",
       "      <th></th>\n",
       "      <th>distance</th>\n",
       "      <th>consume</th>\n",
       "      <th>speed</th>\n",
       "      <th>temp_inside</th>\n",
       "      <th>temp_outside</th>\n",
       "      <th>specials</th>\n",
       "      <th>gas_type</th>\n",
       "      <th>AC</th>\n",
       "      <th>rain</th>\n",
       "      <th>sun</th>\n",
       "      <th>refill liters</th>\n",
       "      <th>refill gas</th>\n",
       "    </tr>\n",
       "  </thead>\n",
       "  <tbody>\n",
       "    <tr>\n",
       "      <th>0</th>\n",
       "      <td>28</td>\n",
       "      <td>5</td>\n",
       "      <td>26</td>\n",
       "      <td>21,5</td>\n",
       "      <td>12</td>\n",
       "      <td>NaN</td>\n",
       "      <td>E10</td>\n",
       "      <td>0</td>\n",
       "      <td>0</td>\n",
       "      <td>0</td>\n",
       "      <td>45</td>\n",
       "      <td>E10</td>\n",
       "    </tr>\n",
       "    <tr>\n",
       "      <th>1</th>\n",
       "      <td>12</td>\n",
       "      <td>4,2</td>\n",
       "      <td>30</td>\n",
       "      <td>21,5</td>\n",
       "      <td>13</td>\n",
       "      <td>NaN</td>\n",
       "      <td>E10</td>\n",
       "      <td>0</td>\n",
       "      <td>0</td>\n",
       "      <td>0</td>\n",
       "      <td>NaN</td>\n",
       "      <td>NaN</td>\n",
       "    </tr>\n",
       "    <tr>\n",
       "      <th>2</th>\n",
       "      <td>11,2</td>\n",
       "      <td>5,5</td>\n",
       "      <td>38</td>\n",
       "      <td>21,5</td>\n",
       "      <td>15</td>\n",
       "      <td>NaN</td>\n",
       "      <td>E10</td>\n",
       "      <td>0</td>\n",
       "      <td>0</td>\n",
       "      <td>0</td>\n",
       "      <td>NaN</td>\n",
       "      <td>NaN</td>\n",
       "    </tr>\n",
       "    <tr>\n",
       "      <th>3</th>\n",
       "      <td>12,9</td>\n",
       "      <td>3,9</td>\n",
       "      <td>36</td>\n",
       "      <td>21,5</td>\n",
       "      <td>14</td>\n",
       "      <td>NaN</td>\n",
       "      <td>E10</td>\n",
       "      <td>0</td>\n",
       "      <td>0</td>\n",
       "      <td>0</td>\n",
       "      <td>NaN</td>\n",
       "      <td>NaN</td>\n",
       "    </tr>\n",
       "    <tr>\n",
       "      <th>4</th>\n",
       "      <td>18,5</td>\n",
       "      <td>4,5</td>\n",
       "      <td>46</td>\n",
       "      <td>21,5</td>\n",
       "      <td>15</td>\n",
       "      <td>NaN</td>\n",
       "      <td>E10</td>\n",
       "      <td>0</td>\n",
       "      <td>0</td>\n",
       "      <td>0</td>\n",
       "      <td>NaN</td>\n",
       "      <td>NaN</td>\n",
       "    </tr>\n",
       "  </tbody>\n",
       "</table>\n",
       "</div>"
      ],
      "text/plain": [
       "  distance consume  speed temp_inside  temp_outside specials gas_type  AC  \\\n",
       "0       28       5     26        21,5            12      NaN      E10   0   \n",
       "1       12     4,2     30        21,5            13      NaN      E10   0   \n",
       "2     11,2     5,5     38        21,5            15      NaN      E10   0   \n",
       "3     12,9     3,9     36        21,5            14      NaN      E10   0   \n",
       "4     18,5     4,5     46        21,5            15      NaN      E10   0   \n",
       "\n",
       "   rain  sun refill liters refill gas  \n",
       "0     0    0            45        E10  \n",
       "1     0    0           NaN        NaN  \n",
       "2     0    0           NaN        NaN  \n",
       "3     0    0           NaN        NaN  \n",
       "4     0    0           NaN        NaN  "
      ]
     },
     "execution_count": 3,
     "metadata": {},
     "output_type": "execute_result"
    }
   ],
   "source": [
    "df.head()"
   ]
  },
  {
   "cell_type": "code",
   "execution_count": 4,
   "id": "f6bfd92b",
   "metadata": {},
   "outputs": [
    {
     "data": {
      "text/plain": [
       "(388, 12)"
      ]
     },
     "execution_count": 4,
     "metadata": {},
     "output_type": "execute_result"
    }
   ],
   "source": [
    "df.shape"
   ]
  },
  {
   "cell_type": "code",
   "execution_count": 5,
   "id": "b05108bd",
   "metadata": {},
   "outputs": [
    {
     "data": {
      "text/html": [
       "<div>\n",
       "<style scoped>\n",
       "    .dataframe tbody tr th:only-of-type {\n",
       "        vertical-align: middle;\n",
       "    }\n",
       "\n",
       "    .dataframe tbody tr th {\n",
       "        vertical-align: top;\n",
       "    }\n",
       "\n",
       "    .dataframe thead th {\n",
       "        text-align: right;\n",
       "    }\n",
       "</style>\n",
       "<table border=\"1\" class=\"dataframe\">\n",
       "  <thead>\n",
       "    <tr style=\"text-align: right;\">\n",
       "      <th></th>\n",
       "      <th>speed</th>\n",
       "      <th>temp_outside</th>\n",
       "      <th>AC</th>\n",
       "      <th>rain</th>\n",
       "      <th>sun</th>\n",
       "    </tr>\n",
       "  </thead>\n",
       "  <tbody>\n",
       "    <tr>\n",
       "      <th>count</th>\n",
       "      <td>388.000000</td>\n",
       "      <td>388.000000</td>\n",
       "      <td>388.000000</td>\n",
       "      <td>388.000000</td>\n",
       "      <td>388.000000</td>\n",
       "    </tr>\n",
       "    <tr>\n",
       "      <th>mean</th>\n",
       "      <td>41.927835</td>\n",
       "      <td>11.358247</td>\n",
       "      <td>0.077320</td>\n",
       "      <td>0.123711</td>\n",
       "      <td>0.082474</td>\n",
       "    </tr>\n",
       "    <tr>\n",
       "      <th>std</th>\n",
       "      <td>13.598524</td>\n",
       "      <td>6.991542</td>\n",
       "      <td>0.267443</td>\n",
       "      <td>0.329677</td>\n",
       "      <td>0.275441</td>\n",
       "    </tr>\n",
       "    <tr>\n",
       "      <th>min</th>\n",
       "      <td>14.000000</td>\n",
       "      <td>-5.000000</td>\n",
       "      <td>0.000000</td>\n",
       "      <td>0.000000</td>\n",
       "      <td>0.000000</td>\n",
       "    </tr>\n",
       "    <tr>\n",
       "      <th>25%</th>\n",
       "      <td>32.750000</td>\n",
       "      <td>7.000000</td>\n",
       "      <td>0.000000</td>\n",
       "      <td>0.000000</td>\n",
       "      <td>0.000000</td>\n",
       "    </tr>\n",
       "    <tr>\n",
       "      <th>50%</th>\n",
       "      <td>40.500000</td>\n",
       "      <td>10.000000</td>\n",
       "      <td>0.000000</td>\n",
       "      <td>0.000000</td>\n",
       "      <td>0.000000</td>\n",
       "    </tr>\n",
       "    <tr>\n",
       "      <th>75%</th>\n",
       "      <td>50.000000</td>\n",
       "      <td>16.000000</td>\n",
       "      <td>0.000000</td>\n",
       "      <td>0.000000</td>\n",
       "      <td>0.000000</td>\n",
       "    </tr>\n",
       "    <tr>\n",
       "      <th>max</th>\n",
       "      <td>90.000000</td>\n",
       "      <td>31.000000</td>\n",
       "      <td>1.000000</td>\n",
       "      <td>1.000000</td>\n",
       "      <td>1.000000</td>\n",
       "    </tr>\n",
       "  </tbody>\n",
       "</table>\n",
       "</div>"
      ],
      "text/plain": [
       "            speed  temp_outside          AC        rain         sun\n",
       "count  388.000000    388.000000  388.000000  388.000000  388.000000\n",
       "mean    41.927835     11.358247    0.077320    0.123711    0.082474\n",
       "std     13.598524      6.991542    0.267443    0.329677    0.275441\n",
       "min     14.000000     -5.000000    0.000000    0.000000    0.000000\n",
       "25%     32.750000      7.000000    0.000000    0.000000    0.000000\n",
       "50%     40.500000     10.000000    0.000000    0.000000    0.000000\n",
       "75%     50.000000     16.000000    0.000000    0.000000    0.000000\n",
       "max     90.000000     31.000000    1.000000    1.000000    1.000000"
      ]
     },
     "execution_count": 5,
     "metadata": {},
     "output_type": "execute_result"
    }
   ],
   "source": [
    "df.describe()"
   ]
  },
  {
   "cell_type": "code",
   "execution_count": 6,
   "id": "4a50a72b",
   "metadata": {},
   "outputs": [
    {
     "data": {
      "text/plain": [
       "distance           0\n",
       "consume            0\n",
       "speed              0\n",
       "temp_inside       12\n",
       "temp_outside       0\n",
       "specials         295\n",
       "gas_type           0\n",
       "AC                 0\n",
       "rain               0\n",
       "sun                0\n",
       "refill liters    375\n",
       "refill gas       375\n",
       "dtype: int64"
      ]
     },
     "execution_count": 6,
     "metadata": {},
     "output_type": "execute_result"
    }
   ],
   "source": [
    "df.isna().sum()"
   ]
  },
  {
   "cell_type": "raw",
   "id": "4bc57e9d",
   "metadata": {},
   "source": [
    "We have 4 columns with too many NaN values that we need to deal with: \n",
    " "
   ]
  },
  {
   "cell_type": "markdown",
   "id": "6f7329ed",
   "metadata": {},
   "source": [
    "###### Dropping Nan"
   ]
  },
  {
   "cell_type": "code",
   "execution_count": 7,
   "id": "b6261ddb",
   "metadata": {},
   "outputs": [],
   "source": [
    "df.drop(['specials', 'refill liters', 'refill gas'], axis=1, inplace=True)"
   ]
  },
  {
   "cell_type": "raw",
   "id": "a5bd60f8",
   "metadata": {},
   "source": [
    "Temp Inside"
   ]
  },
  {
   "cell_type": "code",
   "execution_count": 8,
   "id": "a1b5a15e",
   "metadata": {},
   "outputs": [
    {
     "data": {
      "text/plain": [
       "21,5    133\n",
       "22      102\n",
       "22,5     59\n",
       "20       25\n",
       "21       13\n",
       "23       13\n",
       "25       12\n",
       "24,5      7\n",
       "20,5      4\n",
       "24        3\n",
       "23,5      2\n",
       "25,5      2\n",
       "19        1\n",
       "Name: temp_inside, dtype: int64"
      ]
     },
     "execution_count": 8,
     "metadata": {},
     "output_type": "execute_result"
    }
   ],
   "source": [
    "df['temp_inside'].value_counts()\n",
    "\n",
    "#checking the value counts of column temp inside"
   ]
  },
  {
   "cell_type": "code",
   "execution_count": 9,
   "id": "9a9df36d",
   "metadata": {},
   "outputs": [],
   "source": [
    "df['temp_inside'].fillna(21.5, inplace=True)\n",
    "\n",
    "#filling the NaN values with the most occured value"
   ]
  },
  {
   "cell_type": "code",
   "execution_count": 10,
   "id": "78eb8f26",
   "metadata": {},
   "outputs": [],
   "source": [
    "df['temp_inside'] = df['temp_inside'].str.replace(',', '.').astype(float)\n",
    "\n",
    "#convert the 'temp_inside' column to a float type using the astype() method\n",
    "#replace the comma with a period as the decimal separator"
   ]
  },
  {
   "cell_type": "code",
   "execution_count": 11,
   "id": "4f44c055",
   "metadata": {},
   "outputs": [
    {
     "name": "stdout",
     "output_type": "stream",
     "text": [
      "<class 'pandas.core.frame.DataFrame'>\n",
      "RangeIndex: 388 entries, 0 to 387\n",
      "Data columns (total 9 columns):\n",
      " #   Column        Non-Null Count  Dtype  \n",
      "---  ------        --------------  -----  \n",
      " 0   distance      388 non-null    object \n",
      " 1   consume       388 non-null    object \n",
      " 2   speed         388 non-null    int64  \n",
      " 3   temp_inside   376 non-null    float64\n",
      " 4   temp_outside  388 non-null    int64  \n",
      " 5   gas_type      388 non-null    object \n",
      " 6   AC            388 non-null    int64  \n",
      " 7   rain          388 non-null    int64  \n",
      " 8   sun           388 non-null    int64  \n",
      "dtypes: float64(1), int64(5), object(3)\n",
      "memory usage: 27.4+ KB\n"
     ]
    }
   ],
   "source": [
    "df.info()"
   ]
  },
  {
   "cell_type": "code",
   "execution_count": 12,
   "id": "68eed439",
   "metadata": {},
   "outputs": [
    {
     "data": {
      "text/html": [
       "<div>\n",
       "<style scoped>\n",
       "    .dataframe tbody tr th:only-of-type {\n",
       "        vertical-align: middle;\n",
       "    }\n",
       "\n",
       "    .dataframe tbody tr th {\n",
       "        vertical-align: top;\n",
       "    }\n",
       "\n",
       "    .dataframe thead th {\n",
       "        text-align: right;\n",
       "    }\n",
       "</style>\n",
       "<table border=\"1\" class=\"dataframe\">\n",
       "  <thead>\n",
       "    <tr style=\"text-align: right;\">\n",
       "      <th></th>\n",
       "      <th>distance</th>\n",
       "      <th>consume</th>\n",
       "      <th>speed</th>\n",
       "      <th>temp_inside</th>\n",
       "      <th>temp_outside</th>\n",
       "      <th>gas_type</th>\n",
       "      <th>AC</th>\n",
       "      <th>rain</th>\n",
       "      <th>sun</th>\n",
       "    </tr>\n",
       "  </thead>\n",
       "  <tbody>\n",
       "    <tr>\n",
       "      <th>0</th>\n",
       "      <td>28</td>\n",
       "      <td>5</td>\n",
       "      <td>26</td>\n",
       "      <td>21.5</td>\n",
       "      <td>12</td>\n",
       "      <td>E10</td>\n",
       "      <td>0</td>\n",
       "      <td>0</td>\n",
       "      <td>0</td>\n",
       "    </tr>\n",
       "    <tr>\n",
       "      <th>1</th>\n",
       "      <td>12</td>\n",
       "      <td>4,2</td>\n",
       "      <td>30</td>\n",
       "      <td>21.5</td>\n",
       "      <td>13</td>\n",
       "      <td>E10</td>\n",
       "      <td>0</td>\n",
       "      <td>0</td>\n",
       "      <td>0</td>\n",
       "    </tr>\n",
       "    <tr>\n",
       "      <th>2</th>\n",
       "      <td>11,2</td>\n",
       "      <td>5,5</td>\n",
       "      <td>38</td>\n",
       "      <td>21.5</td>\n",
       "      <td>15</td>\n",
       "      <td>E10</td>\n",
       "      <td>0</td>\n",
       "      <td>0</td>\n",
       "      <td>0</td>\n",
       "    </tr>\n",
       "    <tr>\n",
       "      <th>3</th>\n",
       "      <td>12,9</td>\n",
       "      <td>3,9</td>\n",
       "      <td>36</td>\n",
       "      <td>21.5</td>\n",
       "      <td>14</td>\n",
       "      <td>E10</td>\n",
       "      <td>0</td>\n",
       "      <td>0</td>\n",
       "      <td>0</td>\n",
       "    </tr>\n",
       "    <tr>\n",
       "      <th>4</th>\n",
       "      <td>18,5</td>\n",
       "      <td>4,5</td>\n",
       "      <td>46</td>\n",
       "      <td>21.5</td>\n",
       "      <td>15</td>\n",
       "      <td>E10</td>\n",
       "      <td>0</td>\n",
       "      <td>0</td>\n",
       "      <td>0</td>\n",
       "    </tr>\n",
       "  </tbody>\n",
       "</table>\n",
       "</div>"
      ],
      "text/plain": [
       "  distance consume  speed  temp_inside  temp_outside gas_type  AC  rain  sun\n",
       "0       28       5     26         21.5            12      E10   0     0    0\n",
       "1       12     4,2     30         21.5            13      E10   0     0    0\n",
       "2     11,2     5,5     38         21.5            15      E10   0     0    0\n",
       "3     12,9     3,9     36         21.5            14      E10   0     0    0\n",
       "4     18,5     4,5     46         21.5            15      E10   0     0    0"
      ]
     },
     "execution_count": 12,
     "metadata": {},
     "output_type": "execute_result"
    }
   ],
   "source": [
    "df.head()"
   ]
  },
  {
   "cell_type": "code",
   "execution_count": 13,
   "id": "6cb8ec33",
   "metadata": {},
   "outputs": [],
   "source": [
    "df['consume'] = df['consume'].str.replace(',', '.').astype(float)\n",
    "\n",
    "\n",
    "\n"
   ]
  },
  {
   "cell_type": "code",
   "execution_count": 14,
   "id": "977b182a",
   "metadata": {},
   "outputs": [
    {
     "name": "stderr",
     "output_type": "stream",
     "text": [
      "/var/folders/2t/2pxpfxm91mg6w4grvjd9xpr00000gn/T/ipykernel_78279/1920348818.py:1: FutureWarning: Dropping of nuisance columns in DataFrame reductions (with 'numeric_only=None') is deprecated; in a future version this will raise TypeError.  Select only valid columns before calling the reduction.\n",
      "  df.fillna(df.mean(), inplace=True)\n"
     ]
    }
   ],
   "source": [
    "df.fillna(df.mean(), inplace=True)\n"
   ]
  },
  {
   "cell_type": "markdown",
   "id": "4aba91ac",
   "metadata": {},
   "source": [
    "### Visualization"
   ]
  },
  {
   "cell_type": "markdown",
   "id": "6624d06f",
   "metadata": {},
   "source": [
    "Now that the data is cleaned, xe can now proceed with some exploratory data analysis. "
   ]
  },
  {
   "cell_type": "markdown",
   "id": "e8cea010",
   "metadata": {},
   "source": [
    "Let's start by looking at the distribution of the 'consume' column : "
   ]
  },
  {
   "cell_type": "code",
   "execution_count": 15,
   "id": "d35b0a92",
   "metadata": {},
   "outputs": [
    {
     "data": {
      "image/png": "[encoded data removed]",
      "text/plain": [
       "<Figure size 640x480 with 1 Axes>"
      ]
     },
     "metadata": {},
     "output_type": "display_data"
    }
   ],
   "source": [
    "sns.histplot(data=df, x='consume', kde=True)\n",
    "plt.show()"
   ]
  },
  {
   "cell_type": "raw",
   "id": "cbcb8d04",
   "metadata": {},
   "source": [
    "From the histogram, we can see that the distribution is roughly normal."
   ]
  },
  {
   "cell_type": "raw",
   "id": "4917371e",
   "metadata": {},
   "source": [
    "But now, I wanna look and compare the cost of consumption between E10 and SP98.\n",
    "First, we create a new columns : "
   ]
  },
  {
   "cell_type": "code",
   "execution_count": 16,
   "id": "77b6e588",
   "metadata": {},
   "outputs": [],
   "source": [
    "def fuel_cost(row):\n",
    "    if row['gas_type'] == 'E10':\n",
    "        return row['consume'] * 1.38\n",
    "    elif row['gas_type'] == 'SP98':\n",
    "        return row['consume'] * 1.46\n",
    "    else:\n",
    "        return None\n",
    "\n",
    "df['fuel_cost'] = df.apply(fuel_cost, axis=1)"
   ]
  },
  {
   "cell_type": "code",
   "execution_count": 17,
   "id": "37bfce28",
   "metadata": {},
   "outputs": [
    {
     "data": {
      "text/html": [
       "<div>\n",
       "<style scoped>\n",
       "    .dataframe tbody tr th:only-of-type {\n",
       "        vertical-align: middle;\n",
       "    }\n",
       "\n",
       "    .dataframe tbody tr th {\n",
       "        vertical-align: top;\n",
       "    }\n",
       "\n",
       "    .dataframe thead th {\n",
       "        text-align: right;\n",
       "    }\n",
       "</style>\n",
       "<table border=\"1\" class=\"dataframe\">\n",
       "  <thead>\n",
       "    <tr style=\"text-align: right;\">\n",
       "      <th></th>\n",
       "      <th>distance</th>\n",
       "      <th>consume</th>\n",
       "      <th>speed</th>\n",
       "      <th>temp_inside</th>\n",
       "      <th>temp_outside</th>\n",
       "      <th>gas_type</th>\n",
       "      <th>AC</th>\n",
       "      <th>rain</th>\n",
       "      <th>sun</th>\n",
       "      <th>fuel_cost</th>\n",
       "    </tr>\n",
       "  </thead>\n",
       "  <tbody>\n",
       "    <tr>\n",
       "      <th>0</th>\n",
       "      <td>28</td>\n",
       "      <td>5.0</td>\n",
       "      <td>26</td>\n",
       "      <td>21.5</td>\n",
       "      <td>12</td>\n",
       "      <td>E10</td>\n",
       "      <td>0</td>\n",
       "      <td>0</td>\n",
       "      <td>0</td>\n",
       "      <td>6.900</td>\n",
       "    </tr>\n",
       "    <tr>\n",
       "      <th>1</th>\n",
       "      <td>12</td>\n",
       "      <td>4.2</td>\n",
       "      <td>30</td>\n",
       "      <td>21.5</td>\n",
       "      <td>13</td>\n",
       "      <td>E10</td>\n",
       "      <td>0</td>\n",
       "      <td>0</td>\n",
       "      <td>0</td>\n",
       "      <td>5.796</td>\n",
       "    </tr>\n",
       "    <tr>\n",
       "      <th>2</th>\n",
       "      <td>11,2</td>\n",
       "      <td>5.5</td>\n",
       "      <td>38</td>\n",
       "      <td>21.5</td>\n",
       "      <td>15</td>\n",
       "      <td>E10</td>\n",
       "      <td>0</td>\n",
       "      <td>0</td>\n",
       "      <td>0</td>\n",
       "      <td>7.590</td>\n",
       "    </tr>\n",
       "    <tr>\n",
       "      <th>3</th>\n",
       "      <td>12,9</td>\n",
       "      <td>3.9</td>\n",
       "      <td>36</td>\n",
       "      <td>21.5</td>\n",
       "      <td>14</td>\n",
       "      <td>E10</td>\n",
       "      <td>0</td>\n",
       "      <td>0</td>\n",
       "      <td>0</td>\n",
       "      <td>5.382</td>\n",
       "    </tr>\n",
       "    <tr>\n",
       "      <th>4</th>\n",
       "      <td>18,5</td>\n",
       "      <td>4.5</td>\n",
       "      <td>46</td>\n",
       "      <td>21.5</td>\n",
       "      <td>15</td>\n",
       "      <td>E10</td>\n",
       "      <td>0</td>\n",
       "      <td>0</td>\n",
       "      <td>0</td>\n",
       "      <td>6.210</td>\n",
       "    </tr>\n",
       "  </tbody>\n",
       "</table>\n",
       "</div>"
      ],
      "text/plain": [
       "  distance  consume  speed  temp_inside  temp_outside gas_type  AC  rain  sun  \\\n",
       "0       28      5.0     26         21.5            12      E10   0     0    0   \n",
       "1       12      4.2     30         21.5            13      E10   0     0    0   \n",
       "2     11,2      5.5     38         21.5            15      E10   0     0    0   \n",
       "3     12,9      3.9     36         21.5            14      E10   0     0    0   \n",
       "4     18,5      4.5     46         21.5            15      E10   0     0    0   \n",
       "\n",
       "   fuel_cost  \n",
       "0      6.900  \n",
       "1      5.796  \n",
       "2      7.590  \n",
       "3      5.382  \n",
       "4      6.210  "
      ]
     },
     "execution_count": 17,
     "metadata": {},
     "output_type": "execute_result"
    }
   ],
   "source": [
    "df.head()"
   ]
  },
  {
   "cell_type": "code",
   "execution_count": 18,
   "id": "483314b8",
   "metadata": {},
   "outputs": [
    {
     "data": {
      "text/html": [
       "<div>\n",
       "<style scoped>\n",
       "    .dataframe tbody tr th:only-of-type {\n",
       "        vertical-align: middle;\n",
       "    }\n",
       "\n",
       "    .dataframe tbody tr th {\n",
       "        vertical-align: top;\n",
       "    }\n",
       "\n",
       "    .dataframe thead th {\n",
       "        text-align: right;\n",
       "    }\n",
       "</style>\n",
       "<table border=\"1\" class=\"dataframe\">\n",
       "  <thead>\n",
       "    <tr style=\"text-align: right;\">\n",
       "      <th></th>\n",
       "      <th>distance</th>\n",
       "      <th>consume</th>\n",
       "      <th>speed</th>\n",
       "      <th>temp_inside</th>\n",
       "      <th>temp_outside</th>\n",
       "      <th>gas_type</th>\n",
       "      <th>AC</th>\n",
       "      <th>rain</th>\n",
       "      <th>sun</th>\n",
       "      <th>fuel_cost</th>\n",
       "    </tr>\n",
       "  </thead>\n",
       "  <tbody>\n",
       "    <tr>\n",
       "      <th>0</th>\n",
       "      <td>28</td>\n",
       "      <td>5.0</td>\n",
       "      <td>26</td>\n",
       "      <td>21.5</td>\n",
       "      <td>12</td>\n",
       "      <td>E10</td>\n",
       "      <td>0</td>\n",
       "      <td>0</td>\n",
       "      <td>0</td>\n",
       "      <td>6.900</td>\n",
       "    </tr>\n",
       "    <tr>\n",
       "      <th>1</th>\n",
       "      <td>12</td>\n",
       "      <td>4.2</td>\n",
       "      <td>30</td>\n",
       "      <td>21.5</td>\n",
       "      <td>13</td>\n",
       "      <td>E10</td>\n",
       "      <td>0</td>\n",
       "      <td>0</td>\n",
       "      <td>0</td>\n",
       "      <td>5.796</td>\n",
       "    </tr>\n",
       "    <tr>\n",
       "      <th>2</th>\n",
       "      <td>11,2</td>\n",
       "      <td>5.5</td>\n",
       "      <td>38</td>\n",
       "      <td>21.5</td>\n",
       "      <td>15</td>\n",
       "      <td>E10</td>\n",
       "      <td>0</td>\n",
       "      <td>0</td>\n",
       "      <td>0</td>\n",
       "      <td>7.590</td>\n",
       "    </tr>\n",
       "    <tr>\n",
       "      <th>3</th>\n",
       "      <td>12,9</td>\n",
       "      <td>3.9</td>\n",
       "      <td>36</td>\n",
       "      <td>21.5</td>\n",
       "      <td>14</td>\n",
       "      <td>E10</td>\n",
       "      <td>0</td>\n",
       "      <td>0</td>\n",
       "      <td>0</td>\n",
       "      <td>5.382</td>\n",
       "    </tr>\n",
       "    <tr>\n",
       "      <th>4</th>\n",
       "      <td>18,5</td>\n",
       "      <td>4.5</td>\n",
       "      <td>46</td>\n",
       "      <td>21.5</td>\n",
       "      <td>15</td>\n",
       "      <td>E10</td>\n",
       "      <td>0</td>\n",
       "      <td>0</td>\n",
       "      <td>0</td>\n",
       "      <td>6.210</td>\n",
       "    </tr>\n",
       "    <tr>\n",
       "      <th>...</th>\n",
       "      <td>...</td>\n",
       "      <td>...</td>\n",
       "      <td>...</td>\n",
       "      <td>...</td>\n",
       "      <td>...</td>\n",
       "      <td>...</td>\n",
       "      <td>...</td>\n",
       "      <td>...</td>\n",
       "      <td>...</td>\n",
       "      <td>...</td>\n",
       "    </tr>\n",
       "    <tr>\n",
       "      <th>383</th>\n",
       "      <td>16</td>\n",
       "      <td>3.7</td>\n",
       "      <td>39</td>\n",
       "      <td>24.5</td>\n",
       "      <td>18</td>\n",
       "      <td>SP98</td>\n",
       "      <td>0</td>\n",
       "      <td>0</td>\n",
       "      <td>0</td>\n",
       "      <td>5.402</td>\n",
       "    </tr>\n",
       "    <tr>\n",
       "      <th>384</th>\n",
       "      <td>16,1</td>\n",
       "      <td>4.3</td>\n",
       "      <td>38</td>\n",
       "      <td>25.0</td>\n",
       "      <td>31</td>\n",
       "      <td>SP98</td>\n",
       "      <td>1</td>\n",
       "      <td>0</td>\n",
       "      <td>0</td>\n",
       "      <td>6.278</td>\n",
       "    </tr>\n",
       "    <tr>\n",
       "      <th>385</th>\n",
       "      <td>16</td>\n",
       "      <td>3.8</td>\n",
       "      <td>45</td>\n",
       "      <td>25.0</td>\n",
       "      <td>19</td>\n",
       "      <td>SP98</td>\n",
       "      <td>0</td>\n",
       "      <td>0</td>\n",
       "      <td>0</td>\n",
       "      <td>5.548</td>\n",
       "    </tr>\n",
       "    <tr>\n",
       "      <th>386</th>\n",
       "      <td>15,4</td>\n",
       "      <td>4.6</td>\n",
       "      <td>42</td>\n",
       "      <td>25.0</td>\n",
       "      <td>31</td>\n",
       "      <td>SP98</td>\n",
       "      <td>1</td>\n",
       "      <td>0</td>\n",
       "      <td>0</td>\n",
       "      <td>6.716</td>\n",
       "    </tr>\n",
       "    <tr>\n",
       "      <th>387</th>\n",
       "      <td>14,7</td>\n",
       "      <td>5.0</td>\n",
       "      <td>25</td>\n",
       "      <td>25.0</td>\n",
       "      <td>30</td>\n",
       "      <td>SP98</td>\n",
       "      <td>1</td>\n",
       "      <td>0</td>\n",
       "      <td>0</td>\n",
       "      <td>7.300</td>\n",
       "    </tr>\n",
       "  </tbody>\n",
       "</table>\n",
       "<p>388 rows × 10 columns</p>\n",
       "</div>"
      ],
      "text/plain": [
       "    distance  consume  speed  temp_inside  temp_outside gas_type  AC  rain  \\\n",
       "0         28      5.0     26         21.5            12      E10   0     0   \n",
       "1         12      4.2     30         21.5            13      E10   0     0   \n",
       "2       11,2      5.5     38         21.5            15      E10   0     0   \n",
       "3       12,9      3.9     36         21.5            14      E10   0     0   \n",
       "4       18,5      4.5     46         21.5            15      E10   0     0   \n",
       "..       ...      ...    ...          ...           ...      ...  ..   ...   \n",
       "383       16      3.7     39         24.5            18     SP98   0     0   \n",
       "384     16,1      4.3     38         25.0            31     SP98   1     0   \n",
       "385       16      3.8     45         25.0            19     SP98   0     0   \n",
       "386     15,4      4.6     42         25.0            31     SP98   1     0   \n",
       "387     14,7      5.0     25         25.0            30     SP98   1     0   \n",
       "\n",
       "     sun  fuel_cost  \n",
       "0      0      6.900  \n",
       "1      0      5.796  \n",
       "2      0      7.590  \n",
       "3      0      5.382  \n",
       "4      0      6.210  \n",
       "..   ...        ...  \n",
       "383    0      5.402  \n",
       "384    0      6.278  \n",
       "385    0      5.548  \n",
       "386    0      6.716  \n",
       "387    0      7.300  \n",
       "\n",
       "[388 rows x 10 columns]"
      ]
     },
     "execution_count": 18,
     "metadata": {},
     "output_type": "execute_result"
    }
   ],
   "source": [
    "df"
   ]
  },
  {
   "cell_type": "code",
   "execution_count": 19,
   "id": "3bc87d2c",
   "metadata": {},
   "outputs": [
    {
     "data": {
      "image/png": "[encoded data removed]",
      "text/plain": [
       "<Figure size 640x480 with 1 Axes>"
      ]
     },
     "metadata": {},
     "output_type": "display_data"
    }
   ],
   "source": [
    "sns.histplot(data=df, x='fuel_cost', kde=True)\n",
    "plt.show()"
   ]
  },
  {
   "cell_type": "markdown",
   "id": "bea89b11",
   "metadata": {},
   "source": [
    "A/C and fuel consumption "
   ]
  },
  {
   "cell_type": "raw",
   "id": "ae613e64",
   "metadata": {},
   "source": [
    "Now, let's add some new columns to the DataFrame. We can convert the 'gas_type' column to a categorical column and create a new column called 'is_AC_on', which will be 1 if the AC was on during the trip and 0 otherwise:"
   ]
  },
  {
   "cell_type": "code",
   "execution_count": 40,
   "id": "0baff722",
   "metadata": {},
   "outputs": [],
   "source": [
    "df['gas_type'] = pd.Categorical(df['gas_type'])\n",
    "df['is_AC_on'] = np.where(df['AC'] == 1, 1, 0)\n"
   ]
  },
  {
   "cell_type": "raw",
   "id": "79dc3d03",
   "metadata": {},
   "source": [
    "We can now plot the relationship between the 'consume' column and the newly created 'is_AC_on' column:"
   ]
  },
  {
   "cell_type": "code",
   "execution_count": 41,
   "id": "c3b2089a",
   "metadata": {},
   "outputs": [
    {
     "data": {
      "image/png": "[encoded data removed]",
      "text/plain": [
       "<Figure size 640x480 with 1 Axes>"
      ]
     },
     "metadata": {},
     "output_type": "display_data"
    }
   ],
   "source": [
    "sns.boxplot(data=df, x='is_AC_on', y='consume')\n",
    "plt.show()\n"
   ]
  },
  {
   "cell_type": "raw",
   "id": "e5197d8f",
   "metadata": {},
   "source": [
    "From the box plot, we can see that fuel consumption is higher when the AC is turned on."
   ]
  },
  {
   "cell_type": "markdown",
   "id": "80ff7e61",
   "metadata": {},
   "source": [
    "Speed and consumption "
   ]
  },
  {
   "cell_type": "code",
   "execution_count": 48,
   "id": "e688e5f0",
   "metadata": {},
   "outputs": [
    {
     "data": {
      "image/png": "[encoded data removed]",
      "text/plain": [
       "<Figure size 640x480 with 1 Axes>"
      ]
     },
     "metadata": {},
     "output_type": "display_data"
    }
   ],
   "source": [
    "sns.scatterplot(data=df, x='speed', y='consume')\n",
    "plt.xlabel('Speed (km/h)')\n",
    "plt.ylabel('Fuel Consumption (L/100km)')\n",
    "plt.show()"
   ]
  },
  {
   "cell_type": "raw",
   "id": "de871a42",
   "metadata": {},
   "source": [
    "Based on the scatter plot, we can see that there is no clear relationship between speed and consumption. There is some variation in consumption at different speeds, but it is not consistently decreasing or increasing as speed increases. "
   ]
  },
  {
   "cell_type": "raw",
   "id": "afdf568c",
   "metadata": {},
   "source": [
    "There are several external factors that can affect the relationship between speed and fuel consumption, such as traffic congestion, road conditions, and terrain. For example, in heavy traffic or stop-and-go situations, fuel consumption may be higher due to frequent acceleration and deceleration, regardless of speed. Similarly, driving on hilly terrain can lead to higher fuel consumption even at lower speeds. It's important to keep these factors in mind when interpreting the relationship between speed and fuel consumption."
   ]
  },
  {
   "cell_type": "markdown",
   "id": "d8f7736e",
   "metadata": {},
   "source": [
    "### Predictions : Does the Car consume more with E10 ? "
   ]
  },
  {
   "cell_type": "raw",
   "id": "ee80169b",
   "metadata": {},
   "source": [
    "We want to know if the car consumes more with E10. We use Hypthosis testing\n",
    "\n",
    "Define the null hypothesis: the E10 gas does not affect fuel consumption\n",
    "Define the alternative hypothesis: the E10 gas affects fuel consumption"
   ]
  },
  {
   "cell_type": "code",
   "execution_count": 20,
   "id": "a4976b2d",
   "metadata": {},
   "outputs": [
    {
     "name": "stdout",
     "output_type": "stream",
     "text": [
      "Cannot reject null hypothesis: there is no significant difference in consumption between E10 and E98\n"
     ]
    }
   ],
   "source": [
    "import scipy.stats as stats\n",
    "\n",
    "# separate the consume data for E10 and E98\n",
    "consume_e10 = df[df['gas_type'] == 'E10']['consume']\n",
    "consume_e98 = df[df['gas_type'] == 'SP98']['consume']\n",
    "\n",
    "# perform a t-test for independent samples\n",
    "t_statistic, p_value = stats.ttest_ind(consume_e10, consume_e98, equal_var=False)\n",
    "\n",
    "# set the significance level (alpha)\n",
    "alpha = 0.05\n",
    "\n",
    "# compare p-value with alpha\n",
    "if p_value < alpha:\n",
    "    print(\"Reject null hypothesis: there is a significant difference in consumption between E10 and E98\")\n",
    "else:\n",
    "    print(\"Cannot reject null hypothesis: there is no significant difference in consumption between E10 and E98\")\n"
   ]
  },
  {
   "cell_type": "raw",
   "id": "b2468b2c",
   "metadata": {},
   "source": [
    "We got the result \"Cannot reject null hypothesis: there is no significant difference in consumption between E10 and E98\", then it means that based on the statistical test, performed, there is not enough evidence to support the claim that there is a significant difference in consumption between E10 and E98. However, this does not necessarily mean that there is no difference in consumption, just that the difference may not be significant based on the data you have."
   ]
  },
  {
   "cell_type": "raw",
   "id": "4a3e4023",
   "metadata": {},
   "source": [
    "One way to see if the car consumes less with E10 is to calculate the mean consumption for each fuel type and compare them: "
   ]
  },
  {
   "cell_type": "code",
   "execution_count": 21,
   "id": "7bc8b96b",
   "metadata": {},
   "outputs": [
    {
     "name": "stdout",
     "output_type": "stream",
     "text": [
      "Mean consumption for E10: 4.93\n",
      "Mean consumption for E98: 4.90\n"
     ]
    }
   ],
   "source": [
    "# Calculate mean consumption for E10 and E98\n",
    "mean_e10 = df.loc[df['gas_type'] == 'E10', 'consume'].mean()\n",
    "mean_e98 = df.loc[df['gas_type'] == 'SP98', 'consume'].mean()\n",
    "\n",
    "# Print mean consumption for each fuel type\n",
    "print(f\"Mean consumption for E10: {mean_e10:.2f}\")\n",
    "print(f\"Mean consumption for E98: {mean_e98:.2f}\")\n"
   ]
  },
  {
   "cell_type": "code",
   "execution_count": 22,
   "id": "65a2a74c",
   "metadata": {},
   "outputs": [
    {
     "data": {
      "image/png": "[encoded data removed]",
      "text/plain": [
       "<Figure size 640x480 with 1 Axes>"
      ]
     },
     "metadata": {},
     "output_type": "display_data"
    }
   ],
   "source": [
    "# Create a bar plot to compare mean consumption for E10 and E98\n",
    "sns.barplot(x=['E10', 'E98'], y=[mean_e10, mean_e98])\n",
    "plt.title('Mean Consumption Comparison: E10 vs E98')\n",
    "plt.xlabel('Gas Type')\n",
    "plt.ylabel('Mean Consumption')\n",
    "plt.show()"
   ]
  },
  {
   "cell_type": "raw",
   "id": "b766f006",
   "metadata": {},
   "source": [
    "Based on the mean consumption values, it seems that the car consumes slightly less with E98 compared to E10."
   ]
  },
  {
   "cell_type": "markdown",
   "id": "b3c6df16",
   "metadata": {},
   "source": [
    "### Building a prediction model "
   ]
  },
  {
   "cell_type": "markdown",
   "id": "3db7617c",
   "metadata": {},
   "source": [
    "To make a model to predict the consumption based on fuel type, you can use a machine learning algorithm."
   ]
  },
  {
   "cell_type": "code",
   "execution_count": 23,
   "id": "976122e4",
   "metadata": {},
   "outputs": [],
   "source": [
    "## getting the numerical and cat data into 2 dataframes\n",
    "\n",
    "numericals = df.select_dtypes(include=['int', 'float'])\n",
    "categorical = df.select_dtypes(include=['object'])"
   ]
  },
  {
   "cell_type": "code",
   "execution_count": 24,
   "id": "5b7d4757",
   "metadata": {},
   "outputs": [
    {
     "data": {
      "image/png": "[encoded data removed]",
      "text/plain": [
       "<Figure size 3000x3000 with 2 Axes>"
      ]
     },
     "metadata": {},
     "output_type": "display_data"
    }
   ],
   "source": [
    "###check the multicollinearity between the features\n",
    "correlations_matrix = numericals.corr()\n",
    "#correlations_matrix\n",
    "fig, ax=plt.subplots(figsize=(30,30))\n",
    "sns.heatmap(correlations_matrix, annot=True)\n",
    "plt.show()"
   ]
  },
  {
   "cell_type": "raw",
   "id": "1ad01e1c",
   "metadata": {},
   "source": [
    "Fuel cost is highly corr with consume, we dont use it in our model. "
   ]
  },
  {
   "cell_type": "raw",
   "id": "4d48e569",
   "metadata": {},
   "source": [
    "We split the data : \n",
    "Let's define the predictor features and the target features. \n",
    "our target will be The column 'consume' which will be in the y \n",
    "our predictors will be all columns except our target. "
   ]
  },
  {
   "cell_type": "code",
   "execution_count": 25,
   "id": "e4684cdb",
   "metadata": {},
   "outputs": [],
   "source": [
    "X = df.drop(['consume'], axis=1)\n",
    "y = df['consume']"
   ]
  },
  {
   "cell_type": "code",
   "execution_count": 26,
   "id": "f4db3653",
   "metadata": {},
   "outputs": [],
   "source": [
    "# Train test split \n",
    "X_train, X_test, y_train, y_test = train_test_split(X, y, test_size=0.2, random_state=42)"
   ]
  },
  {
   "cell_type": "markdown",
   "id": "c96e9f85",
   "metadata": {},
   "source": [
    "###### Scaling our test and train numericals"
   ]
  },
  {
   "cell_type": "code",
   "execution_count": 27,
   "id": "6acbbb59",
   "metadata": {},
   "outputs": [],
   "source": [
    "numericals_train = X_train.select_dtypes(np.number)\n",
    "numericals_test = X_test.select_dtypes(np.number)\n",
    "from sklearn.preprocessing import StandardScaler\n",
    "\n",
    "transformer = StandardScaler().fit(numericals_train)\n",
    "numericals_train_standardized = pd.DataFrame(transformer.transform(numericals_train),columns=numericals_train.columns) \n",
    "numericals_test_standardized = pd.DataFrame(transformer.transform(numericals_test),columns=numericals_test.columns)"
   ]
  },
  {
   "cell_type": "markdown",
   "id": "addd8ae4",
   "metadata": {},
   "source": [
    "###### Encoding our categoricals"
   ]
  },
  {
   "cell_type": "code",
   "execution_count": 28,
   "id": "f0b3e2e0",
   "metadata": {},
   "outputs": [
    {
     "name": "stderr",
     "output_type": "stream",
     "text": [
      "/Users/meysouromezzine/opt/anaconda3/lib/python3.9/site-packages/sklearn/preprocessing/_encoders.py:170: UserWarning: Found unknown categories in columns [0] during transform. These unknown categories will be encoded as all zeros\n",
      "  warnings.warn(\n"
     ]
    }
   ],
   "source": [
    "categoricals_train= X_train.select_dtypes(object)\n",
    "categoricals_test= X_test.select_dtypes(object)\n",
    "from sklearn.preprocessing import OneHotEncoder\n",
    "\n",
    "encoder = OneHotEncoder(handle_unknown='ignore', drop='first').fit(categoricals_train)\n",
    "column_name = encoder.get_feature_names_out(categoricals_train.columns)\n",
    "categoricals_train_encoded = pd.DataFrame(encoder.transform(categoricals_train).toarray(), columns=column_name)\n",
    "categoricals_test_encoded = pd.DataFrame(encoder.transform(categoricals_test).toarray(),columns=column_name)"
   ]
  },
  {
   "cell_type": "markdown",
   "id": "1592fd95",
   "metadata": {},
   "source": [
    "###### Concat both num and cat¶"
   ]
  },
  {
   "cell_type": "code",
   "execution_count": 29,
   "id": "79f98151",
   "metadata": {},
   "outputs": [],
   "source": [
    "numericals_train_standardized.reset_index(drop=True, inplace=True)\n",
    "categoricals_train_encoded.reset_index(drop=True, inplace=True)\n",
    "X_train_encoded = pd.concat((numericals_train_standardized, categoricals_train_encoded), axis=1)\n",
    "\n",
    "numericals_test_standardized.reset_index(drop=True, inplace=True)\n",
    "categoricals_test_encoded.reset_index(drop=True, inplace=True)\n",
    "X_test_encoded = pd.concat((numericals_test_standardized, categoricals_test_encoded), axis=1)\n",
    "\n"
   ]
  },
  {
   "cell_type": "code",
   "execution_count": 30,
   "id": "61300c89",
   "metadata": {},
   "outputs": [
    {
     "data": {
      "text/plain": [
       "(78, 159)"
      ]
     },
     "execution_count": 30,
     "metadata": {},
     "output_type": "execute_result"
    }
   ],
   "source": [
    "X_test_encoded.shape"
   ]
  },
  {
   "cell_type": "code",
   "execution_count": 31,
   "id": "45c5ff63",
   "metadata": {},
   "outputs": [
    {
     "data": {
      "text/plain": [
       "(310, 159)"
      ]
     },
     "execution_count": 31,
     "metadata": {},
     "output_type": "execute_result"
    }
   ],
   "source": [
    "X_train_encoded.shape"
   ]
  },
  {
   "cell_type": "markdown",
   "id": "854cf2d9",
   "metadata": {},
   "source": [
    "###### Training the model"
   ]
  },
  {
   "cell_type": "code",
   "execution_count": 36,
   "id": "ef8b7a21",
   "metadata": {},
   "outputs": [
    {
     "data": {
      "text/plain": [
       "LinearRegression()"
      ]
     },
     "execution_count": 36,
     "metadata": {},
     "output_type": "execute_result"
    }
   ],
   "source": [
    "from sklearn.linear_model import LinearRegression\n",
    "from sklearn.metrics import mean_squared_error\n",
    "model = LinearRegression()\n",
    "model.fit(X_train_encoded, y_train)"
   ]
  },
  {
   "cell_type": "code",
   "execution_count": 37,
   "id": "b75eac3d",
   "metadata": {},
   "outputs": [],
   "source": [
    "# Predict the consumption for the test data\n",
    "y_pred = model.predict(X_test_encoded)"
   ]
  },
  {
   "cell_type": "code",
   "execution_count": 38,
   "id": "b519789b",
   "metadata": {},
   "outputs": [
    {
     "name": "stdout",
     "output_type": "stream",
     "text": [
      "Mean squared error:  0.010749147939770715\n"
     ]
    }
   ],
   "source": [
    "# Evaluate the performance of the model using mean squared error\n",
    "mse = mean_squared_error(y_test, y_pred)\n",
    "print('Mean squared error: ', mse)"
   ]
  },
  {
   "cell_type": "raw",
   "id": "f020245c",
   "metadata": {},
   "source": [
    "he mean squared error of our model is 0.0107, which is not too bad. This indicates that the model is able to predict the consumption with some degree of accuracy."
   ]
  },
  {
   "cell_type": "code",
   "execution_count": 39,
   "id": "d1c7db14",
   "metadata": {},
   "outputs": [
    {
     "data": {
      "image/png": "[encoded data removed]",
      "text/plain": [
       "<Figure size 640x480 with 1 Axes>"
      ]
     },
     "metadata": {},
     "output_type": "display_data"
    }
   ],
   "source": [
    "plt.scatter(y_test, y_pred)\n",
    "plt.xlabel('Actual consumption')\n",
    "plt.ylabel('Predicted consumption')\n",
    "plt.show()"
   ]
  },
  {
   "cell_type": "raw",
   "id": "38af0c12",
   "metadata": {},
   "source": [
    "Based on the analysis we have done, we can draw the following conclusions:\n",
    "\n",
    "1.Fuel consumption is affected by various factors such as distance, speed, temperature, and air conditioning.\n",
    "\n",
    "2.There is no significant difference in consumption between E10 and E98 fuels. However, the mean consumption for E10 is slightly higher than E98.\n",
    "\n",
    "3.The multiple linear regression model we built using all features has a mean squared error of 0.0107, indicating that it is a good fit for the data. The most important factors affecting fuel consumption in this model are distance, temperature, and speed.\n",
    "\n",
    "4.We also found that air conditioning is a significant factor affecting fuel consumption. The car consumes more fuel when the air conditioning is turned on.\n",
    "\n",
    "5.Based on the scatter plot of predicted versus actual fuel consumption, our model does a reasonable job of predicting fuel consumption given the input features.\n",
    "\n",
    "Overall, we can conclude that fuel consumption is affected by various factors, and it is important to consider these factors when estimating fuel consumption. Additionally, the choice of fuel type does not seem to have a significant impact on fuel consumption."
   ]
  }
 ],
 "metadata": {
  "kernelspec": {
   "display_name": "Python 3 (ipykernel)",
   "language": "python",
   "name": "python3"
  },
  "language_info": {
   "codemirror_mode": {
    "name": "ipython",
    "version": 3
   },
   "file_extension": ".py",
   "mimetype": "text/x-python",
   "name": "python",
   "nbconvert_exporter": "python",
   "pygments_lexer": "ipython3",
   "version": "3.9.13"
  }
 },
 "nbformat": 4,
 "nbformat_minor": 5
}
