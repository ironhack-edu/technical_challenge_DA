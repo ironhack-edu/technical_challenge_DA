{
 "cells": [
  {
   "cell_type": "code",
   "execution_count": 2,
   "id": "1810e18c",
   "metadata": {},
   "outputs": [],
   "source": [
    "import pandas as pd\n",
    "import numpy as np\n",
    "import matplotlib.pyplot as plt\n",
    "import seaborn as sns"
   ]
  },
  {
   "cell_type": "markdown",
   "id": "f5c43d24",
   "metadata": {},
   "source": [
    "## Import and Clean data"
   ]
  },
  {
   "cell_type": "code",
   "execution_count": 3,
   "id": "4a82c0fd",
   "metadata": {},
   "outputs": [
    {
     "data": {
      "text/html": [
       "<div>\n",
       "<style scoped>\n",
       "    .dataframe tbody tr th:only-of-type {\n",
       "        vertical-align: middle;\n",
       "    }\n",
       "\n",
       "    .dataframe tbody tr th {\n",
       "        vertical-align: top;\n",
       "    }\n",
       "\n",
       "    .dataframe thead th {\n",
       "        text-align: right;\n",
       "    }\n",
       "</style>\n",
       "<table border=\"1\" class=\"dataframe\">\n",
       "  <thead>\n",
       "    <tr style=\"text-align: right;\">\n",
       "      <th></th>\n",
       "      <th>distance</th>\n",
       "      <th>consume</th>\n",
       "      <th>speed</th>\n",
       "      <th>temp_inside</th>\n",
       "      <th>temp_outside</th>\n",
       "      <th>specials</th>\n",
       "      <th>gas_type</th>\n",
       "      <th>AC</th>\n",
       "      <th>rain</th>\n",
       "      <th>sun</th>\n",
       "      <th>refill liters</th>\n",
       "      <th>refill gas</th>\n",
       "    </tr>\n",
       "  </thead>\n",
       "  <tbody>\n",
       "    <tr>\n",
       "      <th>0</th>\n",
       "      <td>28</td>\n",
       "      <td>5</td>\n",
       "      <td>26</td>\n",
       "      <td>21,5</td>\n",
       "      <td>12</td>\n",
       "      <td>NaN</td>\n",
       "      <td>E10</td>\n",
       "      <td>0</td>\n",
       "      <td>0</td>\n",
       "      <td>0</td>\n",
       "      <td>45</td>\n",
       "      <td>E10</td>\n",
       "    </tr>\n",
       "    <tr>\n",
       "      <th>1</th>\n",
       "      <td>12</td>\n",
       "      <td>4,2</td>\n",
       "      <td>30</td>\n",
       "      <td>21,5</td>\n",
       "      <td>13</td>\n",
       "      <td>NaN</td>\n",
       "      <td>E10</td>\n",
       "      <td>0</td>\n",
       "      <td>0</td>\n",
       "      <td>0</td>\n",
       "      <td>NaN</td>\n",
       "      <td>NaN</td>\n",
       "    </tr>\n",
       "    <tr>\n",
       "      <th>2</th>\n",
       "      <td>11,2</td>\n",
       "      <td>5,5</td>\n",
       "      <td>38</td>\n",
       "      <td>21,5</td>\n",
       "      <td>15</td>\n",
       "      <td>NaN</td>\n",
       "      <td>E10</td>\n",
       "      <td>0</td>\n",
       "      <td>0</td>\n",
       "      <td>0</td>\n",
       "      <td>NaN</td>\n",
       "      <td>NaN</td>\n",
       "    </tr>\n",
       "    <tr>\n",
       "      <th>3</th>\n",
       "      <td>12,9</td>\n",
       "      <td>3,9</td>\n",
       "      <td>36</td>\n",
       "      <td>21,5</td>\n",
       "      <td>14</td>\n",
       "      <td>NaN</td>\n",
       "      <td>E10</td>\n",
       "      <td>0</td>\n",
       "      <td>0</td>\n",
       "      <td>0</td>\n",
       "      <td>NaN</td>\n",
       "      <td>NaN</td>\n",
       "    </tr>\n",
       "    <tr>\n",
       "      <th>4</th>\n",
       "      <td>18,5</td>\n",
       "      <td>4,5</td>\n",
       "      <td>46</td>\n",
       "      <td>21,5</td>\n",
       "      <td>15</td>\n",
       "      <td>NaN</td>\n",
       "      <td>E10</td>\n",
       "      <td>0</td>\n",
       "      <td>0</td>\n",
       "      <td>0</td>\n",
       "      <td>NaN</td>\n",
       "      <td>NaN</td>\n",
       "    </tr>\n",
       "  </tbody>\n",
       "</table>\n",
       "</div>"
      ],
      "text/plain": [
       "  distance consume  speed temp_inside  temp_outside specials gas_type  AC  \\\n",
       "0       28       5     26        21,5            12      NaN      E10   0   \n",
       "1       12     4,2     30        21,5            13      NaN      E10   0   \n",
       "2     11,2     5,5     38        21,5            15      NaN      E10   0   \n",
       "3     12,9     3,9     36        21,5            14      NaN      E10   0   \n",
       "4     18,5     4,5     46        21,5            15      NaN      E10   0   \n",
       "\n",
       "   rain  sun refill liters refill gas  \n",
       "0     0    0            45        E10  \n",
       "1     0    0           NaN        NaN  \n",
       "2     0    0           NaN        NaN  \n",
       "3     0    0           NaN        NaN  \n",
       "4     0    0           NaN        NaN  "
      ]
     },
     "metadata": {},
     "output_type": "display_data"
    },
    {
     "data": {
      "text/plain": [
       "(388, 12)"
      ]
     },
     "metadata": {},
     "output_type": "display_data"
    }
   ],
   "source": [
    "# CSV file\n",
    "data2 = pd.read_csv('./data/measurements.csv')\n",
    "display(data2.head(),data2.shape)"
   ]
  },
  {
   "cell_type": "code",
   "execution_count": 4,
   "id": "9329bbca",
   "metadata": {},
   "outputs": [
    {
     "data": {
      "text/html": [
       "<div>\n",
       "<style scoped>\n",
       "    .dataframe tbody tr th:only-of-type {\n",
       "        vertical-align: middle;\n",
       "    }\n",
       "\n",
       "    .dataframe tbody tr th {\n",
       "        vertical-align: top;\n",
       "    }\n",
       "\n",
       "    .dataframe thead th {\n",
       "        text-align: right;\n",
       "    }\n",
       "</style>\n",
       "<table border=\"1\" class=\"dataframe\">\n",
       "  <thead>\n",
       "    <tr style=\"text-align: right;\">\n",
       "      <th></th>\n",
       "      <th>distance</th>\n",
       "      <th>consume</th>\n",
       "      <th>speed</th>\n",
       "      <th>temp_inside</th>\n",
       "      <th>temp_outside</th>\n",
       "      <th>specials</th>\n",
       "      <th>gas_type</th>\n",
       "      <th>AC</th>\n",
       "      <th>rain</th>\n",
       "      <th>sun</th>\n",
       "      <th>refill liters</th>\n",
       "      <th>refill gas</th>\n",
       "    </tr>\n",
       "  </thead>\n",
       "  <tbody>\n",
       "    <tr>\n",
       "      <th>0</th>\n",
       "      <td>28</td>\n",
       "      <td>5</td>\n",
       "      <td>26</td>\n",
       "      <td>21,5</td>\n",
       "      <td>12</td>\n",
       "      <td>NaN</td>\n",
       "      <td>E10</td>\n",
       "      <td>0</td>\n",
       "      <td>0</td>\n",
       "      <td>0</td>\n",
       "      <td>45</td>\n",
       "      <td>E10</td>\n",
       "    </tr>\n",
       "    <tr>\n",
       "      <th>1</th>\n",
       "      <td>12</td>\n",
       "      <td>4,2</td>\n",
       "      <td>30</td>\n",
       "      <td>21,5</td>\n",
       "      <td>13</td>\n",
       "      <td>NaN</td>\n",
       "      <td>E10</td>\n",
       "      <td>0</td>\n",
       "      <td>0</td>\n",
       "      <td>0</td>\n",
       "      <td>NaN</td>\n",
       "      <td>NaN</td>\n",
       "    </tr>\n",
       "    <tr>\n",
       "      <th>2</th>\n",
       "      <td>11,2</td>\n",
       "      <td>5,5</td>\n",
       "      <td>38</td>\n",
       "      <td>21,5</td>\n",
       "      <td>15</td>\n",
       "      <td>NaN</td>\n",
       "      <td>E10</td>\n",
       "      <td>0</td>\n",
       "      <td>0</td>\n",
       "      <td>0</td>\n",
       "      <td>NaN</td>\n",
       "      <td>NaN</td>\n",
       "    </tr>\n",
       "    <tr>\n",
       "      <th>3</th>\n",
       "      <td>12,9</td>\n",
       "      <td>3,9</td>\n",
       "      <td>36</td>\n",
       "      <td>21,5</td>\n",
       "      <td>14</td>\n",
       "      <td>NaN</td>\n",
       "      <td>E10</td>\n",
       "      <td>0</td>\n",
       "      <td>0</td>\n",
       "      <td>0</td>\n",
       "      <td>NaN</td>\n",
       "      <td>NaN</td>\n",
       "    </tr>\n",
       "    <tr>\n",
       "      <th>4</th>\n",
       "      <td>18,5</td>\n",
       "      <td>4,5</td>\n",
       "      <td>46</td>\n",
       "      <td>21,5</td>\n",
       "      <td>15</td>\n",
       "      <td>NaN</td>\n",
       "      <td>E10</td>\n",
       "      <td>0</td>\n",
       "      <td>0</td>\n",
       "      <td>0</td>\n",
       "      <td>NaN</td>\n",
       "      <td>NaN</td>\n",
       "    </tr>\n",
       "  </tbody>\n",
       "</table>\n",
       "</div>"
      ],
      "text/plain": [
       "  distance consume  speed temp_inside  temp_outside specials gas_type  AC  \\\n",
       "0       28       5     26        21,5            12      NaN      E10   0   \n",
       "1       12     4,2     30        21,5            13      NaN      E10   0   \n",
       "2     11,2     5,5     38        21,5            15      NaN      E10   0   \n",
       "3     12,9     3,9     36        21,5            14      NaN      E10   0   \n",
       "4     18,5     4,5     46        21,5            15      NaN      E10   0   \n",
       "\n",
       "   rain  sun refill liters refill gas  \n",
       "0     0    0            45        E10  \n",
       "1     0    0           NaN        NaN  \n",
       "2     0    0           NaN        NaN  \n",
       "3     0    0           NaN        NaN  \n",
       "4     0    0           NaN        NaN  "
      ]
     },
     "metadata": {},
     "output_type": "display_data"
    },
    {
     "data": {
      "text/plain": [
       "(388, 12)"
      ]
     },
     "metadata": {},
     "output_type": "display_data"
    }
   ],
   "source": [
    "# Excel file (main)\n",
    "data = pd.read_excel('./data/measurements2.xlsx')\n",
    "display(data2.head(),data2.shape)"
   ]
  },
  {
   "cell_type": "code",
   "execution_count": 5,
   "id": "87a80f1c",
   "metadata": {},
   "outputs": [],
   "source": [
    "# Standardize column's name\n",
    "data = data.rename(columns={'refill liters': 'refill_liters',\n",
    "                            'refill gas': 'refill_gas',\n",
    "                           'consume':'consume_100km'})"
   ]
  },
  {
   "cell_type": "markdown",
   "id": "03cf8b0c",
   "metadata": {},
   "source": [
    "#### Clean data"
   ]
  },
  {
   "cell_type": "code",
   "execution_count": 6,
   "id": "f27fa1cb",
   "metadata": {},
   "outputs": [
    {
     "name": "stdout",
     "output_type": "stream",
     "text": [
      "<class 'pandas.core.frame.DataFrame'>\n",
      "RangeIndex: 388 entries, 0 to 387\n",
      "Data columns (total 12 columns):\n",
      " #   Column         Non-Null Count  Dtype  \n",
      "---  ------         --------------  -----  \n",
      " 0   distance       388 non-null    float64\n",
      " 1   consume_100km  388 non-null    float64\n",
      " 2   speed          388 non-null    int64  \n",
      " 3   temp_inside    376 non-null    float64\n",
      " 4   temp_outside   388 non-null    int64  \n",
      " 5   specials       93 non-null     object \n",
      " 6   gas_type       388 non-null    object \n",
      " 7   AC             388 non-null    int64  \n",
      " 8   rain           388 non-null    int64  \n",
      " 9   sun            388 non-null    int64  \n",
      " 10  refill_liters  13 non-null     float64\n",
      " 11  refill_gas     13 non-null     object \n",
      "dtypes: float64(4), int64(5), object(3)\n",
      "memory usage: 36.5+ KB\n"
     ]
    }
   ],
   "source": [
    "# Check column types and null values in original dataframe\n",
    "data.info()"
   ]
  },
  {
   "cell_type": "code",
   "execution_count": 7,
   "id": "571e66aa",
   "metadata": {},
   "outputs": [],
   "source": [
    "# Change binary columns (AC, rain and sun) to categorical\n",
    "data['AC'] = data['AC'].astype('object')\n",
    "data['rain'] = data['rain'].astype('object')\n",
    "data['sun'] = data['sun'].astype('object')"
   ]
  },
  {
   "cell_type": "markdown",
   "id": "4aa80c22",
   "metadata": {},
   "source": [
    "##### Dealing with NaN values"
   ]
  },
  {
   "cell_type": "code",
   "execution_count": 8,
   "id": "6c8c0344",
   "metadata": {},
   "outputs": [
    {
     "data": {
      "text/plain": [
       "distance           0\n",
       "consume_100km      0\n",
       "speed              0\n",
       "temp_inside       12\n",
       "temp_outside       0\n",
       "specials         295\n",
       "gas_type           0\n",
       "AC                 0\n",
       "rain               0\n",
       "sun                0\n",
       "refill_liters    375\n",
       "refill_gas       375\n",
       "dtype: int64"
      ]
     },
     "execution_count": 8,
     "metadata": {},
     "output_type": "execute_result"
    }
   ],
   "source": [
    "# Look for NaN values\n",
    "data.isna().sum()"
   ]
  },
  {
   "cell_type": "markdown",
   "id": "d53d9b88",
   "metadata": {},
   "source": [
    "- temp_inside"
   ]
  },
  {
   "cell_type": "code",
   "execution_count": 9,
   "id": "6abd857e",
   "metadata": {},
   "outputs": [
    {
     "data": {
      "text/plain": [
       "21.5    133\n",
       "22.0    102\n",
       "22.5     59\n",
       "20.0     25\n",
       "21.0     13\n",
       "23.0     13\n",
       "NaN      12\n",
       "25.0     12\n",
       "24.5      7\n",
       "20.5      4\n",
       "24.0      3\n",
       "23.5      2\n",
       "25.5      2\n",
       "19.0      1\n",
       "Name: temp_inside, dtype: int64"
      ]
     },
     "execution_count": 9,
     "metadata": {},
     "output_type": "execute_result"
    }
   ],
   "source": [
    "data['temp_inside'].value_counts(dropna=False)"
   ]
  },
  {
   "cell_type": "code",
   "execution_count": 10,
   "id": "d2e1037f",
   "metadata": {},
   "outputs": [
    {
     "data": {
      "text/plain": [
       "count    376.000000\n",
       "mean      21.929521\n",
       "std        1.010455\n",
       "min       19.000000\n",
       "25%       21.500000\n",
       "50%       22.000000\n",
       "75%       22.500000\n",
       "max       25.500000\n",
       "Name: temp_inside, dtype: float64"
      ]
     },
     "execution_count": 10,
     "metadata": {},
     "output_type": "execute_result"
    }
   ],
   "source": [
    "# Temp_inside stats\n",
    "data['temp_inside'].describe()"
   ]
  },
  {
   "cell_type": "code",
   "execution_count": 11,
   "id": "74c865ee",
   "metadata": {},
   "outputs": [
    {
     "data": {
      "image/png": "[encoded data removed]",
      "text/plain": [
       "<Figure size 640x480 with 1 Axes>"
      ]
     },
     "metadata": {},
     "output_type": "display_data"
    }
   ],
   "source": [
    "# Compute frequency counts of 'temp_inside' column\n",
    "temp_counts = data['temp_inside'].value_counts().sort_index()\n",
    "\n",
    "# Create bar plot of frequency counts\n",
    "temp_counts.plot(kind='bar')\n",
    "\n",
    "# Add axis labels and title\n",
    "plt.xlabel('Temperature (C)')\n",
    "plt.ylabel('Count')\n",
    "plt.title('Frequency of Temperature Inside the Car')\n",
    "\n",
    "# Display the plot\n",
    "plt.show()"
   ]
  },
  {
   "cell_type": "code",
   "execution_count": 12,
   "id": "cfcb5bce",
   "metadata": {},
   "outputs": [],
   "source": [
    "# Replace NaN values with the median\n",
    "data['temp_inside'].fillna(data['temp_inside'].median(), inplace=True)"
   ]
  },
  {
   "cell_type": "markdown",
   "id": "bdea4780",
   "metadata": {},
   "source": [
    "- specials"
   ]
  },
  {
   "cell_type": "code",
   "execution_count": 13,
   "id": "78c75a62",
   "metadata": {},
   "outputs": [
    {
     "data": {
      "text/plain": [
       "NaN                   295\n",
       "rain                   32\n",
       "sun                    27\n",
       "AC rain                 9\n",
       "ac                      8\n",
       "AC                      6\n",
       "snow                    3\n",
       "sun ac                  3\n",
       "AC snow                 1\n",
       "half rain half sun      1\n",
       "AC sun                  1\n",
       "AC Sun                  1\n",
       "ac rain                 1\n",
       "Name: specials, dtype: int64"
      ]
     },
     "execution_count": 13,
     "metadata": {},
     "output_type": "execute_result"
    }
   ],
   "source": [
    "data['specials'].value_counts(dropna=False)"
   ]
  },
  {
   "cell_type": "code",
   "execution_count": 14,
   "id": "4770e73c",
   "metadata": {},
   "outputs": [
    {
     "data": {
      "text/plain": [
       "0    384\n",
       "1      4\n",
       "Name: snow, dtype: int64"
      ]
     },
     "execution_count": 14,
     "metadata": {},
     "output_type": "execute_result"
    }
   ],
   "source": [
    "# Create new column 'snow'\n",
    "data['snow'] = np.where((data['specials'] == 'snow') | (data['specials'] == 'AC snow'), 1, 0)\n",
    "data['snow'].value_counts()"
   ]
  },
  {
   "cell_type": "markdown",
   "id": "be36e839",
   "metadata": {},
   "source": [
    "- refill_gas"
   ]
  },
  {
   "cell_type": "code",
   "execution_count": 15,
   "id": "491dcfd4",
   "metadata": {},
   "outputs": [
    {
     "data": {
      "text/plain": [
       "NaN     375\n",
       "SP98      8\n",
       "E10       5\n",
       "Name: refill_gas, dtype: int64"
      ]
     },
     "execution_count": 15,
     "metadata": {},
     "output_type": "execute_result"
    }
   ],
   "source": [
    "data['refill_gas'].value_counts(dropna=False)"
   ]
  },
  {
   "cell_type": "code",
   "execution_count": 16,
   "id": "af737ba2",
   "metadata": {},
   "outputs": [
    {
     "name": "stdout",
     "output_type": "stream",
     "text": [
      "Percentage of NaN values in 'refill_gas' column: 96.65%\n"
     ]
    }
   ],
   "source": [
    "percent_nan = round(data['refill_gas'].isna().sum() / len(data['refill_gas']) * 100, 2)\n",
    "print(f\"Percentage of NaN values in 'refill_gas' column: {percent_nan}%\")"
   ]
  },
  {
   "cell_type": "code",
   "execution_count": 17,
   "id": "afa16e31",
   "metadata": {},
   "outputs": [
    {
     "data": {
      "text/plain": [
       "(388, 11)"
      ]
     },
     "execution_count": 17,
     "metadata": {},
     "output_type": "execute_result"
    }
   ],
   "source": [
    "# Delete 'specials' and 'refill_gas' (same information as gas type and too many NaN values)\n",
    "data = data.drop(['specials','refill_gas'], axis = 1)\n",
    "data.shape"
   ]
  },
  {
   "cell_type": "markdown",
   "id": "95c0f4c1",
   "metadata": {},
   "source": [
    "- refill_liters"
   ]
  },
  {
   "cell_type": "code",
   "execution_count": 18,
   "id": "f3b39e1f",
   "metadata": {},
   "outputs": [
    {
     "data": {
      "text/plain": [
       "NaN     375\n",
       "45.0      2\n",
       "37.7      2\n",
       "39.0      2\n",
       "37.6      1\n",
       "38.0      1\n",
       "38.3      1\n",
       "10.0      1\n",
       "41.0      1\n",
       "37.0      1\n",
       "37.2      1\n",
       "Name: refill_liters, dtype: int64"
      ]
     },
     "execution_count": 18,
     "metadata": {},
     "output_type": "execute_result"
    }
   ],
   "source": [
    "data['refill_liters'].value_counts(dropna=False)"
   ]
  },
  {
   "cell_type": "code",
   "execution_count": 19,
   "id": "9622cb74",
   "metadata": {},
   "outputs": [
    {
     "name": "stdout",
     "output_type": "stream",
     "text": [
      "Percentage of NaN values in 'refill_liters' column: 96.65%\n"
     ]
    }
   ],
   "source": [
    "percent_nan = round(data['refill_liters'].isna().sum() / len(data['refill_liters']) * 100, 2)\n",
    "print(f\"Percentage of NaN values in 'refill_liters' column: {percent_nan}%\")"
   ]
  },
  {
   "cell_type": "code",
   "execution_count": 20,
   "id": "05603aa9",
   "metadata": {},
   "outputs": [],
   "source": [
    "# Drop 'refill_liters' as there are too many NaN values\n",
    "data = data.drop(['refill_liters'],axis=1)"
   ]
  },
  {
   "cell_type": "markdown",
   "id": "a769306e",
   "metadata": {},
   "source": [
    "##### Adding extra columns"
   ]
  },
  {
   "cell_type": "code",
   "execution_count": 21,
   "id": "70761894",
   "metadata": {},
   "outputs": [
    {
     "data": {
      "text/plain": [
       "0    1.4000\n",
       "1    0.5040\n",
       "2    0.6160\n",
       "3    0.5031\n",
       "4    0.8325\n",
       "Name: consume_real, dtype: float64"
      ]
     },
     "execution_count": 21,
     "metadata": {},
     "output_type": "execute_result"
    }
   ],
   "source": [
    "# New column to calculate actual consume per ride\n",
    "data['consume_real'] = (data['consume_100km']/100)*data['distance']\n",
    "data['consume_real'].head()"
   ]
  },
  {
   "cell_type": "code",
   "execution_count": 22,
   "id": "7aea42be",
   "metadata": {},
   "outputs": [
    {
     "data": {
      "text/plain": [
       "0    1.932000\n",
       "1    0.695520\n",
       "2    0.850080\n",
       "3    0.694278\n",
       "4    1.148850\n",
       "Name: cost_real, dtype: float64"
      ]
     },
     "execution_count": 22,
     "metadata": {},
     "output_type": "execute_result"
    }
   ],
   "source": [
    "# New column to calculate actual cost per ride\n",
    "data['cost_real'] = np.where(data['gas_type']=='E10', data['consume_real']*1.38, data['consume_real']*1.46)\n",
    "data['cost_real'].head()"
   ]
  },
  {
   "cell_type": "code",
   "execution_count": 23,
   "id": "efa92c9f",
   "metadata": {},
   "outputs": [],
   "source": [
    "# Rearrange columns\n",
    "data = data[['distance','consume_100km', 'consume_real','gas_type','cost_real',\n",
    "             'speed', 'temp_inside', 'temp_outside', 'AC', 'sun','rain', 'snow']]\n",
    "#data.head(10)"
   ]
  },
  {
   "cell_type": "markdown",
   "id": "814e486b",
   "metadata": {},
   "source": [
    "## Exploratory Data Analysis"
   ]
  },
  {
   "cell_type": "code",
   "execution_count": 24,
   "id": "53c183bf",
   "metadata": {},
   "outputs": [
    {
     "data": {
      "text/html": [
       "<div>\n",
       "<style scoped>\n",
       "    .dataframe tbody tr th:only-of-type {\n",
       "        vertical-align: middle;\n",
       "    }\n",
       "\n",
       "    .dataframe tbody tr th {\n",
       "        vertical-align: top;\n",
       "    }\n",
       "\n",
       "    .dataframe thead th {\n",
       "        text-align: right;\n",
       "    }\n",
       "</style>\n",
       "<table border=\"1\" class=\"dataframe\">\n",
       "  <thead>\n",
       "    <tr style=\"text-align: right;\">\n",
       "      <th></th>\n",
       "      <th>distance</th>\n",
       "      <th>consume_100km</th>\n",
       "      <th>consume_real</th>\n",
       "      <th>gas_type</th>\n",
       "      <th>cost_real</th>\n",
       "      <th>speed</th>\n",
       "      <th>temp_inside</th>\n",
       "      <th>temp_outside</th>\n",
       "      <th>AC</th>\n",
       "      <th>sun</th>\n",
       "      <th>rain</th>\n",
       "      <th>snow</th>\n",
       "    </tr>\n",
       "  </thead>\n",
       "  <tbody>\n",
       "    <tr>\n",
       "      <th>0</th>\n",
       "      <td>28.0</td>\n",
       "      <td>5.0</td>\n",
       "      <td>1.4000</td>\n",
       "      <td>E10</td>\n",
       "      <td>1.932000</td>\n",
       "      <td>26</td>\n",
       "      <td>21.5</td>\n",
       "      <td>12</td>\n",
       "      <td>0</td>\n",
       "      <td>0</td>\n",
       "      <td>0</td>\n",
       "      <td>0</td>\n",
       "    </tr>\n",
       "    <tr>\n",
       "      <th>1</th>\n",
       "      <td>12.0</td>\n",
       "      <td>4.2</td>\n",
       "      <td>0.5040</td>\n",
       "      <td>E10</td>\n",
       "      <td>0.695520</td>\n",
       "      <td>30</td>\n",
       "      <td>21.5</td>\n",
       "      <td>13</td>\n",
       "      <td>0</td>\n",
       "      <td>0</td>\n",
       "      <td>0</td>\n",
       "      <td>0</td>\n",
       "    </tr>\n",
       "    <tr>\n",
       "      <th>2</th>\n",
       "      <td>11.2</td>\n",
       "      <td>5.5</td>\n",
       "      <td>0.6160</td>\n",
       "      <td>E10</td>\n",
       "      <td>0.850080</td>\n",
       "      <td>38</td>\n",
       "      <td>21.5</td>\n",
       "      <td>15</td>\n",
       "      <td>0</td>\n",
       "      <td>0</td>\n",
       "      <td>0</td>\n",
       "      <td>0</td>\n",
       "    </tr>\n",
       "    <tr>\n",
       "      <th>3</th>\n",
       "      <td>12.9</td>\n",
       "      <td>3.9</td>\n",
       "      <td>0.5031</td>\n",
       "      <td>E10</td>\n",
       "      <td>0.694278</td>\n",
       "      <td>36</td>\n",
       "      <td>21.5</td>\n",
       "      <td>14</td>\n",
       "      <td>0</td>\n",
       "      <td>0</td>\n",
       "      <td>0</td>\n",
       "      <td>0</td>\n",
       "    </tr>\n",
       "    <tr>\n",
       "      <th>4</th>\n",
       "      <td>18.5</td>\n",
       "      <td>4.5</td>\n",
       "      <td>0.8325</td>\n",
       "      <td>E10</td>\n",
       "      <td>1.148850</td>\n",
       "      <td>46</td>\n",
       "      <td>21.5</td>\n",
       "      <td>15</td>\n",
       "      <td>0</td>\n",
       "      <td>0</td>\n",
       "      <td>0</td>\n",
       "      <td>0</td>\n",
       "    </tr>\n",
       "    <tr>\n",
       "      <th>...</th>\n",
       "      <td>...</td>\n",
       "      <td>...</td>\n",
       "      <td>...</td>\n",
       "      <td>...</td>\n",
       "      <td>...</td>\n",
       "      <td>...</td>\n",
       "      <td>...</td>\n",
       "      <td>...</td>\n",
       "      <td>...</td>\n",
       "      <td>...</td>\n",
       "      <td>...</td>\n",
       "      <td>...</td>\n",
       "    </tr>\n",
       "    <tr>\n",
       "      <th>383</th>\n",
       "      <td>16.0</td>\n",
       "      <td>3.7</td>\n",
       "      <td>0.5920</td>\n",
       "      <td>SP98</td>\n",
       "      <td>0.864320</td>\n",
       "      <td>39</td>\n",
       "      <td>24.5</td>\n",
       "      <td>18</td>\n",
       "      <td>0</td>\n",
       "      <td>0</td>\n",
       "      <td>0</td>\n",
       "      <td>0</td>\n",
       "    </tr>\n",
       "    <tr>\n",
       "      <th>384</th>\n",
       "      <td>16.1</td>\n",
       "      <td>4.3</td>\n",
       "      <td>0.6923</td>\n",
       "      <td>SP98</td>\n",
       "      <td>1.010758</td>\n",
       "      <td>38</td>\n",
       "      <td>25.0</td>\n",
       "      <td>31</td>\n",
       "      <td>1</td>\n",
       "      <td>0</td>\n",
       "      <td>0</td>\n",
       "      <td>0</td>\n",
       "    </tr>\n",
       "    <tr>\n",
       "      <th>385</th>\n",
       "      <td>16.0</td>\n",
       "      <td>3.8</td>\n",
       "      <td>0.6080</td>\n",
       "      <td>SP98</td>\n",
       "      <td>0.887680</td>\n",
       "      <td>45</td>\n",
       "      <td>25.0</td>\n",
       "      <td>19</td>\n",
       "      <td>0</td>\n",
       "      <td>0</td>\n",
       "      <td>0</td>\n",
       "      <td>0</td>\n",
       "    </tr>\n",
       "    <tr>\n",
       "      <th>386</th>\n",
       "      <td>15.4</td>\n",
       "      <td>4.6</td>\n",
       "      <td>0.7084</td>\n",
       "      <td>SP98</td>\n",
       "      <td>1.034264</td>\n",
       "      <td>42</td>\n",
       "      <td>25.0</td>\n",
       "      <td>31</td>\n",
       "      <td>1</td>\n",
       "      <td>0</td>\n",
       "      <td>0</td>\n",
       "      <td>0</td>\n",
       "    </tr>\n",
       "    <tr>\n",
       "      <th>387</th>\n",
       "      <td>14.7</td>\n",
       "      <td>5.0</td>\n",
       "      <td>0.7350</td>\n",
       "      <td>SP98</td>\n",
       "      <td>1.073100</td>\n",
       "      <td>25</td>\n",
       "      <td>25.0</td>\n",
       "      <td>30</td>\n",
       "      <td>1</td>\n",
       "      <td>0</td>\n",
       "      <td>0</td>\n",
       "      <td>0</td>\n",
       "    </tr>\n",
       "  </tbody>\n",
       "</table>\n",
       "<p>388 rows × 12 columns</p>\n",
       "</div>"
      ],
      "text/plain": [
       "     distance  consume_100km  consume_real gas_type  cost_real  speed  \\\n",
       "0        28.0            5.0        1.4000      E10   1.932000     26   \n",
       "1        12.0            4.2        0.5040      E10   0.695520     30   \n",
       "2        11.2            5.5        0.6160      E10   0.850080     38   \n",
       "3        12.9            3.9        0.5031      E10   0.694278     36   \n",
       "4        18.5            4.5        0.8325      E10   1.148850     46   \n",
       "..        ...            ...           ...      ...        ...    ...   \n",
       "383      16.0            3.7        0.5920     SP98   0.864320     39   \n",
       "384      16.1            4.3        0.6923     SP98   1.010758     38   \n",
       "385      16.0            3.8        0.6080     SP98   0.887680     45   \n",
       "386      15.4            4.6        0.7084     SP98   1.034264     42   \n",
       "387      14.7            5.0        0.7350     SP98   1.073100     25   \n",
       "\n",
       "     temp_inside  temp_outside AC sun rain  snow  \n",
       "0           21.5            12  0   0    0     0  \n",
       "1           21.5            13  0   0    0     0  \n",
       "2           21.5            15  0   0    0     0  \n",
       "3           21.5            14  0   0    0     0  \n",
       "4           21.5            15  0   0    0     0  \n",
       "..           ...           ... ..  ..  ...   ...  \n",
       "383         24.5            18  0   0    0     0  \n",
       "384         25.0            31  1   0    0     0  \n",
       "385         25.0            19  0   0    0     0  \n",
       "386         25.0            31  1   0    0     0  \n",
       "387         25.0            30  1   0    0     0  \n",
       "\n",
       "[388 rows x 12 columns]"
      ]
     },
     "execution_count": 24,
     "metadata": {},
     "output_type": "execute_result"
    }
   ],
   "source": [
    "data"
   ]
  },
  {
   "cell_type": "markdown",
   "id": "c9524aad",
   "metadata": {},
   "source": [
    "General consume per type of gas:"
   ]
  },
  {
   "cell_type": "code",
   "execution_count": 25,
   "id": "a5e9c1ea",
   "metadata": {},
   "outputs": [
    {
     "data": {
      "text/html": [
       "<div>\n",
       "<style scoped>\n",
       "    .dataframe tbody tr th:only-of-type {\n",
       "        vertical-align: middle;\n",
       "    }\n",
       "\n",
       "    .dataframe tbody tr th {\n",
       "        vertical-align: top;\n",
       "    }\n",
       "\n",
       "    .dataframe thead th {\n",
       "        text-align: right;\n",
       "    }\n",
       "</style>\n",
       "<table border=\"1\" class=\"dataframe\">\n",
       "  <thead>\n",
       "    <tr style=\"text-align: right;\">\n",
       "      <th>gas_type</th>\n",
       "      <th>E10</th>\n",
       "      <th>SP98</th>\n",
       "      <th>difference</th>\n",
       "    </tr>\n",
       "  </thead>\n",
       "  <tbody>\n",
       "    <tr>\n",
       "      <th>consume_100km</th>\n",
       "      <td>4.931250</td>\n",
       "      <td>4.899123</td>\n",
       "      <td>0.032127</td>\n",
       "    </tr>\n",
       "    <tr>\n",
       "      <th>consume_real</th>\n",
       "      <td>1.008933</td>\n",
       "      <td>0.883618</td>\n",
       "      <td>0.125314</td>\n",
       "    </tr>\n",
       "  </tbody>\n",
       "</table>\n",
       "</div>"
      ],
      "text/plain": [
       "gas_type            E10      SP98  difference\n",
       "consume_100km  4.931250  4.899123    0.032127\n",
       "consume_real   1.008933  0.883618    0.125314"
      ]
     },
     "execution_count": 25,
     "metadata": {},
     "output_type": "execute_result"
    }
   ],
   "source": [
    "# Calculate mean difference for each gas type\n",
    "means = data.groupby('gas_type')[['consume_100km', 'consume_real']].mean()\n",
    "\n",
    "# Calculate difference between E10 and SP98\n",
    "difference = means.loc['E10'] - means.loc['SP98']\n",
    "\n",
    "# Add difference as new row\n",
    "means.loc['difference'] = difference\n",
    "\n",
    "# Transpose DataFrame (rows to columns)\n",
    "means = means.T\n",
    "\n",
    "means"
   ]
  },
  {
   "cell_type": "markdown",
   "id": "05abf4ab",
   "metadata": {},
   "source": [
    "E10 gas is less efficient than SP98."
   ]
  },
  {
   "cell_type": "code",
   "execution_count": null,
   "id": "1500312d",
   "metadata": {},
   "outputs": [],
   "source": []
  },
  {
   "cell_type": "markdown",
   "id": "c3950ccb",
   "metadata": {},
   "source": [
    "General consume by type of gas and distance and speed"
   ]
  },
  {
   "cell_type": "code",
   "execution_count": 26,
   "id": "3f0ab301",
   "metadata": {},
   "outputs": [
    {
     "data": {
      "image/png": "[encoded data removed]",
      "text/plain": [
       "<Figure size 1000x800 with 4 Axes>"
      ]
     },
     "metadata": {},
     "output_type": "display_data"
    }
   ],
   "source": [
    "# Figure and subplots\n",
    "fig, ((ax1, ax2), (ax3, ax4)) = plt.subplots(2, 2, figsize=(10, 8))\n",
    "\n",
    "# Scatter plot of consume_100km by distance on first E10 subplot with blue color\n",
    "ax1.scatter(data[data['gas_type']=='E10']['distance'], data[data['gas_type']=='E10']['consume_100km'], color='blue')\n",
    "ax1.axhline(y=data[data['gas_type']=='E10']['consume_100km'].mean(), color='green', linestyle='--')\n",
    "ax1.set_xlabel('Distance')\n",
    "ax1.set_ylabel('Consume_100km')\n",
    "ax1.set_title('Consume_100km by Distance for Gas Type E10')\n",
    "\n",
    "# Scatter plot of consume_100km by speed on second E10 subplot with red color\n",
    "ax2.scatter(data[data['gas_type']=='E10']['speed'], data[data['gas_type']=='E10']['consume_100km'], color='red')\n",
    "ax2.axhline(y=data[data['gas_type']=='E10']['consume_100km'].mean(), color='green', linestyle='--')\n",
    "ax2.set_xlabel('Speed')\n",
    "ax2.set_ylabel('Consume_100km')\n",
    "ax2.set_title('Consume_100km by Speed for Gas Type E10')\n",
    "\n",
    "# Scatter plot of consume_100km by distance on first SP98 subplot with blue color\n",
    "ax3.scatter(data[data['gas_type']=='SP98']['distance'], data[data['gas_type']=='SP98']['consume_100km'], color='blue')\n",
    "ax3.axhline(y=data[data['gas_type']=='SP98']['consume_100km'].mean(), color='green', linestyle='--')\n",
    "ax3.set_xlabel('Distance')\n",
    "ax3.set_ylabel('Consume_100km')\n",
    "ax3.set_title('Consume_100km by Distance for Gas Type SP98')\n",
    "\n",
    "# Scatter plot of consume_100km by speed on second SP98 subplot with red color\n",
    "ax4.scatter(data[data['gas_type']=='SP98']['speed'], data[data['gas_type']=='SP98']['consume_100km'], color='red')\n",
    "ax4.axhline(y=data[data['gas_type']=='SP98']['consume_100km'].mean(), color='green', linestyle='--')\n",
    "ax4.set_xlabel('Speed')\n",
    "ax4.set_ylabel('Consume_100km')\n",
    "ax4.set_title('Consume_100km by Speed for Gas Type SP98')\n",
    "\n",
    "# Add title to figure\n",
    "fig.suptitle('Scatter Plots of Consume_100km by Distance and Speed for Gas Types E10 and SP98')\n",
    "\n",
    "# Adjust spacing between subplots\n",
    "plt.subplots_adjust(wspace=0.3, hspace=0.4)\n",
    "\n",
    "plt.show()\n"
   ]
  },
  {
   "cell_type": "markdown",
   "id": "1bb106b7",
   "metadata": {},
   "source": [
    "General consume by gas_type with and without AC"
   ]
  },
  {
   "cell_type": "code",
   "execution_count": 27,
   "id": "41f3b914",
   "metadata": {},
   "outputs": [
    {
     "data": {
      "text/plain": [
       "AC  gas_type\n",
       "0   E10         4.922876\n",
       "    SP98        4.854146\n",
       "1   E10         5.114286\n",
       "    SP98        5.300000\n",
       "Name: consume_100km, dtype: float64"
      ]
     },
     "execution_count": 27,
     "metadata": {},
     "output_type": "execute_result"
    }
   ],
   "source": [
    "ac_gas_mean = data.groupby(['AC', 'gas_type'])['consume_100km'].mean()\n",
    "ac_gas_mean"
   ]
  },
  {
   "cell_type": "code",
   "execution_count": 28,
   "id": "089ba4bd",
   "metadata": {},
   "outputs": [
    {
     "data": {
      "image/png": "[encoded data removed]",
      "text/plain": [
       "<Figure size 640x480 with 1 Axes>"
      ]
     },
     "metadata": {},
     "output_type": "display_data"
    }
   ],
   "source": [
    "# Pivot the hierarchical index so that AC becomes the columns\n",
    "ac_gas_mean = ac_gas_mean.unstack(level=1)\n",
    "\n",
    "# Create the bar plot\n",
    "ax = ac_gas_mean.plot(kind='bar', rot=0, width=0.4)\n",
    "\n",
    "# Set the axis labels and title\n",
    "ax.set_xlabel('AC')\n",
    "ax.set_ylabel('Fuel Consumption (L/100km)')\n",
    "ax.set_title('Mean Fuel Consumption per Gas Type with AC On/Off')\n",
    "\n",
    "# Set the legend labels\n",
    "ax.legend(['E10', 'SP98'])\n",
    "\n",
    "# Set the x-axis tick labels\n",
    "ax.set_xticklabels(['No AC', 'AC'])\n",
    "\n",
    "ax.set_xticks(range(len(ac_gas_mean.columns)))\n",
    "\n",
    "\n",
    "plt.show()\n"
   ]
  },
  {
   "cell_type": "markdown",
   "id": "56a2c193",
   "metadata": {},
   "source": [
    "SP98 has a lower consume only when the ride is without AC "
   ]
  },
  {
   "cell_type": "code",
   "execution_count": null,
   "id": "b6ad6145",
   "metadata": {},
   "outputs": [],
   "source": []
  },
  {
   "cell_type": "code",
   "execution_count": 29,
   "id": "c8d7efe9",
   "metadata": {},
   "outputs": [
    {
     "data": {
      "text/plain": [
       "distance         float64\n",
       "consume_100km    float64\n",
       "consume_real     float64\n",
       "gas_type          object\n",
       "cost_real        float64\n",
       "speed              int64\n",
       "temp_inside      float64\n",
       "temp_outside       int64\n",
       "AC                object\n",
       "sun               object\n",
       "rain              object\n",
       "snow               int64\n",
       "dtype: object"
      ]
     },
     "execution_count": 29,
     "metadata": {},
     "output_type": "execute_result"
    }
   ],
   "source": [
    "data.dtypes"
   ]
  },
  {
   "cell_type": "markdown",
   "id": "77aa4132",
   "metadata": {},
   "source": [
    "#### Numerical Data"
   ]
  },
  {
   "cell_type": "code",
   "execution_count": 30,
   "id": "f9f3fec1",
   "metadata": {},
   "outputs": [
    {
     "data": {
      "text/html": [
       "<div>\n",
       "<style scoped>\n",
       "    .dataframe tbody tr th:only-of-type {\n",
       "        vertical-align: middle;\n",
       "    }\n",
       "\n",
       "    .dataframe tbody tr th {\n",
       "        vertical-align: top;\n",
       "    }\n",
       "\n",
       "    .dataframe thead th {\n",
       "        text-align: right;\n",
       "    }\n",
       "</style>\n",
       "<table border=\"1\" class=\"dataframe\">\n",
       "  <thead>\n",
       "    <tr style=\"text-align: right;\">\n",
       "      <th></th>\n",
       "      <th>distance</th>\n",
       "      <th>consume_100km</th>\n",
       "      <th>consume_real</th>\n",
       "      <th>cost_real</th>\n",
       "      <th>speed</th>\n",
       "      <th>temp_inside</th>\n",
       "      <th>temp_outside</th>\n",
       "      <th>snow</th>\n",
       "    </tr>\n",
       "  </thead>\n",
       "  <tbody>\n",
       "    <tr>\n",
       "      <th>count</th>\n",
       "      <td>388.000000</td>\n",
       "      <td>388.000000</td>\n",
       "      <td>388.000000</td>\n",
       "      <td>388.000000</td>\n",
       "      <td>388.000000</td>\n",
       "      <td>388.000000</td>\n",
       "      <td>388.000000</td>\n",
       "      <td>388.000000</td>\n",
       "    </tr>\n",
       "    <tr>\n",
       "      <th>mean</th>\n",
       "      <td>19.652835</td>\n",
       "      <td>4.912371</td>\n",
       "      <td>0.935294</td>\n",
       "      <td>1.332245</td>\n",
       "      <td>41.927835</td>\n",
       "      <td>21.931701</td>\n",
       "      <td>11.358247</td>\n",
       "      <td>0.010309</td>\n",
       "    </tr>\n",
       "    <tr>\n",
       "      <th>std</th>\n",
       "      <td>22.667837</td>\n",
       "      <td>1.033172</td>\n",
       "      <td>1.115967</td>\n",
       "      <td>1.601124</td>\n",
       "      <td>13.598524</td>\n",
       "      <td>0.994741</td>\n",
       "      <td>6.991542</td>\n",
       "      <td>0.101140</td>\n",
       "    </tr>\n",
       "    <tr>\n",
       "      <th>min</th>\n",
       "      <td>1.300000</td>\n",
       "      <td>3.300000</td>\n",
       "      <td>0.120000</td>\n",
       "      <td>0.165600</td>\n",
       "      <td>14.000000</td>\n",
       "      <td>19.000000</td>\n",
       "      <td>-5.000000</td>\n",
       "      <td>0.000000</td>\n",
       "    </tr>\n",
       "    <tr>\n",
       "      <th>25%</th>\n",
       "      <td>11.800000</td>\n",
       "      <td>4.300000</td>\n",
       "      <td>0.551650</td>\n",
       "      <td>0.780550</td>\n",
       "      <td>32.750000</td>\n",
       "      <td>21.500000</td>\n",
       "      <td>7.000000</td>\n",
       "      <td>0.000000</td>\n",
       "    </tr>\n",
       "    <tr>\n",
       "      <th>50%</th>\n",
       "      <td>14.600000</td>\n",
       "      <td>4.700000</td>\n",
       "      <td>0.680600</td>\n",
       "      <td>0.964800</td>\n",
       "      <td>40.500000</td>\n",
       "      <td>22.000000</td>\n",
       "      <td>10.000000</td>\n",
       "      <td>0.000000</td>\n",
       "    </tr>\n",
       "    <tr>\n",
       "      <th>75%</th>\n",
       "      <td>19.000000</td>\n",
       "      <td>5.300000</td>\n",
       "      <td>0.916500</td>\n",
       "      <td>1.301350</td>\n",
       "      <td>50.000000</td>\n",
       "      <td>22.500000</td>\n",
       "      <td>16.000000</td>\n",
       "      <td>0.000000</td>\n",
       "    </tr>\n",
       "    <tr>\n",
       "      <th>max</th>\n",
       "      <td>216.100000</td>\n",
       "      <td>12.200000</td>\n",
       "      <td>11.453300</td>\n",
       "      <td>16.721818</td>\n",
       "      <td>90.000000</td>\n",
       "      <td>25.500000</td>\n",
       "      <td>31.000000</td>\n",
       "      <td>1.000000</td>\n",
       "    </tr>\n",
       "  </tbody>\n",
       "</table>\n",
       "</div>"
      ],
      "text/plain": [
       "         distance  consume_100km  consume_real   cost_real       speed  \\\n",
       "count  388.000000     388.000000    388.000000  388.000000  388.000000   \n",
       "mean    19.652835       4.912371      0.935294    1.332245   41.927835   \n",
       "std     22.667837       1.033172      1.115967    1.601124   13.598524   \n",
       "min      1.300000       3.300000      0.120000    0.165600   14.000000   \n",
       "25%     11.800000       4.300000      0.551650    0.780550   32.750000   \n",
       "50%     14.600000       4.700000      0.680600    0.964800   40.500000   \n",
       "75%     19.000000       5.300000      0.916500    1.301350   50.000000   \n",
       "max    216.100000      12.200000     11.453300   16.721818   90.000000   \n",
       "\n",
       "       temp_inside  temp_outside        snow  \n",
       "count   388.000000    388.000000  388.000000  \n",
       "mean     21.931701     11.358247    0.010309  \n",
       "std       0.994741      6.991542    0.101140  \n",
       "min      19.000000     -5.000000    0.000000  \n",
       "25%      21.500000      7.000000    0.000000  \n",
       "50%      22.000000     10.000000    0.000000  \n",
       "75%      22.500000     16.000000    0.000000  \n",
       "max      25.500000     31.000000    1.000000  "
      ]
     },
     "metadata": {},
     "output_type": "display_data"
    },
    {
     "data": {
      "text/plain": [
       "(388, 8)"
      ]
     },
     "metadata": {},
     "output_type": "display_data"
    }
   ],
   "source": [
    "# Check numerical data\n",
    "numerical = data.select_dtypes(include = np.number)\n",
    "display(numerical.describe(), numerical.shape)"
   ]
  },
  {
   "cell_type": "code",
   "execution_count": 31,
   "id": "d2f31939",
   "metadata": {
    "scrolled": true
   },
   "outputs": [
    {
     "data": {
      "text/plain": [
       "<AxesSubplot:>"
      ]
     },
     "execution_count": 31,
     "metadata": {},
     "output_type": "execute_result"
    },
    {
     "data": {
      "image/png": "[encoded data removed]",
      "text/plain": [
       "<Figure size 640x480 with 2 Axes>"
      ]
     },
     "metadata": {},
     "output_type": "display_data"
    }
   ],
   "source": [
    "# Correlation matrix\n",
    "corr_matrix = numerical.corr()\n",
    "\n",
    "# Heatmap\n",
    "sns.heatmap(corr_matrix, annot=True, cmap='coolwarm')"
   ]
  },
  {
   "cell_type": "markdown",
   "id": "b1c119dc",
   "metadata": {},
   "source": [
    "As expected, aggregated features (consume_real and cost_real) must be drop before modelling as they have too much colinearity. However, none of the other features show any strong correlation."
   ]
  },
  {
   "cell_type": "code",
   "execution_count": null,
   "id": "d2868e93",
   "metadata": {},
   "outputs": [],
   "source": []
  },
  {
   "cell_type": "markdown",
   "id": "b31f9366",
   "metadata": {},
   "source": [
    "#### Categorical data"
   ]
  },
  {
   "cell_type": "code",
   "execution_count": 32,
   "id": "539e02ae",
   "metadata": {},
   "outputs": [
    {
     "data": {
      "text/plain": [
       "(388, 4)"
      ]
     },
     "execution_count": 32,
     "metadata": {},
     "output_type": "execute_result"
    }
   ],
   "source": [
    "categorical = data.select_dtypes(include='object')\n",
    "categorical.shape"
   ]
  },
  {
   "cell_type": "code",
   "execution_count": 33,
   "id": "249d0e85",
   "metadata": {},
   "outputs": [
    {
     "name": "stdout",
     "output_type": "stream",
     "text": [
      "SP98    228\n",
      "E10     160\n",
      "Name: gas_type, dtype: int64\n",
      "0    358\n",
      "1     30\n",
      "Name: AC, dtype: int64\n",
      "0    356\n",
      "1     32\n",
      "Name: sun, dtype: int64\n",
      "0    340\n",
      "1     48\n",
      "Name: rain, dtype: int64\n"
     ]
    }
   ],
   "source": [
    "for col in categorical.columns:\n",
    "    print(data[col].value_counts(dropna=False))"
   ]
  },
  {
   "cell_type": "code",
   "execution_count": null,
   "id": "c77f2697",
   "metadata": {},
   "outputs": [],
   "source": []
  },
  {
   "cell_type": "markdown",
   "id": "7812fac1",
   "metadata": {},
   "source": [
    "## Regression Models"
   ]
  },
  {
   "cell_type": "code",
   "execution_count": 34,
   "id": "1bb9790d",
   "metadata": {},
   "outputs": [],
   "source": [
    "from sklearn.model_selection import train_test_split\n",
    "from sklearn.preprocessing import StandardScaler\n",
    "from sklearn.preprocessing import OneHotEncoder\n",
    "from sklearn.linear_model import LinearRegression\n",
    "from sklearn.metrics import mean_squared_error, mean_absolute_error, r2_score\n"
   ]
  },
  {
   "cell_type": "code",
   "execution_count": 35,
   "id": "d2109784",
   "metadata": {},
   "outputs": [
    {
     "data": {
      "text/plain": [
       "(388, 10)"
      ]
     },
     "execution_count": 35,
     "metadata": {},
     "output_type": "execute_result"
    }
   ],
   "source": [
    "# Drop columns with excessive colinearity\n",
    "data_model = data.drop(['consume_real','cost_real'],axis=1)\n",
    "data_model.shape"
   ]
  },
  {
   "cell_type": "code",
   "execution_count": 36,
   "id": "a0e75179",
   "metadata": {},
   "outputs": [
    {
     "data": {
      "text/html": [
       "<div>\n",
       "<style scoped>\n",
       "    .dataframe tbody tr th:only-of-type {\n",
       "        vertical-align: middle;\n",
       "    }\n",
       "\n",
       "    .dataframe tbody tr th {\n",
       "        vertical-align: top;\n",
       "    }\n",
       "\n",
       "    .dataframe thead th {\n",
       "        text-align: right;\n",
       "    }\n",
       "</style>\n",
       "<table border=\"1\" class=\"dataframe\">\n",
       "  <thead>\n",
       "    <tr style=\"text-align: right;\">\n",
       "      <th></th>\n",
       "      <th>distance</th>\n",
       "      <th>consume_100km</th>\n",
       "      <th>gas_type</th>\n",
       "      <th>speed</th>\n",
       "      <th>temp_inside</th>\n",
       "      <th>temp_outside</th>\n",
       "      <th>AC</th>\n",
       "      <th>sun</th>\n",
       "      <th>rain</th>\n",
       "      <th>snow</th>\n",
       "    </tr>\n",
       "  </thead>\n",
       "  <tbody>\n",
       "    <tr>\n",
       "      <th>0</th>\n",
       "      <td>28.0</td>\n",
       "      <td>5.0</td>\n",
       "      <td>E10</td>\n",
       "      <td>26</td>\n",
       "      <td>21.5</td>\n",
       "      <td>12</td>\n",
       "      <td>0</td>\n",
       "      <td>0</td>\n",
       "      <td>0</td>\n",
       "      <td>0</td>\n",
       "    </tr>\n",
       "    <tr>\n",
       "      <th>1</th>\n",
       "      <td>12.0</td>\n",
       "      <td>4.2</td>\n",
       "      <td>E10</td>\n",
       "      <td>30</td>\n",
       "      <td>21.5</td>\n",
       "      <td>13</td>\n",
       "      <td>0</td>\n",
       "      <td>0</td>\n",
       "      <td>0</td>\n",
       "      <td>0</td>\n",
       "    </tr>\n",
       "    <tr>\n",
       "      <th>2</th>\n",
       "      <td>11.2</td>\n",
       "      <td>5.5</td>\n",
       "      <td>E10</td>\n",
       "      <td>38</td>\n",
       "      <td>21.5</td>\n",
       "      <td>15</td>\n",
       "      <td>0</td>\n",
       "      <td>0</td>\n",
       "      <td>0</td>\n",
       "      <td>0</td>\n",
       "    </tr>\n",
       "    <tr>\n",
       "      <th>3</th>\n",
       "      <td>12.9</td>\n",
       "      <td>3.9</td>\n",
       "      <td>E10</td>\n",
       "      <td>36</td>\n",
       "      <td>21.5</td>\n",
       "      <td>14</td>\n",
       "      <td>0</td>\n",
       "      <td>0</td>\n",
       "      <td>0</td>\n",
       "      <td>0</td>\n",
       "    </tr>\n",
       "    <tr>\n",
       "      <th>4</th>\n",
       "      <td>18.5</td>\n",
       "      <td>4.5</td>\n",
       "      <td>E10</td>\n",
       "      <td>46</td>\n",
       "      <td>21.5</td>\n",
       "      <td>15</td>\n",
       "      <td>0</td>\n",
       "      <td>0</td>\n",
       "      <td>0</td>\n",
       "      <td>0</td>\n",
       "    </tr>\n",
       "  </tbody>\n",
       "</table>\n",
       "</div>"
      ],
      "text/plain": [
       "   distance  consume_100km gas_type  speed  temp_inside  temp_outside AC sun  \\\n",
       "0      28.0            5.0      E10     26         21.5            12  0   0   \n",
       "1      12.0            4.2      E10     30         21.5            13  0   0   \n",
       "2      11.2            5.5      E10     38         21.5            15  0   0   \n",
       "3      12.9            3.9      E10     36         21.5            14  0   0   \n",
       "4      18.5            4.5      E10     46         21.5            15  0   0   \n",
       "\n",
       "  rain  snow  \n",
       "0    0     0  \n",
       "1    0     0  \n",
       "2    0     0  \n",
       "3    0     0  \n",
       "4    0     0  "
      ]
     },
     "execution_count": 36,
     "metadata": {},
     "output_type": "execute_result"
    }
   ],
   "source": [
    "data_model.head()"
   ]
  },
  {
   "cell_type": "markdown",
   "id": "7c0c059e",
   "metadata": {},
   "source": [
    "#### Target: consume_100 km"
   ]
  },
  {
   "cell_type": "markdown",
   "id": "03344c68",
   "metadata": {},
   "source": [
    "#### X/y Split"
   ]
  },
  {
   "cell_type": "code",
   "execution_count": 37,
   "id": "fa24a742",
   "metadata": {},
   "outputs": [],
   "source": [
    "y = data_model['consume_100km']\n",
    "X = data_model.drop(['consume_100km'],axis=1)"
   ]
  },
  {
   "cell_type": "markdown",
   "id": "074b7d93",
   "metadata": {},
   "source": [
    "#### Train-Test Split"
   ]
  },
  {
   "cell_type": "code",
   "execution_count": 38,
   "id": "08c30234",
   "metadata": {},
   "outputs": [],
   "source": [
    "X_train, X_test, y_train, y_test = train_test_split(X, y, test_size=0.3, random_state = 42)"
   ]
  },
  {
   "cell_type": "markdown",
   "id": "2ad86f82",
   "metadata": {},
   "source": [
    "#### Numerical-Categorical X Split"
   ]
  },
  {
   "cell_type": "code",
   "execution_count": 39,
   "id": "6f10ac5e",
   "metadata": {},
   "outputs": [],
   "source": [
    "# Numericals\n",
    "X_train_num = X_train.select_dtypes(include=np.number)\n",
    "X_test_num = X_test.select_dtypes(include=np.number)\n",
    "\n",
    "# Categoricals\n",
    "X_train_cat = X_train.select_dtypes(include='object')\n",
    "X_test_cat = X_test.select_dtypes(include='object')"
   ]
  },
  {
   "cell_type": "markdown",
   "id": "57795d5c",
   "metadata": {},
   "source": [
    "##### Scaling Numericals"
   ]
  },
  {
   "cell_type": "code",
   "execution_count": 40,
   "id": "d89ee8d1",
   "metadata": {},
   "outputs": [],
   "source": [
    "# Initialize the StandardScaler object\n",
    "scaler = StandardScaler()\n",
    "\n",
    "# Fit and transform the scaler on the numerical train features\n",
    "X_train_num_scaled = scaler.fit_transform(X_train_num)\n",
    "\n",
    "# Transform the scaler on the numerical test features\n",
    "X_test_num_scaled = scaler.transform(X_test_num)\n"
   ]
  },
  {
   "cell_type": "markdown",
   "id": "035f1b36",
   "metadata": {},
   "source": [
    "##### Encoding Categoricals"
   ]
  },
  {
   "cell_type": "code",
   "execution_count": 41,
   "id": "e573e412",
   "metadata": {},
   "outputs": [],
   "source": [
    "# Create the OneHotEncoder object\n",
    "encoder = OneHotEncoder(drop='first')\n",
    "\n",
    "# Fit and transform the encoder on the training categorical columns\n",
    "train_encoded = encoder.fit_transform(X_train_cat)\n",
    "\n",
    "# Transform the encoder on the testing categorical columns\n",
    "test_encoded = encoder.transform(X_test_cat)\n",
    "\n",
    "# Get the names of the encoded features\n",
    "feature_names = encoder.get_feature_names_out(X_train_cat.columns)\n",
    "\n",
    "# Convert the encoded array back into dataframes with the feature names\n",
    "X_train_cat_encoded = pd.DataFrame(train_encoded.toarray(), columns=feature_names)\n",
    "X_test_cat_encoded = pd.DataFrame(test_encoded.toarray(), columns=feature_names)\n"
   ]
  },
  {
   "cell_type": "markdown",
   "id": "349745b1",
   "metadata": {},
   "source": [
    "##### Combine scaled and encoded TRAIN data"
   ]
  },
  {
   "cell_type": "code",
   "execution_count": 42,
   "id": "9beab95d",
   "metadata": {},
   "outputs": [],
   "source": [
    "# combine the scaled numerical features and the categorical encoded features of the training data\n",
    "train_processed = pd.concat([pd.DataFrame(X_train_num_scaled, columns=X_train_num.columns), X_train_cat_encoded.reset_index(drop=True)], axis=1)"
   ]
  },
  {
   "cell_type": "markdown",
   "id": "d9a6ed1d",
   "metadata": {},
   "source": [
    "##### Combine scaled and encoded TEST data"
   ]
  },
  {
   "cell_type": "code",
   "execution_count": 43,
   "id": "172af152",
   "metadata": {},
   "outputs": [],
   "source": [
    "# Combine the numerical and categorical features back into a single dataframe for the test data\n",
    "test_processed = pd.concat([pd.DataFrame(X_test_num_scaled, columns=X_train_num.columns), X_test_cat_encoded], axis=1)"
   ]
  },
  {
   "cell_type": "markdown",
   "id": "30ffeb3d",
   "metadata": {},
   "source": [
    "#### Linear Regression Model"
   ]
  },
  {
   "cell_type": "code",
   "execution_count": 44,
   "id": "152bb9a2",
   "metadata": {},
   "outputs": [
    {
     "name": "stdout",
     "output_type": "stream",
     "text": [
      "[4.8181351  5.24553442 5.16622351 5.23701681 4.52553758 7.03787488\n",
      " 5.71131983 5.24016459 5.84036419 4.95896544] 0    5.0\n",
      "1    4.2\n",
      "2    5.5\n",
      "3    3.9\n",
      "4    4.5\n",
      "5    6.4\n",
      "6    4.4\n",
      "7    5.0\n",
      "8    6.4\n",
      "9    5.3\n",
      "Name: consume_100km, dtype: float64\n"
     ]
    }
   ],
   "source": [
    "# LinearRegression\n",
    "lr_model = LinearRegression()\n",
    "\n",
    "# Fit the model on the training data\n",
    "lr_model.fit(train_processed, y_train)\n",
    "\n",
    "# Predict on the test data\n",
    "y_pred = lr_model.predict(test_processed)\n",
    "\n",
    "print(y_pred[:10], y[:10])"
   ]
  },
  {
   "cell_type": "code",
   "execution_count": 45,
   "id": "b48fb80d",
   "metadata": {},
   "outputs": [
    {
     "name": "stdout",
     "output_type": "stream",
     "text": [
      "R-squared: 0.04\n",
      "Mean squared error: 0.8\n",
      "Root mean squared error: 0.89\n",
      "Mean absolute error: 0.68\n"
     ]
    }
   ],
   "source": [
    "# Evaluate the model performance\n",
    "mse = round(mean_squared_error(y_test, y_pred),2)\n",
    "mae = round(mean_absolute_error(y_test, y_pred),2)\n",
    "rmse = round(np.sqrt(mse),2)\n",
    "r2 = round(r2_score(y_test, y_pred),2)\n",
    "\n",
    "print(\"R-squared:\", r2)\n",
    "print(\"Mean squared error:\", mse)\n",
    "print(\"Root mean squared error:\", rmse)\n",
    "print(\"Mean absolute error:\", mae)"
   ]
  },
  {
   "cell_type": "code",
   "execution_count": 46,
   "id": "29578d79",
   "metadata": {},
   "outputs": [
    {
     "data": {
      "text/plain": [
       "count    388.000000\n",
       "mean       4.912371\n",
       "std        1.033172\n",
       "min        3.300000\n",
       "25%        4.300000\n",
       "50%        4.700000\n",
       "75%        5.300000\n",
       "max       12.200000\n",
       "Name: consume_100km, dtype: float64"
      ]
     },
     "execution_count": 46,
     "metadata": {},
     "output_type": "execute_result"
    }
   ],
   "source": [
    "data_model['consume_100km'].describe().T"
   ]
  },
  {
   "cell_type": "code",
   "execution_count": null,
   "id": "d2837129",
   "metadata": {},
   "outputs": [],
   "source": []
  },
  {
   "cell_type": "markdown",
   "id": "144821d5",
   "metadata": {},
   "source": [
    "#### Alternative I: Random Forest Regressor"
   ]
  },
  {
   "cell_type": "code",
   "execution_count": 47,
   "id": "3eef7be5",
   "metadata": {},
   "outputs": [
    {
     "name": "stdout",
     "output_type": "stream",
     "text": [
      "R-squared: 0.59\n",
      "Mean squared error: 0.34\n",
      "Root mean squared error: 0.89\n",
      "Mean absolute error: 0.43\n"
     ]
    }
   ],
   "source": [
    "from sklearn.ensemble import RandomForestRegressor\n",
    "\n",
    "# Random Forest Regressor\n",
    "rf_model = RandomForestRegressor(n_estimators=100, random_state=42)\n",
    "\n",
    "# Fit the model on the training data\n",
    "rf_model.fit(train_processed, y_train)\n",
    "\n",
    "# Predict on the test data\n",
    "y_pred = rf_model.predict(test_processed)\n",
    "\n",
    "# Evaluate the model performance\n",
    "mse_rf = round(mean_squared_error(y_test, y_pred),2)\n",
    "mae_rf = round(mean_absolute_error(y_test, y_pred),2)\n",
    "rmse_rf = round(np.sqrt(mse),2)\n",
    "r2_rf = round(r2_score(y_test, y_pred),2)\n",
    "\n",
    "print(\"R-squared:\", r2_rf)\n",
    "print(\"Mean squared error:\", mse_rf)\n",
    "print(\"Root mean squared error:\", rmse_rf)\n",
    "print(\"Mean absolute error:\", mae_rf)"
   ]
  },
  {
   "cell_type": "markdown",
   "id": "3deaef8f",
   "metadata": {},
   "source": [
    "#### Alternative II: Decision Tree Regressor"
   ]
  },
  {
   "cell_type": "code",
   "execution_count": 48,
   "id": "9fdccb0f",
   "metadata": {},
   "outputs": [
    {
     "name": "stdout",
     "output_type": "stream",
     "text": [
      "R-squared: 0.08\n",
      "Mean squared error: 0.77\n",
      "Root mean squared error: 0.88\n",
      "Mean absolute error: 0.59\n"
     ]
    }
   ],
   "source": [
    "from sklearn.tree import DecisionTreeRegressor\n",
    "\n",
    "# Decision Tree Regressor\n",
    "dt_model = DecisionTreeRegressor(random_state=42)\n",
    "\n",
    "# Fit the model on the training data\n",
    "dt_model.fit(train_processed, y_train)\n",
    "\n",
    "# Predict on the test data\n",
    "y_pred = dt_model.predict(test_processed)\n",
    "\n",
    "# Evaluate the model performance\n",
    "mse_dt = round(mean_squared_error(y_test, y_pred),2)\n",
    "mae_dt = round(mean_absolute_error(y_test, y_pred),2)\n",
    "rmse_dt = round(np.sqrt(mse_dt),2)\n",
    "r2_dt = round(r2_score(y_test, y_pred),2)\n",
    "\n",
    "print(\"R-squared:\", r2_dt)\n",
    "print(\"Mean squared error:\", mse_dt)\n",
    "print(\"Root mean squared error:\", rmse_dt)\n",
    "print(\"Mean absolute error:\", mae_dt)"
   ]
  },
  {
   "cell_type": "markdown",
   "id": "c0f9c620",
   "metadata": {},
   "source": [
    "## Conclusions"
   ]
  },
  {
   "cell_type": "code",
   "execution_count": 49,
   "id": "3ceddcbe",
   "metadata": {},
   "outputs": [
    {
     "data": {
      "text/html": [
       "<div>\n",
       "<style scoped>\n",
       "    .dataframe tbody tr th:only-of-type {\n",
       "        vertical-align: middle;\n",
       "    }\n",
       "\n",
       "    .dataframe tbody tr th {\n",
       "        vertical-align: top;\n",
       "    }\n",
       "\n",
       "    .dataframe thead th {\n",
       "        text-align: right;\n",
       "    }\n",
       "</style>\n",
       "<table border=\"1\" class=\"dataframe\">\n",
       "  <thead>\n",
       "    <tr style=\"text-align: right;\">\n",
       "      <th></th>\n",
       "      <th>R-squared</th>\n",
       "      <th>Mean Squared Error</th>\n",
       "      <th>Root Mean Squared Error</th>\n",
       "      <th>Mean Absolute Error</th>\n",
       "    </tr>\n",
       "    <tr>\n",
       "      <th>Model</th>\n",
       "      <th></th>\n",
       "      <th></th>\n",
       "      <th></th>\n",
       "      <th></th>\n",
       "    </tr>\n",
       "  </thead>\n",
       "  <tbody>\n",
       "    <tr>\n",
       "      <th>Linear Regression</th>\n",
       "      <td>0.04</td>\n",
       "      <td>0.80</td>\n",
       "      <td>0.89</td>\n",
       "      <td>0.68</td>\n",
       "    </tr>\n",
       "    <tr>\n",
       "      <th>Decision Tree Regressor</th>\n",
       "      <td>0.08</td>\n",
       "      <td>0.77</td>\n",
       "      <td>0.88</td>\n",
       "      <td>0.59</td>\n",
       "    </tr>\n",
       "    <tr>\n",
       "      <th>Random Forest Regressor</th>\n",
       "      <td>0.59</td>\n",
       "      <td>0.34</td>\n",
       "      <td>0.89</td>\n",
       "      <td>0.43</td>\n",
       "    </tr>\n",
       "  </tbody>\n",
       "</table>\n",
       "</div>"
      ],
      "text/plain": [
       "                         R-squared  Mean Squared Error  \\\n",
       "Model                                                    \n",
       "Linear Regression             0.04                0.80   \n",
       "Decision Tree Regressor       0.08                0.77   \n",
       "Random Forest Regressor       0.59                0.34   \n",
       "\n",
       "                         Root Mean Squared Error  Mean Absolute Error  \n",
       "Model                                                                  \n",
       "Linear Regression                           0.89                 0.68  \n",
       "Decision Tree Regressor                     0.88                 0.59  \n",
       "Random Forest Regressor                     0.89                 0.43  "
      ]
     },
     "execution_count": 49,
     "metadata": {},
     "output_type": "execute_result"
    }
   ],
   "source": [
    "# Create dataframe with performance metrics \n",
    "\n",
    "# Create dictionary\n",
    "metrics_dict = {\n",
    "    'Model': ['Linear Regression', 'Decision Tree Regressor','Random Forest Regressor'],\n",
    "    'R-squared': [r2,r2_dt,r2_rf],\n",
    "    'Mean Squared Error': [mse,mse_dt, mse_rf],\n",
    "    'Root Mean Squared Error': [rmse,rmse_dt, rmse_rf],\n",
    "    'Mean Absolute Error': [mae,mae_dt, mae_rf]\n",
    "}\n",
    "\n",
    "# Create the dataframe\n",
    "metrics_df = pd.DataFrame.from_dict(metrics_dict)\n",
    "\n",
    "# Set the Model column as the index\n",
    "metrics_df.set_index('Model', inplace=True)\n",
    "\n",
    "metrics_df"
   ]
  },
  {
   "cell_type": "markdown",
   "id": "1d0ce40f",
   "metadata": {},
   "source": [
    "The Random Forest Regressor outperforms both the Linear Regression and Decision Tree Regressor models in terms of R-squared, Mean Squared Error, Root Mean Squared Error, and Mean Absolute Error, indicating that it has the best predictive performance."
   ]
  },
  {
   "cell_type": "code",
   "execution_count": null,
   "id": "9ef7d01f",
   "metadata": {},
   "outputs": [],
   "source": []
  }
 ],
 "metadata": {
  "kernelspec": {
   "display_name": "Python 3 (ipykernel)",
   "language": "python",
   "name": "python3"
  },
  "language_info": {
   "codemirror_mode": {
    "name": "ipython",
    "version": 3
   },
   "file_extension": ".py",
   "mimetype": "text/x-python",
   "name": "python",
   "nbconvert_exporter": "python",
   "pygments_lexer": "ipython3",
   "version": "3.9.13"
  }
 },
 "nbformat": 4,
 "nbformat_minor": 5
}
