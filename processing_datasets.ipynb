{
 "cells": [
  {
   "cell_type": "code",
   "execution_count": null,
   "metadata": {},
   "outputs": [],
   "source": [
    "#!pip install openpyxl\n",
    "#!pip install seaborn"
   ]
  },
  {
   "cell_type": "code",
   "execution_count": 54,
   "metadata": {},
   "outputs": [],
   "source": [
    "import pandas as pd\n",
    "import numpy as np\n",
    "import matplotlib.pyplot as plt\n",
    "import seaborn as sns\n",
    "from sklearn.linear_model import LinearRegression\n",
    "from sklearn.model_selection import train_test_split\n",
    "from sklearn.metrics import r2_score\n",
    "from sklearn.ensemble import GradientBoostingRegressor\n",
    "\n",
    "import gc #garbage collector"
   ]
  },
  {
   "cell_type": "code",
   "execution_count": 4,
   "metadata": {},
   "outputs": [
    {
     "data": {
      "text/html": [
       "<div>\n",
       "<style scoped>\n",
       "    .dataframe tbody tr th:only-of-type {\n",
       "        vertical-align: middle;\n",
       "    }\n",
       "\n",
       "    .dataframe tbody tr th {\n",
       "        vertical-align: top;\n",
       "    }\n",
       "\n",
       "    .dataframe thead th {\n",
       "        text-align: right;\n",
       "    }\n",
       "</style>\n",
       "<table border=\"1\" class=\"dataframe\">\n",
       "  <thead>\n",
       "    <tr style=\"text-align: right;\">\n",
       "      <th></th>\n",
       "      <th>distance</th>\n",
       "      <th>consume</th>\n",
       "      <th>speed</th>\n",
       "      <th>temp_inside</th>\n",
       "      <th>temp_outside</th>\n",
       "      <th>specials</th>\n",
       "      <th>gas_type</th>\n",
       "      <th>AC</th>\n",
       "      <th>rain</th>\n",
       "      <th>sun</th>\n",
       "      <th>refill liters</th>\n",
       "      <th>refill gas</th>\n",
       "    </tr>\n",
       "  </thead>\n",
       "  <tbody>\n",
       "    <tr>\n",
       "      <th>0</th>\n",
       "      <td>28</td>\n",
       "      <td>5</td>\n",
       "      <td>26</td>\n",
       "      <td>21,5</td>\n",
       "      <td>12</td>\n",
       "      <td>NaN</td>\n",
       "      <td>E10</td>\n",
       "      <td>0</td>\n",
       "      <td>0</td>\n",
       "      <td>0</td>\n",
       "      <td>45</td>\n",
       "      <td>E10</td>\n",
       "    </tr>\n",
       "    <tr>\n",
       "      <th>1</th>\n",
       "      <td>12</td>\n",
       "      <td>4,2</td>\n",
       "      <td>30</td>\n",
       "      <td>21,5</td>\n",
       "      <td>13</td>\n",
       "      <td>NaN</td>\n",
       "      <td>E10</td>\n",
       "      <td>0</td>\n",
       "      <td>0</td>\n",
       "      <td>0</td>\n",
       "      <td>NaN</td>\n",
       "      <td>NaN</td>\n",
       "    </tr>\n",
       "    <tr>\n",
       "      <th>2</th>\n",
       "      <td>11,2</td>\n",
       "      <td>5,5</td>\n",
       "      <td>38</td>\n",
       "      <td>21,5</td>\n",
       "      <td>15</td>\n",
       "      <td>NaN</td>\n",
       "      <td>E10</td>\n",
       "      <td>0</td>\n",
       "      <td>0</td>\n",
       "      <td>0</td>\n",
       "      <td>NaN</td>\n",
       "      <td>NaN</td>\n",
       "    </tr>\n",
       "    <tr>\n",
       "      <th>3</th>\n",
       "      <td>12,9</td>\n",
       "      <td>3,9</td>\n",
       "      <td>36</td>\n",
       "      <td>21,5</td>\n",
       "      <td>14</td>\n",
       "      <td>NaN</td>\n",
       "      <td>E10</td>\n",
       "      <td>0</td>\n",
       "      <td>0</td>\n",
       "      <td>0</td>\n",
       "      <td>NaN</td>\n",
       "      <td>NaN</td>\n",
       "    </tr>\n",
       "    <tr>\n",
       "      <th>4</th>\n",
       "      <td>18,5</td>\n",
       "      <td>4,5</td>\n",
       "      <td>46</td>\n",
       "      <td>21,5</td>\n",
       "      <td>15</td>\n",
       "      <td>NaN</td>\n",
       "      <td>E10</td>\n",
       "      <td>0</td>\n",
       "      <td>0</td>\n",
       "      <td>0</td>\n",
       "      <td>NaN</td>\n",
       "      <td>NaN</td>\n",
       "    </tr>\n",
       "  </tbody>\n",
       "</table>\n",
       "</div>"
      ],
      "text/plain": [
       "  distance consume  speed temp_inside  temp_outside specials gas_type  AC  \\\n",
       "0       28       5     26        21,5            12      NaN      E10   0   \n",
       "1       12     4,2     30        21,5            13      NaN      E10   0   \n",
       "2     11,2     5,5     38        21,5            15      NaN      E10   0   \n",
       "3     12,9     3,9     36        21,5            14      NaN      E10   0   \n",
       "4     18,5     4,5     46        21,5            15      NaN      E10   0   \n",
       "\n",
       "   rain  sun refill liters refill gas  \n",
       "0     0    0            45        E10  \n",
       "1     0    0           NaN        NaN  \n",
       "2     0    0           NaN        NaN  \n",
       "3     0    0           NaN        NaN  \n",
       "4     0    0           NaN        NaN  "
      ]
     },
     "metadata": {},
     "output_type": "display_data"
    },
    {
     "data": {
      "text/html": [
       "<div>\n",
       "<style scoped>\n",
       "    .dataframe tbody tr th:only-of-type {\n",
       "        vertical-align: middle;\n",
       "    }\n",
       "\n",
       "    .dataframe tbody tr th {\n",
       "        vertical-align: top;\n",
       "    }\n",
       "\n",
       "    .dataframe thead th {\n",
       "        text-align: right;\n",
       "    }\n",
       "</style>\n",
       "<table border=\"1\" class=\"dataframe\">\n",
       "  <thead>\n",
       "    <tr style=\"text-align: right;\">\n",
       "      <th></th>\n",
       "      <th>distance</th>\n",
       "      <th>consume</th>\n",
       "      <th>speed</th>\n",
       "      <th>temp_inside</th>\n",
       "      <th>temp_outside</th>\n",
       "      <th>specials</th>\n",
       "      <th>gas_type</th>\n",
       "      <th>AC</th>\n",
       "      <th>rain</th>\n",
       "      <th>sun</th>\n",
       "      <th>refill liters</th>\n",
       "      <th>refill gas</th>\n",
       "    </tr>\n",
       "  </thead>\n",
       "  <tbody>\n",
       "    <tr>\n",
       "      <th>0</th>\n",
       "      <td>28.0</td>\n",
       "      <td>5.0</td>\n",
       "      <td>26</td>\n",
       "      <td>21.5</td>\n",
       "      <td>12</td>\n",
       "      <td>NaN</td>\n",
       "      <td>E10</td>\n",
       "      <td>0</td>\n",
       "      <td>0</td>\n",
       "      <td>0</td>\n",
       "      <td>45.0</td>\n",
       "      <td>E10</td>\n",
       "    </tr>\n",
       "    <tr>\n",
       "      <th>1</th>\n",
       "      <td>12.0</td>\n",
       "      <td>4.2</td>\n",
       "      <td>30</td>\n",
       "      <td>21.5</td>\n",
       "      <td>13</td>\n",
       "      <td>NaN</td>\n",
       "      <td>E10</td>\n",
       "      <td>0</td>\n",
       "      <td>0</td>\n",
       "      <td>0</td>\n",
       "      <td>NaN</td>\n",
       "      <td>NaN</td>\n",
       "    </tr>\n",
       "    <tr>\n",
       "      <th>2</th>\n",
       "      <td>11.2</td>\n",
       "      <td>5.5</td>\n",
       "      <td>38</td>\n",
       "      <td>21.5</td>\n",
       "      <td>15</td>\n",
       "      <td>NaN</td>\n",
       "      <td>E10</td>\n",
       "      <td>0</td>\n",
       "      <td>0</td>\n",
       "      <td>0</td>\n",
       "      <td>NaN</td>\n",
       "      <td>NaN</td>\n",
       "    </tr>\n",
       "    <tr>\n",
       "      <th>3</th>\n",
       "      <td>12.9</td>\n",
       "      <td>3.9</td>\n",
       "      <td>36</td>\n",
       "      <td>21.5</td>\n",
       "      <td>14</td>\n",
       "      <td>NaN</td>\n",
       "      <td>E10</td>\n",
       "      <td>0</td>\n",
       "      <td>0</td>\n",
       "      <td>0</td>\n",
       "      <td>NaN</td>\n",
       "      <td>NaN</td>\n",
       "    </tr>\n",
       "    <tr>\n",
       "      <th>4</th>\n",
       "      <td>18.5</td>\n",
       "      <td>4.5</td>\n",
       "      <td>46</td>\n",
       "      <td>21.5</td>\n",
       "      <td>15</td>\n",
       "      <td>NaN</td>\n",
       "      <td>E10</td>\n",
       "      <td>0</td>\n",
       "      <td>0</td>\n",
       "      <td>0</td>\n",
       "      <td>NaN</td>\n",
       "      <td>NaN</td>\n",
       "    </tr>\n",
       "  </tbody>\n",
       "</table>\n",
       "</div>"
      ],
      "text/plain": [
       "   distance  consume  speed  temp_inside  temp_outside specials gas_type  AC  \\\n",
       "0      28.0      5.0     26         21.5            12      NaN      E10   0   \n",
       "1      12.0      4.2     30         21.5            13      NaN      E10   0   \n",
       "2      11.2      5.5     38         21.5            15      NaN      E10   0   \n",
       "3      12.9      3.9     36         21.5            14      NaN      E10   0   \n",
       "4      18.5      4.5     46         21.5            15      NaN      E10   0   \n",
       "\n",
       "   rain  sun  refill liters refill gas  \n",
       "0     0    0           45.0        E10  \n",
       "1     0    0            NaN        NaN  \n",
       "2     0    0            NaN        NaN  \n",
       "3     0    0            NaN        NaN  \n",
       "4     0    0            NaN        NaN  "
      ]
     },
     "metadata": {},
     "output_type": "display_data"
    }
   ],
   "source": [
    "#Compare the 2 datasets we have\n",
    "\n",
    "cobify1 = pd.read_csv(\"data/measurements.csv\")\n",
    "display(cobify1.head())\n",
    "cobify2 = pd.read_excel(\"data/measurements2.xlsx\")\n",
    "display(cobify2.head())"
   ]
  },
  {
   "cell_type": "code",
   "execution_count": 5,
   "metadata": {},
   "outputs": [
    {
     "data": {
      "text/plain": [
       "(388, 12)"
      ]
     },
     "metadata": {},
     "output_type": "display_data"
    },
    {
     "data": {
      "text/plain": [
       "(388, 12)"
      ]
     },
     "metadata": {},
     "output_type": "display_data"
    }
   ],
   "source": [
    "display(cobify1.shape, cobify2.shape)"
   ]
  },
  {
   "cell_type": "code",
   "execution_count": 6,
   "metadata": {},
   "outputs": [
    {
     "data": {
      "text/plain": [
       "distance         object\n",
       "consume          object\n",
       "speed             int64\n",
       "temp_inside      object\n",
       "temp_outside      int64\n",
       "specials         object\n",
       "gas_type         object\n",
       "AC                int64\n",
       "rain              int64\n",
       "sun               int64\n",
       "refill liters    object\n",
       "refill gas       object\n",
       "dtype: object"
      ]
     },
     "metadata": {},
     "output_type": "display_data"
    },
    {
     "data": {
      "text/plain": [
       "distance         float64\n",
       "consume          float64\n",
       "speed              int64\n",
       "temp_inside      float64\n",
       "temp_outside       int64\n",
       "specials          object\n",
       "gas_type          object\n",
       "AC                 int64\n",
       "rain               int64\n",
       "sun                int64\n",
       "refill liters    float64\n",
       "refill gas        object\n",
       "dtype: object"
      ]
     },
     "metadata": {},
     "output_type": "display_data"
    }
   ],
   "source": [
    "display(cobify1.dtypes, cobify2.dtypes)"
   ]
  },
  {
   "cell_type": "code",
   "execution_count": 7,
   "metadata": {},
   "outputs": [
    {
     "data": {
      "text/plain": [
       "522"
      ]
     },
     "execution_count": 7,
     "metadata": {},
     "output_type": "execute_result"
    }
   ],
   "source": [
    "#Since the second dataset has the same data but the types need less modifications, I will use the second\n",
    "\n",
    "del cobify1\n",
    "gc.collect()"
   ]
  },
  {
   "attachments": {},
   "cell_type": "markdown",
   "metadata": {},
   "source": [
    "### Exploratory Data Analysis"
   ]
  },
  {
   "cell_type": "code",
   "execution_count": 8,
   "metadata": {},
   "outputs": [
    {
     "data": {
      "text/plain": [
       "distance           0\n",
       "consume            0\n",
       "speed              0\n",
       "temp_inside       12\n",
       "temp_outside       0\n",
       "specials         295\n",
       "gas_type           0\n",
       "AC                 0\n",
       "rain               0\n",
       "sun                0\n",
       "refill liters    375\n",
       "refill gas       375\n",
       "dtype: int64"
      ]
     },
     "execution_count": 8,
     "metadata": {},
     "output_type": "execute_result"
    }
   ],
   "source": [
    "cobify2.isna().sum()"
   ]
  },
  {
   "cell_type": "code",
   "execution_count": 9,
   "metadata": {},
   "outputs": [
    {
     "data": {
      "text/plain": [
       "'temp_inside: [21.5 22.5 20.   nan 21.  20.5 23.  23.5 25.  24.  22.  19.  24.5 25.5]'"
      ]
     },
     "metadata": {},
     "output_type": "display_data"
    },
    {
     "data": {
      "text/plain": [
       "\"specials: [nan 'AC rain' 'AC' 'rain' 'snow' 'AC snow' 'half rain half sun' 'sun'\\n 'AC sun' 'sun ac' 'ac' 'AC Sun' 'ac rain']\""
      ]
     },
     "metadata": {},
     "output_type": "display_data"
    },
    {
     "data": {
      "text/plain": [
       "'specials: [0 1]'"
      ]
     },
     "metadata": {},
     "output_type": "display_data"
    },
    {
     "data": {
      "text/plain": [
       "'specials: [0 1]'"
      ]
     },
     "metadata": {},
     "output_type": "display_data"
    },
    {
     "data": {
      "text/plain": [
       "'specials: [0 1]'"
      ]
     },
     "metadata": {},
     "output_type": "display_data"
    },
    {
     "data": {
      "text/plain": [
       "\"gas type: ['E10' 'SP98']\""
      ]
     },
     "metadata": {},
     "output_type": "display_data"
    },
    {
     "data": {
      "text/plain": [
       "'refill liters: [45.   nan 37.6 37.7 38.  38.3 10.  39.  41.  37.  37.2]'"
      ]
     },
     "metadata": {},
     "output_type": "display_data"
    },
    {
     "data": {
      "text/plain": [
       "\"regill gas: ['E10' nan 'SP98']\""
      ]
     },
     "metadata": {},
     "output_type": "display_data"
    }
   ],
   "source": [
    "display(f\"temp_inside: {cobify2['temp_inside'].unique()}\") #Maybe is not relevant, could try without the NAN lines and compare\n",
    "display(f\"specials: {cobify2['specials'].unique()}\") #Need to see if the next columns are the dummified\n",
    "display(f\"specials: {cobify2['AC'].unique()}\")\n",
    "display(f\"specials: {cobify2['rain'].unique()}\")\n",
    "display(f\"specials: {cobify2['sun'].unique()}\")\n",
    "display(f\"gas type: {cobify2['gas_type'].unique()}\") \n",
    "display(f\"refill liters: {cobify2['refill liters'].unique()}\") #As we have the mean consume, this would not be relevant today\n",
    "display(f\"regill gas: {cobify2['refill gas'].unique()}\") #need to see if occurs any changing of gas type when refill"
   ]
  },
  {
   "cell_type": "code",
   "execution_count": 10,
   "metadata": {},
   "outputs": [
    {
     "data": {
      "text/html": [
       "<div>\n",
       "<style scoped>\n",
       "    .dataframe tbody tr th:only-of-type {\n",
       "        vertical-align: middle;\n",
       "    }\n",
       "\n",
       "    .dataframe tbody tr th {\n",
       "        vertical-align: top;\n",
       "    }\n",
       "\n",
       "    .dataframe thead th {\n",
       "        text-align: right;\n",
       "    }\n",
       "</style>\n",
       "<table border=\"1\" class=\"dataframe\">\n",
       "  <thead>\n",
       "    <tr style=\"text-align: right;\">\n",
       "      <th></th>\n",
       "      <th>specials</th>\n",
       "      <th>AC</th>\n",
       "      <th>rain</th>\n",
       "      <th>sun</th>\n",
       "    </tr>\n",
       "  </thead>\n",
       "  <tbody>\n",
       "    <tr>\n",
       "      <th>273</th>\n",
       "      <td>AC sun</td>\n",
       "      <td>1</td>\n",
       "      <td>0</td>\n",
       "      <td>1</td>\n",
       "    </tr>\n",
       "    <tr>\n",
       "      <th>41</th>\n",
       "      <td>AC</td>\n",
       "      <td>1</td>\n",
       "      <td>0</td>\n",
       "      <td>0</td>\n",
       "    </tr>\n",
       "    <tr>\n",
       "      <th>344</th>\n",
       "      <td>ac rain</td>\n",
       "      <td>1</td>\n",
       "      <td>1</td>\n",
       "      <td>0</td>\n",
       "    </tr>\n",
       "    <tr>\n",
       "      <th>331</th>\n",
       "      <td>AC Sun</td>\n",
       "      <td>1</td>\n",
       "      <td>0</td>\n",
       "      <td>1</td>\n",
       "    </tr>\n",
       "    <tr>\n",
       "      <th>139</th>\n",
       "      <td>rain</td>\n",
       "      <td>0</td>\n",
       "      <td>1</td>\n",
       "      <td>0</td>\n",
       "    </tr>\n",
       "    <tr>\n",
       "      <th>387</th>\n",
       "      <td>AC</td>\n",
       "      <td>1</td>\n",
       "      <td>0</td>\n",
       "      <td>0</td>\n",
       "    </tr>\n",
       "    <tr>\n",
       "      <th>59</th>\n",
       "      <td>rain</td>\n",
       "      <td>0</td>\n",
       "      <td>1</td>\n",
       "      <td>0</td>\n",
       "    </tr>\n",
       "    <tr>\n",
       "      <th>204</th>\n",
       "      <td>AC rain</td>\n",
       "      <td>1</td>\n",
       "      <td>1</td>\n",
       "      <td>0</td>\n",
       "    </tr>\n",
       "    <tr>\n",
       "      <th>277</th>\n",
       "      <td>AC rain</td>\n",
       "      <td>1</td>\n",
       "      <td>1</td>\n",
       "      <td>0</td>\n",
       "    </tr>\n",
       "    <tr>\n",
       "      <th>104</th>\n",
       "      <td>AC rain</td>\n",
       "      <td>1</td>\n",
       "      <td>1</td>\n",
       "      <td>0</td>\n",
       "    </tr>\n",
       "    <tr>\n",
       "      <th>240</th>\n",
       "      <td>sun</td>\n",
       "      <td>0</td>\n",
       "      <td>0</td>\n",
       "      <td>1</td>\n",
       "    </tr>\n",
       "    <tr>\n",
       "      <th>299</th>\n",
       "      <td>sun ac</td>\n",
       "      <td>1</td>\n",
       "      <td>0</td>\n",
       "      <td>1</td>\n",
       "    </tr>\n",
       "    <tr>\n",
       "      <th>158</th>\n",
       "      <td>rain</td>\n",
       "      <td>0</td>\n",
       "      <td>1</td>\n",
       "      <td>0</td>\n",
       "    </tr>\n",
       "    <tr>\n",
       "      <th>286</th>\n",
       "      <td>sun</td>\n",
       "      <td>0</td>\n",
       "      <td>0</td>\n",
       "      <td>1</td>\n",
       "    </tr>\n",
       "    <tr>\n",
       "      <th>303</th>\n",
       "      <td>ac</td>\n",
       "      <td>1</td>\n",
       "      <td>0</td>\n",
       "      <td>0</td>\n",
       "    </tr>\n",
       "    <tr>\n",
       "      <th>125</th>\n",
       "      <td>snow</td>\n",
       "      <td>0</td>\n",
       "      <td>1</td>\n",
       "      <td>0</td>\n",
       "    </tr>\n",
       "    <tr>\n",
       "      <th>157</th>\n",
       "      <td>rain</td>\n",
       "      <td>0</td>\n",
       "      <td>1</td>\n",
       "      <td>0</td>\n",
       "    </tr>\n",
       "    <tr>\n",
       "      <th>295</th>\n",
       "      <td>sun</td>\n",
       "      <td>0</td>\n",
       "      <td>0</td>\n",
       "      <td>1</td>\n",
       "    </tr>\n",
       "    <tr>\n",
       "      <th>250</th>\n",
       "      <td>sun</td>\n",
       "      <td>0</td>\n",
       "      <td>0</td>\n",
       "      <td>1</td>\n",
       "    </tr>\n",
       "    <tr>\n",
       "      <th>367</th>\n",
       "      <td>ac</td>\n",
       "      <td>1</td>\n",
       "      <td>0</td>\n",
       "      <td>0</td>\n",
       "    </tr>\n",
       "    <tr>\n",
       "      <th>320</th>\n",
       "      <td>sun</td>\n",
       "      <td>0</td>\n",
       "      <td>0</td>\n",
       "      <td>1</td>\n",
       "    </tr>\n",
       "    <tr>\n",
       "      <th>246</th>\n",
       "      <td>rain</td>\n",
       "      <td>0</td>\n",
       "      <td>1</td>\n",
       "      <td>0</td>\n",
       "    </tr>\n",
       "    <tr>\n",
       "      <th>224</th>\n",
       "      <td>rain</td>\n",
       "      <td>0</td>\n",
       "      <td>1</td>\n",
       "      <td>0</td>\n",
       "    </tr>\n",
       "    <tr>\n",
       "      <th>382</th>\n",
       "      <td>sun</td>\n",
       "      <td>0</td>\n",
       "      <td>0</td>\n",
       "      <td>1</td>\n",
       "    </tr>\n",
       "    <tr>\n",
       "      <th>101</th>\n",
       "      <td>AC rain</td>\n",
       "      <td>1</td>\n",
       "      <td>1</td>\n",
       "      <td>0</td>\n",
       "    </tr>\n",
       "    <tr>\n",
       "      <th>50</th>\n",
       "      <td>rain</td>\n",
       "      <td>0</td>\n",
       "      <td>1</td>\n",
       "      <td>0</td>\n",
       "    </tr>\n",
       "    <tr>\n",
       "      <th>265</th>\n",
       "      <td>sun</td>\n",
       "      <td>0</td>\n",
       "      <td>0</td>\n",
       "      <td>1</td>\n",
       "    </tr>\n",
       "    <tr>\n",
       "      <th>40</th>\n",
       "      <td>AC rain</td>\n",
       "      <td>1</td>\n",
       "      <td>1</td>\n",
       "      <td>0</td>\n",
       "    </tr>\n",
       "    <tr>\n",
       "      <th>384</th>\n",
       "      <td>AC</td>\n",
       "      <td>1</td>\n",
       "      <td>0</td>\n",
       "      <td>0</td>\n",
       "    </tr>\n",
       "    <tr>\n",
       "      <th>311</th>\n",
       "      <td>sun</td>\n",
       "      <td>0</td>\n",
       "      <td>0</td>\n",
       "      <td>1</td>\n",
       "    </tr>\n",
       "    <tr>\n",
       "      <th>219</th>\n",
       "      <td>sun</td>\n",
       "      <td>0</td>\n",
       "      <td>0</td>\n",
       "      <td>1</td>\n",
       "    </tr>\n",
       "    <tr>\n",
       "      <th>243</th>\n",
       "      <td>rain</td>\n",
       "      <td>0</td>\n",
       "      <td>1</td>\n",
       "      <td>0</td>\n",
       "    </tr>\n",
       "    <tr>\n",
       "      <th>374</th>\n",
       "      <td>ac</td>\n",
       "      <td>1</td>\n",
       "      <td>0</td>\n",
       "      <td>0</td>\n",
       "    </tr>\n",
       "    <tr>\n",
       "      <th>350</th>\n",
       "      <td>rain</td>\n",
       "      <td>0</td>\n",
       "      <td>1</td>\n",
       "      <td>0</td>\n",
       "    </tr>\n",
       "    <tr>\n",
       "      <th>300</th>\n",
       "      <td>sun</td>\n",
       "      <td>0</td>\n",
       "      <td>0</td>\n",
       "      <td>1</td>\n",
       "    </tr>\n",
       "    <tr>\n",
       "      <th>378</th>\n",
       "      <td>ac</td>\n",
       "      <td>1</td>\n",
       "      <td>0</td>\n",
       "      <td>0</td>\n",
       "    </tr>\n",
       "    <tr>\n",
       "      <th>261</th>\n",
       "      <td>sun</td>\n",
       "      <td>0</td>\n",
       "      <td>0</td>\n",
       "      <td>1</td>\n",
       "    </tr>\n",
       "    <tr>\n",
       "      <th>386</th>\n",
       "      <td>AC</td>\n",
       "      <td>1</td>\n",
       "      <td>0</td>\n",
       "      <td>0</td>\n",
       "    </tr>\n",
       "    <tr>\n",
       "      <th>368</th>\n",
       "      <td>ac</td>\n",
       "      <td>1</td>\n",
       "      <td>0</td>\n",
       "      <td>0</td>\n",
       "    </tr>\n",
       "    <tr>\n",
       "      <th>334</th>\n",
       "      <td>ac</td>\n",
       "      <td>0</td>\n",
       "      <td>0</td>\n",
       "      <td>0</td>\n",
       "    </tr>\n",
       "    <tr>\n",
       "      <th>86</th>\n",
       "      <td>rain</td>\n",
       "      <td>0</td>\n",
       "      <td>1</td>\n",
       "      <td>0</td>\n",
       "    </tr>\n",
       "    <tr>\n",
       "      <th>248</th>\n",
       "      <td>sun</td>\n",
       "      <td>0</td>\n",
       "      <td>0</td>\n",
       "      <td>1</td>\n",
       "    </tr>\n",
       "    <tr>\n",
       "      <th>321</th>\n",
       "      <td>rain</td>\n",
       "      <td>0</td>\n",
       "      <td>1</td>\n",
       "      <td>0</td>\n",
       "    </tr>\n",
       "    <tr>\n",
       "      <th>159</th>\n",
       "      <td>rain</td>\n",
       "      <td>0</td>\n",
       "      <td>1</td>\n",
       "      <td>0</td>\n",
       "    </tr>\n",
       "    <tr>\n",
       "      <th>118</th>\n",
       "      <td>snow</td>\n",
       "      <td>0</td>\n",
       "      <td>1</td>\n",
       "      <td>0</td>\n",
       "    </tr>\n",
       "    <tr>\n",
       "      <th>253</th>\n",
       "      <td>sun</td>\n",
       "      <td>0</td>\n",
       "      <td>0</td>\n",
       "      <td>1</td>\n",
       "    </tr>\n",
       "    <tr>\n",
       "      <th>249</th>\n",
       "      <td>sun</td>\n",
       "      <td>0</td>\n",
       "      <td>0</td>\n",
       "      <td>1</td>\n",
       "    </tr>\n",
       "    <tr>\n",
       "      <th>55</th>\n",
       "      <td>rain</td>\n",
       "      <td>0</td>\n",
       "      <td>1</td>\n",
       "      <td>0</td>\n",
       "    </tr>\n",
       "    <tr>\n",
       "      <th>102</th>\n",
       "      <td>rain</td>\n",
       "      <td>0</td>\n",
       "      <td>1</td>\n",
       "      <td>0</td>\n",
       "    </tr>\n",
       "    <tr>\n",
       "      <th>87</th>\n",
       "      <td>rain</td>\n",
       "      <td>0</td>\n",
       "      <td>1</td>\n",
       "      <td>0</td>\n",
       "    </tr>\n",
       "  </tbody>\n",
       "</table>\n",
       "</div>"
      ],
      "text/plain": [
       "    specials  AC  rain  sun\n",
       "273   AC sun   1     0    1\n",
       "41        AC   1     0    0\n",
       "344  ac rain   1     1    0\n",
       "331   AC Sun   1     0    1\n",
       "139     rain   0     1    0\n",
       "387       AC   1     0    0\n",
       "59      rain   0     1    0\n",
       "204  AC rain   1     1    0\n",
       "277  AC rain   1     1    0\n",
       "104  AC rain   1     1    0\n",
       "240      sun   0     0    1\n",
       "299   sun ac   1     0    1\n",
       "158     rain   0     1    0\n",
       "286      sun   0     0    1\n",
       "303       ac   1     0    0\n",
       "125     snow   0     1    0\n",
       "157     rain   0     1    0\n",
       "295      sun   0     0    1\n",
       "250      sun   0     0    1\n",
       "367       ac   1     0    0\n",
       "320      sun   0     0    1\n",
       "246     rain   0     1    0\n",
       "224     rain   0     1    0\n",
       "382      sun   0     0    1\n",
       "101  AC rain   1     1    0\n",
       "50      rain   0     1    0\n",
       "265      sun   0     0    1\n",
       "40   AC rain   1     1    0\n",
       "384       AC   1     0    0\n",
       "311      sun   0     0    1\n",
       "219      sun   0     0    1\n",
       "243     rain   0     1    0\n",
       "374       ac   1     0    0\n",
       "350     rain   0     1    0\n",
       "300      sun   0     0    1\n",
       "378       ac   1     0    0\n",
       "261      sun   0     0    1\n",
       "386       AC   1     0    0\n",
       "368       ac   1     0    0\n",
       "334       ac   0     0    0\n",
       "86      rain   0     1    0\n",
       "248      sun   0     0    1\n",
       "321     rain   0     1    0\n",
       "159     rain   0     1    0\n",
       "118     snow   0     1    0\n",
       "253      sun   0     0    1\n",
       "249      sun   0     0    1\n",
       "55      rain   0     1    0\n",
       "102     rain   0     1    0\n",
       "87      rain   0     1    0"
      ]
     },
     "execution_count": 10,
     "metadata": {},
     "output_type": "execute_result"
    }
   ],
   "source": [
    "cobify2[cobify2['specials'].isna()==False][['specials','AC','rain','sun']].sample(50)"
   ]
  },
  {
   "attachments": {},
   "cell_type": "markdown",
   "metadata": {},
   "source": [
    "## Cleaning"
   ]
  },
  {
   "cell_type": "code",
   "execution_count": 11,
   "metadata": {},
   "outputs": [],
   "source": [
    "#we can drop 'specials' as was dummyfied in the next 3 columns (snow as rain too)\n",
    "\n",
    "cobify2.drop(columns='specials', inplace=True)"
   ]
  },
  {
   "cell_type": "code",
   "execution_count": 12,
   "metadata": {},
   "outputs": [
    {
     "data": {
      "text/plain": [
       "distance           0\n",
       "consume            0\n",
       "speed              0\n",
       "temp_inside       12\n",
       "temp_outside       0\n",
       "gas_type           0\n",
       "AC                 0\n",
       "rain               0\n",
       "sun                0\n",
       "refill liters    375\n",
       "refill gas       375\n",
       "dtype: int64"
      ]
     },
     "metadata": {},
     "output_type": "display_data"
    },
    {
     "data": {
      "text/plain": [
       "3.0927835051546393"
      ]
     },
     "metadata": {},
     "output_type": "display_data"
    },
    {
     "data": {
      "text/plain": [
       "96.64948453608247"
      ]
     },
     "metadata": {},
     "output_type": "display_data"
    },
    {
     "data": {
      "text/plain": [
       "96.64948453608247"
      ]
     },
     "metadata": {},
     "output_type": "display_data"
    }
   ],
   "source": [
    "display(cobify2.isna().sum())\n",
    "display(cobify2['temp_inside'].isna().sum()/len(cobify2['temp_inside'])*100)\n",
    "display(cobify2['refill liters'].isna().sum()/len(cobify2['refill liters'])*100)\n",
    "display(cobify2['refill gas'].isna().sum()/len(cobify2['refill gas'])*100)\n"
   ]
  },
  {
   "cell_type": "code",
   "execution_count": 13,
   "metadata": {},
   "outputs": [
    {
     "data": {
      "text/plain": [
       "distance        0\n",
       "consume         0\n",
       "speed           0\n",
       "temp_inside     0\n",
       "temp_outside    0\n",
       "gas_type        0\n",
       "AC              0\n",
       "rain            0\n",
       "sun             0\n",
       "dtype: int64"
      ]
     },
     "metadata": {},
     "output_type": "display_data"
    },
    {
     "data": {
      "text/plain": [
       "(376, 9)"
      ]
     },
     "metadata": {},
     "output_type": "display_data"
    }
   ],
   "source": [
    "#Since the NAN values are very low in temp_inside and very high in the refill columns, I will drop the lines on temp_inside and the columns of refill\n",
    "\n",
    "cobify2.dropna(subset=['temp_inside'], inplace=True)\n",
    "cobify2.drop(columns=['refill liters','refill gas'], inplace=True)\n",
    "display(cobify2.isna().sum())\n",
    "display(cobify2.shape)"
   ]
  },
  {
   "attachments": {},
   "cell_type": "markdown",
   "metadata": {},
   "source": [
    "## Calculating costs\n",
    "- Exploring the dataset in Kaggle, there is a picture with the prices of the gas types, so I will use it, knowning that the fuel prices change almost everyday:\n",
    "    - E10: 1.379\n",
    "    - SP98: 1.459\n",
    "- Comsumption is liters per 100 km so if we have a comsumption of 5 and we drive a distance of 50km, the liters of the trip are 2.5 [(50/100)*5]\n",
    "\n"
   ]
  },
  {
   "cell_type": "code",
   "execution_count": 18,
   "metadata": {},
   "outputs": [
    {
     "data": {
      "text/html": [
       "<div>\n",
       "<style scoped>\n",
       "    .dataframe tbody tr th:only-of-type {\n",
       "        vertical-align: middle;\n",
       "    }\n",
       "\n",
       "    .dataframe tbody tr th {\n",
       "        vertical-align: top;\n",
       "    }\n",
       "\n",
       "    .dataframe thead th {\n",
       "        text-align: right;\n",
       "    }\n",
       "</style>\n",
       "<table border=\"1\" class=\"dataframe\">\n",
       "  <thead>\n",
       "    <tr style=\"text-align: right;\">\n",
       "      <th></th>\n",
       "      <th>distance</th>\n",
       "      <th>consume</th>\n",
       "      <th>speed</th>\n",
       "      <th>temp_inside</th>\n",
       "      <th>temp_outside</th>\n",
       "      <th>gas_type</th>\n",
       "      <th>AC</th>\n",
       "      <th>rain</th>\n",
       "      <th>sun</th>\n",
       "      <th>gas_price</th>\n",
       "      <th>liters_trip</th>\n",
       "      <th>trip_cost</th>\n",
       "      <th>km_cost</th>\n",
       "    </tr>\n",
       "  </thead>\n",
       "  <tbody>\n",
       "    <tr>\n",
       "      <th>69</th>\n",
       "      <td>11.8</td>\n",
       "      <td>4.5</td>\n",
       "      <td>37</td>\n",
       "      <td>21.5</td>\n",
       "      <td>4</td>\n",
       "      <td>SP98</td>\n",
       "      <td>1</td>\n",
       "      <td>0</td>\n",
       "      <td>0</td>\n",
       "      <td>1.459</td>\n",
       "      <td>0.5310</td>\n",
       "      <td>0.774729</td>\n",
       "      <td>0.065655</td>\n",
       "    </tr>\n",
       "    <tr>\n",
       "      <th>41</th>\n",
       "      <td>4.5</td>\n",
       "      <td>5.0</td>\n",
       "      <td>29</td>\n",
       "      <td>21.5</td>\n",
       "      <td>7</td>\n",
       "      <td>E10</td>\n",
       "      <td>1</td>\n",
       "      <td>0</td>\n",
       "      <td>0</td>\n",
       "      <td>1.379</td>\n",
       "      <td>0.2250</td>\n",
       "      <td>0.310275</td>\n",
       "      <td>0.068950</td>\n",
       "    </tr>\n",
       "    <tr>\n",
       "      <th>226</th>\n",
       "      <td>31.4</td>\n",
       "      <td>4.6</td>\n",
       "      <td>62</td>\n",
       "      <td>22.5</td>\n",
       "      <td>11</td>\n",
       "      <td>SP98</td>\n",
       "      <td>0</td>\n",
       "      <td>0</td>\n",
       "      <td>0</td>\n",
       "      <td>1.459</td>\n",
       "      <td>1.4444</td>\n",
       "      <td>2.107380</td>\n",
       "      <td>0.067114</td>\n",
       "    </tr>\n",
       "    <tr>\n",
       "      <th>325</th>\n",
       "      <td>16.6</td>\n",
       "      <td>3.7</td>\n",
       "      <td>49</td>\n",
       "      <td>22.0</td>\n",
       "      <td>17</td>\n",
       "      <td>E10</td>\n",
       "      <td>0</td>\n",
       "      <td>0</td>\n",
       "      <td>0</td>\n",
       "      <td>1.379</td>\n",
       "      <td>0.6142</td>\n",
       "      <td>0.846982</td>\n",
       "      <td>0.051023</td>\n",
       "    </tr>\n",
       "    <tr>\n",
       "      <th>300</th>\n",
       "      <td>36.5</td>\n",
       "      <td>3.9</td>\n",
       "      <td>54</td>\n",
       "      <td>23.0</td>\n",
       "      <td>18</td>\n",
       "      <td>SP98</td>\n",
       "      <td>0</td>\n",
       "      <td>0</td>\n",
       "      <td>1</td>\n",
       "      <td>1.459</td>\n",
       "      <td>1.4235</td>\n",
       "      <td>2.076887</td>\n",
       "      <td>0.056901</td>\n",
       "    </tr>\n",
       "    <tr>\n",
       "      <th>334</th>\n",
       "      <td>129.7</td>\n",
       "      <td>4.6</td>\n",
       "      <td>58</td>\n",
       "      <td>24.0</td>\n",
       "      <td>21</td>\n",
       "      <td>E10</td>\n",
       "      <td>0</td>\n",
       "      <td>0</td>\n",
       "      <td>0</td>\n",
       "      <td>1.379</td>\n",
       "      <td>5.9662</td>\n",
       "      <td>8.227390</td>\n",
       "      <td>0.063434</td>\n",
       "    </tr>\n",
       "    <tr>\n",
       "      <th>342</th>\n",
       "      <td>15.4</td>\n",
       "      <td>3.8</td>\n",
       "      <td>47</td>\n",
       "      <td>22.0</td>\n",
       "      <td>24</td>\n",
       "      <td>E10</td>\n",
       "      <td>0</td>\n",
       "      <td>0</td>\n",
       "      <td>0</td>\n",
       "      <td>1.379</td>\n",
       "      <td>0.5852</td>\n",
       "      <td>0.806991</td>\n",
       "      <td>0.052402</td>\n",
       "    </tr>\n",
       "    <tr>\n",
       "      <th>332</th>\n",
       "      <td>4.8</td>\n",
       "      <td>4.7</td>\n",
       "      <td>26</td>\n",
       "      <td>25.0</td>\n",
       "      <td>18</td>\n",
       "      <td>E10</td>\n",
       "      <td>0</td>\n",
       "      <td>0</td>\n",
       "      <td>0</td>\n",
       "      <td>1.379</td>\n",
       "      <td>0.2256</td>\n",
       "      <td>0.311102</td>\n",
       "      <td>0.064813</td>\n",
       "    </tr>\n",
       "    <tr>\n",
       "      <th>90</th>\n",
       "      <td>11.8</td>\n",
       "      <td>4.3</td>\n",
       "      <td>37</td>\n",
       "      <td>20.0</td>\n",
       "      <td>6</td>\n",
       "      <td>SP98</td>\n",
       "      <td>0</td>\n",
       "      <td>0</td>\n",
       "      <td>0</td>\n",
       "      <td>1.459</td>\n",
       "      <td>0.5074</td>\n",
       "      <td>0.740297</td>\n",
       "      <td>0.062737</td>\n",
       "    </tr>\n",
       "    <tr>\n",
       "      <th>15</th>\n",
       "      <td>17.3</td>\n",
       "      <td>5.1</td>\n",
       "      <td>24</td>\n",
       "      <td>21.5</td>\n",
       "      <td>5</td>\n",
       "      <td>E10</td>\n",
       "      <td>0</td>\n",
       "      <td>0</td>\n",
       "      <td>0</td>\n",
       "      <td>1.379</td>\n",
       "      <td>0.8823</td>\n",
       "      <td>1.216692</td>\n",
       "      <td>0.070329</td>\n",
       "    </tr>\n",
       "  </tbody>\n",
       "</table>\n",
       "</div>"
      ],
      "text/plain": [
       "     distance  consume  speed  temp_inside  temp_outside gas_type  AC  rain  \\\n",
       "69       11.8      4.5     37         21.5             4     SP98   1     0   \n",
       "41        4.5      5.0     29         21.5             7      E10   1     0   \n",
       "226      31.4      4.6     62         22.5            11     SP98   0     0   \n",
       "325      16.6      3.7     49         22.0            17      E10   0     0   \n",
       "300      36.5      3.9     54         23.0            18     SP98   0     0   \n",
       "334     129.7      4.6     58         24.0            21      E10   0     0   \n",
       "342      15.4      3.8     47         22.0            24      E10   0     0   \n",
       "332       4.8      4.7     26         25.0            18      E10   0     0   \n",
       "90       11.8      4.3     37         20.0             6     SP98   0     0   \n",
       "15       17.3      5.1     24         21.5             5      E10   0     0   \n",
       "\n",
       "     sun  gas_price  liters_trip  trip_cost   km_cost  \n",
       "69     0      1.459       0.5310   0.774729  0.065655  \n",
       "41     0      1.379       0.2250   0.310275  0.068950  \n",
       "226    0      1.459       1.4444   2.107380  0.067114  \n",
       "325    0      1.379       0.6142   0.846982  0.051023  \n",
       "300    1      1.459       1.4235   2.076887  0.056901  \n",
       "334    0      1.379       5.9662   8.227390  0.063434  \n",
       "342    0      1.379       0.5852   0.806991  0.052402  \n",
       "332    0      1.379       0.2256   0.311102  0.064813  \n",
       "90     0      1.459       0.5074   0.740297  0.062737  \n",
       "15     0      1.379       0.8823   1.216692  0.070329  "
      ]
     },
     "metadata": {},
     "output_type": "display_data"
    },
    {
     "data": {
      "text/html": [
       "<div>\n",
       "<style scoped>\n",
       "    .dataframe tbody tr th:only-of-type {\n",
       "        vertical-align: middle;\n",
       "    }\n",
       "\n",
       "    .dataframe tbody tr th {\n",
       "        vertical-align: top;\n",
       "    }\n",
       "\n",
       "    .dataframe thead th {\n",
       "        text-align: right;\n",
       "    }\n",
       "</style>\n",
       "<table border=\"1\" class=\"dataframe\">\n",
       "  <thead>\n",
       "    <tr style=\"text-align: right;\">\n",
       "      <th></th>\n",
       "      <th>gas_type</th>\n",
       "      <th>km_cost</th>\n",
       "      <th>mean consume</th>\n",
       "    </tr>\n",
       "  </thead>\n",
       "  <tbody>\n",
       "    <tr>\n",
       "      <th>0</th>\n",
       "      <td>E10</td>\n",
       "      <td>0.068274</td>\n",
       "      <td>4.950955</td>\n",
       "    </tr>\n",
       "    <tr>\n",
       "      <th>1</th>\n",
       "      <td>SP98</td>\n",
       "      <td>0.071591</td>\n",
       "      <td>4.906849</td>\n",
       "    </tr>\n",
       "  </tbody>\n",
       "</table>\n",
       "</div>"
      ],
      "text/plain": [
       "  gas_type   km_cost  mean consume\n",
       "0      E10  0.068274      4.950955\n",
       "1     SP98  0.071591      4.906849"
      ]
     },
     "metadata": {},
     "output_type": "display_data"
    }
   ],
   "source": [
    "gas_E10 = 1.379\n",
    "gas_SP98 = 1.459\n",
    "\n",
    "cobify = cobify2.copy()\n",
    "cobify['gas_price'] = np.where(cobify['gas_type']=='E10',gas_E10,gas_SP98)\n",
    "cobify['liters_trip'] = (cobify2['distance']/100)*cobify2['consume']\n",
    "cobify['trip_cost'] = cobify['liters_trip']*cobify['gas_price']\n",
    "cobify['km_cost'] = cobify['trip_cost']/cobify['distance']\n",
    "\n",
    "display(cobify.sample(10))\n",
    "\n",
    "#Means of cost of km and consume\n",
    "\n",
    "display(cobify.groupby('gas_type').agg({'km_cost':'mean','consume':'mean'}).reset_index().rename(columns={'consume':'mean consume'}))\n",
    "\n",
    "\n"
   ]
  },
  {
   "attachments": {},
   "cell_type": "markdown",
   "metadata": {},
   "source": [
    "As we can see, with a similar consume, the E10 had a lower cost per km, in a real situation, my car for example can run 800km with the full tank, so I would save:\n",
    "\n",
    "- 0.068274 * 800 = 54.6192\n",
    "- 0.071591 * 800 = 57.2728\n",
    "\n",
    "Saving in one full tank: 2.6536 €"
   ]
  },
  {
   "attachments": {},
   "cell_type": "markdown",
   "metadata": {},
   "source": [
    "## Visualizations"
   ]
  },
  {
   "cell_type": "code",
   "execution_count": 26,
   "metadata": {},
   "outputs": [
    {
     "data": {
      "text/plain": [
       "<matplotlib.collections.PathCollection at 0x7f99f1609d00>"
      ]
     },
     "execution_count": 26,
     "metadata": {},
     "output_type": "execute_result"
    },
    {
     "data": {
      "image/png": "[encoded data removed]",
      "text/plain": [
       "<Figure size 640x480 with 1 Axes>"
      ]
     },
     "metadata": {},
     "output_type": "display_data"
    }
   ],
   "source": [
    "#speed vs km_cost\n",
    "\n",
    "plt.scatter(cobify['speed'],cobify['km_cost'])"
   ]
  },
  {
   "attachments": {},
   "cell_type": "markdown",
   "metadata": {},
   "source": [
    "Speed seems has a little relevance, will see in the correlation"
   ]
  },
  {
   "cell_type": "code",
   "execution_count": 36,
   "metadata": {},
   "outputs": [
    {
     "data": {
      "text/plain": [
       "<matplotlib.collections.PathCollection at 0x7f99f025c490>"
      ]
     },
     "execution_count": 36,
     "metadata": {},
     "output_type": "execute_result"
    },
    {
     "data": {
      "image/png": "[encoded data removed]",
      "text/plain": [
       "<Figure size 640x480 with 1 Axes>"
      ]
     },
     "metadata": {},
     "output_type": "display_data"
    }
   ],
   "source": [
    "#temp_outside vs km_cost\n",
    "\n",
    "plt.scatter(cobify['temp_outside'],cobify['km_cost'])\n"
   ]
  },
  {
   "cell_type": "code",
   "execution_count": 35,
   "metadata": {},
   "outputs": [
    {
     "data": {
      "text/plain": [
       "<matplotlib.collections.PathCollection at 0x7f99f0124d60>"
      ]
     },
     "execution_count": 35,
     "metadata": {},
     "output_type": "execute_result"
    },
    {
     "data": {
      "image/png": "[encoded data removed]",
      "text/plain": [
       "<Figure size 640x480 with 1 Axes>"
      ]
     },
     "metadata": {},
     "output_type": "display_data"
    }
   ],
   "source": [
    "#temp_inside vs km_cost\n",
    "\n",
    "plt.scatter(cobify['temp_inside'],cobify['km_cost'])"
   ]
  },
  {
   "attachments": {},
   "cell_type": "markdown",
   "metadata": {},
   "source": [
    "Temperatures doesn't seems to have many relevance"
   ]
  },
  {
   "cell_type": "code",
   "execution_count": 40,
   "metadata": {},
   "outputs": [
    {
     "data": {
      "text/plain": [
       "<matplotlib.collections.PathCollection at 0x7f99eb690d90>"
      ]
     },
     "execution_count": 40,
     "metadata": {},
     "output_type": "execute_result"
    },
    {
     "data": {
      "image/png": "[encoded data removed]",
      "text/plain": [
       "<Figure size 640x480 with 1 Axes>"
      ]
     },
     "metadata": {},
     "output_type": "display_data"
    }
   ],
   "source": [
    "#AC vs km_cost\n",
    "\n",
    "plt.scatter(cobify['AC'],cobify['km_cost'])"
   ]
  },
  {
   "cell_type": "code",
   "execution_count": 41,
   "metadata": {},
   "outputs": [
    {
     "data": {
      "text/plain": [
       "<matplotlib.collections.PathCollection at 0x7f99eb6122b0>"
      ]
     },
     "execution_count": 41,
     "metadata": {},
     "output_type": "execute_result"
    },
    {
     "data": {
      "image/png": "[encoded data removed]",
      "text/plain": [
       "<Figure size 640x480 with 1 Axes>"
      ]
     },
     "metadata": {},
     "output_type": "display_data"
    }
   ],
   "source": [
    "#rain vs km_cost\n",
    "\n",
    "plt.scatter(cobify['rain'],cobify['km_cost'])"
   ]
  },
  {
   "cell_type": "code",
   "execution_count": 42,
   "metadata": {},
   "outputs": [
    {
     "data": {
      "text/plain": [
       "<matplotlib.collections.PathCollection at 0x7f99eb5fc7f0>"
      ]
     },
     "execution_count": 42,
     "metadata": {},
     "output_type": "execute_result"
    },
    {
     "data": {
      "image/png": "[encoded data removed]",
      "text/plain": [
       "<Figure size 640x480 with 1 Axes>"
      ]
     },
     "metadata": {},
     "output_type": "display_data"
    }
   ],
   "source": [
    "#Sun vs km_cost\n",
    "\n",
    "plt.scatter(cobify['sun'],cobify['km_cost'])"
   ]
  },
  {
   "attachments": {},
   "cell_type": "markdown",
   "metadata": {},
   "source": [
    "Sunny days seemed to have less consume.\n",
    "AC turned on, could make the car consume more."
   ]
  },
  {
   "attachments": {},
   "cell_type": "markdown",
   "metadata": {},
   "source": [
    "## Prediction of cost_km\n",
    "\n",
    "\n"
   ]
  },
  {
   "cell_type": "code",
   "execution_count": 49,
   "metadata": {},
   "outputs": [
    {
     "data": {
      "text/html": [
       "<div>\n",
       "<style scoped>\n",
       "    .dataframe tbody tr th:only-of-type {\n",
       "        vertical-align: middle;\n",
       "    }\n",
       "\n",
       "    .dataframe tbody tr th {\n",
       "        vertical-align: top;\n",
       "    }\n",
       "\n",
       "    .dataframe thead th {\n",
       "        text-align: right;\n",
       "    }\n",
       "</style>\n",
       "<table border=\"1\" class=\"dataframe\">\n",
       "  <thead>\n",
       "    <tr style=\"text-align: right;\">\n",
       "      <th></th>\n",
       "      <th>distance</th>\n",
       "      <th>consume</th>\n",
       "      <th>speed</th>\n",
       "      <th>temp_inside</th>\n",
       "      <th>temp_outside</th>\n",
       "      <th>gas_type</th>\n",
       "      <th>AC</th>\n",
       "      <th>rain</th>\n",
       "      <th>sun</th>\n",
       "      <th>gas_price</th>\n",
       "      <th>liters_trip</th>\n",
       "      <th>trip_cost</th>\n",
       "      <th>km_cost</th>\n",
       "    </tr>\n",
       "  </thead>\n",
       "  <tbody>\n",
       "    <tr>\n",
       "      <th>distance</th>\n",
       "      <td>1.000000</td>\n",
       "      <td>-0.131379</td>\n",
       "      <td>0.565505</td>\n",
       "      <td>0.075305</td>\n",
       "      <td>0.086774</td>\n",
       "      <td>0.047877</td>\n",
       "      <td>-0.027670</td>\n",
       "      <td>-0.022129</td>\n",
       "      <td>0.078627</td>\n",
       "      <td>-0.047877</td>\n",
       "      <td>0.992271</td>\n",
       "      <td>0.990970</td>\n",
       "      <td>-0.135967</td>\n",
       "    </tr>\n",
       "    <tr>\n",
       "      <th>consume</th>\n",
       "      <td>-0.131379</td>\n",
       "      <td>1.000000</td>\n",
       "      <td>-0.234537</td>\n",
       "      <td>-0.161991</td>\n",
       "      <td>-0.318758</td>\n",
       "      <td>0.020928</td>\n",
       "      <td>0.093892</td>\n",
       "      <td>0.247699</td>\n",
       "      <td>-0.169173</td>\n",
       "      <td>-0.020928</td>\n",
       "      <td>-0.056157</td>\n",
       "      <td>-0.056011</td>\n",
       "      <td>0.991202</td>\n",
       "    </tr>\n",
       "    <tr>\n",
       "      <th>speed</th>\n",
       "      <td>0.565505</td>\n",
       "      <td>-0.234537</td>\n",
       "      <td>1.000000</td>\n",
       "      <td>0.059725</td>\n",
       "      <td>0.019327</td>\n",
       "      <td>0.099495</td>\n",
       "      <td>-0.036351</td>\n",
       "      <td>-0.002936</td>\n",
       "      <td>0.077181</td>\n",
       "      <td>-0.099495</td>\n",
       "      <td>0.554691</td>\n",
       "      <td>0.549062</td>\n",
       "      <td>-0.245135</td>\n",
       "    </tr>\n",
       "    <tr>\n",
       "      <th>temp_inside</th>\n",
       "      <td>0.075305</td>\n",
       "      <td>-0.161991</td>\n",
       "      <td>0.059725</td>\n",
       "      <td>1.000000</td>\n",
       "      <td>0.361308</td>\n",
       "      <td>-0.010340</td>\n",
       "      <td>0.297775</td>\n",
       "      <td>-0.037356</td>\n",
       "      <td>0.246120</td>\n",
       "      <td>0.010340</td>\n",
       "      <td>0.062473</td>\n",
       "      <td>0.061907</td>\n",
       "      <td>-0.161530</td>\n",
       "    </tr>\n",
       "    <tr>\n",
       "      <th>temp_outside</th>\n",
       "      <td>0.086774</td>\n",
       "      <td>-0.318758</td>\n",
       "      <td>0.019327</td>\n",
       "      <td>0.361308</td>\n",
       "      <td>1.000000</td>\n",
       "      <td>-0.156990</td>\n",
       "      <td>0.169374</td>\n",
       "      <td>-0.185731</td>\n",
       "      <td>0.349988</td>\n",
       "      <td>0.156990</td>\n",
       "      <td>0.037425</td>\n",
       "      <td>0.040019</td>\n",
       "      <td>-0.296167</td>\n",
       "    </tr>\n",
       "    <tr>\n",
       "      <th>gas_type</th>\n",
       "      <td>0.047877</td>\n",
       "      <td>0.020928</td>\n",
       "      <td>0.099495</td>\n",
       "      <td>-0.010340</td>\n",
       "      <td>-0.156990</td>\n",
       "      <td>1.000000</td>\n",
       "      <td>-0.109996</td>\n",
       "      <td>-0.059112</td>\n",
       "      <td>-0.038120</td>\n",
       "      <td>-1.000000</td>\n",
       "      <td>0.051455</td>\n",
       "      <td>0.027714</td>\n",
       "      <td>-0.109082</td>\n",
       "    </tr>\n",
       "    <tr>\n",
       "      <th>AC</th>\n",
       "      <td>-0.027670</td>\n",
       "      <td>0.093892</td>\n",
       "      <td>-0.036351</td>\n",
       "      <td>0.297775</td>\n",
       "      <td>0.169374</td>\n",
       "      <td>-0.109996</td>\n",
       "      <td>1.000000</td>\n",
       "      <td>0.244848</td>\n",
       "      <td>0.090164</td>\n",
       "      <td>0.109996</td>\n",
       "      <td>-0.020951</td>\n",
       "      <td>-0.019447</td>\n",
       "      <td>0.108661</td>\n",
       "    </tr>\n",
       "    <tr>\n",
       "      <th>rain</th>\n",
       "      <td>-0.022129</td>\n",
       "      <td>0.247699</td>\n",
       "      <td>-0.002936</td>\n",
       "      <td>-0.037356</td>\n",
       "      <td>-0.185731</td>\n",
       "      <td>-0.059112</td>\n",
       "      <td>0.244848</td>\n",
       "      <td>1.000000</td>\n",
       "      <td>-0.113298</td>\n",
       "      <td>0.059112</td>\n",
       "      <td>0.006391</td>\n",
       "      <td>0.008833</td>\n",
       "      <td>0.253692</td>\n",
       "    </tr>\n",
       "    <tr>\n",
       "      <th>sun</th>\n",
       "      <td>0.078627</td>\n",
       "      <td>-0.169173</td>\n",
       "      <td>0.077181</td>\n",
       "      <td>0.246120</td>\n",
       "      <td>0.349988</td>\n",
       "      <td>-0.038120</td>\n",
       "      <td>0.090164</td>\n",
       "      <td>-0.113298</td>\n",
       "      <td>1.000000</td>\n",
       "      <td>0.038120</td>\n",
       "      <td>0.062970</td>\n",
       "      <td>0.064834</td>\n",
       "      <td>-0.163373</td>\n",
       "    </tr>\n",
       "    <tr>\n",
       "      <th>gas_price</th>\n",
       "      <td>-0.047877</td>\n",
       "      <td>-0.020928</td>\n",
       "      <td>-0.099495</td>\n",
       "      <td>0.010340</td>\n",
       "      <td>0.156990</td>\n",
       "      <td>-1.000000</td>\n",
       "      <td>0.109996</td>\n",
       "      <td>0.059112</td>\n",
       "      <td>0.038120</td>\n",
       "      <td>1.000000</td>\n",
       "      <td>-0.051455</td>\n",
       "      <td>-0.027714</td>\n",
       "      <td>0.109082</td>\n",
       "    </tr>\n",
       "    <tr>\n",
       "      <th>liters_trip</th>\n",
       "      <td>0.992271</td>\n",
       "      <td>-0.056157</td>\n",
       "      <td>0.554691</td>\n",
       "      <td>0.062473</td>\n",
       "      <td>0.037425</td>\n",
       "      <td>0.051455</td>\n",
       "      <td>-0.020951</td>\n",
       "      <td>0.006391</td>\n",
       "      <td>0.062970</td>\n",
       "      <td>-0.051455</td>\n",
       "      <td>1.000000</td>\n",
       "      <td>0.999390</td>\n",
       "      <td>-0.061845</td>\n",
       "    </tr>\n",
       "    <tr>\n",
       "      <th>trip_cost</th>\n",
       "      <td>0.990970</td>\n",
       "      <td>-0.056011</td>\n",
       "      <td>0.549062</td>\n",
       "      <td>0.061907</td>\n",
       "      <td>0.040019</td>\n",
       "      <td>0.027714</td>\n",
       "      <td>-0.019447</td>\n",
       "      <td>0.008833</td>\n",
       "      <td>0.064834</td>\n",
       "      <td>-0.027714</td>\n",
       "      <td>0.999390</td>\n",
       "      <td>1.000000</td>\n",
       "      <td>-0.058667</td>\n",
       "    </tr>\n",
       "    <tr>\n",
       "      <th>km_cost</th>\n",
       "      <td>-0.135967</td>\n",
       "      <td>0.991202</td>\n",
       "      <td>-0.245135</td>\n",
       "      <td>-0.161530</td>\n",
       "      <td>-0.296167</td>\n",
       "      <td>-0.109082</td>\n",
       "      <td>0.108661</td>\n",
       "      <td>0.253692</td>\n",
       "      <td>-0.163373</td>\n",
       "      <td>0.109082</td>\n",
       "      <td>-0.061845</td>\n",
       "      <td>-0.058667</td>\n",
       "      <td>1.000000</td>\n",
       "    </tr>\n",
       "  </tbody>\n",
       "</table>\n",
       "</div>"
      ],
      "text/plain": [
       "              distance   consume     speed  temp_inside  temp_outside  \\\n",
       "distance      1.000000 -0.131379  0.565505     0.075305      0.086774   \n",
       "consume      -0.131379  1.000000 -0.234537    -0.161991     -0.318758   \n",
       "speed         0.565505 -0.234537  1.000000     0.059725      0.019327   \n",
       "temp_inside   0.075305 -0.161991  0.059725     1.000000      0.361308   \n",
       "temp_outside  0.086774 -0.318758  0.019327     0.361308      1.000000   \n",
       "gas_type      0.047877  0.020928  0.099495    -0.010340     -0.156990   \n",
       "AC           -0.027670  0.093892 -0.036351     0.297775      0.169374   \n",
       "rain         -0.022129  0.247699 -0.002936    -0.037356     -0.185731   \n",
       "sun           0.078627 -0.169173  0.077181     0.246120      0.349988   \n",
       "gas_price    -0.047877 -0.020928 -0.099495     0.010340      0.156990   \n",
       "liters_trip   0.992271 -0.056157  0.554691     0.062473      0.037425   \n",
       "trip_cost     0.990970 -0.056011  0.549062     0.061907      0.040019   \n",
       "km_cost      -0.135967  0.991202 -0.245135    -0.161530     -0.296167   \n",
       "\n",
       "              gas_type        AC      rain       sun  gas_price  liters_trip  \\\n",
       "distance      0.047877 -0.027670 -0.022129  0.078627  -0.047877     0.992271   \n",
       "consume       0.020928  0.093892  0.247699 -0.169173  -0.020928    -0.056157   \n",
       "speed         0.099495 -0.036351 -0.002936  0.077181  -0.099495     0.554691   \n",
       "temp_inside  -0.010340  0.297775 -0.037356  0.246120   0.010340     0.062473   \n",
       "temp_outside -0.156990  0.169374 -0.185731  0.349988   0.156990     0.037425   \n",
       "gas_type      1.000000 -0.109996 -0.059112 -0.038120  -1.000000     0.051455   \n",
       "AC           -0.109996  1.000000  0.244848  0.090164   0.109996    -0.020951   \n",
       "rain         -0.059112  0.244848  1.000000 -0.113298   0.059112     0.006391   \n",
       "sun          -0.038120  0.090164 -0.113298  1.000000   0.038120     0.062970   \n",
       "gas_price    -1.000000  0.109996  0.059112  0.038120   1.000000    -0.051455   \n",
       "liters_trip   0.051455 -0.020951  0.006391  0.062970  -0.051455     1.000000   \n",
       "trip_cost     0.027714 -0.019447  0.008833  0.064834  -0.027714     0.999390   \n",
       "km_cost      -0.109082  0.108661  0.253692 -0.163373   0.109082    -0.061845   \n",
       "\n",
       "              trip_cost   km_cost  \n",
       "distance       0.990970 -0.135967  \n",
       "consume       -0.056011  0.991202  \n",
       "speed          0.549062 -0.245135  \n",
       "temp_inside    0.061907 -0.161530  \n",
       "temp_outside   0.040019 -0.296167  \n",
       "gas_type       0.027714 -0.109082  \n",
       "AC            -0.019447  0.108661  \n",
       "rain           0.008833  0.253692  \n",
       "sun            0.064834 -0.163373  \n",
       "gas_price     -0.027714  0.109082  \n",
       "liters_trip    0.999390 -0.061845  \n",
       "trip_cost      1.000000 -0.058667  \n",
       "km_cost       -0.058667  1.000000  "
      ]
     },
     "metadata": {},
     "output_type": "display_data"
    },
    {
     "data": {
      "text/plain": [
       "<AxesSubplot: >"
      ]
     },
     "execution_count": 49,
     "metadata": {},
     "output_type": "execute_result"
    },
    {
     "data": {
      "image/png": "[encoded data removed]",
      "text/plain": [
       "<Figure size 640x480 with 2 Axes>"
      ]
     },
     "metadata": {},
     "output_type": "display_data"
    }
   ],
   "source": [
    "#Encoding gas types\n",
    "\n",
    "cobify['gas_type'] = cobify['gas_type'].apply(lambda x: 1 if x == 'E10' else 0)\n",
    "\n",
    "display(cobify.corr())\n",
    "sns.heatmap(cobify.corr())\n"
   ]
  },
  {
   "cell_type": "code",
   "execution_count": 50,
   "metadata": {},
   "outputs": [],
   "source": [
    "\n",
    "\n",
    "#I will take those that are correlated but no strongest (>0.90)\n",
    "\n",
    "X = cobify[['rain','AC','sun', 'gas_type', 'temp_outside', 'temp_inside','speed','distance']]\n",
    "y = cobify['km_cost']\n"
   ]
  },
  {
   "attachments": {},
   "cell_type": "markdown",
   "metadata": {},
   "source": [
    "### Linear Regression"
   ]
  },
  {
   "cell_type": "code",
   "execution_count": 53,
   "metadata": {},
   "outputs": [
    {
     "data": {
      "text/plain": [
       "'R^2: 0.17764784874099748'"
      ]
     },
     "metadata": {},
     "output_type": "display_data"
    }
   ],
   "source": [
    "#Spliting in train and test\n",
    "X_train, X_test, y_train, y_test = train_test_split(X, y, test_size=0.2, random_state=3)\n",
    "\n",
    "model = LinearRegression().fit(X_train, y_train)\n",
    "\n",
    "# Predicting the cost\n",
    "y_pred = model.predict(X_test)\n",
    "\n",
    "#Evaluating the model with R²\n",
    "display(f'R²: {r2_score(y_test, y_pred)}')\n"
   ]
  },
  {
   "attachments": {},
   "cell_type": "markdown",
   "metadata": {},
   "source": [
    "very poor the prediction with Lineas Regression. Need to try with another"
   ]
  },
  {
   "attachments": {},
   "cell_type": "markdown",
   "metadata": {},
   "source": [
    "### Gradient boosting regression"
   ]
  },
  {
   "cell_type": "code",
   "execution_count": 55,
   "metadata": {},
   "outputs": [
    {
     "data": {
      "text/plain": [
       "'R²: 0.6665053816838683'"
      ]
     },
     "metadata": {},
     "output_type": "display_data"
    }
   ],
   "source": [
    "model = GradientBoostingRegressor(max_depth=3, n_estimators=100, random_state=3)\n",
    "model.fit(X_train, y_train)\n",
    "\n",
    "# Predicting the cost\n",
    "y_pred = model.predict(X_test)\n",
    "\n",
    "#Evaluating the model with R²\n",
    "display(f'R²: {r2_score(y_test, y_pred)}')"
   ]
  },
  {
   "cell_type": "code",
   "execution_count": 56,
   "metadata": {},
   "outputs": [
    {
     "data": {
      "text/plain": [
       "'R²: 0.7615668482650608'"
      ]
     },
     "metadata": {},
     "output_type": "display_data"
    }
   ],
   "source": [
    "model = GradientBoostingRegressor(max_depth=5, n_estimators=100, random_state=3)\n",
    "model.fit(X_train, y_train)\n",
    "\n",
    "# Predicting the cost\n",
    "y_pred = model.predict(X_test)\n",
    "\n",
    "#Evaluating the model with R²\n",
    "display(f'R²: {r2_score(y_test, y_pred)}')"
   ]
  },
  {
   "cell_type": "code",
   "execution_count": 57,
   "metadata": {},
   "outputs": [
    {
     "data": {
      "text/plain": [
       "'R²: 0.7257331795527537'"
      ]
     },
     "metadata": {},
     "output_type": "display_data"
    }
   ],
   "source": [
    "model = GradientBoostingRegressor(max_depth=10, n_estimators=100, random_state=3)\n",
    "model.fit(X_train, y_train)\n",
    "\n",
    "# Predicting the cost\n",
    "y_pred = model.predict(X_test)\n",
    "\n",
    "#Evaluating the model with R²\n",
    "display(f'R²: {r2_score(y_test, y_pred)}')"
   ]
  },
  {
   "attachments": {},
   "cell_type": "markdown",
   "metadata": {},
   "source": [
    "This algoryhtm much better, with a max_depth = 5 got the best results, but would be necessary to keep trying other options to get a better score."
   ]
  }
 ],
 "metadata": {
  "kernelspec": {
   "display_name": "Python 3",
   "language": "python",
   "name": "python3"
  },
  "language_info": {
   "codemirror_mode": {
    "name": "ipython",
    "version": 3
   },
   "file_extension": ".py",
   "mimetype": "text/x-python",
   "name": "python",
   "nbconvert_exporter": "python",
   "pygments_lexer": "ipython3",
   "version": "3.9.12"
  },
  "orig_nbformat": 4
 },
 "nbformat": 4,
 "nbformat_minor": 2
}
