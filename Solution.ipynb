{
 "cells": [
  {
   "cell_type": "code",
   "execution_count": 1,
   "id": "f54190e2",
   "metadata": {},
   "outputs": [],
   "source": [
    "import pandas as pd"
   ]
  },
  {
   "cell_type": "code",
   "execution_count": 3,
   "id": "11c73cf4",
   "metadata": {},
   "outputs": [],
   "source": [
    "data=pd.read_csv('data/measurements.csv')"
   ]
  },
  {
   "cell_type": "code",
   "execution_count": 4,
   "id": "d6b402a3",
   "metadata": {},
   "outputs": [
    {
     "data": {
      "text/html": [
       "<div>\n",
       "<style scoped>\n",
       "    .dataframe tbody tr th:only-of-type {\n",
       "        vertical-align: middle;\n",
       "    }\n",
       "\n",
       "    .dataframe tbody tr th {\n",
       "        vertical-align: top;\n",
       "    }\n",
       "\n",
       "    .dataframe thead th {\n",
       "        text-align: right;\n",
       "    }\n",
       "</style>\n",
       "<table border=\"1\" class=\"dataframe\">\n",
       "  <thead>\n",
       "    <tr style=\"text-align: right;\">\n",
       "      <th></th>\n",
       "      <th>distance</th>\n",
       "      <th>consume</th>\n",
       "      <th>speed</th>\n",
       "      <th>temp_inside</th>\n",
       "      <th>temp_outside</th>\n",
       "      <th>specials</th>\n",
       "      <th>gas_type</th>\n",
       "      <th>AC</th>\n",
       "      <th>rain</th>\n",
       "      <th>sun</th>\n",
       "      <th>refill liters</th>\n",
       "      <th>refill gas</th>\n",
       "    </tr>\n",
       "  </thead>\n",
       "  <tbody>\n",
       "    <tr>\n",
       "      <th>0</th>\n",
       "      <td>28</td>\n",
       "      <td>5</td>\n",
       "      <td>26</td>\n",
       "      <td>21,5</td>\n",
       "      <td>12</td>\n",
       "      <td>NaN</td>\n",
       "      <td>E10</td>\n",
       "      <td>0</td>\n",
       "      <td>0</td>\n",
       "      <td>0</td>\n",
       "      <td>45</td>\n",
       "      <td>E10</td>\n",
       "    </tr>\n",
       "    <tr>\n",
       "      <th>1</th>\n",
       "      <td>12</td>\n",
       "      <td>4,2</td>\n",
       "      <td>30</td>\n",
       "      <td>21,5</td>\n",
       "      <td>13</td>\n",
       "      <td>NaN</td>\n",
       "      <td>E10</td>\n",
       "      <td>0</td>\n",
       "      <td>0</td>\n",
       "      <td>0</td>\n",
       "      <td>NaN</td>\n",
       "      <td>NaN</td>\n",
       "    </tr>\n",
       "    <tr>\n",
       "      <th>2</th>\n",
       "      <td>11,2</td>\n",
       "      <td>5,5</td>\n",
       "      <td>38</td>\n",
       "      <td>21,5</td>\n",
       "      <td>15</td>\n",
       "      <td>NaN</td>\n",
       "      <td>E10</td>\n",
       "      <td>0</td>\n",
       "      <td>0</td>\n",
       "      <td>0</td>\n",
       "      <td>NaN</td>\n",
       "      <td>NaN</td>\n",
       "    </tr>\n",
       "    <tr>\n",
       "      <th>3</th>\n",
       "      <td>12,9</td>\n",
       "      <td>3,9</td>\n",
       "      <td>36</td>\n",
       "      <td>21,5</td>\n",
       "      <td>14</td>\n",
       "      <td>NaN</td>\n",
       "      <td>E10</td>\n",
       "      <td>0</td>\n",
       "      <td>0</td>\n",
       "      <td>0</td>\n",
       "      <td>NaN</td>\n",
       "      <td>NaN</td>\n",
       "    </tr>\n",
       "    <tr>\n",
       "      <th>4</th>\n",
       "      <td>18,5</td>\n",
       "      <td>4,5</td>\n",
       "      <td>46</td>\n",
       "      <td>21,5</td>\n",
       "      <td>15</td>\n",
       "      <td>NaN</td>\n",
       "      <td>E10</td>\n",
       "      <td>0</td>\n",
       "      <td>0</td>\n",
       "      <td>0</td>\n",
       "      <td>NaN</td>\n",
       "      <td>NaN</td>\n",
       "    </tr>\n",
       "  </tbody>\n",
       "</table>\n",
       "</div>"
      ],
      "text/plain": [
       "  distance consume  speed temp_inside  temp_outside specials gas_type  AC  \\\n",
       "0       28       5     26        21,5            12      NaN      E10   0   \n",
       "1       12     4,2     30        21,5            13      NaN      E10   0   \n",
       "2     11,2     5,5     38        21,5            15      NaN      E10   0   \n",
       "3     12,9     3,9     36        21,5            14      NaN      E10   0   \n",
       "4     18,5     4,5     46        21,5            15      NaN      E10   0   \n",
       "\n",
       "   rain  sun refill liters refill gas  \n",
       "0     0    0            45        E10  \n",
       "1     0    0           NaN        NaN  \n",
       "2     0    0           NaN        NaN  \n",
       "3     0    0           NaN        NaN  \n",
       "4     0    0           NaN        NaN  "
      ]
     },
     "execution_count": 4,
     "metadata": {},
     "output_type": "execute_result"
    }
   ],
   "source": [
    "data.head() #no me lo quedo porque está separado por , y el excel por ."
   ]
  },
  {
   "cell_type": "code",
   "execution_count": 6,
   "id": "856bf140",
   "metadata": {},
   "outputs": [],
   "source": [
    "data2=pd.read_excel('data/measurements2.xlsx')"
   ]
  },
  {
   "cell_type": "code",
   "execution_count": 7,
   "id": "55e4cac2",
   "metadata": {},
   "outputs": [
    {
     "data": {
      "text/html": [
       "<div>\n",
       "<style scoped>\n",
       "    .dataframe tbody tr th:only-of-type {\n",
       "        vertical-align: middle;\n",
       "    }\n",
       "\n",
       "    .dataframe tbody tr th {\n",
       "        vertical-align: top;\n",
       "    }\n",
       "\n",
       "    .dataframe thead th {\n",
       "        text-align: right;\n",
       "    }\n",
       "</style>\n",
       "<table border=\"1\" class=\"dataframe\">\n",
       "  <thead>\n",
       "    <tr style=\"text-align: right;\">\n",
       "      <th></th>\n",
       "      <th>distance</th>\n",
       "      <th>consume</th>\n",
       "      <th>speed</th>\n",
       "      <th>temp_inside</th>\n",
       "      <th>temp_outside</th>\n",
       "      <th>specials</th>\n",
       "      <th>gas_type</th>\n",
       "      <th>AC</th>\n",
       "      <th>rain</th>\n",
       "      <th>sun</th>\n",
       "      <th>refill liters</th>\n",
       "      <th>refill gas</th>\n",
       "    </tr>\n",
       "  </thead>\n",
       "  <tbody>\n",
       "    <tr>\n",
       "      <th>0</th>\n",
       "      <td>28.0</td>\n",
       "      <td>5.0</td>\n",
       "      <td>26</td>\n",
       "      <td>21.5</td>\n",
       "      <td>12</td>\n",
       "      <td>NaN</td>\n",
       "      <td>E10</td>\n",
       "      <td>0</td>\n",
       "      <td>0</td>\n",
       "      <td>0</td>\n",
       "      <td>45.0</td>\n",
       "      <td>E10</td>\n",
       "    </tr>\n",
       "    <tr>\n",
       "      <th>1</th>\n",
       "      <td>12.0</td>\n",
       "      <td>4.2</td>\n",
       "      <td>30</td>\n",
       "      <td>21.5</td>\n",
       "      <td>13</td>\n",
       "      <td>NaN</td>\n",
       "      <td>E10</td>\n",
       "      <td>0</td>\n",
       "      <td>0</td>\n",
       "      <td>0</td>\n",
       "      <td>NaN</td>\n",
       "      <td>NaN</td>\n",
       "    </tr>\n",
       "    <tr>\n",
       "      <th>2</th>\n",
       "      <td>11.2</td>\n",
       "      <td>5.5</td>\n",
       "      <td>38</td>\n",
       "      <td>21.5</td>\n",
       "      <td>15</td>\n",
       "      <td>NaN</td>\n",
       "      <td>E10</td>\n",
       "      <td>0</td>\n",
       "      <td>0</td>\n",
       "      <td>0</td>\n",
       "      <td>NaN</td>\n",
       "      <td>NaN</td>\n",
       "    </tr>\n",
       "    <tr>\n",
       "      <th>3</th>\n",
       "      <td>12.9</td>\n",
       "      <td>3.9</td>\n",
       "      <td>36</td>\n",
       "      <td>21.5</td>\n",
       "      <td>14</td>\n",
       "      <td>NaN</td>\n",
       "      <td>E10</td>\n",
       "      <td>0</td>\n",
       "      <td>0</td>\n",
       "      <td>0</td>\n",
       "      <td>NaN</td>\n",
       "      <td>NaN</td>\n",
       "    </tr>\n",
       "    <tr>\n",
       "      <th>4</th>\n",
       "      <td>18.5</td>\n",
       "      <td>4.5</td>\n",
       "      <td>46</td>\n",
       "      <td>21.5</td>\n",
       "      <td>15</td>\n",
       "      <td>NaN</td>\n",
       "      <td>E10</td>\n",
       "      <td>0</td>\n",
       "      <td>0</td>\n",
       "      <td>0</td>\n",
       "      <td>NaN</td>\n",
       "      <td>NaN</td>\n",
       "    </tr>\n",
       "  </tbody>\n",
       "</table>\n",
       "</div>"
      ],
      "text/plain": [
       "   distance  consume  speed  temp_inside  temp_outside specials gas_type  AC  \\\n",
       "0      28.0      5.0     26         21.5            12      NaN      E10   0   \n",
       "1      12.0      4.2     30         21.5            13      NaN      E10   0   \n",
       "2      11.2      5.5     38         21.5            15      NaN      E10   0   \n",
       "3      12.9      3.9     36         21.5            14      NaN      E10   0   \n",
       "4      18.5      4.5     46         21.5            15      NaN      E10   0   \n",
       "\n",
       "   rain  sun  refill liters refill gas  \n",
       "0     0    0           45.0        E10  \n",
       "1     0    0            NaN        NaN  \n",
       "2     0    0            NaN        NaN  \n",
       "3     0    0            NaN        NaN  \n",
       "4     0    0            NaN        NaN  "
      ]
     },
     "execution_count": 7,
     "metadata": {},
     "output_type": "execute_result"
    }
   ],
   "source": [
    "data2.head()"
   ]
  },
  {
   "cell_type": "code",
   "execution_count": 10,
   "id": "dd2c7551",
   "metadata": {},
   "outputs": [
    {
     "data": {
      "text/plain": [
       "((388, 12), (388, 12))"
      ]
     },
     "execution_count": 10,
     "metadata": {},
     "output_type": "execute_result"
    }
   ],
   "source": [
    "data.shape, data2.shape"
   ]
  },
  {
   "cell_type": "code",
   "execution_count": 11,
   "id": "c6a1ab26",
   "metadata": {
    "scrolled": true
   },
   "outputs": [
    {
     "name": "stdout",
     "output_type": "stream",
     "text": [
      "<class 'pandas.core.frame.DataFrame'>\n",
      "RangeIndex: 388 entries, 0 to 387\n",
      "Data columns (total 12 columns):\n",
      " #   Column         Non-Null Count  Dtype  \n",
      "---  ------         --------------  -----  \n",
      " 0   distance       388 non-null    float64\n",
      " 1   consume        388 non-null    float64\n",
      " 2   speed          388 non-null    int64  \n",
      " 3   temp_inside    376 non-null    float64\n",
      " 4   temp_outside   388 non-null    int64  \n",
      " 5   specials       93 non-null     object \n",
      " 6   gas_type       388 non-null    object \n",
      " 7   AC             388 non-null    int64  \n",
      " 8   rain           388 non-null    int64  \n",
      " 9   sun            388 non-null    int64  \n",
      " 10  refill liters  13 non-null     float64\n",
      " 11  refill gas     13 non-null     object \n",
      "dtypes: float64(4), int64(5), object(3)\n",
      "memory usage: 36.5+ KB\n"
     ]
    }
   ],
   "source": [
    "data2"
   ]
  },
  {
   "cell_type": "code",
   "execution_count": 19,
   "id": "afbebb4d",
   "metadata": {},
   "outputs": [],
   "source": [
    "data2.specials.value_counts() #no aporta nada porque ya está especificado en otras columnas\n",
    "data2.drop(['refill liters','refill gas','specials'], axis=1, inplace=True )"
   ]
  },
  {
   "cell_type": "code",
   "execution_count": 35,
   "id": "faf224f2",
   "metadata": {},
   "outputs": [
    {
     "data": {
      "text/html": [
       "<div>\n",
       "<style scoped>\n",
       "    .dataframe tbody tr th:only-of-type {\n",
       "        vertical-align: middle;\n",
       "    }\n",
       "\n",
       "    .dataframe tbody tr th {\n",
       "        vertical-align: top;\n",
       "    }\n",
       "\n",
       "    .dataframe thead th {\n",
       "        text-align: right;\n",
       "    }\n",
       "</style>\n",
       "<table border=\"1\" class=\"dataframe\">\n",
       "  <thead>\n",
       "    <tr style=\"text-align: right;\">\n",
       "      <th></th>\n",
       "      <th>distance</th>\n",
       "      <th>consume</th>\n",
       "      <th>speed</th>\n",
       "      <th>temp_inside</th>\n",
       "      <th>temp_outside</th>\n",
       "      <th>gas_type</th>\n",
       "      <th>AC</th>\n",
       "      <th>rain</th>\n",
       "      <th>sun</th>\n",
       "    </tr>\n",
       "  </thead>\n",
       "  <tbody>\n",
       "    <tr>\n",
       "      <th>0</th>\n",
       "      <td>28.0</td>\n",
       "      <td>5.0</td>\n",
       "      <td>26</td>\n",
       "      <td>21.5</td>\n",
       "      <td>12</td>\n",
       "      <td>E10</td>\n",
       "      <td>0</td>\n",
       "      <td>0</td>\n",
       "      <td>0</td>\n",
       "    </tr>\n",
       "    <tr>\n",
       "      <th>1</th>\n",
       "      <td>12.0</td>\n",
       "      <td>4.2</td>\n",
       "      <td>30</td>\n",
       "      <td>21.5</td>\n",
       "      <td>13</td>\n",
       "      <td>E10</td>\n",
       "      <td>0</td>\n",
       "      <td>0</td>\n",
       "      <td>0</td>\n",
       "    </tr>\n",
       "    <tr>\n",
       "      <th>2</th>\n",
       "      <td>11.2</td>\n",
       "      <td>5.5</td>\n",
       "      <td>38</td>\n",
       "      <td>21.5</td>\n",
       "      <td>15</td>\n",
       "      <td>E10</td>\n",
       "      <td>0</td>\n",
       "      <td>0</td>\n",
       "      <td>0</td>\n",
       "    </tr>\n",
       "    <tr>\n",
       "      <th>3</th>\n",
       "      <td>12.9</td>\n",
       "      <td>3.9</td>\n",
       "      <td>36</td>\n",
       "      <td>21.5</td>\n",
       "      <td>14</td>\n",
       "      <td>E10</td>\n",
       "      <td>0</td>\n",
       "      <td>0</td>\n",
       "      <td>0</td>\n",
       "    </tr>\n",
       "    <tr>\n",
       "      <th>4</th>\n",
       "      <td>18.5</td>\n",
       "      <td>4.5</td>\n",
       "      <td>46</td>\n",
       "      <td>21.5</td>\n",
       "      <td>15</td>\n",
       "      <td>E10</td>\n",
       "      <td>0</td>\n",
       "      <td>0</td>\n",
       "      <td>0</td>\n",
       "    </tr>\n",
       "    <tr>\n",
       "      <th>...</th>\n",
       "      <td>...</td>\n",
       "      <td>...</td>\n",
       "      <td>...</td>\n",
       "      <td>...</td>\n",
       "      <td>...</td>\n",
       "      <td>...</td>\n",
       "      <td>...</td>\n",
       "      <td>...</td>\n",
       "      <td>...</td>\n",
       "    </tr>\n",
       "    <tr>\n",
       "      <th>383</th>\n",
       "      <td>16.0</td>\n",
       "      <td>3.7</td>\n",
       "      <td>39</td>\n",
       "      <td>24.5</td>\n",
       "      <td>18</td>\n",
       "      <td>SP98</td>\n",
       "      <td>0</td>\n",
       "      <td>0</td>\n",
       "      <td>0</td>\n",
       "    </tr>\n",
       "    <tr>\n",
       "      <th>384</th>\n",
       "      <td>16.1</td>\n",
       "      <td>4.3</td>\n",
       "      <td>38</td>\n",
       "      <td>25.0</td>\n",
       "      <td>31</td>\n",
       "      <td>SP98</td>\n",
       "      <td>1</td>\n",
       "      <td>0</td>\n",
       "      <td>0</td>\n",
       "    </tr>\n",
       "    <tr>\n",
       "      <th>385</th>\n",
       "      <td>16.0</td>\n",
       "      <td>3.8</td>\n",
       "      <td>45</td>\n",
       "      <td>25.0</td>\n",
       "      <td>19</td>\n",
       "      <td>SP98</td>\n",
       "      <td>0</td>\n",
       "      <td>0</td>\n",
       "      <td>0</td>\n",
       "    </tr>\n",
       "    <tr>\n",
       "      <th>386</th>\n",
       "      <td>15.4</td>\n",
       "      <td>4.6</td>\n",
       "      <td>42</td>\n",
       "      <td>25.0</td>\n",
       "      <td>31</td>\n",
       "      <td>SP98</td>\n",
       "      <td>1</td>\n",
       "      <td>0</td>\n",
       "      <td>0</td>\n",
       "    </tr>\n",
       "    <tr>\n",
       "      <th>387</th>\n",
       "      <td>14.7</td>\n",
       "      <td>5.0</td>\n",
       "      <td>25</td>\n",
       "      <td>25.0</td>\n",
       "      <td>30</td>\n",
       "      <td>SP98</td>\n",
       "      <td>1</td>\n",
       "      <td>0</td>\n",
       "      <td>0</td>\n",
       "    </tr>\n",
       "  </tbody>\n",
       "</table>\n",
       "<p>388 rows × 9 columns</p>\n",
       "</div>"
      ],
      "text/plain": [
       "     distance  consume  speed  temp_inside  temp_outside gas_type  AC  rain  \\\n",
       "0        28.0      5.0     26         21.5            12      E10   0     0   \n",
       "1        12.0      4.2     30         21.5            13      E10   0     0   \n",
       "2        11.2      5.5     38         21.5            15      E10   0     0   \n",
       "3        12.9      3.9     36         21.5            14      E10   0     0   \n",
       "4        18.5      4.5     46         21.5            15      E10   0     0   \n",
       "..        ...      ...    ...          ...           ...      ...  ..   ...   \n",
       "383      16.0      3.7     39         24.5            18     SP98   0     0   \n",
       "384      16.1      4.3     38         25.0            31     SP98   1     0   \n",
       "385      16.0      3.8     45         25.0            19     SP98   0     0   \n",
       "386      15.4      4.6     42         25.0            31     SP98   1     0   \n",
       "387      14.7      5.0     25         25.0            30     SP98   1     0   \n",
       "\n",
       "     sun  \n",
       "0      0  \n",
       "1      0  \n",
       "2      0  \n",
       "3      0  \n",
       "4      0  \n",
       "..   ...  \n",
       "383    0  \n",
       "384    0  \n",
       "385    0  \n",
       "386    0  \n",
       "387    0  \n",
       "\n",
       "[388 rows x 9 columns]"
      ]
     },
     "execution_count": 35,
     "metadata": {},
     "output_type": "execute_result"
    }
   ],
   "source": [
    "data2"
   ]
  },
  {
   "cell_type": "code",
   "execution_count": 26,
   "id": "97b7f00a",
   "metadata": {},
   "outputs": [],
   "source": [
    "import matplotlib.pyplot as plt\n",
    "import seaborn as sns\n",
    "import numpy as np"
   ]
  },
  {
   "cell_type": "code",
   "execution_count": 36,
   "id": "5c1b9af4",
   "metadata": {
    "scrolled": false
   },
   "outputs": [
    {
     "data": {
      "image/png": "[encoded data removed]",
      "text/plain": [
       "<Figure size 1080x720 with 2 Axes>"
      ]
     },
     "metadata": {},
     "output_type": "display_data"
    }
   ],
   "source": [
    "plt.figure(figsize=(15, 10))\n",
    "\n",
    "sns.set(style='white')\n",
    "\n",
    "mask=np.triu(np.ones_like(data2.corr(), dtype=bool))\n",
    "\n",
    "cmap=sns.diverging_palette(0, 10, as_cmap=True)\n",
    "\n",
    "\n",
    "sns.heatmap(data2.corr(),\n",
    "           mask=mask,\n",
    "          cmap=cmap,\n",
    "          center=0,\n",
    "          square=True,\n",
    "          annot=True,\n",
    "          linewidths=0.5,\n",
    "          cbar_kws={'shrink': 0.5});"
   ]
  },
  {
   "cell_type": "code",
   "execution_count": 29,
   "id": "540bf5b0",
   "metadata": {},
   "outputs": [
    {
     "data": {
      "text/plain": [
       "<matplotlib.collections.PathCollection at 0x7f81cb118df0>"
      ]
     },
     "execution_count": 29,
     "metadata": {},
     "output_type": "execute_result"
    },
    {
     "data": {
      "image/png": "[encoded data removed]",
      "text/plain": [
       "<Figure size 432x288 with 1 Axes>"
      ]
     },
     "metadata": {},
     "output_type": "display_data"
    }
   ],
   "source": [
    "plt.scatter(x=data2.consume, y=data2.distance)\n"
   ]
  },
  {
   "cell_type": "markdown",
   "id": "cd4d8503",
   "metadata": {},
   "source": [
    "# añadir precio de combustible\n",
    "\n",
    "E10 aprox=1.38EUR/L\n",
    "SP98 aprox=1.46 EUR/L\n",
    "\n",
    "habrá que ver con cual se ahorra más dinerillo\n",
    "\n",
    "Separar en dos tablas\n"
   ]
  },
  {
   "cell_type": "code",
   "execution_count": 37,
   "id": "53d7dc9f",
   "metadata": {},
   "outputs": [],
   "source": [
    "datae10= data2[data2.gas_type=='E10']"
   ]
  },
  {
   "cell_type": "code",
   "execution_count": 38,
   "id": "66f102e6",
   "metadata": {},
   "outputs": [],
   "source": [
    "datasp98= data2[data2.gas_type=='SP98']"
   ]
  },
  {
   "cell_type": "code",
   "execution_count": 60,
   "id": "6459641d",
   "metadata": {},
   "outputs": [
    {
     "data": {
      "text/plain": [
       "0"
      ]
     },
     "execution_count": 60,
     "metadata": {},
     "output_type": "execute_result"
    }
   ],
   "source": [
    "datae10.consume.isna().sum()"
   ]
  },
  {
   "cell_type": "code",
   "execution_count": 39,
   "id": "906b0925",
   "metadata": {
    "scrolled": true
   },
   "outputs": [],
   "source": [
    "#calcular el consumo medio en función de la distancia y la velocidad"
   ]
  },
  {
   "cell_type": "code",
   "execution_count": null,
   "id": "41c0f4f7",
   "metadata": {},
   "outputs": [],
   "source": [
    "distancia en km\n",
    "velocidad en km/h\n",
    "consumo en litros\n",
    "precio en euros/l\n",
    "\n",
    "\n",
    "consumo*precio dará los euros gastados\n",
    "\n",
    "Creo que refill litres y gas no vale"
   ]
  },
  {
   "cell_type": "code",
   "execution_count": 81,
   "id": "0ec7b157",
   "metadata": {},
   "outputs": [],
   "source": [
    "#calcularemos el consumo/precio y ver el valor \n",
    "\n",
    "valor=[]\n",
    "\n",
    "for i in range(len(datae10.consume)):\n",
    "    try:\n",
    "        valor.append(datae10.consume[i]/1.38)\n",
    "    except:\n",
    "        pass"
   ]
  },
  {
   "cell_type": "code",
   "execution_count": 82,
   "id": "8fbaa300",
   "metadata": {},
   "outputs": [
    {
     "data": {
      "text/plain": [
       "[3.6231884057971016,\n",
       " 3.0434782608695654,\n",
       " 3.985507246376812,\n",
       " 2.8260869565217392,\n",
       " 3.2608695652173916,\n",
       " 4.637681159420291,\n",
       " 3.1884057971014497,\n",
       " 3.6231884057971016,\n",
       " 4.637681159420291,\n",
       " 3.8405797101449277,\n",
       " 4.057971014492754,\n",
       " 3.3333333333333335,\n",
       " 4.27536231884058,\n",
       " 3.6956521739130435,\n",
       " 3.405797101449276,\n",
       " 3.6956521739130435,\n",
       " 4.057971014492754,\n",
       " 3.6956521739130435,\n",
       " 3.55072463768116,\n",
       " 3.405797101449276,\n",
       " 3.985507246376812,\n",
       " 4.27536231884058,\n",
       " 4.130434782608696,\n",
       " 3.405797101449276,\n",
       " 4.27536231884058,\n",
       " 2.971014492753623,\n",
       " 4.130434782608696,\n",
       " 4.202898550724638,\n",
       " 3.985507246376812,\n",
       " 4.130434782608696,\n",
       " 3.8405797101449277,\n",
       " 3.6231884057971016,\n",
       " 4.057971014492754,\n",
       " 3.4782608695652177,\n",
       " 3.1159420289855073,\n",
       " 4.130434782608696,\n",
       " 3.768115942028986,\n",
       " 5.362318840579711,\n",
       " 3.4782608695652177,\n",
       " 4.710144927536232,\n",
       " 2.8985507246376816,\n",
       " 3.6231884057971016,\n",
       " 3.3333333333333335,\n",
       " 3.1159420289855073,\n",
       " 3.91304347826087,\n",
       " 3.1159420289855073,\n",
       " 3.91304347826087,\n",
       " 3.1159420289855073,\n",
       " 3.768115942028986,\n",
       " 2.971014492753623,\n",
       " 3.1884057971014497,\n",
       " 3.2608695652173916,\n",
       " 7.82608695652174,\n",
       " 3.405797101449276,\n",
       " 3.4782608695652177,\n",
       " 2.8985507246376816,\n",
       " 3.6231884057971016,\n",
       " 3.3333333333333335,\n",
       " 3.6231884057971016,\n",
       " 3.1159420289855073,\n",
       " 3.768115942028986,\n",
       " 3.405797101449276,\n",
       " 3.0434782608695654,\n",
       " 3.8405797101449277,\n",
       " 3.8405797101449277]"
      ]
     },
     "execution_count": 82,
     "metadata": {},
     "output_type": "execute_result"
    }
   ],
   "source": [
    "valor  #euros que se han gstado"
   ]
  },
  {
   "cell_type": "code",
   "execution_count": 83,
   "id": "6b90b450",
   "metadata": {},
   "outputs": [],
   "source": [
    "#calcularemos el consumo/precio y ver el valor \n",
    "\n",
    "valorsp98=[]\n",
    "\n",
    "for i in range(len(datasp98.consume)):\n",
    "    try:\n",
    "        valorsp98.append(datasp98.consume[i]/1.46)\n",
    "    except:\n",
    "        pass"
   ]
  },
  {
   "cell_type": "code",
   "execution_count": 84,
   "id": "c65fde2d",
   "metadata": {
    "collapsed": true
   },
   "outputs": [
    {
     "data": {
      "text/plain": [
       "[2.26027397260274,\n",
       " 6.780821917808219,\n",
       " 3.4931506849315066,\n",
       " 3.3561643835616444,\n",
       " 3.3561643835616444,\n",
       " 3.219178082191781,\n",
       " 3.4931506849315066,\n",
       " 3.3561643835616444,\n",
       " 2.8767123287671237,\n",
       " 4.178082191780822,\n",
       " 4.383561643835617,\n",
       " 3.3561643835616444,\n",
       " 3.3561643835616444,\n",
       " 4.2465753424657535,\n",
       " 2.8767123287671237,\n",
       " 3.904109589041096,\n",
       " 5.41095890410959,\n",
       " 8.356164383561644,\n",
       " 3.9726027397260273,\n",
       " 3.6301369863013697,\n",
       " 3.6986301369863015,\n",
       " 3.219178082191781,\n",
       " 3.150684931506849,\n",
       " 3.6986301369863015,\n",
       " 2.9452054794520546,\n",
       " 3.0821917808219177,\n",
       " 3.5616438356164384,\n",
       " 4.2465753424657535,\n",
       " 3.4931506849315066,\n",
       " 2.671232876712329,\n",
       " 3.4246575342465753,\n",
       " 3.6986301369863015,\n",
       " 3.0821917808219177,\n",
       " 3.4931506849315066,\n",
       " 3.219178082191781,\n",
       " 2.73972602739726,\n",
       " 3.6986301369863015,\n",
       " 3.0821917808219177,\n",
       " 2.4657534246575343,\n",
       " 3.5616438356164384,\n",
       " 3.3561643835616444,\n",
       " 4.2465753424657535,\n",
       " 2.9452054794520546,\n",
       " 3.4246575342465753,\n",
       " 3.4931506849315066,\n",
       " 3.835616438356164,\n",
       " 2.9452054794520546,\n",
       " 3.9726027397260273,\n",
       " 2.73972602739726,\n",
       " 3.219178082191781,\n",
       " 4.0410958904109595,\n",
       " 3.6301369863013697,\n",
       " 2.8767123287671237,\n",
       " 3.6301369863013697,\n",
       " 3.904109589041096,\n",
       " 3.013698630136987,\n",
       " 2.8082191780821915,\n",
       " 3.9726027397260273,\n",
       " 3.4246575342465753,\n",
       " 4.726027397260275,\n",
       " 3.6986301369863015,\n",
       " 3.6301369863013697,\n",
       " 3.767123287671233,\n",
       " 4.452054794520548,\n",
       " 3.219178082191781,\n",
       " 3.4931506849315066,\n",
       " 3.904109589041096,\n",
       " 3.6986301369863015,\n",
       " 5.9589041095890405,\n",
       " 3.3561643835616444,\n",
       " 3.219178082191781,\n",
       " 4.315068493150685,\n",
       " 3.4931506849315066,\n",
       " 4.109589041095891,\n",
       " 3.150684931506849,\n",
       " 3.9726027397260273,\n",
       " 3.4931506849315066,\n",
       " 3.9726027397260273,\n",
       " 3.150684931506849,\n",
       " 3.835616438356164,\n",
       " 3.150684931506849,\n",
       " 4.315068493150685,\n",
       " 3.767123287671233,\n",
       " 2.9452054794520546,\n",
       " 3.835616438356164,\n",
       " 2.9452054794520546,\n",
       " 3.904109589041096,\n",
       " 4.383561643835617,\n",
       " 3.0821917808219177,\n",
       " 3.0821917808219177,\n",
       " 4.109589041095891,\n",
       " 3.4931506849315066,\n",
       " 4.109589041095891,\n",
       " 3.0821917808219177,\n",
       " 4.178082191780822,\n",
       " 3.219178082191781,\n",
       " 2.8767123287671237,\n",
       " 3.287671232876712,\n",
       " 2.8082191780821915,\n",
       " 3.0821917808219177,\n",
       " 3.287671232876712,\n",
       " 3.150684931506849,\n",
       " 5.068493150684932,\n",
       " 3.835616438356164,\n",
       " 3.3561643835616444,\n",
       " 2.602739726027397,\n",
       " 3.0821917808219177,\n",
       " 2.8082191780821915,\n",
       " 3.6301369863013697,\n",
       " 3.219178082191781,\n",
       " 6.164383561643835,\n",
       " 4.315068493150685,\n",
       " 2.4657534246575343,\n",
       " 2.534246575342466,\n",
       " 7.876712328767123,\n",
       " 3.4246575342465753,\n",
       " 3.767123287671233,\n",
       " 3.219178082191781,\n",
       " 3.0821917808219177,\n",
       " 3.013698630136987,\n",
       " 2.8082191780821915,\n",
       " 3.013698630136987,\n",
       " 3.150684931506849,\n",
       " 3.013698630136987,\n",
       " 2.73972602739726,\n",
       " 3.4246575342465753,\n",
       " 3.5616438356164384,\n",
       " 2.73972602739726,\n",
       " 3.4931506849315066,\n",
       " 3.0821917808219177,\n",
       " 3.150684931506849,\n",
       " 3.4931506849315066]"
      ]
     },
     "execution_count": 84,
     "metadata": {},
     "output_type": "execute_result"
    }
   ],
   "source": [
    "valorsp98"
   ]
  },
  {
   "cell_type": "code",
   "execution_count": null,
   "id": "5723a064",
   "metadata": {},
   "outputs": [],
   "source": [
    "#sp98"
   ]
  },
  {
   "cell_type": "code",
   "execution_count": 85,
   "id": "498034da",
   "metadata": {},
   "outputs": [
    {
     "data": {
      "text/plain": [
       "3.5865504358655054"
      ]
     },
     "execution_count": 85,
     "metadata": {},
     "output_type": "execute_result"
    }
   ],
   "source": [
    "valormean2=sum(valorsp98)/len(valorsp98)\n",
    "valormean2"
   ]
  },
  {
   "cell_type": "code",
   "execution_count": 86,
   "id": "550d0d20",
   "metadata": {},
   "outputs": [
    {
     "data": {
      "text/plain": [
       "18.639912280701765"
      ]
     },
     "execution_count": 86,
     "metadata": {},
     "output_type": "execute_result"
    }
   ],
   "source": [
    "datasp98.distance.mean()"
   ]
  },
  {
   "cell_type": "code",
   "execution_count": 87,
   "id": "c813420f",
   "metadata": {},
   "outputs": [
    {
     "data": {
      "text/plain": [
       "4.899122807017543"
      ]
     },
     "execution_count": 87,
     "metadata": {},
     "output_type": "execute_result"
    }
   ],
   "source": [
    "datasp98.consume.mean()"
   ]
  },
  {
   "cell_type": "code",
   "execution_count": 93,
   "id": "ae74449b",
   "metadata": {},
   "outputs": [
    {
     "data": {
      "text/plain": [
       "5.197169986598442"
      ]
     },
     "execution_count": 93,
     "metadata": {},
     "output_type": "execute_result"
    }
   ],
   "source": [
    "#solucion \n",
    "\n",
    "datasp98.distance.mean()/valormean2"
   ]
  },
  {
   "cell_type": "code",
   "execution_count": 88,
   "id": "fa8f95e1",
   "metadata": {},
   "outputs": [],
   "source": [
    "#E10\n"
   ]
  },
  {
   "cell_type": "code",
   "execution_count": 89,
   "id": "10c42028",
   "metadata": {},
   "outputs": [
    {
     "data": {
      "text/plain": [
       "21.096250000000005"
      ]
     },
     "execution_count": 89,
     "metadata": {},
     "output_type": "execute_result"
    }
   ],
   "source": [
    "datae10.distance.mean()"
   ]
  },
  {
   "cell_type": "code",
   "execution_count": 90,
   "id": "4bc42b3d",
   "metadata": {},
   "outputs": [
    {
     "data": {
      "text/plain": [
       "4.931250000000001"
      ]
     },
     "execution_count": 90,
     "metadata": {},
     "output_type": "execute_result"
    }
   ],
   "source": [
    "datae10.consume.mean()"
   ]
  },
  {
   "cell_type": "code",
   "execution_count": 91,
   "id": "557c2c46",
   "metadata": {},
   "outputs": [
    {
     "data": {
      "text/plain": [
       "43.50625"
      ]
     },
     "execution_count": 91,
     "metadata": {},
     "output_type": "execute_result"
    }
   ],
   "source": [
    "datae10.speed.mean()"
   ]
  },
  {
   "cell_type": "code",
   "execution_count": 92,
   "id": "741293c3",
   "metadata": {
    "scrolled": true
   },
   "outputs": [
    {
     "data": {
      "text/plain": [
       "3.727982162764773"
      ]
     },
     "execution_count": 92,
     "metadata": {},
     "output_type": "execute_result"
    }
   ],
   "source": [
    "valormean=sum(valor)/len(valor)\n",
    "valormean"
   ]
  },
  {
   "cell_type": "code",
   "execution_count": 94,
   "id": "a7f77cd9",
   "metadata": {},
   "outputs": [
    {
     "data": {
      "text/plain": [
       "5.658892419258372"
      ]
     },
     "execution_count": 94,
     "metadata": {},
     "output_type": "execute_result"
    }
   ],
   "source": [
    "#solucion\n",
    "datae10.distance.mean()/valormean"
   ]
  },
  {
   "cell_type": "code",
   "execution_count": null,
   "id": "2d536f0d",
   "metadata": {},
   "outputs": [],
   "source": [
    "#solución total= Consume más el E10 \n"
   ]
  }
 ],
 "metadata": {
  "kernelspec": {
   "display_name": "Python 3 (ipykernel)",
   "language": "python",
   "name": "python3"
  },
  "language_info": {
   "codemirror_mode": {
    "name": "ipython",
    "version": 3
   },
   "file_extension": ".py",
   "mimetype": "text/x-python",
   "name": "python",
   "nbconvert_exporter": "python",
   "pygments_lexer": "ipython3",
   "version": "3.9.12"
  }
 },
 "nbformat": 4,
 "nbformat_minor": 5
}
