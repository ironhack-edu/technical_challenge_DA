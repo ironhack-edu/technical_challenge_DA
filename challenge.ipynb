{
 "cells": [
  {
   "cell_type": "code",
   "execution_count": 271,
   "metadata": {},
   "outputs": [
    {
     "data": {
      "text/plain": [
       "'we think that going green and being modern can be very expensive, \\nas we have seen that cars use more petrol than they used to for each trip'"
      ]
     },
     "execution_count": 271,
     "metadata": {},
     "output_type": "execute_result"
    }
   ],
   "source": [
    "\"\"\"we think that going green and being modern can be very expensive, \n",
    "as we have seen that cars use more petrol than they used to for each trip\"\"\"\n",
    "\n",
    "# ----> but is E10 cheaper than SP98!\n",
    "# what makes the 'best' combustible???"
   ]
  },
  {
   "cell_type": "code",
   "execution_count": 272,
   "metadata": {},
   "outputs": [],
   "source": [
    "import pandas as pd\n",
    "import seaborn as sns\n",
    "from matplotlib import pyplot as plt"
   ]
  },
  {
   "cell_type": "code",
   "execution_count": 273,
   "metadata": {},
   "outputs": [],
   "source": [
    "# files contain same info so we take the file with already right dtypes"
   ]
  },
  {
   "cell_type": "code",
   "execution_count": 274,
   "metadata": {},
   "outputs": [
    {
     "data": {
      "text/html": [
       "<div>\n",
       "<style scoped>\n",
       "    .dataframe tbody tr th:only-of-type {\n",
       "        vertical-align: middle;\n",
       "    }\n",
       "\n",
       "    .dataframe tbody tr th {\n",
       "        vertical-align: top;\n",
       "    }\n",
       "\n",
       "    .dataframe thead th {\n",
       "        text-align: right;\n",
       "    }\n",
       "</style>\n",
       "<table border=\"1\" class=\"dataframe\">\n",
       "  <thead>\n",
       "    <tr style=\"text-align: right;\">\n",
       "      <th></th>\n",
       "      <th>distance</th>\n",
       "      <th>consume</th>\n",
       "      <th>speed</th>\n",
       "      <th>temp_inside</th>\n",
       "      <th>temp_outside</th>\n",
       "      <th>specials</th>\n",
       "      <th>gas_type</th>\n",
       "      <th>AC</th>\n",
       "      <th>rain</th>\n",
       "      <th>sun</th>\n",
       "      <th>refill liters</th>\n",
       "      <th>refill gas</th>\n",
       "    </tr>\n",
       "  </thead>\n",
       "  <tbody>\n",
       "    <tr>\n",
       "      <th>0</th>\n",
       "      <td>28.0</td>\n",
       "      <td>5.0</td>\n",
       "      <td>26</td>\n",
       "      <td>21.5</td>\n",
       "      <td>12</td>\n",
       "      <td>NaN</td>\n",
       "      <td>E10</td>\n",
       "      <td>0</td>\n",
       "      <td>0</td>\n",
       "      <td>0</td>\n",
       "      <td>45.0</td>\n",
       "      <td>E10</td>\n",
       "    </tr>\n",
       "    <tr>\n",
       "      <th>1</th>\n",
       "      <td>12.0</td>\n",
       "      <td>4.2</td>\n",
       "      <td>30</td>\n",
       "      <td>21.5</td>\n",
       "      <td>13</td>\n",
       "      <td>NaN</td>\n",
       "      <td>E10</td>\n",
       "      <td>0</td>\n",
       "      <td>0</td>\n",
       "      <td>0</td>\n",
       "      <td>NaN</td>\n",
       "      <td>NaN</td>\n",
       "    </tr>\n",
       "    <tr>\n",
       "      <th>2</th>\n",
       "      <td>11.2</td>\n",
       "      <td>5.5</td>\n",
       "      <td>38</td>\n",
       "      <td>21.5</td>\n",
       "      <td>15</td>\n",
       "      <td>NaN</td>\n",
       "      <td>E10</td>\n",
       "      <td>0</td>\n",
       "      <td>0</td>\n",
       "      <td>0</td>\n",
       "      <td>NaN</td>\n",
       "      <td>NaN</td>\n",
       "    </tr>\n",
       "    <tr>\n",
       "      <th>3</th>\n",
       "      <td>12.9</td>\n",
       "      <td>3.9</td>\n",
       "      <td>36</td>\n",
       "      <td>21.5</td>\n",
       "      <td>14</td>\n",
       "      <td>NaN</td>\n",
       "      <td>E10</td>\n",
       "      <td>0</td>\n",
       "      <td>0</td>\n",
       "      <td>0</td>\n",
       "      <td>NaN</td>\n",
       "      <td>NaN</td>\n",
       "    </tr>\n",
       "    <tr>\n",
       "      <th>4</th>\n",
       "      <td>18.5</td>\n",
       "      <td>4.5</td>\n",
       "      <td>46</td>\n",
       "      <td>21.5</td>\n",
       "      <td>15</td>\n",
       "      <td>NaN</td>\n",
       "      <td>E10</td>\n",
       "      <td>0</td>\n",
       "      <td>0</td>\n",
       "      <td>0</td>\n",
       "      <td>NaN</td>\n",
       "      <td>NaN</td>\n",
       "    </tr>\n",
       "    <tr>\n",
       "      <th>...</th>\n",
       "      <td>...</td>\n",
       "      <td>...</td>\n",
       "      <td>...</td>\n",
       "      <td>...</td>\n",
       "      <td>...</td>\n",
       "      <td>...</td>\n",
       "      <td>...</td>\n",
       "      <td>...</td>\n",
       "      <td>...</td>\n",
       "      <td>...</td>\n",
       "      <td>...</td>\n",
       "      <td>...</td>\n",
       "    </tr>\n",
       "    <tr>\n",
       "      <th>383</th>\n",
       "      <td>16.0</td>\n",
       "      <td>3.7</td>\n",
       "      <td>39</td>\n",
       "      <td>24.5</td>\n",
       "      <td>18</td>\n",
       "      <td>NaN</td>\n",
       "      <td>SP98</td>\n",
       "      <td>0</td>\n",
       "      <td>0</td>\n",
       "      <td>0</td>\n",
       "      <td>NaN</td>\n",
       "      <td>NaN</td>\n",
       "    </tr>\n",
       "    <tr>\n",
       "      <th>384</th>\n",
       "      <td>16.1</td>\n",
       "      <td>4.3</td>\n",
       "      <td>38</td>\n",
       "      <td>25.0</td>\n",
       "      <td>31</td>\n",
       "      <td>AC</td>\n",
       "      <td>SP98</td>\n",
       "      <td>1</td>\n",
       "      <td>0</td>\n",
       "      <td>0</td>\n",
       "      <td>NaN</td>\n",
       "      <td>NaN</td>\n",
       "    </tr>\n",
       "    <tr>\n",
       "      <th>385</th>\n",
       "      <td>16.0</td>\n",
       "      <td>3.8</td>\n",
       "      <td>45</td>\n",
       "      <td>25.0</td>\n",
       "      <td>19</td>\n",
       "      <td>NaN</td>\n",
       "      <td>SP98</td>\n",
       "      <td>0</td>\n",
       "      <td>0</td>\n",
       "      <td>0</td>\n",
       "      <td>NaN</td>\n",
       "      <td>NaN</td>\n",
       "    </tr>\n",
       "    <tr>\n",
       "      <th>386</th>\n",
       "      <td>15.4</td>\n",
       "      <td>4.6</td>\n",
       "      <td>42</td>\n",
       "      <td>25.0</td>\n",
       "      <td>31</td>\n",
       "      <td>AC</td>\n",
       "      <td>SP98</td>\n",
       "      <td>1</td>\n",
       "      <td>0</td>\n",
       "      <td>0</td>\n",
       "      <td>NaN</td>\n",
       "      <td>NaN</td>\n",
       "    </tr>\n",
       "    <tr>\n",
       "      <th>387</th>\n",
       "      <td>14.7</td>\n",
       "      <td>5.0</td>\n",
       "      <td>25</td>\n",
       "      <td>25.0</td>\n",
       "      <td>30</td>\n",
       "      <td>AC</td>\n",
       "      <td>SP98</td>\n",
       "      <td>1</td>\n",
       "      <td>0</td>\n",
       "      <td>0</td>\n",
       "      <td>NaN</td>\n",
       "      <td>NaN</td>\n",
       "    </tr>\n",
       "  </tbody>\n",
       "</table>\n",
       "<p>388 rows × 12 columns</p>\n",
       "</div>"
      ],
      "text/plain": [
       "     distance  consume  speed  temp_inside  temp_outside specials gas_type  \\\n",
       "0        28.0      5.0     26         21.5            12      NaN      E10   \n",
       "1        12.0      4.2     30         21.5            13      NaN      E10   \n",
       "2        11.2      5.5     38         21.5            15      NaN      E10   \n",
       "3        12.9      3.9     36         21.5            14      NaN      E10   \n",
       "4        18.5      4.5     46         21.5            15      NaN      E10   \n",
       "..        ...      ...    ...          ...           ...      ...      ...   \n",
       "383      16.0      3.7     39         24.5            18      NaN     SP98   \n",
       "384      16.1      4.3     38         25.0            31       AC     SP98   \n",
       "385      16.0      3.8     45         25.0            19      NaN     SP98   \n",
       "386      15.4      4.6     42         25.0            31       AC     SP98   \n",
       "387      14.7      5.0     25         25.0            30       AC     SP98   \n",
       "\n",
       "     AC  rain  sun  refill liters refill gas  \n",
       "0     0     0    0           45.0        E10  \n",
       "1     0     0    0            NaN        NaN  \n",
       "2     0     0    0            NaN        NaN  \n",
       "3     0     0    0            NaN        NaN  \n",
       "4     0     0    0            NaN        NaN  \n",
       "..   ..   ...  ...            ...        ...  \n",
       "383   0     0    0            NaN        NaN  \n",
       "384   1     0    0            NaN        NaN  \n",
       "385   0     0    0            NaN        NaN  \n",
       "386   1     0    0            NaN        NaN  \n",
       "387   1     0    0            NaN        NaN  \n",
       "\n",
       "[388 rows x 12 columns]"
      ]
     },
     "execution_count": 274,
     "metadata": {},
     "output_type": "execute_result"
    }
   ],
   "source": [
    "data = pd.read_excel('data/measurements2.xlsx')\n",
    "data"
   ]
  },
  {
   "cell_type": "code",
   "execution_count": 275,
   "metadata": {},
   "outputs": [
    {
     "data": {
      "text/plain": [
       "rain                  32\n",
       "sun                   27\n",
       "AC rain                9\n",
       "ac                     8\n",
       "AC                     6\n",
       "snow                   3\n",
       "sun ac                 3\n",
       "AC snow                1\n",
       "half rain half sun     1\n",
       "AC sun                 1\n",
       "AC Sun                 1\n",
       "ac rain                1\n",
       "Name: specials, dtype: int64"
      ]
     },
     "metadata": {},
     "output_type": "display_data"
    }
   ],
   "source": [
    "display(data.specials.value_counts())\n",
    "\n",
    "# drop specials, because they are already encoded (AC, rain, sun)\n",
    "\n",
    "data = data.drop(['specials'], axis=1)"
   ]
  },
  {
   "cell_type": "code",
   "execution_count": 276,
   "metadata": {},
   "outputs": [
    {
     "data": {
      "text/plain": [
       "distance         0.000000\n",
       "consume          0.000000\n",
       "speed            0.000000\n",
       "temp_inside      0.030928\n",
       "temp_outside     0.000000\n",
       "gas_type         0.000000\n",
       "AC               0.000000\n",
       "rain             0.000000\n",
       "sun              0.000000\n",
       "refill liters    0.966495\n",
       "refill gas       0.966495\n",
       "dtype: float64"
      ]
     },
     "execution_count": 276,
     "metadata": {},
     "output_type": "execute_result"
    }
   ],
   "source": [
    "data.isna().mean()"
   ]
  },
  {
   "cell_type": "code",
   "execution_count": 279,
   "metadata": {},
   "outputs": [
    {
     "name": "stdout",
     "output_type": "stream",
     "text": [
      "Ttest_indResult(statistic=0.3011626300254617, pvalue=0.38172632393141837)\n",
      "Ttest_indResult(statistic=-2.2698862964016047, pvalue=0.01188264093212125)\n"
     ]
    }
   ],
   "source": [
    "# H0: E10 consume = SP98 consume\n",
    "# H1: E10 consume > SP98 consume\n",
    "\n",
    "from scipy import stats\n",
    "fuel_a = data[data[\"gas_type\"]==\"E10\"]['consume']\n",
    "fuel_b = data[data[\"gas_type\"]==\"SP98\"]['consume']\n",
    "\n",
    "print(stats.ttest_ind(fuel_a, fuel_b, alternative=\"greater\"))\n",
    "# P_value:0.3816452423051032 is larger than 0.05 ---> H1 is not supported.\n",
    "\n",
    "print(stats.ttest_ind(fuel_a*1.38, fuel_b*1.46, alternative=\"less\"))\n",
    "# P_value:0.01160724138852348 is less than 0.05 ---> E10 cost less.\n",
    "\n",
    "# There is not enough evidence to confirm E10 consume more, but it indeed cheaper than SP98"
   ]
  },
  {
   "cell_type": "code",
   "execution_count": 233,
   "metadata": {},
   "outputs": [],
   "source": [
    "# we can drop refill columns, because they are not important for our analysis AND have >96% NaN\n",
    "\n",
    "data = data.drop(['refill liters', 'refill gas'], axis=1)"
   ]
  },
  {
   "cell_type": "code",
   "execution_count": 234,
   "metadata": {},
   "outputs": [
    {
     "data": {
      "text/plain": [
       "<AxesSubplot: >"
      ]
     },
     "execution_count": 234,
     "metadata": {},
     "output_type": "execute_result"
    },
    {
     "data": {
      "image/png": "[encoded data removed]",
      "text/plain": [
       "<Figure size 640x480 with 1 Axes>"
      ]
     },
     "metadata": {},
     "output_type": "display_data"
    }
   ],
   "source": [
    "# we fill the temp_inside NaNs \n",
    "\n",
    "data['temp_inside'].isna().sum() # 12 nans\n",
    "\n",
    "data['temp_inside'].hist()"
   ]
  },
  {
   "cell_type": "code",
   "execution_count": 235,
   "metadata": {},
   "outputs": [
    {
     "data": {
      "text/plain": [
       "distance        0\n",
       "consume         0\n",
       "speed           0\n",
       "temp_inside     0\n",
       "temp_outside    0\n",
       "gas_type        0\n",
       "AC              0\n",
       "rain            0\n",
       "sun             0\n",
       "dtype: int64"
      ]
     },
     "execution_count": 235,
     "metadata": {},
     "output_type": "execute_result"
    }
   ],
   "source": [
    "# we fill with the mean value\n",
    "\n",
    "data['temp_inside'] = data['temp_inside'].fillna(data['temp_inside'].mean())\n",
    "data.isna().sum()"
   ]
  },
  {
   "cell_type": "code",
   "execution_count": 236,
   "metadata": {},
   "outputs": [
    {
     "data": {
      "image/png": "[encoded data removed]",
      "text/plain": [
       "<Figure size 640x480 with 2 Axes>"
      ]
     },
     "metadata": {},
     "output_type": "display_data"
    }
   ],
   "source": [
    "sns.heatmap(data.corr(), annot=True, cmap='Reds')\n",
    "plt.show()"
   ]
  },
  {
   "cell_type": "code",
   "execution_count": 237,
   "metadata": {},
   "outputs": [],
   "source": [
    "# we see correlation between dist and speed and will investigate"
   ]
  },
  {
   "cell_type": "code",
   "execution_count": 238,
   "metadata": {},
   "outputs": [
    {
     "data": {
      "image/png": "[encoded data removed]",
      "text/plain": [
       "<Figure size 640x480 with 1 Axes>"
      ]
     },
     "metadata": {},
     "output_type": "display_data"
    },
    {
     "data": {
      "text/plain": [
       "<AxesSubplot: xlabel='speed', ylabel='consume'>"
      ]
     },
     "execution_count": 238,
     "metadata": {},
     "output_type": "execute_result"
    },
    {
     "data": {
      "image/png": "[encoded data removed]",
      "text/plain": [
       "<Figure size 640x480 with 1 Axes>"
      ]
     },
     "metadata": {},
     "output_type": "display_data"
    }
   ],
   "source": [
    "# look into dist / speed distribution\n",
    "\n",
    "sns.lineplot(data=data, x='distance', y='consume')\n",
    "plt.show()\n",
    "sns.lineplot(data=data, x='speed', y='consume')"
   ]
  },
  {
   "cell_type": "code",
   "execution_count": 239,
   "metadata": {},
   "outputs": [],
   "source": [
    "# we create a new measure for the pace of the drive (the higher the faster)\n",
    "\n",
    "data['pace'] =  data['speed'] / data['distance']"
   ]
  },
  {
   "cell_type": "code",
   "execution_count": 240,
   "metadata": {},
   "outputs": [
    {
     "data": {
      "text/plain": [
       "<AxesSubplot: xlabel='pace', ylabel='consume'>"
      ]
     },
     "execution_count": 240,
     "metadata": {},
     "output_type": "execute_result"
    },
    {
     "data": {
      "image/png": "[encoded data removed]",
      "text/plain": [
       "<Figure size 640x480 with 1 Axes>"
      ]
     },
     "metadata": {},
     "output_type": "display_data"
    }
   ],
   "source": [
    "sns.lineplot(x='pace', y='consume', data=data)"
   ]
  },
  {
   "cell_type": "code",
   "execution_count": 241,
   "metadata": {},
   "outputs": [
    {
     "data": {
      "image/png": "[encoded data removed]",
      "text/plain": [
       "<Figure size 640x480 with 1 Axes>"
      ]
     },
     "metadata": {},
     "output_type": "display_data"
    },
    {
     "data": {
      "image/png": "[encoded data removed]",
      "text/plain": [
       "<Figure size 640x480 with 1 Axes>"
      ]
     },
     "metadata": {},
     "output_type": "display_data"
    }
   ],
   "source": [
    "# next we look into temperature conditions\n",
    "\n",
    "sns.lineplot(x='temp_outside', y='consume', data=data)\n",
    "plt.show()\n",
    "sns.lineplot(x='temp_inside', y='consume', data=data)\n",
    "plt.show()"
   ]
  },
  {
   "cell_type": "code",
   "execution_count": 242,
   "metadata": {},
   "outputs": [],
   "source": [
    "# again we create a new measure for how much the car temp has changed compared to outside\n",
    "\n",
    "data['temp_diff'] = data['temp_inside'] - data['temp_outside']"
   ]
  },
  {
   "cell_type": "code",
   "execution_count": 243,
   "metadata": {},
   "outputs": [
    {
     "data": {
      "text/plain": [
       "<AxesSubplot: xlabel='temp_diff', ylabel='consume'>"
      ]
     },
     "execution_count": 243,
     "metadata": {},
     "output_type": "execute_result"
    },
    {
     "data": {
      "image/png": "[encoded data removed]",
      "text/plain": [
       "<Figure size 640x480 with 1 Axes>"
      ]
     },
     "metadata": {},
     "output_type": "display_data"
    }
   ],
   "source": [
    "sns.lineplot(x='temp_diff', y='consume', data=data)"
   ]
  },
  {
   "cell_type": "code",
   "execution_count": 244,
   "metadata": {},
   "outputs": [
    {
     "data": {
      "text/html": [
       "<div>\n",
       "<style scoped>\n",
       "    .dataframe tbody tr th:only-of-type {\n",
       "        vertical-align: middle;\n",
       "    }\n",
       "\n",
       "    .dataframe tbody tr th {\n",
       "        vertical-align: top;\n",
       "    }\n",
       "\n",
       "    .dataframe thead th {\n",
       "        text-align: right;\n",
       "    }\n",
       "</style>\n",
       "<table border=\"1\" class=\"dataframe\">\n",
       "  <thead>\n",
       "    <tr style=\"text-align: right;\">\n",
       "      <th></th>\n",
       "      <th>consume</th>\n",
       "      <th>gas_type</th>\n",
       "      <th>AC</th>\n",
       "      <th>rain</th>\n",
       "      <th>sun</th>\n",
       "      <th>pace</th>\n",
       "      <th>temp_diff</th>\n",
       "    </tr>\n",
       "  </thead>\n",
       "  <tbody>\n",
       "    <tr>\n",
       "      <th>0</th>\n",
       "      <td>5.0</td>\n",
       "      <td>E10</td>\n",
       "      <td>0</td>\n",
       "      <td>0</td>\n",
       "      <td>0</td>\n",
       "      <td>0.928571</td>\n",
       "      <td>9.5</td>\n",
       "    </tr>\n",
       "    <tr>\n",
       "      <th>1</th>\n",
       "      <td>4.2</td>\n",
       "      <td>E10</td>\n",
       "      <td>0</td>\n",
       "      <td>0</td>\n",
       "      <td>0</td>\n",
       "      <td>2.500000</td>\n",
       "      <td>8.5</td>\n",
       "    </tr>\n",
       "    <tr>\n",
       "      <th>2</th>\n",
       "      <td>5.5</td>\n",
       "      <td>E10</td>\n",
       "      <td>0</td>\n",
       "      <td>0</td>\n",
       "      <td>0</td>\n",
       "      <td>3.392857</td>\n",
       "      <td>6.5</td>\n",
       "    </tr>\n",
       "    <tr>\n",
       "      <th>3</th>\n",
       "      <td>3.9</td>\n",
       "      <td>E10</td>\n",
       "      <td>0</td>\n",
       "      <td>0</td>\n",
       "      <td>0</td>\n",
       "      <td>2.790698</td>\n",
       "      <td>7.5</td>\n",
       "    </tr>\n",
       "    <tr>\n",
       "      <th>4</th>\n",
       "      <td>4.5</td>\n",
       "      <td>E10</td>\n",
       "      <td>0</td>\n",
       "      <td>0</td>\n",
       "      <td>0</td>\n",
       "      <td>2.486486</td>\n",
       "      <td>6.5</td>\n",
       "    </tr>\n",
       "    <tr>\n",
       "      <th>...</th>\n",
       "      <td>...</td>\n",
       "      <td>...</td>\n",
       "      <td>...</td>\n",
       "      <td>...</td>\n",
       "      <td>...</td>\n",
       "      <td>...</td>\n",
       "      <td>...</td>\n",
       "    </tr>\n",
       "    <tr>\n",
       "      <th>383</th>\n",
       "      <td>3.7</td>\n",
       "      <td>SP98</td>\n",
       "      <td>0</td>\n",
       "      <td>0</td>\n",
       "      <td>0</td>\n",
       "      <td>2.437500</td>\n",
       "      <td>6.5</td>\n",
       "    </tr>\n",
       "    <tr>\n",
       "      <th>384</th>\n",
       "      <td>4.3</td>\n",
       "      <td>SP98</td>\n",
       "      <td>1</td>\n",
       "      <td>0</td>\n",
       "      <td>0</td>\n",
       "      <td>2.360248</td>\n",
       "      <td>-6.0</td>\n",
       "    </tr>\n",
       "    <tr>\n",
       "      <th>385</th>\n",
       "      <td>3.8</td>\n",
       "      <td>SP98</td>\n",
       "      <td>0</td>\n",
       "      <td>0</td>\n",
       "      <td>0</td>\n",
       "      <td>2.812500</td>\n",
       "      <td>6.0</td>\n",
       "    </tr>\n",
       "    <tr>\n",
       "      <th>386</th>\n",
       "      <td>4.6</td>\n",
       "      <td>SP98</td>\n",
       "      <td>1</td>\n",
       "      <td>0</td>\n",
       "      <td>0</td>\n",
       "      <td>2.727273</td>\n",
       "      <td>-6.0</td>\n",
       "    </tr>\n",
       "    <tr>\n",
       "      <th>387</th>\n",
       "      <td>5.0</td>\n",
       "      <td>SP98</td>\n",
       "      <td>1</td>\n",
       "      <td>0</td>\n",
       "      <td>0</td>\n",
       "      <td>1.700680</td>\n",
       "      <td>-5.0</td>\n",
       "    </tr>\n",
       "  </tbody>\n",
       "</table>\n",
       "<p>388 rows × 7 columns</p>\n",
       "</div>"
      ],
      "text/plain": [
       "     consume gas_type  AC  rain  sun      pace  temp_diff\n",
       "0        5.0      E10   0     0    0  0.928571        9.5\n",
       "1        4.2      E10   0     0    0  2.500000        8.5\n",
       "2        5.5      E10   0     0    0  3.392857        6.5\n",
       "3        3.9      E10   0     0    0  2.790698        7.5\n",
       "4        4.5      E10   0     0    0  2.486486        6.5\n",
       "..       ...      ...  ..   ...  ...       ...        ...\n",
       "383      3.7     SP98   0     0    0  2.437500        6.5\n",
       "384      4.3     SP98   1     0    0  2.360248       -6.0\n",
       "385      3.8     SP98   0     0    0  2.812500        6.0\n",
       "386      4.6     SP98   1     0    0  2.727273       -6.0\n",
       "387      5.0     SP98   1     0    0  1.700680       -5.0\n",
       "\n",
       "[388 rows x 7 columns]"
      ]
     },
     "execution_count": 244,
     "metadata": {},
     "output_type": "execute_result"
    }
   ],
   "source": [
    "# now we can drop distance, speed, temp inside & outside\n",
    "\n",
    "data = data.drop(['distance', 'speed', 'temp_inside', 'temp_outside'], axis=1)\n",
    "data"
   ]
  },
  {
   "cell_type": "code",
   "execution_count": 245,
   "metadata": {},
   "outputs": [
    {
     "data": {
      "image/png": "[encoded data removed]",
      "text/plain": [
       "<Figure size 640x480 with 1 Axes>"
      ]
     },
     "metadata": {},
     "output_type": "display_data"
    }
   ],
   "source": [
    "sns.boxplot(data=data, x='gas_type', y='consume')\n",
    "plt.show()"
   ]
  },
  {
   "cell_type": "code",
   "execution_count": 246,
   "metadata": {},
   "outputs": [],
   "source": [
    "# it seems at first sight E10 really is consuming a little more than SP98"
   ]
  },
  {
   "cell_type": "code",
   "execution_count": 247,
   "metadata": {},
   "outputs": [
    {
     "data": {
      "application/vnd.plotly.v1+json": {
       "config": {
        "plotlyServerURL": "https://plot.ly"
       },
       "data": [
        {
         "hovertemplate": "gas_type=E10<br>temp_diff=%{x}<br>pace=%{y}<br>consume=%{z}<extra></extra>",
         "legendgroup": "E10",
         "marker": {
          "color": "#636efa",
          "opacity": 0.7,
          "symbol": "circle"
         },
         "mode": "markers",
         "name": "E10",
         "scene": "scene",
         "showlegend": true,
         "type": "scatter3d",
         "x": [
          9.5,
          8.5,
          6.5,
          7.5,
          6.5,
          11.5,
          10.5,
          15.5,
          17.5,
          12.5,
          17.5,
          21.5,
          11.5,
          9.5,
          10.5,
          16.5,
          18.5,
          18.5,
          13.5,
          17.5,
          18.5,
          20.5,
          20.5,
          20.5,
          15.5,
          12.5,
          20.5,
          18.5,
          20.5,
          17.5,
          10.5,
          11.5,
          13.5,
          14.5,
          14.5,
          13.5,
          17.5,
          15.5,
          12.5,
          14.5,
          14.5,
          14.5,
          15.5,
          14.5,
          14.5,
          11.5,
          8.5,
          4.5,
          4.5,
          11.5,
          3.5,
          11.5,
          11.5,
          9.5,
          16.5,
          13.5,
          12.5,
          14.5,
          15.5,
          14.5,
          14.5,
          13.5,
          12.5,
          12.5,
          12.5,
          17.5,
          14.5,
          19.5,
          19.5,
          18.5,
          16.5,
          16.5,
          15.5,
          13.5,
          14.5,
          15.5,
          13.5,
          15.5,
          21.5,
          15.5,
          18,
          26,
          24,
          21,
          21,
          22.5,
          22.5,
          21.5,
          19.5,
          14.5,
          10.5,
          12.5,
          15.5,
          9,
          10,
          4,
          12.5,
          21.5,
          13.5,
          12.5,
          20.5,
          13.5,
          11.5,
          10.5,
          14.5,
          12.5,
          12.5,
          16.5,
          11.5,
          12.5,
          7.5,
          6.5,
          6.5,
          14.5,
          8.5,
          8.5,
          8.5,
          14.5,
          10.5,
          8.5,
          8.5,
          14.5,
          15.5,
          6.929521276595743,
          10.5,
          9.5,
          5,
          4,
          12,
          0.929521276595743,
          13.929521276595743,
          8,
          10,
          4,
          4,
          5,
          5,
          -2,
          5,
          -2,
          -2,
          -3,
          -2,
          7,
          1.5,
          3,
          5.5,
          0.5,
          5,
          7,
          -2,
          6,
          1,
          -2,
          5,
          9,
          7,
          4,
          6,
          -3
         ],
         "y": [
          0.9285714285714286,
          2.5,
          3.3928571428571432,
          2.7906976744186047,
          2.4864864864864864,
          6.024096385542168,
          5.512820512820513,
          3.252032520325203,
          5.3061224489795915,
          2.5210084033613445,
          3.3870967741935485,
          3.2203389830508473,
          4.796747967479675,
          2.348178137651822,
          3.7096774193548385,
          1.3872832369942196,
          1.0778443113772456,
          2.711864406779661,
          1.505791505791506,
          3.389830508474576,
          1.2648221343873518,
          2.676056338028169,
          2.0670391061452515,
          3.0508474576271185,
          5.0406504065040645,
          4.596774193548387,
          1.1413043478260871,
          1.5217391304347827,
          1.5846994535519126,
          1.9021739130434785,
          4.146341463414634,
          2.4576271186440675,
          4.715447154471544,
          1.2269938650306749,
          1.894736842105263,
          2.9752066115702482,
          1.85,
          5.3061224489795915,
          1.9491525423728813,
          4.715447154471544,
          4.435483870967742,
          6.444444444444445,
          3.1623931623931627,
          4.313725490196079,
          1.4906832298136645,
          3.389830508474576,
          4.715447154471544,
          3.9516129032258065,
          3.5714285714285716,
          3.1355932203389827,
          2.0398009950248754,
          2.1634615384615383,
          8.23529411764706,
          1.2534818941504178,
          1.4092140921409215,
          2.738095238095238,
          2.8282828282828283,
          2.663755458515284,
          3.5260115606936413,
          3.1355932203389827,
          2.1857923497267757,
          1.380846325167038,
          2.8813559322033897,
          2.0370370370370368,
          1.5228426395939088,
          7.647058823529412,
          1.4285714285714286,
          1.3345864661654134,
          2.8042328042328046,
          1.839080459770115,
          4.262295081967213,
          2.987804878048781,
          3.252032520325203,
          1.7061611374407581,
          2.037914691943128,
          2.4229074889867843,
          0.8558558558558559,
          1.4245810055865924,
          3.7288135593220337,
          1.6030534351145038,
          1.083743842364532,
          3.064516129032258,
          3.3333333333333335,
          1.2776831345826234,
          1.7901234567901236,
          4.0650406504065035,
          4.227642276422764,
          4.112903225806451,
          1.8553459119496856,
          4.471544715447155,
          1.4147286821705427,
          1.1398963730569949,
          3.333333333333333,
          0.8497536945812808,
          0.6523407521105141,
          0.9970238095238095,
          1.5263157894736843,
          3.064516129032258,
          2.182539682539683,
          2.5174825174825175,
          3.389830508474576,
          2.840236686390533,
          4.435483870967742,
          2.0689655172413794,
          3.586956521739131,
          4.390243902439024,
          2.4615384615384617,
          1.3559322033898304,
          2.8461538461538463,
          3.4146341463414633,
          4.634146341463414,
          4.56,
          0.9523809523809523,
          3.559322033898305,
          2.1285140562249,
          2.7058823529411766,
          10,
          2.796610169491525,
          4.189189189189189,
          4.435483870967742,
          11,
          2.9285714285714284,
          1.7509727626459144,
          2.0408163265306123,
          2.3728813559322033,
          5.853658536585367,
          6.904761904761904,
          6.904761904761904,
          2.5,
          1.2663755458515285,
          2.625,
          3.2467532467532467,
          2.5625,
          7.619047619047619,
          0.7360157016683022,
          0.9371671991480298,
          2.9518072289156625,
          2.792207792207792,
          2.606060606060606,
          1.3636363636363635,
          3.206521739130435,
          1.4683544303797469,
          2.186046511627907,
          5.416666666666667,
          0.8622398414271556,
          0.44718581341557445,
          2.5903614457831323,
          3.2467532467532467,
          2.8125,
          2.5625,
          2.922077922077922,
          2.6875,
          1.7619047619047619,
          3.051948051948052,
          2.625,
          1.8633540372670805,
          2.625,
          2.5974025974025974,
          2.0348837209302326,
          3.012048192771084
         ],
         "z": [
          5,
          4.2,
          5.5,
          3.9,
          4.5,
          6.4,
          4.4,
          5,
          6.4,
          5.3,
          5.6,
          4.6,
          5.9,
          5.1,
          4.7,
          5.1,
          5.6,
          5.1,
          4.9,
          4.7,
          5.5,
          5.9,
          5.7,
          4.7,
          5.9,
          4.1,
          5.7,
          5.8,
          5.5,
          5.7,
          5.3,
          5,
          5.6,
          4.8,
          4.3,
          5.7,
          5.2,
          7.4,
          4.8,
          6.5,
          4,
          5,
          4.6,
          4.3,
          5.4,
          4.3,
          5.4,
          4.3,
          5.2,
          4.1,
          4.4,
          4.5,
          10.8,
          4.7,
          4.8,
          4,
          5,
          4.6,
          5,
          4.3,
          5.2,
          4.7,
          4.2,
          5.3,
          5.3,
          8.1,
          4.8,
          5.1,
          4.4,
          5,
          6.3,
          4.8,
          6.1,
          4.6,
          4.8,
          4.7,
          4.8,
          4.4,
          4.9,
          4.9,
          4.4,
          5.3,
          5.3,
          4.8,
          5.2,
          4.9,
          7.1,
          5.2,
          4.7,
          5.1,
          5,
          4.6,
          4.8,
          4.4,
          4.6,
          4.3,
          4.5,
          4.8,
          5,
          4.8,
          4.6,
          4.5,
          4.6,
          4.4,
          5.7,
          5.8,
          5.9,
          6.1,
          5.7,
          5,
          5.2,
          4.3,
          4.1,
          4.4,
          4.5,
          3.9,
          8.1,
          4.4,
          5,
          4.7,
          6,
          5,
          5,
          3.9,
          4.5,
          5.4,
          5.6,
          3.9,
          4,
          4,
          3.8,
          4.5,
          3.8,
          5.6,
          5.2,
          4.8,
          3.7,
          4.5,
          3.9,
          5.1,
          4.2,
          4.2,
          4.8,
          4.7,
          4.7,
          4.6,
          3.8,
          4.2,
          3.7,
          4.2,
          4.1,
          4,
          3.8,
          3.8,
          3.8,
          5.1,
          4,
          4.8,
          3.9,
          4.6
         ]
        },
        {
         "hovertemplate": "gas_type=SP98<br>temp_diff=%{x}<br>pace=%{y}<br>consume=%{z}<extra></extra>",
         "legendgroup": "SP98",
         "marker": {
          "color": "#EF553B",
          "opacity": 0.7,
          "symbol": "circle"
         },
         "mode": "markers",
         "name": "SP98",
         "scene": "scene",
         "showlegend": true,
         "type": "scatter3d",
         "x": [
          14.5,
          17.5,
          14.5,
          13.5,
          10.5,
          11.5,
          16.5,
          15.5,
          14.5,
          15.5,
          13.5,
          18.5,
          14.5,
          13.5,
          13.5,
          13.5,
          12.5,
          12.5,
          15.5,
          15.5,
          14.5,
          13.5,
          15.5,
          13.5,
          13.5,
          17.5,
          9.5,
          11.5,
          15.5,
          13.5,
          15.5,
          14.5,
          15.5,
          12.5,
          14.5,
          16,
          14,
          10,
          10,
          10,
          9,
          9,
          9,
          9,
          9,
          12,
          14,
          9,
          7,
          11.929521276595743,
          11,
          10.929521276595743,
          9,
          12.929521276595743,
          12.929521276595743,
          11.929521276595743,
          12.929521276595743,
          13,
          12.929521276595743,
          9,
          10,
          13.5,
          22,
          20,
          17,
          14,
          14,
          14,
          18.5,
          13.5,
          13.5,
          17.5,
          19,
          19,
          22,
          19,
          23,
          21,
          20,
          15,
          23,
          23,
          24,
          22,
          20.5,
          24.5,
          16.5,
          17.5,
          15.5,
          18.5,
          16.5,
          16.5,
          16.5,
          16.5,
          11.5,
          13,
          18,
          9,
          6,
          8.5,
          7.5,
          7.5,
          7.5,
          8.5,
          8.5,
          6.929521276595743,
          1,
          4.929521276595743,
          10.5,
          10.5,
          10,
          10,
          1,
          -1,
          10,
          8,
          11,
          12,
          7,
          17.5,
          9.5,
          11.5,
          10.5,
          5.5,
          10.5,
          13.5,
          12.5,
          11.5,
          14.5,
          19.5,
          11.5,
          18.5,
          19.5,
          20.5,
          18.5,
          21.5,
          14.5,
          14.5,
          12,
          12,
          3,
          15,
          11,
          12,
          14,
          6,
          14,
          6,
          8,
          10,
          2,
          7,
          5,
          4,
          -3,
          6,
          2,
          4,
          -1,
          -5,
          8,
          1,
          6,
          7,
          5,
          7,
          17,
          4,
          11,
          12,
          12,
          9,
          6,
          6,
          9,
          5,
          5,
          5,
          7,
          9,
          7,
          8,
          2,
          1,
          -5,
          7,
          -2,
          7,
          -4,
          6,
          4,
          5,
          -1,
          6,
          -1,
          -1,
          6,
          6.5,
          -2,
          0,
          5,
          7,
          4,
          -1,
          4,
          -4,
          -4.5,
          -5.5,
          1,
          -8,
          3,
          1,
          -4,
          -3,
          2,
          6,
          3,
          -4,
          7.5,
          1.5,
          -2.5,
          -3.5,
          -3.5,
          6.5,
          -6,
          6,
          -6,
          -5
         ],
         "y": [
          5.925925925925926,
          10.5,
          2.2535211267605635,
          1.5625,
          2.11864406779661,
          1.3186813186813187,
          2.4576271186440675,
          5.943396226415095,
          5.258620689655173,
          3.5114503816793894,
          4.59016393442623,
          0.5342019543973942,
          2.0338983050847457,
          4.959349593495935,
          4.596774193548387,
          4.227642276422764,
          6.206896551724138,
          10.952380952380953,
          2.4489795918367343,
          3.823529411764706,
          1.9354838709677418,
          4.596774193548387,
          3.4745762711864403,
          4.471544715447155,
          2.857142857142857,
          3.1355932203389827,
          4.471544715447155,
          10,
          2.0863309352517985,
          4.3298969072164954,
          2.1551724137931036,
          2.676056338028169,
          3.3050847457627115,
          2.0161290322580645,
          4.516129032258064,
          0.8045977011494253,
          2.535211267605634,
          7.5,
          4,
          4.634146341463414,
          2.11864406779661,
          4.715447154471544,
          3.8636363636363638,
          3.4615384615384617,
          2.4806201550387597,
          1.5827338129496402,
          3.1355932203389827,
          4.918032786885246,
          4.08,
          3.467741935483871,
          1.7796610169491525,
          4.406779661016949,
          4.56,
          2.1019108280254777,
          2.7131782945736433,
          5.78125,
          6.415094339622642,
          2.7099236641221376,
          3.2978723404255317,
          5.1020408163265305,
          1.4516129032258065,
          1.9650655021834063,
          0.4609711124769515,
          5.3061224489795915,
          3.0508474576271185,
          3.373493975903614,
          2.9838709677419355,
          1.572327044025157,
          4.11764705882353,
          2.9464285714285716,
          1.35048231511254,
          5.5102040816326525,
          2.2033898305084745,
          1.834061135371179,
          3.064516129032258,
          3.1007751937984493,
          3.644067796610169,
          4.754098360655738,
          2.217741935483871,
          1.6901408450704227,
          3.2203389830508473,
          4.672131147540984,
          2.2672064777327936,
          6.764705882352941,
          2.138728323699422,
          3.7288135593220337,
          2.893081761006289,
          7.647058823529412,
          2.0496894409937885,
          3.644067796610169,
          6.19047619047619,
          1.7241379310344829,
          1.0638297872340425,
          3.2203389830508473,
          4.959349593495935,
          1.0068649885583523,
          3.553719008264463,
          1.4616755793226381,
          1.564102564102564,
          3.4745762711864403,
          1.6363636363636365,
          1.9148936170212767,
          8.275862068965518,
          3.934426229508197,
          2.193877551020408,
          1.8918918918918919,
          3.235294117647059,
          2.619047619047619,
          3.218390804597701,
          3.9240506329113924,
          10.833333333333334,
          5.3061224489795915,
          1.9889502762430937,
          1.505791505791506,
          16.153846153846153,
          1.5602836879432624,
          2.3134328358208953,
          5.15625,
          3.255813953488372,
          2.7272727272727275,
          2.038216560509554,
          1.6049382716049383,
          1.71875,
          3.0526315789473686,
          0.9310344827586207,
          2.644628099173554,
          4.471544715447155,
          2.258064516129032,
          2.635658914728682,
          3.3050847457627115,
          1.9745222929936306,
          2.789473684210526,
          2.923076923076923,
          3.559322033898305,
          2.4615384615384617,
          3.644067796610169,
          2.5461254612546123,
          7.3076923076923075,
          1.9455252918287937,
          2.5,
          1.9875776397515525,
          2.5,
          2.5625,
          1.0526315789473684,
          2.625,
          2.792207792207792,
          2.5,
          1.557632398753894,
          1.5444015444015444,
          0.9053497942386831,
          1.2096774193548385,
          1.2152777777777777,
          4.477611940298507,
          3.378378378378378,
          1.2716763005780347,
          6.515151515151516,
          1.8181818181818181,
          2.481203007518797,
          3.1325301204819276,
          3.070866141732284,
          2.8484848484848486,
          1.8446601941747571,
          3.558282208588957,
          3.4759358288770055,
          1.4794520547945205,
          1.8421052631578947,
          2.7710843373493974,
          1.0702341137123745,
          2.625,
          1.5639810426540284,
          2.5,
          2.857142857142857,
          3.4653465346534653,
          1.0344827586206897,
          3.2085561497326203,
          4.444444444444444,
          2.8282828282828283,
          3.3628318584070795,
          4.608695652173913,
          2.383177570093458,
          1.65625,
          1.2649164677804297,
          0.3791469194312796,
          0.41647385469689957,
          1.0588235294117647,
          3.1325301204819276,
          1.6602316602316602,
          2.909090909090909,
          1.3122171945701357,
          2.513661202185792,
          2.2360248447204967,
          2.875,
          2.147239263803681,
          2.75,
          2.513661202185792,
          5.111111111111111,
          2.823529411764706,
          5.7377049180327875,
          5.409836065573771,
          2.0809248554913293,
          4.5,
          2.8125,
          3.571428571428571,
          2.5324675324675323,
          2.1875,
          3.3766233766233764,
          2.8915662650602405,
          3.116883116883117,
          2.6875,
          2.727272727272727,
          2.6875,
          1.5789473684210527,
          1.4641744548286604,
          1.0457516339869282,
          1.543859649122807,
          2.773109243697479,
          2.4827586206896552,
          2.9518072289156625,
          2.4074074074074074,
          2.6347305389221556,
          6.265060240963855,
          6,
          2.4264705882352944,
          2.4375,
          2.3602484472049685,
          2.8125,
          2.727272727272727,
          1.7006802721088436
         ],
         "z": [
          3.3,
          9.9,
          5.1,
          4.9,
          4.9,
          4.7,
          5.1,
          4.9,
          4.2,
          6.1,
          6.4,
          4.9,
          4.9,
          6.2,
          4.2,
          5.7,
          7.9,
          12.2,
          5.8,
          5.3,
          5.4,
          4.7,
          4.6,
          5.4,
          4.3,
          4.5,
          5.2,
          6.2,
          5.1,
          3.9,
          5,
          5.4,
          4.5,
          5.1,
          4.7,
          4,
          5.4,
          4.5,
          3.6,
          5.2,
          4.9,
          6.2,
          4.3,
          5,
          5.1,
          5.6,
          4.3,
          5.8,
          4,
          4.7,
          5.9,
          5.3,
          4.2,
          5.3,
          5.7,
          4.4,
          4.1,
          5.8,
          5,
          6.9,
          5.4,
          5.3,
          5.5,
          6.5,
          4.7,
          5.1,
          5.7,
          5.4,
          8.7,
          4.9,
          4.7,
          6.3,
          5.1,
          6,
          4.6,
          5.8,
          5.1,
          5.8,
          4.6,
          5.6,
          4.6,
          6.3,
          5.5,
          4.3,
          5.6,
          4.3,
          5.7,
          6.4,
          4.5,
          4.5,
          6,
          5.1,
          6,
          4.5,
          6.1,
          4.7,
          4.2,
          4.8,
          4.1,
          4.5,
          4.8,
          4.6,
          7.4,
          5.6,
          4.9,
          3.8,
          4.5,
          4.1,
          5.3,
          4.7,
          9,
          6.3,
          3.6,
          3.7,
          11.5,
          5,
          5.5,
          4.7,
          4.5,
          4.4,
          4.1,
          4.4,
          4.6,
          4.4,
          4,
          5,
          5.2,
          4,
          5.1,
          4.5,
          4.6,
          5.1,
          5.7,
          4.8,
          6.2,
          5,
          5,
          4.6,
          4.9,
          4.1,
          4.5,
          4.4,
          4.5,
          4.5,
          3.9,
          4.6,
          3.8,
          4.5,
          4.4,
          4.3,
          4,
          3.9,
          5,
          4.1,
          4.1,
          5.6,
          4.1,
          4.6,
          4.9,
          4.5,
          4.1,
          4.1,
          4.5,
          4.2,
          3.9,
          5,
          4.4,
          4.5,
          3.8,
          5.1,
          3.9,
          5.3,
          4.2,
          4.3,
          4,
          4.7,
          4,
          4.3,
          5.3,
          5.2,
          4.9,
          4.7,
          4.6,
          5.3,
          3.6,
          4.2,
          4.1,
          4,
          3.9,
          4.3,
          4.8,
          4.1,
          4,
          3.7,
          4.3,
          5.2,
          4.2,
          5,
          5,
          4.2,
          4.8,
          4.1,
          4.9,
          4.3,
          3.9,
          4.5,
          4.1,
          5,
          4,
          4.5,
          3.6,
          4.1,
          3.9,
          6.6,
          4,
          3.7,
          4.3,
          4.1,
          4.4,
          3.8,
          5,
          3.7,
          3.7,
          3.7,
          4.3,
          3.8,
          4.6,
          5
         ]
        }
       ],
       "layout": {
        "legend": {
         "title": {
          "text": "gas_type"
         },
         "tracegroupgap": 0
        },
        "margin": {
         "t": 60
        },
        "scene": {
         "domain": {
          "x": [
           0,
           1
          ],
          "y": [
           0,
           1
          ]
         },
         "xaxis": {
          "title": {
           "text": "temp_diff"
          }
         },
         "yaxis": {
          "title": {
           "text": "pace"
          }
         },
         "zaxis": {
          "title": {
           "text": "consume"
          }
         }
        },
        "template": {
         "data": {
          "bar": [
           {
            "error_x": {
             "color": "#2a3f5f"
            },
            "error_y": {
             "color": "#2a3f5f"
            },
            "marker": {
             "line": {
              "color": "#E5ECF6",
              "width": 0.5
             },
             "pattern": {
              "fillmode": "overlay",
              "size": 10,
              "solidity": 0.2
             }
            },
            "type": "bar"
           }
          ],
          "barpolar": [
           {
            "marker": {
             "line": {
              "color": "#E5ECF6",
              "width": 0.5
             },
             "pattern": {
              "fillmode": "overlay",
              "size": 10,
              "solidity": 0.2
             }
            },
            "type": "barpolar"
           }
          ],
          "carpet": [
           {
            "aaxis": {
             "endlinecolor": "#2a3f5f",
             "gridcolor": "white",
             "linecolor": "white",
             "minorgridcolor": "white",
             "startlinecolor": "#2a3f5f"
            },
            "baxis": {
             "endlinecolor": "#2a3f5f",
             "gridcolor": "white",
             "linecolor": "white",
             "minorgridcolor": "white",
             "startlinecolor": "#2a3f5f"
            },
            "type": "carpet"
           }
          ],
          "choropleth": [
           {
            "colorbar": {
             "outlinewidth": 0,
             "ticks": ""
            },
            "type": "choropleth"
           }
          ],
          "contour": [
           {
            "colorbar": {
             "outlinewidth": 0,
             "ticks": ""
            },
            "colorscale": [
             [
              0,
              "#0d0887"
             ],
             [
              0.1111111111111111,
              "#46039f"
             ],
             [
              0.2222222222222222,
              "#7201a8"
             ],
             [
              0.3333333333333333,
              "#9c179e"
             ],
             [
              0.4444444444444444,
              "#bd3786"
             ],
             [
              0.5555555555555556,
              "#d8576b"
             ],
             [
              0.6666666666666666,
              "#ed7953"
             ],
             [
              0.7777777777777778,
              "#fb9f3a"
             ],
             [
              0.8888888888888888,
              "#fdca26"
             ],
             [
              1,
              "#f0f921"
             ]
            ],
            "type": "contour"
           }
          ],
          "contourcarpet": [
           {
            "colorbar": {
             "outlinewidth": 0,
             "ticks": ""
            },
            "type": "contourcarpet"
           }
          ],
          "heatmap": [
           {
            "colorbar": {
             "outlinewidth": 0,
             "ticks": ""
            },
            "colorscale": [
             [
              0,
              "#0d0887"
             ],
             [
              0.1111111111111111,
              "#46039f"
             ],
             [
              0.2222222222222222,
              "#7201a8"
             ],
             [
              0.3333333333333333,
              "#9c179e"
             ],
             [
              0.4444444444444444,
              "#bd3786"
             ],
             [
              0.5555555555555556,
              "#d8576b"
             ],
             [
              0.6666666666666666,
              "#ed7953"
             ],
             [
              0.7777777777777778,
              "#fb9f3a"
             ],
             [
              0.8888888888888888,
              "#fdca26"
             ],
             [
              1,
              "#f0f921"
             ]
            ],
            "type": "heatmap"
           }
          ],
          "heatmapgl": [
           {
            "colorbar": {
             "outlinewidth": 0,
             "ticks": ""
            },
            "colorscale": [
             [
              0,
              "#0d0887"
             ],
             [
              0.1111111111111111,
              "#46039f"
             ],
             [
              0.2222222222222222,
              "#7201a8"
             ],
             [
              0.3333333333333333,
              "#9c179e"
             ],
             [
              0.4444444444444444,
              "#bd3786"
             ],
             [
              0.5555555555555556,
              "#d8576b"
             ],
             [
              0.6666666666666666,
              "#ed7953"
             ],
             [
              0.7777777777777778,
              "#fb9f3a"
             ],
             [
              0.8888888888888888,
              "#fdca26"
             ],
             [
              1,
              "#f0f921"
             ]
            ],
            "type": "heatmapgl"
           }
          ],
          "histogram": [
           {
            "marker": {
             "pattern": {
              "fillmode": "overlay",
              "size": 10,
              "solidity": 0.2
             }
            },
            "type": "histogram"
           }
          ],
          "histogram2d": [
           {
            "colorbar": {
             "outlinewidth": 0,
             "ticks": ""
            },
            "colorscale": [
             [
              0,
              "#0d0887"
             ],
             [
              0.1111111111111111,
              "#46039f"
             ],
             [
              0.2222222222222222,
              "#7201a8"
             ],
             [
              0.3333333333333333,
              "#9c179e"
             ],
             [
              0.4444444444444444,
              "#bd3786"
             ],
             [
              0.5555555555555556,
              "#d8576b"
             ],
             [
              0.6666666666666666,
              "#ed7953"
             ],
             [
              0.7777777777777778,
              "#fb9f3a"
             ],
             [
              0.8888888888888888,
              "#fdca26"
             ],
             [
              1,
              "#f0f921"
             ]
            ],
            "type": "histogram2d"
           }
          ],
          "histogram2dcontour": [
           {
            "colorbar": {
             "outlinewidth": 0,
             "ticks": ""
            },
            "colorscale": [
             [
              0,
              "#0d0887"
             ],
             [
              0.1111111111111111,
              "#46039f"
             ],
             [
              0.2222222222222222,
              "#7201a8"
             ],
             [
              0.3333333333333333,
              "#9c179e"
             ],
             [
              0.4444444444444444,
              "#bd3786"
             ],
             [
              0.5555555555555556,
              "#d8576b"
             ],
             [
              0.6666666666666666,
              "#ed7953"
             ],
             [
              0.7777777777777778,
              "#fb9f3a"
             ],
             [
              0.8888888888888888,
              "#fdca26"
             ],
             [
              1,
              "#f0f921"
             ]
            ],
            "type": "histogram2dcontour"
           }
          ],
          "mesh3d": [
           {
            "colorbar": {
             "outlinewidth": 0,
             "ticks": ""
            },
            "type": "mesh3d"
           }
          ],
          "parcoords": [
           {
            "line": {
             "colorbar": {
              "outlinewidth": 0,
              "ticks": ""
             }
            },
            "type": "parcoords"
           }
          ],
          "pie": [
           {
            "automargin": true,
            "type": "pie"
           }
          ],
          "scatter": [
           {
            "fillpattern": {
             "fillmode": "overlay",
             "size": 10,
             "solidity": 0.2
            },
            "type": "scatter"
           }
          ],
          "scatter3d": [
           {
            "line": {
             "colorbar": {
              "outlinewidth": 0,
              "ticks": ""
             }
            },
            "marker": {
             "colorbar": {
              "outlinewidth": 0,
              "ticks": ""
             }
            },
            "type": "scatter3d"
           }
          ],
          "scattercarpet": [
           {
            "marker": {
             "colorbar": {
              "outlinewidth": 0,
              "ticks": ""
             }
            },
            "type": "scattercarpet"
           }
          ],
          "scattergeo": [
           {
            "marker": {
             "colorbar": {
              "outlinewidth": 0,
              "ticks": ""
             }
            },
            "type": "scattergeo"
           }
          ],
          "scattergl": [
           {
            "marker": {
             "colorbar": {
              "outlinewidth": 0,
              "ticks": ""
             }
            },
            "type": "scattergl"
           }
          ],
          "scattermapbox": [
           {
            "marker": {
             "colorbar": {
              "outlinewidth": 0,
              "ticks": ""
             }
            },
            "type": "scattermapbox"
           }
          ],
          "scatterpolar": [
           {
            "marker": {
             "colorbar": {
              "outlinewidth": 0,
              "ticks": ""
             }
            },
            "type": "scatterpolar"
           }
          ],
          "scatterpolargl": [
           {
            "marker": {
             "colorbar": {
              "outlinewidth": 0,
              "ticks": ""
             }
            },
            "type": "scatterpolargl"
           }
          ],
          "scatterternary": [
           {
            "marker": {
             "colorbar": {
              "outlinewidth": 0,
              "ticks": ""
             }
            },
            "type": "scatterternary"
           }
          ],
          "surface": [
           {
            "colorbar": {
             "outlinewidth": 0,
             "ticks": ""
            },
            "colorscale": [
             [
              0,
              "#0d0887"
             ],
             [
              0.1111111111111111,
              "#46039f"
             ],
             [
              0.2222222222222222,
              "#7201a8"
             ],
             [
              0.3333333333333333,
              "#9c179e"
             ],
             [
              0.4444444444444444,
              "#bd3786"
             ],
             [
              0.5555555555555556,
              "#d8576b"
             ],
             [
              0.6666666666666666,
              "#ed7953"
             ],
             [
              0.7777777777777778,
              "#fb9f3a"
             ],
             [
              0.8888888888888888,
              "#fdca26"
             ],
             [
              1,
              "#f0f921"
             ]
            ],
            "type": "surface"
           }
          ],
          "table": [
           {
            "cells": {
             "fill": {
              "color": "#EBF0F8"
             },
             "line": {
              "color": "white"
             }
            },
            "header": {
             "fill": {
              "color": "#C8D4E3"
             },
             "line": {
              "color": "white"
             }
            },
            "type": "table"
           }
          ]
         },
         "layout": {
          "annotationdefaults": {
           "arrowcolor": "#2a3f5f",
           "arrowhead": 0,
           "arrowwidth": 1
          },
          "autotypenumbers": "strict",
          "coloraxis": {
           "colorbar": {
            "outlinewidth": 0,
            "ticks": ""
           }
          },
          "colorscale": {
           "diverging": [
            [
             0,
             "#8e0152"
            ],
            [
             0.1,
             "#c51b7d"
            ],
            [
             0.2,
             "#de77ae"
            ],
            [
             0.3,
             "#f1b6da"
            ],
            [
             0.4,
             "#fde0ef"
            ],
            [
             0.5,
             "#f7f7f7"
            ],
            [
             0.6,
             "#e6f5d0"
            ],
            [
             0.7,
             "#b8e186"
            ],
            [
             0.8,
             "#7fbc41"
            ],
            [
             0.9,
             "#4d9221"
            ],
            [
             1,
             "#276419"
            ]
           ],
           "sequential": [
            [
             0,
             "#0d0887"
            ],
            [
             0.1111111111111111,
             "#46039f"
            ],
            [
             0.2222222222222222,
             "#7201a8"
            ],
            [
             0.3333333333333333,
             "#9c179e"
            ],
            [
             0.4444444444444444,
             "#bd3786"
            ],
            [
             0.5555555555555556,
             "#d8576b"
            ],
            [
             0.6666666666666666,
             "#ed7953"
            ],
            [
             0.7777777777777778,
             "#fb9f3a"
            ],
            [
             0.8888888888888888,
             "#fdca26"
            ],
            [
             1,
             "#f0f921"
            ]
           ],
           "sequentialminus": [
            [
             0,
             "#0d0887"
            ],
            [
             0.1111111111111111,
             "#46039f"
            ],
            [
             0.2222222222222222,
             "#7201a8"
            ],
            [
             0.3333333333333333,
             "#9c179e"
            ],
            [
             0.4444444444444444,
             "#bd3786"
            ],
            [
             0.5555555555555556,
             "#d8576b"
            ],
            [
             0.6666666666666666,
             "#ed7953"
            ],
            [
             0.7777777777777778,
             "#fb9f3a"
            ],
            [
             0.8888888888888888,
             "#fdca26"
            ],
            [
             1,
             "#f0f921"
            ]
           ]
          },
          "colorway": [
           "#636efa",
           "#EF553B",
           "#00cc96",
           "#ab63fa",
           "#FFA15A",
           "#19d3f3",
           "#FF6692",
           "#B6E880",
           "#FF97FF",
           "#FECB52"
          ],
          "font": {
           "color": "#2a3f5f"
          },
          "geo": {
           "bgcolor": "white",
           "lakecolor": "white",
           "landcolor": "#E5ECF6",
           "showlakes": true,
           "showland": true,
           "subunitcolor": "white"
          },
          "hoverlabel": {
           "align": "left"
          },
          "hovermode": "closest",
          "mapbox": {
           "style": "light"
          },
          "paper_bgcolor": "white",
          "plot_bgcolor": "#E5ECF6",
          "polar": {
           "angularaxis": {
            "gridcolor": "white",
            "linecolor": "white",
            "ticks": ""
           },
           "bgcolor": "#E5ECF6",
           "radialaxis": {
            "gridcolor": "white",
            "linecolor": "white",
            "ticks": ""
           }
          },
          "scene": {
           "xaxis": {
            "backgroundcolor": "#E5ECF6",
            "gridcolor": "white",
            "gridwidth": 2,
            "linecolor": "white",
            "showbackground": true,
            "ticks": "",
            "zerolinecolor": "white"
           },
           "yaxis": {
            "backgroundcolor": "#E5ECF6",
            "gridcolor": "white",
            "gridwidth": 2,
            "linecolor": "white",
            "showbackground": true,
            "ticks": "",
            "zerolinecolor": "white"
           },
           "zaxis": {
            "backgroundcolor": "#E5ECF6",
            "gridcolor": "white",
            "gridwidth": 2,
            "linecolor": "white",
            "showbackground": true,
            "ticks": "",
            "zerolinecolor": "white"
           }
          },
          "shapedefaults": {
           "line": {
            "color": "#2a3f5f"
           }
          },
          "ternary": {
           "aaxis": {
            "gridcolor": "white",
            "linecolor": "white",
            "ticks": ""
           },
           "baxis": {
            "gridcolor": "white",
            "linecolor": "white",
            "ticks": ""
           },
           "bgcolor": "#E5ECF6",
           "caxis": {
            "gridcolor": "white",
            "linecolor": "white",
            "ticks": ""
           }
          },
          "title": {
           "x": 0.05
          },
          "xaxis": {
           "automargin": true,
           "gridcolor": "white",
           "linecolor": "white",
           "ticks": "",
           "title": {
            "standoff": 15
           },
           "zerolinecolor": "white",
           "zerolinewidth": 2
          },
          "yaxis": {
           "automargin": true,
           "gridcolor": "white",
           "linecolor": "white",
           "ticks": "",
           "title": {
            "standoff": 15
           },
           "zerolinecolor": "white",
           "zerolinewidth": 2
          }
         }
        }
       }
      }
     },
     "metadata": {},
     "output_type": "display_data"
    }
   ],
   "source": [
    "# but lets go deeper:\n",
    "\n",
    "import plotly.express as px\n",
    "fig = px.scatter_3d(data, x='temp_diff', y='pace', z='consume',\n",
    "              color='gas_type', opacity=0.7)\n",
    "\n",
    "fig.show()"
   ]
  },
  {
   "cell_type": "code",
   "execution_count": 248,
   "metadata": {},
   "outputs": [
    {
     "data": {
      "text/plain": [
       "SP98    228\n",
       "E10     160\n",
       "Name: gas_type, dtype: int64"
      ]
     },
     "execution_count": 248,
     "metadata": {},
     "output_type": "execute_result"
    }
   ],
   "source": [
    "data['gas_type'].value_counts()"
   ]
  },
  {
   "cell_type": "code",
   "execution_count": 249,
   "metadata": {},
   "outputs": [],
   "source": [
    "# we see now that that actual the SP98 has the high consumptions, while E10 only holds the higher overall quartiles (boxplot)\n",
    "# but \n",
    "\n",
    "# also: we have more SP98 samples, than E10\n",
    "# resampling (either programmatically or manually by doing E10 trips) could lead to other results "
   ]
  },
  {
   "cell_type": "code",
   "execution_count": 250,
   "metadata": {},
   "outputs": [
    {
     "data": {
      "image/png": "[encoded data removed]",
      "text/plain": [
       "<Figure size 640x480 with 2 Axes>"
      ]
     },
     "metadata": {},
     "output_type": "display_data"
    }
   ],
   "source": [
    "sns.heatmap(data.corr(), annot=True, cmap='Reds')\n",
    "plt.show()"
   ]
  },
  {
   "cell_type": "code",
   "execution_count": 251,
   "metadata": {},
   "outputs": [],
   "source": [
    "# we were able to transfer multicollinearity into high target correlation!"
   ]
  },
  {
   "cell_type": "code",
   "execution_count": 252,
   "metadata": {},
   "outputs": [],
   "source": [
    "# classification for gas_type directly doesn't realy make sense, \n",
    "# because the conditions (temp,pace,specials) also have reasonable impact"
   ]
  },
  {
   "cell_type": "code",
   "execution_count": 253,
   "metadata": {},
   "outputs": [
    {
     "name": "stdout",
     "output_type": "stream",
     "text": [
      "388\n",
      "381\n"
     ]
    }
   ],
   "source": [
    "# we handle some outliers\n",
    "print(len(data))\n",
    "data = data[data['pace'] < 9]\n",
    "print(len(data))"
   ]
  },
  {
   "cell_type": "code",
   "execution_count": 254,
   "metadata": {},
   "outputs": [
    {
     "data": {
      "application/vnd.plotly.v1+json": {
       "config": {
        "plotlyServerURL": "https://plot.ly"
       },
       "data": [
        {
         "hovertemplate": "gas_type=E10<br>temp_diff=%{x}<br>pace=%{y}<br>consume=%{z}<extra></extra>",
         "legendgroup": "E10",
         "marker": {
          "color": "#636efa",
          "opacity": 0.7,
          "symbol": "circle"
         },
         "mode": "markers",
         "name": "E10",
         "scene": "scene",
         "showlegend": true,
         "type": "scatter3d",
         "x": [
          9.5,
          8.5,
          6.5,
          7.5,
          6.5,
          11.5,
          10.5,
          15.5,
          17.5,
          12.5,
          17.5,
          21.5,
          11.5,
          9.5,
          10.5,
          16.5,
          18.5,
          18.5,
          13.5,
          17.5,
          18.5,
          20.5,
          20.5,
          20.5,
          15.5,
          12.5,
          20.5,
          18.5,
          20.5,
          17.5,
          10.5,
          11.5,
          13.5,
          14.5,
          14.5,
          13.5,
          17.5,
          15.5,
          12.5,
          14.5,
          14.5,
          14.5,
          15.5,
          14.5,
          14.5,
          11.5,
          8.5,
          4.5,
          4.5,
          11.5,
          3.5,
          11.5,
          11.5,
          9.5,
          16.5,
          13.5,
          12.5,
          14.5,
          15.5,
          14.5,
          14.5,
          13.5,
          12.5,
          12.5,
          12.5,
          17.5,
          14.5,
          19.5,
          19.5,
          18.5,
          16.5,
          16.5,
          15.5,
          13.5,
          14.5,
          15.5,
          13.5,
          15.5,
          21.5,
          15.5,
          18,
          26,
          24,
          21,
          21,
          22.5,
          22.5,
          21.5,
          19.5,
          14.5,
          10.5,
          12.5,
          15.5,
          9,
          10,
          4,
          12.5,
          21.5,
          13.5,
          12.5,
          20.5,
          13.5,
          11.5,
          10.5,
          14.5,
          12.5,
          12.5,
          16.5,
          11.5,
          12.5,
          7.5,
          6.5,
          6.5,
          14.5,
          8.5,
          8.5,
          14.5,
          10.5,
          8.5,
          14.5,
          15.5,
          6.929521276595743,
          10.5,
          9.5,
          5,
          4,
          12,
          0.929521276595743,
          13.929521276595743,
          8,
          10,
          4,
          4,
          5,
          5,
          -2,
          5,
          -2,
          -2,
          -3,
          -2,
          7,
          1.5,
          3,
          5.5,
          0.5,
          5,
          7,
          -2,
          6,
          1,
          -2,
          5,
          9,
          7,
          4,
          6,
          -3
         ],
         "y": [
          0.9285714285714286,
          2.5,
          3.3928571428571432,
          2.7906976744186047,
          2.4864864864864864,
          6.024096385542168,
          5.512820512820513,
          3.252032520325203,
          5.3061224489795915,
          2.5210084033613445,
          3.3870967741935485,
          3.2203389830508473,
          4.796747967479675,
          2.348178137651822,
          3.7096774193548385,
          1.3872832369942196,
          1.0778443113772456,
          2.711864406779661,
          1.505791505791506,
          3.389830508474576,
          1.2648221343873518,
          2.676056338028169,
          2.0670391061452515,
          3.0508474576271185,
          5.0406504065040645,
          4.596774193548387,
          1.1413043478260871,
          1.5217391304347827,
          1.5846994535519126,
          1.9021739130434785,
          4.146341463414634,
          2.4576271186440675,
          4.715447154471544,
          1.2269938650306749,
          1.894736842105263,
          2.9752066115702482,
          1.85,
          5.3061224489795915,
          1.9491525423728813,
          4.715447154471544,
          4.435483870967742,
          6.444444444444445,
          3.1623931623931627,
          4.313725490196079,
          1.4906832298136645,
          3.389830508474576,
          4.715447154471544,
          3.9516129032258065,
          3.5714285714285716,
          3.1355932203389827,
          2.0398009950248754,
          2.1634615384615383,
          8.23529411764706,
          1.2534818941504178,
          1.4092140921409215,
          2.738095238095238,
          2.8282828282828283,
          2.663755458515284,
          3.5260115606936413,
          3.1355932203389827,
          2.1857923497267757,
          1.380846325167038,
          2.8813559322033897,
          2.0370370370370368,
          1.5228426395939088,
          7.647058823529412,
          1.4285714285714286,
          1.3345864661654134,
          2.8042328042328046,
          1.839080459770115,
          4.262295081967213,
          2.987804878048781,
          3.252032520325203,
          1.7061611374407581,
          2.037914691943128,
          2.4229074889867843,
          0.8558558558558559,
          1.4245810055865924,
          3.7288135593220337,
          1.6030534351145038,
          1.083743842364532,
          3.064516129032258,
          3.3333333333333335,
          1.2776831345826234,
          1.7901234567901236,
          4.0650406504065035,
          4.227642276422764,
          4.112903225806451,
          1.8553459119496856,
          4.471544715447155,
          1.4147286821705427,
          1.1398963730569949,
          3.333333333333333,
          0.8497536945812808,
          0.6523407521105141,
          0.9970238095238095,
          1.5263157894736843,
          3.064516129032258,
          2.182539682539683,
          2.5174825174825175,
          3.389830508474576,
          2.840236686390533,
          4.435483870967742,
          2.0689655172413794,
          3.586956521739131,
          4.390243902439024,
          2.4615384615384617,
          1.3559322033898304,
          2.8461538461538463,
          3.4146341463414633,
          4.634146341463414,
          4.56,
          0.9523809523809523,
          3.559322033898305,
          2.1285140562249,
          2.7058823529411766,
          2.796610169491525,
          4.189189189189189,
          4.435483870967742,
          2.9285714285714284,
          1.7509727626459144,
          2.0408163265306123,
          2.3728813559322033,
          5.853658536585367,
          6.904761904761904,
          6.904761904761904,
          2.5,
          1.2663755458515285,
          2.625,
          3.2467532467532467,
          2.5625,
          7.619047619047619,
          0.7360157016683022,
          0.9371671991480298,
          2.9518072289156625,
          2.792207792207792,
          2.606060606060606,
          1.3636363636363635,
          3.206521739130435,
          1.4683544303797469,
          2.186046511627907,
          5.416666666666667,
          0.8622398414271556,
          0.44718581341557445,
          2.5903614457831323,
          3.2467532467532467,
          2.8125,
          2.5625,
          2.922077922077922,
          2.6875,
          1.7619047619047619,
          3.051948051948052,
          2.625,
          1.8633540372670805,
          2.625,
          2.5974025974025974,
          2.0348837209302326,
          3.012048192771084
         ],
         "z": [
          5,
          4.2,
          5.5,
          3.9,
          4.5,
          6.4,
          4.4,
          5,
          6.4,
          5.3,
          5.6,
          4.6,
          5.9,
          5.1,
          4.7,
          5.1,
          5.6,
          5.1,
          4.9,
          4.7,
          5.5,
          5.9,
          5.7,
          4.7,
          5.9,
          4.1,
          5.7,
          5.8,
          5.5,
          5.7,
          5.3,
          5,
          5.6,
          4.8,
          4.3,
          5.7,
          5.2,
          7.4,
          4.8,
          6.5,
          4,
          5,
          4.6,
          4.3,
          5.4,
          4.3,
          5.4,
          4.3,
          5.2,
          4.1,
          4.4,
          4.5,
          10.8,
          4.7,
          4.8,
          4,
          5,
          4.6,
          5,
          4.3,
          5.2,
          4.7,
          4.2,
          5.3,
          5.3,
          8.1,
          4.8,
          5.1,
          4.4,
          5,
          6.3,
          4.8,
          6.1,
          4.6,
          4.8,
          4.7,
          4.8,
          4.4,
          4.9,
          4.9,
          4.4,
          5.3,
          5.3,
          4.8,
          5.2,
          4.9,
          7.1,
          5.2,
          4.7,
          5.1,
          5,
          4.6,
          4.8,
          4.4,
          4.6,
          4.3,
          4.5,
          4.8,
          5,
          4.8,
          4.6,
          4.5,
          4.6,
          4.4,
          5.7,
          5.8,
          5.9,
          6.1,
          5.7,
          5,
          5.2,
          4.3,
          4.1,
          4.4,
          4.5,
          3.9,
          4.4,
          5,
          4.7,
          5,
          5,
          3.9,
          4.5,
          5.4,
          5.6,
          3.9,
          4,
          4,
          3.8,
          4.5,
          3.8,
          5.6,
          5.2,
          4.8,
          3.7,
          4.5,
          3.9,
          5.1,
          4.2,
          4.2,
          4.8,
          4.7,
          4.7,
          4.6,
          3.8,
          4.2,
          3.7,
          4.2,
          4.1,
          4,
          3.8,
          3.8,
          3.8,
          5.1,
          4,
          4.8,
          3.9,
          4.6
         ]
        },
        {
         "hovertemplate": "gas_type=SP98<br>temp_diff=%{x}<br>pace=%{y}<br>consume=%{z}<extra></extra>",
         "legendgroup": "SP98",
         "marker": {
          "color": "#EF553B",
          "opacity": 0.7,
          "symbol": "circle"
         },
         "mode": "markers",
         "name": "SP98",
         "scene": "scene",
         "showlegend": true,
         "type": "scatter3d",
         "x": [
          14.5,
          14.5,
          13.5,
          10.5,
          11.5,
          16.5,
          15.5,
          14.5,
          15.5,
          13.5,
          18.5,
          14.5,
          13.5,
          13.5,
          13.5,
          12.5,
          15.5,
          15.5,
          14.5,
          13.5,
          15.5,
          13.5,
          13.5,
          17.5,
          9.5,
          15.5,
          13.5,
          15.5,
          14.5,
          15.5,
          12.5,
          14.5,
          16,
          14,
          10,
          10,
          10,
          9,
          9,
          9,
          9,
          9,
          12,
          14,
          9,
          7,
          11.929521276595743,
          11,
          10.929521276595743,
          9,
          12.929521276595743,
          12.929521276595743,
          11.929521276595743,
          12.929521276595743,
          13,
          12.929521276595743,
          9,
          10,
          13.5,
          22,
          20,
          17,
          14,
          14,
          14,
          18.5,
          13.5,
          13.5,
          17.5,
          19,
          19,
          22,
          19,
          23,
          21,
          20,
          15,
          23,
          23,
          24,
          22,
          20.5,
          24.5,
          16.5,
          17.5,
          15.5,
          18.5,
          16.5,
          16.5,
          16.5,
          16.5,
          11.5,
          13,
          18,
          9,
          6,
          8.5,
          7.5,
          7.5,
          7.5,
          8.5,
          8.5,
          6.929521276595743,
          1,
          4.929521276595743,
          10.5,
          10.5,
          10,
          1,
          -1,
          8,
          11,
          12,
          7,
          17.5,
          9.5,
          11.5,
          10.5,
          5.5,
          10.5,
          13.5,
          12.5,
          11.5,
          14.5,
          19.5,
          11.5,
          18.5,
          19.5,
          20.5,
          18.5,
          21.5,
          14.5,
          14.5,
          12,
          12,
          3,
          15,
          11,
          12,
          14,
          6,
          14,
          6,
          8,
          10,
          2,
          7,
          5,
          4,
          -3,
          6,
          2,
          4,
          -1,
          -5,
          8,
          1,
          6,
          7,
          5,
          7,
          17,
          4,
          11,
          12,
          12,
          9,
          6,
          6,
          9,
          5,
          5,
          5,
          7,
          9,
          7,
          8,
          2,
          1,
          -5,
          7,
          -2,
          7,
          -4,
          6,
          4,
          5,
          -1,
          6,
          -1,
          -1,
          6,
          6.5,
          -2,
          0,
          5,
          7,
          4,
          -1,
          4,
          -4,
          -4.5,
          -5.5,
          1,
          -8,
          3,
          1,
          -4,
          -3,
          2,
          6,
          3,
          -4,
          7.5,
          1.5,
          -2.5,
          -3.5,
          -3.5,
          6.5,
          -6,
          6,
          -6,
          -5
         ],
         "y": [
          5.925925925925926,
          2.2535211267605635,
          1.5625,
          2.11864406779661,
          1.3186813186813187,
          2.4576271186440675,
          5.943396226415095,
          5.258620689655173,
          3.5114503816793894,
          4.59016393442623,
          0.5342019543973942,
          2.0338983050847457,
          4.959349593495935,
          4.596774193548387,
          4.227642276422764,
          6.206896551724138,
          2.4489795918367343,
          3.823529411764706,
          1.9354838709677418,
          4.596774193548387,
          3.4745762711864403,
          4.471544715447155,
          2.857142857142857,
          3.1355932203389827,
          4.471544715447155,
          2.0863309352517985,
          4.3298969072164954,
          2.1551724137931036,
          2.676056338028169,
          3.3050847457627115,
          2.0161290322580645,
          4.516129032258064,
          0.8045977011494253,
          2.535211267605634,
          7.5,
          4,
          4.634146341463414,
          2.11864406779661,
          4.715447154471544,
          3.8636363636363638,
          3.4615384615384617,
          2.4806201550387597,
          1.5827338129496402,
          3.1355932203389827,
          4.918032786885246,
          4.08,
          3.467741935483871,
          1.7796610169491525,
          4.406779661016949,
          4.56,
          2.1019108280254777,
          2.7131782945736433,
          5.78125,
          6.415094339622642,
          2.7099236641221376,
          3.2978723404255317,
          5.1020408163265305,
          1.4516129032258065,
          1.9650655021834063,
          0.4609711124769515,
          5.3061224489795915,
          3.0508474576271185,
          3.373493975903614,
          2.9838709677419355,
          1.572327044025157,
          4.11764705882353,
          2.9464285714285716,
          1.35048231511254,
          5.5102040816326525,
          2.2033898305084745,
          1.834061135371179,
          3.064516129032258,
          3.1007751937984493,
          3.644067796610169,
          4.754098360655738,
          2.217741935483871,
          1.6901408450704227,
          3.2203389830508473,
          4.672131147540984,
          2.2672064777327936,
          6.764705882352941,
          2.138728323699422,
          3.7288135593220337,
          2.893081761006289,
          7.647058823529412,
          2.0496894409937885,
          3.644067796610169,
          6.19047619047619,
          1.7241379310344829,
          1.0638297872340425,
          3.2203389830508473,
          4.959349593495935,
          1.0068649885583523,
          3.553719008264463,
          1.4616755793226381,
          1.564102564102564,
          3.4745762711864403,
          1.6363636363636365,
          1.9148936170212767,
          8.275862068965518,
          3.934426229508197,
          2.193877551020408,
          1.8918918918918919,
          3.235294117647059,
          2.619047619047619,
          3.218390804597701,
          3.9240506329113924,
          5.3061224489795915,
          1.9889502762430937,
          1.505791505791506,
          1.5602836879432624,
          2.3134328358208953,
          5.15625,
          3.255813953488372,
          2.7272727272727275,
          2.038216560509554,
          1.6049382716049383,
          1.71875,
          3.0526315789473686,
          0.9310344827586207,
          2.644628099173554,
          4.471544715447155,
          2.258064516129032,
          2.635658914728682,
          3.3050847457627115,
          1.9745222929936306,
          2.789473684210526,
          2.923076923076923,
          3.559322033898305,
          2.4615384615384617,
          3.644067796610169,
          2.5461254612546123,
          7.3076923076923075,
          1.9455252918287937,
          2.5,
          1.9875776397515525,
          2.5,
          2.5625,
          1.0526315789473684,
          2.625,
          2.792207792207792,
          2.5,
          1.557632398753894,
          1.5444015444015444,
          0.9053497942386831,
          1.2096774193548385,
          1.2152777777777777,
          4.477611940298507,
          3.378378378378378,
          1.2716763005780347,
          6.515151515151516,
          1.8181818181818181,
          2.481203007518797,
          3.1325301204819276,
          3.070866141732284,
          2.8484848484848486,
          1.8446601941747571,
          3.558282208588957,
          3.4759358288770055,
          1.4794520547945205,
          1.8421052631578947,
          2.7710843373493974,
          1.0702341137123745,
          2.625,
          1.5639810426540284,
          2.5,
          2.857142857142857,
          3.4653465346534653,
          1.0344827586206897,
          3.2085561497326203,
          4.444444444444444,
          2.8282828282828283,
          3.3628318584070795,
          4.608695652173913,
          2.383177570093458,
          1.65625,
          1.2649164677804297,
          0.3791469194312796,
          0.41647385469689957,
          1.0588235294117647,
          3.1325301204819276,
          1.6602316602316602,
          2.909090909090909,
          1.3122171945701357,
          2.513661202185792,
          2.2360248447204967,
          2.875,
          2.147239263803681,
          2.75,
          2.513661202185792,
          5.111111111111111,
          2.823529411764706,
          5.7377049180327875,
          5.409836065573771,
          2.0809248554913293,
          4.5,
          2.8125,
          3.571428571428571,
          2.5324675324675323,
          2.1875,
          3.3766233766233764,
          2.8915662650602405,
          3.116883116883117,
          2.6875,
          2.727272727272727,
          2.6875,
          1.5789473684210527,
          1.4641744548286604,
          1.0457516339869282,
          1.543859649122807,
          2.773109243697479,
          2.4827586206896552,
          2.9518072289156625,
          2.4074074074074074,
          2.6347305389221556,
          6.265060240963855,
          6,
          2.4264705882352944,
          2.4375,
          2.3602484472049685,
          2.8125,
          2.727272727272727,
          1.7006802721088436
         ],
         "z": [
          3.3,
          5.1,
          4.9,
          4.9,
          4.7,
          5.1,
          4.9,
          4.2,
          6.1,
          6.4,
          4.9,
          4.9,
          6.2,
          4.2,
          5.7,
          7.9,
          5.8,
          5.3,
          5.4,
          4.7,
          4.6,
          5.4,
          4.3,
          4.5,
          5.2,
          5.1,
          3.9,
          5,
          5.4,
          4.5,
          5.1,
          4.7,
          4,
          5.4,
          4.5,
          3.6,
          5.2,
          4.9,
          6.2,
          4.3,
          5,
          5.1,
          5.6,
          4.3,
          5.8,
          4,
          4.7,
          5.9,
          5.3,
          4.2,
          5.3,
          5.7,
          4.4,
          4.1,
          5.8,
          5,
          6.9,
          5.4,
          5.3,
          5.5,
          6.5,
          4.7,
          5.1,
          5.7,
          5.4,
          8.7,
          4.9,
          4.7,
          6.3,
          5.1,
          6,
          4.6,
          5.8,
          5.1,
          5.8,
          4.6,
          5.6,
          4.6,
          6.3,
          5.5,
          4.3,
          5.6,
          4.3,
          5.7,
          6.4,
          4.5,
          4.5,
          6,
          5.1,
          6,
          4.5,
          6.1,
          4.7,
          4.2,
          4.8,
          4.1,
          4.5,
          4.8,
          4.6,
          7.4,
          5.6,
          4.9,
          3.8,
          4.5,
          4.1,
          5.3,
          4.7,
          6.3,
          3.6,
          3.7,
          5,
          5.5,
          4.7,
          4.5,
          4.4,
          4.1,
          4.4,
          4.6,
          4.4,
          4,
          5,
          5.2,
          4,
          5.1,
          4.5,
          4.6,
          5.1,
          5.7,
          4.8,
          6.2,
          5,
          5,
          4.6,
          4.9,
          4.1,
          4.5,
          4.4,
          4.5,
          4.5,
          3.9,
          4.6,
          3.8,
          4.5,
          4.4,
          4.3,
          4,
          3.9,
          5,
          4.1,
          4.1,
          5.6,
          4.1,
          4.6,
          4.9,
          4.5,
          4.1,
          4.1,
          4.5,
          4.2,
          3.9,
          5,
          4.4,
          4.5,
          3.8,
          5.1,
          3.9,
          5.3,
          4.2,
          4.3,
          4,
          4.7,
          4,
          4.3,
          5.3,
          5.2,
          4.9,
          4.7,
          4.6,
          5.3,
          3.6,
          4.2,
          4.1,
          4,
          3.9,
          4.3,
          4.8,
          4.1,
          4,
          3.7,
          4.3,
          5.2,
          4.2,
          5,
          5,
          4.2,
          4.8,
          4.1,
          4.9,
          4.3,
          3.9,
          4.5,
          4.1,
          5,
          4,
          4.5,
          3.6,
          4.1,
          3.9,
          6.6,
          4,
          3.7,
          4.3,
          4.1,
          4.4,
          3.8,
          5,
          3.7,
          3.7,
          3.7,
          4.3,
          3.8,
          4.6,
          5
         ]
        }
       ],
       "layout": {
        "legend": {
         "title": {
          "text": "gas_type"
         },
         "tracegroupgap": 0
        },
        "margin": {
         "t": 60
        },
        "scene": {
         "domain": {
          "x": [
           0,
           1
          ],
          "y": [
           0,
           1
          ]
         },
         "xaxis": {
          "title": {
           "text": "temp_diff"
          }
         },
         "yaxis": {
          "title": {
           "text": "pace"
          }
         },
         "zaxis": {
          "title": {
           "text": "consume"
          }
         }
        },
        "template": {
         "data": {
          "bar": [
           {
            "error_x": {
             "color": "#2a3f5f"
            },
            "error_y": {
             "color": "#2a3f5f"
            },
            "marker": {
             "line": {
              "color": "#E5ECF6",
              "width": 0.5
             },
             "pattern": {
              "fillmode": "overlay",
              "size": 10,
              "solidity": 0.2
             }
            },
            "type": "bar"
           }
          ],
          "barpolar": [
           {
            "marker": {
             "line": {
              "color": "#E5ECF6",
              "width": 0.5
             },
             "pattern": {
              "fillmode": "overlay",
              "size": 10,
              "solidity": 0.2
             }
            },
            "type": "barpolar"
           }
          ],
          "carpet": [
           {
            "aaxis": {
             "endlinecolor": "#2a3f5f",
             "gridcolor": "white",
             "linecolor": "white",
             "minorgridcolor": "white",
             "startlinecolor": "#2a3f5f"
            },
            "baxis": {
             "endlinecolor": "#2a3f5f",
             "gridcolor": "white",
             "linecolor": "white",
             "minorgridcolor": "white",
             "startlinecolor": "#2a3f5f"
            },
            "type": "carpet"
           }
          ],
          "choropleth": [
           {
            "colorbar": {
             "outlinewidth": 0,
             "ticks": ""
            },
            "type": "choropleth"
           }
          ],
          "contour": [
           {
            "colorbar": {
             "outlinewidth": 0,
             "ticks": ""
            },
            "colorscale": [
             [
              0,
              "#0d0887"
             ],
             [
              0.1111111111111111,
              "#46039f"
             ],
             [
              0.2222222222222222,
              "#7201a8"
             ],
             [
              0.3333333333333333,
              "#9c179e"
             ],
             [
              0.4444444444444444,
              "#bd3786"
             ],
             [
              0.5555555555555556,
              "#d8576b"
             ],
             [
              0.6666666666666666,
              "#ed7953"
             ],
             [
              0.7777777777777778,
              "#fb9f3a"
             ],
             [
              0.8888888888888888,
              "#fdca26"
             ],
             [
              1,
              "#f0f921"
             ]
            ],
            "type": "contour"
           }
          ],
          "contourcarpet": [
           {
            "colorbar": {
             "outlinewidth": 0,
             "ticks": ""
            },
            "type": "contourcarpet"
           }
          ],
          "heatmap": [
           {
            "colorbar": {
             "outlinewidth": 0,
             "ticks": ""
            },
            "colorscale": [
             [
              0,
              "#0d0887"
             ],
             [
              0.1111111111111111,
              "#46039f"
             ],
             [
              0.2222222222222222,
              "#7201a8"
             ],
             [
              0.3333333333333333,
              "#9c179e"
             ],
             [
              0.4444444444444444,
              "#bd3786"
             ],
             [
              0.5555555555555556,
              "#d8576b"
             ],
             [
              0.6666666666666666,
              "#ed7953"
             ],
             [
              0.7777777777777778,
              "#fb9f3a"
             ],
             [
              0.8888888888888888,
              "#fdca26"
             ],
             [
              1,
              "#f0f921"
             ]
            ],
            "type": "heatmap"
           }
          ],
          "heatmapgl": [
           {
            "colorbar": {
             "outlinewidth": 0,
             "ticks": ""
            },
            "colorscale": [
             [
              0,
              "#0d0887"
             ],
             [
              0.1111111111111111,
              "#46039f"
             ],
             [
              0.2222222222222222,
              "#7201a8"
             ],
             [
              0.3333333333333333,
              "#9c179e"
             ],
             [
              0.4444444444444444,
              "#bd3786"
             ],
             [
              0.5555555555555556,
              "#d8576b"
             ],
             [
              0.6666666666666666,
              "#ed7953"
             ],
             [
              0.7777777777777778,
              "#fb9f3a"
             ],
             [
              0.8888888888888888,
              "#fdca26"
             ],
             [
              1,
              "#f0f921"
             ]
            ],
            "type": "heatmapgl"
           }
          ],
          "histogram": [
           {
            "marker": {
             "pattern": {
              "fillmode": "overlay",
              "size": 10,
              "solidity": 0.2
             }
            },
            "type": "histogram"
           }
          ],
          "histogram2d": [
           {
            "colorbar": {
             "outlinewidth": 0,
             "ticks": ""
            },
            "colorscale": [
             [
              0,
              "#0d0887"
             ],
             [
              0.1111111111111111,
              "#46039f"
             ],
             [
              0.2222222222222222,
              "#7201a8"
             ],
             [
              0.3333333333333333,
              "#9c179e"
             ],
             [
              0.4444444444444444,
              "#bd3786"
             ],
             [
              0.5555555555555556,
              "#d8576b"
             ],
             [
              0.6666666666666666,
              "#ed7953"
             ],
             [
              0.7777777777777778,
              "#fb9f3a"
             ],
             [
              0.8888888888888888,
              "#fdca26"
             ],
             [
              1,
              "#f0f921"
             ]
            ],
            "type": "histogram2d"
           }
          ],
          "histogram2dcontour": [
           {
            "colorbar": {
             "outlinewidth": 0,
             "ticks": ""
            },
            "colorscale": [
             [
              0,
              "#0d0887"
             ],
             [
              0.1111111111111111,
              "#46039f"
             ],
             [
              0.2222222222222222,
              "#7201a8"
             ],
             [
              0.3333333333333333,
              "#9c179e"
             ],
             [
              0.4444444444444444,
              "#bd3786"
             ],
             [
              0.5555555555555556,
              "#d8576b"
             ],
             [
              0.6666666666666666,
              "#ed7953"
             ],
             [
              0.7777777777777778,
              "#fb9f3a"
             ],
             [
              0.8888888888888888,
              "#fdca26"
             ],
             [
              1,
              "#f0f921"
             ]
            ],
            "type": "histogram2dcontour"
           }
          ],
          "mesh3d": [
           {
            "colorbar": {
             "outlinewidth": 0,
             "ticks": ""
            },
            "type": "mesh3d"
           }
          ],
          "parcoords": [
           {
            "line": {
             "colorbar": {
              "outlinewidth": 0,
              "ticks": ""
             }
            },
            "type": "parcoords"
           }
          ],
          "pie": [
           {
            "automargin": true,
            "type": "pie"
           }
          ],
          "scatter": [
           {
            "fillpattern": {
             "fillmode": "overlay",
             "size": 10,
             "solidity": 0.2
            },
            "type": "scatter"
           }
          ],
          "scatter3d": [
           {
            "line": {
             "colorbar": {
              "outlinewidth": 0,
              "ticks": ""
             }
            },
            "marker": {
             "colorbar": {
              "outlinewidth": 0,
              "ticks": ""
             }
            },
            "type": "scatter3d"
           }
          ],
          "scattercarpet": [
           {
            "marker": {
             "colorbar": {
              "outlinewidth": 0,
              "ticks": ""
             }
            },
            "type": "scattercarpet"
           }
          ],
          "scattergeo": [
           {
            "marker": {
             "colorbar": {
              "outlinewidth": 0,
              "ticks": ""
             }
            },
            "type": "scattergeo"
           }
          ],
          "scattergl": [
           {
            "marker": {
             "colorbar": {
              "outlinewidth": 0,
              "ticks": ""
             }
            },
            "type": "scattergl"
           }
          ],
          "scattermapbox": [
           {
            "marker": {
             "colorbar": {
              "outlinewidth": 0,
              "ticks": ""
             }
            },
            "type": "scattermapbox"
           }
          ],
          "scatterpolar": [
           {
            "marker": {
             "colorbar": {
              "outlinewidth": 0,
              "ticks": ""
             }
            },
            "type": "scatterpolar"
           }
          ],
          "scatterpolargl": [
           {
            "marker": {
             "colorbar": {
              "outlinewidth": 0,
              "ticks": ""
             }
            },
            "type": "scatterpolargl"
           }
          ],
          "scatterternary": [
           {
            "marker": {
             "colorbar": {
              "outlinewidth": 0,
              "ticks": ""
             }
            },
            "type": "scatterternary"
           }
          ],
          "surface": [
           {
            "colorbar": {
             "outlinewidth": 0,
             "ticks": ""
            },
            "colorscale": [
             [
              0,
              "#0d0887"
             ],
             [
              0.1111111111111111,
              "#46039f"
             ],
             [
              0.2222222222222222,
              "#7201a8"
             ],
             [
              0.3333333333333333,
              "#9c179e"
             ],
             [
              0.4444444444444444,
              "#bd3786"
             ],
             [
              0.5555555555555556,
              "#d8576b"
             ],
             [
              0.6666666666666666,
              "#ed7953"
             ],
             [
              0.7777777777777778,
              "#fb9f3a"
             ],
             [
              0.8888888888888888,
              "#fdca26"
             ],
             [
              1,
              "#f0f921"
             ]
            ],
            "type": "surface"
           }
          ],
          "table": [
           {
            "cells": {
             "fill": {
              "color": "#EBF0F8"
             },
             "line": {
              "color": "white"
             }
            },
            "header": {
             "fill": {
              "color": "#C8D4E3"
             },
             "line": {
              "color": "white"
             }
            },
            "type": "table"
           }
          ]
         },
         "layout": {
          "annotationdefaults": {
           "arrowcolor": "#2a3f5f",
           "arrowhead": 0,
           "arrowwidth": 1
          },
          "autotypenumbers": "strict",
          "coloraxis": {
           "colorbar": {
            "outlinewidth": 0,
            "ticks": ""
           }
          },
          "colorscale": {
           "diverging": [
            [
             0,
             "#8e0152"
            ],
            [
             0.1,
             "#c51b7d"
            ],
            [
             0.2,
             "#de77ae"
            ],
            [
             0.3,
             "#f1b6da"
            ],
            [
             0.4,
             "#fde0ef"
            ],
            [
             0.5,
             "#f7f7f7"
            ],
            [
             0.6,
             "#e6f5d0"
            ],
            [
             0.7,
             "#b8e186"
            ],
            [
             0.8,
             "#7fbc41"
            ],
            [
             0.9,
             "#4d9221"
            ],
            [
             1,
             "#276419"
            ]
           ],
           "sequential": [
            [
             0,
             "#0d0887"
            ],
            [
             0.1111111111111111,
             "#46039f"
            ],
            [
             0.2222222222222222,
             "#7201a8"
            ],
            [
             0.3333333333333333,
             "#9c179e"
            ],
            [
             0.4444444444444444,
             "#bd3786"
            ],
            [
             0.5555555555555556,
             "#d8576b"
            ],
            [
             0.6666666666666666,
             "#ed7953"
            ],
            [
             0.7777777777777778,
             "#fb9f3a"
            ],
            [
             0.8888888888888888,
             "#fdca26"
            ],
            [
             1,
             "#f0f921"
            ]
           ],
           "sequentialminus": [
            [
             0,
             "#0d0887"
            ],
            [
             0.1111111111111111,
             "#46039f"
            ],
            [
             0.2222222222222222,
             "#7201a8"
            ],
            [
             0.3333333333333333,
             "#9c179e"
            ],
            [
             0.4444444444444444,
             "#bd3786"
            ],
            [
             0.5555555555555556,
             "#d8576b"
            ],
            [
             0.6666666666666666,
             "#ed7953"
            ],
            [
             0.7777777777777778,
             "#fb9f3a"
            ],
            [
             0.8888888888888888,
             "#fdca26"
            ],
            [
             1,
             "#f0f921"
            ]
           ]
          },
          "colorway": [
           "#636efa",
           "#EF553B",
           "#00cc96",
           "#ab63fa",
           "#FFA15A",
           "#19d3f3",
           "#FF6692",
           "#B6E880",
           "#FF97FF",
           "#FECB52"
          ],
          "font": {
           "color": "#2a3f5f"
          },
          "geo": {
           "bgcolor": "white",
           "lakecolor": "white",
           "landcolor": "#E5ECF6",
           "showlakes": true,
           "showland": true,
           "subunitcolor": "white"
          },
          "hoverlabel": {
           "align": "left"
          },
          "hovermode": "closest",
          "mapbox": {
           "style": "light"
          },
          "paper_bgcolor": "white",
          "plot_bgcolor": "#E5ECF6",
          "polar": {
           "angularaxis": {
            "gridcolor": "white",
            "linecolor": "white",
            "ticks": ""
           },
           "bgcolor": "#E5ECF6",
           "radialaxis": {
            "gridcolor": "white",
            "linecolor": "white",
            "ticks": ""
           }
          },
          "scene": {
           "xaxis": {
            "backgroundcolor": "#E5ECF6",
            "gridcolor": "white",
            "gridwidth": 2,
            "linecolor": "white",
            "showbackground": true,
            "ticks": "",
            "zerolinecolor": "white"
           },
           "yaxis": {
            "backgroundcolor": "#E5ECF6",
            "gridcolor": "white",
            "gridwidth": 2,
            "linecolor": "white",
            "showbackground": true,
            "ticks": "",
            "zerolinecolor": "white"
           },
           "zaxis": {
            "backgroundcolor": "#E5ECF6",
            "gridcolor": "white",
            "gridwidth": 2,
            "linecolor": "white",
            "showbackground": true,
            "ticks": "",
            "zerolinecolor": "white"
           }
          },
          "shapedefaults": {
           "line": {
            "color": "#2a3f5f"
           }
          },
          "ternary": {
           "aaxis": {
            "gridcolor": "white",
            "linecolor": "white",
            "ticks": ""
           },
           "baxis": {
            "gridcolor": "white",
            "linecolor": "white",
            "ticks": ""
           },
           "bgcolor": "#E5ECF6",
           "caxis": {
            "gridcolor": "white",
            "linecolor": "white",
            "ticks": ""
           }
          },
          "title": {
           "x": 0.05
          },
          "xaxis": {
           "automargin": true,
           "gridcolor": "white",
           "linecolor": "white",
           "ticks": "",
           "title": {
            "standoff": 15
           },
           "zerolinecolor": "white",
           "zerolinewidth": 2
          },
          "yaxis": {
           "automargin": true,
           "gridcolor": "white",
           "linecolor": "white",
           "ticks": "",
           "title": {
            "standoff": 15
           },
           "zerolinecolor": "white",
           "zerolinewidth": 2
          }
         }
        }
       }
      }
     },
     "metadata": {},
     "output_type": "display_data"
    }
   ],
   "source": [
    "# but lets go deeper:\n",
    "\n",
    "import plotly.express as px\n",
    "fig = px.scatter_3d(data, x='temp_diff', y='pace', z='consume',\n",
    "              color='gas_type', opacity=0.7)\n",
    "\n",
    "fig.show()"
   ]
  },
  {
   "cell_type": "code",
   "execution_count": 255,
   "metadata": {},
   "outputs": [],
   "source": [
    "# in order to find the best combustible, we build a regression model, \n",
    "# that predicts the consume of a particular trip\n",
    "# we can than compare the results for E10 and SP98\n",
    "\n",
    "target = data['consume']\n",
    "data = data.drop(['consume'], axis=1)"
   ]
  },
  {
   "cell_type": "code",
   "execution_count": 256,
   "metadata": {},
   "outputs": [
    {
     "data": {
      "text/html": [
       "<div>\n",
       "<style scoped>\n",
       "    .dataframe tbody tr th:only-of-type {\n",
       "        vertical-align: middle;\n",
       "    }\n",
       "\n",
       "    .dataframe tbody tr th {\n",
       "        vertical-align: top;\n",
       "    }\n",
       "\n",
       "    .dataframe thead th {\n",
       "        text-align: right;\n",
       "    }\n",
       "</style>\n",
       "<table border=\"1\" class=\"dataframe\">\n",
       "  <thead>\n",
       "    <tr style=\"text-align: right;\">\n",
       "      <th></th>\n",
       "      <th>AC</th>\n",
       "      <th>rain</th>\n",
       "      <th>sun</th>\n",
       "      <th>pace</th>\n",
       "      <th>temp_diff</th>\n",
       "      <th>E10</th>\n",
       "    </tr>\n",
       "  </thead>\n",
       "  <tbody>\n",
       "    <tr>\n",
       "      <th>0</th>\n",
       "      <td>0</td>\n",
       "      <td>0</td>\n",
       "      <td>0</td>\n",
       "      <td>0.928571</td>\n",
       "      <td>9.5</td>\n",
       "      <td>1</td>\n",
       "    </tr>\n",
       "    <tr>\n",
       "      <th>1</th>\n",
       "      <td>0</td>\n",
       "      <td>0</td>\n",
       "      <td>0</td>\n",
       "      <td>2.500000</td>\n",
       "      <td>8.5</td>\n",
       "      <td>1</td>\n",
       "    </tr>\n",
       "    <tr>\n",
       "      <th>2</th>\n",
       "      <td>0</td>\n",
       "      <td>0</td>\n",
       "      <td>0</td>\n",
       "      <td>3.392857</td>\n",
       "      <td>6.5</td>\n",
       "      <td>1</td>\n",
       "    </tr>\n",
       "    <tr>\n",
       "      <th>3</th>\n",
       "      <td>0</td>\n",
       "      <td>0</td>\n",
       "      <td>0</td>\n",
       "      <td>2.790698</td>\n",
       "      <td>7.5</td>\n",
       "      <td>1</td>\n",
       "    </tr>\n",
       "    <tr>\n",
       "      <th>4</th>\n",
       "      <td>0</td>\n",
       "      <td>0</td>\n",
       "      <td>0</td>\n",
       "      <td>2.486486</td>\n",
       "      <td>6.5</td>\n",
       "      <td>1</td>\n",
       "    </tr>\n",
       "    <tr>\n",
       "      <th>...</th>\n",
       "      <td>...</td>\n",
       "      <td>...</td>\n",
       "      <td>...</td>\n",
       "      <td>...</td>\n",
       "      <td>...</td>\n",
       "      <td>...</td>\n",
       "    </tr>\n",
       "    <tr>\n",
       "      <th>383</th>\n",
       "      <td>0</td>\n",
       "      <td>0</td>\n",
       "      <td>0</td>\n",
       "      <td>2.437500</td>\n",
       "      <td>6.5</td>\n",
       "      <td>0</td>\n",
       "    </tr>\n",
       "    <tr>\n",
       "      <th>384</th>\n",
       "      <td>1</td>\n",
       "      <td>0</td>\n",
       "      <td>0</td>\n",
       "      <td>2.360248</td>\n",
       "      <td>-6.0</td>\n",
       "      <td>0</td>\n",
       "    </tr>\n",
       "    <tr>\n",
       "      <th>385</th>\n",
       "      <td>0</td>\n",
       "      <td>0</td>\n",
       "      <td>0</td>\n",
       "      <td>2.812500</td>\n",
       "      <td>6.0</td>\n",
       "      <td>0</td>\n",
       "    </tr>\n",
       "    <tr>\n",
       "      <th>386</th>\n",
       "      <td>1</td>\n",
       "      <td>0</td>\n",
       "      <td>0</td>\n",
       "      <td>2.727273</td>\n",
       "      <td>-6.0</td>\n",
       "      <td>0</td>\n",
       "    </tr>\n",
       "    <tr>\n",
       "      <th>387</th>\n",
       "      <td>1</td>\n",
       "      <td>0</td>\n",
       "      <td>0</td>\n",
       "      <td>1.700680</td>\n",
       "      <td>-5.0</td>\n",
       "      <td>0</td>\n",
       "    </tr>\n",
       "  </tbody>\n",
       "</table>\n",
       "<p>381 rows × 6 columns</p>\n",
       "</div>"
      ],
      "text/plain": [
       "     AC  rain  sun      pace  temp_diff  E10\n",
       "0     0     0    0  0.928571        9.5    1\n",
       "1     0     0    0  2.500000        8.5    1\n",
       "2     0     0    0  3.392857        6.5    1\n",
       "3     0     0    0  2.790698        7.5    1\n",
       "4     0     0    0  2.486486        6.5    1\n",
       "..   ..   ...  ...       ...        ...  ...\n",
       "383   0     0    0  2.437500        6.5    0\n",
       "384   1     0    0  2.360248       -6.0    0\n",
       "385   0     0    0  2.812500        6.0    0\n",
       "386   1     0    0  2.727273       -6.0    0\n",
       "387   1     0    0  1.700680       -5.0    0\n",
       "\n",
       "[381 rows x 6 columns]"
      ]
     },
     "execution_count": 256,
     "metadata": {},
     "output_type": "execute_result"
    }
   ],
   "source": [
    "# we still have to encode the gas_type, but we can do that easily as there are only 2 types\n",
    "\n",
    "def encode_gas(x):\n",
    "    if x == 'E10':\n",
    "        return 1\n",
    "    else:\n",
    "        return 0\n",
    "\n",
    "data['E10'] = data['gas_type'].apply(encode_gas)\n",
    "data = data.drop(['gas_type'], axis=1)\n",
    "data"
   ]
  },
  {
   "cell_type": "code",
   "execution_count": 257,
   "metadata": {},
   "outputs": [
    {
     "data": {
      "text/plain": [
       "0    223\n",
       "1    158\n",
       "Name: E10, dtype: int64"
      ]
     },
     "execution_count": 257,
     "metadata": {},
     "output_type": "execute_result"
    }
   ],
   "source": [
    "data.E10.value_counts()"
   ]
  },
  {
   "cell_type": "code",
   "execution_count": 265,
   "metadata": {},
   "outputs": [],
   "source": [
    "from sklearn.preprocessing import MinMaxScaler\n",
    "from sklearn.model_selection import train_test_split\n",
    "\n",
    "X_train, X_test, y_train, y_test = train_test_split(data, target)\n",
    "\n",
    "scaler = MinMaxScaler().fit(X_train)\n",
    "X_train = pd.DataFrame(scaler.transform(X_train), columns=data.columns)\n",
    "X_test = pd.DataFrame(scaler.transform(X_test), columns=data.columns)"
   ]
  },
  {
   "cell_type": "code",
   "execution_count": 259,
   "metadata": {},
   "outputs": [],
   "source": [
    "from sklearn.metrics import mean_squared_error\n",
    "from sklearn.neighbors import KNeighborsRegressor\n",
    "from xgboost import XGBRegressor\n",
    "from sklearn.ensemble import RandomForestRegressor\n",
    "from sklearn.tree import DecisionTreeRegressor\n",
    "from sklearn.linear_model import LinearRegression\n",
    "from sklearn.neural_network import MLPRegressor\n",
    "\n",
    "regressors = [KNeighborsRegressor(), XGBRegressor(), RandomForestRegressor(), DecisionTreeRegressor(), LinearRegression()]"
   ]
  },
  {
   "cell_type": "code",
   "execution_count": 266,
   "metadata": {},
   "outputs": [
    {
     "name": "stdout",
     "output_type": "stream",
     "text": [
      "KNeighborsRegressor\n",
      "score >>> 0.17558488230478952\n",
      "rmse  >>> 0.8466896322344649\n",
      "XGBRegressor\n",
      "score >>> 0.32120255680710375\n",
      "rmse  >>> 0.7682832541660592\n",
      "RandomForestRegressor\n",
      "score >>> 0.42083567339767636\n",
      "rmse  >>> 0.709663012096853\n",
      "DecisionTreeRegressor\n",
      "score >>> 0.15505021263002383\n",
      "rmse  >>> 0.8571695184345587\n",
      "LinearRegression\n",
      "score >>> 0.2795808969600426\n",
      "rmse  >>> 0.7914871684003486\n"
     ]
    }
   ],
   "source": [
    "for model in regressors:\n",
    "    print(str(model).split('(')[0])\n",
    "    model.fit(X_train, y_train)\n",
    "\n",
    "    print('score >>>', model.score(X_test, y_test))\n",
    "    print('rmse  >>>', mean_squared_error(y_test, model.predict(X_test))**0.5)"
   ]
  },
  {
   "cell_type": "code",
   "execution_count": 100,
   "metadata": {},
   "outputs": [],
   "source": [
    "# forest had score > 60% and rmse < 0.5 :(\n",
    "\n",
    "# maybe i was really lucky with the train test split but i couldn't eloborate in time (cross validation)\n",
    "# maybe handle outliers\n"
   ]
  },
  {
   "cell_type": "code",
   "execution_count": null,
   "metadata": {},
   "outputs": [],
   "source": [
    "# we try some hyperparameter tuning on Random Forest\n",
    "from sklearn.model_selection import GridSearchCV\n",
    "\n",
    "grid = {'max_depth': [0,2,5,20,None],\n",
    "        'criterion': ['squared_error','absolute_error', None],\n",
    "        'min_samples_split': [0,2,5,10,20,None],\n",
    "        'min_samples_leaf': [0,2,5,10,20,None]}\n",
    "\n",
    "\n",
    "grid_search = GridSearchCV(estimator=RandomForestRegressor(), param_grid=grid, cv=5, verbose=2)\n",
    "\n",
    "# we use all of the data here\n",
    "grid_search.fit(data, target)"
   ]
  },
  {
   "cell_type": "code",
   "execution_count": null,
   "metadata": {},
   "outputs": [
    {
     "data": {
      "text/plain": [
       "{'criterion': 'squared_error',\n",
       " 'max_depth': None,\n",
       " 'min_samples_leaf': 2,\n",
       " 'min_samples_split': 20}"
      ]
     },
     "execution_count": 36,
     "metadata": {},
     "output_type": "execute_result"
    }
   ],
   "source": [
    "grid_search.best_params_"
   ]
  },
  {
   "cell_type": "code",
   "execution_count": 267,
   "metadata": {},
   "outputs": [
    {
     "name": "stdout",
     "output_type": "stream",
     "text": [
      "score >>> 0.4006372642948327\n",
      "rmse  >>> 0.7219317419169451\n"
     ]
    }
   ],
   "source": [
    "model = RandomForestRegressor(\n",
    "    criterion='squared_error',\n",
    "    max_depth=None,\n",
    "    min_samples_leaf=2,\n",
    "    min_samples_split=20)\n",
    "\n",
    "\n",
    "model.fit(X_train, y_train)\n",
    "\n",
    "print('score >>>', model.score(X_test, y_test))\n",
    "print('rmse  >>>', mean_squared_error(y_test, model.predict(X_test))**0.5)"
   ]
  },
  {
   "cell_type": "code",
   "execution_count": 268,
   "metadata": {},
   "outputs": [
    {
     "data": {
      "text/html": [
       "<div>\n",
       "<style scoped>\n",
       "    .dataframe tbody tr th:only-of-type {\n",
       "        vertical-align: middle;\n",
       "    }\n",
       "\n",
       "    .dataframe tbody tr th {\n",
       "        vertical-align: top;\n",
       "    }\n",
       "\n",
       "    .dataframe thead th {\n",
       "        text-align: right;\n",
       "    }\n",
       "</style>\n",
       "<table border=\"1\" class=\"dataframe\">\n",
       "  <thead>\n",
       "    <tr style=\"text-align: right;\">\n",
       "      <th></th>\n",
       "      <th>AC</th>\n",
       "      <th>rain</th>\n",
       "      <th>sun</th>\n",
       "      <th>pace</th>\n",
       "      <th>temp_diff</th>\n",
       "      <th>E10</th>\n",
       "      <th>predictions</th>\n",
       "    </tr>\n",
       "  </thead>\n",
       "  <tbody>\n",
       "    <tr>\n",
       "      <th>0</th>\n",
       "      <td>0</td>\n",
       "      <td>0</td>\n",
       "      <td>0</td>\n",
       "      <td>0.1</td>\n",
       "      <td>0.6</td>\n",
       "      <td>0</td>\n",
       "      <td>4.764573</td>\n",
       "    </tr>\n",
       "    <tr>\n",
       "      <th>1</th>\n",
       "      <td>0</td>\n",
       "      <td>0</td>\n",
       "      <td>0</td>\n",
       "      <td>0.1</td>\n",
       "      <td>0.6</td>\n",
       "      <td>1</td>\n",
       "      <td>4.737644</td>\n",
       "    </tr>\n",
       "  </tbody>\n",
       "</table>\n",
       "</div>"
      ],
      "text/plain": [
       "   AC  rain  sun  pace  temp_diff  E10  predictions\n",
       "0   0     0    0   0.1        0.6    0     4.764573\n",
       "1   0     0    0   0.1        0.6    1     4.737644"
      ]
     },
     "execution_count": 268,
     "metadata": {},
     "output_type": "execute_result"
    }
   ],
   "source": [
    "# now we create comparable samples for E10 and SP98\n",
    "import random\n",
    "\n",
    "compare = []\n",
    "\n",
    "for gas_type in range(2):\n",
    "    entry = {}\n",
    "    entry['AC'] = 0\n",
    "    entry['rain'] = 0\n",
    "    entry['sun'] = 0\n",
    "    entry['pace'] = .1\n",
    "    entry['temp_diff'] = .6\n",
    "    entry['E10'] = gas_type\n",
    "    compare.append(entry)\n",
    "\n",
    "compare = pd.DataFrame(compare)    \n",
    "compare['predictions'] = model.predict(compare)\n",
    "compare"
   ]
  },
  {
   "cell_type": "code",
   "execution_count": 269,
   "metadata": {},
   "outputs": [],
   "source": [
    "# by experimenting with the parameters we can see that in some cases SP98 consumes more!\n",
    "\n",
    "# because of that fact, the best combustible can only be chosen after/when knowing the conditions!"
   ]
  }
 ],
 "metadata": {
  "kernelspec": {
   "display_name": "base",
   "language": "python",
   "name": "python3"
  },
  "language_info": {
   "codemirror_mode": {
    "name": "ipython",
    "version": 3
   },
   "file_extension": ".py",
   "mimetype": "text/x-python",
   "name": "python",
   "nbconvert_exporter": "python",
   "pygments_lexer": "ipython3",
   "version": "3.9.13"
  },
  "orig_nbformat": 4,
  "vscode": {
   "interpreter": {
    "hash": "110a49fd1fc6ce11dd5772feb9d88a10bee43765f151468609dcac41899fc28c"
   }
  }
 },
 "nbformat": 4,
 "nbformat_minor": 2
}
