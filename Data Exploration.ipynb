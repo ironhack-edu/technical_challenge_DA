{
 "cells": [
  {
   "cell_type": "code",
   "execution_count": 1,
   "id": "112c06ec",
   "metadata": {},
   "outputs": [],
   "source": [
    "import pandas as pd\n",
    "import numpy as np\n",
    "\n",
    "import seaborn as sns\n",
    "import matplotlib.pyplot as plt\n",
    "sns.set_theme()"
   ]
  },
  {
   "cell_type": "code",
   "execution_count": 2,
   "id": "023ec7d2",
   "metadata": {},
   "outputs": [],
   "source": [
    "consumption_df = pd.read_csv(\"./data/measurements.csv\")"
   ]
  },
  {
   "cell_type": "code",
   "execution_count": 3,
   "id": "a1f48efc",
   "metadata": {},
   "outputs": [
    {
     "data": {
      "text/html": [
       "<div>\n",
       "<style scoped>\n",
       "    .dataframe tbody tr th:only-of-type {\n",
       "        vertical-align: middle;\n",
       "    }\n",
       "\n",
       "    .dataframe tbody tr th {\n",
       "        vertical-align: top;\n",
       "    }\n",
       "\n",
       "    .dataframe thead th {\n",
       "        text-align: right;\n",
       "    }\n",
       "</style>\n",
       "<table border=\"1\" class=\"dataframe\">\n",
       "  <thead>\n",
       "    <tr style=\"text-align: right;\">\n",
       "      <th></th>\n",
       "      <th>distance</th>\n",
       "      <th>consume</th>\n",
       "      <th>speed</th>\n",
       "      <th>temp_inside</th>\n",
       "      <th>temp_outside</th>\n",
       "      <th>specials</th>\n",
       "      <th>gas_type</th>\n",
       "      <th>AC</th>\n",
       "      <th>rain</th>\n",
       "      <th>sun</th>\n",
       "      <th>refill liters</th>\n",
       "      <th>refill gas</th>\n",
       "    </tr>\n",
       "  </thead>\n",
       "  <tbody>\n",
       "    <tr>\n",
       "      <th>0</th>\n",
       "      <td>28</td>\n",
       "      <td>5</td>\n",
       "      <td>26</td>\n",
       "      <td>21,5</td>\n",
       "      <td>12</td>\n",
       "      <td>NaN</td>\n",
       "      <td>E10</td>\n",
       "      <td>0</td>\n",
       "      <td>0</td>\n",
       "      <td>0</td>\n",
       "      <td>45</td>\n",
       "      <td>E10</td>\n",
       "    </tr>\n",
       "    <tr>\n",
       "      <th>1</th>\n",
       "      <td>12</td>\n",
       "      <td>4,2</td>\n",
       "      <td>30</td>\n",
       "      <td>21,5</td>\n",
       "      <td>13</td>\n",
       "      <td>NaN</td>\n",
       "      <td>E10</td>\n",
       "      <td>0</td>\n",
       "      <td>0</td>\n",
       "      <td>0</td>\n",
       "      <td>NaN</td>\n",
       "      <td>NaN</td>\n",
       "    </tr>\n",
       "    <tr>\n",
       "      <th>2</th>\n",
       "      <td>11,2</td>\n",
       "      <td>5,5</td>\n",
       "      <td>38</td>\n",
       "      <td>21,5</td>\n",
       "      <td>15</td>\n",
       "      <td>NaN</td>\n",
       "      <td>E10</td>\n",
       "      <td>0</td>\n",
       "      <td>0</td>\n",
       "      <td>0</td>\n",
       "      <td>NaN</td>\n",
       "      <td>NaN</td>\n",
       "    </tr>\n",
       "    <tr>\n",
       "      <th>3</th>\n",
       "      <td>12,9</td>\n",
       "      <td>3,9</td>\n",
       "      <td>36</td>\n",
       "      <td>21,5</td>\n",
       "      <td>14</td>\n",
       "      <td>NaN</td>\n",
       "      <td>E10</td>\n",
       "      <td>0</td>\n",
       "      <td>0</td>\n",
       "      <td>0</td>\n",
       "      <td>NaN</td>\n",
       "      <td>NaN</td>\n",
       "    </tr>\n",
       "    <tr>\n",
       "      <th>4</th>\n",
       "      <td>18,5</td>\n",
       "      <td>4,5</td>\n",
       "      <td>46</td>\n",
       "      <td>21,5</td>\n",
       "      <td>15</td>\n",
       "      <td>NaN</td>\n",
       "      <td>E10</td>\n",
       "      <td>0</td>\n",
       "      <td>0</td>\n",
       "      <td>0</td>\n",
       "      <td>NaN</td>\n",
       "      <td>NaN</td>\n",
       "    </tr>\n",
       "  </tbody>\n",
       "</table>\n",
       "</div>"
      ],
      "text/plain": [
       "  distance consume  speed temp_inside  temp_outside specials gas_type  AC  \\\n",
       "0       28       5     26        21,5            12      NaN      E10   0   \n",
       "1       12     4,2     30        21,5            13      NaN      E10   0   \n",
       "2     11,2     5,5     38        21,5            15      NaN      E10   0   \n",
       "3     12,9     3,9     36        21,5            14      NaN      E10   0   \n",
       "4     18,5     4,5     46        21,5            15      NaN      E10   0   \n",
       "\n",
       "   rain  sun refill liters refill gas  \n",
       "0     0    0            45        E10  \n",
       "1     0    0           NaN        NaN  \n",
       "2     0    0           NaN        NaN  \n",
       "3     0    0           NaN        NaN  \n",
       "4     0    0           NaN        NaN  "
      ]
     },
     "execution_count": 3,
     "metadata": {},
     "output_type": "execute_result"
    }
   ],
   "source": [
    "consumption_df.head()"
   ]
  },
  {
   "cell_type": "code",
   "execution_count": 4,
   "id": "439d7c93",
   "metadata": {},
   "outputs": [
    {
     "data": {
      "text/plain": [
       "distance         object\n",
       "consume          object\n",
       "speed             int64\n",
       "temp_inside      object\n",
       "temp_outside      int64\n",
       "specials         object\n",
       "gas_type         object\n",
       "AC                int64\n",
       "rain              int64\n",
       "sun               int64\n",
       "refill liters    object\n",
       "refill gas       object\n",
       "dtype: object"
      ]
     },
     "execution_count": 4,
     "metadata": {},
     "output_type": "execute_result"
    }
   ],
   "source": [
    "consumption_df.dtypes"
   ]
  },
  {
   "cell_type": "markdown",
   "id": "d5325921",
   "metadata": {},
   "source": [
    "- E10 is sold for 1,38€ per liter. \n",
    "- SP98 is sold for 1,46€ per liter.\n",
    "- From my feeling i would say that my car consumes a lot more with E10. "
   ]
  },
  {
   "cell_type": "markdown",
   "id": "5343a58e",
   "metadata": {},
   "source": [
    "### Correct the data types"
   ]
  },
  {
   "cell_type": "code",
   "execution_count": 5,
   "id": "4608c03d",
   "metadata": {},
   "outputs": [],
   "source": [
    "consumption_df[\"distance\"] = consumption_df[\"distance\"].str.replace(\",\", \".\", regex=False).astype('float64')\n",
    "consumption_df[\"consume\"] = consumption_df[\"consume\"].str.replace(\",\", \".\", regex=False).astype('float64')\n",
    "consumption_df[\"temp_inside\"] = consumption_df[\"temp_inside\"].str.replace(\",\", \".\", regex=False).astype('float64')\n",
    "consumption_df[\"refill liters\"] = consumption_df[\"refill liters\"].str.replace(\",\", \".\", regex=False).astype('float64')"
   ]
  },
  {
   "cell_type": "code",
   "execution_count": 6,
   "id": "ee41811e",
   "metadata": {},
   "outputs": [],
   "source": [
    "# when specials = snow, it has a 1 in the rain column, that could be improved.\n",
    "consumption_df[\"specials\"] = consumption_df[\"specials\"].str.lower()"
   ]
  },
  {
   "cell_type": "code",
   "execution_count": 7,
   "id": "9019bf79",
   "metadata": {},
   "outputs": [
    {
     "data": {
      "text/html": [
       "<div>\n",
       "<style scoped>\n",
       "    .dataframe tbody tr th:only-of-type {\n",
       "        vertical-align: middle;\n",
       "    }\n",
       "\n",
       "    .dataframe tbody tr th {\n",
       "        vertical-align: top;\n",
       "    }\n",
       "\n",
       "    .dataframe thead th {\n",
       "        text-align: right;\n",
       "    }\n",
       "</style>\n",
       "<table border=\"1\" class=\"dataframe\">\n",
       "  <thead>\n",
       "    <tr style=\"text-align: right;\">\n",
       "      <th></th>\n",
       "      <th>distance</th>\n",
       "      <th>consume</th>\n",
       "      <th>speed</th>\n",
       "      <th>temp_inside</th>\n",
       "      <th>temp_outside</th>\n",
       "      <th>AC</th>\n",
       "      <th>rain</th>\n",
       "      <th>sun</th>\n",
       "      <th>refill liters</th>\n",
       "    </tr>\n",
       "  </thead>\n",
       "  <tbody>\n",
       "    <tr>\n",
       "      <th>count</th>\n",
       "      <td>388.000000</td>\n",
       "      <td>388.000000</td>\n",
       "      <td>388.000000</td>\n",
       "      <td>376.000000</td>\n",
       "      <td>388.000000</td>\n",
       "      <td>388.000000</td>\n",
       "      <td>388.000000</td>\n",
       "      <td>388.000000</td>\n",
       "      <td>13.000000</td>\n",
       "    </tr>\n",
       "    <tr>\n",
       "      <th>mean</th>\n",
       "      <td>19.652835</td>\n",
       "      <td>4.912371</td>\n",
       "      <td>41.927835</td>\n",
       "      <td>21.929521</td>\n",
       "      <td>11.358247</td>\n",
       "      <td>0.077320</td>\n",
       "      <td>0.123711</td>\n",
       "      <td>0.082474</td>\n",
       "      <td>37.115385</td>\n",
       "    </tr>\n",
       "    <tr>\n",
       "      <th>std</th>\n",
       "      <td>22.667837</td>\n",
       "      <td>1.033172</td>\n",
       "      <td>13.598524</td>\n",
       "      <td>1.010455</td>\n",
       "      <td>6.991542</td>\n",
       "      <td>0.267443</td>\n",
       "      <td>0.329677</td>\n",
       "      <td>0.275441</td>\n",
       "      <td>8.587282</td>\n",
       "    </tr>\n",
       "    <tr>\n",
       "      <th>min</th>\n",
       "      <td>1.300000</td>\n",
       "      <td>3.300000</td>\n",
       "      <td>14.000000</td>\n",
       "      <td>19.000000</td>\n",
       "      <td>-5.000000</td>\n",
       "      <td>0.000000</td>\n",
       "      <td>0.000000</td>\n",
       "      <td>0.000000</td>\n",
       "      <td>10.000000</td>\n",
       "    </tr>\n",
       "    <tr>\n",
       "      <th>25%</th>\n",
       "      <td>11.800000</td>\n",
       "      <td>4.300000</td>\n",
       "      <td>32.750000</td>\n",
       "      <td>21.500000</td>\n",
       "      <td>7.000000</td>\n",
       "      <td>0.000000</td>\n",
       "      <td>0.000000</td>\n",
       "      <td>0.000000</td>\n",
       "      <td>37.600000</td>\n",
       "    </tr>\n",
       "    <tr>\n",
       "      <th>50%</th>\n",
       "      <td>14.600000</td>\n",
       "      <td>4.700000</td>\n",
       "      <td>40.500000</td>\n",
       "      <td>22.000000</td>\n",
       "      <td>10.000000</td>\n",
       "      <td>0.000000</td>\n",
       "      <td>0.000000</td>\n",
       "      <td>0.000000</td>\n",
       "      <td>38.000000</td>\n",
       "    </tr>\n",
       "    <tr>\n",
       "      <th>75%</th>\n",
       "      <td>19.000000</td>\n",
       "      <td>5.300000</td>\n",
       "      <td>50.000000</td>\n",
       "      <td>22.500000</td>\n",
       "      <td>16.000000</td>\n",
       "      <td>0.000000</td>\n",
       "      <td>0.000000</td>\n",
       "      <td>0.000000</td>\n",
       "      <td>39.000000</td>\n",
       "    </tr>\n",
       "    <tr>\n",
       "      <th>max</th>\n",
       "      <td>216.100000</td>\n",
       "      <td>12.200000</td>\n",
       "      <td>90.000000</td>\n",
       "      <td>25.500000</td>\n",
       "      <td>31.000000</td>\n",
       "      <td>1.000000</td>\n",
       "      <td>1.000000</td>\n",
       "      <td>1.000000</td>\n",
       "      <td>45.000000</td>\n",
       "    </tr>\n",
       "  </tbody>\n",
       "</table>\n",
       "</div>"
      ],
      "text/plain": [
       "         distance     consume       speed  temp_inside  temp_outside  \\\n",
       "count  388.000000  388.000000  388.000000   376.000000    388.000000   \n",
       "mean    19.652835    4.912371   41.927835    21.929521     11.358247   \n",
       "std     22.667837    1.033172   13.598524     1.010455      6.991542   \n",
       "min      1.300000    3.300000   14.000000    19.000000     -5.000000   \n",
       "25%     11.800000    4.300000   32.750000    21.500000      7.000000   \n",
       "50%     14.600000    4.700000   40.500000    22.000000     10.000000   \n",
       "75%     19.000000    5.300000   50.000000    22.500000     16.000000   \n",
       "max    216.100000   12.200000   90.000000    25.500000     31.000000   \n",
       "\n",
       "               AC        rain         sun  refill liters  \n",
       "count  388.000000  388.000000  388.000000      13.000000  \n",
       "mean     0.077320    0.123711    0.082474      37.115385  \n",
       "std      0.267443    0.329677    0.275441       8.587282  \n",
       "min      0.000000    0.000000    0.000000      10.000000  \n",
       "25%      0.000000    0.000000    0.000000      37.600000  \n",
       "50%      0.000000    0.000000    0.000000      38.000000  \n",
       "75%      0.000000    0.000000    0.000000      39.000000  \n",
       "max      1.000000    1.000000    1.000000      45.000000  "
      ]
     },
     "execution_count": 7,
     "metadata": {},
     "output_type": "execute_result"
    }
   ],
   "source": [
    "consumption_df.describe()"
   ]
  },
  {
   "cell_type": "markdown",
   "id": "5ff9ec9d",
   "metadata": {},
   "source": [
    "#### Consume is in L/100km so it will be changed to L"
   ]
  },
  {
   "cell_type": "code",
   "execution_count": 8,
   "id": "b6d87b9a",
   "metadata": {},
   "outputs": [],
   "source": [
    "consumption_df[\"consumed_liters\"] = consumption_df[\"consume\"]*consumption_df[\"distance\"]/100"
   ]
  },
  {
   "cell_type": "markdown",
   "id": "b2bf6efd",
   "metadata": {},
   "source": [
    "### Separe the two fuels"
   ]
  },
  {
   "cell_type": "code",
   "execution_count": 9,
   "id": "dd5dafca",
   "metadata": {},
   "outputs": [],
   "source": [
    "E10_consumption = consumption_df[consumption_df[\"gas_type\"] == \"E10\"]\n",
    "SP98_consumption = consumption_df[consumption_df[\"gas_type\"] == \"SP98\"]"
   ]
  },
  {
   "cell_type": "code",
   "execution_count": 10,
   "id": "059d19b1",
   "metadata": {},
   "outputs": [
    {
     "name": "stderr",
     "output_type": "stream",
     "text": [
      "C:\\Users\\Marc\\AppData\\Local\\Temp\\ipykernel_29520\\1342105111.py:1: SettingWithCopyWarning: \n",
      "A value is trying to be set on a copy of a slice from a DataFrame\n",
      "\n",
      "See the caveats in the documentation: https://pandas.pydata.org/pandas-docs/stable/user_guide/indexing.html#returning-a-view-versus-a-copy\n",
      "  E10_consumption.drop(columns=[\"gas_type\"], inplace=True)\n",
      "C:\\Users\\Marc\\AppData\\Local\\Temp\\ipykernel_29520\\1342105111.py:2: SettingWithCopyWarning: \n",
      "A value is trying to be set on a copy of a slice from a DataFrame\n",
      "\n",
      "See the caveats in the documentation: https://pandas.pydata.org/pandas-docs/stable/user_guide/indexing.html#returning-a-view-versus-a-copy\n",
      "  SP98_consumption.drop(columns=[\"gas_type\"], inplace=True);\n"
     ]
    }
   ],
   "source": [
    "E10_consumption.drop(columns=[\"gas_type\"], inplace=True)\n",
    "SP98_consumption.drop(columns=[\"gas_type\"], inplace=True);"
   ]
  },
  {
   "cell_type": "markdown",
   "id": "da6a8cba",
   "metadata": {},
   "source": [
    "### E10"
   ]
  },
  {
   "cell_type": "code",
   "execution_count": 11,
   "id": "e039db8d",
   "metadata": {},
   "outputs": [
    {
     "data": {
      "text/plain": [
       "3375.4"
      ]
     },
     "execution_count": 11,
     "metadata": {},
     "output_type": "execute_result"
    }
   ],
   "source": [
    "E10_total_distance = E10_consumption[\"distance\"].sum()\n",
    "E10_total_distance"
   ]
  },
  {
   "cell_type": "code",
   "execution_count": 12,
   "id": "da946c94",
   "metadata": {},
   "outputs": [
    {
     "data": {
      "text/plain": [
       "161.4292"
      ]
     },
     "execution_count": 12,
     "metadata": {},
     "output_type": "execute_result"
    }
   ],
   "source": [
    "E10_total_consumption = E10_consumption[\"consumed_liters\"].sum()\n",
    "E10_total_consumption"
   ]
  },
  {
   "cell_type": "code",
   "execution_count": 13,
   "id": "7b2d6a59",
   "metadata": {},
   "outputs": [
    {
     "data": {
      "text/plain": [
       "222.77229599999998"
      ]
     },
     "execution_count": 13,
     "metadata": {},
     "output_type": "execute_result"
    }
   ],
   "source": [
    "E10_total_price = E10_total_consumption * 1.38\n",
    "E10_total_price"
   ]
  },
  {
   "cell_type": "code",
   "execution_count": 14,
   "id": "f8730218",
   "metadata": {},
   "outputs": [
    {
     "data": {
      "text/plain": [
       "20.909476104694814"
      ]
     },
     "execution_count": 14,
     "metadata": {},
     "output_type": "execute_result"
    }
   ],
   "source": [
    "# km per liter\n",
    "E10_total_distance/E10_total_consumption"
   ]
  },
  {
   "cell_type": "code",
   "execution_count": 15,
   "id": "c7512502",
   "metadata": {},
   "outputs": [
    {
     "data": {
      "text/plain": [
       "15.15179427876436"
      ]
     },
     "execution_count": 15,
     "metadata": {},
     "output_type": "execute_result"
    }
   ],
   "source": [
    "# km per €\n",
    "E10_total_distance/E10_total_price"
   ]
  },
  {
   "cell_type": "markdown",
   "id": "03d83006",
   "metadata": {},
   "source": [
    "### SP98"
   ]
  },
  {
   "cell_type": "code",
   "execution_count": 16,
   "id": "b1a42412",
   "metadata": {},
   "outputs": [
    {
     "data": {
      "text/plain": [
       "4249.9"
      ]
     },
     "execution_count": 16,
     "metadata": {},
     "output_type": "execute_result"
    }
   ],
   "source": [
    "SP98_total_distance = SP98_consumption[\"distance\"].sum()\n",
    "SP98_total_distance"
   ]
  },
  {
   "cell_type": "code",
   "execution_count": 17,
   "id": "133766cf",
   "metadata": {},
   "outputs": [
    {
     "data": {
      "text/plain": [
       "201.465"
      ]
     },
     "execution_count": 17,
     "metadata": {},
     "output_type": "execute_result"
    }
   ],
   "source": [
    "SP98_total_consumption = SP98_consumption[\"consumed_liters\"].sum()\n",
    "SP98_total_consumption"
   ]
  },
  {
   "cell_type": "code",
   "execution_count": 18,
   "id": "d0bd0610",
   "metadata": {},
   "outputs": [
    {
     "data": {
      "text/plain": [
       "294.1389"
      ]
     },
     "execution_count": 18,
     "metadata": {},
     "output_type": "execute_result"
    }
   ],
   "source": [
    "SP98_total_price = SP98_total_consumption * 1.46\n",
    "SP98_total_price"
   ]
  },
  {
   "cell_type": "code",
   "execution_count": 19,
   "id": "8fe69e5e",
   "metadata": {
    "scrolled": true
   },
   "outputs": [
    {
     "data": {
      "text/plain": [
       "21.094979276797456"
      ]
     },
     "execution_count": 19,
     "metadata": {},
     "output_type": "execute_result"
    }
   ],
   "source": [
    "# km per liter\n",
    "SP98_total_distance/SP98_total_consumption"
   ]
  },
  {
   "cell_type": "code",
   "execution_count": 20,
   "id": "0b2b5857",
   "metadata": {},
   "outputs": [
    {
     "data": {
      "text/plain": [
       "14.448615943011959"
      ]
     },
     "execution_count": 20,
     "metadata": {},
     "output_type": "execute_result"
    }
   ],
   "source": [
    "# km per €\n",
    "SP98_total_distance/SP98_total_price"
   ]
  },
  {
   "cell_type": "markdown",
   "id": "52d86da1",
   "metadata": {},
   "source": [
    "### Conclusions"
   ]
  },
  {
   "cell_type": "code",
   "execution_count": 31,
   "id": "161f3b24",
   "metadata": {},
   "outputs": [
    {
     "data": {
      "text/plain": [
       "4.866752210217706"
      ]
     },
     "execution_count": 31,
     "metadata": {},
     "output_type": "execute_result"
    }
   ],
   "source": [
    "((E10_total_distance/E10_total_price) / (SP98_total_distance/SP98_total_price) - 1) * 100"
   ]
  },
  {
   "cell_type": "markdown",
   "id": "2623ea2f",
   "metadata": {},
   "source": [
    "    \"I started writing down the data in November, changed to SP98 in winter, and back to E10 in spring. Apart from that, the data is rather clean as i was doing my own project on it already.\""
   ]
  },
  {
   "cell_type": "markdown",
   "id": "39c4eede",
   "metadata": {},
   "source": [
    "With the data we have available we can draw the conclusion that E10 fuel lets you travel more distance for each € spent.\n",
    "However the increase of km / € spent for E10 over SP98 is only of the 4,87%.\n",
    "\n",
    "These conclusions have been drawn without taking into account the differences in the environmental conditions under which the different fuels have been used.\n",
    "\n",
    "For example SP98 fuel was used in winter (lower environmentaltemperature), had more rain, was used in shorter trips with lower mean speed.\n",
    "All of those factors contribute to a lower performance ratio so this dataset is biased against SP98 fuel."
   ]
  },
  {
   "cell_type": "code",
   "execution_count": 22,
   "id": "c10d72f4",
   "metadata": {},
   "outputs": [
    {
     "data": {
      "text/html": [
       "<div>\n",
       "<style scoped>\n",
       "    .dataframe tbody tr th:only-of-type {\n",
       "        vertical-align: middle;\n",
       "    }\n",
       "\n",
       "    .dataframe tbody tr th {\n",
       "        vertical-align: top;\n",
       "    }\n",
       "\n",
       "    .dataframe thead th {\n",
       "        text-align: right;\n",
       "    }\n",
       "</style>\n",
       "<table border=\"1\" class=\"dataframe\">\n",
       "  <thead>\n",
       "    <tr style=\"text-align: right;\">\n",
       "      <th></th>\n",
       "      <th>distance</th>\n",
       "      <th>consume</th>\n",
       "      <th>speed</th>\n",
       "      <th>temp_inside</th>\n",
       "      <th>temp_outside</th>\n",
       "      <th>AC</th>\n",
       "      <th>rain</th>\n",
       "      <th>sun</th>\n",
       "      <th>refill liters</th>\n",
       "      <th>consumed_liters</th>\n",
       "    </tr>\n",
       "  </thead>\n",
       "  <tbody>\n",
       "    <tr>\n",
       "      <th>count</th>\n",
       "      <td>160.000000</td>\n",
       "      <td>160.000000</td>\n",
       "      <td>160.000000</td>\n",
       "      <td>157.000000</td>\n",
       "      <td>160.000000</td>\n",
       "      <td>160.000000</td>\n",
       "      <td>160.000000</td>\n",
       "      <td>160.000000</td>\n",
       "      <td>5.000000</td>\n",
       "      <td>160.000000</td>\n",
       "    </tr>\n",
       "    <tr>\n",
       "      <th>mean</th>\n",
       "      <td>21.096250</td>\n",
       "      <td>4.931250</td>\n",
       "      <td>43.506250</td>\n",
       "      <td>21.917197</td>\n",
       "      <td>10.118750</td>\n",
       "      <td>0.043750</td>\n",
       "      <td>0.100000</td>\n",
       "      <td>0.075000</td>\n",
       "      <td>39.600000</td>\n",
       "      <td>1.008933</td>\n",
       "    </tr>\n",
       "    <tr>\n",
       "      <th>std</th>\n",
       "      <td>20.307234</td>\n",
       "      <td>0.900956</td>\n",
       "      <td>14.077949</td>\n",
       "      <td>0.659854</td>\n",
       "      <td>6.392185</td>\n",
       "      <td>0.205181</td>\n",
       "      <td>0.300942</td>\n",
       "      <td>0.264218</td>\n",
       "      <td>3.056959</td>\n",
       "      <td>0.956864</td>\n",
       "    </tr>\n",
       "    <tr>\n",
       "      <th>min</th>\n",
       "      <td>1.700000</td>\n",
       "      <td>3.700000</td>\n",
       "      <td>14.000000</td>\n",
       "      <td>21.000000</td>\n",
       "      <td>-5.000000</td>\n",
       "      <td>0.000000</td>\n",
       "      <td>0.000000</td>\n",
       "      <td>0.000000</td>\n",
       "      <td>37.700000</td>\n",
       "      <td>0.120000</td>\n",
       "    </tr>\n",
       "    <tr>\n",
       "      <th>25%</th>\n",
       "      <td>12.075000</td>\n",
       "      <td>4.400000</td>\n",
       "      <td>35.000000</td>\n",
       "      <td>21.500000</td>\n",
       "      <td>6.000000</td>\n",
       "      <td>0.000000</td>\n",
       "      <td>0.000000</td>\n",
       "      <td>0.000000</td>\n",
       "      <td>38.000000</td>\n",
       "      <td>0.576250</td>\n",
       "    </tr>\n",
       "    <tr>\n",
       "      <th>50%</th>\n",
       "      <td>15.400000</td>\n",
       "      <td>4.800000</td>\n",
       "      <td>42.000000</td>\n",
       "      <td>21.500000</td>\n",
       "      <td>9.000000</td>\n",
       "      <td>0.000000</td>\n",
       "      <td>0.000000</td>\n",
       "      <td>0.000000</td>\n",
       "      <td>38.300000</td>\n",
       "      <td>0.693700</td>\n",
       "    </tr>\n",
       "    <tr>\n",
       "      <th>75%</th>\n",
       "      <td>21.200000</td>\n",
       "      <td>5.300000</td>\n",
       "      <td>51.000000</td>\n",
       "      <td>22.500000</td>\n",
       "      <td>14.250000</td>\n",
       "      <td>0.000000</td>\n",
       "      <td>0.000000</td>\n",
       "      <td>0.000000</td>\n",
       "      <td>39.000000</td>\n",
       "      <td>1.042200</td>\n",
       "    </tr>\n",
       "    <tr>\n",
       "      <th>max</th>\n",
       "      <td>130.300000</td>\n",
       "      <td>10.800000</td>\n",
       "      <td>88.000000</td>\n",
       "      <td>25.000000</td>\n",
       "      <td>27.000000</td>\n",
       "      <td>1.000000</td>\n",
       "      <td>1.000000</td>\n",
       "      <td>1.000000</td>\n",
       "      <td>45.000000</td>\n",
       "      <td>5.993800</td>\n",
       "    </tr>\n",
       "  </tbody>\n",
       "</table>\n",
       "</div>"
      ],
      "text/plain": [
       "         distance     consume       speed  temp_inside  temp_outside  \\\n",
       "count  160.000000  160.000000  160.000000   157.000000    160.000000   \n",
       "mean    21.096250    4.931250   43.506250    21.917197     10.118750   \n",
       "std     20.307234    0.900956   14.077949     0.659854      6.392185   \n",
       "min      1.700000    3.700000   14.000000    21.000000     -5.000000   \n",
       "25%     12.075000    4.400000   35.000000    21.500000      6.000000   \n",
       "50%     15.400000    4.800000   42.000000    21.500000      9.000000   \n",
       "75%     21.200000    5.300000   51.000000    22.500000     14.250000   \n",
       "max    130.300000   10.800000   88.000000    25.000000     27.000000   \n",
       "\n",
       "               AC        rain         sun  refill liters  consumed_liters  \n",
       "count  160.000000  160.000000  160.000000       5.000000       160.000000  \n",
       "mean     0.043750    0.100000    0.075000      39.600000         1.008933  \n",
       "std      0.205181    0.300942    0.264218       3.056959         0.956864  \n",
       "min      0.000000    0.000000    0.000000      37.700000         0.120000  \n",
       "25%      0.000000    0.000000    0.000000      38.000000         0.576250  \n",
       "50%      0.000000    0.000000    0.000000      38.300000         0.693700  \n",
       "75%      0.000000    0.000000    0.000000      39.000000         1.042200  \n",
       "max      1.000000    1.000000    1.000000      45.000000         5.993800  "
      ]
     },
     "execution_count": 22,
     "metadata": {},
     "output_type": "execute_result"
    }
   ],
   "source": [
    "E10_consumption.describe()"
   ]
  },
  {
   "cell_type": "code",
   "execution_count": 23,
   "id": "454761f6",
   "metadata": {},
   "outputs": [
    {
     "data": {
      "text/html": [
       "<div>\n",
       "<style scoped>\n",
       "    .dataframe tbody tr th:only-of-type {\n",
       "        vertical-align: middle;\n",
       "    }\n",
       "\n",
       "    .dataframe tbody tr th {\n",
       "        vertical-align: top;\n",
       "    }\n",
       "\n",
       "    .dataframe thead th {\n",
       "        text-align: right;\n",
       "    }\n",
       "</style>\n",
       "<table border=\"1\" class=\"dataframe\">\n",
       "  <thead>\n",
       "    <tr style=\"text-align: right;\">\n",
       "      <th></th>\n",
       "      <th>distance</th>\n",
       "      <th>consume</th>\n",
       "      <th>speed</th>\n",
       "      <th>temp_inside</th>\n",
       "      <th>temp_outside</th>\n",
       "      <th>AC</th>\n",
       "      <th>rain</th>\n",
       "      <th>sun</th>\n",
       "      <th>refill liters</th>\n",
       "      <th>consumed_liters</th>\n",
       "    </tr>\n",
       "  </thead>\n",
       "  <tbody>\n",
       "    <tr>\n",
       "      <th>count</th>\n",
       "      <td>228.000000</td>\n",
       "      <td>228.000000</td>\n",
       "      <td>228.000000</td>\n",
       "      <td>219.000000</td>\n",
       "      <td>228.000000</td>\n",
       "      <td>228.000000</td>\n",
       "      <td>228.000000</td>\n",
       "      <td>228.000000</td>\n",
       "      <td>8.000000</td>\n",
       "      <td>228.000000</td>\n",
       "    </tr>\n",
       "    <tr>\n",
       "      <th>mean</th>\n",
       "      <td>18.639912</td>\n",
       "      <td>4.899123</td>\n",
       "      <td>40.820175</td>\n",
       "      <td>21.938356</td>\n",
       "      <td>12.228070</td>\n",
       "      <td>0.100877</td>\n",
       "      <td>0.140351</td>\n",
       "      <td>0.087719</td>\n",
       "      <td>35.562500</td>\n",
       "      <td>0.883618</td>\n",
       "    </tr>\n",
       "    <tr>\n",
       "      <th>std</th>\n",
       "      <td>24.179598</td>\n",
       "      <td>1.118408</td>\n",
       "      <td>13.170122</td>\n",
       "      <td>1.201906</td>\n",
       "      <td>7.271373</td>\n",
       "      <td>0.301829</td>\n",
       "      <td>0.348115</td>\n",
       "      <td>0.283509</td>\n",
       "      <td>10.672787</td>\n",
       "      <td>1.214646</td>\n",
       "    </tr>\n",
       "    <tr>\n",
       "      <th>min</th>\n",
       "      <td>1.300000</td>\n",
       "      <td>3.300000</td>\n",
       "      <td>16.000000</td>\n",
       "      <td>19.000000</td>\n",
       "      <td>-3.000000</td>\n",
       "      <td>0.000000</td>\n",
       "      <td>0.000000</td>\n",
       "      <td>0.000000</td>\n",
       "      <td>10.000000</td>\n",
       "      <td>0.124000</td>\n",
       "    </tr>\n",
       "    <tr>\n",
       "      <th>25%</th>\n",
       "      <td>11.800000</td>\n",
       "      <td>4.200000</td>\n",
       "      <td>32.000000</td>\n",
       "      <td>21.500000</td>\n",
       "      <td>7.000000</td>\n",
       "      <td>0.000000</td>\n",
       "      <td>0.000000</td>\n",
       "      <td>0.000000</td>\n",
       "      <td>37.150000</td>\n",
       "      <td>0.531000</td>\n",
       "    </tr>\n",
       "    <tr>\n",
       "      <th>50%</th>\n",
       "      <td>14.150000</td>\n",
       "      <td>4.700000</td>\n",
       "      <td>39.500000</td>\n",
       "      <td>22.000000</td>\n",
       "      <td>11.000000</td>\n",
       "      <td>0.000000</td>\n",
       "      <td>0.000000</td>\n",
       "      <td>0.000000</td>\n",
       "      <td>37.650000</td>\n",
       "      <td>0.663200</td>\n",
       "    </tr>\n",
       "    <tr>\n",
       "      <th>75%</th>\n",
       "      <td>18.150000</td>\n",
       "      <td>5.225000</td>\n",
       "      <td>48.000000</td>\n",
       "      <td>22.000000</td>\n",
       "      <td>17.000000</td>\n",
       "      <td>0.000000</td>\n",
       "      <td>0.000000</td>\n",
       "      <td>0.000000</td>\n",
       "      <td>39.500000</td>\n",
       "      <td>0.837900</td>\n",
       "    </tr>\n",
       "    <tr>\n",
       "      <th>max</th>\n",
       "      <td>216.100000</td>\n",
       "      <td>12.200000</td>\n",
       "      <td>90.000000</td>\n",
       "      <td>25.500000</td>\n",
       "      <td>31.000000</td>\n",
       "      <td>1.000000</td>\n",
       "      <td>1.000000</td>\n",
       "      <td>1.000000</td>\n",
       "      <td>45.000000</td>\n",
       "      <td>11.453300</td>\n",
       "    </tr>\n",
       "  </tbody>\n",
       "</table>\n",
       "</div>"
      ],
      "text/plain": [
       "         distance     consume       speed  temp_inside  temp_outside  \\\n",
       "count  228.000000  228.000000  228.000000   219.000000    228.000000   \n",
       "mean    18.639912    4.899123   40.820175    21.938356     12.228070   \n",
       "std     24.179598    1.118408   13.170122     1.201906      7.271373   \n",
       "min      1.300000    3.300000   16.000000    19.000000     -3.000000   \n",
       "25%     11.800000    4.200000   32.000000    21.500000      7.000000   \n",
       "50%     14.150000    4.700000   39.500000    22.000000     11.000000   \n",
       "75%     18.150000    5.225000   48.000000    22.000000     17.000000   \n",
       "max    216.100000   12.200000   90.000000    25.500000     31.000000   \n",
       "\n",
       "               AC        rain         sun  refill liters  consumed_liters  \n",
       "count  228.000000  228.000000  228.000000       8.000000       228.000000  \n",
       "mean     0.100877    0.140351    0.087719      35.562500         0.883618  \n",
       "std      0.301829    0.348115    0.283509      10.672787         1.214646  \n",
       "min      0.000000    0.000000    0.000000      10.000000         0.124000  \n",
       "25%      0.000000    0.000000    0.000000      37.150000         0.531000  \n",
       "50%      0.000000    0.000000    0.000000      37.650000         0.663200  \n",
       "75%      0.000000    0.000000    0.000000      39.500000         0.837900  \n",
       "max      1.000000    1.000000    1.000000      45.000000        11.453300  "
      ]
     },
     "execution_count": 23,
     "metadata": {},
     "output_type": "execute_result"
    }
   ],
   "source": [
    "SP98_consumption.describe()"
   ]
  },
  {
   "cell_type": "code",
   "execution_count": 24,
   "id": "c1a1741e",
   "metadata": {},
   "outputs": [
    {
     "data": {
      "text/html": [
       "<div>\n",
       "<style scoped>\n",
       "    .dataframe tbody tr th:only-of-type {\n",
       "        vertical-align: middle;\n",
       "    }\n",
       "\n",
       "    .dataframe tbody tr th {\n",
       "        vertical-align: top;\n",
       "    }\n",
       "\n",
       "    .dataframe thead th {\n",
       "        text-align: right;\n",
       "    }\n",
       "</style>\n",
       "<table border=\"1\" class=\"dataframe\">\n",
       "  <thead>\n",
       "    <tr style=\"text-align: right;\">\n",
       "      <th></th>\n",
       "      <th>distance</th>\n",
       "      <th>consume</th>\n",
       "      <th>speed</th>\n",
       "      <th>temp_inside</th>\n",
       "      <th>temp_outside</th>\n",
       "      <th>AC</th>\n",
       "      <th>rain</th>\n",
       "      <th>sun</th>\n",
       "      <th>refill liters</th>\n",
       "      <th>consumed_liters</th>\n",
       "    </tr>\n",
       "  </thead>\n",
       "  <tbody>\n",
       "    <tr>\n",
       "      <th>distance</th>\n",
       "      <td>1.000000</td>\n",
       "      <td>-0.172572</td>\n",
       "      <td>0.633082</td>\n",
       "      <td>0.160421</td>\n",
       "      <td>0.158903</td>\n",
       "      <td>0.045776</td>\n",
       "      <td>-0.073315</td>\n",
       "      <td>0.027364</td>\n",
       "      <td>0.169619</td>\n",
       "      <td>0.992870</td>\n",
       "    </tr>\n",
       "    <tr>\n",
       "      <th>consume</th>\n",
       "      <td>-0.172572</td>\n",
       "      <td>1.000000</td>\n",
       "      <td>-0.233318</td>\n",
       "      <td>-0.070185</td>\n",
       "      <td>-0.322918</td>\n",
       "      <td>0.043591</td>\n",
       "      <td>0.248199</td>\n",
       "      <td>-0.160503</td>\n",
       "      <td>0.306373</td>\n",
       "      <td>-0.090743</td>\n",
       "    </tr>\n",
       "    <tr>\n",
       "      <th>speed</th>\n",
       "      <td>0.633082</td>\n",
       "      <td>-0.233318</td>\n",
       "      <td>1.000000</td>\n",
       "      <td>0.034912</td>\n",
       "      <td>0.091093</td>\n",
       "      <td>0.125102</td>\n",
       "      <td>-0.001633</td>\n",
       "      <td>0.128376</td>\n",
       "      <td>-0.458402</td>\n",
       "      <td>0.629556</td>\n",
       "    </tr>\n",
       "    <tr>\n",
       "      <th>temp_inside</th>\n",
       "      <td>0.160421</td>\n",
       "      <td>-0.070185</td>\n",
       "      <td>0.034912</td>\n",
       "      <td>1.000000</td>\n",
       "      <td>0.417116</td>\n",
       "      <td>0.308706</td>\n",
       "      <td>0.058411</td>\n",
       "      <td>0.338053</td>\n",
       "      <td>-0.283444</td>\n",
       "      <td>0.148253</td>\n",
       "    </tr>\n",
       "    <tr>\n",
       "      <th>temp_outside</th>\n",
       "      <td>0.158903</td>\n",
       "      <td>-0.322918</td>\n",
       "      <td>0.091093</td>\n",
       "      <td>0.417116</td>\n",
       "      <td>1.000000</td>\n",
       "      <td>0.048762</td>\n",
       "      <td>-0.097756</td>\n",
       "      <td>0.236743</td>\n",
       "      <td>0.101134</td>\n",
       "      <td>0.106319</td>\n",
       "    </tr>\n",
       "    <tr>\n",
       "      <th>AC</th>\n",
       "      <td>0.045776</td>\n",
       "      <td>0.043591</td>\n",
       "      <td>0.125102</td>\n",
       "      <td>0.308706</td>\n",
       "      <td>0.048762</td>\n",
       "      <td>1.000000</td>\n",
       "      <td>0.336123</td>\n",
       "      <td>0.171118</td>\n",
       "      <td>NaN</td>\n",
       "      <td>0.056287</td>\n",
       "    </tr>\n",
       "    <tr>\n",
       "      <th>rain</th>\n",
       "      <td>-0.073315</td>\n",
       "      <td>0.248199</td>\n",
       "      <td>-0.001633</td>\n",
       "      <td>0.058411</td>\n",
       "      <td>-0.097756</td>\n",
       "      <td>0.336123</td>\n",
       "      <td>1.000000</td>\n",
       "      <td>-0.094916</td>\n",
       "      <td>-0.292587</td>\n",
       "      <td>-0.046812</td>\n",
       "    </tr>\n",
       "    <tr>\n",
       "      <th>sun</th>\n",
       "      <td>0.027364</td>\n",
       "      <td>-0.160503</td>\n",
       "      <td>0.128376</td>\n",
       "      <td>0.338053</td>\n",
       "      <td>0.236743</td>\n",
       "      <td>0.171118</td>\n",
       "      <td>-0.094916</td>\n",
       "      <td>1.000000</td>\n",
       "      <td>NaN</td>\n",
       "      <td>0.009011</td>\n",
       "    </tr>\n",
       "    <tr>\n",
       "      <th>refill liters</th>\n",
       "      <td>0.169619</td>\n",
       "      <td>0.306373</td>\n",
       "      <td>-0.458402</td>\n",
       "      <td>-0.283444</td>\n",
       "      <td>0.101134</td>\n",
       "      <td>NaN</td>\n",
       "      <td>-0.292587</td>\n",
       "      <td>NaN</td>\n",
       "      <td>1.000000</td>\n",
       "      <td>0.231409</td>\n",
       "    </tr>\n",
       "    <tr>\n",
       "      <th>consumed_liters</th>\n",
       "      <td>0.992870</td>\n",
       "      <td>-0.090743</td>\n",
       "      <td>0.629556</td>\n",
       "      <td>0.148253</td>\n",
       "      <td>0.106319</td>\n",
       "      <td>0.056287</td>\n",
       "      <td>-0.046812</td>\n",
       "      <td>0.009011</td>\n",
       "      <td>0.231409</td>\n",
       "      <td>1.000000</td>\n",
       "    </tr>\n",
       "  </tbody>\n",
       "</table>\n",
       "</div>"
      ],
      "text/plain": [
       "                 distance   consume     speed  temp_inside  temp_outside  \\\n",
       "distance         1.000000 -0.172572  0.633082     0.160421      0.158903   \n",
       "consume         -0.172572  1.000000 -0.233318    -0.070185     -0.322918   \n",
       "speed            0.633082 -0.233318  1.000000     0.034912      0.091093   \n",
       "temp_inside      0.160421 -0.070185  0.034912     1.000000      0.417116   \n",
       "temp_outside     0.158903 -0.322918  0.091093     0.417116      1.000000   \n",
       "AC               0.045776  0.043591  0.125102     0.308706      0.048762   \n",
       "rain            -0.073315  0.248199 -0.001633     0.058411     -0.097756   \n",
       "sun              0.027364 -0.160503  0.128376     0.338053      0.236743   \n",
       "refill liters    0.169619  0.306373 -0.458402    -0.283444      0.101134   \n",
       "consumed_liters  0.992870 -0.090743  0.629556     0.148253      0.106319   \n",
       "\n",
       "                       AC      rain       sun  refill liters  consumed_liters  \n",
       "distance         0.045776 -0.073315  0.027364       0.169619         0.992870  \n",
       "consume          0.043591  0.248199 -0.160503       0.306373        -0.090743  \n",
       "speed            0.125102 -0.001633  0.128376      -0.458402         0.629556  \n",
       "temp_inside      0.308706  0.058411  0.338053      -0.283444         0.148253  \n",
       "temp_outside     0.048762 -0.097756  0.236743       0.101134         0.106319  \n",
       "AC               1.000000  0.336123  0.171118            NaN         0.056287  \n",
       "rain             0.336123  1.000000 -0.094916      -0.292587        -0.046812  \n",
       "sun              0.171118 -0.094916  1.000000            NaN         0.009011  \n",
       "refill liters         NaN -0.292587       NaN       1.000000         0.231409  \n",
       "consumed_liters  0.056287 -0.046812  0.009011       0.231409         1.000000  "
      ]
     },
     "execution_count": 24,
     "metadata": {},
     "output_type": "execute_result"
    }
   ],
   "source": [
    "E10_consumption.corr()"
   ]
  },
  {
   "cell_type": "code",
   "execution_count": 25,
   "id": "de98c4b1",
   "metadata": {},
   "outputs": [
    {
     "data": {
      "text/html": [
       "<div>\n",
       "<style scoped>\n",
       "    .dataframe tbody tr th:only-of-type {\n",
       "        vertical-align: middle;\n",
       "    }\n",
       "\n",
       "    .dataframe tbody tr th {\n",
       "        vertical-align: top;\n",
       "    }\n",
       "\n",
       "    .dataframe thead th {\n",
       "        text-align: right;\n",
       "    }\n",
       "</style>\n",
       "<table border=\"1\" class=\"dataframe\">\n",
       "  <thead>\n",
       "    <tr style=\"text-align: right;\">\n",
       "      <th></th>\n",
       "      <th>distance</th>\n",
       "      <th>consume</th>\n",
       "      <th>speed</th>\n",
       "      <th>temp_inside</th>\n",
       "      <th>temp_outside</th>\n",
       "      <th>AC</th>\n",
       "      <th>rain</th>\n",
       "      <th>sun</th>\n",
       "      <th>refill liters</th>\n",
       "      <th>consumed_liters</th>\n",
       "    </tr>\n",
       "  </thead>\n",
       "  <tbody>\n",
       "    <tr>\n",
       "      <th>distance</th>\n",
       "      <td>1.000000</td>\n",
       "      <td>-0.109841</td>\n",
       "      <td>0.521258</td>\n",
       "      <td>0.049881</td>\n",
       "      <td>0.065534</td>\n",
       "      <td>-0.046792</td>\n",
       "      <td>0.012206</td>\n",
       "      <td>0.112846</td>\n",
       "      <td>0.173191</td>\n",
       "      <td>0.992357</td>\n",
       "    </tr>\n",
       "    <tr>\n",
       "      <th>consume</th>\n",
       "      <td>-0.109841</td>\n",
       "      <td>1.000000</td>\n",
       "      <td>-0.232245</td>\n",
       "      <td>-0.192928</td>\n",
       "      <td>-0.322177</td>\n",
       "      <td>0.120324</td>\n",
       "      <td>0.250377</td>\n",
       "      <td>-0.176202</td>\n",
       "      <td>0.009261</td>\n",
       "      <td>-0.036406</td>\n",
       "    </tr>\n",
       "    <tr>\n",
       "      <th>speed</th>\n",
       "      <td>0.521258</td>\n",
       "      <td>-0.232245</td>\n",
       "      <td>1.000000</td>\n",
       "      <td>0.075987</td>\n",
       "      <td>-0.009368</td>\n",
       "      <td>-0.102913</td>\n",
       "      <td>0.026668</td>\n",
       "      <td>0.053796</td>\n",
       "      <td>0.301008</td>\n",
       "      <td>0.512456</td>\n",
       "    </tr>\n",
       "    <tr>\n",
       "      <th>temp_inside</th>\n",
       "      <td>0.049881</td>\n",
       "      <td>-0.192928</td>\n",
       "      <td>0.075987</td>\n",
       "      <td>1.000000</td>\n",
       "      <td>0.355781</td>\n",
       "      <td>0.297066</td>\n",
       "      <td>-0.071976</td>\n",
       "      <td>0.221183</td>\n",
       "      <td>0.065833</td>\n",
       "      <td>0.037905</td>\n",
       "    </tr>\n",
       "    <tr>\n",
       "      <th>temp_outside</th>\n",
       "      <td>0.065534</td>\n",
       "      <td>-0.322177</td>\n",
       "      <td>-0.009368</td>\n",
       "      <td>0.355781</td>\n",
       "      <td>1.000000</td>\n",
       "      <td>0.200230</td>\n",
       "      <td>-0.251129</td>\n",
       "      <td>0.411229</td>\n",
       "      <td>-0.162812</td>\n",
       "      <td>0.017869</td>\n",
       "    </tr>\n",
       "    <tr>\n",
       "      <th>AC</th>\n",
       "      <td>-0.046792</td>\n",
       "      <td>0.120324</td>\n",
       "      <td>-0.102913</td>\n",
       "      <td>0.297066</td>\n",
       "      <td>0.200230</td>\n",
       "      <td>1.000000</td>\n",
       "      <td>0.200071</td>\n",
       "      <td>0.050578</td>\n",
       "      <td>NaN</td>\n",
       "      <td>-0.038979</td>\n",
       "    </tr>\n",
       "    <tr>\n",
       "      <th>rain</th>\n",
       "      <td>0.012206</td>\n",
       "      <td>0.250377</td>\n",
       "      <td>0.026668</td>\n",
       "      <td>-0.071976</td>\n",
       "      <td>-0.251129</td>\n",
       "      <td>0.200071</td>\n",
       "      <td>1.000000</td>\n",
       "      <td>-0.125294</td>\n",
       "      <td>-0.581920</td>\n",
       "      <td>0.040818</td>\n",
       "    </tr>\n",
       "    <tr>\n",
       "      <th>sun</th>\n",
       "      <td>0.112846</td>\n",
       "      <td>-0.176202</td>\n",
       "      <td>0.053796</td>\n",
       "      <td>0.221183</td>\n",
       "      <td>0.411229</td>\n",
       "      <td>0.050578</td>\n",
       "      <td>-0.125294</td>\n",
       "      <td>1.000000</td>\n",
       "      <td>NaN</td>\n",
       "      <td>0.095053</td>\n",
       "    </tr>\n",
       "    <tr>\n",
       "      <th>refill liters</th>\n",
       "      <td>0.173191</td>\n",
       "      <td>0.009261</td>\n",
       "      <td>0.301008</td>\n",
       "      <td>0.065833</td>\n",
       "      <td>-0.162812</td>\n",
       "      <td>NaN</td>\n",
       "      <td>-0.581920</td>\n",
       "      <td>NaN</td>\n",
       "      <td>1.000000</td>\n",
       "      <td>0.198925</td>\n",
       "    </tr>\n",
       "    <tr>\n",
       "      <th>consumed_liters</th>\n",
       "      <td>0.992357</td>\n",
       "      <td>-0.036406</td>\n",
       "      <td>0.512456</td>\n",
       "      <td>0.037905</td>\n",
       "      <td>0.017869</td>\n",
       "      <td>-0.038979</td>\n",
       "      <td>0.040818</td>\n",
       "      <td>0.095053</td>\n",
       "      <td>0.198925</td>\n",
       "      <td>1.000000</td>\n",
       "    </tr>\n",
       "  </tbody>\n",
       "</table>\n",
       "</div>"
      ],
      "text/plain": [
       "                 distance   consume     speed  temp_inside  temp_outside  \\\n",
       "distance         1.000000 -0.109841  0.521258     0.049881      0.065534   \n",
       "consume         -0.109841  1.000000 -0.232245    -0.192928     -0.322177   \n",
       "speed            0.521258 -0.232245  1.000000     0.075987     -0.009368   \n",
       "temp_inside      0.049881 -0.192928  0.075987     1.000000      0.355781   \n",
       "temp_outside     0.065534 -0.322177 -0.009368     0.355781      1.000000   \n",
       "AC              -0.046792  0.120324 -0.102913     0.297066      0.200230   \n",
       "rain             0.012206  0.250377  0.026668    -0.071976     -0.251129   \n",
       "sun              0.112846 -0.176202  0.053796     0.221183      0.411229   \n",
       "refill liters    0.173191  0.009261  0.301008     0.065833     -0.162812   \n",
       "consumed_liters  0.992357 -0.036406  0.512456     0.037905      0.017869   \n",
       "\n",
       "                       AC      rain       sun  refill liters  consumed_liters  \n",
       "distance        -0.046792  0.012206  0.112846       0.173191         0.992357  \n",
       "consume          0.120324  0.250377 -0.176202       0.009261        -0.036406  \n",
       "speed           -0.102913  0.026668  0.053796       0.301008         0.512456  \n",
       "temp_inside      0.297066 -0.071976  0.221183       0.065833         0.037905  \n",
       "temp_outside     0.200230 -0.251129  0.411229      -0.162812         0.017869  \n",
       "AC               1.000000  0.200071  0.050578            NaN        -0.038979  \n",
       "rain             0.200071  1.000000 -0.125294      -0.581920         0.040818  \n",
       "sun              0.050578 -0.125294  1.000000            NaN         0.095053  \n",
       "refill liters         NaN -0.581920       NaN       1.000000         0.198925  \n",
       "consumed_liters -0.038979  0.040818  0.095053       0.198925         1.000000  "
      ]
     },
     "execution_count": 25,
     "metadata": {},
     "output_type": "execute_result"
    }
   ],
   "source": [
    "SP98_consumption.corr()"
   ]
  },
  {
   "cell_type": "code",
   "execution_count": 26,
   "id": "95caabd3",
   "metadata": {},
   "outputs": [
    {
     "data": {
      "text/plain": [
       "(0.0, 50.0)"
      ]
     },
     "execution_count": 26,
     "metadata": {},
     "output_type": "execute_result"
    },
    {
     "data": {
      "image/png": "[encoded data removed]",
      "text/plain": [
       "<Figure size 720x720 with 1 Axes>"
      ]
     },
     "metadata": {},
     "output_type": "display_data"
    }
   ],
   "source": [
    "sns.set(rc={\"figure.figsize\":(10,10)})\n",
    "fig = sns.scatterplot(data=consumption_df, x=\"consume\", y =\"distance\", hue=\"gas_type\")\n",
    "fig.set_ylim(0, 50)\n"
   ]
  },
  {
   "cell_type": "markdown",
   "id": "0f329b61",
   "metadata": {},
   "source": [
    "### Considering only sunny days"
   ]
  },
  {
   "cell_type": "code",
   "execution_count": 36,
   "id": "81344da3",
   "metadata": {},
   "outputs": [],
   "source": [
    "sunny_consumption = consumption_df[consumption_df[\"sun\"] == 1]"
   ]
  },
  {
   "cell_type": "code",
   "execution_count": 38,
   "id": "b743ef79",
   "metadata": {},
   "outputs": [
    {
     "data": {
      "text/plain": [
       "16.06832075645819"
      ]
     },
     "execution_count": 38,
     "metadata": {},
     "output_type": "execute_result"
    }
   ],
   "source": [
    "sunny_E10_total_distance = sunny_consumption[sunny_consumption[\"gas_type\"] == \"E10\"][\"distance\"].sum()\n",
    "sunny_E10_total_consumption = sunny_consumption[sunny_consumption[\"gas_type\"] == \"E10\"][\"consumed_liters\"].sum()\n",
    "sunny_E10_total_price = sunny_E10_total_consumption * 1.38\n",
    "# km per €\n",
    "sunny_E10_total_distance/sunny_E10_total_price"
   ]
  },
  {
   "cell_type": "code",
   "execution_count": 39,
   "id": "8b1c7615",
   "metadata": {},
   "outputs": [
    {
     "data": {
      "text/plain": [
       "14.963188754841692"
      ]
     },
     "execution_count": 39,
     "metadata": {},
     "output_type": "execute_result"
    }
   ],
   "source": [
    "sunny_SP98_total_distance = sunny_consumption[sunny_consumption[\"gas_type\"] == \"SP98\"][\"distance\"].sum()\n",
    "sunny_SP98_total_consumption = sunny_consumption[sunny_consumption[\"gas_type\"] == \"SP98\"][\"consumed_liters\"].sum()\n",
    "sunny_SP98_total_price = sunny_SP98_total_consumption * 1.46\n",
    "# km per €\n",
    "sunny_SP98_total_distance/sunny_SP98_total_price"
   ]
  },
  {
   "cell_type": "markdown",
   "id": "10d469ba",
   "metadata": {},
   "source": [
    "#### Conclusions for sunny days"
   ]
  },
  {
   "cell_type": "markdown",
   "id": "4c9d1396",
   "metadata": {},
   "source": [
    "On sunny days E10 fuel still is the better option since it has a better distance/€ spent ratio."
   ]
  },
  {
   "cell_type": "markdown",
   "id": "4ed8715c",
   "metadata": {},
   "source": [
    "### Considering only rainy days"
   ]
  },
  {
   "cell_type": "code",
   "execution_count": 42,
   "id": "c0878c51",
   "metadata": {},
   "outputs": [],
   "source": [
    "rain_consumption = consumption_df[consumption_df[\"rain\"] == 1]"
   ]
  },
  {
   "cell_type": "code",
   "execution_count": 47,
   "id": "c6a4438a",
   "metadata": {},
   "outputs": [
    {
     "data": {
      "text/plain": [
       "13.784037721988744"
      ]
     },
     "execution_count": 47,
     "metadata": {},
     "output_type": "execute_result"
    }
   ],
   "source": [
    "rain_E10_total_distance = rain_consumption[rain_consumption[\"gas_type\"] == \"E10\"][\"distance\"].sum()\n",
    "rain_E10_total_consumption = rain_consumption[rain_consumption[\"gas_type\"] == \"E10\"][\"consumed_liters\"].sum()\n",
    "rain_E10_total_price = rain_E10_total_consumption * 1.38\n",
    "# km per €\n",
    "E10_rain_distance_price_ratio = rain_E10_total_distance/rain_E10_total_price\n",
    "E10_rain_distance_price_ratio"
   ]
  },
  {
   "cell_type": "code",
   "execution_count": 48,
   "id": "a95f79d7",
   "metadata": {},
   "outputs": [
    {
     "data": {
      "text/plain": [
       "13.186447905807828"
      ]
     },
     "execution_count": 48,
     "metadata": {},
     "output_type": "execute_result"
    }
   ],
   "source": [
    "rain_SP98_total_distance = rain_consumption[rain_consumption[\"gas_type\"] == \"SP98\"][\"distance\"].sum()\n",
    "rain_SP98_total_consumption = rain_consumption[rain_consumption[\"gas_type\"] == \"SP98\"][\"consumed_liters\"].sum()\n",
    "rain_SP98_total_price = rain_SP98_total_consumption * 1.46\n",
    "# km per €\n",
    "SP98_rain_distance_price_ratio = rain_SP98_total_distance/rain_SP98_total_price\n",
    "SP98_rain_distance_price_ratio"
   ]
  },
  {
   "cell_type": "markdown",
   "id": "f8b72f48",
   "metadata": {},
   "source": [
    "#### Conclusions for rainy days"
   ]
  },
  {
   "cell_type": "markdown",
   "id": "83ef2d4b",
   "metadata": {},
   "source": [
    "On rainy days E10 fuel still is the better option since it has a better distance/€ spent ratio."
   ]
  }
 ],
 "metadata": {
  "kernelspec": {
   "display_name": "Python 3 (ipykernel)",
   "language": "python",
   "name": "python3"
  },
  "language_info": {
   "codemirror_mode": {
    "name": "ipython",
    "version": 3
   },
   "file_extension": ".py",
   "mimetype": "text/x-python",
   "name": "python",
   "nbconvert_exporter": "python",
   "pygments_lexer": "ipython3",
   "version": "3.9.12"
  }
 },
 "nbformat": 4,
 "nbformat_minor": 5
}
