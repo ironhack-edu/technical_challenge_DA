{
 "cells": [
  {
   "cell_type": "code",
   "execution_count": 1,
   "id": "d93d337f",
   "metadata": {},
   "outputs": [],
   "source": [
    "import pandas as pd"
   ]
  },
  {
   "cell_type": "code",
   "execution_count": 2,
   "id": "c00aa226",
   "metadata": {},
   "outputs": [],
   "source": [
    "import numpy as np"
   ]
  },
  {
   "cell_type": "code",
   "execution_count": 5,
   "id": "754a427b",
   "metadata": {},
   "outputs": [],
   "source": [
    "data = pd.read_csv ('../data/measurements.csv')"
   ]
  },
  {
   "cell_type": "code",
   "execution_count": 6,
   "id": "a1f8ef38",
   "metadata": {},
   "outputs": [
    {
     "data": {
      "text/plain": [
       "(388, 12)"
      ]
     },
     "execution_count": 6,
     "metadata": {},
     "output_type": "execute_result"
    }
   ],
   "source": [
    "data.shape"
   ]
  },
  {
   "cell_type": "code",
   "execution_count": 7,
   "id": "00a8d6f7",
   "metadata": {},
   "outputs": [
    {
     "data": {
      "text/html": [
       "<div>\n",
       "<style scoped>\n",
       "    .dataframe tbody tr th:only-of-type {\n",
       "        vertical-align: middle;\n",
       "    }\n",
       "\n",
       "    .dataframe tbody tr th {\n",
       "        vertical-align: top;\n",
       "    }\n",
       "\n",
       "    .dataframe thead th {\n",
       "        text-align: right;\n",
       "    }\n",
       "</style>\n",
       "<table border=\"1\" class=\"dataframe\">\n",
       "  <thead>\n",
       "    <tr style=\"text-align: right;\">\n",
       "      <th></th>\n",
       "      <th>distance</th>\n",
       "      <th>consume</th>\n",
       "      <th>speed</th>\n",
       "      <th>temp_inside</th>\n",
       "      <th>temp_outside</th>\n",
       "      <th>specials</th>\n",
       "      <th>gas_type</th>\n",
       "      <th>AC</th>\n",
       "      <th>rain</th>\n",
       "      <th>sun</th>\n",
       "      <th>refill liters</th>\n",
       "      <th>refill gas</th>\n",
       "    </tr>\n",
       "  </thead>\n",
       "  <tbody>\n",
       "    <tr>\n",
       "      <th>0</th>\n",
       "      <td>28</td>\n",
       "      <td>5</td>\n",
       "      <td>26</td>\n",
       "      <td>21,5</td>\n",
       "      <td>12</td>\n",
       "      <td>NaN</td>\n",
       "      <td>E10</td>\n",
       "      <td>0</td>\n",
       "      <td>0</td>\n",
       "      <td>0</td>\n",
       "      <td>45</td>\n",
       "      <td>E10</td>\n",
       "    </tr>\n",
       "    <tr>\n",
       "      <th>1</th>\n",
       "      <td>12</td>\n",
       "      <td>4,2</td>\n",
       "      <td>30</td>\n",
       "      <td>21,5</td>\n",
       "      <td>13</td>\n",
       "      <td>NaN</td>\n",
       "      <td>E10</td>\n",
       "      <td>0</td>\n",
       "      <td>0</td>\n",
       "      <td>0</td>\n",
       "      <td>NaN</td>\n",
       "      <td>NaN</td>\n",
       "    </tr>\n",
       "    <tr>\n",
       "      <th>2</th>\n",
       "      <td>11,2</td>\n",
       "      <td>5,5</td>\n",
       "      <td>38</td>\n",
       "      <td>21,5</td>\n",
       "      <td>15</td>\n",
       "      <td>NaN</td>\n",
       "      <td>E10</td>\n",
       "      <td>0</td>\n",
       "      <td>0</td>\n",
       "      <td>0</td>\n",
       "      <td>NaN</td>\n",
       "      <td>NaN</td>\n",
       "    </tr>\n",
       "    <tr>\n",
       "      <th>3</th>\n",
       "      <td>12,9</td>\n",
       "      <td>3,9</td>\n",
       "      <td>36</td>\n",
       "      <td>21,5</td>\n",
       "      <td>14</td>\n",
       "      <td>NaN</td>\n",
       "      <td>E10</td>\n",
       "      <td>0</td>\n",
       "      <td>0</td>\n",
       "      <td>0</td>\n",
       "      <td>NaN</td>\n",
       "      <td>NaN</td>\n",
       "    </tr>\n",
       "    <tr>\n",
       "      <th>4</th>\n",
       "      <td>18,5</td>\n",
       "      <td>4,5</td>\n",
       "      <td>46</td>\n",
       "      <td>21,5</td>\n",
       "      <td>15</td>\n",
       "      <td>NaN</td>\n",
       "      <td>E10</td>\n",
       "      <td>0</td>\n",
       "      <td>0</td>\n",
       "      <td>0</td>\n",
       "      <td>NaN</td>\n",
       "      <td>NaN</td>\n",
       "    </tr>\n",
       "  </tbody>\n",
       "</table>\n",
       "</div>"
      ],
      "text/plain": [
       "  distance consume  speed temp_inside  temp_outside specials gas_type  AC  \\\n",
       "0       28       5     26        21,5            12      NaN      E10   0   \n",
       "1       12     4,2     30        21,5            13      NaN      E10   0   \n",
       "2     11,2     5,5     38        21,5            15      NaN      E10   0   \n",
       "3     12,9     3,9     36        21,5            14      NaN      E10   0   \n",
       "4     18,5     4,5     46        21,5            15      NaN      E10   0   \n",
       "\n",
       "   rain  sun refill liters refill gas  \n",
       "0     0    0            45        E10  \n",
       "1     0    0           NaN        NaN  \n",
       "2     0    0           NaN        NaN  \n",
       "3     0    0           NaN        NaN  \n",
       "4     0    0           NaN        NaN  "
      ]
     },
     "execution_count": 7,
     "metadata": {},
     "output_type": "execute_result"
    }
   ],
   "source": [
    "data.head()"
   ]
  },
  {
   "cell_type": "code",
   "execution_count": 12,
   "id": "ccc1e483",
   "metadata": {},
   "outputs": [
    {
     "data": {
      "text/plain": [
       "distance          0.000000\n",
       "consume           0.000000\n",
       "speed             0.000000\n",
       "temp_inside       3.092784\n",
       "temp_outside      0.000000\n",
       "specials         76.030928\n",
       "gas_type          0.000000\n",
       "AC                0.000000\n",
       "rain              0.000000\n",
       "sun               0.000000\n",
       "refill liters    96.649485\n",
       "refill gas       96.649485\n",
       "dtype: float64"
      ]
     },
     "execution_count": 12,
     "metadata": {},
     "output_type": "execute_result"
    }
   ],
   "source": [
    "data.isnull().sum()/ len(data)*100"
   ]
  },
  {
   "cell_type": "code",
   "execution_count": 13,
   "id": "59b5749f",
   "metadata": {},
   "outputs": [
    {
     "data": {
      "text/plain": [
       "array([nan, 'AC rain', 'AC', 'rain', 'snow', 'AC snow',\n",
       "       'half rain half sun', 'sun', 'AC sun', 'sun ac', 'ac', 'AC Sun',\n",
       "       'ac rain'], dtype=object)"
      ]
     },
     "execution_count": 13,
     "metadata": {},
     "output_type": "execute_result"
    }
   ],
   "source": [
    "data['specials'].unique()"
   ]
  },
  {
   "cell_type": "code",
   "execution_count": 14,
   "id": "4d2ec461",
   "metadata": {},
   "outputs": [
    {
     "data": {
      "text/plain": [
       "array(['E10', 'SP98'], dtype=object)"
      ]
     },
     "execution_count": 14,
     "metadata": {},
     "output_type": "execute_result"
    }
   ],
   "source": [
    "data['gas_type'].unique()"
   ]
  },
  {
   "cell_type": "code",
   "execution_count": 15,
   "id": "bdc1a600",
   "metadata": {},
   "outputs": [
    {
     "data": {
      "text/plain": [
       "array([0, 1], dtype=int64)"
      ]
     },
     "execution_count": 15,
     "metadata": {},
     "output_type": "execute_result"
    }
   ],
   "source": [
    "data['AC'].unique()"
   ]
  },
  {
   "cell_type": "code",
   "execution_count": 16,
   "id": "1f9dffc3",
   "metadata": {},
   "outputs": [
    {
     "data": {
      "text/plain": [
       "array(['45', nan, '37,6', '37,7', '38', '38,3', '10', '39', '41', '37',\n",
       "       '37,2'], dtype=object)"
      ]
     },
     "execution_count": 16,
     "metadata": {},
     "output_type": "execute_result"
    }
   ],
   "source": [
    "data['refill liters'].unique()"
   ]
  },
  {
   "cell_type": "code",
   "execution_count": 17,
   "id": "1cc2a26e",
   "metadata": {},
   "outputs": [],
   "source": [
    "# i am going to delete the columns that have more than a 60% of total nulls because they tent to be irrelevant"
   ]
  },
  {
   "cell_type": "code",
   "execution_count": 18,
   "id": "e2a6c1da",
   "metadata": {},
   "outputs": [],
   "source": [
    "umbral = 0.6 * len(data)\n",
    "\n",
    "# Elimina las columnas con más del 60% de valores nulos\n",
    "data = data.dropna(axis=1, thresh=umbral)"
   ]
  },
  {
   "cell_type": "code",
   "execution_count": 20,
   "id": "78b2f1ea",
   "metadata": {},
   "outputs": [
    {
     "data": {
      "text/html": [
       "<div>\n",
       "<style scoped>\n",
       "    .dataframe tbody tr th:only-of-type {\n",
       "        vertical-align: middle;\n",
       "    }\n",
       "\n",
       "    .dataframe tbody tr th {\n",
       "        vertical-align: top;\n",
       "    }\n",
       "\n",
       "    .dataframe thead th {\n",
       "        text-align: right;\n",
       "    }\n",
       "</style>\n",
       "<table border=\"1\" class=\"dataframe\">\n",
       "  <thead>\n",
       "    <tr style=\"text-align: right;\">\n",
       "      <th></th>\n",
       "      <th>distance</th>\n",
       "      <th>consume</th>\n",
       "      <th>speed</th>\n",
       "      <th>temp_inside</th>\n",
       "      <th>temp_outside</th>\n",
       "      <th>gas_type</th>\n",
       "      <th>AC</th>\n",
       "      <th>rain</th>\n",
       "      <th>sun</th>\n",
       "    </tr>\n",
       "  </thead>\n",
       "  <tbody>\n",
       "    <tr>\n",
       "      <th>0</th>\n",
       "      <td>28</td>\n",
       "      <td>5</td>\n",
       "      <td>26</td>\n",
       "      <td>21,5</td>\n",
       "      <td>12</td>\n",
       "      <td>E10</td>\n",
       "      <td>0</td>\n",
       "      <td>0</td>\n",
       "      <td>0</td>\n",
       "    </tr>\n",
       "    <tr>\n",
       "      <th>1</th>\n",
       "      <td>12</td>\n",
       "      <td>4,2</td>\n",
       "      <td>30</td>\n",
       "      <td>21,5</td>\n",
       "      <td>13</td>\n",
       "      <td>E10</td>\n",
       "      <td>0</td>\n",
       "      <td>0</td>\n",
       "      <td>0</td>\n",
       "    </tr>\n",
       "    <tr>\n",
       "      <th>2</th>\n",
       "      <td>11,2</td>\n",
       "      <td>5,5</td>\n",
       "      <td>38</td>\n",
       "      <td>21,5</td>\n",
       "      <td>15</td>\n",
       "      <td>E10</td>\n",
       "      <td>0</td>\n",
       "      <td>0</td>\n",
       "      <td>0</td>\n",
       "    </tr>\n",
       "    <tr>\n",
       "      <th>3</th>\n",
       "      <td>12,9</td>\n",
       "      <td>3,9</td>\n",
       "      <td>36</td>\n",
       "      <td>21,5</td>\n",
       "      <td>14</td>\n",
       "      <td>E10</td>\n",
       "      <td>0</td>\n",
       "      <td>0</td>\n",
       "      <td>0</td>\n",
       "    </tr>\n",
       "    <tr>\n",
       "      <th>4</th>\n",
       "      <td>18,5</td>\n",
       "      <td>4,5</td>\n",
       "      <td>46</td>\n",
       "      <td>21,5</td>\n",
       "      <td>15</td>\n",
       "      <td>E10</td>\n",
       "      <td>0</td>\n",
       "      <td>0</td>\n",
       "      <td>0</td>\n",
       "    </tr>\n",
       "  </tbody>\n",
       "</table>\n",
       "</div>"
      ],
      "text/plain": [
       "  distance consume  speed temp_inside  temp_outside gas_type  AC  rain  sun\n",
       "0       28       5     26        21,5            12      E10   0     0    0\n",
       "1       12     4,2     30        21,5            13      E10   0     0    0\n",
       "2     11,2     5,5     38        21,5            15      E10   0     0    0\n",
       "3     12,9     3,9     36        21,5            14      E10   0     0    0\n",
       "4     18,5     4,5     46        21,5            15      E10   0     0    0"
      ]
     },
     "execution_count": 20,
     "metadata": {},
     "output_type": "execute_result"
    }
   ],
   "source": [
    "data.head()"
   ]
  },
  {
   "cell_type": "code",
   "execution_count": 21,
   "id": "52bd355d",
   "metadata": {},
   "outputs": [],
   "source": [
    "df_con_nulos = data[data.isnull().any(axis=1)]"
   ]
  },
  {
   "cell_type": "code",
   "execution_count": 25,
   "id": "db847931",
   "metadata": {},
   "outputs": [
    {
     "data": {
      "text/plain": [
       "array(['21,5', '22,5', '20', nan, '21', '20,5', '23', '23,5', '25', '24',\n",
       "       '22', '19', '24,5', '25,5'], dtype=object)"
      ]
     },
     "execution_count": 25,
     "metadata": {},
     "output_type": "execute_result"
    }
   ],
   "source": [
    "data['temp_inside'].unique()"
   ]
  },
  {
   "cell_type": "code",
   "execution_count": 24,
   "id": "a1549ad7",
   "metadata": {},
   "outputs": [
    {
     "data": {
      "text/html": [
       "<div>\n",
       "<style scoped>\n",
       "    .dataframe tbody tr th:only-of-type {\n",
       "        vertical-align: middle;\n",
       "    }\n",
       "\n",
       "    .dataframe tbody tr th {\n",
       "        vertical-align: top;\n",
       "    }\n",
       "\n",
       "    .dataframe thead th {\n",
       "        text-align: right;\n",
       "    }\n",
       "</style>\n",
       "<table border=\"1\" class=\"dataframe\">\n",
       "  <thead>\n",
       "    <tr style=\"text-align: right;\">\n",
       "      <th></th>\n",
       "      <th>distance</th>\n",
       "      <th>consume</th>\n",
       "      <th>speed</th>\n",
       "      <th>temp_inside</th>\n",
       "      <th>temp_outside</th>\n",
       "      <th>gas_type</th>\n",
       "      <th>AC</th>\n",
       "      <th>rain</th>\n",
       "      <th>sun</th>\n",
       "    </tr>\n",
       "  </thead>\n",
       "  <tbody>\n",
       "    <tr>\n",
       "      <th>93</th>\n",
       "      <td>12,4</td>\n",
       "      <td>4,7</td>\n",
       "      <td>43</td>\n",
       "      <td>NaN</td>\n",
       "      <td>10</td>\n",
       "      <td>SP98</td>\n",
       "      <td>0</td>\n",
       "      <td>0</td>\n",
       "      <td>0</td>\n",
       "    </tr>\n",
       "    <tr>\n",
       "      <th>95</th>\n",
       "      <td>11,8</td>\n",
       "      <td>5,3</td>\n",
       "      <td>52</td>\n",
       "      <td>NaN</td>\n",
       "      <td>11</td>\n",
       "      <td>SP98</td>\n",
       "      <td>0</td>\n",
       "      <td>0</td>\n",
       "      <td>0</td>\n",
       "    </tr>\n",
       "    <tr>\n",
       "      <th>97</th>\n",
       "      <td>15,7</td>\n",
       "      <td>5,3</td>\n",
       "      <td>33</td>\n",
       "      <td>NaN</td>\n",
       "      <td>9</td>\n",
       "      <td>SP98</td>\n",
       "      <td>0</td>\n",
       "      <td>0</td>\n",
       "      <td>0</td>\n",
       "    </tr>\n",
       "    <tr>\n",
       "      <th>98</th>\n",
       "      <td>12,9</td>\n",
       "      <td>5,7</td>\n",
       "      <td>35</td>\n",
       "      <td>NaN</td>\n",
       "      <td>9</td>\n",
       "      <td>SP98</td>\n",
       "      <td>0</td>\n",
       "      <td>0</td>\n",
       "      <td>0</td>\n",
       "    </tr>\n",
       "    <tr>\n",
       "      <th>99</th>\n",
       "      <td>6,4</td>\n",
       "      <td>4,4</td>\n",
       "      <td>37</td>\n",
       "      <td>NaN</td>\n",
       "      <td>10</td>\n",
       "      <td>SP98</td>\n",
       "      <td>0</td>\n",
       "      <td>0</td>\n",
       "      <td>0</td>\n",
       "    </tr>\n",
       "    <tr>\n",
       "      <th>100</th>\n",
       "      <td>5,3</td>\n",
       "      <td>4,1</td>\n",
       "      <td>34</td>\n",
       "      <td>NaN</td>\n",
       "      <td>9</td>\n",
       "      <td>SP98</td>\n",
       "      <td>0</td>\n",
       "      <td>0</td>\n",
       "      <td>0</td>\n",
       "    </tr>\n",
       "    <tr>\n",
       "      <th>102</th>\n",
       "      <td>18,8</td>\n",
       "      <td>5</td>\n",
       "      <td>62</td>\n",
       "      <td>NaN</td>\n",
       "      <td>9</td>\n",
       "      <td>SP98</td>\n",
       "      <td>0</td>\n",
       "      <td>1</td>\n",
       "      <td>0</td>\n",
       "    </tr>\n",
       "    <tr>\n",
       "      <th>201</th>\n",
       "      <td>22,2</td>\n",
       "      <td>3,8</td>\n",
       "      <td>42</td>\n",
       "      <td>NaN</td>\n",
       "      <td>15</td>\n",
       "      <td>SP98</td>\n",
       "      <td>0</td>\n",
       "      <td>0</td>\n",
       "      <td>0</td>\n",
       "    </tr>\n",
       "    <tr>\n",
       "      <th>203</th>\n",
       "      <td>12,6</td>\n",
       "      <td>4,1</td>\n",
       "      <td>33</td>\n",
       "      <td>NaN</td>\n",
       "      <td>17</td>\n",
       "      <td>SP98</td>\n",
       "      <td>0</td>\n",
       "      <td>0</td>\n",
       "      <td>0</td>\n",
       "    </tr>\n",
       "    <tr>\n",
       "      <th>261</th>\n",
       "      <td>24,5</td>\n",
       "      <td>3,9</td>\n",
       "      <td>50</td>\n",
       "      <td>NaN</td>\n",
       "      <td>15</td>\n",
       "      <td>E10</td>\n",
       "      <td>0</td>\n",
       "      <td>0</td>\n",
       "      <td>1</td>\n",
       "    </tr>\n",
       "    <tr>\n",
       "      <th>267</th>\n",
       "      <td>22,9</td>\n",
       "      <td>4</td>\n",
       "      <td>29</td>\n",
       "      <td>NaN</td>\n",
       "      <td>21</td>\n",
       "      <td>E10</td>\n",
       "      <td>0</td>\n",
       "      <td>0</td>\n",
       "      <td>0</td>\n",
       "    </tr>\n",
       "    <tr>\n",
       "      <th>268</th>\n",
       "      <td>16</td>\n",
       "      <td>3,8</td>\n",
       "      <td>42</td>\n",
       "      <td>NaN</td>\n",
       "      <td>8</td>\n",
       "      <td>E10</td>\n",
       "      <td>0</td>\n",
       "      <td>0</td>\n",
       "      <td>0</td>\n",
       "    </tr>\n",
       "  </tbody>\n",
       "</table>\n",
       "</div>"
      ],
      "text/plain": [
       "    distance consume  speed temp_inside  temp_outside gas_type  AC  rain  sun\n",
       "93      12,4     4,7     43         NaN            10     SP98   0     0    0\n",
       "95      11,8     5,3     52         NaN            11     SP98   0     0    0\n",
       "97      15,7     5,3     33         NaN             9     SP98   0     0    0\n",
       "98      12,9     5,7     35         NaN             9     SP98   0     0    0\n",
       "99       6,4     4,4     37         NaN            10     SP98   0     0    0\n",
       "100      5,3     4,1     34         NaN             9     SP98   0     0    0\n",
       "102     18,8       5     62         NaN             9     SP98   0     1    0\n",
       "201     22,2     3,8     42         NaN            15     SP98   0     0    0\n",
       "203     12,6     4,1     33         NaN            17     SP98   0     0    0\n",
       "261     24,5     3,9     50         NaN            15      E10   0     0    1\n",
       "267     22,9       4     29         NaN            21      E10   0     0    0\n",
       "268       16     3,8     42         NaN             8      E10   0     0    0"
      ]
     },
     "execution_count": 24,
     "metadata": {},
     "output_type": "execute_result"
    }
   ],
   "source": [
    "df_con_nulos.head(13)"
   ]
  },
  {
   "cell_type": "code",
   "execution_count": 26,
   "id": "92b6af9c",
   "metadata": {},
   "outputs": [],
   "source": [
    "data = data.dropna()"
   ]
  },
  {
   "cell_type": "code",
   "execution_count": 27,
   "id": "679da228",
   "metadata": {},
   "outputs": [
    {
     "data": {
      "text/plain": [
       "distance        0.0\n",
       "consume         0.0\n",
       "speed           0.0\n",
       "temp_inside     0.0\n",
       "temp_outside    0.0\n",
       "gas_type        0.0\n",
       "AC              0.0\n",
       "rain            0.0\n",
       "sun             0.0\n",
       "dtype: float64"
      ]
     },
     "execution_count": 27,
     "metadata": {},
     "output_type": "execute_result"
    }
   ],
   "source": [
    "data.isnull().sum()/ len(data)*100"
   ]
  },
  {
   "cell_type": "code",
   "execution_count": 29,
   "id": "314e2ee5",
   "metadata": {},
   "outputs": [],
   "source": [
    "data['distance'] = data['distance'].str.replace(',', '.').astype(float)"
   ]
  },
  {
   "cell_type": "code",
   "execution_count": 30,
   "id": "8993db1d",
   "metadata": {},
   "outputs": [],
   "source": [
    "data['consume'] = data['consume'].str.replace(',', '.').astype(float)"
   ]
  },
  {
   "cell_type": "code",
   "execution_count": 32,
   "id": "87af82a8",
   "metadata": {},
   "outputs": [],
   "source": [
    "data['temp_inside'] = data['temp_inside'].str.replace(',', '.').astype(float)"
   ]
  },
  {
   "cell_type": "code",
   "execution_count": 35,
   "id": "4b033983",
   "metadata": {},
   "outputs": [
    {
     "data": {
      "text/html": [
       "<div>\n",
       "<style scoped>\n",
       "    .dataframe tbody tr th:only-of-type {\n",
       "        vertical-align: middle;\n",
       "    }\n",
       "\n",
       "    .dataframe tbody tr th {\n",
       "        vertical-align: top;\n",
       "    }\n",
       "\n",
       "    .dataframe thead th {\n",
       "        text-align: right;\n",
       "    }\n",
       "</style>\n",
       "<table border=\"1\" class=\"dataframe\">\n",
       "  <thead>\n",
       "    <tr style=\"text-align: right;\">\n",
       "      <th></th>\n",
       "      <th>distance</th>\n",
       "      <th>consume</th>\n",
       "      <th>speed</th>\n",
       "      <th>temp_inside</th>\n",
       "      <th>temp_outside</th>\n",
       "      <th>AC</th>\n",
       "      <th>rain</th>\n",
       "      <th>sun</th>\n",
       "    </tr>\n",
       "  </thead>\n",
       "  <tbody>\n",
       "    <tr>\n",
       "      <th>distance</th>\n",
       "      <td>1.000000</td>\n",
       "      <td>-0.131379</td>\n",
       "      <td>0.565505</td>\n",
       "      <td>0.075305</td>\n",
       "      <td>0.086774</td>\n",
       "      <td>-0.027670</td>\n",
       "      <td>-0.022129</td>\n",
       "      <td>0.078627</td>\n",
       "    </tr>\n",
       "    <tr>\n",
       "      <th>consume</th>\n",
       "      <td>-0.131379</td>\n",
       "      <td>1.000000</td>\n",
       "      <td>-0.234537</td>\n",
       "      <td>-0.161991</td>\n",
       "      <td>-0.318758</td>\n",
       "      <td>0.093892</td>\n",
       "      <td>0.247699</td>\n",
       "      <td>-0.169173</td>\n",
       "    </tr>\n",
       "    <tr>\n",
       "      <th>speed</th>\n",
       "      <td>0.565505</td>\n",
       "      <td>-0.234537</td>\n",
       "      <td>1.000000</td>\n",
       "      <td>0.059725</td>\n",
       "      <td>0.019327</td>\n",
       "      <td>-0.036351</td>\n",
       "      <td>-0.002936</td>\n",
       "      <td>0.077181</td>\n",
       "    </tr>\n",
       "    <tr>\n",
       "      <th>temp_inside</th>\n",
       "      <td>0.075305</td>\n",
       "      <td>-0.161991</td>\n",
       "      <td>0.059725</td>\n",
       "      <td>1.000000</td>\n",
       "      <td>0.361308</td>\n",
       "      <td>0.297775</td>\n",
       "      <td>-0.037356</td>\n",
       "      <td>0.246120</td>\n",
       "    </tr>\n",
       "    <tr>\n",
       "      <th>temp_outside</th>\n",
       "      <td>0.086774</td>\n",
       "      <td>-0.318758</td>\n",
       "      <td>0.019327</td>\n",
       "      <td>0.361308</td>\n",
       "      <td>1.000000</td>\n",
       "      <td>0.169374</td>\n",
       "      <td>-0.185731</td>\n",
       "      <td>0.349988</td>\n",
       "    </tr>\n",
       "    <tr>\n",
       "      <th>AC</th>\n",
       "      <td>-0.027670</td>\n",
       "      <td>0.093892</td>\n",
       "      <td>-0.036351</td>\n",
       "      <td>0.297775</td>\n",
       "      <td>0.169374</td>\n",
       "      <td>1.000000</td>\n",
       "      <td>0.244848</td>\n",
       "      <td>0.090164</td>\n",
       "    </tr>\n",
       "    <tr>\n",
       "      <th>rain</th>\n",
       "      <td>-0.022129</td>\n",
       "      <td>0.247699</td>\n",
       "      <td>-0.002936</td>\n",
       "      <td>-0.037356</td>\n",
       "      <td>-0.185731</td>\n",
       "      <td>0.244848</td>\n",
       "      <td>1.000000</td>\n",
       "      <td>-0.113298</td>\n",
       "    </tr>\n",
       "    <tr>\n",
       "      <th>sun</th>\n",
       "      <td>0.078627</td>\n",
       "      <td>-0.169173</td>\n",
       "      <td>0.077181</td>\n",
       "      <td>0.246120</td>\n",
       "      <td>0.349988</td>\n",
       "      <td>0.090164</td>\n",
       "      <td>-0.113298</td>\n",
       "      <td>1.000000</td>\n",
       "    </tr>\n",
       "  </tbody>\n",
       "</table>\n",
       "</div>"
      ],
      "text/plain": [
       "              distance   consume     speed  temp_inside  temp_outside  \\\n",
       "distance      1.000000 -0.131379  0.565505     0.075305      0.086774   \n",
       "consume      -0.131379  1.000000 -0.234537    -0.161991     -0.318758   \n",
       "speed         0.565505 -0.234537  1.000000     0.059725      0.019327   \n",
       "temp_inside   0.075305 -0.161991  0.059725     1.000000      0.361308   \n",
       "temp_outside  0.086774 -0.318758  0.019327     0.361308      1.000000   \n",
       "AC           -0.027670  0.093892 -0.036351     0.297775      0.169374   \n",
       "rain         -0.022129  0.247699 -0.002936    -0.037356     -0.185731   \n",
       "sun           0.078627 -0.169173  0.077181     0.246120      0.349988   \n",
       "\n",
       "                    AC      rain       sun  \n",
       "distance     -0.027670 -0.022129  0.078627  \n",
       "consume       0.093892  0.247699 -0.169173  \n",
       "speed        -0.036351 -0.002936  0.077181  \n",
       "temp_inside   0.297775 -0.037356  0.246120  \n",
       "temp_outside  0.169374 -0.185731  0.349988  \n",
       "AC            1.000000  0.244848  0.090164  \n",
       "rain          0.244848  1.000000 -0.113298  \n",
       "sun           0.090164 -0.113298  1.000000  "
      ]
     },
     "execution_count": 35,
     "metadata": {},
     "output_type": "execute_result"
    }
   ],
   "source": [
    "columnas_sin_gas_type = data.drop('gas_type', axis=1)\n",
    "columnas_sin_gas_type.corr()"
   ]
  },
  {
   "cell_type": "code",
   "execution_count": 36,
   "id": "f825568c",
   "metadata": {},
   "outputs": [],
   "source": [
    "import seaborn as sns\n",
    "import matplotlib.pyplot as plt"
   ]
  },
  {
   "cell_type": "code",
   "execution_count": 38,
   "id": "7b62a830",
   "metadata": {},
   "outputs": [
    {
     "data": {
      "image/png": "[encoded data removed]",
      "text/plain": [
       "<Figure size 1000x800 with 2 Axes>"
      ]
     },
     "metadata": {},
     "output_type": "display_data"
    }
   ],
   "source": [
    "plt.figure(figsize=(10, 8))\n",
    "sns.heatmap(columnas_sin_gas_type.corr(), annot=True, cmap='coolwarm', linewidths=.5)\n",
    "plt.title('Matriz de Correlación (Excluyendo gas_type)')\n",
    "plt.show()"
   ]
  },
  {
   "cell_type": "code",
   "execution_count": null,
   "id": "33583abc",
   "metadata": {},
   "outputs": [],
   "source": []
  }
 ],
 "metadata": {
  "kernelspec": {
   "display_name": "Python 3 (ipykernel)",
   "language": "python",
   "name": "python3"
  },
  "language_info": {
   "codemirror_mode": {
    "name": "ipython",
    "version": 3
   },
   "file_extension": ".py",
   "mimetype": "text/x-python",
   "name": "python",
   "nbconvert_exporter": "python",
   "pygments_lexer": "ipython3",
   "version": "3.11.5"
  }
 },
 "nbformat": 4,
 "nbformat_minor": 5
}
