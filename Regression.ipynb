{
 "cells": [
  {
   "cell_type": "code",
   "execution_count": 1,
   "metadata": {},
   "outputs": [],
   "source": [
    "# Import packages\n",
    "\n",
    "%matplotlib inline\n",
    "import pandas as pd\n",
    "import numpy as np\n",
    "import matplotlib.pyplot as plt\n",
    "from matplotlib import rcParams\n",
    "import seaborn as sns"
   ]
  },
  {
   "cell_type": "code",
   "execution_count": 2,
   "metadata": {},
   "outputs": [],
   "source": [
    "df = pd.read_csv('data/df_regression.csv')"
   ]
  },
  {
   "cell_type": "code",
   "execution_count": 5,
   "metadata": {},
   "outputs": [
    {
     "data": {
      "text/plain": [
       "(388, 9)"
      ]
     },
     "execution_count": 5,
     "metadata": {},
     "output_type": "execute_result"
    }
   ],
   "source": [
    "df.shape"
   ]
  },
  {
   "cell_type": "code",
   "execution_count": 6,
   "metadata": {},
   "outputs": [
    {
     "data": {
      "text/plain": [
       "distance        0.000000\n",
       "consume         0.000000\n",
       "speed           0.000000\n",
       "temp_inside     3.092784\n",
       "temp_outside    0.000000\n",
       "AC              0.000000\n",
       "rain            0.000000\n",
       "sun             0.000000\n",
       "gas_SP98        0.000000\n",
       "dtype: float64"
      ]
     },
     "execution_count": 6,
     "metadata": {},
     "output_type": "execute_result"
    }
   ],
   "source": [
    "missing_percentage = (df.isnull().sum() / len(df)) * 100\n",
    "missing_percentage"
   ]
  },
  {
   "cell_type": "code",
   "execution_count": 7,
   "metadata": {},
   "outputs": [],
   "source": [
    "# We replace the missing values of the variable temp_inside with its mean value\n",
    "\n",
    "average_temp_inside = df['temp_inside'].mean()\n",
    "df['temp_inside'].fillna(average_temp_inside, inplace=True)"
   ]
  },
  {
   "cell_type": "code",
   "execution_count": 11,
   "metadata": {},
   "outputs": [],
   "source": [
    "# Split the dataframe\n",
    "\n",
    "from sklearn.model_selection import train_test_split\n",
    "\n",
    "X = df.drop('consume', axis=1)  # Features\n",
    "y = df['consume']  # Target variable\n",
    "\n",
    "X_train, X_test, y_train, y_test = train_test_split(X, y, test_size=0.2, random_state=42)\n"
   ]
  },
  {
   "cell_type": "code",
   "execution_count": 12,
   "metadata": {},
   "outputs": [],
   "source": [
    "# Normalize the dataframe\n",
    "\n",
    "from sklearn.preprocessing import MinMaxScaler\n",
    "\n",
    "scaler = MinMaxScaler()\n",
    "X_train_normalized = scaler.fit_transform(X_train)\n",
    "X_test_normalized = scaler.transform(X_test)"
   ]
  },
  {
   "cell_type": "code",
   "execution_count": 13,
   "metadata": {},
   "outputs": [
    {
     "name": "stdout",
     "output_type": "stream",
     "text": [
      "Mean Squared Error (MSE): 0.8216359860810027\n",
      "R-squared (R2): 0.09442245281893835\n"
     ]
    }
   ],
   "source": [
    "# Linear regression\n",
    "\n",
    "from sklearn.linear_model import LinearRegression\n",
    "from sklearn.metrics import mean_squared_error, r2_score\n",
    "\n",
    "# Create a Linear Regression model\n",
    "regression_model = LinearRegression()\n",
    "\n",
    "# Fit the model on the training data\n",
    "regression_model.fit(X_train_normalized, y_train)\n",
    "\n",
    "# Make predictions on the test data\n",
    "y_pred = regression_model.predict(X_test_normalized)\n",
    "\n",
    "# Evaluate the model\n",
    "mse = mean_squared_error(y_test, y_pred)\n",
    "r2 = r2_score(y_test, y_pred)\n",
    "\n",
    "print(f\"Mean Squared Error (MSE): {mse}\")\n",
    "print(f\"R-squared (R2): {r2}\")"
   ]
  },
  {
   "cell_type": "code",
   "execution_count": 19,
   "metadata": {},
   "outputs": [
    {
     "name": "stdout",
     "output_type": "stream",
     "text": [
      "Decision Tree Regression Metrics:\n",
      "Mean Squared Error (MSE): 0.83\n",
      "Root Mean Squared Error (RMSE): 0.91\n",
      "R-squared (R2) Score: 0.08\n"
     ]
    }
   ],
   "source": [
    "# Decision tree\n",
    "\n",
    "from sklearn.tree import DecisionTreeRegressor\n",
    "\n",
    "# Create a Decision Tree Regressor\n",
    "tree_regressor = DecisionTreeRegressor()\n",
    "\n",
    "# Fit the model to the training data\n",
    "tree_regressor.fit(X_train_normalized, y_train)\n",
    "\n",
    "# Make predictions on the test data\n",
    "tree_predictions = tree_regressor.predict(X_test_normalized)\n",
    "\n",
    "from sklearn.metrics import mean_squared_error, mean_absolute_error, r2_score\n",
    "\n",
    "# Calculate predictions\n",
    "tree_predictions = tree_regressor.predict(X_test_normalized)\n",
    "\n",
    "# Calculate MSE, RMSE, and R2 score\n",
    "tree_mse = mean_squared_error(y_test, tree_predictions)\n",
    "tree_rmse = np.sqrt(tree_mse)\n",
    "tree_r2 = r2_score(y_test, tree_predictions)\n",
    "\n",
    "print(\"Decision Tree Regression Metrics:\")\n",
    "print(f\"Mean Squared Error (MSE): {tree_mse:.2f}\")\n",
    "print(f\"Root Mean Squared Error (RMSE): {tree_rmse:.2f}\")\n",
    "print(f\"R-squared (R2) Score: {tree_r2:.2f}\")"
   ]
  },
  {
   "cell_type": "code",
   "execution_count": 36,
   "metadata": {},
   "outputs": [
    {
     "name": "stdout",
     "output_type": "stream",
     "text": [
      "Random Forest Regression Metrics:\n",
      "Mean Squared Error (MSE): 0.42\n",
      "Root Mean Squared Error (RMSE): 0.65\n",
      "R-squared (R2) Score: 0.53\n"
     ]
    }
   ],
   "source": [
    "# Random forest\n",
    "\n",
    "from sklearn.ensemble import RandomForestRegressor\n",
    "\n",
    "# Create a Random Forest Regressor\n",
    "forest_regressor = RandomForestRegressor(n_estimators=1000, random_state=42)\n",
    "\n",
    "# Fit the model to the training data\n",
    "forest_regressor.fit(X_train_normalized, y_train)\n",
    "\n",
    "# Make predictions on the test data\n",
    "forest_predictions = forest_regressor.predict(X_test_normalized)\n",
    "\n",
    "# Calculate predictions\n",
    "forest_predictions = forest_regressor.predict(X_test_normalized)\n",
    "\n",
    "# Calculate MSE, RMSE, and R2 score\n",
    "forest_mse = mean_squared_error(y_test, forest_predictions)\n",
    "forest_rmse = np.sqrt(forest_mse)\n",
    "forest_r2 = r2_score(y_test, forest_predictions)\n",
    "\n",
    "print(\"Random Forest Regression Metrics:\")\n",
    "print(f\"Mean Squared Error (MSE): {forest_mse:.2f}\")\n",
    "print(f\"Root Mean Squared Error (RMSE): {forest_rmse:.2f}\")\n",
    "print(f\"R-squared (R2) Score: {forest_r2:.2f}\")"
   ]
  },
  {
   "cell_type": "code",
   "execution_count": 17,
   "metadata": {},
   "outputs": [
    {
     "name": "stdout",
     "output_type": "stream",
     "text": [
      "XGBoost Regression Metrics:\n",
      "Mean Squared Error (MSE): 0.52\n",
      "Root Mean Squared Error (RMSE): 0.72\n",
      "R-squared (R2) Score: 0.43\n"
     ]
    }
   ],
   "source": [
    "# XGBoost\n",
    "\n",
    "import xgboost as xgb\n",
    "\n",
    "# Create an XGBoost Regressor\n",
    "xgb_regressor = xgb.XGBRegressor(objective='reg:squarederror', random_state=42)\n",
    "\n",
    "# Fit the model to the training data\n",
    "xgb_regressor.fit(X_train_normalized, y_train)\n",
    "\n",
    "# Make predictions on the test data\n",
    "xgb_predictions = xgb_regressor.predict(X_test_normalized)\n",
    "\n",
    "# Calculate predictions\n",
    "xgb_predictions = xgb_regressor.predict(X_test_normalized)\n",
    "\n",
    "# Calculate MSE, RMSE, and R2 score\n",
    "xgb_mse = mean_squared_error(y_test, xgb_predictions)\n",
    "xgb_rmse = np.sqrt(xgb_mse)\n",
    "xgb_r2 = r2_score(y_test, xgb_predictions)\n",
    "\n",
    "print(\"XGBoost Regression Metrics:\")\n",
    "print(f\"Mean Squared Error (MSE): {xgb_mse:.2f}\")\n",
    "print(f\"Root Mean Squared Error (RMSE): {xgb_rmse:.2f}\")\n",
    "print(f\"R-squared (R2) Score: {xgb_r2:.2f}\")"
   ]
  },
  {
   "cell_type": "code",
   "execution_count": 18,
   "metadata": {},
   "outputs": [
    {
     "name": "stdout",
     "output_type": "stream",
     "text": [
      "K-Nearest Neighbors (KNN) Regression Metrics:\n",
      "Mean Squared Error (MSE): 0.84\n",
      "Root Mean Squared Error (RMSE): 0.92\n",
      "R-squared (R2) Score: 0.07\n"
     ]
    }
   ],
   "source": [
    "# K-Nearest Neighbors\n",
    "\n",
    "from sklearn.neighbors import KNeighborsRegressor\n",
    "\n",
    "# Create a K-Nearest Neighbors Regressor\n",
    "knn_regressor = KNeighborsRegressor(n_neighbors=5)\n",
    "\n",
    "# Fit the model to the training data\n",
    "knn_regressor.fit(X_train_normalized, y_train)\n",
    "\n",
    "# Make predictions on the test data\n",
    "knn_predictions = knn_regressor.predict(X_test_normalized)\n",
    "\n",
    "# Calculate predictions\n",
    "knn_predictions = knn_regressor.predict(X_test_normalized)\n",
    "\n",
    "# Calculate MSE, RMSE, and R2 score\n",
    "knn_mse = mean_squared_error(y_test, knn_predictions)\n",
    "knn_rmse = np.sqrt(knn_mse)\n",
    "knn_r2 = r2_score(y_test, knn_predictions)\n",
    "\n",
    "print(\"K-Nearest Neighbors (KNN) Regression Metrics:\")\n",
    "print(f\"Mean Squared Error (MSE): {knn_mse:.2f}\")\n",
    "print(f\"Root Mean Squared Error (RMSE): {knn_rmse:.2f}\")\n",
    "print(f\"R-squared (R2) Score: {knn_r2:.2f}\")"
   ]
  },
  {
   "cell_type": "markdown",
   "metadata": {},
   "source": [
    "The random forest model seems to be the best performer, with the lowest MSE, RMSE and the highest R-squared score, even though the performance is still low."
   ]
  }
 ],
 "metadata": {
  "kernelspec": {
   "display_name": "Python 3",
   "language": "python",
   "name": "python3"
  },
  "language_info": {
   "codemirror_mode": {
    "name": "ipython",
    "version": 3
   },
   "file_extension": ".py",
   "mimetype": "text/x-python",
   "name": "python",
   "nbconvert_exporter": "python",
   "pygments_lexer": "ipython3",
   "version": "3.11.1"
  }
 },
 "nbformat": 4,
 "nbformat_minor": 2
}
