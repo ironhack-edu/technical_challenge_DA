{
 "cells": [
  {
   "cell_type": "code",
   "execution_count": 177,
   "id": "11d90e23",
   "metadata": {},
   "outputs": [],
   "source": [
    "import pandas as pd\n",
    "import numpy as np\n",
    "pd.set_option('display.max_columns', None)\n",
    "pd.set_option('display.max_rows', None)\n",
    "import warnings\n",
    "warnings.filterwarnings('ignore')"
   ]
  },
  {
   "cell_type": "code",
   "execution_count": 178,
   "id": "4ac775f9",
   "metadata": {},
   "outputs": [],
   "source": [
    "ms1 = pd.read_csv('measurements.csv')\n",
    "ms2 = pd.read_excel('measurements2.xlsx')"
   ]
  },
  {
   "cell_type": "code",
   "execution_count": 179,
   "id": "1c714686",
   "metadata": {},
   "outputs": [
    {
     "data": {
      "text/html": [
       "<div>\n",
       "<style scoped>\n",
       "    .dataframe tbody tr th:only-of-type {\n",
       "        vertical-align: middle;\n",
       "    }\n",
       "\n",
       "    .dataframe tbody tr th {\n",
       "        vertical-align: top;\n",
       "    }\n",
       "\n",
       "    .dataframe thead th {\n",
       "        text-align: right;\n",
       "    }\n",
       "</style>\n",
       "<table border=\"1\" class=\"dataframe\">\n",
       "  <thead>\n",
       "    <tr style=\"text-align: right;\">\n",
       "      <th></th>\n",
       "      <th>distance</th>\n",
       "      <th>consume</th>\n",
       "      <th>speed</th>\n",
       "      <th>temp_inside</th>\n",
       "      <th>temp_outside</th>\n",
       "      <th>specials</th>\n",
       "      <th>gas_type</th>\n",
       "      <th>AC</th>\n",
       "      <th>rain</th>\n",
       "      <th>sun</th>\n",
       "      <th>refill liters</th>\n",
       "      <th>refill gas</th>\n",
       "    </tr>\n",
       "  </thead>\n",
       "  <tbody>\n",
       "    <tr>\n",
       "      <th>0</th>\n",
       "      <td>28</td>\n",
       "      <td>5</td>\n",
       "      <td>26</td>\n",
       "      <td>21,5</td>\n",
       "      <td>12</td>\n",
       "      <td>NaN</td>\n",
       "      <td>E10</td>\n",
       "      <td>0</td>\n",
       "      <td>0</td>\n",
       "      <td>0</td>\n",
       "      <td>45</td>\n",
       "      <td>E10</td>\n",
       "    </tr>\n",
       "  </tbody>\n",
       "</table>\n",
       "</div>"
      ],
      "text/plain": [
       "  distance consume  speed temp_inside  temp_outside specials gas_type  AC  \\\n",
       "0       28       5     26        21,5            12      NaN      E10   0   \n",
       "\n",
       "   rain  sun refill liters refill gas  \n",
       "0     0    0            45        E10  "
      ]
     },
     "execution_count": 179,
     "metadata": {},
     "output_type": "execute_result"
    }
   ],
   "source": [
    "ms1.head(1)"
   ]
  },
  {
   "cell_type": "code",
   "execution_count": 180,
   "id": "98b8eaa2",
   "metadata": {},
   "outputs": [
    {
     "data": {
      "text/html": [
       "<div>\n",
       "<style scoped>\n",
       "    .dataframe tbody tr th:only-of-type {\n",
       "        vertical-align: middle;\n",
       "    }\n",
       "\n",
       "    .dataframe tbody tr th {\n",
       "        vertical-align: top;\n",
       "    }\n",
       "\n",
       "    .dataframe thead th {\n",
       "        text-align: right;\n",
       "    }\n",
       "</style>\n",
       "<table border=\"1\" class=\"dataframe\">\n",
       "  <thead>\n",
       "    <tr style=\"text-align: right;\">\n",
       "      <th></th>\n",
       "      <th>distance</th>\n",
       "      <th>consume</th>\n",
       "      <th>speed</th>\n",
       "      <th>temp_inside</th>\n",
       "      <th>temp_outside</th>\n",
       "      <th>specials</th>\n",
       "      <th>gas_type</th>\n",
       "      <th>AC</th>\n",
       "      <th>rain</th>\n",
       "      <th>sun</th>\n",
       "      <th>refill liters</th>\n",
       "      <th>refill gas</th>\n",
       "    </tr>\n",
       "  </thead>\n",
       "  <tbody>\n",
       "    <tr>\n",
       "      <th>0</th>\n",
       "      <td>28.0</td>\n",
       "      <td>5.0</td>\n",
       "      <td>26</td>\n",
       "      <td>21.5</td>\n",
       "      <td>12</td>\n",
       "      <td>NaN</td>\n",
       "      <td>E10</td>\n",
       "      <td>0</td>\n",
       "      <td>0</td>\n",
       "      <td>0</td>\n",
       "      <td>45.0</td>\n",
       "      <td>E10</td>\n",
       "    </tr>\n",
       "  </tbody>\n",
       "</table>\n",
       "</div>"
      ],
      "text/plain": [
       "   distance  consume  speed  temp_inside  temp_outside specials gas_type  AC  \\\n",
       "0      28.0      5.0     26         21.5            12      NaN      E10   0   \n",
       "\n",
       "   rain  sun  refill liters refill gas  \n",
       "0     0    0           45.0        E10  "
      ]
     },
     "execution_count": 180,
     "metadata": {},
     "output_type": "execute_result"
    }
   ],
   "source": [
    "ms2.head(1)"
   ]
  },
  {
   "cell_type": "code",
   "execution_count": 181,
   "id": "3f996dc0",
   "metadata": {},
   "outputs": [],
   "source": [
    "ms = pd.concat([ms1, ms2], axis = 0)"
   ]
  },
  {
   "cell_type": "code",
   "execution_count": 182,
   "id": "bfa72eb1",
   "metadata": {},
   "outputs": [
    {
     "name": "stdout",
     "output_type": "stream",
     "text": [
      "<class 'pandas.core.frame.DataFrame'>\n",
      "Int64Index: 776 entries, 0 to 387\n",
      "Data columns (total 12 columns):\n",
      " #   Column         Non-Null Count  Dtype \n",
      "---  ------         --------------  ----- \n",
      " 0   distance       776 non-null    object\n",
      " 1   consume        776 non-null    object\n",
      " 2   speed          776 non-null    int64 \n",
      " 3   temp_inside    752 non-null    object\n",
      " 4   temp_outside   776 non-null    int64 \n",
      " 5   specials       186 non-null    object\n",
      " 6   gas_type       776 non-null    object\n",
      " 7   AC             776 non-null    int64 \n",
      " 8   rain           776 non-null    int64 \n",
      " 9   sun            776 non-null    int64 \n",
      " 10  refill liters  26 non-null     object\n",
      " 11  refill gas     26 non-null     object\n",
      "dtypes: int64(5), object(7)\n",
      "memory usage: 78.8+ KB\n"
     ]
    }
   ],
   "source": [
    "ms.info()"
   ]
  },
  {
   "cell_type": "code",
   "execution_count": 183,
   "id": "e5c6f9f1",
   "metadata": {},
   "outputs": [
    {
     "data": {
      "text/plain": [
       "temp_inside       3.092784\n",
       "specials         76.030928\n",
       "refill liters    96.649485\n",
       "refill gas       96.649485\n",
       "dtype: float64"
      ]
     },
     "execution_count": 183,
     "metadata": {},
     "output_type": "execute_result"
    }
   ],
   "source": [
    "nan_cols = ms.isna().mean()*100\n",
    "\n",
    "nan_cols[nan_cols > 0]"
   ]
  },
  {
   "cell_type": "markdown",
   "id": "0de49864",
   "metadata": {},
   "source": [
    "The above formula let us know the percentage of null values in those columns where there are null values. As we can see, refill liters and refill gas have a very high percentage of null values, which make it very difficult for us to fill those values with an accurate value. That is why we will be dropping these columns."
   ]
  },
  {
   "cell_type": "code",
   "execution_count": 184,
   "id": "6f447a97",
   "metadata": {},
   "outputs": [],
   "source": [
    "ms.drop(columns = ['refill liters', 'refill gas'], inplace = True)"
   ]
  },
  {
   "cell_type": "code",
   "execution_count": 185,
   "id": "50b56168",
   "metadata": {},
   "outputs": [
    {
     "data": {
      "text/plain": [
       "21,5    133\n",
       "21.5    133\n",
       "22      102\n",
       "22.0    102\n",
       "22.5     59\n",
       "22,5     59\n",
       "20.0     25\n",
       "20       25\n",
       "21       13\n",
       "23       13\n",
       "21.0     13\n",
       "23.0     13\n",
       "25.0     12\n",
       "25       12\n",
       "24.5      7\n",
       "24,5      7\n",
       "20.5      4\n",
       "20,5      4\n",
       "24.0      3\n",
       "24        3\n",
       "23.5      2\n",
       "23,5      2\n",
       "25,5      2\n",
       "25.5      2\n",
       "19.0      1\n",
       "19        1\n",
       "Name: temp_inside, dtype: int64"
      ]
     },
     "execution_count": 185,
     "metadata": {},
     "output_type": "execute_result"
    }
   ],
   "source": [
    "ms.temp_inside.value_counts()"
   ]
  },
  {
   "cell_type": "markdown",
   "id": "cab57085",
   "metadata": {},
   "source": [
    "Here we can see that there are different formats for each value, besides, this column's format is object and shouls be float."
   ]
  },
  {
   "cell_type": "code",
   "execution_count": 186,
   "id": "bc637e87",
   "metadata": {},
   "outputs": [],
   "source": [
    "tmp_in = []\n",
    "\n",
    "for e in ms.temp_inside:\n",
    "    e = str(e)\n",
    "    e = e.replace(',','.').strip()\n",
    "    e = float(e)\n",
    "    tmp_in.append(e)"
   ]
  },
  {
   "cell_type": "code",
   "execution_count": 187,
   "id": "431ef68a",
   "metadata": {},
   "outputs": [],
   "source": [
    "ms.temp_inside = tmp_in"
   ]
  },
  {
   "cell_type": "code",
   "execution_count": 188,
   "id": "a9e77851",
   "metadata": {},
   "outputs": [
    {
     "data": {
      "text/plain": [
       "21.5    266\n",
       "22.0    204\n",
       "22.5    118\n",
       "20.0     50\n",
       "21.0     26\n",
       "23.0     26\n",
       "25.0     24\n",
       "24.5     14\n",
       "20.5      8\n",
       "24.0      6\n",
       "23.5      4\n",
       "25.5      4\n",
       "19.0      2\n",
       "Name: temp_inside, dtype: int64"
      ]
     },
     "execution_count": 188,
     "metadata": {},
     "output_type": "execute_result"
    }
   ],
   "source": [
    "ms.temp_inside.value_counts()"
   ]
  },
  {
   "cell_type": "code",
   "execution_count": 189,
   "id": "24aea58e",
   "metadata": {},
   "outputs": [
    {
     "data": {
      "text/plain": [
       "(21.929521276595743, 21.5, 22.0)"
      ]
     },
     "execution_count": 189,
     "metadata": {},
     "output_type": "execute_result"
    }
   ],
   "source": [
    "ms.temp_inside.mean(), float(ms.temp_inside.mode()), ms.temp_inside.median()"
   ]
  },
  {
   "cell_type": "markdown",
   "id": "766b43ca",
   "metadata": {},
   "source": [
    "Now that this columns has its values unified, lets highlight that all the values are between 19.0 and 25.0, and the median, mode and mean are very close to each other. The decision taken will be to fill the null values of this column with the most common value: the mean."
   ]
  },
  {
   "cell_type": "code",
   "execution_count": 190,
   "id": "93aa47b8",
   "metadata": {},
   "outputs": [],
   "source": [
    "ms.temp_inside = ms.temp_inside.fillna(float(ms.temp_inside.mode()))"
   ]
  },
  {
   "cell_type": "code",
   "execution_count": 191,
   "id": "19d18c13",
   "metadata": {},
   "outputs": [
    {
     "data": {
      "text/plain": [
       "specials    590\n",
       "dtype: int64"
      ]
     },
     "execution_count": 191,
     "metadata": {},
     "output_type": "execute_result"
    }
   ],
   "source": [
    "nan_cols = ms.isna().sum()\n",
    "\n",
    "nan_cols[nan_cols > 0]"
   ]
  },
  {
   "cell_type": "code",
   "execution_count": 192,
   "id": "5f947c9c",
   "metadata": {},
   "outputs": [
    {
     "data": {
      "text/html": [
       "<div>\n",
       "<style scoped>\n",
       "    .dataframe tbody tr th:only-of-type {\n",
       "        vertical-align: middle;\n",
       "    }\n",
       "\n",
       "    .dataframe tbody tr th {\n",
       "        vertical-align: top;\n",
       "    }\n",
       "\n",
       "    .dataframe thead th {\n",
       "        text-align: right;\n",
       "    }\n",
       "</style>\n",
       "<table border=\"1\" class=\"dataframe\">\n",
       "  <thead>\n",
       "    <tr style=\"text-align: right;\">\n",
       "      <th></th>\n",
       "      <th>distance</th>\n",
       "      <th>consume</th>\n",
       "      <th>speed</th>\n",
       "      <th>temp_inside</th>\n",
       "      <th>temp_outside</th>\n",
       "      <th>specials</th>\n",
       "      <th>gas_type</th>\n",
       "      <th>AC</th>\n",
       "      <th>rain</th>\n",
       "      <th>sun</th>\n",
       "    </tr>\n",
       "  </thead>\n",
       "  <tbody>\n",
       "    <tr>\n",
       "      <th>0</th>\n",
       "      <td>28</td>\n",
       "      <td>5</td>\n",
       "      <td>26</td>\n",
       "      <td>21.5</td>\n",
       "      <td>12</td>\n",
       "      <td>NaN</td>\n",
       "      <td>E10</td>\n",
       "      <td>0</td>\n",
       "      <td>0</td>\n",
       "      <td>0</td>\n",
       "    </tr>\n",
       "    <tr>\n",
       "      <th>1</th>\n",
       "      <td>12</td>\n",
       "      <td>4,2</td>\n",
       "      <td>30</td>\n",
       "      <td>21.5</td>\n",
       "      <td>13</td>\n",
       "      <td>NaN</td>\n",
       "      <td>E10</td>\n",
       "      <td>0</td>\n",
       "      <td>0</td>\n",
       "      <td>0</td>\n",
       "    </tr>\n",
       "    <tr>\n",
       "      <th>2</th>\n",
       "      <td>11,2</td>\n",
       "      <td>5,5</td>\n",
       "      <td>38</td>\n",
       "      <td>21.5</td>\n",
       "      <td>15</td>\n",
       "      <td>NaN</td>\n",
       "      <td>E10</td>\n",
       "      <td>0</td>\n",
       "      <td>0</td>\n",
       "      <td>0</td>\n",
       "    </tr>\n",
       "    <tr>\n",
       "      <th>3</th>\n",
       "      <td>12,9</td>\n",
       "      <td>3,9</td>\n",
       "      <td>36</td>\n",
       "      <td>21.5</td>\n",
       "      <td>14</td>\n",
       "      <td>NaN</td>\n",
       "      <td>E10</td>\n",
       "      <td>0</td>\n",
       "      <td>0</td>\n",
       "      <td>0</td>\n",
       "    </tr>\n",
       "    <tr>\n",
       "      <th>4</th>\n",
       "      <td>18,5</td>\n",
       "      <td>4,5</td>\n",
       "      <td>46</td>\n",
       "      <td>21.5</td>\n",
       "      <td>15</td>\n",
       "      <td>NaN</td>\n",
       "      <td>E10</td>\n",
       "      <td>0</td>\n",
       "      <td>0</td>\n",
       "      <td>0</td>\n",
       "    </tr>\n",
       "  </tbody>\n",
       "</table>\n",
       "</div>"
      ],
      "text/plain": [
       "  distance consume  speed  temp_inside  temp_outside specials gas_type  AC  \\\n",
       "0       28       5     26         21.5            12      NaN      E10   0   \n",
       "1       12     4,2     30         21.5            13      NaN      E10   0   \n",
       "2     11,2     5,5     38         21.5            15      NaN      E10   0   \n",
       "3     12,9     3,9     36         21.5            14      NaN      E10   0   \n",
       "4     18,5     4,5     46         21.5            15      NaN      E10   0   \n",
       "\n",
       "   rain  sun  \n",
       "0     0    0  \n",
       "1     0    0  \n",
       "2     0    0  \n",
       "3     0    0  \n",
       "4     0    0  "
      ]
     },
     "execution_count": 192,
     "metadata": {},
     "output_type": "execute_result"
    }
   ],
   "source": [
    "ms.head()"
   ]
  },
  {
   "cell_type": "code",
   "execution_count": null,
   "id": "78cbc62f",
   "metadata": {},
   "outputs": [],
   "source": []
  },
  {
   "cell_type": "code",
   "execution_count": 194,
   "id": "1c38b288",
   "metadata": {},
   "outputs": [],
   "source": [
    "sp = []\n",
    "for e in ms.specials:\n",
    "    e = str(e)\n",
    "    e = e.upper()\n",
    "    if e == 'NAN':\n",
    "        sp.append('no specials')\n",
    "    else:\n",
    "        sp.append(e)"
   ]
  },
  {
   "cell_type": "code",
   "execution_count": 195,
   "id": "77dea168",
   "metadata": {},
   "outputs": [],
   "source": [
    "ms.specials = sp"
   ]
  },
  {
   "cell_type": "code",
   "execution_count": 196,
   "id": "1d59d1ec",
   "metadata": {},
   "outputs": [],
   "source": [
    "ds = []\n",
    "for e in ms.distance:\n",
    "    e = str(e)\n",
    "    e = e.replace(',','.')\n",
    "    ds.append(float(e))"
   ]
  },
  {
   "cell_type": "code",
   "execution_count": 197,
   "id": "ad456606",
   "metadata": {},
   "outputs": [],
   "source": [
    "cs = []\n",
    "for e in ms.consume:\n",
    "    e = str(e)\n",
    "    e = e.replace(',','.')\n",
    "    cs.append(float(e))"
   ]
  },
  {
   "cell_type": "code",
   "execution_count": 198,
   "id": "083ba912",
   "metadata": {},
   "outputs": [],
   "source": [
    "ms.distance = ds\n",
    "ms.consume = cs"
   ]
  },
  {
   "cell_type": "code",
   "execution_count": 199,
   "id": "7f4f0c53",
   "metadata": {},
   "outputs": [
    {
     "data": {
      "text/html": [
       "<div>\n",
       "<style scoped>\n",
       "    .dataframe tbody tr th:only-of-type {\n",
       "        vertical-align: middle;\n",
       "    }\n",
       "\n",
       "    .dataframe tbody tr th {\n",
       "        vertical-align: top;\n",
       "    }\n",
       "\n",
       "    .dataframe thead th {\n",
       "        text-align: right;\n",
       "    }\n",
       "</style>\n",
       "<table border=\"1\" class=\"dataframe\">\n",
       "  <thead>\n",
       "    <tr style=\"text-align: right;\">\n",
       "      <th></th>\n",
       "      <th>distance</th>\n",
       "      <th>consume</th>\n",
       "      <th>speed</th>\n",
       "      <th>temp_inside</th>\n",
       "      <th>temp_outside</th>\n",
       "      <th>specials</th>\n",
       "      <th>gas_type</th>\n",
       "      <th>AC</th>\n",
       "      <th>rain</th>\n",
       "      <th>sun</th>\n",
       "    </tr>\n",
       "  </thead>\n",
       "  <tbody>\n",
       "    <tr>\n",
       "      <th>0</th>\n",
       "      <td>28.0</td>\n",
       "      <td>5.0</td>\n",
       "      <td>26</td>\n",
       "      <td>21.5</td>\n",
       "      <td>12</td>\n",
       "      <td>no specials</td>\n",
       "      <td>E10</td>\n",
       "      <td>0</td>\n",
       "      <td>0</td>\n",
       "      <td>0</td>\n",
       "    </tr>\n",
       "    <tr>\n",
       "      <th>1</th>\n",
       "      <td>12.0</td>\n",
       "      <td>4.2</td>\n",
       "      <td>30</td>\n",
       "      <td>21.5</td>\n",
       "      <td>13</td>\n",
       "      <td>no specials</td>\n",
       "      <td>E10</td>\n",
       "      <td>0</td>\n",
       "      <td>0</td>\n",
       "      <td>0</td>\n",
       "    </tr>\n",
       "    <tr>\n",
       "      <th>2</th>\n",
       "      <td>11.2</td>\n",
       "      <td>5.5</td>\n",
       "      <td>38</td>\n",
       "      <td>21.5</td>\n",
       "      <td>15</td>\n",
       "      <td>no specials</td>\n",
       "      <td>E10</td>\n",
       "      <td>0</td>\n",
       "      <td>0</td>\n",
       "      <td>0</td>\n",
       "    </tr>\n",
       "    <tr>\n",
       "      <th>3</th>\n",
       "      <td>12.9</td>\n",
       "      <td>3.9</td>\n",
       "      <td>36</td>\n",
       "      <td>21.5</td>\n",
       "      <td>14</td>\n",
       "      <td>no specials</td>\n",
       "      <td>E10</td>\n",
       "      <td>0</td>\n",
       "      <td>0</td>\n",
       "      <td>0</td>\n",
       "    </tr>\n",
       "    <tr>\n",
       "      <th>4</th>\n",
       "      <td>18.5</td>\n",
       "      <td>4.5</td>\n",
       "      <td>46</td>\n",
       "      <td>21.5</td>\n",
       "      <td>15</td>\n",
       "      <td>no specials</td>\n",
       "      <td>E10</td>\n",
       "      <td>0</td>\n",
       "      <td>0</td>\n",
       "      <td>0</td>\n",
       "    </tr>\n",
       "  </tbody>\n",
       "</table>\n",
       "</div>"
      ],
      "text/plain": [
       "   distance  consume  speed  temp_inside  temp_outside     specials gas_type  \\\n",
       "0      28.0      5.0     26         21.5            12  no specials      E10   \n",
       "1      12.0      4.2     30         21.5            13  no specials      E10   \n",
       "2      11.2      5.5     38         21.5            15  no specials      E10   \n",
       "3      12.9      3.9     36         21.5            14  no specials      E10   \n",
       "4      18.5      4.5     46         21.5            15  no specials      E10   \n",
       "\n",
       "   AC  rain  sun  \n",
       "0   0     0    0  \n",
       "1   0     0    0  \n",
       "2   0     0    0  \n",
       "3   0     0    0  \n",
       "4   0     0    0  "
      ]
     },
     "execution_count": 199,
     "metadata": {},
     "output_type": "execute_result"
    }
   ],
   "source": [
    "ms.head()"
   ]
  },
  {
   "cell_type": "code",
   "execution_count": 200,
   "id": "17600c54",
   "metadata": {},
   "outputs": [],
   "source": [
    "ms.to_csv('measurements-cleaned.csv', index = False)"
   ]
  },
  {
   "cell_type": "code",
   "execution_count": null,
   "id": "f63ac4ac",
   "metadata": {},
   "outputs": [],
   "source": []
  },
  {
   "cell_type": "code",
   "execution_count": null,
   "id": "13c6394c",
   "metadata": {},
   "outputs": [],
   "source": []
  }
 ],
 "metadata": {
  "kernelspec": {
   "display_name": "Python 3 (ipykernel)",
   "language": "python",
   "name": "python3"
  },
  "language_info": {
   "codemirror_mode": {
    "name": "ipython",
    "version": 3
   },
   "file_extension": ".py",
   "mimetype": "text/x-python",
   "name": "python",
   "nbconvert_exporter": "python",
   "pygments_lexer": "ipython3",
   "version": "3.9.13"
  }
 },
 "nbformat": 4,
 "nbformat_minor": 5
}
