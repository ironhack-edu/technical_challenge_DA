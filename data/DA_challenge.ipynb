{
 "cells": [
  {
   "cell_type": "code",
   "execution_count": null,
   "id": "8da82f61",
   "metadata": {},
   "outputs": [],
   "source": [
    "import matplotlib.pyplot as plt\n",
    "import pandas as pd\n",
    "import numpy as np\n",
    "import seaborn as sns\n",
    "import sklearn.metrics as metrics\n",
    "\n",
    "from sklearn import datasets\n",
    "from sklearn.preprocessing import StandardScaler, MinMaxScaler\n",
    "from sklearn.cluster import KMeans\n",
    "from matplotlib import pyplot\n",
    "from sklearn.metrics import silhouette_score\n",
    "from PIL import Image\n",
    "from IPython.display import display\n",
    "from sklearn.model_selection import train_test_split\n",
    "from sklearn.metrics import classification_report, confusion_matrix, ConfusionMatrixDisplay\n",
    "from sklearn.metrics import accuracy_score, roc_curve, roc_auc_score\n",
    "from sklearn.linear_model import LinearRegression, LogisticRegression\n",
    "from sklearn.metrics import mean_squared_error, r2_score\n",
    "\n",
    "from sklearn.linear_model import LogisticRegression\n",
    "\n",
    "get_ipython().run_line_magic('matplotlib', 'inline')"
   ]
  },
  {
   "cell_type": "code",
   "execution_count": null,
   "id": "6c2a10f8",
   "metadata": {},
   "outputs": [],
   "source": [
    "# Load data\n",
    "df = pd.read_csv(\"measurements.csv\")\n",
    "\n",
    "df01 = pd.read_excel(\"measurements2.xlsx\")"
   ]
  },
  {
   "cell_type": "code",
   "execution_count": null,
   "id": "3e8dc62f",
   "metadata": {},
   "outputs": [],
   "source": [
    "# Cleaning & EDA\n",
    "df.info()"
   ]
  },
  {
   "cell_type": "code",
   "execution_count": null,
   "id": "dfec3cbb",
   "metadata": {},
   "outputs": [],
   "source": [
    "# Data type conversion\n",
    "column_value_counts = df.count()\n",
    "columns_to_convert = [\"distance\", \"consume\", \"temp_inside\"]\n",
    "\n",
    "for column in columns_to_convert:\n",
    "    df[column] = pd.to_numeric(df[column], errors='coerce', downcast='integer')\n",
    "\n",
    "df.info()"
   ]
  },
  {
   "cell_type": "code",
   "execution_count": null,
   "id": "f6dc9a3d",
   "metadata": {},
   "outputs": [],
   "source": [
    "# Handling null values\n",
    "columns_to_delete = [\"specials\", \"refill liters\", \"refill gas\"]\n",
    "df = df.drop(columns=columns_to_delete)"
   ]
  },
  {
   "cell_type": "code",
   "execution_count": null,
   "id": "8102e829",
   "metadata": {},
   "outputs": [],
   "source": [
    "# Filling in missing values\n",
    "column_means = df.mean()\n",
    "df.fillna(column_means, inplace=True)"
   ]
  },
  {
   "cell_type": "code",
   "execution_count": null,
   "id": "55e98fd4",
   "metadata": {},
   "outputs": [],
   "source": [
    "# Adding costs and liter values\n",
    "df_final = pd.DataFrame(df)\n",
    "df_final['Liter'] = df_final['consume'] * df_final['distance']"
   ]
  },
  {
   "cell_type": "code",
   "execution_count": null,
   "id": "8fa79aa6",
   "metadata": {},
   "outputs": [],
   "source": [
    "# Defining values by gas type\n",
    "gas_ratio = {\n",
    "    'E10': 1.38,\n",
    "    'SP98': 1.46\n",
    "}"
   ]
  },
  {
   "cell_type": "code",
   "execution_count": null,
   "id": "2e9f670b",
   "metadata": {},
   "outputs": [],
   "source": [
    "def apply_multiplier(row):\n",
    "    return row['Liter'] * gas_ratio.get(row['gas_type'], 1)"
   ]
  },
  {
   "cell_type": "code",
   "execution_count": null,
   "id": "d5ff71d5",
   "metadata": {},
   "outputs": [],
   "source": [
    "# Applying the function\n",
    "df_final['Cost by Type of Gas'] = df_final.apply(apply_multiplier, axis=1)\n",
    "\n",
    "df_final.to_csv(\"gas_analysis_cost.csv\", index=False)\n",
    "\n",
    "filtered_df = df_final[(df_final['distance'] == 28)]"
   ]
  },
  {
   "cell_type": "code",
   "execution_count": null,
   "id": "6fcdbae9",
   "metadata": {},
   "outputs": [],
   "source": [
    "# Preparing for modeling ## This is a regression model\n",
    "numerical_df = df.select_dtypes(include=[np.number])\n",
    "categorical_df = df.select_dtypes(include=['object'])\n",
    "\n",
    "numerical_df = numerical_df.reset_index(drop=True)"
   ]
  },
  {
   "cell_type": "code",
   "execution_count": null,
   "id": "5479dec1",
   "metadata": {},
   "outputs": [],
   "source": [
    "# Checking for correlation\n",
    "corr = numerical_df.loc[:,['distance', 'speed', 'temp_inside', \"temp_outside\"]].corr()\n",
    "matrix = np.triu(corr)\n",
    "np.fill_diagonal(matrix, False)\n",
    "sns.heatmap(corr, annot=True, mask=matrix)"
   ]
  },
  {
   "cell_type": "markdown",
   "id": "26f6fcd5",
   "metadata": {},
   "source": [
    "## There's no high correlation between features"
   ]
  },
  {
   "cell_type": "code",
   "execution_count": null,
   "id": "9ababc7b",
   "metadata": {},
   "outputs": [],
   "source": [
    "# Categorical data encoding\n",
    "dummy_nominals = [\"gas_type\"]\n",
    "categorical_df = pd.get_dummies(categorical_df, columns=dummy_nominals)\n",
    "\n",
    "df_model = pd.concat([numerical_df, categorical_df], axis=1)\n",
    "\n",
    "df_model.to_csv(\"analysis_best_gas.csv\", index=False)"
   ]
  },
  {
   "cell_type": "code",
   "execution_count": null,
   "id": "356e1d68",
   "metadata": {},
   "outputs": [],
   "source": [
    "# X/Y Train-Test Split\n",
    "X = df_model[['distance', 'speed', 'temp_inside', 'temp_outside', 'AC',\n",
    "              'rain', 'sun', 'gas_type_E10', 'gas_type_SP98']]\n",
    "y = df_model['consume']\n",
    "\n",
    "X_train, X_test, y_train, y_test = train_test_split(X, y, test_size=0.3, random_state=42)"
   ]
  },
  {
   "cell_type": "code",
   "execution_count": null,
   "id": "7e989fd7",
   "metadata": {},
   "outputs": [],
   "source": [
    "# Scaling\n",
    "scaler = MinMaxScaler()\n",
    "scaler.fit(X_train)\n",
    "X_scaler_train = scaler.transform(X_train)\n",
    "X_scaler_test = scaler.transform(X_test)\n",
    "\n",
    "model_lr = LinearRegression()\n",
    "model_lr.fit(X_scaler_train, y_train)\n",
    "\n",
    "y_predictive = model_lr.predict(X_scaler_test)\n",
    "\n",
    "mse = mean_squared_error(y_test, y_predictive)\n",
    "r2 = r2_score(y_test, y_predictive)\n",
    "\n",
    "coefficients = model_lr.coef_\n",
    "\n",
    "a = {\n",
    "    \"independent variables\": ['distance', 'speed', 'temp_inside', 'temp_outside', 'AC',\n",
    "                              'rain', 'sun', 'gas_type_E10', 'gas_type_SP98'],\n",
    "    'coefficients': coefficients\n",
    "}\n",
    "\n",
    "coefficients_analysis = pd.DataFrame(a)\n",
    "\n",
    "df_orden_importances = coefficients_analysis.sort_values(by='coefficients', ascending=False)\n",
    "\n",
    "plt.figure(figsize=(10, 8))\n",
    "sns.barplot(x='coefficients', y='independent variables', data=df_orden_importances)\n",
    "plt.xlabel('coefficients')\n",
    "plt.ylabel('Independent Variables')\n",
    "plt.title('Importance of variables in the model')\n",
    "plt.show()"
   ]
  },
  {
   "cell_type": "code",
   "execution_count": null,
   "id": "e10373af",
   "metadata": {},
   "outputs": [],
   "source": [
    "# Take user input and predict consumption\n",
    "distance = int(input(\"Enter distance: \"))\n",
    "rain = int(input(\"Is the day going to be rainy? (1 for yes, 0 for no): \"))\n",
    "sun = int(input(\"Is the day going to be sunny? (1 for yes, 0 for no): \"))\n",
    "speed = int(input(\"What is the speed?: \"))\n",
    "ac = int(input(\"Are you using air-conditioning? (1 for yes, 0 for no): \"))\n",
    "e10 = int(input(\"Are you using E10? (1 for yes, 0 for no): \"))\n",
    "sp98 = int(input(\"Are you using SP98? (1 for yes, 0 for no): \"))\n",
    "temp_inside = int(input(\"What was the temperature inside the car?: \"))\n",
    "temp_outside = int(input(\"What was the temperature outside the car?: \"))"
   ]
  },
  {
   "cell_type": "code",
   "execution_count": null,
   "id": "08dd3c1b",
   "metadata": {},
   "outputs": [],
   "source": [
    "# Create a DataFrame with the correct order of columns\n",
    "X_example = pd.DataFrame({\n",
    "    \"distance\": [distance],\n",
    "    \"speed\": [speed],\n",
    "    \"temp_inside\": [temp_inside],\n",
    "    \"temp_outside\": [temp_outside],\n",
    "    \"AC\": [ac],\n",
    "    \"rain\": [rain],\n",
    "    \"sun\": [sun],\n",
    "    \"gas_type_E10\": [e10],\n",
    "    \"gas_type_SP98\": [sp98]\n",
    "})"
   ]
  },
  {
   "cell_type": "code",
   "execution_count": null,
   "id": "e9bd1e5c",
   "metadata": {},
   "outputs": [],
   "source": [
    "# Transform the input data using the fitted scaler\n",
    "X_example_scaled = scaler.transform(X_example)"
   ]
  },
  {
   "cell_type": "code",
   "execution_count": null,
   "id": "0f7b0928",
   "metadata": {},
   "outputs": [],
   "source": [
    "# Make the prediction\n",
    "y_example = model_lr.predict(X_example_scaled)\n",
    "\n",
    "print(\"Consume:\", int(y_example))"
   ]
  },
  {
   "cell_type": "code",
   "execution_count": null,
   "id": "97f60d4a",
   "metadata": {},
   "outputs": [],
   "source": []
  }
 ],
 "metadata": {
  "kernelspec": {
   "display_name": "Python 3 (ipykernel)",
   "language": "python",
   "name": "python3"
  },
  "language_info": {
   "codemirror_mode": {
    "name": "ipython",
    "version": 3
   },
   "file_extension": ".py",
   "mimetype": "text/x-python",
   "name": "python",
   "nbconvert_exporter": "python",
   "pygments_lexer": "ipython3",
   "version": "3.10.9"
  }
 },
 "nbformat": 4,
 "nbformat_minor": 5
}
