{
 "cells": [
  {
   "cell_type": "code",
   "execution_count": 171,
   "id": "6b49dd4a",
   "metadata": {},
   "outputs": [],
   "source": [
    "import pandas as pd\n",
    "import numpy as np\n",
    "import matplotlib.pyplot as plt\n",
    "import plotly.express as px\n",
    "import seaborn as sns"
   ]
  },
  {
   "cell_type": "code",
   "execution_count": 172,
   "id": "ecae51bf",
   "metadata": {},
   "outputs": [
    {
     "data": {
      "text/html": [
       "<div>\n",
       "<style scoped>\n",
       "    .dataframe tbody tr th:only-of-type {\n",
       "        vertical-align: middle;\n",
       "    }\n",
       "\n",
       "    .dataframe tbody tr th {\n",
       "        vertical-align: top;\n",
       "    }\n",
       "\n",
       "    .dataframe thead th {\n",
       "        text-align: right;\n",
       "    }\n",
       "</style>\n",
       "<table border=\"1\" class=\"dataframe\">\n",
       "  <thead>\n",
       "    <tr style=\"text-align: right;\">\n",
       "      <th></th>\n",
       "      <th>distance</th>\n",
       "      <th>consume</th>\n",
       "      <th>speed</th>\n",
       "      <th>temp_inside</th>\n",
       "      <th>temp_outside</th>\n",
       "      <th>specials</th>\n",
       "      <th>gas_type</th>\n",
       "      <th>AC</th>\n",
       "      <th>rain</th>\n",
       "      <th>sun</th>\n",
       "      <th>refill liters</th>\n",
       "      <th>refill gas</th>\n",
       "    </tr>\n",
       "  </thead>\n",
       "  <tbody>\n",
       "    <tr>\n",
       "      <th>0</th>\n",
       "      <td>28</td>\n",
       "      <td>5</td>\n",
       "      <td>26</td>\n",
       "      <td>21,5</td>\n",
       "      <td>12</td>\n",
       "      <td>NaN</td>\n",
       "      <td>E10</td>\n",
       "      <td>0</td>\n",
       "      <td>0</td>\n",
       "      <td>0</td>\n",
       "      <td>45</td>\n",
       "      <td>E10</td>\n",
       "    </tr>\n",
       "    <tr>\n",
       "      <th>1</th>\n",
       "      <td>12</td>\n",
       "      <td>4,2</td>\n",
       "      <td>30</td>\n",
       "      <td>21,5</td>\n",
       "      <td>13</td>\n",
       "      <td>NaN</td>\n",
       "      <td>E10</td>\n",
       "      <td>0</td>\n",
       "      <td>0</td>\n",
       "      <td>0</td>\n",
       "      <td>NaN</td>\n",
       "      <td>NaN</td>\n",
       "    </tr>\n",
       "    <tr>\n",
       "      <th>2</th>\n",
       "      <td>11,2</td>\n",
       "      <td>5,5</td>\n",
       "      <td>38</td>\n",
       "      <td>21,5</td>\n",
       "      <td>15</td>\n",
       "      <td>NaN</td>\n",
       "      <td>E10</td>\n",
       "      <td>0</td>\n",
       "      <td>0</td>\n",
       "      <td>0</td>\n",
       "      <td>NaN</td>\n",
       "      <td>NaN</td>\n",
       "    </tr>\n",
       "    <tr>\n",
       "      <th>3</th>\n",
       "      <td>12,9</td>\n",
       "      <td>3,9</td>\n",
       "      <td>36</td>\n",
       "      <td>21,5</td>\n",
       "      <td>14</td>\n",
       "      <td>NaN</td>\n",
       "      <td>E10</td>\n",
       "      <td>0</td>\n",
       "      <td>0</td>\n",
       "      <td>0</td>\n",
       "      <td>NaN</td>\n",
       "      <td>NaN</td>\n",
       "    </tr>\n",
       "    <tr>\n",
       "      <th>4</th>\n",
       "      <td>18,5</td>\n",
       "      <td>4,5</td>\n",
       "      <td>46</td>\n",
       "      <td>21,5</td>\n",
       "      <td>15</td>\n",
       "      <td>NaN</td>\n",
       "      <td>E10</td>\n",
       "      <td>0</td>\n",
       "      <td>0</td>\n",
       "      <td>0</td>\n",
       "      <td>NaN</td>\n",
       "      <td>NaN</td>\n",
       "    </tr>\n",
       "    <tr>\n",
       "      <th>5</th>\n",
       "      <td>8,3</td>\n",
       "      <td>6,4</td>\n",
       "      <td>50</td>\n",
       "      <td>21,5</td>\n",
       "      <td>10</td>\n",
       "      <td>NaN</td>\n",
       "      <td>E10</td>\n",
       "      <td>0</td>\n",
       "      <td>0</td>\n",
       "      <td>0</td>\n",
       "      <td>NaN</td>\n",
       "      <td>NaN</td>\n",
       "    </tr>\n",
       "    <tr>\n",
       "      <th>6</th>\n",
       "      <td>7,8</td>\n",
       "      <td>4,4</td>\n",
       "      <td>43</td>\n",
       "      <td>21,5</td>\n",
       "      <td>11</td>\n",
       "      <td>NaN</td>\n",
       "      <td>E10</td>\n",
       "      <td>0</td>\n",
       "      <td>0</td>\n",
       "      <td>0</td>\n",
       "      <td>NaN</td>\n",
       "      <td>NaN</td>\n",
       "    </tr>\n",
       "    <tr>\n",
       "      <th>7</th>\n",
       "      <td>12,3</td>\n",
       "      <td>5</td>\n",
       "      <td>40</td>\n",
       "      <td>21,5</td>\n",
       "      <td>6</td>\n",
       "      <td>NaN</td>\n",
       "      <td>E10</td>\n",
       "      <td>0</td>\n",
       "      <td>0</td>\n",
       "      <td>0</td>\n",
       "      <td>NaN</td>\n",
       "      <td>NaN</td>\n",
       "    </tr>\n",
       "    <tr>\n",
       "      <th>8</th>\n",
       "      <td>4,9</td>\n",
       "      <td>6,4</td>\n",
       "      <td>26</td>\n",
       "      <td>21,5</td>\n",
       "      <td>4</td>\n",
       "      <td>NaN</td>\n",
       "      <td>E10</td>\n",
       "      <td>0</td>\n",
       "      <td>0</td>\n",
       "      <td>0</td>\n",
       "      <td>NaN</td>\n",
       "      <td>NaN</td>\n",
       "    </tr>\n",
       "    <tr>\n",
       "      <th>9</th>\n",
       "      <td>11,9</td>\n",
       "      <td>5,3</td>\n",
       "      <td>30</td>\n",
       "      <td>21,5</td>\n",
       "      <td>9</td>\n",
       "      <td>NaN</td>\n",
       "      <td>E10</td>\n",
       "      <td>0</td>\n",
       "      <td>0</td>\n",
       "      <td>0</td>\n",
       "      <td>NaN</td>\n",
       "      <td>NaN</td>\n",
       "    </tr>\n",
       "  </tbody>\n",
       "</table>\n",
       "</div>"
      ],
      "text/plain": [
       "  distance consume  speed temp_inside  temp_outside specials gas_type  AC  \\\n",
       "0       28       5     26        21,5            12      NaN      E10   0   \n",
       "1       12     4,2     30        21,5            13      NaN      E10   0   \n",
       "2     11,2     5,5     38        21,5            15      NaN      E10   0   \n",
       "3     12,9     3,9     36        21,5            14      NaN      E10   0   \n",
       "4     18,5     4,5     46        21,5            15      NaN      E10   0   \n",
       "5      8,3     6,4     50        21,5            10      NaN      E10   0   \n",
       "6      7,8     4,4     43        21,5            11      NaN      E10   0   \n",
       "7     12,3       5     40        21,5             6      NaN      E10   0   \n",
       "8      4,9     6,4     26        21,5             4      NaN      E10   0   \n",
       "9     11,9     5,3     30        21,5             9      NaN      E10   0   \n",
       "\n",
       "   rain  sun refill liters refill gas  \n",
       "0     0    0            45        E10  \n",
       "1     0    0           NaN        NaN  \n",
       "2     0    0           NaN        NaN  \n",
       "3     0    0           NaN        NaN  \n",
       "4     0    0           NaN        NaN  \n",
       "5     0    0           NaN        NaN  \n",
       "6     0    0           NaN        NaN  \n",
       "7     0    0           NaN        NaN  \n",
       "8     0    0           NaN        NaN  \n",
       "9     0    0           NaN        NaN  "
      ]
     },
     "execution_count": 172,
     "metadata": {},
     "output_type": "execute_result"
    }
   ],
   "source": [
    "url = r\"C:\\Users\\javierheras\\Desktop\\Tech challengue\\technical_challenge_DA\\data\\measurements.csv\"\n",
    "measures = pd.read_csv(url,sep=',')\n",
    "measures.head(10)"
   ]
  },
  {
   "cell_type": "code",
   "execution_count": 173,
   "id": "68fb877f",
   "metadata": {},
   "outputs": [
    {
     "data": {
      "text/plain": [
       "(388, 12)"
      ]
     },
     "execution_count": 173,
     "metadata": {},
     "output_type": "execute_result"
    }
   ],
   "source": [
    "measures.shape"
   ]
  },
  {
   "cell_type": "code",
   "execution_count": 174,
   "id": "563e7f3e",
   "metadata": {},
   "outputs": [
    {
     "data": {
      "text/plain": [
       "distance           0\n",
       "consume            0\n",
       "speed              0\n",
       "temp_inside       12\n",
       "temp_outside       0\n",
       "specials         295\n",
       "gas_type           0\n",
       "AC                 0\n",
       "rain               0\n",
       "sun                0\n",
       "refill liters    375\n",
       "refill gas       375\n",
       "dtype: int64"
      ]
     },
     "execution_count": 174,
     "metadata": {},
     "output_type": "execute_result"
    }
   ],
   "source": [
    "#there are three columns with a lot of empty data so we will analyze if they are relevant and if not we will eliminate them.\n",
    "measures.isnull().sum()"
   ]
  },
  {
   "cell_type": "code",
   "execution_count": 175,
   "id": "dd8ef0b6",
   "metadata": {},
   "outputs": [
    {
     "data": {
      "text/plain": [
       "SP98    228\n",
       "E10     160\n",
       "Name: gas_type, dtype: int64"
      ]
     },
     "execution_count": 175,
     "metadata": {},
     "output_type": "execute_result"
    }
   ],
   "source": [
    "measures['gas_type'].value_counts()"
   ]
  },
  {
   "cell_type": "code",
   "execution_count": 176,
   "id": "55108360",
   "metadata": {},
   "outputs": [
    {
     "data": {
      "text/plain": [
       "rain                  32\n",
       "sun                   27\n",
       "AC rain                9\n",
       "ac                     8\n",
       "AC                     6\n",
       "snow                   3\n",
       "sun ac                 3\n",
       "AC snow                1\n",
       "half rain half sun     1\n",
       "AC sun                 1\n",
       "AC Sun                 1\n",
       "ac rain                1\n",
       "Name: specials, dtype: int64"
      ]
     },
     "execution_count": 176,
     "metadata": {},
     "output_type": "execute_result"
    }
   ],
   "source": [
    "measures['specials'].value_counts()"
   ]
  },
  {
   "cell_type": "code",
   "execution_count": 177,
   "id": "baf8ece9",
   "metadata": {},
   "outputs": [
    {
     "data": {
      "text/plain": [
       "0    358\n",
       "1     30\n",
       "Name: AC, dtype: int64"
      ]
     },
     "execution_count": 177,
     "metadata": {},
     "output_type": "execute_result"
    }
   ],
   "source": [
    "measures['AC'].value_counts()"
   ]
  },
  {
   "cell_type": "code",
   "execution_count": 178,
   "id": "a4118af1",
   "metadata": {},
   "outputs": [
    {
     "data": {
      "text/plain": [
       "0    340\n",
       "1     48\n",
       "Name: rain, dtype: int64"
      ]
     },
     "execution_count": 178,
     "metadata": {},
     "output_type": "execute_result"
    }
   ],
   "source": [
    "measures['rain'].value_counts()"
   ]
  },
  {
   "cell_type": "code",
   "execution_count": 179,
   "id": "72769534",
   "metadata": {},
   "outputs": [
    {
     "data": {
      "text/plain": [
       "0    356\n",
       "1     32\n",
       "Name: sun, dtype: int64"
      ]
     },
     "execution_count": 179,
     "metadata": {},
     "output_type": "execute_result"
    }
   ],
   "source": [
    "measures['sun'].value_counts()"
   ]
  },
  {
   "cell_type": "code",
   "execution_count": null,
   "id": "8127bd9b",
   "metadata": {},
   "outputs": [],
   "source": []
  },
  {
   "cell_type": "code",
   "execution_count": 180,
   "id": "db0baba7",
   "metadata": {},
   "outputs": [
    {
     "data": {
      "text/plain": [
       "distance         object\n",
       "consume          object\n",
       "speed             int64\n",
       "temp_inside      object\n",
       "temp_outside      int64\n",
       "specials         object\n",
       "gas_type         object\n",
       "AC                int64\n",
       "rain              int64\n",
       "sun               int64\n",
       "refill liters    object\n",
       "refill gas       object\n",
       "dtype: object"
      ]
     },
     "execution_count": 180,
     "metadata": {},
     "output_type": "execute_result"
    }
   ],
   "source": [
    "measures.dtypes"
   ]
  },
  {
   "cell_type": "code",
   "execution_count": 181,
   "id": "4d358afe",
   "metadata": {},
   "outputs": [
    {
     "data": {
      "text/html": [
       "<div>\n",
       "<style scoped>\n",
       "    .dataframe tbody tr th:only-of-type {\n",
       "        vertical-align: middle;\n",
       "    }\n",
       "\n",
       "    .dataframe tbody tr th {\n",
       "        vertical-align: top;\n",
       "    }\n",
       "\n",
       "    .dataframe thead th {\n",
       "        text-align: right;\n",
       "    }\n",
       "</style>\n",
       "<table border=\"1\" class=\"dataframe\">\n",
       "  <thead>\n",
       "    <tr style=\"text-align: right;\">\n",
       "      <th></th>\n",
       "      <th>speed</th>\n",
       "      <th>temp_outside</th>\n",
       "      <th>AC</th>\n",
       "      <th>rain</th>\n",
       "      <th>sun</th>\n",
       "    </tr>\n",
       "  </thead>\n",
       "  <tbody>\n",
       "    <tr>\n",
       "      <th>count</th>\n",
       "      <td>388.000000</td>\n",
       "      <td>388.000000</td>\n",
       "      <td>388.000000</td>\n",
       "      <td>388.000000</td>\n",
       "      <td>388.000000</td>\n",
       "    </tr>\n",
       "    <tr>\n",
       "      <th>mean</th>\n",
       "      <td>41.927835</td>\n",
       "      <td>11.358247</td>\n",
       "      <td>0.077320</td>\n",
       "      <td>0.123711</td>\n",
       "      <td>0.082474</td>\n",
       "    </tr>\n",
       "    <tr>\n",
       "      <th>std</th>\n",
       "      <td>13.598524</td>\n",
       "      <td>6.991542</td>\n",
       "      <td>0.267443</td>\n",
       "      <td>0.329677</td>\n",
       "      <td>0.275441</td>\n",
       "    </tr>\n",
       "    <tr>\n",
       "      <th>min</th>\n",
       "      <td>14.000000</td>\n",
       "      <td>-5.000000</td>\n",
       "      <td>0.000000</td>\n",
       "      <td>0.000000</td>\n",
       "      <td>0.000000</td>\n",
       "    </tr>\n",
       "    <tr>\n",
       "      <th>25%</th>\n",
       "      <td>32.750000</td>\n",
       "      <td>7.000000</td>\n",
       "      <td>0.000000</td>\n",
       "      <td>0.000000</td>\n",
       "      <td>0.000000</td>\n",
       "    </tr>\n",
       "    <tr>\n",
       "      <th>50%</th>\n",
       "      <td>40.500000</td>\n",
       "      <td>10.000000</td>\n",
       "      <td>0.000000</td>\n",
       "      <td>0.000000</td>\n",
       "      <td>0.000000</td>\n",
       "    </tr>\n",
       "    <tr>\n",
       "      <th>75%</th>\n",
       "      <td>50.000000</td>\n",
       "      <td>16.000000</td>\n",
       "      <td>0.000000</td>\n",
       "      <td>0.000000</td>\n",
       "      <td>0.000000</td>\n",
       "    </tr>\n",
       "    <tr>\n",
       "      <th>max</th>\n",
       "      <td>90.000000</td>\n",
       "      <td>31.000000</td>\n",
       "      <td>1.000000</td>\n",
       "      <td>1.000000</td>\n",
       "      <td>1.000000</td>\n",
       "    </tr>\n",
       "  </tbody>\n",
       "</table>\n",
       "</div>"
      ],
      "text/plain": [
       "            speed  temp_outside          AC        rain         sun\n",
       "count  388.000000    388.000000  388.000000  388.000000  388.000000\n",
       "mean    41.927835     11.358247    0.077320    0.123711    0.082474\n",
       "std     13.598524      6.991542    0.267443    0.329677    0.275441\n",
       "min     14.000000     -5.000000    0.000000    0.000000    0.000000\n",
       "25%     32.750000      7.000000    0.000000    0.000000    0.000000\n",
       "50%     40.500000     10.000000    0.000000    0.000000    0.000000\n",
       "75%     50.000000     16.000000    0.000000    0.000000    0.000000\n",
       "max     90.000000     31.000000    1.000000    1.000000    1.000000"
      ]
     },
     "execution_count": 181,
     "metadata": {},
     "output_type": "execute_result"
    }
   ],
   "source": [
    "measures.describe()"
   ]
  },
  {
   "cell_type": "code",
   "execution_count": 182,
   "id": "d2d82fc1",
   "metadata": {},
   "outputs": [],
   "source": [
    "#We need to convert the data to numerical data in order to make accurate calculations.\n",
    "measures['distance'] = measures['distance'].str.replace(',','.').astype('float32')\n",
    "measures['consume'] = measures['consume'].str.replace(',','.').astype('float32')\n",
    "measures['temp_inside'] = measures['temp_inside'].str.replace(',','.').astype('float32')\n",
    "measures['refill liters'] = measures['refill liters'].str.replace(',','.').astype('float32')\n",
    "measures['specials'] = measures['specials'].str.lower()"
   ]
  },
  {
   "cell_type": "code",
   "execution_count": 183,
   "id": "e12cc3ed",
   "metadata": {},
   "outputs": [
    {
     "data": {
      "text/html": [
       "<div>\n",
       "<style scoped>\n",
       "    .dataframe tbody tr th:only-of-type {\n",
       "        vertical-align: middle;\n",
       "    }\n",
       "\n",
       "    .dataframe tbody tr th {\n",
       "        vertical-align: top;\n",
       "    }\n",
       "\n",
       "    .dataframe thead th {\n",
       "        text-align: right;\n",
       "    }\n",
       "</style>\n",
       "<table border=\"1\" class=\"dataframe\">\n",
       "  <thead>\n",
       "    <tr style=\"text-align: right;\">\n",
       "      <th></th>\n",
       "      <th>gas_type</th>\n",
       "      <th>consume</th>\n",
       "    </tr>\n",
       "  </thead>\n",
       "  <tbody>\n",
       "    <tr>\n",
       "      <th>0</th>\n",
       "      <td>E10</td>\n",
       "      <td>4.931250</td>\n",
       "    </tr>\n",
       "    <tr>\n",
       "      <th>1</th>\n",
       "      <td>SP98</td>\n",
       "      <td>4.899123</td>\n",
       "    </tr>\n",
       "  </tbody>\n",
       "</table>\n",
       "</div>"
      ],
      "text/plain": [
       "  gas_type   consume\n",
       "0      E10  4.931250\n",
       "1     SP98  4.899123"
      ]
     },
     "execution_count": 183,
     "metadata": {},
     "output_type": "execute_result"
    }
   ],
   "source": [
    "consume_gas = measures.groupby('gas_type').agg({'consume':'mean'}).reset_index()\n",
    "consume_gas"
   ]
  },
  {
   "cell_type": "code",
   "execution_count": 184,
   "id": "ddc1014c",
   "metadata": {},
   "outputs": [
    {
     "data": {
      "text/html": [
       "<div>\n",
       "<style scoped>\n",
       "    .dataframe tbody tr th:only-of-type {\n",
       "        vertical-align: middle;\n",
       "    }\n",
       "\n",
       "    .dataframe tbody tr th {\n",
       "        vertical-align: top;\n",
       "    }\n",
       "\n",
       "    .dataframe thead th {\n",
       "        text-align: right;\n",
       "    }\n",
       "</style>\n",
       "<table border=\"1\" class=\"dataframe\">\n",
       "  <thead>\n",
       "    <tr style=\"text-align: right;\">\n",
       "      <th></th>\n",
       "      <th>gas_type</th>\n",
       "      <th>consume</th>\n",
       "      <th>distance</th>\n",
       "      <th>speed</th>\n",
       "      <th>temp_inside</th>\n",
       "      <th>temp_outside</th>\n",
       "    </tr>\n",
       "  </thead>\n",
       "  <tbody>\n",
       "    <tr>\n",
       "      <th>0</th>\n",
       "      <td>E10</td>\n",
       "      <td>4.931250</td>\n",
       "      <td>21.096251</td>\n",
       "      <td>43.506250</td>\n",
       "      <td>21.917198</td>\n",
       "      <td>10.11875</td>\n",
       "    </tr>\n",
       "    <tr>\n",
       "      <th>1</th>\n",
       "      <td>SP98</td>\n",
       "      <td>4.899123</td>\n",
       "      <td>18.639912</td>\n",
       "      <td>40.820175</td>\n",
       "      <td>21.938356</td>\n",
       "      <td>12.22807</td>\n",
       "    </tr>\n",
       "  </tbody>\n",
       "</table>\n",
       "</div>"
      ],
      "text/plain": [
       "  gas_type   consume   distance      speed  temp_inside  temp_outside\n",
       "0      E10  4.931250  21.096251  43.506250    21.917198      10.11875\n",
       "1     SP98  4.899123  18.639912  40.820175    21.938356      12.22807"
      ]
     },
     "execution_count": 184,
     "metadata": {},
     "output_type": "execute_result"
    }
   ],
   "source": [
    "# there are no relevant differences in the means of the variables depending on the type of fuel oil.\n",
    "features = measures.groupby('gas_type').agg({'consume':'mean','distance':'mean','speed':'mean','temp_inside':'mean','temp_outside':'mean'}).reset_index()\n",
    "features"
   ]
  },
  {
   "cell_type": "code",
   "execution_count": 185,
   "id": "eeb29b3f",
   "metadata": {},
   "outputs": [
    {
     "data": {
      "text/html": [
       "<div>\n",
       "<style scoped>\n",
       "    .dataframe tbody tr th:only-of-type {\n",
       "        vertical-align: middle;\n",
       "    }\n",
       "\n",
       "    .dataframe tbody tr th {\n",
       "        vertical-align: top;\n",
       "    }\n",
       "\n",
       "    .dataframe thead th {\n",
       "        text-align: right;\n",
       "    }\n",
       "</style>\n",
       "<table border=\"1\" class=\"dataframe\">\n",
       "  <thead>\n",
       "    <tr style=\"text-align: right;\">\n",
       "      <th></th>\n",
       "      <th>gas_type</th>\n",
       "      <th>AC</th>\n",
       "      <th>consume</th>\n",
       "      <th>distance</th>\n",
       "      <th>speed</th>\n",
       "      <th>temp_inside</th>\n",
       "      <th>temp_outside</th>\n",
       "    </tr>\n",
       "  </thead>\n",
       "  <tbody>\n",
       "    <tr>\n",
       "      <th>0</th>\n",
       "      <td>E10</td>\n",
       "      <td>0</td>\n",
       "      <td>4.922876</td>\n",
       "      <td>20.898039</td>\n",
       "      <td>43.130719</td>\n",
       "      <td>21.873333</td>\n",
       "      <td>10.052288</td>\n",
       "    </tr>\n",
       "    <tr>\n",
       "      <th>1</th>\n",
       "      <td>E10</td>\n",
       "      <td>1</td>\n",
       "      <td>5.114286</td>\n",
       "      <td>25.428572</td>\n",
       "      <td>51.714286</td>\n",
       "      <td>22.857143</td>\n",
       "      <td>11.571429</td>\n",
       "    </tr>\n",
       "    <tr>\n",
       "      <th>2</th>\n",
       "      <td>SP98</td>\n",
       "      <td>0</td>\n",
       "      <td>4.854146</td>\n",
       "      <td>19.018049</td>\n",
       "      <td>41.273171</td>\n",
       "      <td>21.816326</td>\n",
       "      <td>11.741463</td>\n",
       "    </tr>\n",
       "    <tr>\n",
       "      <th>3</th>\n",
       "      <td>SP98</td>\n",
       "      <td>1</td>\n",
       "      <td>5.300000</td>\n",
       "      <td>15.269566</td>\n",
       "      <td>36.782609</td>\n",
       "      <td>22.978260</td>\n",
       "      <td>16.565217</td>\n",
       "    </tr>\n",
       "  </tbody>\n",
       "</table>\n",
       "</div>"
      ],
      "text/plain": [
       "  gas_type  AC   consume   distance      speed  temp_inside  temp_outside\n",
       "0      E10   0  4.922876  20.898039  43.130719    21.873333     10.052288\n",
       "1      E10   1  5.114286  25.428572  51.714286    22.857143     11.571429\n",
       "2     SP98   0  4.854146  19.018049  41.273171    21.816326     11.741463\n",
       "3     SP98   1  5.300000  15.269566  36.782609    22.978260     16.565217"
      ]
     },
     "execution_count": 185,
     "metadata": {},
     "output_type": "execute_result"
    }
   ],
   "source": [
    "# If we see that the use of air conditioning is relevant in consumption, so it may be a variable to look at.\n",
    "features1 = measures.groupby(['gas_type','AC']).agg({'consume':'mean','distance':'mean','speed':'mean','temp_inside':'mean','temp_outside':'mean'}).reset_index()\n",
    "features1"
   ]
  },
  {
   "cell_type": "code",
   "execution_count": 186,
   "id": "2220cbc2",
   "metadata": {},
   "outputs": [
    {
     "data": {
      "text/html": [
       "<div>\n",
       "<style scoped>\n",
       "    .dataframe tbody tr th:only-of-type {\n",
       "        vertical-align: middle;\n",
       "    }\n",
       "\n",
       "    .dataframe tbody tr th {\n",
       "        vertical-align: top;\n",
       "    }\n",
       "\n",
       "    .dataframe thead th {\n",
       "        text-align: right;\n",
       "    }\n",
       "</style>\n",
       "<table border=\"1\" class=\"dataframe\">\n",
       "  <thead>\n",
       "    <tr style=\"text-align: right;\">\n",
       "      <th></th>\n",
       "      <th>gas_type</th>\n",
       "      <th>sun</th>\n",
       "      <th>consume</th>\n",
       "      <th>distance</th>\n",
       "      <th>speed</th>\n",
       "      <th>temp_inside</th>\n",
       "      <th>temp_outside</th>\n",
       "    </tr>\n",
       "  </thead>\n",
       "  <tbody>\n",
       "    <tr>\n",
       "      <th>0</th>\n",
       "      <td>E10</td>\n",
       "      <td>0</td>\n",
       "      <td>4.972297</td>\n",
       "      <td>20.938513</td>\n",
       "      <td>42.993243</td>\n",
       "      <td>21.856165</td>\n",
       "      <td>9.689189</td>\n",
       "    </tr>\n",
       "    <tr>\n",
       "      <th>1</th>\n",
       "      <td>E10</td>\n",
       "      <td>1</td>\n",
       "      <td>4.425000</td>\n",
       "      <td>23.041666</td>\n",
       "      <td>49.833333</td>\n",
       "      <td>22.727272</td>\n",
       "      <td>15.416667</td>\n",
       "    </tr>\n",
       "    <tr>\n",
       "      <th>2</th>\n",
       "      <td>SP98</td>\n",
       "      <td>0</td>\n",
       "      <td>4.960096</td>\n",
       "      <td>17.795673</td>\n",
       "      <td>40.600962</td>\n",
       "      <td>21.854271</td>\n",
       "      <td>11.302885</td>\n",
       "    </tr>\n",
       "    <tr>\n",
       "      <th>3</th>\n",
       "      <td>SP98</td>\n",
       "      <td>1</td>\n",
       "      <td>4.265000</td>\n",
       "      <td>27.420000</td>\n",
       "      <td>43.100000</td>\n",
       "      <td>22.775000</td>\n",
       "      <td>21.850000</td>\n",
       "    </tr>\n",
       "  </tbody>\n",
       "</table>\n",
       "</div>"
      ],
      "text/plain": [
       "  gas_type  sun   consume   distance      speed  temp_inside  temp_outside\n",
       "0      E10    0  4.972297  20.938513  42.993243    21.856165      9.689189\n",
       "1      E10    1  4.425000  23.041666  49.833333    22.727272     15.416667\n",
       "2     SP98    0  4.960096  17.795673  40.600962    21.854271     11.302885\n",
       "3     SP98    1  4.265000  27.420000  43.100000    22.775000     21.850000"
      ]
     },
     "execution_count": 186,
     "metadata": {},
     "output_type": "execute_result"
    }
   ],
   "source": [
    "# Whether the day is sunny or not influences the temperature, which is also relevant for consumption.\n",
    "features2 = measures.groupby(['gas_type','sun']).agg({'consume':'mean','distance':'mean','speed':'mean','temp_inside':'mean','temp_outside':'mean'}).reset_index()\n",
    "features2"
   ]
  },
  {
   "cell_type": "code",
   "execution_count": 187,
   "id": "4fc445b6",
   "metadata": {},
   "outputs": [
    {
     "data": {
      "text/html": [
       "<div>\n",
       "<style scoped>\n",
       "    .dataframe tbody tr th:only-of-type {\n",
       "        vertical-align: middle;\n",
       "    }\n",
       "\n",
       "    .dataframe tbody tr th {\n",
       "        vertical-align: top;\n",
       "    }\n",
       "\n",
       "    .dataframe thead th {\n",
       "        text-align: right;\n",
       "    }\n",
       "</style>\n",
       "<table border=\"1\" class=\"dataframe\">\n",
       "  <thead>\n",
       "    <tr style=\"text-align: right;\">\n",
       "      <th></th>\n",
       "      <th>gas_type</th>\n",
       "      <th>rain</th>\n",
       "      <th>consume</th>\n",
       "      <th>distance</th>\n",
       "      <th>speed</th>\n",
       "      <th>temp_inside</th>\n",
       "      <th>temp_outside</th>\n",
       "    </tr>\n",
       "  </thead>\n",
       "  <tbody>\n",
       "    <tr>\n",
       "      <th>0</th>\n",
       "      <td>E10</td>\n",
       "      <td>0</td>\n",
       "      <td>4.856945</td>\n",
       "      <td>21.590973</td>\n",
       "      <td>43.513889</td>\n",
       "      <td>21.904255</td>\n",
       "      <td>10.326389</td>\n",
       "    </tr>\n",
       "    <tr>\n",
       "      <th>1</th>\n",
       "      <td>E10</td>\n",
       "      <td>1</td>\n",
       "      <td>5.600000</td>\n",
       "      <td>16.643749</td>\n",
       "      <td>43.437500</td>\n",
       "      <td>22.031250</td>\n",
       "      <td>8.250000</td>\n",
       "    </tr>\n",
       "    <tr>\n",
       "      <th>2</th>\n",
       "      <td>SP98</td>\n",
       "      <td>0</td>\n",
       "      <td>4.786224</td>\n",
       "      <td>18.520918</td>\n",
       "      <td>40.678571</td>\n",
       "      <td>21.973404</td>\n",
       "      <td>12.964286</td>\n",
       "    </tr>\n",
       "    <tr>\n",
       "      <th>3</th>\n",
       "      <td>SP98</td>\n",
       "      <td>1</td>\n",
       "      <td>5.590625</td>\n",
       "      <td>19.368750</td>\n",
       "      <td>41.687500</td>\n",
       "      <td>21.725807</td>\n",
       "      <td>7.718750</td>\n",
       "    </tr>\n",
       "  </tbody>\n",
       "</table>\n",
       "</div>"
      ],
      "text/plain": [
       "  gas_type  rain   consume   distance      speed  temp_inside  temp_outside\n",
       "0      E10     0  4.856945  21.590973  43.513889    21.904255     10.326389\n",
       "1      E10     1  5.600000  16.643749  43.437500    22.031250      8.250000\n",
       "2     SP98     0  4.786224  18.520918  40.678571    21.973404     12.964286\n",
       "3     SP98     1  5.590625  19.368750  41.687500    21.725807      7.718750"
      ]
     },
     "execution_count": 187,
     "metadata": {},
     "output_type": "execute_result"
    }
   ],
   "source": [
    "features3 = measures.groupby(['gas_type','rain']).agg({'consume':'mean','distance':'mean','speed':'mean','temp_inside':'mean','temp_outside':'mean'}).reset_index()\n",
    "features3"
   ]
  },
  {
   "cell_type": "code",
   "execution_count": 188,
   "id": "a66c4770",
   "metadata": {},
   "outputs": [],
   "source": [
    "measures = measures.drop(['specials'], axis=1)"
   ]
  },
  {
   "cell_type": "code",
   "execution_count": 189,
   "id": "8d3e7788",
   "metadata": {},
   "outputs": [],
   "source": [
    "measures = measures.drop(['refill liters'], axis=1)"
   ]
  },
  {
   "cell_type": "code",
   "execution_count": 190,
   "id": "041d1b74",
   "metadata": {},
   "outputs": [],
   "source": [
    "measures = measures.drop(['refill gas'], axis=1)"
   ]
  },
  {
   "cell_type": "code",
   "execution_count": 191,
   "id": "78cb4841",
   "metadata": {},
   "outputs": [
    {
     "data": {
      "image/png": "[encoded data removed]",
      "text/plain": [
       "<Figure size 640x480 with 2 Axes>"
      ]
     },
     "metadata": {},
     "output_type": "display_data"
    }
   ],
   "source": [
    "sns.heatmap(data=measures[['gas_type','consume','distance','speed','temp_inside','temp_outside']].corr(), \n",
    "            annot=True,cmap=\"vlag\", vmin=-1,vmax=1, center=0)\n",
    "plt.savefig('heatmap.png')"
   ]
  },
  {
   "cell_type": "code",
   "execution_count": 192,
   "id": "461bf4bd",
   "metadata": {},
   "outputs": [
    {
     "data": {
      "text/html": [
       "<div>\n",
       "<style scoped>\n",
       "    .dataframe tbody tr th:only-of-type {\n",
       "        vertical-align: middle;\n",
       "    }\n",
       "\n",
       "    .dataframe tbody tr th {\n",
       "        vertical-align: top;\n",
       "    }\n",
       "\n",
       "    .dataframe thead th {\n",
       "        text-align: right;\n",
       "    }\n",
       "</style>\n",
       "<table border=\"1\" class=\"dataframe\">\n",
       "  <thead>\n",
       "    <tr style=\"text-align: right;\">\n",
       "      <th></th>\n",
       "      <th>distance</th>\n",
       "      <th>consume</th>\n",
       "      <th>speed</th>\n",
       "      <th>temp_inside</th>\n",
       "      <th>temp_outside</th>\n",
       "      <th>gas_type</th>\n",
       "      <th>AC</th>\n",
       "      <th>rain</th>\n",
       "      <th>sun</th>\n",
       "    </tr>\n",
       "  </thead>\n",
       "  <tbody>\n",
       "    <tr>\n",
       "      <th>0</th>\n",
       "      <td>28.0</td>\n",
       "      <td>5.0</td>\n",
       "      <td>26</td>\n",
       "      <td>21.5</td>\n",
       "      <td>12</td>\n",
       "      <td>E10</td>\n",
       "      <td>0</td>\n",
       "      <td>0</td>\n",
       "      <td>0</td>\n",
       "    </tr>\n",
       "    <tr>\n",
       "      <th>1</th>\n",
       "      <td>12.0</td>\n",
       "      <td>4.2</td>\n",
       "      <td>30</td>\n",
       "      <td>21.5</td>\n",
       "      <td>13</td>\n",
       "      <td>E10</td>\n",
       "      <td>0</td>\n",
       "      <td>0</td>\n",
       "      <td>0</td>\n",
       "    </tr>\n",
       "    <tr>\n",
       "      <th>2</th>\n",
       "      <td>11.2</td>\n",
       "      <td>5.5</td>\n",
       "      <td>38</td>\n",
       "      <td>21.5</td>\n",
       "      <td>15</td>\n",
       "      <td>E10</td>\n",
       "      <td>0</td>\n",
       "      <td>0</td>\n",
       "      <td>0</td>\n",
       "    </tr>\n",
       "    <tr>\n",
       "      <th>3</th>\n",
       "      <td>12.9</td>\n",
       "      <td>3.9</td>\n",
       "      <td>36</td>\n",
       "      <td>21.5</td>\n",
       "      <td>14</td>\n",
       "      <td>E10</td>\n",
       "      <td>0</td>\n",
       "      <td>0</td>\n",
       "      <td>0</td>\n",
       "    </tr>\n",
       "    <tr>\n",
       "      <th>4</th>\n",
       "      <td>18.5</td>\n",
       "      <td>4.5</td>\n",
       "      <td>46</td>\n",
       "      <td>21.5</td>\n",
       "      <td>15</td>\n",
       "      <td>E10</td>\n",
       "      <td>0</td>\n",
       "      <td>0</td>\n",
       "      <td>0</td>\n",
       "    </tr>\n",
       "    <tr>\n",
       "      <th>...</th>\n",
       "      <td>...</td>\n",
       "      <td>...</td>\n",
       "      <td>...</td>\n",
       "      <td>...</td>\n",
       "      <td>...</td>\n",
       "      <td>...</td>\n",
       "      <td>...</td>\n",
       "      <td>...</td>\n",
       "      <td>...</td>\n",
       "    </tr>\n",
       "    <tr>\n",
       "      <th>383</th>\n",
       "      <td>16.0</td>\n",
       "      <td>3.7</td>\n",
       "      <td>39</td>\n",
       "      <td>24.5</td>\n",
       "      <td>18</td>\n",
       "      <td>SP98</td>\n",
       "      <td>0</td>\n",
       "      <td>0</td>\n",
       "      <td>0</td>\n",
       "    </tr>\n",
       "    <tr>\n",
       "      <th>384</th>\n",
       "      <td>16.1</td>\n",
       "      <td>4.3</td>\n",
       "      <td>38</td>\n",
       "      <td>25.0</td>\n",
       "      <td>31</td>\n",
       "      <td>SP98</td>\n",
       "      <td>1</td>\n",
       "      <td>0</td>\n",
       "      <td>0</td>\n",
       "    </tr>\n",
       "    <tr>\n",
       "      <th>385</th>\n",
       "      <td>16.0</td>\n",
       "      <td>3.8</td>\n",
       "      <td>45</td>\n",
       "      <td>25.0</td>\n",
       "      <td>19</td>\n",
       "      <td>SP98</td>\n",
       "      <td>0</td>\n",
       "      <td>0</td>\n",
       "      <td>0</td>\n",
       "    </tr>\n",
       "    <tr>\n",
       "      <th>386</th>\n",
       "      <td>15.4</td>\n",
       "      <td>4.6</td>\n",
       "      <td>42</td>\n",
       "      <td>25.0</td>\n",
       "      <td>31</td>\n",
       "      <td>SP98</td>\n",
       "      <td>1</td>\n",
       "      <td>0</td>\n",
       "      <td>0</td>\n",
       "    </tr>\n",
       "    <tr>\n",
       "      <th>387</th>\n",
       "      <td>14.7</td>\n",
       "      <td>5.0</td>\n",
       "      <td>25</td>\n",
       "      <td>25.0</td>\n",
       "      <td>30</td>\n",
       "      <td>SP98</td>\n",
       "      <td>1</td>\n",
       "      <td>0</td>\n",
       "      <td>0</td>\n",
       "    </tr>\n",
       "  </tbody>\n",
       "</table>\n",
       "<p>388 rows × 9 columns</p>\n",
       "</div>"
      ],
      "text/plain": [
       "     distance  consume  speed  temp_inside  temp_outside gas_type  AC  rain  \\\n",
       "0        28.0      5.0     26         21.5            12      E10   0     0   \n",
       "1        12.0      4.2     30         21.5            13      E10   0     0   \n",
       "2        11.2      5.5     38         21.5            15      E10   0     0   \n",
       "3        12.9      3.9     36         21.5            14      E10   0     0   \n",
       "4        18.5      4.5     46         21.5            15      E10   0     0   \n",
       "..        ...      ...    ...          ...           ...      ...  ..   ...   \n",
       "383      16.0      3.7     39         24.5            18     SP98   0     0   \n",
       "384      16.1      4.3     38         25.0            31     SP98   1     0   \n",
       "385      16.0      3.8     45         25.0            19     SP98   0     0   \n",
       "386      15.4      4.6     42         25.0            31     SP98   1     0   \n",
       "387      14.7      5.0     25         25.0            30     SP98   1     0   \n",
       "\n",
       "     sun  \n",
       "0      0  \n",
       "1      0  \n",
       "2      0  \n",
       "3      0  \n",
       "4      0  \n",
       "..   ...  \n",
       "383    0  \n",
       "384    0  \n",
       "385    0  \n",
       "386    0  \n",
       "387    0  \n",
       "\n",
       "[388 rows x 9 columns]"
      ]
     },
     "execution_count": 192,
     "metadata": {},
     "output_type": "execute_result"
    }
   ],
   "source": [
    "measures"
   ]
  },
  {
   "cell_type": "code",
   "execution_count": 193,
   "id": "c476a19e",
   "metadata": {},
   "outputs": [],
   "source": [
    "measures['fuel'] = measures['gas_type'].replace({'E10':0,'SP98':1})"
   ]
  },
  {
   "cell_type": "code",
   "execution_count": 194,
   "id": "d735e3db",
   "metadata": {},
   "outputs": [],
   "source": [
    "measures = measures.drop(['gas_type'], axis=1)"
   ]
  },
  {
   "cell_type": "code",
   "execution_count": 195,
   "id": "6378ced9",
   "metadata": {},
   "outputs": [
    {
     "data": {
      "text/html": [
       "<div>\n",
       "<style scoped>\n",
       "    .dataframe tbody tr th:only-of-type {\n",
       "        vertical-align: middle;\n",
       "    }\n",
       "\n",
       "    .dataframe tbody tr th {\n",
       "        vertical-align: top;\n",
       "    }\n",
       "\n",
       "    .dataframe thead th {\n",
       "        text-align: right;\n",
       "    }\n",
       "</style>\n",
       "<table border=\"1\" class=\"dataframe\">\n",
       "  <thead>\n",
       "    <tr style=\"text-align: right;\">\n",
       "      <th></th>\n",
       "      <th>distance</th>\n",
       "      <th>consume</th>\n",
       "      <th>speed</th>\n",
       "      <th>temp_inside</th>\n",
       "      <th>temp_outside</th>\n",
       "      <th>AC</th>\n",
       "      <th>rain</th>\n",
       "      <th>sun</th>\n",
       "      <th>fuel</th>\n",
       "    </tr>\n",
       "  </thead>\n",
       "  <tbody>\n",
       "    <tr>\n",
       "      <th>0</th>\n",
       "      <td>28.0</td>\n",
       "      <td>5.0</td>\n",
       "      <td>26</td>\n",
       "      <td>21.5</td>\n",
       "      <td>12</td>\n",
       "      <td>0</td>\n",
       "      <td>0</td>\n",
       "      <td>0</td>\n",
       "      <td>0</td>\n",
       "    </tr>\n",
       "    <tr>\n",
       "      <th>1</th>\n",
       "      <td>12.0</td>\n",
       "      <td>4.2</td>\n",
       "      <td>30</td>\n",
       "      <td>21.5</td>\n",
       "      <td>13</td>\n",
       "      <td>0</td>\n",
       "      <td>0</td>\n",
       "      <td>0</td>\n",
       "      <td>0</td>\n",
       "    </tr>\n",
       "    <tr>\n",
       "      <th>2</th>\n",
       "      <td>11.2</td>\n",
       "      <td>5.5</td>\n",
       "      <td>38</td>\n",
       "      <td>21.5</td>\n",
       "      <td>15</td>\n",
       "      <td>0</td>\n",
       "      <td>0</td>\n",
       "      <td>0</td>\n",
       "      <td>0</td>\n",
       "    </tr>\n",
       "    <tr>\n",
       "      <th>3</th>\n",
       "      <td>12.9</td>\n",
       "      <td>3.9</td>\n",
       "      <td>36</td>\n",
       "      <td>21.5</td>\n",
       "      <td>14</td>\n",
       "      <td>0</td>\n",
       "      <td>0</td>\n",
       "      <td>0</td>\n",
       "      <td>0</td>\n",
       "    </tr>\n",
       "    <tr>\n",
       "      <th>4</th>\n",
       "      <td>18.5</td>\n",
       "      <td>4.5</td>\n",
       "      <td>46</td>\n",
       "      <td>21.5</td>\n",
       "      <td>15</td>\n",
       "      <td>0</td>\n",
       "      <td>0</td>\n",
       "      <td>0</td>\n",
       "      <td>0</td>\n",
       "    </tr>\n",
       "    <tr>\n",
       "      <th>...</th>\n",
       "      <td>...</td>\n",
       "      <td>...</td>\n",
       "      <td>...</td>\n",
       "      <td>...</td>\n",
       "      <td>...</td>\n",
       "      <td>...</td>\n",
       "      <td>...</td>\n",
       "      <td>...</td>\n",
       "      <td>...</td>\n",
       "    </tr>\n",
       "    <tr>\n",
       "      <th>383</th>\n",
       "      <td>16.0</td>\n",
       "      <td>3.7</td>\n",
       "      <td>39</td>\n",
       "      <td>24.5</td>\n",
       "      <td>18</td>\n",
       "      <td>0</td>\n",
       "      <td>0</td>\n",
       "      <td>0</td>\n",
       "      <td>1</td>\n",
       "    </tr>\n",
       "    <tr>\n",
       "      <th>384</th>\n",
       "      <td>16.1</td>\n",
       "      <td>4.3</td>\n",
       "      <td>38</td>\n",
       "      <td>25.0</td>\n",
       "      <td>31</td>\n",
       "      <td>1</td>\n",
       "      <td>0</td>\n",
       "      <td>0</td>\n",
       "      <td>1</td>\n",
       "    </tr>\n",
       "    <tr>\n",
       "      <th>385</th>\n",
       "      <td>16.0</td>\n",
       "      <td>3.8</td>\n",
       "      <td>45</td>\n",
       "      <td>25.0</td>\n",
       "      <td>19</td>\n",
       "      <td>0</td>\n",
       "      <td>0</td>\n",
       "      <td>0</td>\n",
       "      <td>1</td>\n",
       "    </tr>\n",
       "    <tr>\n",
       "      <th>386</th>\n",
       "      <td>15.4</td>\n",
       "      <td>4.6</td>\n",
       "      <td>42</td>\n",
       "      <td>25.0</td>\n",
       "      <td>31</td>\n",
       "      <td>1</td>\n",
       "      <td>0</td>\n",
       "      <td>0</td>\n",
       "      <td>1</td>\n",
       "    </tr>\n",
       "    <tr>\n",
       "      <th>387</th>\n",
       "      <td>14.7</td>\n",
       "      <td>5.0</td>\n",
       "      <td>25</td>\n",
       "      <td>25.0</td>\n",
       "      <td>30</td>\n",
       "      <td>1</td>\n",
       "      <td>0</td>\n",
       "      <td>0</td>\n",
       "      <td>1</td>\n",
       "    </tr>\n",
       "  </tbody>\n",
       "</table>\n",
       "<p>388 rows × 9 columns</p>\n",
       "</div>"
      ],
      "text/plain": [
       "     distance  consume  speed  temp_inside  temp_outside  AC  rain  sun  fuel\n",
       "0        28.0      5.0     26         21.5            12   0     0    0     0\n",
       "1        12.0      4.2     30         21.5            13   0     0    0     0\n",
       "2        11.2      5.5     38         21.5            15   0     0    0     0\n",
       "3        12.9      3.9     36         21.5            14   0     0    0     0\n",
       "4        18.5      4.5     46         21.5            15   0     0    0     0\n",
       "..        ...      ...    ...          ...           ...  ..   ...  ...   ...\n",
       "383      16.0      3.7     39         24.5            18   0     0    0     1\n",
       "384      16.1      4.3     38         25.0            31   1     0    0     1\n",
       "385      16.0      3.8     45         25.0            19   0     0    0     1\n",
       "386      15.4      4.6     42         25.0            31   1     0    0     1\n",
       "387      14.7      5.0     25         25.0            30   1     0    0     1\n",
       "\n",
       "[388 rows x 9 columns]"
      ]
     },
     "execution_count": 195,
     "metadata": {},
     "output_type": "execute_result"
    }
   ],
   "source": [
    "measures"
   ]
  },
  {
   "cell_type": "code",
   "execution_count": 196,
   "id": "85d01e7d",
   "metadata": {},
   "outputs": [
    {
     "data": {
      "text/plain": [
       "distance         0\n",
       "consume          0\n",
       "speed            0\n",
       "temp_inside     12\n",
       "temp_outside     0\n",
       "AC               0\n",
       "rain             0\n",
       "sun              0\n",
       "fuel             0\n",
       "dtype: int64"
      ]
     },
     "execution_count": 196,
     "metadata": {},
     "output_type": "execute_result"
    }
   ],
   "source": [
    "measures.isnull().sum()"
   ]
  },
  {
   "cell_type": "code",
   "execution_count": 197,
   "id": "891ff0d6",
   "metadata": {},
   "outputs": [],
   "source": [
    "measures = measures.dropna()"
   ]
  },
  {
   "cell_type": "code",
   "execution_count": 198,
   "id": "472b72b1",
   "metadata": {},
   "outputs": [
    {
     "data": {
      "text/plain": [
       "distance        0\n",
       "consume         0\n",
       "speed           0\n",
       "temp_inside     0\n",
       "temp_outside    0\n",
       "AC              0\n",
       "rain            0\n",
       "sun             0\n",
       "fuel            0\n",
       "dtype: int64"
      ]
     },
     "execution_count": 198,
     "metadata": {},
     "output_type": "execute_result"
    }
   ],
   "source": [
    "measures.isnull().sum()"
   ]
  },
  {
   "cell_type": "code",
   "execution_count": 209,
   "id": "9e26e586",
   "metadata": {},
   "outputs": [
    {
     "data": {
      "application/vnd.plotly.v1+json": {
       "config": {
        "plotlyServerURL": "https://plot.ly"
       },
       "data": [
        {
         "hovertemplate": "temp_outside=%{x}<br>consume=%{marker.size}<br>fuel=%{marker.color}<extra></extra>",
         "legendgroup": "",
         "marker": {
          "color": [
           0,
           0,
           0,
           0,
           0,
           0,
           0,
           0,
           0,
           0,
           0,
           0,
           0,
           0,
           0,
           0,
           0,
           0,
           0,
           0,
           0,
           0,
           0,
           0,
           0,
           0,
           0,
           0,
           0,
           0,
           0,
           0,
           0,
           0,
           0,
           0,
           0,
           0,
           0,
           0,
           0,
           0,
           0,
           0,
           1,
           1,
           1,
           1,
           1,
           1,
           1,
           1,
           1,
           1,
           1,
           1,
           1,
           1,
           1,
           1,
           1,
           1,
           1,
           1,
           1,
           1,
           1,
           1,
           1,
           1,
           1,
           1,
           1,
           1,
           1,
           1,
           1,
           1,
           1,
           1,
           1,
           1,
           1,
           1,
           1,
           1,
           1,
           1,
           1,
           1,
           1,
           1,
           1,
           1,
           1,
           1,
           1,
           1,
           1,
           1,
           1,
           1,
           1,
           1,
           1,
           1,
           1,
           1,
           1,
           1,
           1,
           1,
           1,
           1,
           1,
           1,
           1,
           1,
           1,
           1,
           1,
           1,
           1,
           1,
           1,
           1,
           1,
           1,
           1,
           1,
           1,
           1,
           0,
           0,
           0,
           0,
           0,
           0,
           0,
           0,
           0,
           0,
           0,
           0,
           0,
           0,
           0,
           0,
           0,
           0,
           0,
           0,
           0,
           0,
           0,
           0,
           0,
           0,
           0,
           0,
           0,
           0,
           0,
           0,
           0,
           0,
           0,
           0,
           0,
           0,
           0,
           0,
           0,
           0,
           0,
           0,
           0,
           0,
           0,
           0,
           0,
           0,
           0,
           0,
           1,
           1,
           1,
           1,
           1,
           1,
           1,
           1,
           1,
           1,
           1,
           1,
           1,
           1,
           1,
           1,
           1,
           1,
           1,
           1,
           1,
           1,
           1,
           1,
           1,
           1,
           1,
           1,
           1,
           1,
           1,
           1,
           1,
           1,
           1,
           1,
           1,
           1,
           1,
           1,
           1,
           0,
           0,
           0,
           0,
           0,
           0,
           0,
           0,
           0,
           0,
           0,
           0,
           0,
           0,
           0,
           0,
           0,
           0,
           0,
           0,
           0,
           0,
           0,
           0,
           0,
           0,
           0,
           0,
           0,
           0,
           0,
           0,
           0,
           0,
           0,
           0,
           0,
           1,
           1,
           1,
           1,
           1,
           1,
           1,
           1,
           1,
           1,
           1,
           1,
           1,
           1,
           1,
           1,
           1,
           1,
           1,
           1,
           1,
           1,
           1,
           1,
           1,
           1,
           1,
           1,
           1,
           1,
           1,
           1,
           1,
           1,
           1,
           1,
           1,
           1,
           1,
           1,
           1,
           1,
           1,
           1,
           1,
           1,
           1,
           1,
           1,
           1,
           1,
           0,
           0,
           0,
           0,
           0,
           0,
           0,
           0,
           0,
           0,
           0,
           0,
           0,
           0,
           0,
           0,
           0,
           0,
           0,
           0,
           0,
           0,
           0,
           0,
           1,
           1,
           1,
           1,
           1,
           1,
           1,
           1,
           1,
           1,
           1,
           1,
           1,
           1,
           1,
           1,
           1,
           1,
           1,
           1,
           1,
           1,
           1,
           1,
           1,
           1,
           1,
           1,
           1,
           1,
           1,
           1,
           1,
           1,
           1,
           1,
           1,
           1,
           1
          ],
          "coloraxis": "coloraxis",
          "size": [
           5,
           4.199999809265137,
           5.5,
           3.9000000953674316,
           4.5,
           6.400000095367432,
           4.400000095367432,
           5,
           6.400000095367432,
           5.300000190734863,
           5.599999904632568,
           4.599999904632568,
           5.900000095367432,
           5.099999904632568,
           4.699999809265137,
           5.099999904632568,
           5.599999904632568,
           5.099999904632568,
           4.900000095367432,
           4.699999809265137,
           5.5,
           5.900000095367432,
           5.699999809265137,
           4.699999809265137,
           5.900000095367432,
           4.099999904632568,
           5.699999809265137,
           5.800000190734863,
           5.5,
           5.699999809265137,
           5.300000190734863,
           5,
           5.599999904632568,
           4.800000190734863,
           4.300000190734863,
           5.699999809265137,
           5.199999809265137,
           7.400000095367432,
           4.800000190734863,
           6.5,
           4,
           5,
           4.599999904632568,
           4.300000190734863,
           3.299999952316284,
           9.899999618530273,
           5.099999904632568,
           4.900000095367432,
           4.900000095367432,
           4.699999809265137,
           5.099999904632568,
           4.900000095367432,
           4.199999809265137,
           6.099999904632568,
           6.400000095367432,
           4.900000095367432,
           4.900000095367432,
           6.199999809265137,
           4.199999809265137,
           5.699999809265137,
           7.900000095367432,
           12.199999809265137,
           5.800000190734863,
           5.300000190734863,
           5.400000095367432,
           4.699999809265137,
           4.599999904632568,
           5.400000095367432,
           4.300000190734863,
           4.5,
           5.199999809265137,
           6.199999809265137,
           5.099999904632568,
           3.9000000953674316,
           5,
           5.400000095367432,
           4.5,
           5.099999904632568,
           4.699999809265137,
           4,
           5.400000095367432,
           4.5,
           3.5999999046325684,
           5.199999809265137,
           4.900000095367432,
           6.199999809265137,
           4.300000190734863,
           5,
           5.099999904632568,
           5.599999904632568,
           4.300000190734863,
           5.800000190734863,
           4,
           5.900000095367432,
           4.199999809265137,
           5.800000190734863,
           6.900000095367432,
           5.400000095367432,
           5.300000190734863,
           5.5,
           6.5,
           4.699999809265137,
           5.099999904632568,
           5.699999809265137,
           5.400000095367432,
           8.699999809265137,
           4.900000095367432,
           4.699999809265137,
           6.300000190734863,
           5.099999904632568,
           6,
           4.599999904632568,
           5.800000190734863,
           5.099999904632568,
           5.800000190734863,
           4.599999904632568,
           5.599999904632568,
           4.599999904632568,
           6.300000190734863,
           5.5,
           4.300000190734863,
           5.599999904632568,
           4.300000190734863,
           5.699999809265137,
           6.400000095367432,
           4.5,
           4.5,
           6,
           5.099999904632568,
           6,
           4.5,
           6.099999904632568,
           5.400000095367432,
           4.300000190734863,
           5.400000095367432,
           4.300000190734863,
           5.199999809265137,
           4.099999904632568,
           4.400000095367432,
           4.5,
           10.800000190734863,
           4.699999809265137,
           4.800000190734863,
           4,
           5,
           4.599999904632568,
           5,
           4.300000190734863,
           5.199999809265137,
           4.699999809265137,
           4.199999809265137,
           5.300000190734863,
           5.300000190734863,
           8.100000381469727,
           4.800000190734863,
           5.099999904632568,
           4.400000095367432,
           5,
           6.300000190734863,
           4.800000190734863,
           6.099999904632568,
           4.599999904632568,
           4.800000190734863,
           4.699999809265137,
           4.800000190734863,
           4.400000095367432,
           4.900000095367432,
           4.900000095367432,
           4.400000095367432,
           5.300000190734863,
           5.300000190734863,
           4.800000190734863,
           5.199999809265137,
           4.900000095367432,
           7.099999904632568,
           5.199999809265137,
           4.699999809265137,
           5.099999904632568,
           5,
           4.599999904632568,
           4.800000190734863,
           4.400000095367432,
           4.599999904632568,
           4.300000190734863,
           4.699999809265137,
           4.199999809265137,
           4.800000190734863,
           4.099999904632568,
           4.5,
           4.800000190734863,
           4.599999904632568,
           7.400000095367432,
           5.599999904632568,
           4.900000095367432,
           4.5,
           5.300000190734863,
           4.699999809265137,
           9,
           6.300000190734863,
           3.5999999046325684,
           3.700000047683716,
           11.5,
           5,
           5.5,
           4.699999809265137,
           4.5,
           4.400000095367432,
           4.099999904632568,
           4.400000095367432,
           4.599999904632568,
           4.400000095367432,
           4,
           5,
           5.199999809265137,
           4,
           5.099999904632568,
           4.5,
           4.599999904632568,
           5.099999904632568,
           5.699999809265137,
           4.800000190734863,
           6.199999809265137,
           5,
           5,
           4.599999904632568,
           4.5,
           4.800000190734863,
           5,
           4.800000190734863,
           4.599999904632568,
           4.5,
           4.599999904632568,
           4.400000095367432,
           5.699999809265137,
           5.800000190734863,
           5.900000095367432,
           6.099999904632568,
           5.699999809265137,
           5,
           5.199999809265137,
           4.300000190734863,
           4.099999904632568,
           4.400000095367432,
           4.5,
           3.9000000953674316,
           8.100000381469727,
           4.400000095367432,
           5,
           4.699999809265137,
           6,
           5,
           5,
           4.5,
           5.400000095367432,
           5.599999904632568,
           3.9000000953674316,
           4,
           4.5,
           3.799999952316284,
           5.599999904632568,
           5.199999809265137,
           4.800000190734863,
           4.900000095367432,
           4.099999904632568,
           4.5,
           4.400000095367432,
           4.5,
           4.5,
           3.9000000953674316,
           4.599999904632568,
           3.799999952316284,
           4.5,
           4.400000095367432,
           4.300000190734863,
           4,
           3.9000000953674316,
           5,
           4.099999904632568,
           4.099999904632568,
           5.599999904632568,
           4.099999904632568,
           4.599999904632568,
           4.900000095367432,
           4.5,
           4.099999904632568,
           4.099999904632568,
           4.5,
           4.199999809265137,
           3.9000000953674316,
           5,
           4.400000095367432,
           4.5,
           3.799999952316284,
           5.099999904632568,
           3.9000000953674316,
           5.300000190734863,
           4.199999809265137,
           4.300000190734863,
           4,
           4.699999809265137,
           4,
           4.300000190734863,
           5.300000190734863,
           5.199999809265137,
           4.900000095367432,
           4.699999809265137,
           4.599999904632568,
           5.300000190734863,
           3.5999999046325684,
           4.199999809265137,
           4.099999904632568,
           4,
           3.9000000953674316,
           3.700000047683716,
           4.5,
           3.9000000953674316,
           5.099999904632568,
           4.199999809265137,
           4.199999809265137,
           4.800000190734863,
           4.699999809265137,
           4.699999809265137,
           4.599999904632568,
           3.799999952316284,
           4.199999809265137,
           3.700000047683716,
           4.199999809265137,
           4.099999904632568,
           4,
           3.799999952316284,
           3.799999952316284,
           3.799999952316284,
           5.099999904632568,
           4,
           4.800000190734863,
           3.9000000953674316,
           4.599999904632568,
           4.300000190734863,
           4.800000190734863,
           4.099999904632568,
           4,
           3.700000047683716,
           4.300000190734863,
           5.199999809265137,
           4.199999809265137,
           5,
           5,
           4.199999809265137,
           4.800000190734863,
           4.099999904632568,
           4.900000095367432,
           4.300000190734863,
           3.9000000953674316,
           4.5,
           4.099999904632568,
           5,
           4,
           4.5,
           3.5999999046325684,
           4.099999904632568,
           3.9000000953674316,
           6.599999904632568,
           4,
           3.700000047683716,
           4.300000190734863,
           4.099999904632568,
           4.400000095367432,
           3.799999952316284,
           5,
           3.700000047683716,
           3.700000047683716,
           3.700000047683716,
           4.300000190734863,
           3.799999952316284,
           4.599999904632568,
           5
          ],
          "sizemode": "area",
          "sizeref": 0.030499999523162843,
          "symbol": "circle"
         },
         "mode": "markers",
         "name": "",
         "orientation": "v",
         "showlegend": false,
         "type": "scatter",
         "x": [
          12,
          13,
          15,
          14,
          15,
          10,
          11,
          6,
          4,
          9,
          4,
          0,
          10,
          12,
          11,
          5,
          3,
          3,
          8,
          4,
          3,
          1,
          1,
          1,
          6,
          9,
          2,
          3,
          1,
          4,
          11,
          10,
          8,
          7,
          7,
          8,
          4,
          6,
          9,
          7,
          7,
          7,
          6,
          7,
          7,
          4,
          7,
          8,
          11,
          10,
          5,
          6,
          7,
          6,
          8,
          3,
          7,
          8,
          8,
          8,
          9,
          9,
          6,
          6,
          7,
          8,
          6,
          8,
          8,
          4,
          12,
          10,
          6,
          8,
          6,
          7,
          6,
          9,
          7,
          4,
          6,
          10,
          10,
          10,
          11,
          11,
          11,
          11,
          11,
          8,
          6,
          11,
          13,
          9,
          11,
          8,
          12,
          11,
          7,
          1,
          1,
          4,
          7,
          7,
          7,
          5,
          7,
          7,
          3,
          4,
          4,
          1,
          4,
          0,
          2,
          3,
          8,
          0,
          0,
          1,
          2,
          1,
          -3,
          5,
          4,
          6,
          3,
          5,
          5,
          5,
          5,
          10,
          7,
          10,
          13,
          17,
          17,
          10,
          18,
          10,
          10,
          12,
          5,
          8,
          9,
          7,
          6,
          7,
          7,
          8,
          9,
          9,
          9,
          4,
          7,
          2,
          2,
          3,
          5,
          5,
          6,
          8,
          7,
          6,
          8,
          6,
          0,
          6,
          3,
          -5,
          -3,
          0,
          0,
          0,
          0,
          1,
          3,
          8,
          12,
          10,
          7,
          13,
          12,
          18,
          9,
          4,
          13,
          16,
          13,
          14,
          14,
          14,
          13,
          13,
          18,
          12,
          12,
          10,
          10,
          19,
          21,
          10,
          12,
          9,
          8,
          13,
          5,
          13,
          11,
          12,
          17,
          12,
          9,
          10,
          11,
          8,
          3,
          11,
          4,
          3,
          2,
          4,
          1,
          8,
          8,
          10,
          1,
          9,
          10,
          2,
          9,
          11,
          12,
          8,
          10,
          10,
          6,
          11,
          10,
          15,
          16,
          16,
          8,
          14,
          14,
          14,
          8,
          12,
          14,
          14,
          8,
          7,
          12,
          13,
          17,
          18,
          10,
          14,
          12,
          18,
          18,
          18,
          10,
          10,
          19,
          7,
          11,
          10,
          8,
          16,
          8,
          16,
          14,
          12,
          20,
          15,
          17,
          18,
          25,
          16,
          20,
          18,
          23,
          27,
          14,
          21,
          16,
          18,
          18,
          15,
          5,
          18,
          11,
          10,
          10,
          13,
          16,
          16,
          13,
          17,
          17,
          17,
          15,
          13,
          15,
          14,
          20,
          21,
          27,
          15,
          24,
          15,
          26,
          17,
          24,
          17,
          24,
          24,
          25,
          27,
          18,
          22,
          21,
          16,
          21,
          17,
          15,
          24,
          16,
          21,
          24,
          17,
          16,
          15,
          18,
          16,
          25,
          16,
          18,
          17,
          23,
          16,
          23,
          23,
          16,
          18,
          24,
          22,
          17,
          15,
          18,
          23,
          18,
          26,
          30,
          31,
          21,
          30,
          19,
          21,
          26,
          27,
          23,
          19,
          22,
          26,
          17,
          23,
          27,
          28,
          28,
          18,
          31,
          19,
          31,
          30
         ],
         "xaxis": "x",
         "y": [
          5,
          4.199999809265137,
          5.5,
          3.9000000953674316,
          4.5,
          6.400000095367432,
          4.400000095367432,
          5,
          6.400000095367432,
          5.300000190734863,
          5.599999904632568,
          4.599999904632568,
          5.900000095367432,
          5.099999904632568,
          4.699999809265137,
          5.099999904632568,
          5.599999904632568,
          5.099999904632568,
          4.900000095367432,
          4.699999809265137,
          5.5,
          5.900000095367432,
          5.699999809265137,
          4.699999809265137,
          5.900000095367432,
          4.099999904632568,
          5.699999809265137,
          5.800000190734863,
          5.5,
          5.699999809265137,
          5.300000190734863,
          5,
          5.599999904632568,
          4.800000190734863,
          4.300000190734863,
          5.699999809265137,
          5.199999809265137,
          7.400000095367432,
          4.800000190734863,
          6.5,
          4,
          5,
          4.599999904632568,
          4.300000190734863,
          3.299999952316284,
          9.899999618530273,
          5.099999904632568,
          4.900000095367432,
          4.900000095367432,
          4.699999809265137,
          5.099999904632568,
          4.900000095367432,
          4.199999809265137,
          6.099999904632568,
          6.400000095367432,
          4.900000095367432,
          4.900000095367432,
          6.199999809265137,
          4.199999809265137,
          5.699999809265137,
          7.900000095367432,
          12.199999809265137,
          5.800000190734863,
          5.300000190734863,
          5.400000095367432,
          4.699999809265137,
          4.599999904632568,
          5.400000095367432,
          4.300000190734863,
          4.5,
          5.199999809265137,
          6.199999809265137,
          5.099999904632568,
          3.9000000953674316,
          5,
          5.400000095367432,
          4.5,
          5.099999904632568,
          4.699999809265137,
          4,
          5.400000095367432,
          4.5,
          3.5999999046325684,
          5.199999809265137,
          4.900000095367432,
          6.199999809265137,
          4.300000190734863,
          5,
          5.099999904632568,
          5.599999904632568,
          4.300000190734863,
          5.800000190734863,
          4,
          5.900000095367432,
          4.199999809265137,
          5.800000190734863,
          6.900000095367432,
          5.400000095367432,
          5.300000190734863,
          5.5,
          6.5,
          4.699999809265137,
          5.099999904632568,
          5.699999809265137,
          5.400000095367432,
          8.699999809265137,
          4.900000095367432,
          4.699999809265137,
          6.300000190734863,
          5.099999904632568,
          6,
          4.599999904632568,
          5.800000190734863,
          5.099999904632568,
          5.800000190734863,
          4.599999904632568,
          5.599999904632568,
          4.599999904632568,
          6.300000190734863,
          5.5,
          4.300000190734863,
          5.599999904632568,
          4.300000190734863,
          5.699999809265137,
          6.400000095367432,
          4.5,
          4.5,
          6,
          5.099999904632568,
          6,
          4.5,
          6.099999904632568,
          5.400000095367432,
          4.300000190734863,
          5.400000095367432,
          4.300000190734863,
          5.199999809265137,
          4.099999904632568,
          4.400000095367432,
          4.5,
          10.800000190734863,
          4.699999809265137,
          4.800000190734863,
          4,
          5,
          4.599999904632568,
          5,
          4.300000190734863,
          5.199999809265137,
          4.699999809265137,
          4.199999809265137,
          5.300000190734863,
          5.300000190734863,
          8.100000381469727,
          4.800000190734863,
          5.099999904632568,
          4.400000095367432,
          5,
          6.300000190734863,
          4.800000190734863,
          6.099999904632568,
          4.599999904632568,
          4.800000190734863,
          4.699999809265137,
          4.800000190734863,
          4.400000095367432,
          4.900000095367432,
          4.900000095367432,
          4.400000095367432,
          5.300000190734863,
          5.300000190734863,
          4.800000190734863,
          5.199999809265137,
          4.900000095367432,
          7.099999904632568,
          5.199999809265137,
          4.699999809265137,
          5.099999904632568,
          5,
          4.599999904632568,
          4.800000190734863,
          4.400000095367432,
          4.599999904632568,
          4.300000190734863,
          4.699999809265137,
          4.199999809265137,
          4.800000190734863,
          4.099999904632568,
          4.5,
          4.800000190734863,
          4.599999904632568,
          7.400000095367432,
          5.599999904632568,
          4.900000095367432,
          4.5,
          5.300000190734863,
          4.699999809265137,
          9,
          6.300000190734863,
          3.5999999046325684,
          3.700000047683716,
          11.5,
          5,
          5.5,
          4.699999809265137,
          4.5,
          4.400000095367432,
          4.099999904632568,
          4.400000095367432,
          4.599999904632568,
          4.400000095367432,
          4,
          5,
          5.199999809265137,
          4,
          5.099999904632568,
          4.5,
          4.599999904632568,
          5.099999904632568,
          5.699999809265137,
          4.800000190734863,
          6.199999809265137,
          5,
          5,
          4.599999904632568,
          4.5,
          4.800000190734863,
          5,
          4.800000190734863,
          4.599999904632568,
          4.5,
          4.599999904632568,
          4.400000095367432,
          5.699999809265137,
          5.800000190734863,
          5.900000095367432,
          6.099999904632568,
          5.699999809265137,
          5,
          5.199999809265137,
          4.300000190734863,
          4.099999904632568,
          4.400000095367432,
          4.5,
          3.9000000953674316,
          8.100000381469727,
          4.400000095367432,
          5,
          4.699999809265137,
          6,
          5,
          5,
          4.5,
          5.400000095367432,
          5.599999904632568,
          3.9000000953674316,
          4,
          4.5,
          3.799999952316284,
          5.599999904632568,
          5.199999809265137,
          4.800000190734863,
          4.900000095367432,
          4.099999904632568,
          4.5,
          4.400000095367432,
          4.5,
          4.5,
          3.9000000953674316,
          4.599999904632568,
          3.799999952316284,
          4.5,
          4.400000095367432,
          4.300000190734863,
          4,
          3.9000000953674316,
          5,
          4.099999904632568,
          4.099999904632568,
          5.599999904632568,
          4.099999904632568,
          4.599999904632568,
          4.900000095367432,
          4.5,
          4.099999904632568,
          4.099999904632568,
          4.5,
          4.199999809265137,
          3.9000000953674316,
          5,
          4.400000095367432,
          4.5,
          3.799999952316284,
          5.099999904632568,
          3.9000000953674316,
          5.300000190734863,
          4.199999809265137,
          4.300000190734863,
          4,
          4.699999809265137,
          4,
          4.300000190734863,
          5.300000190734863,
          5.199999809265137,
          4.900000095367432,
          4.699999809265137,
          4.599999904632568,
          5.300000190734863,
          3.5999999046325684,
          4.199999809265137,
          4.099999904632568,
          4,
          3.9000000953674316,
          3.700000047683716,
          4.5,
          3.9000000953674316,
          5.099999904632568,
          4.199999809265137,
          4.199999809265137,
          4.800000190734863,
          4.699999809265137,
          4.699999809265137,
          4.599999904632568,
          3.799999952316284,
          4.199999809265137,
          3.700000047683716,
          4.199999809265137,
          4.099999904632568,
          4,
          3.799999952316284,
          3.799999952316284,
          3.799999952316284,
          5.099999904632568,
          4,
          4.800000190734863,
          3.9000000953674316,
          4.599999904632568,
          4.300000190734863,
          4.800000190734863,
          4.099999904632568,
          4,
          3.700000047683716,
          4.300000190734863,
          5.199999809265137,
          4.199999809265137,
          5,
          5,
          4.199999809265137,
          4.800000190734863,
          4.099999904632568,
          4.900000095367432,
          4.300000190734863,
          3.9000000953674316,
          4.5,
          4.099999904632568,
          5,
          4,
          4.5,
          3.5999999046325684,
          4.099999904632568,
          3.9000000953674316,
          6.599999904632568,
          4,
          3.700000047683716,
          4.300000190734863,
          4.099999904632568,
          4.400000095367432,
          3.799999952316284,
          5,
          3.700000047683716,
          3.700000047683716,
          3.700000047683716,
          4.300000190734863,
          3.799999952316284,
          4.599999904632568,
          5
         ],
         "yaxis": "y"
        }
       ],
       "layout": {
        "coloraxis": {
         "colorbar": {
          "title": {
           "text": "fuel"
          }
         },
         "colorscale": [
          [
           0,
           "#0d0887"
          ],
          [
           0.1111111111111111,
           "#46039f"
          ],
          [
           0.2222222222222222,
           "#7201a8"
          ],
          [
           0.3333333333333333,
           "#9c179e"
          ],
          [
           0.4444444444444444,
           "#bd3786"
          ],
          [
           0.5555555555555556,
           "#d8576b"
          ],
          [
           0.6666666666666666,
           "#ed7953"
          ],
          [
           0.7777777777777778,
           "#fb9f3a"
          ],
          [
           0.8888888888888888,
           "#fdca26"
          ],
          [
           1,
           "#f0f921"
          ]
         ]
        },
        "legend": {
         "itemsizing": "constant",
         "tracegroupgap": 0
        },
        "template": {
         "data": {
          "bar": [
           {
            "error_x": {
             "color": "#2a3f5f"
            },
            "error_y": {
             "color": "#2a3f5f"
            },
            "marker": {
             "line": {
              "color": "#E5ECF6",
              "width": 0.5
             },
             "pattern": {
              "fillmode": "overlay",
              "size": 10,
              "solidity": 0.2
             }
            },
            "type": "bar"
           }
          ],
          "barpolar": [
           {
            "marker": {
             "line": {
              "color": "#E5ECF6",
              "width": 0.5
             },
             "pattern": {
              "fillmode": "overlay",
              "size": 10,
              "solidity": 0.2
             }
            },
            "type": "barpolar"
           }
          ],
          "carpet": [
           {
            "aaxis": {
             "endlinecolor": "#2a3f5f",
             "gridcolor": "white",
             "linecolor": "white",
             "minorgridcolor": "white",
             "startlinecolor": "#2a3f5f"
            },
            "baxis": {
             "endlinecolor": "#2a3f5f",
             "gridcolor": "white",
             "linecolor": "white",
             "minorgridcolor": "white",
             "startlinecolor": "#2a3f5f"
            },
            "type": "carpet"
           }
          ],
          "choropleth": [
           {
            "colorbar": {
             "outlinewidth": 0,
             "ticks": ""
            },
            "type": "choropleth"
           }
          ],
          "contour": [
           {
            "colorbar": {
             "outlinewidth": 0,
             "ticks": ""
            },
            "colorscale": [
             [
              0,
              "#0d0887"
             ],
             [
              0.1111111111111111,
              "#46039f"
             ],
             [
              0.2222222222222222,
              "#7201a8"
             ],
             [
              0.3333333333333333,
              "#9c179e"
             ],
             [
              0.4444444444444444,
              "#bd3786"
             ],
             [
              0.5555555555555556,
              "#d8576b"
             ],
             [
              0.6666666666666666,
              "#ed7953"
             ],
             [
              0.7777777777777778,
              "#fb9f3a"
             ],
             [
              0.8888888888888888,
              "#fdca26"
             ],
             [
              1,
              "#f0f921"
             ]
            ],
            "type": "contour"
           }
          ],
          "contourcarpet": [
           {
            "colorbar": {
             "outlinewidth": 0,
             "ticks": ""
            },
            "type": "contourcarpet"
           }
          ],
          "heatmap": [
           {
            "colorbar": {
             "outlinewidth": 0,
             "ticks": ""
            },
            "colorscale": [
             [
              0,
              "#0d0887"
             ],
             [
              0.1111111111111111,
              "#46039f"
             ],
             [
              0.2222222222222222,
              "#7201a8"
             ],
             [
              0.3333333333333333,
              "#9c179e"
             ],
             [
              0.4444444444444444,
              "#bd3786"
             ],
             [
              0.5555555555555556,
              "#d8576b"
             ],
             [
              0.6666666666666666,
              "#ed7953"
             ],
             [
              0.7777777777777778,
              "#fb9f3a"
             ],
             [
              0.8888888888888888,
              "#fdca26"
             ],
             [
              1,
              "#f0f921"
             ]
            ],
            "type": "heatmap"
           }
          ],
          "heatmapgl": [
           {
            "colorbar": {
             "outlinewidth": 0,
             "ticks": ""
            },
            "colorscale": [
             [
              0,
              "#0d0887"
             ],
             [
              0.1111111111111111,
              "#46039f"
             ],
             [
              0.2222222222222222,
              "#7201a8"
             ],
             [
              0.3333333333333333,
              "#9c179e"
             ],
             [
              0.4444444444444444,
              "#bd3786"
             ],
             [
              0.5555555555555556,
              "#d8576b"
             ],
             [
              0.6666666666666666,
              "#ed7953"
             ],
             [
              0.7777777777777778,
              "#fb9f3a"
             ],
             [
              0.8888888888888888,
              "#fdca26"
             ],
             [
              1,
              "#f0f921"
             ]
            ],
            "type": "heatmapgl"
           }
          ],
          "histogram": [
           {
            "marker": {
             "pattern": {
              "fillmode": "overlay",
              "size": 10,
              "solidity": 0.2
             }
            },
            "type": "histogram"
           }
          ],
          "histogram2d": [
           {
            "colorbar": {
             "outlinewidth": 0,
             "ticks": ""
            },
            "colorscale": [
             [
              0,
              "#0d0887"
             ],
             [
              0.1111111111111111,
              "#46039f"
             ],
             [
              0.2222222222222222,
              "#7201a8"
             ],
             [
              0.3333333333333333,
              "#9c179e"
             ],
             [
              0.4444444444444444,
              "#bd3786"
             ],
             [
              0.5555555555555556,
              "#d8576b"
             ],
             [
              0.6666666666666666,
              "#ed7953"
             ],
             [
              0.7777777777777778,
              "#fb9f3a"
             ],
             [
              0.8888888888888888,
              "#fdca26"
             ],
             [
              1,
              "#f0f921"
             ]
            ],
            "type": "histogram2d"
           }
          ],
          "histogram2dcontour": [
           {
            "colorbar": {
             "outlinewidth": 0,
             "ticks": ""
            },
            "colorscale": [
             [
              0,
              "#0d0887"
             ],
             [
              0.1111111111111111,
              "#46039f"
             ],
             [
              0.2222222222222222,
              "#7201a8"
             ],
             [
              0.3333333333333333,
              "#9c179e"
             ],
             [
              0.4444444444444444,
              "#bd3786"
             ],
             [
              0.5555555555555556,
              "#d8576b"
             ],
             [
              0.6666666666666666,
              "#ed7953"
             ],
             [
              0.7777777777777778,
              "#fb9f3a"
             ],
             [
              0.8888888888888888,
              "#fdca26"
             ],
             [
              1,
              "#f0f921"
             ]
            ],
            "type": "histogram2dcontour"
           }
          ],
          "mesh3d": [
           {
            "colorbar": {
             "outlinewidth": 0,
             "ticks": ""
            },
            "type": "mesh3d"
           }
          ],
          "parcoords": [
           {
            "line": {
             "colorbar": {
              "outlinewidth": 0,
              "ticks": ""
             }
            },
            "type": "parcoords"
           }
          ],
          "pie": [
           {
            "automargin": true,
            "type": "pie"
           }
          ],
          "scatter": [
           {
            "fillpattern": {
             "fillmode": "overlay",
             "size": 10,
             "solidity": 0.2
            },
            "type": "scatter"
           }
          ],
          "scatter3d": [
           {
            "line": {
             "colorbar": {
              "outlinewidth": 0,
              "ticks": ""
             }
            },
            "marker": {
             "colorbar": {
              "outlinewidth": 0,
              "ticks": ""
             }
            },
            "type": "scatter3d"
           }
          ],
          "scattercarpet": [
           {
            "marker": {
             "colorbar": {
              "outlinewidth": 0,
              "ticks": ""
             }
            },
            "type": "scattercarpet"
           }
          ],
          "scattergeo": [
           {
            "marker": {
             "colorbar": {
              "outlinewidth": 0,
              "ticks": ""
             }
            },
            "type": "scattergeo"
           }
          ],
          "scattergl": [
           {
            "marker": {
             "colorbar": {
              "outlinewidth": 0,
              "ticks": ""
             }
            },
            "type": "scattergl"
           }
          ],
          "scattermapbox": [
           {
            "marker": {
             "colorbar": {
              "outlinewidth": 0,
              "ticks": ""
             }
            },
            "type": "scattermapbox"
           }
          ],
          "scatterpolar": [
           {
            "marker": {
             "colorbar": {
              "outlinewidth": 0,
              "ticks": ""
             }
            },
            "type": "scatterpolar"
           }
          ],
          "scatterpolargl": [
           {
            "marker": {
             "colorbar": {
              "outlinewidth": 0,
              "ticks": ""
             }
            },
            "type": "scatterpolargl"
           }
          ],
          "scatterternary": [
           {
            "marker": {
             "colorbar": {
              "outlinewidth": 0,
              "ticks": ""
             }
            },
            "type": "scatterternary"
           }
          ],
          "surface": [
           {
            "colorbar": {
             "outlinewidth": 0,
             "ticks": ""
            },
            "colorscale": [
             [
              0,
              "#0d0887"
             ],
             [
              0.1111111111111111,
              "#46039f"
             ],
             [
              0.2222222222222222,
              "#7201a8"
             ],
             [
              0.3333333333333333,
              "#9c179e"
             ],
             [
              0.4444444444444444,
              "#bd3786"
             ],
             [
              0.5555555555555556,
              "#d8576b"
             ],
             [
              0.6666666666666666,
              "#ed7953"
             ],
             [
              0.7777777777777778,
              "#fb9f3a"
             ],
             [
              0.8888888888888888,
              "#fdca26"
             ],
             [
              1,
              "#f0f921"
             ]
            ],
            "type": "surface"
           }
          ],
          "table": [
           {
            "cells": {
             "fill": {
              "color": "#EBF0F8"
             },
             "line": {
              "color": "white"
             }
            },
            "header": {
             "fill": {
              "color": "#C8D4E3"
             },
             "line": {
              "color": "white"
             }
            },
            "type": "table"
           }
          ]
         },
         "layout": {
          "annotationdefaults": {
           "arrowcolor": "#2a3f5f",
           "arrowhead": 0,
           "arrowwidth": 1
          },
          "autotypenumbers": "strict",
          "coloraxis": {
           "colorbar": {
            "outlinewidth": 0,
            "ticks": ""
           }
          },
          "colorscale": {
           "diverging": [
            [
             0,
             "#8e0152"
            ],
            [
             0.1,
             "#c51b7d"
            ],
            [
             0.2,
             "#de77ae"
            ],
            [
             0.3,
             "#f1b6da"
            ],
            [
             0.4,
             "#fde0ef"
            ],
            [
             0.5,
             "#f7f7f7"
            ],
            [
             0.6,
             "#e6f5d0"
            ],
            [
             0.7,
             "#b8e186"
            ],
            [
             0.8,
             "#7fbc41"
            ],
            [
             0.9,
             "#4d9221"
            ],
            [
             1,
             "#276419"
            ]
           ],
           "sequential": [
            [
             0,
             "#0d0887"
            ],
            [
             0.1111111111111111,
             "#46039f"
            ],
            [
             0.2222222222222222,
             "#7201a8"
            ],
            [
             0.3333333333333333,
             "#9c179e"
            ],
            [
             0.4444444444444444,
             "#bd3786"
            ],
            [
             0.5555555555555556,
             "#d8576b"
            ],
            [
             0.6666666666666666,
             "#ed7953"
            ],
            [
             0.7777777777777778,
             "#fb9f3a"
            ],
            [
             0.8888888888888888,
             "#fdca26"
            ],
            [
             1,
             "#f0f921"
            ]
           ],
           "sequentialminus": [
            [
             0,
             "#0d0887"
            ],
            [
             0.1111111111111111,
             "#46039f"
            ],
            [
             0.2222222222222222,
             "#7201a8"
            ],
            [
             0.3333333333333333,
             "#9c179e"
            ],
            [
             0.4444444444444444,
             "#bd3786"
            ],
            [
             0.5555555555555556,
             "#d8576b"
            ],
            [
             0.6666666666666666,
             "#ed7953"
            ],
            [
             0.7777777777777778,
             "#fb9f3a"
            ],
            [
             0.8888888888888888,
             "#fdca26"
            ],
            [
             1,
             "#f0f921"
            ]
           ]
          },
          "colorway": [
           "#636efa",
           "#EF553B",
           "#00cc96",
           "#ab63fa",
           "#FFA15A",
           "#19d3f3",
           "#FF6692",
           "#B6E880",
           "#FF97FF",
           "#FECB52"
          ],
          "font": {
           "color": "#2a3f5f"
          },
          "geo": {
           "bgcolor": "white",
           "lakecolor": "white",
           "landcolor": "#E5ECF6",
           "showlakes": true,
           "showland": true,
           "subunitcolor": "white"
          },
          "hoverlabel": {
           "align": "left"
          },
          "hovermode": "closest",
          "mapbox": {
           "style": "light"
          },
          "paper_bgcolor": "white",
          "plot_bgcolor": "#E5ECF6",
          "polar": {
           "angularaxis": {
            "gridcolor": "white",
            "linecolor": "white",
            "ticks": ""
           },
           "bgcolor": "#E5ECF6",
           "radialaxis": {
            "gridcolor": "white",
            "linecolor": "white",
            "ticks": ""
           }
          },
          "scene": {
           "xaxis": {
            "backgroundcolor": "#E5ECF6",
            "gridcolor": "white",
            "gridwidth": 2,
            "linecolor": "white",
            "showbackground": true,
            "ticks": "",
            "zerolinecolor": "white"
           },
           "yaxis": {
            "backgroundcolor": "#E5ECF6",
            "gridcolor": "white",
            "gridwidth": 2,
            "linecolor": "white",
            "showbackground": true,
            "ticks": "",
            "zerolinecolor": "white"
           },
           "zaxis": {
            "backgroundcolor": "#E5ECF6",
            "gridcolor": "white",
            "gridwidth": 2,
            "linecolor": "white",
            "showbackground": true,
            "ticks": "",
            "zerolinecolor": "white"
           }
          },
          "shapedefaults": {
           "line": {
            "color": "#2a3f5f"
           }
          },
          "ternary": {
           "aaxis": {
            "gridcolor": "white",
            "linecolor": "white",
            "ticks": ""
           },
           "baxis": {
            "gridcolor": "white",
            "linecolor": "white",
            "ticks": ""
           },
           "bgcolor": "#E5ECF6",
           "caxis": {
            "gridcolor": "white",
            "linecolor": "white",
            "ticks": ""
           }
          },
          "title": {
           "x": 0.05
          },
          "xaxis": {
           "automargin": true,
           "gridcolor": "white",
           "linecolor": "white",
           "ticks": "",
           "title": {
            "standoff": 15
           },
           "zerolinecolor": "white",
           "zerolinewidth": 2
          },
          "yaxis": {
           "automargin": true,
           "gridcolor": "white",
           "linecolor": "white",
           "ticks": "",
           "title": {
            "standoff": 15
           },
           "zerolinecolor": "white",
           "zerolinewidth": 2
          }
         }
        },
        "title": {
         "text": "Consume vs Temp Outside"
        },
        "xaxis": {
         "anchor": "y",
         "domain": [
          0,
          1
         ],
         "title": {
          "text": "temp_outside"
         }
        },
        "yaxis": {
         "anchor": "x",
         "domain": [
          0,
          1
         ],
         "title": {
          "text": "consume"
         }
        }
       }
      },
      "text/html": [
       "<div>                            <div id=\"091ef2f5-7177-4470-a1f5-9716285205e0\" class=\"plotly-graph-div\" style=\"height:525px; width:100%;\"></div>            <script type=\"text/javascript\">                require([\"plotly\"], function(Plotly) {                    window.PLOTLYENV=window.PLOTLYENV || {};                                    if (document.getElementById(\"091ef2f5-7177-4470-a1f5-9716285205e0\")) {                    Plotly.newPlot(                        \"091ef2f5-7177-4470-a1f5-9716285205e0\",                        [{\"hovertemplate\":\"temp_outside=%{x}<br>consume=%{marker.size}<br>fuel=%{marker.color}<extra></extra>\",\"legendgroup\":\"\",\"marker\":{\"color\":[0,0,0,0,0,0,0,0,0,0,0,0,0,0,0,0,0,0,0,0,0,0,0,0,0,0,0,0,0,0,0,0,0,0,0,0,0,0,0,0,0,0,0,0,1,1,1,1,1,1,1,1,1,1,1,1,1,1,1,1,1,1,1,1,1,1,1,1,1,1,1,1,1,1,1,1,1,1,1,1,1,1,1,1,1,1,1,1,1,1,1,1,1,1,1,1,1,1,1,1,1,1,1,1,1,1,1,1,1,1,1,1,1,1,1,1,1,1,1,1,1,1,1,1,1,1,1,1,1,1,1,1,0,0,0,0,0,0,0,0,0,0,0,0,0,0,0,0,0,0,0,0,0,0,0,0,0,0,0,0,0,0,0,0,0,0,0,0,0,0,0,0,0,0,0,0,0,0,0,0,0,0,0,0,1,1,1,1,1,1,1,1,1,1,1,1,1,1,1,1,1,1,1,1,1,1,1,1,1,1,1,1,1,1,1,1,1,1,1,1,1,1,1,1,1,0,0,0,0,0,0,0,0,0,0,0,0,0,0,0,0,0,0,0,0,0,0,0,0,0,0,0,0,0,0,0,0,0,0,0,0,0,1,1,1,1,1,1,1,1,1,1,1,1,1,1,1,1,1,1,1,1,1,1,1,1,1,1,1,1,1,1,1,1,1,1,1,1,1,1,1,1,1,1,1,1,1,1,1,1,1,1,1,0,0,0,0,0,0,0,0,0,0,0,0,0,0,0,0,0,0,0,0,0,0,0,0,1,1,1,1,1,1,1,1,1,1,1,1,1,1,1,1,1,1,1,1,1,1,1,1,1,1,1,1,1,1,1,1,1,1,1,1,1,1,1],\"coloraxis\":\"coloraxis\",\"size\":[5.0,4.199999809265137,5.5,3.9000000953674316,4.5,6.400000095367432,4.400000095367432,5.0,6.400000095367432,5.300000190734863,5.599999904632568,4.599999904632568,5.900000095367432,5.099999904632568,4.699999809265137,5.099999904632568,5.599999904632568,5.099999904632568,4.900000095367432,4.699999809265137,5.5,5.900000095367432,5.699999809265137,4.699999809265137,5.900000095367432,4.099999904632568,5.699999809265137,5.800000190734863,5.5,5.699999809265137,5.300000190734863,5.0,5.599999904632568,4.800000190734863,4.300000190734863,5.699999809265137,5.199999809265137,7.400000095367432,4.800000190734863,6.5,4.0,5.0,4.599999904632568,4.300000190734863,3.299999952316284,9.899999618530273,5.099999904632568,4.900000095367432,4.900000095367432,4.699999809265137,5.099999904632568,4.900000095367432,4.199999809265137,6.099999904632568,6.400000095367432,4.900000095367432,4.900000095367432,6.199999809265137,4.199999809265137,5.699999809265137,7.900000095367432,12.199999809265137,5.800000190734863,5.300000190734863,5.400000095367432,4.699999809265137,4.599999904632568,5.400000095367432,4.300000190734863,4.5,5.199999809265137,6.199999809265137,5.099999904632568,3.9000000953674316,5.0,5.400000095367432,4.5,5.099999904632568,4.699999809265137,4.0,5.400000095367432,4.5,3.5999999046325684,5.199999809265137,4.900000095367432,6.199999809265137,4.300000190734863,5.0,5.099999904632568,5.599999904632568,4.300000190734863,5.800000190734863,4.0,5.900000095367432,4.199999809265137,5.800000190734863,6.900000095367432,5.400000095367432,5.300000190734863,5.5,6.5,4.699999809265137,5.099999904632568,5.699999809265137,5.400000095367432,8.699999809265137,4.900000095367432,4.699999809265137,6.300000190734863,5.099999904632568,6.0,4.599999904632568,5.800000190734863,5.099999904632568,5.800000190734863,4.599999904632568,5.599999904632568,4.599999904632568,6.300000190734863,5.5,4.300000190734863,5.599999904632568,4.300000190734863,5.699999809265137,6.400000095367432,4.5,4.5,6.0,5.099999904632568,6.0,4.5,6.099999904632568,5.400000095367432,4.300000190734863,5.400000095367432,4.300000190734863,5.199999809265137,4.099999904632568,4.400000095367432,4.5,10.800000190734863,4.699999809265137,4.800000190734863,4.0,5.0,4.599999904632568,5.0,4.300000190734863,5.199999809265137,4.699999809265137,4.199999809265137,5.300000190734863,5.300000190734863,8.100000381469727,4.800000190734863,5.099999904632568,4.400000095367432,5.0,6.300000190734863,4.800000190734863,6.099999904632568,4.599999904632568,4.800000190734863,4.699999809265137,4.800000190734863,4.400000095367432,4.900000095367432,4.900000095367432,4.400000095367432,5.300000190734863,5.300000190734863,4.800000190734863,5.199999809265137,4.900000095367432,7.099999904632568,5.199999809265137,4.699999809265137,5.099999904632568,5.0,4.599999904632568,4.800000190734863,4.400000095367432,4.599999904632568,4.300000190734863,4.699999809265137,4.199999809265137,4.800000190734863,4.099999904632568,4.5,4.800000190734863,4.599999904632568,7.400000095367432,5.599999904632568,4.900000095367432,4.5,5.300000190734863,4.699999809265137,9.0,6.300000190734863,3.5999999046325684,3.700000047683716,11.5,5.0,5.5,4.699999809265137,4.5,4.400000095367432,4.099999904632568,4.400000095367432,4.599999904632568,4.400000095367432,4.0,5.0,5.199999809265137,4.0,5.099999904632568,4.5,4.599999904632568,5.099999904632568,5.699999809265137,4.800000190734863,6.199999809265137,5.0,5.0,4.599999904632568,4.5,4.800000190734863,5.0,4.800000190734863,4.599999904632568,4.5,4.599999904632568,4.400000095367432,5.699999809265137,5.800000190734863,5.900000095367432,6.099999904632568,5.699999809265137,5.0,5.199999809265137,4.300000190734863,4.099999904632568,4.400000095367432,4.5,3.9000000953674316,8.100000381469727,4.400000095367432,5.0,4.699999809265137,6.0,5.0,5.0,4.5,5.400000095367432,5.599999904632568,3.9000000953674316,4.0,4.5,3.799999952316284,5.599999904632568,5.199999809265137,4.800000190734863,4.900000095367432,4.099999904632568,4.5,4.400000095367432,4.5,4.5,3.9000000953674316,4.599999904632568,3.799999952316284,4.5,4.400000095367432,4.300000190734863,4.0,3.9000000953674316,5.0,4.099999904632568,4.099999904632568,5.599999904632568,4.099999904632568,4.599999904632568,4.900000095367432,4.5,4.099999904632568,4.099999904632568,4.5,4.199999809265137,3.9000000953674316,5.0,4.400000095367432,4.5,3.799999952316284,5.099999904632568,3.9000000953674316,5.300000190734863,4.199999809265137,4.300000190734863,4.0,4.699999809265137,4.0,4.300000190734863,5.300000190734863,5.199999809265137,4.900000095367432,4.699999809265137,4.599999904632568,5.300000190734863,3.5999999046325684,4.199999809265137,4.099999904632568,4.0,3.9000000953674316,3.700000047683716,4.5,3.9000000953674316,5.099999904632568,4.199999809265137,4.199999809265137,4.800000190734863,4.699999809265137,4.699999809265137,4.599999904632568,3.799999952316284,4.199999809265137,3.700000047683716,4.199999809265137,4.099999904632568,4.0,3.799999952316284,3.799999952316284,3.799999952316284,5.099999904632568,4.0,4.800000190734863,3.9000000953674316,4.599999904632568,4.300000190734863,4.800000190734863,4.099999904632568,4.0,3.700000047683716,4.300000190734863,5.199999809265137,4.199999809265137,5.0,5.0,4.199999809265137,4.800000190734863,4.099999904632568,4.900000095367432,4.300000190734863,3.9000000953674316,4.5,4.099999904632568,5.0,4.0,4.5,3.5999999046325684,4.099999904632568,3.9000000953674316,6.599999904632568,4.0,3.700000047683716,4.300000190734863,4.099999904632568,4.400000095367432,3.799999952316284,5.0,3.700000047683716,3.700000047683716,3.700000047683716,4.300000190734863,3.799999952316284,4.599999904632568,5.0],\"sizemode\":\"area\",\"sizeref\":0.030499999523162843,\"symbol\":\"circle\"},\"mode\":\"markers\",\"name\":\"\",\"orientation\":\"v\",\"showlegend\":false,\"x\":[12,13,15,14,15,10,11,6,4,9,4,0,10,12,11,5,3,3,8,4,3,1,1,1,6,9,2,3,1,4,11,10,8,7,7,8,4,6,9,7,7,7,6,7,7,4,7,8,11,10,5,6,7,6,8,3,7,8,8,8,9,9,6,6,7,8,6,8,8,4,12,10,6,8,6,7,6,9,7,4,6,10,10,10,11,11,11,11,11,8,6,11,13,9,11,8,12,11,7,1,1,4,7,7,7,5,7,7,3,4,4,1,4,0,2,3,8,0,0,1,2,1,-3,5,4,6,3,5,5,5,5,10,7,10,13,17,17,10,18,10,10,12,5,8,9,7,6,7,7,8,9,9,9,4,7,2,2,3,5,5,6,8,7,6,8,6,0,6,3,-5,-3,0,0,0,0,1,3,8,12,10,7,13,12,18,9,4,13,16,13,14,14,14,13,13,18,12,12,10,10,19,21,10,12,9,8,13,5,13,11,12,17,12,9,10,11,8,3,11,4,3,2,4,1,8,8,10,1,9,10,2,9,11,12,8,10,10,6,11,10,15,16,16,8,14,14,14,8,12,14,14,8,7,12,13,17,18,10,14,12,18,18,18,10,10,19,7,11,10,8,16,8,16,14,12,20,15,17,18,25,16,20,18,23,27,14,21,16,18,18,15,5,18,11,10,10,13,16,16,13,17,17,17,15,13,15,14,20,21,27,15,24,15,26,17,24,17,24,24,25,27,18,22,21,16,21,17,15,24,16,21,24,17,16,15,18,16,25,16,18,17,23,16,23,23,16,18,24,22,17,15,18,23,18,26,30,31,21,30,19,21,26,27,23,19,22,26,17,23,27,28,28,18,31,19,31,30],\"xaxis\":\"x\",\"y\":[5.0,4.199999809265137,5.5,3.9000000953674316,4.5,6.400000095367432,4.400000095367432,5.0,6.400000095367432,5.300000190734863,5.599999904632568,4.599999904632568,5.900000095367432,5.099999904632568,4.699999809265137,5.099999904632568,5.599999904632568,5.099999904632568,4.900000095367432,4.699999809265137,5.5,5.900000095367432,5.699999809265137,4.699999809265137,5.900000095367432,4.099999904632568,5.699999809265137,5.800000190734863,5.5,5.699999809265137,5.300000190734863,5.0,5.599999904632568,4.800000190734863,4.300000190734863,5.699999809265137,5.199999809265137,7.400000095367432,4.800000190734863,6.5,4.0,5.0,4.599999904632568,4.300000190734863,3.299999952316284,9.899999618530273,5.099999904632568,4.900000095367432,4.900000095367432,4.699999809265137,5.099999904632568,4.900000095367432,4.199999809265137,6.099999904632568,6.400000095367432,4.900000095367432,4.900000095367432,6.199999809265137,4.199999809265137,5.699999809265137,7.900000095367432,12.199999809265137,5.800000190734863,5.300000190734863,5.400000095367432,4.699999809265137,4.599999904632568,5.400000095367432,4.300000190734863,4.5,5.199999809265137,6.199999809265137,5.099999904632568,3.9000000953674316,5.0,5.400000095367432,4.5,5.099999904632568,4.699999809265137,4.0,5.400000095367432,4.5,3.5999999046325684,5.199999809265137,4.900000095367432,6.199999809265137,4.300000190734863,5.0,5.099999904632568,5.599999904632568,4.300000190734863,5.800000190734863,4.0,5.900000095367432,4.199999809265137,5.800000190734863,6.900000095367432,5.400000095367432,5.300000190734863,5.5,6.5,4.699999809265137,5.099999904632568,5.699999809265137,5.400000095367432,8.699999809265137,4.900000095367432,4.699999809265137,6.300000190734863,5.099999904632568,6.0,4.599999904632568,5.800000190734863,5.099999904632568,5.800000190734863,4.599999904632568,5.599999904632568,4.599999904632568,6.300000190734863,5.5,4.300000190734863,5.599999904632568,4.300000190734863,5.699999809265137,6.400000095367432,4.5,4.5,6.0,5.099999904632568,6.0,4.5,6.099999904632568,5.400000095367432,4.300000190734863,5.400000095367432,4.300000190734863,5.199999809265137,4.099999904632568,4.400000095367432,4.5,10.800000190734863,4.699999809265137,4.800000190734863,4.0,5.0,4.599999904632568,5.0,4.300000190734863,5.199999809265137,4.699999809265137,4.199999809265137,5.300000190734863,5.300000190734863,8.100000381469727,4.800000190734863,5.099999904632568,4.400000095367432,5.0,6.300000190734863,4.800000190734863,6.099999904632568,4.599999904632568,4.800000190734863,4.699999809265137,4.800000190734863,4.400000095367432,4.900000095367432,4.900000095367432,4.400000095367432,5.300000190734863,5.300000190734863,4.800000190734863,5.199999809265137,4.900000095367432,7.099999904632568,5.199999809265137,4.699999809265137,5.099999904632568,5.0,4.599999904632568,4.800000190734863,4.400000095367432,4.599999904632568,4.300000190734863,4.699999809265137,4.199999809265137,4.800000190734863,4.099999904632568,4.5,4.800000190734863,4.599999904632568,7.400000095367432,5.599999904632568,4.900000095367432,4.5,5.300000190734863,4.699999809265137,9.0,6.300000190734863,3.5999999046325684,3.700000047683716,11.5,5.0,5.5,4.699999809265137,4.5,4.400000095367432,4.099999904632568,4.400000095367432,4.599999904632568,4.400000095367432,4.0,5.0,5.199999809265137,4.0,5.099999904632568,4.5,4.599999904632568,5.099999904632568,5.699999809265137,4.800000190734863,6.199999809265137,5.0,5.0,4.599999904632568,4.5,4.800000190734863,5.0,4.800000190734863,4.599999904632568,4.5,4.599999904632568,4.400000095367432,5.699999809265137,5.800000190734863,5.900000095367432,6.099999904632568,5.699999809265137,5.0,5.199999809265137,4.300000190734863,4.099999904632568,4.400000095367432,4.5,3.9000000953674316,8.100000381469727,4.400000095367432,5.0,4.699999809265137,6.0,5.0,5.0,4.5,5.400000095367432,5.599999904632568,3.9000000953674316,4.0,4.5,3.799999952316284,5.599999904632568,5.199999809265137,4.800000190734863,4.900000095367432,4.099999904632568,4.5,4.400000095367432,4.5,4.5,3.9000000953674316,4.599999904632568,3.799999952316284,4.5,4.400000095367432,4.300000190734863,4.0,3.9000000953674316,5.0,4.099999904632568,4.099999904632568,5.599999904632568,4.099999904632568,4.599999904632568,4.900000095367432,4.5,4.099999904632568,4.099999904632568,4.5,4.199999809265137,3.9000000953674316,5.0,4.400000095367432,4.5,3.799999952316284,5.099999904632568,3.9000000953674316,5.300000190734863,4.199999809265137,4.300000190734863,4.0,4.699999809265137,4.0,4.300000190734863,5.300000190734863,5.199999809265137,4.900000095367432,4.699999809265137,4.599999904632568,5.300000190734863,3.5999999046325684,4.199999809265137,4.099999904632568,4.0,3.9000000953674316,3.700000047683716,4.5,3.9000000953674316,5.099999904632568,4.199999809265137,4.199999809265137,4.800000190734863,4.699999809265137,4.699999809265137,4.599999904632568,3.799999952316284,4.199999809265137,3.700000047683716,4.199999809265137,4.099999904632568,4.0,3.799999952316284,3.799999952316284,3.799999952316284,5.099999904632568,4.0,4.800000190734863,3.9000000953674316,4.599999904632568,4.300000190734863,4.800000190734863,4.099999904632568,4.0,3.700000047683716,4.300000190734863,5.199999809265137,4.199999809265137,5.0,5.0,4.199999809265137,4.800000190734863,4.099999904632568,4.900000095367432,4.300000190734863,3.9000000953674316,4.5,4.099999904632568,5.0,4.0,4.5,3.5999999046325684,4.099999904632568,3.9000000953674316,6.599999904632568,4.0,3.700000047683716,4.300000190734863,4.099999904632568,4.400000095367432,3.799999952316284,5.0,3.700000047683716,3.700000047683716,3.700000047683716,4.300000190734863,3.799999952316284,4.599999904632568,5.0],\"yaxis\":\"y\",\"type\":\"scatter\"}],                        {\"template\":{\"data\":{\"histogram2dcontour\":[{\"type\":\"histogram2dcontour\",\"colorbar\":{\"outlinewidth\":0,\"ticks\":\"\"},\"colorscale\":[[0.0,\"#0d0887\"],[0.1111111111111111,\"#46039f\"],[0.2222222222222222,\"#7201a8\"],[0.3333333333333333,\"#9c179e\"],[0.4444444444444444,\"#bd3786\"],[0.5555555555555556,\"#d8576b\"],[0.6666666666666666,\"#ed7953\"],[0.7777777777777778,\"#fb9f3a\"],[0.8888888888888888,\"#fdca26\"],[1.0,\"#f0f921\"]]}],\"choropleth\":[{\"type\":\"choropleth\",\"colorbar\":{\"outlinewidth\":0,\"ticks\":\"\"}}],\"histogram2d\":[{\"type\":\"histogram2d\",\"colorbar\":{\"outlinewidth\":0,\"ticks\":\"\"},\"colorscale\":[[0.0,\"#0d0887\"],[0.1111111111111111,\"#46039f\"],[0.2222222222222222,\"#7201a8\"],[0.3333333333333333,\"#9c179e\"],[0.4444444444444444,\"#bd3786\"],[0.5555555555555556,\"#d8576b\"],[0.6666666666666666,\"#ed7953\"],[0.7777777777777778,\"#fb9f3a\"],[0.8888888888888888,\"#fdca26\"],[1.0,\"#f0f921\"]]}],\"heatmap\":[{\"type\":\"heatmap\",\"colorbar\":{\"outlinewidth\":0,\"ticks\":\"\"},\"colorscale\":[[0.0,\"#0d0887\"],[0.1111111111111111,\"#46039f\"],[0.2222222222222222,\"#7201a8\"],[0.3333333333333333,\"#9c179e\"],[0.4444444444444444,\"#bd3786\"],[0.5555555555555556,\"#d8576b\"],[0.6666666666666666,\"#ed7953\"],[0.7777777777777778,\"#fb9f3a\"],[0.8888888888888888,\"#fdca26\"],[1.0,\"#f0f921\"]]}],\"heatmapgl\":[{\"type\":\"heatmapgl\",\"colorbar\":{\"outlinewidth\":0,\"ticks\":\"\"},\"colorscale\":[[0.0,\"#0d0887\"],[0.1111111111111111,\"#46039f\"],[0.2222222222222222,\"#7201a8\"],[0.3333333333333333,\"#9c179e\"],[0.4444444444444444,\"#bd3786\"],[0.5555555555555556,\"#d8576b\"],[0.6666666666666666,\"#ed7953\"],[0.7777777777777778,\"#fb9f3a\"],[0.8888888888888888,\"#fdca26\"],[1.0,\"#f0f921\"]]}],\"contourcarpet\":[{\"type\":\"contourcarpet\",\"colorbar\":{\"outlinewidth\":0,\"ticks\":\"\"}}],\"contour\":[{\"type\":\"contour\",\"colorbar\":{\"outlinewidth\":0,\"ticks\":\"\"},\"colorscale\":[[0.0,\"#0d0887\"],[0.1111111111111111,\"#46039f\"],[0.2222222222222222,\"#7201a8\"],[0.3333333333333333,\"#9c179e\"],[0.4444444444444444,\"#bd3786\"],[0.5555555555555556,\"#d8576b\"],[0.6666666666666666,\"#ed7953\"],[0.7777777777777778,\"#fb9f3a\"],[0.8888888888888888,\"#fdca26\"],[1.0,\"#f0f921\"]]}],\"surface\":[{\"type\":\"surface\",\"colorbar\":{\"outlinewidth\":0,\"ticks\":\"\"},\"colorscale\":[[0.0,\"#0d0887\"],[0.1111111111111111,\"#46039f\"],[0.2222222222222222,\"#7201a8\"],[0.3333333333333333,\"#9c179e\"],[0.4444444444444444,\"#bd3786\"],[0.5555555555555556,\"#d8576b\"],[0.6666666666666666,\"#ed7953\"],[0.7777777777777778,\"#fb9f3a\"],[0.8888888888888888,\"#fdca26\"],[1.0,\"#f0f921\"]]}],\"mesh3d\":[{\"type\":\"mesh3d\",\"colorbar\":{\"outlinewidth\":0,\"ticks\":\"\"}}],\"scatter\":[{\"fillpattern\":{\"fillmode\":\"overlay\",\"size\":10,\"solidity\":0.2},\"type\":\"scatter\"}],\"parcoords\":[{\"type\":\"parcoords\",\"line\":{\"colorbar\":{\"outlinewidth\":0,\"ticks\":\"\"}}}],\"scatterpolargl\":[{\"type\":\"scatterpolargl\",\"marker\":{\"colorbar\":{\"outlinewidth\":0,\"ticks\":\"\"}}}],\"bar\":[{\"error_x\":{\"color\":\"#2a3f5f\"},\"error_y\":{\"color\":\"#2a3f5f\"},\"marker\":{\"line\":{\"color\":\"#E5ECF6\",\"width\":0.5},\"pattern\":{\"fillmode\":\"overlay\",\"size\":10,\"solidity\":0.2}},\"type\":\"bar\"}],\"scattergeo\":[{\"type\":\"scattergeo\",\"marker\":{\"colorbar\":{\"outlinewidth\":0,\"ticks\":\"\"}}}],\"scatterpolar\":[{\"type\":\"scatterpolar\",\"marker\":{\"colorbar\":{\"outlinewidth\":0,\"ticks\":\"\"}}}],\"histogram\":[{\"marker\":{\"pattern\":{\"fillmode\":\"overlay\",\"size\":10,\"solidity\":0.2}},\"type\":\"histogram\"}],\"scattergl\":[{\"type\":\"scattergl\",\"marker\":{\"colorbar\":{\"outlinewidth\":0,\"ticks\":\"\"}}}],\"scatter3d\":[{\"type\":\"scatter3d\",\"line\":{\"colorbar\":{\"outlinewidth\":0,\"ticks\":\"\"}},\"marker\":{\"colorbar\":{\"outlinewidth\":0,\"ticks\":\"\"}}}],\"scattermapbox\":[{\"type\":\"scattermapbox\",\"marker\":{\"colorbar\":{\"outlinewidth\":0,\"ticks\":\"\"}}}],\"scatterternary\":[{\"type\":\"scatterternary\",\"marker\":{\"colorbar\":{\"outlinewidth\":0,\"ticks\":\"\"}}}],\"scattercarpet\":[{\"type\":\"scattercarpet\",\"marker\":{\"colorbar\":{\"outlinewidth\":0,\"ticks\":\"\"}}}],\"carpet\":[{\"aaxis\":{\"endlinecolor\":\"#2a3f5f\",\"gridcolor\":\"white\",\"linecolor\":\"white\",\"minorgridcolor\":\"white\",\"startlinecolor\":\"#2a3f5f\"},\"baxis\":{\"endlinecolor\":\"#2a3f5f\",\"gridcolor\":\"white\",\"linecolor\":\"white\",\"minorgridcolor\":\"white\",\"startlinecolor\":\"#2a3f5f\"},\"type\":\"carpet\"}],\"table\":[{\"cells\":{\"fill\":{\"color\":\"#EBF0F8\"},\"line\":{\"color\":\"white\"}},\"header\":{\"fill\":{\"color\":\"#C8D4E3\"},\"line\":{\"color\":\"white\"}},\"type\":\"table\"}],\"barpolar\":[{\"marker\":{\"line\":{\"color\":\"#E5ECF6\",\"width\":0.5},\"pattern\":{\"fillmode\":\"overlay\",\"size\":10,\"solidity\":0.2}},\"type\":\"barpolar\"}],\"pie\":[{\"automargin\":true,\"type\":\"pie\"}]},\"layout\":{\"autotypenumbers\":\"strict\",\"colorway\":[\"#636efa\",\"#EF553B\",\"#00cc96\",\"#ab63fa\",\"#FFA15A\",\"#19d3f3\",\"#FF6692\",\"#B6E880\",\"#FF97FF\",\"#FECB52\"],\"font\":{\"color\":\"#2a3f5f\"},\"hovermode\":\"closest\",\"hoverlabel\":{\"align\":\"left\"},\"paper_bgcolor\":\"white\",\"plot_bgcolor\":\"#E5ECF6\",\"polar\":{\"bgcolor\":\"#E5ECF6\",\"angularaxis\":{\"gridcolor\":\"white\",\"linecolor\":\"white\",\"ticks\":\"\"},\"radialaxis\":{\"gridcolor\":\"white\",\"linecolor\":\"white\",\"ticks\":\"\"}},\"ternary\":{\"bgcolor\":\"#E5ECF6\",\"aaxis\":{\"gridcolor\":\"white\",\"linecolor\":\"white\",\"ticks\":\"\"},\"baxis\":{\"gridcolor\":\"white\",\"linecolor\":\"white\",\"ticks\":\"\"},\"caxis\":{\"gridcolor\":\"white\",\"linecolor\":\"white\",\"ticks\":\"\"}},\"coloraxis\":{\"colorbar\":{\"outlinewidth\":0,\"ticks\":\"\"}},\"colorscale\":{\"sequential\":[[0.0,\"#0d0887\"],[0.1111111111111111,\"#46039f\"],[0.2222222222222222,\"#7201a8\"],[0.3333333333333333,\"#9c179e\"],[0.4444444444444444,\"#bd3786\"],[0.5555555555555556,\"#d8576b\"],[0.6666666666666666,\"#ed7953\"],[0.7777777777777778,\"#fb9f3a\"],[0.8888888888888888,\"#fdca26\"],[1.0,\"#f0f921\"]],\"sequentialminus\":[[0.0,\"#0d0887\"],[0.1111111111111111,\"#46039f\"],[0.2222222222222222,\"#7201a8\"],[0.3333333333333333,\"#9c179e\"],[0.4444444444444444,\"#bd3786\"],[0.5555555555555556,\"#d8576b\"],[0.6666666666666666,\"#ed7953\"],[0.7777777777777778,\"#fb9f3a\"],[0.8888888888888888,\"#fdca26\"],[1.0,\"#f0f921\"]],\"diverging\":[[0,\"#8e0152\"],[0.1,\"#c51b7d\"],[0.2,\"#de77ae\"],[0.3,\"#f1b6da\"],[0.4,\"#fde0ef\"],[0.5,\"#f7f7f7\"],[0.6,\"#e6f5d0\"],[0.7,\"#b8e186\"],[0.8,\"#7fbc41\"],[0.9,\"#4d9221\"],[1,\"#276419\"]]},\"xaxis\":{\"gridcolor\":\"white\",\"linecolor\":\"white\",\"ticks\":\"\",\"title\":{\"standoff\":15},\"zerolinecolor\":\"white\",\"automargin\":true,\"zerolinewidth\":2},\"yaxis\":{\"gridcolor\":\"white\",\"linecolor\":\"white\",\"ticks\":\"\",\"title\":{\"standoff\":15},\"zerolinecolor\":\"white\",\"automargin\":true,\"zerolinewidth\":2},\"scene\":{\"xaxis\":{\"backgroundcolor\":\"#E5ECF6\",\"gridcolor\":\"white\",\"linecolor\":\"white\",\"showbackground\":true,\"ticks\":\"\",\"zerolinecolor\":\"white\",\"gridwidth\":2},\"yaxis\":{\"backgroundcolor\":\"#E5ECF6\",\"gridcolor\":\"white\",\"linecolor\":\"white\",\"showbackground\":true,\"ticks\":\"\",\"zerolinecolor\":\"white\",\"gridwidth\":2},\"zaxis\":{\"backgroundcolor\":\"#E5ECF6\",\"gridcolor\":\"white\",\"linecolor\":\"white\",\"showbackground\":true,\"ticks\":\"\",\"zerolinecolor\":\"white\",\"gridwidth\":2}},\"shapedefaults\":{\"line\":{\"color\":\"#2a3f5f\"}},\"annotationdefaults\":{\"arrowcolor\":\"#2a3f5f\",\"arrowhead\":0,\"arrowwidth\":1},\"geo\":{\"bgcolor\":\"white\",\"landcolor\":\"#E5ECF6\",\"subunitcolor\":\"white\",\"showland\":true,\"showlakes\":true,\"lakecolor\":\"white\"},\"title\":{\"x\":0.05},\"mapbox\":{\"style\":\"light\"}}},\"xaxis\":{\"anchor\":\"y\",\"domain\":[0.0,1.0],\"title\":{\"text\":\"temp_outside\"}},\"yaxis\":{\"anchor\":\"x\",\"domain\":[0.0,1.0],\"title\":{\"text\":\"consume\"}},\"coloraxis\":{\"colorbar\":{\"title\":{\"text\":\"fuel\"}},\"colorscale\":[[0.0,\"#0d0887\"],[0.1111111111111111,\"#46039f\"],[0.2222222222222222,\"#7201a8\"],[0.3333333333333333,\"#9c179e\"],[0.4444444444444444,\"#bd3786\"],[0.5555555555555556,\"#d8576b\"],[0.6666666666666666,\"#ed7953\"],[0.7777777777777778,\"#fb9f3a\"],[0.8888888888888888,\"#fdca26\"],[1.0,\"#f0f921\"]]},\"legend\":{\"tracegroupgap\":0,\"itemsizing\":\"constant\"},\"title\":{\"text\":\"Consume vs Temp Outside\"}},                        {\"responsive\": true}                    ).then(function(){\n",
       "                            \n",
       "var gd = document.getElementById('091ef2f5-7177-4470-a1f5-9716285205e0');\n",
       "var x = new MutationObserver(function (mutations, observer) {{\n",
       "        var display = window.getComputedStyle(gd).display;\n",
       "        if (!display || display === 'none') {{\n",
       "            console.log([gd, 'removed!']);\n",
       "            Plotly.purge(gd);\n",
       "            observer.disconnect();\n",
       "        }}\n",
       "}});\n",
       "\n",
       "// Listen for the removal of the full notebook cells\n",
       "var notebookContainer = gd.closest('#notebook-container');\n",
       "if (notebookContainer) {{\n",
       "    x.observe(notebookContainer, {childList: true});\n",
       "}}\n",
       "\n",
       "// Listen for the clearing of the current output cell\n",
       "var outputEl = gd.closest('.output');\n",
       "if (outputEl) {{\n",
       "    x.observe(outputEl, {childList: true});\n",
       "}}\n",
       "\n",
       "                        })                };                });            </script>        </div>"
      ]
     },
     "metadata": {},
     "output_type": "display_data"
    }
   ],
   "source": [
    "px.scatter(measures,x='temp_outside',y='consume',color='fuel',size='consume',title='Consume vs Temp Outside')"
   ]
  },
  {
   "cell_type": "code",
   "execution_count": 212,
   "id": "c7305aa0",
   "metadata": {},
   "outputs": [
    {
     "data": {
      "application/vnd.plotly.v1+json": {
       "config": {
        "plotlyServerURL": "https://plot.ly"
       },
       "data": [
        {
         "hovertemplate": "temp_inside=%{x}<br>consume=%{marker.size}<br>fuel=%{marker.color}<extra></extra>",
         "legendgroup": "",
         "marker": {
          "color": [
           0,
           0,
           0,
           0,
           0,
           0,
           0,
           0,
           0,
           0,
           0,
           0,
           0,
           0,
           0,
           0,
           0,
           0,
           0,
           0,
           0,
           0,
           0,
           0,
           0,
           0,
           0,
           0,
           0,
           0,
           0,
           0,
           0,
           0,
           0,
           0,
           0,
           0,
           0,
           0,
           0,
           0,
           0,
           0,
           1,
           1,
           1,
           1,
           1,
           1,
           1,
           1,
           1,
           1,
           1,
           1,
           1,
           1,
           1,
           1,
           1,
           1,
           1,
           1,
           1,
           1,
           1,
           1,
           1,
           1,
           1,
           1,
           1,
           1,
           1,
           1,
           1,
           1,
           1,
           1,
           1,
           1,
           1,
           1,
           1,
           1,
           1,
           1,
           1,
           1,
           1,
           1,
           1,
           1,
           1,
           1,
           1,
           1,
           1,
           1,
           1,
           1,
           1,
           1,
           1,
           1,
           1,
           1,
           1,
           1,
           1,
           1,
           1,
           1,
           1,
           1,
           1,
           1,
           1,
           1,
           1,
           1,
           1,
           1,
           1,
           1,
           1,
           1,
           1,
           1,
           1,
           1,
           0,
           0,
           0,
           0,
           0,
           0,
           0,
           0,
           0,
           0,
           0,
           0,
           0,
           0,
           0,
           0,
           0,
           0,
           0,
           0,
           0,
           0,
           0,
           0,
           0,
           0,
           0,
           0,
           0,
           0,
           0,
           0,
           0,
           0,
           0,
           0,
           0,
           0,
           0,
           0,
           0,
           0,
           0,
           0,
           0,
           0,
           0,
           0,
           0,
           0,
           0,
           0,
           1,
           1,
           1,
           1,
           1,
           1,
           1,
           1,
           1,
           1,
           1,
           1,
           1,
           1,
           1,
           1,
           1,
           1,
           1,
           1,
           1,
           1,
           1,
           1,
           1,
           1,
           1,
           1,
           1,
           1,
           1,
           1,
           1,
           1,
           1,
           1,
           1,
           1,
           1,
           1,
           1,
           0,
           0,
           0,
           0,
           0,
           0,
           0,
           0,
           0,
           0,
           0,
           0,
           0,
           0,
           0,
           0,
           0,
           0,
           0,
           0,
           0,
           0,
           0,
           0,
           0,
           0,
           0,
           0,
           0,
           0,
           0,
           0,
           0,
           0,
           0,
           0,
           0,
           1,
           1,
           1,
           1,
           1,
           1,
           1,
           1,
           1,
           1,
           1,
           1,
           1,
           1,
           1,
           1,
           1,
           1,
           1,
           1,
           1,
           1,
           1,
           1,
           1,
           1,
           1,
           1,
           1,
           1,
           1,
           1,
           1,
           1,
           1,
           1,
           1,
           1,
           1,
           1,
           1,
           1,
           1,
           1,
           1,
           1,
           1,
           1,
           1,
           1,
           1,
           0,
           0,
           0,
           0,
           0,
           0,
           0,
           0,
           0,
           0,
           0,
           0,
           0,
           0,
           0,
           0,
           0,
           0,
           0,
           0,
           0,
           0,
           0,
           0,
           1,
           1,
           1,
           1,
           1,
           1,
           1,
           1,
           1,
           1,
           1,
           1,
           1,
           1,
           1,
           1,
           1,
           1,
           1,
           1,
           1,
           1,
           1,
           1,
           1,
           1,
           1,
           1,
           1,
           1,
           1,
           1,
           1,
           1,
           1,
           1,
           1,
           1,
           1
          ],
          "coloraxis": "coloraxis",
          "size": [
           5,
           4.199999809265137,
           5.5,
           3.9000000953674316,
           4.5,
           6.400000095367432,
           4.400000095367432,
           5,
           6.400000095367432,
           5.300000190734863,
           5.599999904632568,
           4.599999904632568,
           5.900000095367432,
           5.099999904632568,
           4.699999809265137,
           5.099999904632568,
           5.599999904632568,
           5.099999904632568,
           4.900000095367432,
           4.699999809265137,
           5.5,
           5.900000095367432,
           5.699999809265137,
           4.699999809265137,
           5.900000095367432,
           4.099999904632568,
           5.699999809265137,
           5.800000190734863,
           5.5,
           5.699999809265137,
           5.300000190734863,
           5,
           5.599999904632568,
           4.800000190734863,
           4.300000190734863,
           5.699999809265137,
           5.199999809265137,
           7.400000095367432,
           4.800000190734863,
           6.5,
           4,
           5,
           4.599999904632568,
           4.300000190734863,
           3.299999952316284,
           9.899999618530273,
           5.099999904632568,
           4.900000095367432,
           4.900000095367432,
           4.699999809265137,
           5.099999904632568,
           4.900000095367432,
           4.199999809265137,
           6.099999904632568,
           6.400000095367432,
           4.900000095367432,
           4.900000095367432,
           6.199999809265137,
           4.199999809265137,
           5.699999809265137,
           7.900000095367432,
           12.199999809265137,
           5.800000190734863,
           5.300000190734863,
           5.400000095367432,
           4.699999809265137,
           4.599999904632568,
           5.400000095367432,
           4.300000190734863,
           4.5,
           5.199999809265137,
           6.199999809265137,
           5.099999904632568,
           3.9000000953674316,
           5,
           5.400000095367432,
           4.5,
           5.099999904632568,
           4.699999809265137,
           4,
           5.400000095367432,
           4.5,
           3.5999999046325684,
           5.199999809265137,
           4.900000095367432,
           6.199999809265137,
           4.300000190734863,
           5,
           5.099999904632568,
           5.599999904632568,
           4.300000190734863,
           5.800000190734863,
           4,
           5.900000095367432,
           4.199999809265137,
           5.800000190734863,
           6.900000095367432,
           5.400000095367432,
           5.300000190734863,
           5.5,
           6.5,
           4.699999809265137,
           5.099999904632568,
           5.699999809265137,
           5.400000095367432,
           8.699999809265137,
           4.900000095367432,
           4.699999809265137,
           6.300000190734863,
           5.099999904632568,
           6,
           4.599999904632568,
           5.800000190734863,
           5.099999904632568,
           5.800000190734863,
           4.599999904632568,
           5.599999904632568,
           4.599999904632568,
           6.300000190734863,
           5.5,
           4.300000190734863,
           5.599999904632568,
           4.300000190734863,
           5.699999809265137,
           6.400000095367432,
           4.5,
           4.5,
           6,
           5.099999904632568,
           6,
           4.5,
           6.099999904632568,
           5.400000095367432,
           4.300000190734863,
           5.400000095367432,
           4.300000190734863,
           5.199999809265137,
           4.099999904632568,
           4.400000095367432,
           4.5,
           10.800000190734863,
           4.699999809265137,
           4.800000190734863,
           4,
           5,
           4.599999904632568,
           5,
           4.300000190734863,
           5.199999809265137,
           4.699999809265137,
           4.199999809265137,
           5.300000190734863,
           5.300000190734863,
           8.100000381469727,
           4.800000190734863,
           5.099999904632568,
           4.400000095367432,
           5,
           6.300000190734863,
           4.800000190734863,
           6.099999904632568,
           4.599999904632568,
           4.800000190734863,
           4.699999809265137,
           4.800000190734863,
           4.400000095367432,
           4.900000095367432,
           4.900000095367432,
           4.400000095367432,
           5.300000190734863,
           5.300000190734863,
           4.800000190734863,
           5.199999809265137,
           4.900000095367432,
           7.099999904632568,
           5.199999809265137,
           4.699999809265137,
           5.099999904632568,
           5,
           4.599999904632568,
           4.800000190734863,
           4.400000095367432,
           4.599999904632568,
           4.300000190734863,
           4.699999809265137,
           4.199999809265137,
           4.800000190734863,
           4.099999904632568,
           4.5,
           4.800000190734863,
           4.599999904632568,
           7.400000095367432,
           5.599999904632568,
           4.900000095367432,
           4.5,
           5.300000190734863,
           4.699999809265137,
           9,
           6.300000190734863,
           3.5999999046325684,
           3.700000047683716,
           11.5,
           5,
           5.5,
           4.699999809265137,
           4.5,
           4.400000095367432,
           4.099999904632568,
           4.400000095367432,
           4.599999904632568,
           4.400000095367432,
           4,
           5,
           5.199999809265137,
           4,
           5.099999904632568,
           4.5,
           4.599999904632568,
           5.099999904632568,
           5.699999809265137,
           4.800000190734863,
           6.199999809265137,
           5,
           5,
           4.599999904632568,
           4.5,
           4.800000190734863,
           5,
           4.800000190734863,
           4.599999904632568,
           4.5,
           4.599999904632568,
           4.400000095367432,
           5.699999809265137,
           5.800000190734863,
           5.900000095367432,
           6.099999904632568,
           5.699999809265137,
           5,
           5.199999809265137,
           4.300000190734863,
           4.099999904632568,
           4.400000095367432,
           4.5,
           3.9000000953674316,
           8.100000381469727,
           4.400000095367432,
           5,
           4.699999809265137,
           6,
           5,
           5,
           4.5,
           5.400000095367432,
           5.599999904632568,
           3.9000000953674316,
           4,
           4.5,
           3.799999952316284,
           5.599999904632568,
           5.199999809265137,
           4.800000190734863,
           4.900000095367432,
           4.099999904632568,
           4.5,
           4.400000095367432,
           4.5,
           4.5,
           3.9000000953674316,
           4.599999904632568,
           3.799999952316284,
           4.5,
           4.400000095367432,
           4.300000190734863,
           4,
           3.9000000953674316,
           5,
           4.099999904632568,
           4.099999904632568,
           5.599999904632568,
           4.099999904632568,
           4.599999904632568,
           4.900000095367432,
           4.5,
           4.099999904632568,
           4.099999904632568,
           4.5,
           4.199999809265137,
           3.9000000953674316,
           5,
           4.400000095367432,
           4.5,
           3.799999952316284,
           5.099999904632568,
           3.9000000953674316,
           5.300000190734863,
           4.199999809265137,
           4.300000190734863,
           4,
           4.699999809265137,
           4,
           4.300000190734863,
           5.300000190734863,
           5.199999809265137,
           4.900000095367432,
           4.699999809265137,
           4.599999904632568,
           5.300000190734863,
           3.5999999046325684,
           4.199999809265137,
           4.099999904632568,
           4,
           3.9000000953674316,
           3.700000047683716,
           4.5,
           3.9000000953674316,
           5.099999904632568,
           4.199999809265137,
           4.199999809265137,
           4.800000190734863,
           4.699999809265137,
           4.699999809265137,
           4.599999904632568,
           3.799999952316284,
           4.199999809265137,
           3.700000047683716,
           4.199999809265137,
           4.099999904632568,
           4,
           3.799999952316284,
           3.799999952316284,
           3.799999952316284,
           5.099999904632568,
           4,
           4.800000190734863,
           3.9000000953674316,
           4.599999904632568,
           4.300000190734863,
           4.800000190734863,
           4.099999904632568,
           4,
           3.700000047683716,
           4.300000190734863,
           5.199999809265137,
           4.199999809265137,
           5,
           5,
           4.199999809265137,
           4.800000190734863,
           4.099999904632568,
           4.900000095367432,
           4.300000190734863,
           3.9000000953674316,
           4.5,
           4.099999904632568,
           5,
           4,
           4.5,
           3.5999999046325684,
           4.099999904632568,
           3.9000000953674316,
           6.599999904632568,
           4,
           3.700000047683716,
           4.300000190734863,
           4.099999904632568,
           4.400000095367432,
           3.799999952316284,
           5,
           3.700000047683716,
           3.700000047683716,
           3.700000047683716,
           4.300000190734863,
           3.799999952316284,
           4.599999904632568,
           5
          ],
          "sizemode": "area",
          "sizeref": 0.030499999523162843,
          "symbol": "circle"
         },
         "mode": "markers",
         "name": "",
         "orientation": "v",
         "showlegend": false,
         "type": "scatter",
         "x": [
          21.5,
          21.5,
          21.5,
          21.5,
          21.5,
          21.5,
          21.5,
          21.5,
          21.5,
          21.5,
          21.5,
          21.5,
          21.5,
          21.5,
          21.5,
          21.5,
          21.5,
          21.5,
          21.5,
          21.5,
          21.5,
          21.5,
          21.5,
          21.5,
          21.5,
          21.5,
          22.5,
          21.5,
          21.5,
          21.5,
          21.5,
          21.5,
          21.5,
          21.5,
          21.5,
          21.5,
          21.5,
          21.5,
          21.5,
          21.5,
          21.5,
          21.5,
          21.5,
          21.5,
          21.5,
          21.5,
          21.5,
          21.5,
          21.5,
          21.5,
          21.5,
          21.5,
          21.5,
          21.5,
          21.5,
          21.5,
          21.5,
          21.5,
          21.5,
          21.5,
          21.5,
          21.5,
          21.5,
          21.5,
          21.5,
          21.5,
          21.5,
          21.5,
          21.5,
          21.5,
          21.5,
          21.5,
          21.5,
          21.5,
          21.5,
          21.5,
          21.5,
          21.5,
          21.5,
          20,
          20,
          20,
          20,
          20,
          20,
          20,
          20,
          20,
          20,
          20,
          20,
          20,
          20,
          20,
          20,
          21,
          21,
          21,
          20.5,
          23,
          21,
          21,
          21,
          21,
          21,
          23.5,
          20.5,
          20.5,
          20.5,
          23,
          23,
          23,
          23,
          23,
          23,
          23,
          23,
          23,
          23,
          25,
          24,
          21.5,
          21.5,
          21.5,
          21.5,
          21.5,
          21.5,
          21.5,
          21.5,
          21.5,
          21.5,
          21.5,
          21.5,
          21.5,
          21.5,
          21.5,
          21.5,
          21.5,
          21.5,
          21.5,
          21.5,
          21.5,
          21.5,
          21.5,
          21.5,
          21.5,
          21.5,
          21.5,
          21.5,
          21.5,
          21.5,
          21.5,
          21.5,
          21.5,
          21.5,
          21.5,
          21.5,
          21.5,
          21.5,
          21.5,
          21.5,
          21.5,
          21.5,
          21.5,
          21.5,
          21.5,
          21.5,
          21.5,
          21,
          21,
          21,
          21,
          21,
          22.5,
          22.5,
          22.5,
          22.5,
          22.5,
          22.5,
          22.5,
          22.5,
          22,
          22,
          22,
          22,
          22,
          22,
          22,
          21.5,
          21.5,
          21.5,
          21.5,
          21.5,
          21.5,
          19,
          22.5,
          22.5,
          20,
          20,
          20,
          20,
          20,
          20,
          20,
          20,
          20,
          22.5,
          22.5,
          22.5,
          22.5,
          22.5,
          22.5,
          22.5,
          22.5,
          22.5,
          22.5,
          22.5,
          22.5,
          22.5,
          22.5,
          22.5,
          22.5,
          22.5,
          22.5,
          22.5,
          22.5,
          22.5,
          22.5,
          22.5,
          22.5,
          22.5,
          22.5,
          22.5,
          22.5,
          22.5,
          22.5,
          22.5,
          22.5,
          22.5,
          22.5,
          22.5,
          22.5,
          22.5,
          22.5,
          22.5,
          22.5,
          22.5,
          22.5,
          22.5,
          22.5,
          22.5,
          22.5,
          22.5,
          22.5,
          22,
          22,
          22,
          22,
          22,
          22,
          22,
          23,
          22,
          22,
          22,
          22,
          22,
          22,
          22,
          22,
          22,
          22,
          22,
          22,
          22,
          22,
          22,
          22,
          22,
          22,
          22,
          22,
          22,
          22,
          22,
          22,
          22,
          25,
          23,
          22,
          22,
          22,
          22,
          22,
          22,
          22,
          22,
          22,
          22,
          22,
          22,
          22,
          22,
          22,
          22,
          22,
          22,
          22,
          22,
          22,
          22,
          22,
          22,
          22,
          22,
          22,
          22,
          22,
          22,
          25,
          25,
          23.5,
          24,
          21.5,
          21.5,
          22,
          22,
          22,
          22,
          22,
          22,
          22,
          25,
          22,
          22,
          22,
          22,
          22,
          22,
          22,
          22,
          22,
          22,
          22,
          22,
          24.5,
          22,
          22,
          22,
          22,
          22,
          22,
          22,
          22,
          25.5,
          25.5,
          22,
          22,
          22,
          22,
          22,
          24,
          25,
          25,
          25,
          22,
          24.5,
          24.5,
          24.5,
          24.5,
          24.5,
          24.5,
          25,
          25,
          25,
          25
         ],
         "xaxis": "x",
         "y": [
          5,
          4.199999809265137,
          5.5,
          3.9000000953674316,
          4.5,
          6.400000095367432,
          4.400000095367432,
          5,
          6.400000095367432,
          5.300000190734863,
          5.599999904632568,
          4.599999904632568,
          5.900000095367432,
          5.099999904632568,
          4.699999809265137,
          5.099999904632568,
          5.599999904632568,
          5.099999904632568,
          4.900000095367432,
          4.699999809265137,
          5.5,
          5.900000095367432,
          5.699999809265137,
          4.699999809265137,
          5.900000095367432,
          4.099999904632568,
          5.699999809265137,
          5.800000190734863,
          5.5,
          5.699999809265137,
          5.300000190734863,
          5,
          5.599999904632568,
          4.800000190734863,
          4.300000190734863,
          5.699999809265137,
          5.199999809265137,
          7.400000095367432,
          4.800000190734863,
          6.5,
          4,
          5,
          4.599999904632568,
          4.300000190734863,
          3.299999952316284,
          9.899999618530273,
          5.099999904632568,
          4.900000095367432,
          4.900000095367432,
          4.699999809265137,
          5.099999904632568,
          4.900000095367432,
          4.199999809265137,
          6.099999904632568,
          6.400000095367432,
          4.900000095367432,
          4.900000095367432,
          6.199999809265137,
          4.199999809265137,
          5.699999809265137,
          7.900000095367432,
          12.199999809265137,
          5.800000190734863,
          5.300000190734863,
          5.400000095367432,
          4.699999809265137,
          4.599999904632568,
          5.400000095367432,
          4.300000190734863,
          4.5,
          5.199999809265137,
          6.199999809265137,
          5.099999904632568,
          3.9000000953674316,
          5,
          5.400000095367432,
          4.5,
          5.099999904632568,
          4.699999809265137,
          4,
          5.400000095367432,
          4.5,
          3.5999999046325684,
          5.199999809265137,
          4.900000095367432,
          6.199999809265137,
          4.300000190734863,
          5,
          5.099999904632568,
          5.599999904632568,
          4.300000190734863,
          5.800000190734863,
          4,
          5.900000095367432,
          4.199999809265137,
          5.800000190734863,
          6.900000095367432,
          5.400000095367432,
          5.300000190734863,
          5.5,
          6.5,
          4.699999809265137,
          5.099999904632568,
          5.699999809265137,
          5.400000095367432,
          8.699999809265137,
          4.900000095367432,
          4.699999809265137,
          6.300000190734863,
          5.099999904632568,
          6,
          4.599999904632568,
          5.800000190734863,
          5.099999904632568,
          5.800000190734863,
          4.599999904632568,
          5.599999904632568,
          4.599999904632568,
          6.300000190734863,
          5.5,
          4.300000190734863,
          5.599999904632568,
          4.300000190734863,
          5.699999809265137,
          6.400000095367432,
          4.5,
          4.5,
          6,
          5.099999904632568,
          6,
          4.5,
          6.099999904632568,
          5.400000095367432,
          4.300000190734863,
          5.400000095367432,
          4.300000190734863,
          5.199999809265137,
          4.099999904632568,
          4.400000095367432,
          4.5,
          10.800000190734863,
          4.699999809265137,
          4.800000190734863,
          4,
          5,
          4.599999904632568,
          5,
          4.300000190734863,
          5.199999809265137,
          4.699999809265137,
          4.199999809265137,
          5.300000190734863,
          5.300000190734863,
          8.100000381469727,
          4.800000190734863,
          5.099999904632568,
          4.400000095367432,
          5,
          6.300000190734863,
          4.800000190734863,
          6.099999904632568,
          4.599999904632568,
          4.800000190734863,
          4.699999809265137,
          4.800000190734863,
          4.400000095367432,
          4.900000095367432,
          4.900000095367432,
          4.400000095367432,
          5.300000190734863,
          5.300000190734863,
          4.800000190734863,
          5.199999809265137,
          4.900000095367432,
          7.099999904632568,
          5.199999809265137,
          4.699999809265137,
          5.099999904632568,
          5,
          4.599999904632568,
          4.800000190734863,
          4.400000095367432,
          4.599999904632568,
          4.300000190734863,
          4.699999809265137,
          4.199999809265137,
          4.800000190734863,
          4.099999904632568,
          4.5,
          4.800000190734863,
          4.599999904632568,
          7.400000095367432,
          5.599999904632568,
          4.900000095367432,
          4.5,
          5.300000190734863,
          4.699999809265137,
          9,
          6.300000190734863,
          3.5999999046325684,
          3.700000047683716,
          11.5,
          5,
          5.5,
          4.699999809265137,
          4.5,
          4.400000095367432,
          4.099999904632568,
          4.400000095367432,
          4.599999904632568,
          4.400000095367432,
          4,
          5,
          5.199999809265137,
          4,
          5.099999904632568,
          4.5,
          4.599999904632568,
          5.099999904632568,
          5.699999809265137,
          4.800000190734863,
          6.199999809265137,
          5,
          5,
          4.599999904632568,
          4.5,
          4.800000190734863,
          5,
          4.800000190734863,
          4.599999904632568,
          4.5,
          4.599999904632568,
          4.400000095367432,
          5.699999809265137,
          5.800000190734863,
          5.900000095367432,
          6.099999904632568,
          5.699999809265137,
          5,
          5.199999809265137,
          4.300000190734863,
          4.099999904632568,
          4.400000095367432,
          4.5,
          3.9000000953674316,
          8.100000381469727,
          4.400000095367432,
          5,
          4.699999809265137,
          6,
          5,
          5,
          4.5,
          5.400000095367432,
          5.599999904632568,
          3.9000000953674316,
          4,
          4.5,
          3.799999952316284,
          5.599999904632568,
          5.199999809265137,
          4.800000190734863,
          4.900000095367432,
          4.099999904632568,
          4.5,
          4.400000095367432,
          4.5,
          4.5,
          3.9000000953674316,
          4.599999904632568,
          3.799999952316284,
          4.5,
          4.400000095367432,
          4.300000190734863,
          4,
          3.9000000953674316,
          5,
          4.099999904632568,
          4.099999904632568,
          5.599999904632568,
          4.099999904632568,
          4.599999904632568,
          4.900000095367432,
          4.5,
          4.099999904632568,
          4.099999904632568,
          4.5,
          4.199999809265137,
          3.9000000953674316,
          5,
          4.400000095367432,
          4.5,
          3.799999952316284,
          5.099999904632568,
          3.9000000953674316,
          5.300000190734863,
          4.199999809265137,
          4.300000190734863,
          4,
          4.699999809265137,
          4,
          4.300000190734863,
          5.300000190734863,
          5.199999809265137,
          4.900000095367432,
          4.699999809265137,
          4.599999904632568,
          5.300000190734863,
          3.5999999046325684,
          4.199999809265137,
          4.099999904632568,
          4,
          3.9000000953674316,
          3.700000047683716,
          4.5,
          3.9000000953674316,
          5.099999904632568,
          4.199999809265137,
          4.199999809265137,
          4.800000190734863,
          4.699999809265137,
          4.699999809265137,
          4.599999904632568,
          3.799999952316284,
          4.199999809265137,
          3.700000047683716,
          4.199999809265137,
          4.099999904632568,
          4,
          3.799999952316284,
          3.799999952316284,
          3.799999952316284,
          5.099999904632568,
          4,
          4.800000190734863,
          3.9000000953674316,
          4.599999904632568,
          4.300000190734863,
          4.800000190734863,
          4.099999904632568,
          4,
          3.700000047683716,
          4.300000190734863,
          5.199999809265137,
          4.199999809265137,
          5,
          5,
          4.199999809265137,
          4.800000190734863,
          4.099999904632568,
          4.900000095367432,
          4.300000190734863,
          3.9000000953674316,
          4.5,
          4.099999904632568,
          5,
          4,
          4.5,
          3.5999999046325684,
          4.099999904632568,
          3.9000000953674316,
          6.599999904632568,
          4,
          3.700000047683716,
          4.300000190734863,
          4.099999904632568,
          4.400000095367432,
          3.799999952316284,
          5,
          3.700000047683716,
          3.700000047683716,
          3.700000047683716,
          4.300000190734863,
          3.799999952316284,
          4.599999904632568,
          5
         ],
         "yaxis": "y"
        }
       ],
       "layout": {
        "coloraxis": {
         "colorbar": {
          "title": {
           "text": "fuel"
          }
         },
         "colorscale": [
          [
           0,
           "#0d0887"
          ],
          [
           0.1111111111111111,
           "#46039f"
          ],
          [
           0.2222222222222222,
           "#7201a8"
          ],
          [
           0.3333333333333333,
           "#9c179e"
          ],
          [
           0.4444444444444444,
           "#bd3786"
          ],
          [
           0.5555555555555556,
           "#d8576b"
          ],
          [
           0.6666666666666666,
           "#ed7953"
          ],
          [
           0.7777777777777778,
           "#fb9f3a"
          ],
          [
           0.8888888888888888,
           "#fdca26"
          ],
          [
           1,
           "#f0f921"
          ]
         ]
        },
        "legend": {
         "itemsizing": "constant",
         "tracegroupgap": 0
        },
        "template": {
         "data": {
          "bar": [
           {
            "error_x": {
             "color": "#2a3f5f"
            },
            "error_y": {
             "color": "#2a3f5f"
            },
            "marker": {
             "line": {
              "color": "#E5ECF6",
              "width": 0.5
             },
             "pattern": {
              "fillmode": "overlay",
              "size": 10,
              "solidity": 0.2
             }
            },
            "type": "bar"
           }
          ],
          "barpolar": [
           {
            "marker": {
             "line": {
              "color": "#E5ECF6",
              "width": 0.5
             },
             "pattern": {
              "fillmode": "overlay",
              "size": 10,
              "solidity": 0.2
             }
            },
            "type": "barpolar"
           }
          ],
          "carpet": [
           {
            "aaxis": {
             "endlinecolor": "#2a3f5f",
             "gridcolor": "white",
             "linecolor": "white",
             "minorgridcolor": "white",
             "startlinecolor": "#2a3f5f"
            },
            "baxis": {
             "endlinecolor": "#2a3f5f",
             "gridcolor": "white",
             "linecolor": "white",
             "minorgridcolor": "white",
             "startlinecolor": "#2a3f5f"
            },
            "type": "carpet"
           }
          ],
          "choropleth": [
           {
            "colorbar": {
             "outlinewidth": 0,
             "ticks": ""
            },
            "type": "choropleth"
           }
          ],
          "contour": [
           {
            "colorbar": {
             "outlinewidth": 0,
             "ticks": ""
            },
            "colorscale": [
             [
              0,
              "#0d0887"
             ],
             [
              0.1111111111111111,
              "#46039f"
             ],
             [
              0.2222222222222222,
              "#7201a8"
             ],
             [
              0.3333333333333333,
              "#9c179e"
             ],
             [
              0.4444444444444444,
              "#bd3786"
             ],
             [
              0.5555555555555556,
              "#d8576b"
             ],
             [
              0.6666666666666666,
              "#ed7953"
             ],
             [
              0.7777777777777778,
              "#fb9f3a"
             ],
             [
              0.8888888888888888,
              "#fdca26"
             ],
             [
              1,
              "#f0f921"
             ]
            ],
            "type": "contour"
           }
          ],
          "contourcarpet": [
           {
            "colorbar": {
             "outlinewidth": 0,
             "ticks": ""
            },
            "type": "contourcarpet"
           }
          ],
          "heatmap": [
           {
            "colorbar": {
             "outlinewidth": 0,
             "ticks": ""
            },
            "colorscale": [
             [
              0,
              "#0d0887"
             ],
             [
              0.1111111111111111,
              "#46039f"
             ],
             [
              0.2222222222222222,
              "#7201a8"
             ],
             [
              0.3333333333333333,
              "#9c179e"
             ],
             [
              0.4444444444444444,
              "#bd3786"
             ],
             [
              0.5555555555555556,
              "#d8576b"
             ],
             [
              0.6666666666666666,
              "#ed7953"
             ],
             [
              0.7777777777777778,
              "#fb9f3a"
             ],
             [
              0.8888888888888888,
              "#fdca26"
             ],
             [
              1,
              "#f0f921"
             ]
            ],
            "type": "heatmap"
           }
          ],
          "heatmapgl": [
           {
            "colorbar": {
             "outlinewidth": 0,
             "ticks": ""
            },
            "colorscale": [
             [
              0,
              "#0d0887"
             ],
             [
              0.1111111111111111,
              "#46039f"
             ],
             [
              0.2222222222222222,
              "#7201a8"
             ],
             [
              0.3333333333333333,
              "#9c179e"
             ],
             [
              0.4444444444444444,
              "#bd3786"
             ],
             [
              0.5555555555555556,
              "#d8576b"
             ],
             [
              0.6666666666666666,
              "#ed7953"
             ],
             [
              0.7777777777777778,
              "#fb9f3a"
             ],
             [
              0.8888888888888888,
              "#fdca26"
             ],
             [
              1,
              "#f0f921"
             ]
            ],
            "type": "heatmapgl"
           }
          ],
          "histogram": [
           {
            "marker": {
             "pattern": {
              "fillmode": "overlay",
              "size": 10,
              "solidity": 0.2
             }
            },
            "type": "histogram"
           }
          ],
          "histogram2d": [
           {
            "colorbar": {
             "outlinewidth": 0,
             "ticks": ""
            },
            "colorscale": [
             [
              0,
              "#0d0887"
             ],
             [
              0.1111111111111111,
              "#46039f"
             ],
             [
              0.2222222222222222,
              "#7201a8"
             ],
             [
              0.3333333333333333,
              "#9c179e"
             ],
             [
              0.4444444444444444,
              "#bd3786"
             ],
             [
              0.5555555555555556,
              "#d8576b"
             ],
             [
              0.6666666666666666,
              "#ed7953"
             ],
             [
              0.7777777777777778,
              "#fb9f3a"
             ],
             [
              0.8888888888888888,
              "#fdca26"
             ],
             [
              1,
              "#f0f921"
             ]
            ],
            "type": "histogram2d"
           }
          ],
          "histogram2dcontour": [
           {
            "colorbar": {
             "outlinewidth": 0,
             "ticks": ""
            },
            "colorscale": [
             [
              0,
              "#0d0887"
             ],
             [
              0.1111111111111111,
              "#46039f"
             ],
             [
              0.2222222222222222,
              "#7201a8"
             ],
             [
              0.3333333333333333,
              "#9c179e"
             ],
             [
              0.4444444444444444,
              "#bd3786"
             ],
             [
              0.5555555555555556,
              "#d8576b"
             ],
             [
              0.6666666666666666,
              "#ed7953"
             ],
             [
              0.7777777777777778,
              "#fb9f3a"
             ],
             [
              0.8888888888888888,
              "#fdca26"
             ],
             [
              1,
              "#f0f921"
             ]
            ],
            "type": "histogram2dcontour"
           }
          ],
          "mesh3d": [
           {
            "colorbar": {
             "outlinewidth": 0,
             "ticks": ""
            },
            "type": "mesh3d"
           }
          ],
          "parcoords": [
           {
            "line": {
             "colorbar": {
              "outlinewidth": 0,
              "ticks": ""
             }
            },
            "type": "parcoords"
           }
          ],
          "pie": [
           {
            "automargin": true,
            "type": "pie"
           }
          ],
          "scatter": [
           {
            "fillpattern": {
             "fillmode": "overlay",
             "size": 10,
             "solidity": 0.2
            },
            "type": "scatter"
           }
          ],
          "scatter3d": [
           {
            "line": {
             "colorbar": {
              "outlinewidth": 0,
              "ticks": ""
             }
            },
            "marker": {
             "colorbar": {
              "outlinewidth": 0,
              "ticks": ""
             }
            },
            "type": "scatter3d"
           }
          ],
          "scattercarpet": [
           {
            "marker": {
             "colorbar": {
              "outlinewidth": 0,
              "ticks": ""
             }
            },
            "type": "scattercarpet"
           }
          ],
          "scattergeo": [
           {
            "marker": {
             "colorbar": {
              "outlinewidth": 0,
              "ticks": ""
             }
            },
            "type": "scattergeo"
           }
          ],
          "scattergl": [
           {
            "marker": {
             "colorbar": {
              "outlinewidth": 0,
              "ticks": ""
             }
            },
            "type": "scattergl"
           }
          ],
          "scattermapbox": [
           {
            "marker": {
             "colorbar": {
              "outlinewidth": 0,
              "ticks": ""
             }
            },
            "type": "scattermapbox"
           }
          ],
          "scatterpolar": [
           {
            "marker": {
             "colorbar": {
              "outlinewidth": 0,
              "ticks": ""
             }
            },
            "type": "scatterpolar"
           }
          ],
          "scatterpolargl": [
           {
            "marker": {
             "colorbar": {
              "outlinewidth": 0,
              "ticks": ""
             }
            },
            "type": "scatterpolargl"
           }
          ],
          "scatterternary": [
           {
            "marker": {
             "colorbar": {
              "outlinewidth": 0,
              "ticks": ""
             }
            },
            "type": "scatterternary"
           }
          ],
          "surface": [
           {
            "colorbar": {
             "outlinewidth": 0,
             "ticks": ""
            },
            "colorscale": [
             [
              0,
              "#0d0887"
             ],
             [
              0.1111111111111111,
              "#46039f"
             ],
             [
              0.2222222222222222,
              "#7201a8"
             ],
             [
              0.3333333333333333,
              "#9c179e"
             ],
             [
              0.4444444444444444,
              "#bd3786"
             ],
             [
              0.5555555555555556,
              "#d8576b"
             ],
             [
              0.6666666666666666,
              "#ed7953"
             ],
             [
              0.7777777777777778,
              "#fb9f3a"
             ],
             [
              0.8888888888888888,
              "#fdca26"
             ],
             [
              1,
              "#f0f921"
             ]
            ],
            "type": "surface"
           }
          ],
          "table": [
           {
            "cells": {
             "fill": {
              "color": "#EBF0F8"
             },
             "line": {
              "color": "white"
             }
            },
            "header": {
             "fill": {
              "color": "#C8D4E3"
             },
             "line": {
              "color": "white"
             }
            },
            "type": "table"
           }
          ]
         },
         "layout": {
          "annotationdefaults": {
           "arrowcolor": "#2a3f5f",
           "arrowhead": 0,
           "arrowwidth": 1
          },
          "autotypenumbers": "strict",
          "coloraxis": {
           "colorbar": {
            "outlinewidth": 0,
            "ticks": ""
           }
          },
          "colorscale": {
           "diverging": [
            [
             0,
             "#8e0152"
            ],
            [
             0.1,
             "#c51b7d"
            ],
            [
             0.2,
             "#de77ae"
            ],
            [
             0.3,
             "#f1b6da"
            ],
            [
             0.4,
             "#fde0ef"
            ],
            [
             0.5,
             "#f7f7f7"
            ],
            [
             0.6,
             "#e6f5d0"
            ],
            [
             0.7,
             "#b8e186"
            ],
            [
             0.8,
             "#7fbc41"
            ],
            [
             0.9,
             "#4d9221"
            ],
            [
             1,
             "#276419"
            ]
           ],
           "sequential": [
            [
             0,
             "#0d0887"
            ],
            [
             0.1111111111111111,
             "#46039f"
            ],
            [
             0.2222222222222222,
             "#7201a8"
            ],
            [
             0.3333333333333333,
             "#9c179e"
            ],
            [
             0.4444444444444444,
             "#bd3786"
            ],
            [
             0.5555555555555556,
             "#d8576b"
            ],
            [
             0.6666666666666666,
             "#ed7953"
            ],
            [
             0.7777777777777778,
             "#fb9f3a"
            ],
            [
             0.8888888888888888,
             "#fdca26"
            ],
            [
             1,
             "#f0f921"
            ]
           ],
           "sequentialminus": [
            [
             0,
             "#0d0887"
            ],
            [
             0.1111111111111111,
             "#46039f"
            ],
            [
             0.2222222222222222,
             "#7201a8"
            ],
            [
             0.3333333333333333,
             "#9c179e"
            ],
            [
             0.4444444444444444,
             "#bd3786"
            ],
            [
             0.5555555555555556,
             "#d8576b"
            ],
            [
             0.6666666666666666,
             "#ed7953"
            ],
            [
             0.7777777777777778,
             "#fb9f3a"
            ],
            [
             0.8888888888888888,
             "#fdca26"
            ],
            [
             1,
             "#f0f921"
            ]
           ]
          },
          "colorway": [
           "#636efa",
           "#EF553B",
           "#00cc96",
           "#ab63fa",
           "#FFA15A",
           "#19d3f3",
           "#FF6692",
           "#B6E880",
           "#FF97FF",
           "#FECB52"
          ],
          "font": {
           "color": "#2a3f5f"
          },
          "geo": {
           "bgcolor": "white",
           "lakecolor": "white",
           "landcolor": "#E5ECF6",
           "showlakes": true,
           "showland": true,
           "subunitcolor": "white"
          },
          "hoverlabel": {
           "align": "left"
          },
          "hovermode": "closest",
          "mapbox": {
           "style": "light"
          },
          "paper_bgcolor": "white",
          "plot_bgcolor": "#E5ECF6",
          "polar": {
           "angularaxis": {
            "gridcolor": "white",
            "linecolor": "white",
            "ticks": ""
           },
           "bgcolor": "#E5ECF6",
           "radialaxis": {
            "gridcolor": "white",
            "linecolor": "white",
            "ticks": ""
           }
          },
          "scene": {
           "xaxis": {
            "backgroundcolor": "#E5ECF6",
            "gridcolor": "white",
            "gridwidth": 2,
            "linecolor": "white",
            "showbackground": true,
            "ticks": "",
            "zerolinecolor": "white"
           },
           "yaxis": {
            "backgroundcolor": "#E5ECF6",
            "gridcolor": "white",
            "gridwidth": 2,
            "linecolor": "white",
            "showbackground": true,
            "ticks": "",
            "zerolinecolor": "white"
           },
           "zaxis": {
            "backgroundcolor": "#E5ECF6",
            "gridcolor": "white",
            "gridwidth": 2,
            "linecolor": "white",
            "showbackground": true,
            "ticks": "",
            "zerolinecolor": "white"
           }
          },
          "shapedefaults": {
           "line": {
            "color": "#2a3f5f"
           }
          },
          "ternary": {
           "aaxis": {
            "gridcolor": "white",
            "linecolor": "white",
            "ticks": ""
           },
           "baxis": {
            "gridcolor": "white",
            "linecolor": "white",
            "ticks": ""
           },
           "bgcolor": "#E5ECF6",
           "caxis": {
            "gridcolor": "white",
            "linecolor": "white",
            "ticks": ""
           }
          },
          "title": {
           "x": 0.05
          },
          "xaxis": {
           "automargin": true,
           "gridcolor": "white",
           "linecolor": "white",
           "ticks": "",
           "title": {
            "standoff": 15
           },
           "zerolinecolor": "white",
           "zerolinewidth": 2
          },
          "yaxis": {
           "automargin": true,
           "gridcolor": "white",
           "linecolor": "white",
           "ticks": "",
           "title": {
            "standoff": 15
           },
           "zerolinecolor": "white",
           "zerolinewidth": 2
          }
         }
        },
        "title": {
         "text": "Consume vs Temp inside"
        },
        "xaxis": {
         "anchor": "y",
         "domain": [
          0,
          1
         ],
         "title": {
          "text": "temp_inside"
         }
        },
        "yaxis": {
         "anchor": "x",
         "domain": [
          0,
          1
         ],
         "title": {
          "text": "consume"
         }
        }
       }
      },
      "text/html": [
       "<div>                            <div id=\"e9f05348-1a5c-43c4-b6ed-a60edff5951f\" class=\"plotly-graph-div\" style=\"height:525px; width:100%;\"></div>            <script type=\"text/javascript\">                require([\"plotly\"], function(Plotly) {                    window.PLOTLYENV=window.PLOTLYENV || {};                                    if (document.getElementById(\"e9f05348-1a5c-43c4-b6ed-a60edff5951f\")) {                    Plotly.newPlot(                        \"e9f05348-1a5c-43c4-b6ed-a60edff5951f\",                        [{\"hovertemplate\":\"temp_inside=%{x}<br>consume=%{marker.size}<br>fuel=%{marker.color}<extra></extra>\",\"legendgroup\":\"\",\"marker\":{\"color\":[0,0,0,0,0,0,0,0,0,0,0,0,0,0,0,0,0,0,0,0,0,0,0,0,0,0,0,0,0,0,0,0,0,0,0,0,0,0,0,0,0,0,0,0,1,1,1,1,1,1,1,1,1,1,1,1,1,1,1,1,1,1,1,1,1,1,1,1,1,1,1,1,1,1,1,1,1,1,1,1,1,1,1,1,1,1,1,1,1,1,1,1,1,1,1,1,1,1,1,1,1,1,1,1,1,1,1,1,1,1,1,1,1,1,1,1,1,1,1,1,1,1,1,1,1,1,1,1,1,1,1,1,0,0,0,0,0,0,0,0,0,0,0,0,0,0,0,0,0,0,0,0,0,0,0,0,0,0,0,0,0,0,0,0,0,0,0,0,0,0,0,0,0,0,0,0,0,0,0,0,0,0,0,0,1,1,1,1,1,1,1,1,1,1,1,1,1,1,1,1,1,1,1,1,1,1,1,1,1,1,1,1,1,1,1,1,1,1,1,1,1,1,1,1,1,0,0,0,0,0,0,0,0,0,0,0,0,0,0,0,0,0,0,0,0,0,0,0,0,0,0,0,0,0,0,0,0,0,0,0,0,0,1,1,1,1,1,1,1,1,1,1,1,1,1,1,1,1,1,1,1,1,1,1,1,1,1,1,1,1,1,1,1,1,1,1,1,1,1,1,1,1,1,1,1,1,1,1,1,1,1,1,1,0,0,0,0,0,0,0,0,0,0,0,0,0,0,0,0,0,0,0,0,0,0,0,0,1,1,1,1,1,1,1,1,1,1,1,1,1,1,1,1,1,1,1,1,1,1,1,1,1,1,1,1,1,1,1,1,1,1,1,1,1,1,1],\"coloraxis\":\"coloraxis\",\"size\":[5.0,4.199999809265137,5.5,3.9000000953674316,4.5,6.400000095367432,4.400000095367432,5.0,6.400000095367432,5.300000190734863,5.599999904632568,4.599999904632568,5.900000095367432,5.099999904632568,4.699999809265137,5.099999904632568,5.599999904632568,5.099999904632568,4.900000095367432,4.699999809265137,5.5,5.900000095367432,5.699999809265137,4.699999809265137,5.900000095367432,4.099999904632568,5.699999809265137,5.800000190734863,5.5,5.699999809265137,5.300000190734863,5.0,5.599999904632568,4.800000190734863,4.300000190734863,5.699999809265137,5.199999809265137,7.400000095367432,4.800000190734863,6.5,4.0,5.0,4.599999904632568,4.300000190734863,3.299999952316284,9.899999618530273,5.099999904632568,4.900000095367432,4.900000095367432,4.699999809265137,5.099999904632568,4.900000095367432,4.199999809265137,6.099999904632568,6.400000095367432,4.900000095367432,4.900000095367432,6.199999809265137,4.199999809265137,5.699999809265137,7.900000095367432,12.199999809265137,5.800000190734863,5.300000190734863,5.400000095367432,4.699999809265137,4.599999904632568,5.400000095367432,4.300000190734863,4.5,5.199999809265137,6.199999809265137,5.099999904632568,3.9000000953674316,5.0,5.400000095367432,4.5,5.099999904632568,4.699999809265137,4.0,5.400000095367432,4.5,3.5999999046325684,5.199999809265137,4.900000095367432,6.199999809265137,4.300000190734863,5.0,5.099999904632568,5.599999904632568,4.300000190734863,5.800000190734863,4.0,5.900000095367432,4.199999809265137,5.800000190734863,6.900000095367432,5.400000095367432,5.300000190734863,5.5,6.5,4.699999809265137,5.099999904632568,5.699999809265137,5.400000095367432,8.699999809265137,4.900000095367432,4.699999809265137,6.300000190734863,5.099999904632568,6.0,4.599999904632568,5.800000190734863,5.099999904632568,5.800000190734863,4.599999904632568,5.599999904632568,4.599999904632568,6.300000190734863,5.5,4.300000190734863,5.599999904632568,4.300000190734863,5.699999809265137,6.400000095367432,4.5,4.5,6.0,5.099999904632568,6.0,4.5,6.099999904632568,5.400000095367432,4.300000190734863,5.400000095367432,4.300000190734863,5.199999809265137,4.099999904632568,4.400000095367432,4.5,10.800000190734863,4.699999809265137,4.800000190734863,4.0,5.0,4.599999904632568,5.0,4.300000190734863,5.199999809265137,4.699999809265137,4.199999809265137,5.300000190734863,5.300000190734863,8.100000381469727,4.800000190734863,5.099999904632568,4.400000095367432,5.0,6.300000190734863,4.800000190734863,6.099999904632568,4.599999904632568,4.800000190734863,4.699999809265137,4.800000190734863,4.400000095367432,4.900000095367432,4.900000095367432,4.400000095367432,5.300000190734863,5.300000190734863,4.800000190734863,5.199999809265137,4.900000095367432,7.099999904632568,5.199999809265137,4.699999809265137,5.099999904632568,5.0,4.599999904632568,4.800000190734863,4.400000095367432,4.599999904632568,4.300000190734863,4.699999809265137,4.199999809265137,4.800000190734863,4.099999904632568,4.5,4.800000190734863,4.599999904632568,7.400000095367432,5.599999904632568,4.900000095367432,4.5,5.300000190734863,4.699999809265137,9.0,6.300000190734863,3.5999999046325684,3.700000047683716,11.5,5.0,5.5,4.699999809265137,4.5,4.400000095367432,4.099999904632568,4.400000095367432,4.599999904632568,4.400000095367432,4.0,5.0,5.199999809265137,4.0,5.099999904632568,4.5,4.599999904632568,5.099999904632568,5.699999809265137,4.800000190734863,6.199999809265137,5.0,5.0,4.599999904632568,4.5,4.800000190734863,5.0,4.800000190734863,4.599999904632568,4.5,4.599999904632568,4.400000095367432,5.699999809265137,5.800000190734863,5.900000095367432,6.099999904632568,5.699999809265137,5.0,5.199999809265137,4.300000190734863,4.099999904632568,4.400000095367432,4.5,3.9000000953674316,8.100000381469727,4.400000095367432,5.0,4.699999809265137,6.0,5.0,5.0,4.5,5.400000095367432,5.599999904632568,3.9000000953674316,4.0,4.5,3.799999952316284,5.599999904632568,5.199999809265137,4.800000190734863,4.900000095367432,4.099999904632568,4.5,4.400000095367432,4.5,4.5,3.9000000953674316,4.599999904632568,3.799999952316284,4.5,4.400000095367432,4.300000190734863,4.0,3.9000000953674316,5.0,4.099999904632568,4.099999904632568,5.599999904632568,4.099999904632568,4.599999904632568,4.900000095367432,4.5,4.099999904632568,4.099999904632568,4.5,4.199999809265137,3.9000000953674316,5.0,4.400000095367432,4.5,3.799999952316284,5.099999904632568,3.9000000953674316,5.300000190734863,4.199999809265137,4.300000190734863,4.0,4.699999809265137,4.0,4.300000190734863,5.300000190734863,5.199999809265137,4.900000095367432,4.699999809265137,4.599999904632568,5.300000190734863,3.5999999046325684,4.199999809265137,4.099999904632568,4.0,3.9000000953674316,3.700000047683716,4.5,3.9000000953674316,5.099999904632568,4.199999809265137,4.199999809265137,4.800000190734863,4.699999809265137,4.699999809265137,4.599999904632568,3.799999952316284,4.199999809265137,3.700000047683716,4.199999809265137,4.099999904632568,4.0,3.799999952316284,3.799999952316284,3.799999952316284,5.099999904632568,4.0,4.800000190734863,3.9000000953674316,4.599999904632568,4.300000190734863,4.800000190734863,4.099999904632568,4.0,3.700000047683716,4.300000190734863,5.199999809265137,4.199999809265137,5.0,5.0,4.199999809265137,4.800000190734863,4.099999904632568,4.900000095367432,4.300000190734863,3.9000000953674316,4.5,4.099999904632568,5.0,4.0,4.5,3.5999999046325684,4.099999904632568,3.9000000953674316,6.599999904632568,4.0,3.700000047683716,4.300000190734863,4.099999904632568,4.400000095367432,3.799999952316284,5.0,3.700000047683716,3.700000047683716,3.700000047683716,4.300000190734863,3.799999952316284,4.599999904632568,5.0],\"sizemode\":\"area\",\"sizeref\":0.030499999523162843,\"symbol\":\"circle\"},\"mode\":\"markers\",\"name\":\"\",\"orientation\":\"v\",\"showlegend\":false,\"x\":[21.5,21.5,21.5,21.5,21.5,21.5,21.5,21.5,21.5,21.5,21.5,21.5,21.5,21.5,21.5,21.5,21.5,21.5,21.5,21.5,21.5,21.5,21.5,21.5,21.5,21.5,22.5,21.5,21.5,21.5,21.5,21.5,21.5,21.5,21.5,21.5,21.5,21.5,21.5,21.5,21.5,21.5,21.5,21.5,21.5,21.5,21.5,21.5,21.5,21.5,21.5,21.5,21.5,21.5,21.5,21.5,21.5,21.5,21.5,21.5,21.5,21.5,21.5,21.5,21.5,21.5,21.5,21.5,21.5,21.5,21.5,21.5,21.5,21.5,21.5,21.5,21.5,21.5,21.5,20.0,20.0,20.0,20.0,20.0,20.0,20.0,20.0,20.0,20.0,20.0,20.0,20.0,20.0,20.0,20.0,21.0,21.0,21.0,20.5,23.0,21.0,21.0,21.0,21.0,21.0,23.5,20.5,20.5,20.5,23.0,23.0,23.0,23.0,23.0,23.0,23.0,23.0,23.0,23.0,25.0,24.0,21.5,21.5,21.5,21.5,21.5,21.5,21.5,21.5,21.5,21.5,21.5,21.5,21.5,21.5,21.5,21.5,21.5,21.5,21.5,21.5,21.5,21.5,21.5,21.5,21.5,21.5,21.5,21.5,21.5,21.5,21.5,21.5,21.5,21.5,21.5,21.5,21.5,21.5,21.5,21.5,21.5,21.5,21.5,21.5,21.5,21.5,21.5,21.0,21.0,21.0,21.0,21.0,22.5,22.5,22.5,22.5,22.5,22.5,22.5,22.5,22.0,22.0,22.0,22.0,22.0,22.0,22.0,21.5,21.5,21.5,21.5,21.5,21.5,19.0,22.5,22.5,20.0,20.0,20.0,20.0,20.0,20.0,20.0,20.0,20.0,22.5,22.5,22.5,22.5,22.5,22.5,22.5,22.5,22.5,22.5,22.5,22.5,22.5,22.5,22.5,22.5,22.5,22.5,22.5,22.5,22.5,22.5,22.5,22.5,22.5,22.5,22.5,22.5,22.5,22.5,22.5,22.5,22.5,22.5,22.5,22.5,22.5,22.5,22.5,22.5,22.5,22.5,22.5,22.5,22.5,22.5,22.5,22.5,22.0,22.0,22.0,22.0,22.0,22.0,22.0,23.0,22.0,22.0,22.0,22.0,22.0,22.0,22.0,22.0,22.0,22.0,22.0,22.0,22.0,22.0,22.0,22.0,22.0,22.0,22.0,22.0,22.0,22.0,22.0,22.0,22.0,25.0,23.0,22.0,22.0,22.0,22.0,22.0,22.0,22.0,22.0,22.0,22.0,22.0,22.0,22.0,22.0,22.0,22.0,22.0,22.0,22.0,22.0,22.0,22.0,22.0,22.0,22.0,22.0,22.0,22.0,22.0,22.0,25.0,25.0,23.5,24.0,21.5,21.5,22.0,22.0,22.0,22.0,22.0,22.0,22.0,25.0,22.0,22.0,22.0,22.0,22.0,22.0,22.0,22.0,22.0,22.0,22.0,22.0,24.5,22.0,22.0,22.0,22.0,22.0,22.0,22.0,22.0,25.5,25.5,22.0,22.0,22.0,22.0,22.0,24.0,25.0,25.0,25.0,22.0,24.5,24.5,24.5,24.5,24.5,24.5,25.0,25.0,25.0,25.0],\"xaxis\":\"x\",\"y\":[5.0,4.199999809265137,5.5,3.9000000953674316,4.5,6.400000095367432,4.400000095367432,5.0,6.400000095367432,5.300000190734863,5.599999904632568,4.599999904632568,5.900000095367432,5.099999904632568,4.699999809265137,5.099999904632568,5.599999904632568,5.099999904632568,4.900000095367432,4.699999809265137,5.5,5.900000095367432,5.699999809265137,4.699999809265137,5.900000095367432,4.099999904632568,5.699999809265137,5.800000190734863,5.5,5.699999809265137,5.300000190734863,5.0,5.599999904632568,4.800000190734863,4.300000190734863,5.699999809265137,5.199999809265137,7.400000095367432,4.800000190734863,6.5,4.0,5.0,4.599999904632568,4.300000190734863,3.299999952316284,9.899999618530273,5.099999904632568,4.900000095367432,4.900000095367432,4.699999809265137,5.099999904632568,4.900000095367432,4.199999809265137,6.099999904632568,6.400000095367432,4.900000095367432,4.900000095367432,6.199999809265137,4.199999809265137,5.699999809265137,7.900000095367432,12.199999809265137,5.800000190734863,5.300000190734863,5.400000095367432,4.699999809265137,4.599999904632568,5.400000095367432,4.300000190734863,4.5,5.199999809265137,6.199999809265137,5.099999904632568,3.9000000953674316,5.0,5.400000095367432,4.5,5.099999904632568,4.699999809265137,4.0,5.400000095367432,4.5,3.5999999046325684,5.199999809265137,4.900000095367432,6.199999809265137,4.300000190734863,5.0,5.099999904632568,5.599999904632568,4.300000190734863,5.800000190734863,4.0,5.900000095367432,4.199999809265137,5.800000190734863,6.900000095367432,5.400000095367432,5.300000190734863,5.5,6.5,4.699999809265137,5.099999904632568,5.699999809265137,5.400000095367432,8.699999809265137,4.900000095367432,4.699999809265137,6.300000190734863,5.099999904632568,6.0,4.599999904632568,5.800000190734863,5.099999904632568,5.800000190734863,4.599999904632568,5.599999904632568,4.599999904632568,6.300000190734863,5.5,4.300000190734863,5.599999904632568,4.300000190734863,5.699999809265137,6.400000095367432,4.5,4.5,6.0,5.099999904632568,6.0,4.5,6.099999904632568,5.400000095367432,4.300000190734863,5.400000095367432,4.300000190734863,5.199999809265137,4.099999904632568,4.400000095367432,4.5,10.800000190734863,4.699999809265137,4.800000190734863,4.0,5.0,4.599999904632568,5.0,4.300000190734863,5.199999809265137,4.699999809265137,4.199999809265137,5.300000190734863,5.300000190734863,8.100000381469727,4.800000190734863,5.099999904632568,4.400000095367432,5.0,6.300000190734863,4.800000190734863,6.099999904632568,4.599999904632568,4.800000190734863,4.699999809265137,4.800000190734863,4.400000095367432,4.900000095367432,4.900000095367432,4.400000095367432,5.300000190734863,5.300000190734863,4.800000190734863,5.199999809265137,4.900000095367432,7.099999904632568,5.199999809265137,4.699999809265137,5.099999904632568,5.0,4.599999904632568,4.800000190734863,4.400000095367432,4.599999904632568,4.300000190734863,4.699999809265137,4.199999809265137,4.800000190734863,4.099999904632568,4.5,4.800000190734863,4.599999904632568,7.400000095367432,5.599999904632568,4.900000095367432,4.5,5.300000190734863,4.699999809265137,9.0,6.300000190734863,3.5999999046325684,3.700000047683716,11.5,5.0,5.5,4.699999809265137,4.5,4.400000095367432,4.099999904632568,4.400000095367432,4.599999904632568,4.400000095367432,4.0,5.0,5.199999809265137,4.0,5.099999904632568,4.5,4.599999904632568,5.099999904632568,5.699999809265137,4.800000190734863,6.199999809265137,5.0,5.0,4.599999904632568,4.5,4.800000190734863,5.0,4.800000190734863,4.599999904632568,4.5,4.599999904632568,4.400000095367432,5.699999809265137,5.800000190734863,5.900000095367432,6.099999904632568,5.699999809265137,5.0,5.199999809265137,4.300000190734863,4.099999904632568,4.400000095367432,4.5,3.9000000953674316,8.100000381469727,4.400000095367432,5.0,4.699999809265137,6.0,5.0,5.0,4.5,5.400000095367432,5.599999904632568,3.9000000953674316,4.0,4.5,3.799999952316284,5.599999904632568,5.199999809265137,4.800000190734863,4.900000095367432,4.099999904632568,4.5,4.400000095367432,4.5,4.5,3.9000000953674316,4.599999904632568,3.799999952316284,4.5,4.400000095367432,4.300000190734863,4.0,3.9000000953674316,5.0,4.099999904632568,4.099999904632568,5.599999904632568,4.099999904632568,4.599999904632568,4.900000095367432,4.5,4.099999904632568,4.099999904632568,4.5,4.199999809265137,3.9000000953674316,5.0,4.400000095367432,4.5,3.799999952316284,5.099999904632568,3.9000000953674316,5.300000190734863,4.199999809265137,4.300000190734863,4.0,4.699999809265137,4.0,4.300000190734863,5.300000190734863,5.199999809265137,4.900000095367432,4.699999809265137,4.599999904632568,5.300000190734863,3.5999999046325684,4.199999809265137,4.099999904632568,4.0,3.9000000953674316,3.700000047683716,4.5,3.9000000953674316,5.099999904632568,4.199999809265137,4.199999809265137,4.800000190734863,4.699999809265137,4.699999809265137,4.599999904632568,3.799999952316284,4.199999809265137,3.700000047683716,4.199999809265137,4.099999904632568,4.0,3.799999952316284,3.799999952316284,3.799999952316284,5.099999904632568,4.0,4.800000190734863,3.9000000953674316,4.599999904632568,4.300000190734863,4.800000190734863,4.099999904632568,4.0,3.700000047683716,4.300000190734863,5.199999809265137,4.199999809265137,5.0,5.0,4.199999809265137,4.800000190734863,4.099999904632568,4.900000095367432,4.300000190734863,3.9000000953674316,4.5,4.099999904632568,5.0,4.0,4.5,3.5999999046325684,4.099999904632568,3.9000000953674316,6.599999904632568,4.0,3.700000047683716,4.300000190734863,4.099999904632568,4.400000095367432,3.799999952316284,5.0,3.700000047683716,3.700000047683716,3.700000047683716,4.300000190734863,3.799999952316284,4.599999904632568,5.0],\"yaxis\":\"y\",\"type\":\"scatter\"}],                        {\"template\":{\"data\":{\"histogram2dcontour\":[{\"type\":\"histogram2dcontour\",\"colorbar\":{\"outlinewidth\":0,\"ticks\":\"\"},\"colorscale\":[[0.0,\"#0d0887\"],[0.1111111111111111,\"#46039f\"],[0.2222222222222222,\"#7201a8\"],[0.3333333333333333,\"#9c179e\"],[0.4444444444444444,\"#bd3786\"],[0.5555555555555556,\"#d8576b\"],[0.6666666666666666,\"#ed7953\"],[0.7777777777777778,\"#fb9f3a\"],[0.8888888888888888,\"#fdca26\"],[1.0,\"#f0f921\"]]}],\"choropleth\":[{\"type\":\"choropleth\",\"colorbar\":{\"outlinewidth\":0,\"ticks\":\"\"}}],\"histogram2d\":[{\"type\":\"histogram2d\",\"colorbar\":{\"outlinewidth\":0,\"ticks\":\"\"},\"colorscale\":[[0.0,\"#0d0887\"],[0.1111111111111111,\"#46039f\"],[0.2222222222222222,\"#7201a8\"],[0.3333333333333333,\"#9c179e\"],[0.4444444444444444,\"#bd3786\"],[0.5555555555555556,\"#d8576b\"],[0.6666666666666666,\"#ed7953\"],[0.7777777777777778,\"#fb9f3a\"],[0.8888888888888888,\"#fdca26\"],[1.0,\"#f0f921\"]]}],\"heatmap\":[{\"type\":\"heatmap\",\"colorbar\":{\"outlinewidth\":0,\"ticks\":\"\"},\"colorscale\":[[0.0,\"#0d0887\"],[0.1111111111111111,\"#46039f\"],[0.2222222222222222,\"#7201a8\"],[0.3333333333333333,\"#9c179e\"],[0.4444444444444444,\"#bd3786\"],[0.5555555555555556,\"#d8576b\"],[0.6666666666666666,\"#ed7953\"],[0.7777777777777778,\"#fb9f3a\"],[0.8888888888888888,\"#fdca26\"],[1.0,\"#f0f921\"]]}],\"heatmapgl\":[{\"type\":\"heatmapgl\",\"colorbar\":{\"outlinewidth\":0,\"ticks\":\"\"},\"colorscale\":[[0.0,\"#0d0887\"],[0.1111111111111111,\"#46039f\"],[0.2222222222222222,\"#7201a8\"],[0.3333333333333333,\"#9c179e\"],[0.4444444444444444,\"#bd3786\"],[0.5555555555555556,\"#d8576b\"],[0.6666666666666666,\"#ed7953\"],[0.7777777777777778,\"#fb9f3a\"],[0.8888888888888888,\"#fdca26\"],[1.0,\"#f0f921\"]]}],\"contourcarpet\":[{\"type\":\"contourcarpet\",\"colorbar\":{\"outlinewidth\":0,\"ticks\":\"\"}}],\"contour\":[{\"type\":\"contour\",\"colorbar\":{\"outlinewidth\":0,\"ticks\":\"\"},\"colorscale\":[[0.0,\"#0d0887\"],[0.1111111111111111,\"#46039f\"],[0.2222222222222222,\"#7201a8\"],[0.3333333333333333,\"#9c179e\"],[0.4444444444444444,\"#bd3786\"],[0.5555555555555556,\"#d8576b\"],[0.6666666666666666,\"#ed7953\"],[0.7777777777777778,\"#fb9f3a\"],[0.8888888888888888,\"#fdca26\"],[1.0,\"#f0f921\"]]}],\"surface\":[{\"type\":\"surface\",\"colorbar\":{\"outlinewidth\":0,\"ticks\":\"\"},\"colorscale\":[[0.0,\"#0d0887\"],[0.1111111111111111,\"#46039f\"],[0.2222222222222222,\"#7201a8\"],[0.3333333333333333,\"#9c179e\"],[0.4444444444444444,\"#bd3786\"],[0.5555555555555556,\"#d8576b\"],[0.6666666666666666,\"#ed7953\"],[0.7777777777777778,\"#fb9f3a\"],[0.8888888888888888,\"#fdca26\"],[1.0,\"#f0f921\"]]}],\"mesh3d\":[{\"type\":\"mesh3d\",\"colorbar\":{\"outlinewidth\":0,\"ticks\":\"\"}}],\"scatter\":[{\"fillpattern\":{\"fillmode\":\"overlay\",\"size\":10,\"solidity\":0.2},\"type\":\"scatter\"}],\"parcoords\":[{\"type\":\"parcoords\",\"line\":{\"colorbar\":{\"outlinewidth\":0,\"ticks\":\"\"}}}],\"scatterpolargl\":[{\"type\":\"scatterpolargl\",\"marker\":{\"colorbar\":{\"outlinewidth\":0,\"ticks\":\"\"}}}],\"bar\":[{\"error_x\":{\"color\":\"#2a3f5f\"},\"error_y\":{\"color\":\"#2a3f5f\"},\"marker\":{\"line\":{\"color\":\"#E5ECF6\",\"width\":0.5},\"pattern\":{\"fillmode\":\"overlay\",\"size\":10,\"solidity\":0.2}},\"type\":\"bar\"}],\"scattergeo\":[{\"type\":\"scattergeo\",\"marker\":{\"colorbar\":{\"outlinewidth\":0,\"ticks\":\"\"}}}],\"scatterpolar\":[{\"type\":\"scatterpolar\",\"marker\":{\"colorbar\":{\"outlinewidth\":0,\"ticks\":\"\"}}}],\"histogram\":[{\"marker\":{\"pattern\":{\"fillmode\":\"overlay\",\"size\":10,\"solidity\":0.2}},\"type\":\"histogram\"}],\"scattergl\":[{\"type\":\"scattergl\",\"marker\":{\"colorbar\":{\"outlinewidth\":0,\"ticks\":\"\"}}}],\"scatter3d\":[{\"type\":\"scatter3d\",\"line\":{\"colorbar\":{\"outlinewidth\":0,\"ticks\":\"\"}},\"marker\":{\"colorbar\":{\"outlinewidth\":0,\"ticks\":\"\"}}}],\"scattermapbox\":[{\"type\":\"scattermapbox\",\"marker\":{\"colorbar\":{\"outlinewidth\":0,\"ticks\":\"\"}}}],\"scatterternary\":[{\"type\":\"scatterternary\",\"marker\":{\"colorbar\":{\"outlinewidth\":0,\"ticks\":\"\"}}}],\"scattercarpet\":[{\"type\":\"scattercarpet\",\"marker\":{\"colorbar\":{\"outlinewidth\":0,\"ticks\":\"\"}}}],\"carpet\":[{\"aaxis\":{\"endlinecolor\":\"#2a3f5f\",\"gridcolor\":\"white\",\"linecolor\":\"white\",\"minorgridcolor\":\"white\",\"startlinecolor\":\"#2a3f5f\"},\"baxis\":{\"endlinecolor\":\"#2a3f5f\",\"gridcolor\":\"white\",\"linecolor\":\"white\",\"minorgridcolor\":\"white\",\"startlinecolor\":\"#2a3f5f\"},\"type\":\"carpet\"}],\"table\":[{\"cells\":{\"fill\":{\"color\":\"#EBF0F8\"},\"line\":{\"color\":\"white\"}},\"header\":{\"fill\":{\"color\":\"#C8D4E3\"},\"line\":{\"color\":\"white\"}},\"type\":\"table\"}],\"barpolar\":[{\"marker\":{\"line\":{\"color\":\"#E5ECF6\",\"width\":0.5},\"pattern\":{\"fillmode\":\"overlay\",\"size\":10,\"solidity\":0.2}},\"type\":\"barpolar\"}],\"pie\":[{\"automargin\":true,\"type\":\"pie\"}]},\"layout\":{\"autotypenumbers\":\"strict\",\"colorway\":[\"#636efa\",\"#EF553B\",\"#00cc96\",\"#ab63fa\",\"#FFA15A\",\"#19d3f3\",\"#FF6692\",\"#B6E880\",\"#FF97FF\",\"#FECB52\"],\"font\":{\"color\":\"#2a3f5f\"},\"hovermode\":\"closest\",\"hoverlabel\":{\"align\":\"left\"},\"paper_bgcolor\":\"white\",\"plot_bgcolor\":\"#E5ECF6\",\"polar\":{\"bgcolor\":\"#E5ECF6\",\"angularaxis\":{\"gridcolor\":\"white\",\"linecolor\":\"white\",\"ticks\":\"\"},\"radialaxis\":{\"gridcolor\":\"white\",\"linecolor\":\"white\",\"ticks\":\"\"}},\"ternary\":{\"bgcolor\":\"#E5ECF6\",\"aaxis\":{\"gridcolor\":\"white\",\"linecolor\":\"white\",\"ticks\":\"\"},\"baxis\":{\"gridcolor\":\"white\",\"linecolor\":\"white\",\"ticks\":\"\"},\"caxis\":{\"gridcolor\":\"white\",\"linecolor\":\"white\",\"ticks\":\"\"}},\"coloraxis\":{\"colorbar\":{\"outlinewidth\":0,\"ticks\":\"\"}},\"colorscale\":{\"sequential\":[[0.0,\"#0d0887\"],[0.1111111111111111,\"#46039f\"],[0.2222222222222222,\"#7201a8\"],[0.3333333333333333,\"#9c179e\"],[0.4444444444444444,\"#bd3786\"],[0.5555555555555556,\"#d8576b\"],[0.6666666666666666,\"#ed7953\"],[0.7777777777777778,\"#fb9f3a\"],[0.8888888888888888,\"#fdca26\"],[1.0,\"#f0f921\"]],\"sequentialminus\":[[0.0,\"#0d0887\"],[0.1111111111111111,\"#46039f\"],[0.2222222222222222,\"#7201a8\"],[0.3333333333333333,\"#9c179e\"],[0.4444444444444444,\"#bd3786\"],[0.5555555555555556,\"#d8576b\"],[0.6666666666666666,\"#ed7953\"],[0.7777777777777778,\"#fb9f3a\"],[0.8888888888888888,\"#fdca26\"],[1.0,\"#f0f921\"]],\"diverging\":[[0,\"#8e0152\"],[0.1,\"#c51b7d\"],[0.2,\"#de77ae\"],[0.3,\"#f1b6da\"],[0.4,\"#fde0ef\"],[0.5,\"#f7f7f7\"],[0.6,\"#e6f5d0\"],[0.7,\"#b8e186\"],[0.8,\"#7fbc41\"],[0.9,\"#4d9221\"],[1,\"#276419\"]]},\"xaxis\":{\"gridcolor\":\"white\",\"linecolor\":\"white\",\"ticks\":\"\",\"title\":{\"standoff\":15},\"zerolinecolor\":\"white\",\"automargin\":true,\"zerolinewidth\":2},\"yaxis\":{\"gridcolor\":\"white\",\"linecolor\":\"white\",\"ticks\":\"\",\"title\":{\"standoff\":15},\"zerolinecolor\":\"white\",\"automargin\":true,\"zerolinewidth\":2},\"scene\":{\"xaxis\":{\"backgroundcolor\":\"#E5ECF6\",\"gridcolor\":\"white\",\"linecolor\":\"white\",\"showbackground\":true,\"ticks\":\"\",\"zerolinecolor\":\"white\",\"gridwidth\":2},\"yaxis\":{\"backgroundcolor\":\"#E5ECF6\",\"gridcolor\":\"white\",\"linecolor\":\"white\",\"showbackground\":true,\"ticks\":\"\",\"zerolinecolor\":\"white\",\"gridwidth\":2},\"zaxis\":{\"backgroundcolor\":\"#E5ECF6\",\"gridcolor\":\"white\",\"linecolor\":\"white\",\"showbackground\":true,\"ticks\":\"\",\"zerolinecolor\":\"white\",\"gridwidth\":2}},\"shapedefaults\":{\"line\":{\"color\":\"#2a3f5f\"}},\"annotationdefaults\":{\"arrowcolor\":\"#2a3f5f\",\"arrowhead\":0,\"arrowwidth\":1},\"geo\":{\"bgcolor\":\"white\",\"landcolor\":\"#E5ECF6\",\"subunitcolor\":\"white\",\"showland\":true,\"showlakes\":true,\"lakecolor\":\"white\"},\"title\":{\"x\":0.05},\"mapbox\":{\"style\":\"light\"}}},\"xaxis\":{\"anchor\":\"y\",\"domain\":[0.0,1.0],\"title\":{\"text\":\"temp_inside\"}},\"yaxis\":{\"anchor\":\"x\",\"domain\":[0.0,1.0],\"title\":{\"text\":\"consume\"}},\"coloraxis\":{\"colorbar\":{\"title\":{\"text\":\"fuel\"}},\"colorscale\":[[0.0,\"#0d0887\"],[0.1111111111111111,\"#46039f\"],[0.2222222222222222,\"#7201a8\"],[0.3333333333333333,\"#9c179e\"],[0.4444444444444444,\"#bd3786\"],[0.5555555555555556,\"#d8576b\"],[0.6666666666666666,\"#ed7953\"],[0.7777777777777778,\"#fb9f3a\"],[0.8888888888888888,\"#fdca26\"],[1.0,\"#f0f921\"]]},\"legend\":{\"tracegroupgap\":0,\"itemsizing\":\"constant\"},\"title\":{\"text\":\"Consume vs Temp inside\"}},                        {\"responsive\": true}                    ).then(function(){\n",
       "                            \n",
       "var gd = document.getElementById('e9f05348-1a5c-43c4-b6ed-a60edff5951f');\n",
       "var x = new MutationObserver(function (mutations, observer) {{\n",
       "        var display = window.getComputedStyle(gd).display;\n",
       "        if (!display || display === 'none') {{\n",
       "            console.log([gd, 'removed!']);\n",
       "            Plotly.purge(gd);\n",
       "            observer.disconnect();\n",
       "        }}\n",
       "}});\n",
       "\n",
       "// Listen for the removal of the full notebook cells\n",
       "var notebookContainer = gd.closest('#notebook-container');\n",
       "if (notebookContainer) {{\n",
       "    x.observe(notebookContainer, {childList: true});\n",
       "}}\n",
       "\n",
       "// Listen for the clearing of the current output cell\n",
       "var outputEl = gd.closest('.output');\n",
       "if (outputEl) {{\n",
       "    x.observe(outputEl, {childList: true});\n",
       "}}\n",
       "\n",
       "                        })                };                });            </script>        </div>"
      ]
     },
     "metadata": {},
     "output_type": "display_data"
    }
   ],
   "source": [
    "px.scatter(measures,x='temp_inside',y='consume',color='fuel',size='consume',title='Consume vs Temp inside')"
   ]
  },
  {
   "cell_type": "code",
   "execution_count": 213,
   "id": "fd3c3d40",
   "metadata": {},
   "outputs": [
    {
     "data": {
      "application/vnd.plotly.v1+json": {
       "config": {
        "plotlyServerURL": "https://plot.ly"
       },
       "data": [
        {
         "hovertemplate": "speed=%{x}<br>consume=%{marker.size}<br>fuel=%{marker.color}<extra></extra>",
         "legendgroup": "",
         "marker": {
          "color": [
           0,
           0,
           0,
           0,
           0,
           0,
           0,
           0,
           0,
           0,
           0,
           0,
           0,
           0,
           0,
           0,
           0,
           0,
           0,
           0,
           0,
           0,
           0,
           0,
           0,
           0,
           0,
           0,
           0,
           0,
           0,
           0,
           0,
           0,
           0,
           0,
           0,
           0,
           0,
           0,
           0,
           0,
           0,
           0,
           1,
           1,
           1,
           1,
           1,
           1,
           1,
           1,
           1,
           1,
           1,
           1,
           1,
           1,
           1,
           1,
           1,
           1,
           1,
           1,
           1,
           1,
           1,
           1,
           1,
           1,
           1,
           1,
           1,
           1,
           1,
           1,
           1,
           1,
           1,
           1,
           1,
           1,
           1,
           1,
           1,
           1,
           1,
           1,
           1,
           1,
           1,
           1,
           1,
           1,
           1,
           1,
           1,
           1,
           1,
           1,
           1,
           1,
           1,
           1,
           1,
           1,
           1,
           1,
           1,
           1,
           1,
           1,
           1,
           1,
           1,
           1,
           1,
           1,
           1,
           1,
           1,
           1,
           1,
           1,
           1,
           1,
           1,
           1,
           1,
           1,
           1,
           1,
           0,
           0,
           0,
           0,
           0,
           0,
           0,
           0,
           0,
           0,
           0,
           0,
           0,
           0,
           0,
           0,
           0,
           0,
           0,
           0,
           0,
           0,
           0,
           0,
           0,
           0,
           0,
           0,
           0,
           0,
           0,
           0,
           0,
           0,
           0,
           0,
           0,
           0,
           0,
           0,
           0,
           0,
           0,
           0,
           0,
           0,
           0,
           0,
           0,
           0,
           0,
           0,
           1,
           1,
           1,
           1,
           1,
           1,
           1,
           1,
           1,
           1,
           1,
           1,
           1,
           1,
           1,
           1,
           1,
           1,
           1,
           1,
           1,
           1,
           1,
           1,
           1,
           1,
           1,
           1,
           1,
           1,
           1,
           1,
           1,
           1,
           1,
           1,
           1,
           1,
           1,
           1,
           1,
           0,
           0,
           0,
           0,
           0,
           0,
           0,
           0,
           0,
           0,
           0,
           0,
           0,
           0,
           0,
           0,
           0,
           0,
           0,
           0,
           0,
           0,
           0,
           0,
           0,
           0,
           0,
           0,
           0,
           0,
           0,
           0,
           0,
           0,
           0,
           0,
           0,
           1,
           1,
           1,
           1,
           1,
           1,
           1,
           1,
           1,
           1,
           1,
           1,
           1,
           1,
           1,
           1,
           1,
           1,
           1,
           1,
           1,
           1,
           1,
           1,
           1,
           1,
           1,
           1,
           1,
           1,
           1,
           1,
           1,
           1,
           1,
           1,
           1,
           1,
           1,
           1,
           1,
           1,
           1,
           1,
           1,
           1,
           1,
           1,
           1,
           1,
           1,
           0,
           0,
           0,
           0,
           0,
           0,
           0,
           0,
           0,
           0,
           0,
           0,
           0,
           0,
           0,
           0,
           0,
           0,
           0,
           0,
           0,
           0,
           0,
           0,
           1,
           1,
           1,
           1,
           1,
           1,
           1,
           1,
           1,
           1,
           1,
           1,
           1,
           1,
           1,
           1,
           1,
           1,
           1,
           1,
           1,
           1,
           1,
           1,
           1,
           1,
           1,
           1,
           1,
           1,
           1,
           1,
           1,
           1,
           1,
           1,
           1,
           1,
           1
          ],
          "coloraxis": "coloraxis",
          "size": [
           5,
           4.199999809265137,
           5.5,
           3.9000000953674316,
           4.5,
           6.400000095367432,
           4.400000095367432,
           5,
           6.400000095367432,
           5.300000190734863,
           5.599999904632568,
           4.599999904632568,
           5.900000095367432,
           5.099999904632568,
           4.699999809265137,
           5.099999904632568,
           5.599999904632568,
           5.099999904632568,
           4.900000095367432,
           4.699999809265137,
           5.5,
           5.900000095367432,
           5.699999809265137,
           4.699999809265137,
           5.900000095367432,
           4.099999904632568,
           5.699999809265137,
           5.800000190734863,
           5.5,
           5.699999809265137,
           5.300000190734863,
           5,
           5.599999904632568,
           4.800000190734863,
           4.300000190734863,
           5.699999809265137,
           5.199999809265137,
           7.400000095367432,
           4.800000190734863,
           6.5,
           4,
           5,
           4.599999904632568,
           4.300000190734863,
           3.299999952316284,
           9.899999618530273,
           5.099999904632568,
           4.900000095367432,
           4.900000095367432,
           4.699999809265137,
           5.099999904632568,
           4.900000095367432,
           4.199999809265137,
           6.099999904632568,
           6.400000095367432,
           4.900000095367432,
           4.900000095367432,
           6.199999809265137,
           4.199999809265137,
           5.699999809265137,
           7.900000095367432,
           12.199999809265137,
           5.800000190734863,
           5.300000190734863,
           5.400000095367432,
           4.699999809265137,
           4.599999904632568,
           5.400000095367432,
           4.300000190734863,
           4.5,
           5.199999809265137,
           6.199999809265137,
           5.099999904632568,
           3.9000000953674316,
           5,
           5.400000095367432,
           4.5,
           5.099999904632568,
           4.699999809265137,
           4,
           5.400000095367432,
           4.5,
           3.5999999046325684,
           5.199999809265137,
           4.900000095367432,
           6.199999809265137,
           4.300000190734863,
           5,
           5.099999904632568,
           5.599999904632568,
           4.300000190734863,
           5.800000190734863,
           4,
           5.900000095367432,
           4.199999809265137,
           5.800000190734863,
           6.900000095367432,
           5.400000095367432,
           5.300000190734863,
           5.5,
           6.5,
           4.699999809265137,
           5.099999904632568,
           5.699999809265137,
           5.400000095367432,
           8.699999809265137,
           4.900000095367432,
           4.699999809265137,
           6.300000190734863,
           5.099999904632568,
           6,
           4.599999904632568,
           5.800000190734863,
           5.099999904632568,
           5.800000190734863,
           4.599999904632568,
           5.599999904632568,
           4.599999904632568,
           6.300000190734863,
           5.5,
           4.300000190734863,
           5.599999904632568,
           4.300000190734863,
           5.699999809265137,
           6.400000095367432,
           4.5,
           4.5,
           6,
           5.099999904632568,
           6,
           4.5,
           6.099999904632568,
           5.400000095367432,
           4.300000190734863,
           5.400000095367432,
           4.300000190734863,
           5.199999809265137,
           4.099999904632568,
           4.400000095367432,
           4.5,
           10.800000190734863,
           4.699999809265137,
           4.800000190734863,
           4,
           5,
           4.599999904632568,
           5,
           4.300000190734863,
           5.199999809265137,
           4.699999809265137,
           4.199999809265137,
           5.300000190734863,
           5.300000190734863,
           8.100000381469727,
           4.800000190734863,
           5.099999904632568,
           4.400000095367432,
           5,
           6.300000190734863,
           4.800000190734863,
           6.099999904632568,
           4.599999904632568,
           4.800000190734863,
           4.699999809265137,
           4.800000190734863,
           4.400000095367432,
           4.900000095367432,
           4.900000095367432,
           4.400000095367432,
           5.300000190734863,
           5.300000190734863,
           4.800000190734863,
           5.199999809265137,
           4.900000095367432,
           7.099999904632568,
           5.199999809265137,
           4.699999809265137,
           5.099999904632568,
           5,
           4.599999904632568,
           4.800000190734863,
           4.400000095367432,
           4.599999904632568,
           4.300000190734863,
           4.699999809265137,
           4.199999809265137,
           4.800000190734863,
           4.099999904632568,
           4.5,
           4.800000190734863,
           4.599999904632568,
           7.400000095367432,
           5.599999904632568,
           4.900000095367432,
           4.5,
           5.300000190734863,
           4.699999809265137,
           9,
           6.300000190734863,
           3.5999999046325684,
           3.700000047683716,
           11.5,
           5,
           5.5,
           4.699999809265137,
           4.5,
           4.400000095367432,
           4.099999904632568,
           4.400000095367432,
           4.599999904632568,
           4.400000095367432,
           4,
           5,
           5.199999809265137,
           4,
           5.099999904632568,
           4.5,
           4.599999904632568,
           5.099999904632568,
           5.699999809265137,
           4.800000190734863,
           6.199999809265137,
           5,
           5,
           4.599999904632568,
           4.5,
           4.800000190734863,
           5,
           4.800000190734863,
           4.599999904632568,
           4.5,
           4.599999904632568,
           4.400000095367432,
           5.699999809265137,
           5.800000190734863,
           5.900000095367432,
           6.099999904632568,
           5.699999809265137,
           5,
           5.199999809265137,
           4.300000190734863,
           4.099999904632568,
           4.400000095367432,
           4.5,
           3.9000000953674316,
           8.100000381469727,
           4.400000095367432,
           5,
           4.699999809265137,
           6,
           5,
           5,
           4.5,
           5.400000095367432,
           5.599999904632568,
           3.9000000953674316,
           4,
           4.5,
           3.799999952316284,
           5.599999904632568,
           5.199999809265137,
           4.800000190734863,
           4.900000095367432,
           4.099999904632568,
           4.5,
           4.400000095367432,
           4.5,
           4.5,
           3.9000000953674316,
           4.599999904632568,
           3.799999952316284,
           4.5,
           4.400000095367432,
           4.300000190734863,
           4,
           3.9000000953674316,
           5,
           4.099999904632568,
           4.099999904632568,
           5.599999904632568,
           4.099999904632568,
           4.599999904632568,
           4.900000095367432,
           4.5,
           4.099999904632568,
           4.099999904632568,
           4.5,
           4.199999809265137,
           3.9000000953674316,
           5,
           4.400000095367432,
           4.5,
           3.799999952316284,
           5.099999904632568,
           3.9000000953674316,
           5.300000190734863,
           4.199999809265137,
           4.300000190734863,
           4,
           4.699999809265137,
           4,
           4.300000190734863,
           5.300000190734863,
           5.199999809265137,
           4.900000095367432,
           4.699999809265137,
           4.599999904632568,
           5.300000190734863,
           3.5999999046325684,
           4.199999809265137,
           4.099999904632568,
           4,
           3.9000000953674316,
           3.700000047683716,
           4.5,
           3.9000000953674316,
           5.099999904632568,
           4.199999809265137,
           4.199999809265137,
           4.800000190734863,
           4.699999809265137,
           4.699999809265137,
           4.599999904632568,
           3.799999952316284,
           4.199999809265137,
           3.700000047683716,
           4.199999809265137,
           4.099999904632568,
           4,
           3.799999952316284,
           3.799999952316284,
           3.799999952316284,
           5.099999904632568,
           4,
           4.800000190734863,
           3.9000000953674316,
           4.599999904632568,
           4.300000190734863,
           4.800000190734863,
           4.099999904632568,
           4,
           3.700000047683716,
           4.300000190734863,
           5.199999809265137,
           4.199999809265137,
           5,
           5,
           4.199999809265137,
           4.800000190734863,
           4.099999904632568,
           4.900000095367432,
           4.300000190734863,
           3.9000000953674316,
           4.5,
           4.099999904632568,
           5,
           4,
           4.5,
           3.5999999046325684,
           4.099999904632568,
           3.9000000953674316,
           6.599999904632568,
           4,
           3.700000047683716,
           4.300000190734863,
           4.099999904632568,
           4.400000095367432,
           3.799999952316284,
           5,
           3.700000047683716,
           3.700000047683716,
           3.700000047683716,
           4.300000190734863,
           3.799999952316284,
           4.599999904632568,
           5
          ],
          "sizemode": "area",
          "sizeref": 0.030499999523162843,
          "symbol": "circle"
         },
         "mode": "markers",
         "name": "",
         "orientation": "v",
         "showlegend": false,
         "type": "scatter",
         "x": [
          26,
          30,
          38,
          36,
          46,
          50,
          43,
          40,
          26,
          30,
          42,
          38,
          59,
          58,
          46,
          24,
          36,
          32,
          39,
          40,
          32,
          38,
          37,
          36,
          62,
          57,
          21,
          28,
          29,
          35,
          51,
          29,
          58,
          40,
          36,
          36,
          37,
          26,
          23,
          58,
          55,
          29,
          37,
          44,
          32,
          21,
          32,
          25,
          25,
          36,
          29,
          63,
          61,
          46,
          28,
          82,
          24,
          61,
          57,
          52,
          18,
          23,
          24,
          26,
          24,
          57,
          41,
          55,
          40,
          37,
          55,
          20,
          29,
          42,
          25,
          38,
          39,
          50,
          56,
          28,
          36,
          39,
          42,
          57,
          25,
          58,
          51,
          45,
          32,
          22,
          37,
          60,
          51,
          21,
          57,
          71,
          25,
          18,
          45,
          75,
          26,
          36,
          56,
          37,
          25,
          21,
          66,
          42,
          27,
          26,
          42,
          38,
          40,
          43,
          58,
          55,
          24,
          38,
          57,
          56,
          46,
          37,
          44,
          46,
          39,
          33,
          43,
          26,
          30,
          25,
          38,
          61,
          24,
          40,
          58,
          49,
          25,
          37,
          41,
          45,
          14,
          45,
          52,
          46,
          28,
          61,
          61,
          37,
          80,
          62,
          34,
          44,
          60,
          39,
          38,
          71,
          53,
          80,
          26,
          49,
          40,
          36,
          43,
          55,
          38,
          51,
          44,
          42,
          44,
          38,
          47,
          75,
          29,
          50,
          52,
          51,
          59,
          55,
          73,
          44,
          41,
          69,
          85,
          67,
          44,
          43,
          82,
          61,
          41,
          63,
          54,
          24,
          24,
          43,
          44,
          28,
          31,
          26,
          26,
          36,
          39,
          21,
          22,
          31,
          33,
          42,
          33,
          32,
          26,
          22,
          58,
          27,
          32,
          55,
          56,
          34,
          39,
          62,
          53,
          38,
          42,
          32,
          43,
          69,
          38,
          29,
          38,
          55,
          36,
          40,
          48,
          55,
          36,
          33,
          54,
          32,
          16,
          37,
          42,
          57,
          57,
          30,
          42,
          53,
          46,
          20,
          33,
          31,
          55,
          22,
          41,
          45,
          28,
          24,
          29,
          29,
          40,
          50,
          41,
          32,
          75,
          88,
          50,
          40,
          32,
          40,
          41,
          26,
          42,
          43,
          40,
          50,
          40,
          44,
          45,
          35,
          30,
          25,
          22,
          43,
          26,
          33,
          26,
          39,
          47,
          38,
          58,
          65,
          54,
          35,
          46,
          32,
          42,
          33,
          40,
          34,
          35,
          33,
          60,
          48,
          56,
          38,
          53,
          51,
          53,
          53,
          80,
          90,
          27,
          52,
          43,
          48,
          29,
          49,
          43,
          43,
          21,
          59,
          58,
          47,
          26,
          87,
          58,
          43,
          50,
          45,
          41,
          45,
          43,
          37,
          47,
          42,
          30,
          42,
          40,
          35,
          50,
          46,
          36,
          46,
          35,
          44,
          46,
          23,
          48,
          35,
          33,
          36,
          27,
          45,
          55,
          39,
          35,
          52,
          48,
          48,
          43,
          42,
          43,
          33,
          47,
          16,
          44,
          33,
          36,
          49,
          39,
          44,
          52,
          33,
          33,
          39,
          38,
          45,
          42,
          25
         ],
         "xaxis": "x",
         "y": [
          5,
          4.199999809265137,
          5.5,
          3.9000000953674316,
          4.5,
          6.400000095367432,
          4.400000095367432,
          5,
          6.400000095367432,
          5.300000190734863,
          5.599999904632568,
          4.599999904632568,
          5.900000095367432,
          5.099999904632568,
          4.699999809265137,
          5.099999904632568,
          5.599999904632568,
          5.099999904632568,
          4.900000095367432,
          4.699999809265137,
          5.5,
          5.900000095367432,
          5.699999809265137,
          4.699999809265137,
          5.900000095367432,
          4.099999904632568,
          5.699999809265137,
          5.800000190734863,
          5.5,
          5.699999809265137,
          5.300000190734863,
          5,
          5.599999904632568,
          4.800000190734863,
          4.300000190734863,
          5.699999809265137,
          5.199999809265137,
          7.400000095367432,
          4.800000190734863,
          6.5,
          4,
          5,
          4.599999904632568,
          4.300000190734863,
          3.299999952316284,
          9.899999618530273,
          5.099999904632568,
          4.900000095367432,
          4.900000095367432,
          4.699999809265137,
          5.099999904632568,
          4.900000095367432,
          4.199999809265137,
          6.099999904632568,
          6.400000095367432,
          4.900000095367432,
          4.900000095367432,
          6.199999809265137,
          4.199999809265137,
          5.699999809265137,
          7.900000095367432,
          12.199999809265137,
          5.800000190734863,
          5.300000190734863,
          5.400000095367432,
          4.699999809265137,
          4.599999904632568,
          5.400000095367432,
          4.300000190734863,
          4.5,
          5.199999809265137,
          6.199999809265137,
          5.099999904632568,
          3.9000000953674316,
          5,
          5.400000095367432,
          4.5,
          5.099999904632568,
          4.699999809265137,
          4,
          5.400000095367432,
          4.5,
          3.5999999046325684,
          5.199999809265137,
          4.900000095367432,
          6.199999809265137,
          4.300000190734863,
          5,
          5.099999904632568,
          5.599999904632568,
          4.300000190734863,
          5.800000190734863,
          4,
          5.900000095367432,
          4.199999809265137,
          5.800000190734863,
          6.900000095367432,
          5.400000095367432,
          5.300000190734863,
          5.5,
          6.5,
          4.699999809265137,
          5.099999904632568,
          5.699999809265137,
          5.400000095367432,
          8.699999809265137,
          4.900000095367432,
          4.699999809265137,
          6.300000190734863,
          5.099999904632568,
          6,
          4.599999904632568,
          5.800000190734863,
          5.099999904632568,
          5.800000190734863,
          4.599999904632568,
          5.599999904632568,
          4.599999904632568,
          6.300000190734863,
          5.5,
          4.300000190734863,
          5.599999904632568,
          4.300000190734863,
          5.699999809265137,
          6.400000095367432,
          4.5,
          4.5,
          6,
          5.099999904632568,
          6,
          4.5,
          6.099999904632568,
          5.400000095367432,
          4.300000190734863,
          5.400000095367432,
          4.300000190734863,
          5.199999809265137,
          4.099999904632568,
          4.400000095367432,
          4.5,
          10.800000190734863,
          4.699999809265137,
          4.800000190734863,
          4,
          5,
          4.599999904632568,
          5,
          4.300000190734863,
          5.199999809265137,
          4.699999809265137,
          4.199999809265137,
          5.300000190734863,
          5.300000190734863,
          8.100000381469727,
          4.800000190734863,
          5.099999904632568,
          4.400000095367432,
          5,
          6.300000190734863,
          4.800000190734863,
          6.099999904632568,
          4.599999904632568,
          4.800000190734863,
          4.699999809265137,
          4.800000190734863,
          4.400000095367432,
          4.900000095367432,
          4.900000095367432,
          4.400000095367432,
          5.300000190734863,
          5.300000190734863,
          4.800000190734863,
          5.199999809265137,
          4.900000095367432,
          7.099999904632568,
          5.199999809265137,
          4.699999809265137,
          5.099999904632568,
          5,
          4.599999904632568,
          4.800000190734863,
          4.400000095367432,
          4.599999904632568,
          4.300000190734863,
          4.699999809265137,
          4.199999809265137,
          4.800000190734863,
          4.099999904632568,
          4.5,
          4.800000190734863,
          4.599999904632568,
          7.400000095367432,
          5.599999904632568,
          4.900000095367432,
          4.5,
          5.300000190734863,
          4.699999809265137,
          9,
          6.300000190734863,
          3.5999999046325684,
          3.700000047683716,
          11.5,
          5,
          5.5,
          4.699999809265137,
          4.5,
          4.400000095367432,
          4.099999904632568,
          4.400000095367432,
          4.599999904632568,
          4.400000095367432,
          4,
          5,
          5.199999809265137,
          4,
          5.099999904632568,
          4.5,
          4.599999904632568,
          5.099999904632568,
          5.699999809265137,
          4.800000190734863,
          6.199999809265137,
          5,
          5,
          4.599999904632568,
          4.5,
          4.800000190734863,
          5,
          4.800000190734863,
          4.599999904632568,
          4.5,
          4.599999904632568,
          4.400000095367432,
          5.699999809265137,
          5.800000190734863,
          5.900000095367432,
          6.099999904632568,
          5.699999809265137,
          5,
          5.199999809265137,
          4.300000190734863,
          4.099999904632568,
          4.400000095367432,
          4.5,
          3.9000000953674316,
          8.100000381469727,
          4.400000095367432,
          5,
          4.699999809265137,
          6,
          5,
          5,
          4.5,
          5.400000095367432,
          5.599999904632568,
          3.9000000953674316,
          4,
          4.5,
          3.799999952316284,
          5.599999904632568,
          5.199999809265137,
          4.800000190734863,
          4.900000095367432,
          4.099999904632568,
          4.5,
          4.400000095367432,
          4.5,
          4.5,
          3.9000000953674316,
          4.599999904632568,
          3.799999952316284,
          4.5,
          4.400000095367432,
          4.300000190734863,
          4,
          3.9000000953674316,
          5,
          4.099999904632568,
          4.099999904632568,
          5.599999904632568,
          4.099999904632568,
          4.599999904632568,
          4.900000095367432,
          4.5,
          4.099999904632568,
          4.099999904632568,
          4.5,
          4.199999809265137,
          3.9000000953674316,
          5,
          4.400000095367432,
          4.5,
          3.799999952316284,
          5.099999904632568,
          3.9000000953674316,
          5.300000190734863,
          4.199999809265137,
          4.300000190734863,
          4,
          4.699999809265137,
          4,
          4.300000190734863,
          5.300000190734863,
          5.199999809265137,
          4.900000095367432,
          4.699999809265137,
          4.599999904632568,
          5.300000190734863,
          3.5999999046325684,
          4.199999809265137,
          4.099999904632568,
          4,
          3.9000000953674316,
          3.700000047683716,
          4.5,
          3.9000000953674316,
          5.099999904632568,
          4.199999809265137,
          4.199999809265137,
          4.800000190734863,
          4.699999809265137,
          4.699999809265137,
          4.599999904632568,
          3.799999952316284,
          4.199999809265137,
          3.700000047683716,
          4.199999809265137,
          4.099999904632568,
          4,
          3.799999952316284,
          3.799999952316284,
          3.799999952316284,
          5.099999904632568,
          4,
          4.800000190734863,
          3.9000000953674316,
          4.599999904632568,
          4.300000190734863,
          4.800000190734863,
          4.099999904632568,
          4,
          3.700000047683716,
          4.300000190734863,
          5.199999809265137,
          4.199999809265137,
          5,
          5,
          4.199999809265137,
          4.800000190734863,
          4.099999904632568,
          4.900000095367432,
          4.300000190734863,
          3.9000000953674316,
          4.5,
          4.099999904632568,
          5,
          4,
          4.5,
          3.5999999046325684,
          4.099999904632568,
          3.9000000953674316,
          6.599999904632568,
          4,
          3.700000047683716,
          4.300000190734863,
          4.099999904632568,
          4.400000095367432,
          3.799999952316284,
          5,
          3.700000047683716,
          3.700000047683716,
          3.700000047683716,
          4.300000190734863,
          3.799999952316284,
          4.599999904632568,
          5
         ],
         "yaxis": "y"
        }
       ],
       "layout": {
        "coloraxis": {
         "colorbar": {
          "title": {
           "text": "fuel"
          }
         },
         "colorscale": [
          [
           0,
           "#0d0887"
          ],
          [
           0.1111111111111111,
           "#46039f"
          ],
          [
           0.2222222222222222,
           "#7201a8"
          ],
          [
           0.3333333333333333,
           "#9c179e"
          ],
          [
           0.4444444444444444,
           "#bd3786"
          ],
          [
           0.5555555555555556,
           "#d8576b"
          ],
          [
           0.6666666666666666,
           "#ed7953"
          ],
          [
           0.7777777777777778,
           "#fb9f3a"
          ],
          [
           0.8888888888888888,
           "#fdca26"
          ],
          [
           1,
           "#f0f921"
          ]
         ]
        },
        "legend": {
         "itemsizing": "constant",
         "tracegroupgap": 0
        },
        "template": {
         "data": {
          "bar": [
           {
            "error_x": {
             "color": "#2a3f5f"
            },
            "error_y": {
             "color": "#2a3f5f"
            },
            "marker": {
             "line": {
              "color": "#E5ECF6",
              "width": 0.5
             },
             "pattern": {
              "fillmode": "overlay",
              "size": 10,
              "solidity": 0.2
             }
            },
            "type": "bar"
           }
          ],
          "barpolar": [
           {
            "marker": {
             "line": {
              "color": "#E5ECF6",
              "width": 0.5
             },
             "pattern": {
              "fillmode": "overlay",
              "size": 10,
              "solidity": 0.2
             }
            },
            "type": "barpolar"
           }
          ],
          "carpet": [
           {
            "aaxis": {
             "endlinecolor": "#2a3f5f",
             "gridcolor": "white",
             "linecolor": "white",
             "minorgridcolor": "white",
             "startlinecolor": "#2a3f5f"
            },
            "baxis": {
             "endlinecolor": "#2a3f5f",
             "gridcolor": "white",
             "linecolor": "white",
             "minorgridcolor": "white",
             "startlinecolor": "#2a3f5f"
            },
            "type": "carpet"
           }
          ],
          "choropleth": [
           {
            "colorbar": {
             "outlinewidth": 0,
             "ticks": ""
            },
            "type": "choropleth"
           }
          ],
          "contour": [
           {
            "colorbar": {
             "outlinewidth": 0,
             "ticks": ""
            },
            "colorscale": [
             [
              0,
              "#0d0887"
             ],
             [
              0.1111111111111111,
              "#46039f"
             ],
             [
              0.2222222222222222,
              "#7201a8"
             ],
             [
              0.3333333333333333,
              "#9c179e"
             ],
             [
              0.4444444444444444,
              "#bd3786"
             ],
             [
              0.5555555555555556,
              "#d8576b"
             ],
             [
              0.6666666666666666,
              "#ed7953"
             ],
             [
              0.7777777777777778,
              "#fb9f3a"
             ],
             [
              0.8888888888888888,
              "#fdca26"
             ],
             [
              1,
              "#f0f921"
             ]
            ],
            "type": "contour"
           }
          ],
          "contourcarpet": [
           {
            "colorbar": {
             "outlinewidth": 0,
             "ticks": ""
            },
            "type": "contourcarpet"
           }
          ],
          "heatmap": [
           {
            "colorbar": {
             "outlinewidth": 0,
             "ticks": ""
            },
            "colorscale": [
             [
              0,
              "#0d0887"
             ],
             [
              0.1111111111111111,
              "#46039f"
             ],
             [
              0.2222222222222222,
              "#7201a8"
             ],
             [
              0.3333333333333333,
              "#9c179e"
             ],
             [
              0.4444444444444444,
              "#bd3786"
             ],
             [
              0.5555555555555556,
              "#d8576b"
             ],
             [
              0.6666666666666666,
              "#ed7953"
             ],
             [
              0.7777777777777778,
              "#fb9f3a"
             ],
             [
              0.8888888888888888,
              "#fdca26"
             ],
             [
              1,
              "#f0f921"
             ]
            ],
            "type": "heatmap"
           }
          ],
          "heatmapgl": [
           {
            "colorbar": {
             "outlinewidth": 0,
             "ticks": ""
            },
            "colorscale": [
             [
              0,
              "#0d0887"
             ],
             [
              0.1111111111111111,
              "#46039f"
             ],
             [
              0.2222222222222222,
              "#7201a8"
             ],
             [
              0.3333333333333333,
              "#9c179e"
             ],
             [
              0.4444444444444444,
              "#bd3786"
             ],
             [
              0.5555555555555556,
              "#d8576b"
             ],
             [
              0.6666666666666666,
              "#ed7953"
             ],
             [
              0.7777777777777778,
              "#fb9f3a"
             ],
             [
              0.8888888888888888,
              "#fdca26"
             ],
             [
              1,
              "#f0f921"
             ]
            ],
            "type": "heatmapgl"
           }
          ],
          "histogram": [
           {
            "marker": {
             "pattern": {
              "fillmode": "overlay",
              "size": 10,
              "solidity": 0.2
             }
            },
            "type": "histogram"
           }
          ],
          "histogram2d": [
           {
            "colorbar": {
             "outlinewidth": 0,
             "ticks": ""
            },
            "colorscale": [
             [
              0,
              "#0d0887"
             ],
             [
              0.1111111111111111,
              "#46039f"
             ],
             [
              0.2222222222222222,
              "#7201a8"
             ],
             [
              0.3333333333333333,
              "#9c179e"
             ],
             [
              0.4444444444444444,
              "#bd3786"
             ],
             [
              0.5555555555555556,
              "#d8576b"
             ],
             [
              0.6666666666666666,
              "#ed7953"
             ],
             [
              0.7777777777777778,
              "#fb9f3a"
             ],
             [
              0.8888888888888888,
              "#fdca26"
             ],
             [
              1,
              "#f0f921"
             ]
            ],
            "type": "histogram2d"
           }
          ],
          "histogram2dcontour": [
           {
            "colorbar": {
             "outlinewidth": 0,
             "ticks": ""
            },
            "colorscale": [
             [
              0,
              "#0d0887"
             ],
             [
              0.1111111111111111,
              "#46039f"
             ],
             [
              0.2222222222222222,
              "#7201a8"
             ],
             [
              0.3333333333333333,
              "#9c179e"
             ],
             [
              0.4444444444444444,
              "#bd3786"
             ],
             [
              0.5555555555555556,
              "#d8576b"
             ],
             [
              0.6666666666666666,
              "#ed7953"
             ],
             [
              0.7777777777777778,
              "#fb9f3a"
             ],
             [
              0.8888888888888888,
              "#fdca26"
             ],
             [
              1,
              "#f0f921"
             ]
            ],
            "type": "histogram2dcontour"
           }
          ],
          "mesh3d": [
           {
            "colorbar": {
             "outlinewidth": 0,
             "ticks": ""
            },
            "type": "mesh3d"
           }
          ],
          "parcoords": [
           {
            "line": {
             "colorbar": {
              "outlinewidth": 0,
              "ticks": ""
             }
            },
            "type": "parcoords"
           }
          ],
          "pie": [
           {
            "automargin": true,
            "type": "pie"
           }
          ],
          "scatter": [
           {
            "fillpattern": {
             "fillmode": "overlay",
             "size": 10,
             "solidity": 0.2
            },
            "type": "scatter"
           }
          ],
          "scatter3d": [
           {
            "line": {
             "colorbar": {
              "outlinewidth": 0,
              "ticks": ""
             }
            },
            "marker": {
             "colorbar": {
              "outlinewidth": 0,
              "ticks": ""
             }
            },
            "type": "scatter3d"
           }
          ],
          "scattercarpet": [
           {
            "marker": {
             "colorbar": {
              "outlinewidth": 0,
              "ticks": ""
             }
            },
            "type": "scattercarpet"
           }
          ],
          "scattergeo": [
           {
            "marker": {
             "colorbar": {
              "outlinewidth": 0,
              "ticks": ""
             }
            },
            "type": "scattergeo"
           }
          ],
          "scattergl": [
           {
            "marker": {
             "colorbar": {
              "outlinewidth": 0,
              "ticks": ""
             }
            },
            "type": "scattergl"
           }
          ],
          "scattermapbox": [
           {
            "marker": {
             "colorbar": {
              "outlinewidth": 0,
              "ticks": ""
             }
            },
            "type": "scattermapbox"
           }
          ],
          "scatterpolar": [
           {
            "marker": {
             "colorbar": {
              "outlinewidth": 0,
              "ticks": ""
             }
            },
            "type": "scatterpolar"
           }
          ],
          "scatterpolargl": [
           {
            "marker": {
             "colorbar": {
              "outlinewidth": 0,
              "ticks": ""
             }
            },
            "type": "scatterpolargl"
           }
          ],
          "scatterternary": [
           {
            "marker": {
             "colorbar": {
              "outlinewidth": 0,
              "ticks": ""
             }
            },
            "type": "scatterternary"
           }
          ],
          "surface": [
           {
            "colorbar": {
             "outlinewidth": 0,
             "ticks": ""
            },
            "colorscale": [
             [
              0,
              "#0d0887"
             ],
             [
              0.1111111111111111,
              "#46039f"
             ],
             [
              0.2222222222222222,
              "#7201a8"
             ],
             [
              0.3333333333333333,
              "#9c179e"
             ],
             [
              0.4444444444444444,
              "#bd3786"
             ],
             [
              0.5555555555555556,
              "#d8576b"
             ],
             [
              0.6666666666666666,
              "#ed7953"
             ],
             [
              0.7777777777777778,
              "#fb9f3a"
             ],
             [
              0.8888888888888888,
              "#fdca26"
             ],
             [
              1,
              "#f0f921"
             ]
            ],
            "type": "surface"
           }
          ],
          "table": [
           {
            "cells": {
             "fill": {
              "color": "#EBF0F8"
             },
             "line": {
              "color": "white"
             }
            },
            "header": {
             "fill": {
              "color": "#C8D4E3"
             },
             "line": {
              "color": "white"
             }
            },
            "type": "table"
           }
          ]
         },
         "layout": {
          "annotationdefaults": {
           "arrowcolor": "#2a3f5f",
           "arrowhead": 0,
           "arrowwidth": 1
          },
          "autotypenumbers": "strict",
          "coloraxis": {
           "colorbar": {
            "outlinewidth": 0,
            "ticks": ""
           }
          },
          "colorscale": {
           "diverging": [
            [
             0,
             "#8e0152"
            ],
            [
             0.1,
             "#c51b7d"
            ],
            [
             0.2,
             "#de77ae"
            ],
            [
             0.3,
             "#f1b6da"
            ],
            [
             0.4,
             "#fde0ef"
            ],
            [
             0.5,
             "#f7f7f7"
            ],
            [
             0.6,
             "#e6f5d0"
            ],
            [
             0.7,
             "#b8e186"
            ],
            [
             0.8,
             "#7fbc41"
            ],
            [
             0.9,
             "#4d9221"
            ],
            [
             1,
             "#276419"
            ]
           ],
           "sequential": [
            [
             0,
             "#0d0887"
            ],
            [
             0.1111111111111111,
             "#46039f"
            ],
            [
             0.2222222222222222,
             "#7201a8"
            ],
            [
             0.3333333333333333,
             "#9c179e"
            ],
            [
             0.4444444444444444,
             "#bd3786"
            ],
            [
             0.5555555555555556,
             "#d8576b"
            ],
            [
             0.6666666666666666,
             "#ed7953"
            ],
            [
             0.7777777777777778,
             "#fb9f3a"
            ],
            [
             0.8888888888888888,
             "#fdca26"
            ],
            [
             1,
             "#f0f921"
            ]
           ],
           "sequentialminus": [
            [
             0,
             "#0d0887"
            ],
            [
             0.1111111111111111,
             "#46039f"
            ],
            [
             0.2222222222222222,
             "#7201a8"
            ],
            [
             0.3333333333333333,
             "#9c179e"
            ],
            [
             0.4444444444444444,
             "#bd3786"
            ],
            [
             0.5555555555555556,
             "#d8576b"
            ],
            [
             0.6666666666666666,
             "#ed7953"
            ],
            [
             0.7777777777777778,
             "#fb9f3a"
            ],
            [
             0.8888888888888888,
             "#fdca26"
            ],
            [
             1,
             "#f0f921"
            ]
           ]
          },
          "colorway": [
           "#636efa",
           "#EF553B",
           "#00cc96",
           "#ab63fa",
           "#FFA15A",
           "#19d3f3",
           "#FF6692",
           "#B6E880",
           "#FF97FF",
           "#FECB52"
          ],
          "font": {
           "color": "#2a3f5f"
          },
          "geo": {
           "bgcolor": "white",
           "lakecolor": "white",
           "landcolor": "#E5ECF6",
           "showlakes": true,
           "showland": true,
           "subunitcolor": "white"
          },
          "hoverlabel": {
           "align": "left"
          },
          "hovermode": "closest",
          "mapbox": {
           "style": "light"
          },
          "paper_bgcolor": "white",
          "plot_bgcolor": "#E5ECF6",
          "polar": {
           "angularaxis": {
            "gridcolor": "white",
            "linecolor": "white",
            "ticks": ""
           },
           "bgcolor": "#E5ECF6",
           "radialaxis": {
            "gridcolor": "white",
            "linecolor": "white",
            "ticks": ""
           }
          },
          "scene": {
           "xaxis": {
            "backgroundcolor": "#E5ECF6",
            "gridcolor": "white",
            "gridwidth": 2,
            "linecolor": "white",
            "showbackground": true,
            "ticks": "",
            "zerolinecolor": "white"
           },
           "yaxis": {
            "backgroundcolor": "#E5ECF6",
            "gridcolor": "white",
            "gridwidth": 2,
            "linecolor": "white",
            "showbackground": true,
            "ticks": "",
            "zerolinecolor": "white"
           },
           "zaxis": {
            "backgroundcolor": "#E5ECF6",
            "gridcolor": "white",
            "gridwidth": 2,
            "linecolor": "white",
            "showbackground": true,
            "ticks": "",
            "zerolinecolor": "white"
           }
          },
          "shapedefaults": {
           "line": {
            "color": "#2a3f5f"
           }
          },
          "ternary": {
           "aaxis": {
            "gridcolor": "white",
            "linecolor": "white",
            "ticks": ""
           },
           "baxis": {
            "gridcolor": "white",
            "linecolor": "white",
            "ticks": ""
           },
           "bgcolor": "#E5ECF6",
           "caxis": {
            "gridcolor": "white",
            "linecolor": "white",
            "ticks": ""
           }
          },
          "title": {
           "x": 0.05
          },
          "xaxis": {
           "automargin": true,
           "gridcolor": "white",
           "linecolor": "white",
           "ticks": "",
           "title": {
            "standoff": 15
           },
           "zerolinecolor": "white",
           "zerolinewidth": 2
          },
          "yaxis": {
           "automargin": true,
           "gridcolor": "white",
           "linecolor": "white",
           "ticks": "",
           "title": {
            "standoff": 15
           },
           "zerolinecolor": "white",
           "zerolinewidth": 2
          }
         }
        },
        "title": {
         "text": "Consume vs Speed"
        },
        "xaxis": {
         "anchor": "y",
         "domain": [
          0,
          1
         ],
         "title": {
          "text": "speed"
         }
        },
        "yaxis": {
         "anchor": "x",
         "domain": [
          0,
          1
         ],
         "title": {
          "text": "consume"
         }
        }
       }
      },
      "text/html": [
       "<div>                            <div id=\"18b08193-137b-40de-a3a1-644e138d0ecd\" class=\"plotly-graph-div\" style=\"height:525px; width:100%;\"></div>            <script type=\"text/javascript\">                require([\"plotly\"], function(Plotly) {                    window.PLOTLYENV=window.PLOTLYENV || {};                                    if (document.getElementById(\"18b08193-137b-40de-a3a1-644e138d0ecd\")) {                    Plotly.newPlot(                        \"18b08193-137b-40de-a3a1-644e138d0ecd\",                        [{\"hovertemplate\":\"speed=%{x}<br>consume=%{marker.size}<br>fuel=%{marker.color}<extra></extra>\",\"legendgroup\":\"\",\"marker\":{\"color\":[0,0,0,0,0,0,0,0,0,0,0,0,0,0,0,0,0,0,0,0,0,0,0,0,0,0,0,0,0,0,0,0,0,0,0,0,0,0,0,0,0,0,0,0,1,1,1,1,1,1,1,1,1,1,1,1,1,1,1,1,1,1,1,1,1,1,1,1,1,1,1,1,1,1,1,1,1,1,1,1,1,1,1,1,1,1,1,1,1,1,1,1,1,1,1,1,1,1,1,1,1,1,1,1,1,1,1,1,1,1,1,1,1,1,1,1,1,1,1,1,1,1,1,1,1,1,1,1,1,1,1,1,0,0,0,0,0,0,0,0,0,0,0,0,0,0,0,0,0,0,0,0,0,0,0,0,0,0,0,0,0,0,0,0,0,0,0,0,0,0,0,0,0,0,0,0,0,0,0,0,0,0,0,0,1,1,1,1,1,1,1,1,1,1,1,1,1,1,1,1,1,1,1,1,1,1,1,1,1,1,1,1,1,1,1,1,1,1,1,1,1,1,1,1,1,0,0,0,0,0,0,0,0,0,0,0,0,0,0,0,0,0,0,0,0,0,0,0,0,0,0,0,0,0,0,0,0,0,0,0,0,0,1,1,1,1,1,1,1,1,1,1,1,1,1,1,1,1,1,1,1,1,1,1,1,1,1,1,1,1,1,1,1,1,1,1,1,1,1,1,1,1,1,1,1,1,1,1,1,1,1,1,1,0,0,0,0,0,0,0,0,0,0,0,0,0,0,0,0,0,0,0,0,0,0,0,0,1,1,1,1,1,1,1,1,1,1,1,1,1,1,1,1,1,1,1,1,1,1,1,1,1,1,1,1,1,1,1,1,1,1,1,1,1,1,1],\"coloraxis\":\"coloraxis\",\"size\":[5.0,4.199999809265137,5.5,3.9000000953674316,4.5,6.400000095367432,4.400000095367432,5.0,6.400000095367432,5.300000190734863,5.599999904632568,4.599999904632568,5.900000095367432,5.099999904632568,4.699999809265137,5.099999904632568,5.599999904632568,5.099999904632568,4.900000095367432,4.699999809265137,5.5,5.900000095367432,5.699999809265137,4.699999809265137,5.900000095367432,4.099999904632568,5.699999809265137,5.800000190734863,5.5,5.699999809265137,5.300000190734863,5.0,5.599999904632568,4.800000190734863,4.300000190734863,5.699999809265137,5.199999809265137,7.400000095367432,4.800000190734863,6.5,4.0,5.0,4.599999904632568,4.300000190734863,3.299999952316284,9.899999618530273,5.099999904632568,4.900000095367432,4.900000095367432,4.699999809265137,5.099999904632568,4.900000095367432,4.199999809265137,6.099999904632568,6.400000095367432,4.900000095367432,4.900000095367432,6.199999809265137,4.199999809265137,5.699999809265137,7.900000095367432,12.199999809265137,5.800000190734863,5.300000190734863,5.400000095367432,4.699999809265137,4.599999904632568,5.400000095367432,4.300000190734863,4.5,5.199999809265137,6.199999809265137,5.099999904632568,3.9000000953674316,5.0,5.400000095367432,4.5,5.099999904632568,4.699999809265137,4.0,5.400000095367432,4.5,3.5999999046325684,5.199999809265137,4.900000095367432,6.199999809265137,4.300000190734863,5.0,5.099999904632568,5.599999904632568,4.300000190734863,5.800000190734863,4.0,5.900000095367432,4.199999809265137,5.800000190734863,6.900000095367432,5.400000095367432,5.300000190734863,5.5,6.5,4.699999809265137,5.099999904632568,5.699999809265137,5.400000095367432,8.699999809265137,4.900000095367432,4.699999809265137,6.300000190734863,5.099999904632568,6.0,4.599999904632568,5.800000190734863,5.099999904632568,5.800000190734863,4.599999904632568,5.599999904632568,4.599999904632568,6.300000190734863,5.5,4.300000190734863,5.599999904632568,4.300000190734863,5.699999809265137,6.400000095367432,4.5,4.5,6.0,5.099999904632568,6.0,4.5,6.099999904632568,5.400000095367432,4.300000190734863,5.400000095367432,4.300000190734863,5.199999809265137,4.099999904632568,4.400000095367432,4.5,10.800000190734863,4.699999809265137,4.800000190734863,4.0,5.0,4.599999904632568,5.0,4.300000190734863,5.199999809265137,4.699999809265137,4.199999809265137,5.300000190734863,5.300000190734863,8.100000381469727,4.800000190734863,5.099999904632568,4.400000095367432,5.0,6.300000190734863,4.800000190734863,6.099999904632568,4.599999904632568,4.800000190734863,4.699999809265137,4.800000190734863,4.400000095367432,4.900000095367432,4.900000095367432,4.400000095367432,5.300000190734863,5.300000190734863,4.800000190734863,5.199999809265137,4.900000095367432,7.099999904632568,5.199999809265137,4.699999809265137,5.099999904632568,5.0,4.599999904632568,4.800000190734863,4.400000095367432,4.599999904632568,4.300000190734863,4.699999809265137,4.199999809265137,4.800000190734863,4.099999904632568,4.5,4.800000190734863,4.599999904632568,7.400000095367432,5.599999904632568,4.900000095367432,4.5,5.300000190734863,4.699999809265137,9.0,6.300000190734863,3.5999999046325684,3.700000047683716,11.5,5.0,5.5,4.699999809265137,4.5,4.400000095367432,4.099999904632568,4.400000095367432,4.599999904632568,4.400000095367432,4.0,5.0,5.199999809265137,4.0,5.099999904632568,4.5,4.599999904632568,5.099999904632568,5.699999809265137,4.800000190734863,6.199999809265137,5.0,5.0,4.599999904632568,4.5,4.800000190734863,5.0,4.800000190734863,4.599999904632568,4.5,4.599999904632568,4.400000095367432,5.699999809265137,5.800000190734863,5.900000095367432,6.099999904632568,5.699999809265137,5.0,5.199999809265137,4.300000190734863,4.099999904632568,4.400000095367432,4.5,3.9000000953674316,8.100000381469727,4.400000095367432,5.0,4.699999809265137,6.0,5.0,5.0,4.5,5.400000095367432,5.599999904632568,3.9000000953674316,4.0,4.5,3.799999952316284,5.599999904632568,5.199999809265137,4.800000190734863,4.900000095367432,4.099999904632568,4.5,4.400000095367432,4.5,4.5,3.9000000953674316,4.599999904632568,3.799999952316284,4.5,4.400000095367432,4.300000190734863,4.0,3.9000000953674316,5.0,4.099999904632568,4.099999904632568,5.599999904632568,4.099999904632568,4.599999904632568,4.900000095367432,4.5,4.099999904632568,4.099999904632568,4.5,4.199999809265137,3.9000000953674316,5.0,4.400000095367432,4.5,3.799999952316284,5.099999904632568,3.9000000953674316,5.300000190734863,4.199999809265137,4.300000190734863,4.0,4.699999809265137,4.0,4.300000190734863,5.300000190734863,5.199999809265137,4.900000095367432,4.699999809265137,4.599999904632568,5.300000190734863,3.5999999046325684,4.199999809265137,4.099999904632568,4.0,3.9000000953674316,3.700000047683716,4.5,3.9000000953674316,5.099999904632568,4.199999809265137,4.199999809265137,4.800000190734863,4.699999809265137,4.699999809265137,4.599999904632568,3.799999952316284,4.199999809265137,3.700000047683716,4.199999809265137,4.099999904632568,4.0,3.799999952316284,3.799999952316284,3.799999952316284,5.099999904632568,4.0,4.800000190734863,3.9000000953674316,4.599999904632568,4.300000190734863,4.800000190734863,4.099999904632568,4.0,3.700000047683716,4.300000190734863,5.199999809265137,4.199999809265137,5.0,5.0,4.199999809265137,4.800000190734863,4.099999904632568,4.900000095367432,4.300000190734863,3.9000000953674316,4.5,4.099999904632568,5.0,4.0,4.5,3.5999999046325684,4.099999904632568,3.9000000953674316,6.599999904632568,4.0,3.700000047683716,4.300000190734863,4.099999904632568,4.400000095367432,3.799999952316284,5.0,3.700000047683716,3.700000047683716,3.700000047683716,4.300000190734863,3.799999952316284,4.599999904632568,5.0],\"sizemode\":\"area\",\"sizeref\":0.030499999523162843,\"symbol\":\"circle\"},\"mode\":\"markers\",\"name\":\"\",\"orientation\":\"v\",\"showlegend\":false,\"x\":[26,30,38,36,46,50,43,40,26,30,42,38,59,58,46,24,36,32,39,40,32,38,37,36,62,57,21,28,29,35,51,29,58,40,36,36,37,26,23,58,55,29,37,44,32,21,32,25,25,36,29,63,61,46,28,82,24,61,57,52,18,23,24,26,24,57,41,55,40,37,55,20,29,42,25,38,39,50,56,28,36,39,42,57,25,58,51,45,32,22,37,60,51,21,57,71,25,18,45,75,26,36,56,37,25,21,66,42,27,26,42,38,40,43,58,55,24,38,57,56,46,37,44,46,39,33,43,26,30,25,38,61,24,40,58,49,25,37,41,45,14,45,52,46,28,61,61,37,80,62,34,44,60,39,38,71,53,80,26,49,40,36,43,55,38,51,44,42,44,38,47,75,29,50,52,51,59,55,73,44,41,69,85,67,44,43,82,61,41,63,54,24,24,43,44,28,31,26,26,36,39,21,22,31,33,42,33,32,26,22,58,27,32,55,56,34,39,62,53,38,42,32,43,69,38,29,38,55,36,40,48,55,36,33,54,32,16,37,42,57,57,30,42,53,46,20,33,31,55,22,41,45,28,24,29,29,40,50,41,32,75,88,50,40,32,40,41,26,42,43,40,50,40,44,45,35,30,25,22,43,26,33,26,39,47,38,58,65,54,35,46,32,42,33,40,34,35,33,60,48,56,38,53,51,53,53,80,90,27,52,43,48,29,49,43,43,21,59,58,47,26,87,58,43,50,45,41,45,43,37,47,42,30,42,40,35,50,46,36,46,35,44,46,23,48,35,33,36,27,45,55,39,35,52,48,48,43,42,43,33,47,16,44,33,36,49,39,44,52,33,33,39,38,45,42,25],\"xaxis\":\"x\",\"y\":[5.0,4.199999809265137,5.5,3.9000000953674316,4.5,6.400000095367432,4.400000095367432,5.0,6.400000095367432,5.300000190734863,5.599999904632568,4.599999904632568,5.900000095367432,5.099999904632568,4.699999809265137,5.099999904632568,5.599999904632568,5.099999904632568,4.900000095367432,4.699999809265137,5.5,5.900000095367432,5.699999809265137,4.699999809265137,5.900000095367432,4.099999904632568,5.699999809265137,5.800000190734863,5.5,5.699999809265137,5.300000190734863,5.0,5.599999904632568,4.800000190734863,4.300000190734863,5.699999809265137,5.199999809265137,7.400000095367432,4.800000190734863,6.5,4.0,5.0,4.599999904632568,4.300000190734863,3.299999952316284,9.899999618530273,5.099999904632568,4.900000095367432,4.900000095367432,4.699999809265137,5.099999904632568,4.900000095367432,4.199999809265137,6.099999904632568,6.400000095367432,4.900000095367432,4.900000095367432,6.199999809265137,4.199999809265137,5.699999809265137,7.900000095367432,12.199999809265137,5.800000190734863,5.300000190734863,5.400000095367432,4.699999809265137,4.599999904632568,5.400000095367432,4.300000190734863,4.5,5.199999809265137,6.199999809265137,5.099999904632568,3.9000000953674316,5.0,5.400000095367432,4.5,5.099999904632568,4.699999809265137,4.0,5.400000095367432,4.5,3.5999999046325684,5.199999809265137,4.900000095367432,6.199999809265137,4.300000190734863,5.0,5.099999904632568,5.599999904632568,4.300000190734863,5.800000190734863,4.0,5.900000095367432,4.199999809265137,5.800000190734863,6.900000095367432,5.400000095367432,5.300000190734863,5.5,6.5,4.699999809265137,5.099999904632568,5.699999809265137,5.400000095367432,8.699999809265137,4.900000095367432,4.699999809265137,6.300000190734863,5.099999904632568,6.0,4.599999904632568,5.800000190734863,5.099999904632568,5.800000190734863,4.599999904632568,5.599999904632568,4.599999904632568,6.300000190734863,5.5,4.300000190734863,5.599999904632568,4.300000190734863,5.699999809265137,6.400000095367432,4.5,4.5,6.0,5.099999904632568,6.0,4.5,6.099999904632568,5.400000095367432,4.300000190734863,5.400000095367432,4.300000190734863,5.199999809265137,4.099999904632568,4.400000095367432,4.5,10.800000190734863,4.699999809265137,4.800000190734863,4.0,5.0,4.599999904632568,5.0,4.300000190734863,5.199999809265137,4.699999809265137,4.199999809265137,5.300000190734863,5.300000190734863,8.100000381469727,4.800000190734863,5.099999904632568,4.400000095367432,5.0,6.300000190734863,4.800000190734863,6.099999904632568,4.599999904632568,4.800000190734863,4.699999809265137,4.800000190734863,4.400000095367432,4.900000095367432,4.900000095367432,4.400000095367432,5.300000190734863,5.300000190734863,4.800000190734863,5.199999809265137,4.900000095367432,7.099999904632568,5.199999809265137,4.699999809265137,5.099999904632568,5.0,4.599999904632568,4.800000190734863,4.400000095367432,4.599999904632568,4.300000190734863,4.699999809265137,4.199999809265137,4.800000190734863,4.099999904632568,4.5,4.800000190734863,4.599999904632568,7.400000095367432,5.599999904632568,4.900000095367432,4.5,5.300000190734863,4.699999809265137,9.0,6.300000190734863,3.5999999046325684,3.700000047683716,11.5,5.0,5.5,4.699999809265137,4.5,4.400000095367432,4.099999904632568,4.400000095367432,4.599999904632568,4.400000095367432,4.0,5.0,5.199999809265137,4.0,5.099999904632568,4.5,4.599999904632568,5.099999904632568,5.699999809265137,4.800000190734863,6.199999809265137,5.0,5.0,4.599999904632568,4.5,4.800000190734863,5.0,4.800000190734863,4.599999904632568,4.5,4.599999904632568,4.400000095367432,5.699999809265137,5.800000190734863,5.900000095367432,6.099999904632568,5.699999809265137,5.0,5.199999809265137,4.300000190734863,4.099999904632568,4.400000095367432,4.5,3.9000000953674316,8.100000381469727,4.400000095367432,5.0,4.699999809265137,6.0,5.0,5.0,4.5,5.400000095367432,5.599999904632568,3.9000000953674316,4.0,4.5,3.799999952316284,5.599999904632568,5.199999809265137,4.800000190734863,4.900000095367432,4.099999904632568,4.5,4.400000095367432,4.5,4.5,3.9000000953674316,4.599999904632568,3.799999952316284,4.5,4.400000095367432,4.300000190734863,4.0,3.9000000953674316,5.0,4.099999904632568,4.099999904632568,5.599999904632568,4.099999904632568,4.599999904632568,4.900000095367432,4.5,4.099999904632568,4.099999904632568,4.5,4.199999809265137,3.9000000953674316,5.0,4.400000095367432,4.5,3.799999952316284,5.099999904632568,3.9000000953674316,5.300000190734863,4.199999809265137,4.300000190734863,4.0,4.699999809265137,4.0,4.300000190734863,5.300000190734863,5.199999809265137,4.900000095367432,4.699999809265137,4.599999904632568,5.300000190734863,3.5999999046325684,4.199999809265137,4.099999904632568,4.0,3.9000000953674316,3.700000047683716,4.5,3.9000000953674316,5.099999904632568,4.199999809265137,4.199999809265137,4.800000190734863,4.699999809265137,4.699999809265137,4.599999904632568,3.799999952316284,4.199999809265137,3.700000047683716,4.199999809265137,4.099999904632568,4.0,3.799999952316284,3.799999952316284,3.799999952316284,5.099999904632568,4.0,4.800000190734863,3.9000000953674316,4.599999904632568,4.300000190734863,4.800000190734863,4.099999904632568,4.0,3.700000047683716,4.300000190734863,5.199999809265137,4.199999809265137,5.0,5.0,4.199999809265137,4.800000190734863,4.099999904632568,4.900000095367432,4.300000190734863,3.9000000953674316,4.5,4.099999904632568,5.0,4.0,4.5,3.5999999046325684,4.099999904632568,3.9000000953674316,6.599999904632568,4.0,3.700000047683716,4.300000190734863,4.099999904632568,4.400000095367432,3.799999952316284,5.0,3.700000047683716,3.700000047683716,3.700000047683716,4.300000190734863,3.799999952316284,4.599999904632568,5.0],\"yaxis\":\"y\",\"type\":\"scatter\"}],                        {\"template\":{\"data\":{\"histogram2dcontour\":[{\"type\":\"histogram2dcontour\",\"colorbar\":{\"outlinewidth\":0,\"ticks\":\"\"},\"colorscale\":[[0.0,\"#0d0887\"],[0.1111111111111111,\"#46039f\"],[0.2222222222222222,\"#7201a8\"],[0.3333333333333333,\"#9c179e\"],[0.4444444444444444,\"#bd3786\"],[0.5555555555555556,\"#d8576b\"],[0.6666666666666666,\"#ed7953\"],[0.7777777777777778,\"#fb9f3a\"],[0.8888888888888888,\"#fdca26\"],[1.0,\"#f0f921\"]]}],\"choropleth\":[{\"type\":\"choropleth\",\"colorbar\":{\"outlinewidth\":0,\"ticks\":\"\"}}],\"histogram2d\":[{\"type\":\"histogram2d\",\"colorbar\":{\"outlinewidth\":0,\"ticks\":\"\"},\"colorscale\":[[0.0,\"#0d0887\"],[0.1111111111111111,\"#46039f\"],[0.2222222222222222,\"#7201a8\"],[0.3333333333333333,\"#9c179e\"],[0.4444444444444444,\"#bd3786\"],[0.5555555555555556,\"#d8576b\"],[0.6666666666666666,\"#ed7953\"],[0.7777777777777778,\"#fb9f3a\"],[0.8888888888888888,\"#fdca26\"],[1.0,\"#f0f921\"]]}],\"heatmap\":[{\"type\":\"heatmap\",\"colorbar\":{\"outlinewidth\":0,\"ticks\":\"\"},\"colorscale\":[[0.0,\"#0d0887\"],[0.1111111111111111,\"#46039f\"],[0.2222222222222222,\"#7201a8\"],[0.3333333333333333,\"#9c179e\"],[0.4444444444444444,\"#bd3786\"],[0.5555555555555556,\"#d8576b\"],[0.6666666666666666,\"#ed7953\"],[0.7777777777777778,\"#fb9f3a\"],[0.8888888888888888,\"#fdca26\"],[1.0,\"#f0f921\"]]}],\"heatmapgl\":[{\"type\":\"heatmapgl\",\"colorbar\":{\"outlinewidth\":0,\"ticks\":\"\"},\"colorscale\":[[0.0,\"#0d0887\"],[0.1111111111111111,\"#46039f\"],[0.2222222222222222,\"#7201a8\"],[0.3333333333333333,\"#9c179e\"],[0.4444444444444444,\"#bd3786\"],[0.5555555555555556,\"#d8576b\"],[0.6666666666666666,\"#ed7953\"],[0.7777777777777778,\"#fb9f3a\"],[0.8888888888888888,\"#fdca26\"],[1.0,\"#f0f921\"]]}],\"contourcarpet\":[{\"type\":\"contourcarpet\",\"colorbar\":{\"outlinewidth\":0,\"ticks\":\"\"}}],\"contour\":[{\"type\":\"contour\",\"colorbar\":{\"outlinewidth\":0,\"ticks\":\"\"},\"colorscale\":[[0.0,\"#0d0887\"],[0.1111111111111111,\"#46039f\"],[0.2222222222222222,\"#7201a8\"],[0.3333333333333333,\"#9c179e\"],[0.4444444444444444,\"#bd3786\"],[0.5555555555555556,\"#d8576b\"],[0.6666666666666666,\"#ed7953\"],[0.7777777777777778,\"#fb9f3a\"],[0.8888888888888888,\"#fdca26\"],[1.0,\"#f0f921\"]]}],\"surface\":[{\"type\":\"surface\",\"colorbar\":{\"outlinewidth\":0,\"ticks\":\"\"},\"colorscale\":[[0.0,\"#0d0887\"],[0.1111111111111111,\"#46039f\"],[0.2222222222222222,\"#7201a8\"],[0.3333333333333333,\"#9c179e\"],[0.4444444444444444,\"#bd3786\"],[0.5555555555555556,\"#d8576b\"],[0.6666666666666666,\"#ed7953\"],[0.7777777777777778,\"#fb9f3a\"],[0.8888888888888888,\"#fdca26\"],[1.0,\"#f0f921\"]]}],\"mesh3d\":[{\"type\":\"mesh3d\",\"colorbar\":{\"outlinewidth\":0,\"ticks\":\"\"}}],\"scatter\":[{\"fillpattern\":{\"fillmode\":\"overlay\",\"size\":10,\"solidity\":0.2},\"type\":\"scatter\"}],\"parcoords\":[{\"type\":\"parcoords\",\"line\":{\"colorbar\":{\"outlinewidth\":0,\"ticks\":\"\"}}}],\"scatterpolargl\":[{\"type\":\"scatterpolargl\",\"marker\":{\"colorbar\":{\"outlinewidth\":0,\"ticks\":\"\"}}}],\"bar\":[{\"error_x\":{\"color\":\"#2a3f5f\"},\"error_y\":{\"color\":\"#2a3f5f\"},\"marker\":{\"line\":{\"color\":\"#E5ECF6\",\"width\":0.5},\"pattern\":{\"fillmode\":\"overlay\",\"size\":10,\"solidity\":0.2}},\"type\":\"bar\"}],\"scattergeo\":[{\"type\":\"scattergeo\",\"marker\":{\"colorbar\":{\"outlinewidth\":0,\"ticks\":\"\"}}}],\"scatterpolar\":[{\"type\":\"scatterpolar\",\"marker\":{\"colorbar\":{\"outlinewidth\":0,\"ticks\":\"\"}}}],\"histogram\":[{\"marker\":{\"pattern\":{\"fillmode\":\"overlay\",\"size\":10,\"solidity\":0.2}},\"type\":\"histogram\"}],\"scattergl\":[{\"type\":\"scattergl\",\"marker\":{\"colorbar\":{\"outlinewidth\":0,\"ticks\":\"\"}}}],\"scatter3d\":[{\"type\":\"scatter3d\",\"line\":{\"colorbar\":{\"outlinewidth\":0,\"ticks\":\"\"}},\"marker\":{\"colorbar\":{\"outlinewidth\":0,\"ticks\":\"\"}}}],\"scattermapbox\":[{\"type\":\"scattermapbox\",\"marker\":{\"colorbar\":{\"outlinewidth\":0,\"ticks\":\"\"}}}],\"scatterternary\":[{\"type\":\"scatterternary\",\"marker\":{\"colorbar\":{\"outlinewidth\":0,\"ticks\":\"\"}}}],\"scattercarpet\":[{\"type\":\"scattercarpet\",\"marker\":{\"colorbar\":{\"outlinewidth\":0,\"ticks\":\"\"}}}],\"carpet\":[{\"aaxis\":{\"endlinecolor\":\"#2a3f5f\",\"gridcolor\":\"white\",\"linecolor\":\"white\",\"minorgridcolor\":\"white\",\"startlinecolor\":\"#2a3f5f\"},\"baxis\":{\"endlinecolor\":\"#2a3f5f\",\"gridcolor\":\"white\",\"linecolor\":\"white\",\"minorgridcolor\":\"white\",\"startlinecolor\":\"#2a3f5f\"},\"type\":\"carpet\"}],\"table\":[{\"cells\":{\"fill\":{\"color\":\"#EBF0F8\"},\"line\":{\"color\":\"white\"}},\"header\":{\"fill\":{\"color\":\"#C8D4E3\"},\"line\":{\"color\":\"white\"}},\"type\":\"table\"}],\"barpolar\":[{\"marker\":{\"line\":{\"color\":\"#E5ECF6\",\"width\":0.5},\"pattern\":{\"fillmode\":\"overlay\",\"size\":10,\"solidity\":0.2}},\"type\":\"barpolar\"}],\"pie\":[{\"automargin\":true,\"type\":\"pie\"}]},\"layout\":{\"autotypenumbers\":\"strict\",\"colorway\":[\"#636efa\",\"#EF553B\",\"#00cc96\",\"#ab63fa\",\"#FFA15A\",\"#19d3f3\",\"#FF6692\",\"#B6E880\",\"#FF97FF\",\"#FECB52\"],\"font\":{\"color\":\"#2a3f5f\"},\"hovermode\":\"closest\",\"hoverlabel\":{\"align\":\"left\"},\"paper_bgcolor\":\"white\",\"plot_bgcolor\":\"#E5ECF6\",\"polar\":{\"bgcolor\":\"#E5ECF6\",\"angularaxis\":{\"gridcolor\":\"white\",\"linecolor\":\"white\",\"ticks\":\"\"},\"radialaxis\":{\"gridcolor\":\"white\",\"linecolor\":\"white\",\"ticks\":\"\"}},\"ternary\":{\"bgcolor\":\"#E5ECF6\",\"aaxis\":{\"gridcolor\":\"white\",\"linecolor\":\"white\",\"ticks\":\"\"},\"baxis\":{\"gridcolor\":\"white\",\"linecolor\":\"white\",\"ticks\":\"\"},\"caxis\":{\"gridcolor\":\"white\",\"linecolor\":\"white\",\"ticks\":\"\"}},\"coloraxis\":{\"colorbar\":{\"outlinewidth\":0,\"ticks\":\"\"}},\"colorscale\":{\"sequential\":[[0.0,\"#0d0887\"],[0.1111111111111111,\"#46039f\"],[0.2222222222222222,\"#7201a8\"],[0.3333333333333333,\"#9c179e\"],[0.4444444444444444,\"#bd3786\"],[0.5555555555555556,\"#d8576b\"],[0.6666666666666666,\"#ed7953\"],[0.7777777777777778,\"#fb9f3a\"],[0.8888888888888888,\"#fdca26\"],[1.0,\"#f0f921\"]],\"sequentialminus\":[[0.0,\"#0d0887\"],[0.1111111111111111,\"#46039f\"],[0.2222222222222222,\"#7201a8\"],[0.3333333333333333,\"#9c179e\"],[0.4444444444444444,\"#bd3786\"],[0.5555555555555556,\"#d8576b\"],[0.6666666666666666,\"#ed7953\"],[0.7777777777777778,\"#fb9f3a\"],[0.8888888888888888,\"#fdca26\"],[1.0,\"#f0f921\"]],\"diverging\":[[0,\"#8e0152\"],[0.1,\"#c51b7d\"],[0.2,\"#de77ae\"],[0.3,\"#f1b6da\"],[0.4,\"#fde0ef\"],[0.5,\"#f7f7f7\"],[0.6,\"#e6f5d0\"],[0.7,\"#b8e186\"],[0.8,\"#7fbc41\"],[0.9,\"#4d9221\"],[1,\"#276419\"]]},\"xaxis\":{\"gridcolor\":\"white\",\"linecolor\":\"white\",\"ticks\":\"\",\"title\":{\"standoff\":15},\"zerolinecolor\":\"white\",\"automargin\":true,\"zerolinewidth\":2},\"yaxis\":{\"gridcolor\":\"white\",\"linecolor\":\"white\",\"ticks\":\"\",\"title\":{\"standoff\":15},\"zerolinecolor\":\"white\",\"automargin\":true,\"zerolinewidth\":2},\"scene\":{\"xaxis\":{\"backgroundcolor\":\"#E5ECF6\",\"gridcolor\":\"white\",\"linecolor\":\"white\",\"showbackground\":true,\"ticks\":\"\",\"zerolinecolor\":\"white\",\"gridwidth\":2},\"yaxis\":{\"backgroundcolor\":\"#E5ECF6\",\"gridcolor\":\"white\",\"linecolor\":\"white\",\"showbackground\":true,\"ticks\":\"\",\"zerolinecolor\":\"white\",\"gridwidth\":2},\"zaxis\":{\"backgroundcolor\":\"#E5ECF6\",\"gridcolor\":\"white\",\"linecolor\":\"white\",\"showbackground\":true,\"ticks\":\"\",\"zerolinecolor\":\"white\",\"gridwidth\":2}},\"shapedefaults\":{\"line\":{\"color\":\"#2a3f5f\"}},\"annotationdefaults\":{\"arrowcolor\":\"#2a3f5f\",\"arrowhead\":0,\"arrowwidth\":1},\"geo\":{\"bgcolor\":\"white\",\"landcolor\":\"#E5ECF6\",\"subunitcolor\":\"white\",\"showland\":true,\"showlakes\":true,\"lakecolor\":\"white\"},\"title\":{\"x\":0.05},\"mapbox\":{\"style\":\"light\"}}},\"xaxis\":{\"anchor\":\"y\",\"domain\":[0.0,1.0],\"title\":{\"text\":\"speed\"}},\"yaxis\":{\"anchor\":\"x\",\"domain\":[0.0,1.0],\"title\":{\"text\":\"consume\"}},\"coloraxis\":{\"colorbar\":{\"title\":{\"text\":\"fuel\"}},\"colorscale\":[[0.0,\"#0d0887\"],[0.1111111111111111,\"#46039f\"],[0.2222222222222222,\"#7201a8\"],[0.3333333333333333,\"#9c179e\"],[0.4444444444444444,\"#bd3786\"],[0.5555555555555556,\"#d8576b\"],[0.6666666666666666,\"#ed7953\"],[0.7777777777777778,\"#fb9f3a\"],[0.8888888888888888,\"#fdca26\"],[1.0,\"#f0f921\"]]},\"legend\":{\"tracegroupgap\":0,\"itemsizing\":\"constant\"},\"title\":{\"text\":\"Consume vs Speed\"}},                        {\"responsive\": true}                    ).then(function(){\n",
       "                            \n",
       "var gd = document.getElementById('18b08193-137b-40de-a3a1-644e138d0ecd');\n",
       "var x = new MutationObserver(function (mutations, observer) {{\n",
       "        var display = window.getComputedStyle(gd).display;\n",
       "        if (!display || display === 'none') {{\n",
       "            console.log([gd, 'removed!']);\n",
       "            Plotly.purge(gd);\n",
       "            observer.disconnect();\n",
       "        }}\n",
       "}});\n",
       "\n",
       "// Listen for the removal of the full notebook cells\n",
       "var notebookContainer = gd.closest('#notebook-container');\n",
       "if (notebookContainer) {{\n",
       "    x.observe(notebookContainer, {childList: true});\n",
       "}}\n",
       "\n",
       "// Listen for the clearing of the current output cell\n",
       "var outputEl = gd.closest('.output');\n",
       "if (outputEl) {{\n",
       "    x.observe(outputEl, {childList: true});\n",
       "}}\n",
       "\n",
       "                        })                };                });            </script>        </div>"
      ]
     },
     "metadata": {},
     "output_type": "display_data"
    }
   ],
   "source": [
    "px.scatter(measures,x='speed',y='consume',color='fuel',size='consume',title='Consume vs Speed')"
   ]
  },
  {
   "cell_type": "code",
   "execution_count": 199,
   "id": "0b2a191c",
   "metadata": {},
   "outputs": [],
   "source": [
    "from sklearn.model_selection import train_test_split\n",
    "from sklearn.preprocessing import MinMaxScaler\n",
    "from sklearn.preprocessing import StandardScaler"
   ]
  },
  {
   "cell_type": "code",
   "execution_count": 200,
   "id": "0ee746f1",
   "metadata": {},
   "outputs": [],
   "source": [
    "X = measures.drop('consume',axis = 1)\n",
    "y = measures['consume']"
   ]
  },
  {
   "cell_type": "code",
   "execution_count": 201,
   "id": "ad8472e7",
   "metadata": {},
   "outputs": [],
   "source": [
    "scaler = MinMaxScaler()\n",
    "X = scaler.fit_transform(X)"
   ]
  },
  {
   "cell_type": "code",
   "execution_count": 202,
   "id": "bcab4a2e",
   "metadata": {},
   "outputs": [],
   "source": [
    "z_scaler = StandardScaler()\n",
    "X = z_scaler.fit_transform(X)"
   ]
  },
  {
   "cell_type": "code",
   "execution_count": 203,
   "id": "3666ec17",
   "metadata": {},
   "outputs": [],
   "source": [
    "X_train, X_test, y_train, y_test = train_test_split(X, y, test_size=0.25, random_state = 1)"
   ]
  },
  {
   "cell_type": "code",
   "execution_count": 204,
   "id": "42f9c838",
   "metadata": {},
   "outputs": [],
   "source": [
    "from sklearn.linear_model import LinearRegression"
   ]
  },
  {
   "cell_type": "code",
   "execution_count": 205,
   "id": "a8eea7f1",
   "metadata": {},
   "outputs": [
    {
     "data": {
      "text/plain": [
       "0.02190636366734222"
      ]
     },
     "execution_count": 205,
     "metadata": {},
     "output_type": "execute_result"
    }
   ],
   "source": [
    "LR = LinearRegression()\n",
    "LR.fit(X_train, y_train)\n",
    "LR.score(X_test, y_test)"
   ]
  },
  {
   "cell_type": "code",
   "execution_count": null,
   "id": "48a89eed",
   "metadata": {},
   "outputs": [],
   "source": []
  },
  {
   "cell_type": "code",
   "execution_count": null,
   "id": "f84046af",
   "metadata": {},
   "outputs": [],
   "source": []
  }
 ],
 "metadata": {
  "kernelspec": {
   "display_name": "Python 3 (ipykernel)",
   "language": "python",
   "name": "python3"
  },
  "language_info": {
   "codemirror_mode": {
    "name": "ipython",
    "version": 3
   },
   "file_extension": ".py",
   "mimetype": "text/x-python",
   "name": "python",
   "nbconvert_exporter": "python",
   "pygments_lexer": "ipython3",
   "version": "3.9.13"
  }
 },
 "nbformat": 4,
 "nbformat_minor": 5
}
